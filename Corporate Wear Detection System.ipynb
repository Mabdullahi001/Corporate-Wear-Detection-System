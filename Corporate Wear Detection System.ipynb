{
  "nbformat": 4,
  "nbformat_minor": 0,
  "metadata": {
    "colab": {
      "provenance": [],
      "gpuType": "T4"
    },
    "kernelspec": {
      "name": "python3",
      "display_name": "Python 3"
    },
    "language_info": {
      "name": "python"
    },
    "accelerator": "GPU"
  },
  "cells": [
    {
      "cell_type": "code",
      "execution_count": 1,
      "metadata": {
        "colab": {
          "base_uri": "https://localhost:8080/"
        },
        "id": "OzS_2vatVrj1",
        "outputId": "d5f2064b-76f0-45a5-f1bb-13ad2e30c063"
      },
      "outputs": [
        {
          "output_type": "stream",
          "name": "stdout",
          "text": [
            "Mounted at /content/drive\n"
          ]
        }
      ],
      "source": [
        "# prompt: I want to mount my drive\n",
        "\n",
        "from google.colab import drive\n",
        "drive.mount('/content/drive', force_remount=True)"
      ]
    },
    {
      "cell_type": "code",
      "source": [
        "!unrar x \"/content/drive/MyDrive/Colab Notebooks/YOLO Dataset.rar\" /content/YOLO_Dataset_Main/"
      ],
      "metadata": {
        "colab": {
          "base_uri": "https://localhost:8080/"
        },
        "id": "9_TYQomMblAf",
        "outputId": "fc45b121-b368-4fe0-b5e7-79c0d35f148d"
      },
      "execution_count": 3,
      "outputs": [
        {
          "output_type": "stream",
          "name": "stdout",
          "text": [
            "\u001b[1;30;43mStreaming output truncated to the last 5000 lines.\u001b[0m\n",
            "Extracting  /content/YOLO_Dataset_Main/train/images/002986.jpg           \b\b\b\b 63%\b\b\b\b\b  OK \n",
            "Extracting  /content/YOLO_Dataset_Main/train/images/002988.jpg           \b\b\b\b 63%\b\b\b\b\b  OK \n",
            "Extracting  /content/YOLO_Dataset_Main/train/images/002989.jpg           \b\b\b\b 63%\b\b\b\b\b  OK \n",
            "Extracting  /content/YOLO_Dataset_Main/train/images/002990.jpg           \b\b\b\b 63%\b\b\b\b\b  OK \n",
            "Extracting  /content/YOLO_Dataset_Main/train/images/002991.jpg           \b\b\b\b 63%\b\b\b\b\b  OK \n",
            "Extracting  /content/YOLO_Dataset_Main/train/images/002992.jpg           \b\b\b\b 63%\b\b\b\b\b  OK \n",
            "Extracting  /content/YOLO_Dataset_Main/train/images/002993.jpg           \b\b\b\b 63%\b\b\b\b\b  OK \n",
            "Extracting  /content/YOLO_Dataset_Main/train/images/002994.jpg           \b\b\b\b 63%\b\b\b\b\b  OK \n",
            "Extracting  /content/YOLO_Dataset_Main/train/images/002995.jpg           \b\b\b\b 63%\b\b\b\b\b  OK \n",
            "Extracting  /content/YOLO_Dataset_Main/train/images/002996.jpg           \b\b\b\b 63%\b\b\b\b\b  OK \n",
            "Extracting  /content/YOLO_Dataset_Main/train/images/002997.jpg           \b\b\b\b 63%\b\b\b\b\b  OK \n",
            "Extracting  /content/YOLO_Dataset_Main/train/images/002998.jpg           \b\b\b\b 63%\b\b\b\b\b  OK \n",
            "Extracting  /content/YOLO_Dataset_Main/train/images/002999.jpg           \b\b\b\b 63%\b\b\b\b\b  OK \n",
            "Extracting  /content/YOLO_Dataset_Main/train/images/003000.jpg           \b\b\b\b 63%\b\b\b\b\b  OK \n",
            "Extracting  /content/YOLO_Dataset_Main/train/images/003001.jpg           \b\b\b\b 63%\b\b\b\b\b  OK \n",
            "Extracting  /content/YOLO_Dataset_Main/train/images/003002.jpg           \b\b\b\b 63%\b\b\b\b\b  OK \n",
            "Extracting  /content/YOLO_Dataset_Main/train/images/003003.jpg           \b\b\b\b 63%\b\b\b\b\b  OK \n",
            "Extracting  /content/YOLO_Dataset_Main/train/images/003004.jpg           \b\b\b\b 63%\b\b\b\b\b  OK \n",
            "Extracting  /content/YOLO_Dataset_Main/train/images/003005.jpg           \b\b\b\b 63%\b\b\b\b\b  OK \n",
            "Extracting  /content/YOLO_Dataset_Main/train/images/003006.jpg           \b\b\b\b 63%\b\b\b\b\b  OK \n",
            "Extracting  /content/YOLO_Dataset_Main/train/images/003007.jpg           \b\b\b\b 63%\b\b\b\b\b  OK \n",
            "Extracting  /content/YOLO_Dataset_Main/train/images/003009.jpg           \b\b\b\b 63%\b\b\b\b\b  OK \n",
            "Extracting  /content/YOLO_Dataset_Main/train/images/003010.jpg           \b\b\b\b 63%\b\b\b\b\b  OK \n",
            "Extracting  /content/YOLO_Dataset_Main/train/images/003011.jpg           \b\b\b\b 63%\b\b\b\b\b  OK \n",
            "Extracting  /content/YOLO_Dataset_Main/train/images/003013.jpg           \b\b\b\b 63%\b\b\b\b\b  OK \n",
            "Extracting  /content/YOLO_Dataset_Main/train/images/003014.jpg           \b\b\b\b 63%\b\b\b\b\b  OK \n",
            "Extracting  /content/YOLO_Dataset_Main/train/images/003015.jpg           \b\b\b\b 63%\b\b\b\b\b  OK \n",
            "Extracting  /content/YOLO_Dataset_Main/train/images/003016.jpg           \b\b\b\b 63%\b\b\b\b\b  OK \n",
            "Extracting  /content/YOLO_Dataset_Main/train/images/003017.jpg           \b\b\b\b 63%\b\b\b\b\b  OK \n",
            "Extracting  /content/YOLO_Dataset_Main/train/images/003018.jpg           \b\b\b\b 63%\b\b\b\b\b  OK \n",
            "Extracting  /content/YOLO_Dataset_Main/train/images/003019.jpg           \b\b\b\b 64%\b\b\b\b\b  OK \n",
            "Extracting  /content/YOLO_Dataset_Main/train/images/003020.jpg           \b\b\b\b 64%\b\b\b\b\b  OK \n",
            "Extracting  /content/YOLO_Dataset_Main/train/images/003021.jpg           \b\b\b\b 64%\b\b\b\b\b  OK \n",
            "Extracting  /content/YOLO_Dataset_Main/train/images/003022.jpg           \b\b\b\b 64%\b\b\b\b\b  OK \n",
            "Extracting  /content/YOLO_Dataset_Main/train/images/003024.jpg           \b\b\b\b 64%\b\b\b\b\b  OK \n",
            "Extracting  /content/YOLO_Dataset_Main/train/images/003026.jpg           \b\b\b\b 64%\b\b\b\b\b  OK \n",
            "Extracting  /content/YOLO_Dataset_Main/train/images/003027.jpg           \b\b\b\b 64%\b\b\b\b\b  OK \n",
            "Extracting  /content/YOLO_Dataset_Main/train/images/003028.jpg           \b\b\b\b 64%\b\b\b\b\b  OK \n",
            "Extracting  /content/YOLO_Dataset_Main/train/images/003030.jpg           \b\b\b\b 64%\b\b\b\b\b  OK \n",
            "Extracting  /content/YOLO_Dataset_Main/train/images/003031.jpg           \b\b\b\b 64%\b\b\b\b\b  OK \n",
            "Extracting  /content/YOLO_Dataset_Main/train/images/003032.jpg           \b\b\b\b 64%\b\b\b\b\b  OK \n",
            "Extracting  /content/YOLO_Dataset_Main/train/images/003033.jpg           \b\b\b\b 64%\b\b\b\b\b  OK \n",
            "Extracting  /content/YOLO_Dataset_Main/train/images/003034.jpg           \b\b\b\b 64%\b\b\b\b\b  OK \n",
            "Extracting  /content/YOLO_Dataset_Main/train/images/003035.jpg           \b\b\b\b 64%\b\b\b\b\b  OK \n",
            "Extracting  /content/YOLO_Dataset_Main/train/images/003036.jpg           \b\b\b\b 64%\b\b\b\b\b  OK \n",
            "Extracting  /content/YOLO_Dataset_Main/train/images/003037.jpg           \b\b\b\b 64%\b\b\b\b\b  OK \n",
            "Extracting  /content/YOLO_Dataset_Main/train/images/003038.jpg           \b\b\b\b 64%\b\b\b\b\b  OK \n",
            "Extracting  /content/YOLO_Dataset_Main/train/images/003039.jpg           \b\b\b\b 64%\b\b\b\b\b  OK \n",
            "Extracting  /content/YOLO_Dataset_Main/train/images/003040.jpg           \b\b\b\b 64%\b\b\b\b\b  OK \n",
            "Extracting  /content/YOLO_Dataset_Main/train/images/003041.jpg           \b\b\b\b 64%\b\b\b\b\b  OK \n",
            "Extracting  /content/YOLO_Dataset_Main/train/images/003042.jpg           \b\b\b\b 64%\b\b\b\b\b  OK \n",
            "Extracting  /content/YOLO_Dataset_Main/train/images/003043.jpg           \b\b\b\b 64%\b\b\b\b\b  OK \n",
            "Extracting  /content/YOLO_Dataset_Main/train/images/003044.jpg           \b\b\b\b 64%\b\b\b\b\b  OK \n",
            "Extracting  /content/YOLO_Dataset_Main/train/images/003046.jpg           \b\b\b\b 64%\b\b\b\b\b  OK \n",
            "Extracting  /content/YOLO_Dataset_Main/train/images/003047.jpg           \b\b\b\b 64%\b\b\b\b\b  OK \n",
            "Extracting  /content/YOLO_Dataset_Main/train/images/003048.jpg           \b\b\b\b 64%\b\b\b\b\b  OK \n",
            "Extracting  /content/YOLO_Dataset_Main/train/images/003049.jpg           \b\b\b\b 64%\b\b\b\b\b  OK \n",
            "Extracting  /content/YOLO_Dataset_Main/train/images/003050.jpg           \b\b\b\b 64%\b\b\b\b\b  OK \n",
            "Extracting  /content/YOLO_Dataset_Main/train/images/003051.jpg           \b\b\b\b 64%\b\b\b\b\b  OK \n",
            "Extracting  /content/YOLO_Dataset_Main/train/images/003052.jpg           \b\b\b\b 64%\b\b\b\b\b  OK \n",
            "Extracting  /content/YOLO_Dataset_Main/train/images/003053.jpg           \b\b\b\b 64%\b\b\b\b\b  OK \n",
            "Extracting  /content/YOLO_Dataset_Main/train/images/003054.jpg           \b\b\b\b 64%\b\b\b\b\b  OK \n",
            "Extracting  /content/YOLO_Dataset_Main/train/images/003055.jpg           \b\b\b\b 65%\b\b\b\b\b  OK \n",
            "Extracting  /content/YOLO_Dataset_Main/train/images/003056.jpg           \b\b\b\b 65%\b\b\b\b\b  OK \n",
            "Extracting  /content/YOLO_Dataset_Main/train/images/003057.jpg           \b\b\b\b 65%\b\b\b\b\b  OK \n",
            "Extracting  /content/YOLO_Dataset_Main/train/images/003059.jpg           \b\b\b\b 65%\b\b\b\b\b  OK \n",
            "Extracting  /content/YOLO_Dataset_Main/train/images/003060.jpg           \b\b\b\b 65%\b\b\b\b\b  OK \n",
            "Extracting  /content/YOLO_Dataset_Main/train/images/003062.jpg           \b\b\b\b 65%\b\b\b\b\b  OK \n",
            "Extracting  /content/YOLO_Dataset_Main/train/images/003063.jpg           \b\b\b\b 65%\b\b\b\b\b  OK \n",
            "Extracting  /content/YOLO_Dataset_Main/train/images/003064.jpg           \b\b\b\b 65%\b\b\b\b\b  OK \n",
            "Extracting  /content/YOLO_Dataset_Main/train/images/003065.jpg           \b\b\b\b 65%\b\b\b\b\b  OK \n",
            "Extracting  /content/YOLO_Dataset_Main/train/images/003066.jpg           \b\b\b\b 65%\b\b\b\b\b  OK \n",
            "Extracting  /content/YOLO_Dataset_Main/train/images/003067.jpg           \b\b\b\b 65%\b\b\b\b\b  OK \n",
            "Extracting  /content/YOLO_Dataset_Main/train/images/003068.jpg           \b\b\b\b 65%\b\b\b\b\b  OK \n",
            "Extracting  /content/YOLO_Dataset_Main/train/images/003069.jpg           \b\b\b\b 65%\b\b\b\b\b  OK \n",
            "Extracting  /content/YOLO_Dataset_Main/train/images/003070.jpg           \b\b\b\b 65%\b\b\b\b\b  OK \n",
            "Extracting  /content/YOLO_Dataset_Main/train/images/003071.jpg           \b\b\b\b 65%\b\b\b\b\b  OK \n",
            "Extracting  /content/YOLO_Dataset_Main/train/images/003072.jpg           \b\b\b\b 65%\b\b\b\b\b  OK \n",
            "Extracting  /content/YOLO_Dataset_Main/train/images/003074.jpg           \b\b\b\b 65%\b\b\b\b\b  OK \n",
            "Extracting  /content/YOLO_Dataset_Main/train/images/003075.jpg           \b\b\b\b 65%\b\b\b\b\b  OK \n",
            "Extracting  /content/YOLO_Dataset_Main/train/images/003076.jpg           \b\b\b\b 65%\b\b\b\b\b  OK \n",
            "Extracting  /content/YOLO_Dataset_Main/train/images/003078.jpg           \b\b\b\b 65%\b\b\b\b\b  OK \n",
            "Extracting  /content/YOLO_Dataset_Main/train/images/003079.jpg           \b\b\b\b 65%\b\b\b\b\b  OK \n",
            "Extracting  /content/YOLO_Dataset_Main/train/images/003080.jpg           \b\b\b\b 65%\b\b\b\b\b  OK \n",
            "Extracting  /content/YOLO_Dataset_Main/train/images/003082.jpg           \b\b\b\b 65%\b\b\b\b\b  OK \n",
            "Extracting  /content/YOLO_Dataset_Main/train/images/003084.jpg           \b\b\b\b 65%\b\b\b\b\b  OK \n",
            "Extracting  /content/YOLO_Dataset_Main/train/images/003085.jpg           \b\b\b\b 65%\b\b\b\b\b  OK \n",
            "Extracting  /content/YOLO_Dataset_Main/train/images/003086.jpg           \b\b\b\b 65%\b\b\b\b\b  OK \n",
            "Extracting  /content/YOLO_Dataset_Main/train/images/003087.jpg           \b\b\b\b 65%\b\b\b\b\b  OK \n",
            "Extracting  /content/YOLO_Dataset_Main/train/images/003088.jpg           \b\b\b\b 65%\b\b\b\b\b  OK \n",
            "Extracting  /content/YOLO_Dataset_Main/train/images/003089.jpg           \b\b\b\b 65%\b\b\b\b\b  OK \n",
            "Extracting  /content/YOLO_Dataset_Main/train/images/003091.jpg           \b\b\b\b 65%\b\b\b\b\b  OK \n",
            "Extracting  /content/YOLO_Dataset_Main/train/images/003092.jpg           \b\b\b\b 66%\b\b\b\b\b  OK \n",
            "Extracting  /content/YOLO_Dataset_Main/train/images/003093.jpg           \b\b\b\b 66%\b\b\b\b\b  OK \n",
            "Extracting  /content/YOLO_Dataset_Main/train/images/003095.jpg           \b\b\b\b 66%\b\b\b\b\b  OK \n",
            "Extracting  /content/YOLO_Dataset_Main/train/images/003096.jpg           \b\b\b\b 66%\b\b\b\b\b  OK \n",
            "Extracting  /content/YOLO_Dataset_Main/train/images/003097.jpg           \b\b\b\b 66%\b\b\b\b\b  OK \n",
            "Extracting  /content/YOLO_Dataset_Main/train/images/003099.jpg           \b\b\b\b 66%\b\b\b\b\b  OK \n",
            "Extracting  /content/YOLO_Dataset_Main/train/images/003100.jpg           \b\b\b\b 66%\b\b\b\b\b  OK \n",
            "Extracting  /content/YOLO_Dataset_Main/train/images/003101.jpg           \b\b\b\b 66%\b\b\b\b\b  OK \n",
            "Extracting  /content/YOLO_Dataset_Main/train/images/003102.jpg           \b\b\b\b 66%\b\b\b\b\b  OK \n",
            "Extracting  /content/YOLO_Dataset_Main/train/images/003103.jpg           \b\b\b\b 66%\b\b\b\b\b  OK \n",
            "Extracting  /content/YOLO_Dataset_Main/train/images/003104.jpg           \b\b\b\b 66%\b\b\b\b\b  OK \n",
            "Extracting  /content/YOLO_Dataset_Main/train/images/003105.jpg           \b\b\b\b 66%\b\b\b\b\b  OK \n",
            "Extracting  /content/YOLO_Dataset_Main/train/images/003106.jpg           \b\b\b\b 66%\b\b\b\b\b  OK \n",
            "Extracting  /content/YOLO_Dataset_Main/train/images/003107.jpg           \b\b\b\b 66%\b\b\b\b\b  OK \n",
            "Extracting  /content/YOLO_Dataset_Main/train/images/003108.jpg           \b\b\b\b 66%\b\b\b\b\b  OK \n",
            "Extracting  /content/YOLO_Dataset_Main/train/images/003109.jpg           \b\b\b\b 66%\b\b\b\b\b  OK \n",
            "Extracting  /content/YOLO_Dataset_Main/train/images/003110.jpg           \b\b\b\b 66%\b\b\b\b\b  OK \n",
            "Extracting  /content/YOLO_Dataset_Main/train/images/003112.jpg           \b\b\b\b 66%\b\b\b\b\b  OK \n",
            "Extracting  /content/YOLO_Dataset_Main/train/images/003113.jpg           \b\b\b\b 66%\b\b\b\b\b  OK \n",
            "Extracting  /content/YOLO_Dataset_Main/train/images/003115.jpg           \b\b\b\b 66%\b\b\b\b\b  OK \n",
            "Extracting  /content/YOLO_Dataset_Main/train/images/003116.jpg           \b\b\b\b 66%\b\b\b\b\b  OK \n",
            "Extracting  /content/YOLO_Dataset_Main/train/images/003117.jpg           \b\b\b\b 66%\b\b\b\b\b  OK \n",
            "Extracting  /content/YOLO_Dataset_Main/train/images/003118.jpg           \b\b\b\b 66%\b\b\b\b\b  OK \n",
            "Extracting  /content/YOLO_Dataset_Main/train/images/003120.jpg           \b\b\b\b 66%\b\b\b\b\b  OK \n",
            "Extracting  /content/YOLO_Dataset_Main/train/images/003121.jpg           \b\b\b\b 66%\b\b\b\b\b  OK \n",
            "Extracting  /content/YOLO_Dataset_Main/train/images/003122.jpg           \b\b\b\b 67%\b\b\b\b\b  OK \n",
            "Extracting  /content/YOLO_Dataset_Main/train/images/003123.jpg           \b\b\b\b 67%\b\b\b\b\b  OK \n",
            "Extracting  /content/YOLO_Dataset_Main/train/images/003124.jpg           \b\b\b\b 67%\b\b\b\b\b  OK \n",
            "Extracting  /content/YOLO_Dataset_Main/train/images/003125.jpg           \b\b\b\b 67%\b\b\b\b\b  OK \n",
            "Extracting  /content/YOLO_Dataset_Main/train/images/003126.jpg           \b\b\b\b 67%\b\b\b\b\b  OK \n",
            "Extracting  /content/YOLO_Dataset_Main/train/images/003127.jpg           \b\b\b\b 67%\b\b\b\b\b  OK \n",
            "Extracting  /content/YOLO_Dataset_Main/train/images/003128.jpg           \b\b\b\b 67%\b\b\b\b\b  OK \n",
            "Extracting  /content/YOLO_Dataset_Main/train/images/003129.jpg           \b\b\b\b 67%\b\b\b\b\b  OK \n",
            "Extracting  /content/YOLO_Dataset_Main/train/images/003130.jpg           \b\b\b\b 67%\b\b\b\b\b  OK \n",
            "Extracting  /content/YOLO_Dataset_Main/train/images/003131.jpg           \b\b\b\b 67%\b\b\b\b\b  OK \n",
            "Extracting  /content/YOLO_Dataset_Main/train/images/003132.jpg           \b\b\b\b 67%\b\b\b\b\b  OK \n",
            "Extracting  /content/YOLO_Dataset_Main/train/images/003133.jpg           \b\b\b\b 67%\b\b\b\b\b  OK \n",
            "Extracting  /content/YOLO_Dataset_Main/train/images/003134.jpg           \b\b\b\b 67%\b\b\b\b\b  OK \n",
            "Extracting  /content/YOLO_Dataset_Main/train/images/003135.jpg           \b\b\b\b 67%\b\b\b\b\b  OK \n",
            "Extracting  /content/YOLO_Dataset_Main/train/images/003136.jpg           \b\b\b\b 67%\b\b\b\b\b  OK \n",
            "Extracting  /content/YOLO_Dataset_Main/train/images/003137.jpg           \b\b\b\b 67%\b\b\b\b\b  OK \n",
            "Extracting  /content/YOLO_Dataset_Main/train/images/003139.jpg           \b\b\b\b 67%\b\b\b\b\b  OK \n",
            "Extracting  /content/YOLO_Dataset_Main/train/images/003140.jpg           \b\b\b\b 67%\b\b\b\b\b  OK \n",
            "Extracting  /content/YOLO_Dataset_Main/train/images/003142.jpg           \b\b\b\b 67%\b\b\b\b\b  OK \n",
            "Extracting  /content/YOLO_Dataset_Main/train/images/003145.jpg           \b\b\b\b 67%\b\b\b\b\b  OK \n",
            "Extracting  /content/YOLO_Dataset_Main/train/images/003146.jpg           \b\b\b\b 67%\b\b\b\b\b  OK \n",
            "Extracting  /content/YOLO_Dataset_Main/train/images/003149.jpg           \b\b\b\b 67%\b\b\b\b\b  OK \n",
            "Extracting  /content/YOLO_Dataset_Main/train/images/003150.jpg           \b\b\b\b 67%\b\b\b\b\b  OK \n",
            "Extracting  /content/YOLO_Dataset_Main/train/images/003151.jpg           \b\b\b\b 67%\b\b\b\b\b  OK \n",
            "Extracting  /content/YOLO_Dataset_Main/train/images/003153.jpg           \b\b\b\b 67%\b\b\b\b\b  OK \n",
            "Extracting  /content/YOLO_Dataset_Main/train/images/003154.jpg           \b\b\b\b 67%\b\b\b\b\b  OK \n",
            "Extracting  /content/YOLO_Dataset_Main/train/images/003155.jpg           \b\b\b\b 67%\b\b\b\b\b  OK \n",
            "Extracting  /content/YOLO_Dataset_Main/train/images/003157.jpg           \b\b\b\b 67%\b\b\b\b\b  OK \n",
            "Extracting  /content/YOLO_Dataset_Main/train/images/003158.jpg           \b\b\b\b 67%\b\b\b\b\b  OK \n",
            "Extracting  /content/YOLO_Dataset_Main/train/images/003160.jpg           \b\b\b\b 67%\b\b\b\b\b  OK \n",
            "Extracting  /content/YOLO_Dataset_Main/train/images/003161.jpg           \b\b\b\b 67%\b\b\b\b\b  OK \n",
            "Extracting  /content/YOLO_Dataset_Main/train/images/003162.jpg           \b\b\b\b 67%\b\b\b\b\b  OK \n",
            "Extracting  /content/YOLO_Dataset_Main/train/images/003163.jpg           \b\b\b\b 68%\b\b\b\b\b  OK \n",
            "Extracting  /content/YOLO_Dataset_Main/train/images/003164.jpg           \b\b\b\b 68%\b\b\b\b\b  OK \n",
            "Extracting  /content/YOLO_Dataset_Main/train/images/003165.jpg           \b\b\b\b 68%\b\b\b\b\b  OK \n",
            "Extracting  /content/YOLO_Dataset_Main/train/images/003168.jpg           \b\b\b\b 68%\b\b\b\b\b  OK \n",
            "Extracting  /content/YOLO_Dataset_Main/train/images/003169.jpg           \b\b\b\b 68%\b\b\b\b\b  OK \n",
            "Extracting  /content/YOLO_Dataset_Main/train/images/003171.jpg           \b\b\b\b 68%\b\b\b\b\b  OK \n",
            "Extracting  /content/YOLO_Dataset_Main/train/images/003172.jpg           \b\b\b\b 68%\b\b\b\b\b  OK \n",
            "Extracting  /content/YOLO_Dataset_Main/train/images/003173.jpg           \b\b\b\b 68%\b\b\b\b\b  OK \n",
            "Extracting  /content/YOLO_Dataset_Main/train/images/003174.jpg           \b\b\b\b 68%\b\b\b\b\b  OK \n",
            "Extracting  /content/YOLO_Dataset_Main/train/images/003175.jpg           \b\b\b\b 68%\b\b\b\b\b  OK \n",
            "Extracting  /content/YOLO_Dataset_Main/train/images/003178.jpg           \b\b\b\b 68%\b\b\b\b\b  OK \n",
            "Extracting  /content/YOLO_Dataset_Main/train/images/003179.jpg           \b\b\b\b 68%\b\b\b\b\b  OK \n",
            "Extracting  /content/YOLO_Dataset_Main/train/images/003180.jpg           \b\b\b\b 68%\b\b\b\b\b  OK \n",
            "Extracting  /content/YOLO_Dataset_Main/train/images/003181.jpg           \b\b\b\b 68%\b\b\b\b\b  OK \n",
            "Extracting  /content/YOLO_Dataset_Main/train/images/003182.jpg           \b\b\b\b 68%\b\b\b\b\b  OK \n",
            "Extracting  /content/YOLO_Dataset_Main/train/images/003183.jpg           \b\b\b\b 68%\b\b\b\b\b  OK \n",
            "Extracting  /content/YOLO_Dataset_Main/train/images/003184.jpg           \b\b\b\b 68%\b\b\b\b\b  OK \n",
            "Extracting  /content/YOLO_Dataset_Main/train/images/003185.jpg           \b\b\b\b 68%\b\b\b\b\b  OK \n",
            "Extracting  /content/YOLO_Dataset_Main/train/images/003187.jpg           \b\b\b\b 68%\b\b\b\b\b  OK \n",
            "Extracting  /content/YOLO_Dataset_Main/train/images/003188.jpg           \b\b\b\b 68%\b\b\b\b\b  OK \n",
            "Extracting  /content/YOLO_Dataset_Main/train/images/003189.jpg           \b\b\b\b 68%\b\b\b\b\b  OK \n",
            "Extracting  /content/YOLO_Dataset_Main/train/images/003190.jpg           \b\b\b\b 68%\b\b\b\b\b  OK \n",
            "Extracting  /content/YOLO_Dataset_Main/train/images/003191.jpg           \b\b\b\b 68%\b\b\b\b\b  OK \n",
            "Extracting  /content/YOLO_Dataset_Main/train/images/003192.jpg           \b\b\b\b 68%\b\b\b\b\b  OK \n",
            "Extracting  /content/YOLO_Dataset_Main/train/images/003195.jpg           \b\b\b\b 68%\b\b\b\b\b  OK \n",
            "Extracting  /content/YOLO_Dataset_Main/train/images/003197.jpg           \b\b\b\b 68%\b\b\b\b\b  OK \n",
            "Extracting  /content/YOLO_Dataset_Main/train/images/003199.jpg           \b\b\b\b 68%\b\b\b\b\b  OK \n",
            "Extracting  /content/YOLO_Dataset_Main/train/images/003200.jpg           \b\b\b\b 68%\b\b\b\b\b  OK \n",
            "Extracting  /content/YOLO_Dataset_Main/train/images/003201.jpg           \b\b\b\b 68%\b\b\b\b\b  OK \n",
            "Extracting  /content/YOLO_Dataset_Main/train/images/003203.jpg           \b\b\b\b 68%\b\b\b\b\b  OK \n",
            "Extracting  /content/YOLO_Dataset_Main/train/images/003204.jpg           \b\b\b\b 68%\b\b\b\b\b  OK \n",
            "Extracting  /content/YOLO_Dataset_Main/train/images/003205.jpg           \b\b\b\b 68%\b\b\b\b\b  OK \n",
            "Extracting  /content/YOLO_Dataset_Main/train/images/003206.jpg           \b\b\b\b 68%\b\b\b\b\b  OK \n",
            "Extracting  /content/YOLO_Dataset_Main/train/images/003207.jpg           \b\b\b\b 68%\b\b\b\b\b  OK \n",
            "Extracting  /content/YOLO_Dataset_Main/train/images/003208.jpg           \b\b\b\b 68%\b\b\b\b\b  OK \n",
            "Extracting  /content/YOLO_Dataset_Main/train/images/003210.jpg           \b\b\b\b 68%\b\b\b\b\b  OK \n",
            "Extracting  /content/YOLO_Dataset_Main/train/images/003211.jpg           \b\b\b\b 68%\b\b\b\b\b  OK \n",
            "Extracting  /content/YOLO_Dataset_Main/train/images/003212.jpg           \b\b\b\b 68%\b\b\b\b\b  OK \n",
            "Extracting  /content/YOLO_Dataset_Main/train/images/003213.jpg           \b\b\b\b 68%\b\b\b\b\b  OK \n",
            "Extracting  /content/YOLO_Dataset_Main/train/images/003214.jpg           \b\b\b\b 68%\b\b\b\b\b  OK \n",
            "Extracting  /content/YOLO_Dataset_Main/train/images/003215.jpg           \b\b\b\b 69%\b\b\b\b\b  OK \n",
            "Extracting  /content/YOLO_Dataset_Main/train/images/003216.jpg           \b\b\b\b 69%\b\b\b\b\b  OK \n",
            "Extracting  /content/YOLO_Dataset_Main/train/images/003217.jpg           \b\b\b\b 69%\b\b\b\b\b  OK \n",
            "Extracting  /content/YOLO_Dataset_Main/train/images/003218.jpg           \b\b\b\b 69%\b\b\b\b\b  OK \n",
            "Extracting  /content/YOLO_Dataset_Main/train/images/003219.jpg           \b\b\b\b 69%\b\b\b\b\b  OK \n",
            "Extracting  /content/YOLO_Dataset_Main/train/images/003220.jpg           \b\b\b\b 69%\b\b\b\b\b  OK \n",
            "Extracting  /content/YOLO_Dataset_Main/train/images/003222.jpg           \b\b\b\b 69%\b\b\b\b\b  OK \n",
            "Extracting  /content/YOLO_Dataset_Main/train/images/003223.jpg           \b\b\b\b 69%\b\b\b\b\b  OK \n",
            "Extracting  /content/YOLO_Dataset_Main/train/images/003224.jpg           \b\b\b\b 69%\b\b\b\b\b  OK \n",
            "Extracting  /content/YOLO_Dataset_Main/train/images/003225.jpg           \b\b\b\b 69%\b\b\b\b\b  OK \n",
            "Extracting  /content/YOLO_Dataset_Main/train/images/003226.jpg           \b\b\b\b 69%\b\b\b\b\b  OK \n",
            "Extracting  /content/YOLO_Dataset_Main/train/images/003227.jpg           \b\b\b\b 69%\b\b\b\b\b  OK \n",
            "Extracting  /content/YOLO_Dataset_Main/train/images/003228.jpg           \b\b\b\b 69%\b\b\b\b\b  OK \n",
            "Extracting  /content/YOLO_Dataset_Main/train/images/003229.jpg           \b\b\b\b 69%\b\b\b\b\b  OK \n",
            "Extracting  /content/YOLO_Dataset_Main/train/images/003230.jpg           \b\b\b\b 69%\b\b\b\b\b  OK \n",
            "Extracting  /content/YOLO_Dataset_Main/train/images/003231.jpg           \b\b\b\b 69%\b\b\b\b\b  OK \n",
            "Extracting  /content/YOLO_Dataset_Main/train/images/003232.jpg           \b\b\b\b 69%\b\b\b\b\b  OK \n",
            "Extracting  /content/YOLO_Dataset_Main/train/images/003233.jpg           \b\b\b\b 69%\b\b\b\b\b  OK \n",
            "Extracting  /content/YOLO_Dataset_Main/train/images/003235.jpg           \b\b\b\b 69%\b\b\b\b\b  OK \n",
            "Extracting  /content/YOLO_Dataset_Main/train/images/003237.jpg           \b\b\b\b 69%\b\b\b\b\b  OK \n",
            "Extracting  /content/YOLO_Dataset_Main/train/images/003238.jpg           \b\b\b\b 69%\b\b\b\b\b  OK \n",
            "Extracting  /content/YOLO_Dataset_Main/train/images/003239.jpg           \b\b\b\b 69%\b\b\b\b\b  OK \n",
            "Extracting  /content/YOLO_Dataset_Main/train/images/003240.jpg           \b\b\b\b 69%\b\b\b\b\b  OK \n",
            "Extracting  /content/YOLO_Dataset_Main/train/images/003241.jpg           \b\b\b\b 69%\b\b\b\b\b  OK \n",
            "Extracting  /content/YOLO_Dataset_Main/train/images/003242.jpg           \b\b\b\b 69%\b\b\b\b\b  OK \n",
            "Extracting  /content/YOLO_Dataset_Main/train/images/003243.jpg           \b\b\b\b 69%\b\b\b\b\b  OK \n",
            "Extracting  /content/YOLO_Dataset_Main/train/images/003244.jpg           \b\b\b\b 69%\b\b\b\b\b  OK \n",
            "Extracting  /content/YOLO_Dataset_Main/train/images/003245.jpg           \b\b\b\b 69%\b\b\b\b\b  OK \n",
            "Extracting  /content/YOLO_Dataset_Main/train/images/003246.jpg           \b\b\b\b 69%\b\b\b\b\b  OK \n",
            "Extracting  /content/YOLO_Dataset_Main/train/images/003247.jpg           \b\b\b\b 69%\b\b\b\b\b  OK \n",
            "Extracting  /content/YOLO_Dataset_Main/train/images/003248.jpg           \b\b\b\b 69%\b\b\b\b\b  OK \n",
            "Extracting  /content/YOLO_Dataset_Main/train/images/003249.jpg           \b\b\b\b 69%\b\b\b\b\b  OK \n",
            "Extracting  /content/YOLO_Dataset_Main/train/images/003250.jpg           \b\b\b\b 69%\b\b\b\b\b  OK \n",
            "Extracting  /content/YOLO_Dataset_Main/train/images/003251.jpg           \b\b\b\b 69%\b\b\b\b\b  OK \n",
            "Extracting  /content/YOLO_Dataset_Main/train/images/003252.jpg           \b\b\b\b 69%\b\b\b\b\b  OK \n",
            "Extracting  /content/YOLO_Dataset_Main/train/images/003253.jpg           \b\b\b\b 69%\b\b\b\b\b  OK \n",
            "Extracting  /content/YOLO_Dataset_Main/train/images/003255.jpg           \b\b\b\b 69%\b\b\b\b\b  OK \n",
            "Extracting  /content/YOLO_Dataset_Main/train/images/003257.jpg           \b\b\b\b 69%\b\b\b\b\b  OK \n",
            "Extracting  /content/YOLO_Dataset_Main/train/images/003258.jpg           \b\b\b\b 69%\b\b\b\b\b  OK \n",
            "Extracting  /content/YOLO_Dataset_Main/train/images/003259.jpg           \b\b\b\b 69%\b\b\b\b\b  OK \n",
            "Extracting  /content/YOLO_Dataset_Main/train/images/003261.jpg           \b\b\b\b 69%\b\b\b\b\b  OK \n",
            "Extracting  /content/YOLO_Dataset_Main/train/images/003262.jpg           \b\b\b\b 69%\b\b\b\b\b  OK \n",
            "Extracting  /content/YOLO_Dataset_Main/train/images/003264.jpg           \b\b\b\b 69%\b\b\b\b\b  OK \n",
            "Extracting  /content/YOLO_Dataset_Main/train/images/003265.jpg           \b\b\b\b 69%\b\b\b\b\b  OK \n",
            "Extracting  /content/YOLO_Dataset_Main/train/images/003267.jpg           \b\b\b\b 69%\b\b\b\b\b  OK \n",
            "Extracting  /content/YOLO_Dataset_Main/train/images/003268.jpg           \b\b\b\b 69%\b\b\b\b\b  OK \n",
            "Extracting  /content/YOLO_Dataset_Main/train/images/003269.jpg           \b\b\b\b 70%\b\b\b\b\b  OK \n",
            "Extracting  /content/YOLO_Dataset_Main/train/images/003270.jpg           \b\b\b\b 70%\b\b\b\b\b  OK \n",
            "Extracting  /content/YOLO_Dataset_Main/train/images/003271.jpg           \b\b\b\b 70%\b\b\b\b\b  OK \n",
            "Extracting  /content/YOLO_Dataset_Main/train/images/003272.jpg           \b\b\b\b 70%\b\b\b\b\b  OK \n",
            "Extracting  /content/YOLO_Dataset_Main/train/images/003273.jpg           \b\b\b\b 70%\b\b\b\b\b  OK \n",
            "Extracting  /content/YOLO_Dataset_Main/train/images/003275.jpg           \b\b\b\b 70%\b\b\b\b\b  OK \n",
            "Extracting  /content/YOLO_Dataset_Main/train/images/003276.jpg           \b\b\b\b 70%\b\b\b\b\b  OK \n",
            "Extracting  /content/YOLO_Dataset_Main/train/images/003278.jpg           \b\b\b\b 70%\b\b\b\b\b  OK \n",
            "Extracting  /content/YOLO_Dataset_Main/train/images/003279.jpg           \b\b\b\b 70%\b\b\b\b\b  OK \n",
            "Extracting  /content/YOLO_Dataset_Main/train/images/003280.jpg           \b\b\b\b 70%\b\b\b\b\b  OK \n",
            "Extracting  /content/YOLO_Dataset_Main/train/images/003281.jpg           \b\b\b\b 70%\b\b\b\b\b  OK \n",
            "Extracting  /content/YOLO_Dataset_Main/train/images/003282.jpg           \b\b\b\b 70%\b\b\b\b\b  OK \n",
            "Extracting  /content/YOLO_Dataset_Main/train/images/003284.jpg           \b\b\b\b 70%\b\b\b\b\b  OK \n",
            "Extracting  /content/YOLO_Dataset_Main/train/images/003285.jpg           \b\b\b\b 70%\b\b\b\b\b  OK \n",
            "Extracting  /content/YOLO_Dataset_Main/train/images/003286.jpg           \b\b\b\b 70%\b\b\b\b\b  OK \n",
            "Extracting  /content/YOLO_Dataset_Main/train/images/003288.jpg           \b\b\b\b 70%\b\b\b\b\b  OK \n",
            "Extracting  /content/YOLO_Dataset_Main/train/images/003290.jpg           \b\b\b\b 70%\b\b\b\b\b  OK \n",
            "Extracting  /content/YOLO_Dataset_Main/train/images/003291.jpg           \b\b\b\b 70%\b\b\b\b\b  OK \n",
            "Extracting  /content/YOLO_Dataset_Main/train/images/003292.jpg           \b\b\b\b 70%\b\b\b\b\b  OK \n",
            "Extracting  /content/YOLO_Dataset_Main/train/images/003293.jpg           \b\b\b\b 70%\b\b\b\b\b  OK \n",
            "Extracting  /content/YOLO_Dataset_Main/train/images/003294.jpg           \b\b\b\b 70%\b\b\b\b\b  OK \n",
            "Extracting  /content/YOLO_Dataset_Main/train/images/003298.jpg           \b\b\b\b 70%\b\b\b\b\b  OK \n",
            "Extracting  /content/YOLO_Dataset_Main/train/images/003299.jpg           \b\b\b\b 70%\b\b\b\b\b  OK \n",
            "Extracting  /content/YOLO_Dataset_Main/train/images/003301.jpg           \b\b\b\b 70%\b\b\b\b\b  OK \n",
            "Extracting  /content/YOLO_Dataset_Main/train/images/003302.jpg           \b\b\b\b 70%\b\b\b\b\b  OK \n",
            "Extracting  /content/YOLO_Dataset_Main/train/images/003303.jpg           \b\b\b\b 70%\b\b\b\b\b  OK \n",
            "Extracting  /content/YOLO_Dataset_Main/train/images/003305.jpg           \b\b\b\b 70%\b\b\b\b\b  OK \n",
            "Extracting  /content/YOLO_Dataset_Main/train/images/003306.jpg           \b\b\b\b 70%\b\b\b\b\b  OK \n",
            "Extracting  /content/YOLO_Dataset_Main/train/images/003307.jpg           \b\b\b\b 70%\b\b\b\b\b  OK \n",
            "Extracting  /content/YOLO_Dataset_Main/train/images/003308.jpg           \b\b\b\b 70%\b\b\b\b\b  OK \n",
            "Extracting  /content/YOLO_Dataset_Main/train/images/003309.jpg           \b\b\b\b 70%\b\b\b\b\b  OK \n",
            "Extracting  /content/YOLO_Dataset_Main/train/images/003310.jpg           \b\b\b\b 70%\b\b\b\b\b  OK \n",
            "Extracting  /content/YOLO_Dataset_Main/train/images/003311.jpg           \b\b\b\b 70%\b\b\b\b\b  OK \n",
            "Extracting  /content/YOLO_Dataset_Main/train/images/003312.jpg           \b\b\b\b 70%\b\b\b\b\b  OK \n",
            "Extracting  /content/YOLO_Dataset_Main/train/images/003313.jpg           \b\b\b\b 70%\b\b\b\b\b  OK \n",
            "Extracting  /content/YOLO_Dataset_Main/train/images/003314.jpg           \b\b\b\b 70%\b\b\b\b\b  OK \n",
            "Extracting  /content/YOLO_Dataset_Main/train/images/003316.jpg           \b\b\b\b 71%\b\b\b\b\b  OK \n",
            "Extracting  /content/YOLO_Dataset_Main/train/images/003319.jpg           \b\b\b\b 71%\b\b\b\b\b  OK \n",
            "Extracting  /content/YOLO_Dataset_Main/train/images/003320.jpg           \b\b\b\b 71%\b\b\b\b\b  OK \n",
            "Extracting  /content/YOLO_Dataset_Main/train/images/003322.jpg           \b\b\b\b 71%\b\b\b\b\b  OK \n",
            "Extracting  /content/YOLO_Dataset_Main/train/images/003323.jpg           \b\b\b\b 71%\b\b\b\b\b  OK \n",
            "Extracting  /content/YOLO_Dataset_Main/train/images/003324.jpg           \b\b\b\b 71%\b\b\b\b\b  OK \n",
            "Extracting  /content/YOLO_Dataset_Main/train/images/003325.jpg           \b\b\b\b 71%\b\b\b\b\b  OK \n",
            "Extracting  /content/YOLO_Dataset_Main/train/images/003326.jpg           \b\b\b\b 71%\b\b\b\b\b  OK \n",
            "Extracting  /content/YOLO_Dataset_Main/train/images/003327.jpg           \b\b\b\b 71%\b\b\b\b\b  OK \n",
            "Extracting  /content/YOLO_Dataset_Main/train/images/003329.jpg           \b\b\b\b 71%\b\b\b\b\b  OK \n",
            "Extracting  /content/YOLO_Dataset_Main/train/images/003330.jpg           \b\b\b\b 71%\b\b\b\b\b  OK \n",
            "Extracting  /content/YOLO_Dataset_Main/train/images/003331.jpg           \b\b\b\b 71%\b\b\b\b\b  OK \n",
            "Extracting  /content/YOLO_Dataset_Main/train/images/003332.jpg           \b\b\b\b 71%\b\b\b\b\b  OK \n",
            "Extracting  /content/YOLO_Dataset_Main/train/images/003333.jpg           \b\b\b\b 71%\b\b\b\b\b  OK \n",
            "Extracting  /content/YOLO_Dataset_Main/train/images/003334.jpg           \b\b\b\b 71%\b\b\b\b\b  OK \n",
            "Extracting  /content/YOLO_Dataset_Main/train/images/003336.jpg           \b\b\b\b 71%\b\b\b\b\b  OK \n",
            "Extracting  /content/YOLO_Dataset_Main/train/images/003337.jpg           \b\b\b\b 71%\b\b\b\b\b  OK \n",
            "Extracting  /content/YOLO_Dataset_Main/train/images/003338.jpg           \b\b\b\b 71%\b\b\b\b\b  OK \n",
            "Extracting  /content/YOLO_Dataset_Main/train/images/003339.jpg           \b\b\b\b 71%\b\b\b\b\b  OK \n",
            "Extracting  /content/YOLO_Dataset_Main/train/images/003340.jpg           \b\b\b\b 71%\b\b\b\b\b  OK \n",
            "Extracting  /content/YOLO_Dataset_Main/train/images/003341.jpg           \b\b\b\b 71%\b\b\b\b\b  OK \n",
            "Extracting  /content/YOLO_Dataset_Main/train/images/003342.jpg           \b\b\b\b 71%\b\b\b\b\b  OK \n",
            "Extracting  /content/YOLO_Dataset_Main/train/images/003343.jpg           \b\b\b\b 71%\b\b\b\b\b  OK \n",
            "Extracting  /content/YOLO_Dataset_Main/train/images/003344.jpg           \b\b\b\b 71%\b\b\b\b\b  OK \n",
            "Extracting  /content/YOLO_Dataset_Main/train/images/003345.jpg           \b\b\b\b 71%\b\b\b\b\b  OK \n",
            "Extracting  /content/YOLO_Dataset_Main/train/images/003346.jpg           \b\b\b\b 71%\b\b\b\b\b  OK \n",
            "Extracting  /content/YOLO_Dataset_Main/train/images/003347.jpg           \b\b\b\b 71%\b\b\b\b\b  OK \n",
            "Extracting  /content/YOLO_Dataset_Main/train/images/003348.jpg           \b\b\b\b 71%\b\b\b\b\b  OK \n",
            "Extracting  /content/YOLO_Dataset_Main/train/images/003350.jpg           \b\b\b\b 71%\b\b\b\b\b  OK \n",
            "Extracting  /content/YOLO_Dataset_Main/train/images/003351.jpg           \b\b\b\b 71%\b\b\b\b\b  OK \n",
            "Extracting  /content/YOLO_Dataset_Main/train/images/003352.jpg           \b\b\b\b 71%\b\b\b\b\b  OK \n",
            "Extracting  /content/YOLO_Dataset_Main/train/images/003353.jpg           \b\b\b\b 71%\b\b\b\b\b  OK \n",
            "Extracting  /content/YOLO_Dataset_Main/train/images/003354.jpg           \b\b\b\b 71%\b\b\b\b\b  OK \n",
            "Extracting  /content/YOLO_Dataset_Main/train/images/003355.jpg           \b\b\b\b 71%\b\b\b\b\b  OK \n",
            "Extracting  /content/YOLO_Dataset_Main/train/images/003356.jpg           \b\b\b\b 71%\b\b\b\b\b  OK \n",
            "Extracting  /content/YOLO_Dataset_Main/train/images/003357.jpg           \b\b\b\b 71%\b\b\b\b\b  OK \n",
            "Extracting  /content/YOLO_Dataset_Main/train/images/003358.jpg           \b\b\b\b 71%\b\b\b\b\b  OK \n",
            "Extracting  /content/YOLO_Dataset_Main/train/images/003361.jpg           \b\b\b\b 71%\b\b\b\b\b  OK \n",
            "Extracting  /content/YOLO_Dataset_Main/train/images/003362.jpg           \b\b\b\b 71%\b\b\b\b\b  OK \n",
            "Extracting  /content/YOLO_Dataset_Main/train/images/003364.jpg           \b\b\b\b 71%\b\b\b\b\b  OK \n",
            "Extracting  /content/YOLO_Dataset_Main/train/images/003365.jpg           \b\b\b\b 71%\b\b\b\b\b  OK \n",
            "Extracting  /content/YOLO_Dataset_Main/train/images/003366.jpg           \b\b\b\b 71%\b\b\b\b\b  OK \n",
            "Extracting  /content/YOLO_Dataset_Main/train/images/003367.jpg           \b\b\b\b 71%\b\b\b\b\b  OK \n",
            "Extracting  /content/YOLO_Dataset_Main/train/images/003368.jpg           \b\b\b\b 71%\b\b\b\b\b  OK \n",
            "Extracting  /content/YOLO_Dataset_Main/train/images/003370.jpg           \b\b\b\b 71%\b\b\b\b\b  OK \n",
            "Extracting  /content/YOLO_Dataset_Main/train/images/003372.jpg           \b\b\b\b 71%\b\b\b\b\b  OK \n",
            "Extracting  /content/YOLO_Dataset_Main/train/images/003373.jpg           \b\b\b\b 71%\b\b\b\b\b  OK \n",
            "Extracting  /content/YOLO_Dataset_Main/train/images/003374.jpg           \b\b\b\b 72%\b\b\b\b\b  OK \n",
            "Extracting  /content/YOLO_Dataset_Main/train/images/003375.jpg           \b\b\b\b 72%\b\b\b\b\b  OK \n",
            "Extracting  /content/YOLO_Dataset_Main/train/images/003376.jpg           \b\b\b\b 72%\b\b\b\b\b  OK \n",
            "Extracting  /content/YOLO_Dataset_Main/train/images/003377.jpg           \b\b\b\b 72%\b\b\b\b\b  OK \n",
            "Extracting  /content/YOLO_Dataset_Main/train/images/003378.jpg           \b\b\b\b 72%\b\b\b\b\b  OK \n",
            "Extracting  /content/YOLO_Dataset_Main/train/images/003381.jpg           \b\b\b\b 72%\b\b\b\b\b  OK \n",
            "Extracting  /content/YOLO_Dataset_Main/train/images/003382.jpg           \b\b\b\b 72%\b\b\b\b\b  OK \n",
            "Extracting  /content/YOLO_Dataset_Main/train/images/003383.jpg           \b\b\b\b 72%\b\b\b\b\b  OK \n",
            "Extracting  /content/YOLO_Dataset_Main/train/images/003384.jpg           \b\b\b\b 72%\b\b\b\b\b  OK \n",
            "Extracting  /content/YOLO_Dataset_Main/train/images/003385.jpg           \b\b\b\b 72%\b\b\b\b\b  OK \n",
            "Extracting  /content/YOLO_Dataset_Main/train/images/003386.jpg           \b\b\b\b 72%\b\b\b\b\b  OK \n",
            "Extracting  /content/YOLO_Dataset_Main/train/images/003387.jpg           \b\b\b\b 72%\b\b\b\b\b  OK \n",
            "Extracting  /content/YOLO_Dataset_Main/train/images/003388.jpg           \b\b\b\b 72%\b\b\b\b\b  OK \n",
            "Extracting  /content/YOLO_Dataset_Main/train/images/003390.jpg           \b\b\b\b 72%\b\b\b\b\b  OK \n",
            "Extracting  /content/YOLO_Dataset_Main/train/images/003392.jpg           \b\b\b\b 72%\b\b\b\b\b  OK \n",
            "Extracting  /content/YOLO_Dataset_Main/train/images/003393.jpg           \b\b\b\b 72%\b\b\b\b\b  OK \n",
            "Extracting  /content/YOLO_Dataset_Main/train/images/003394.jpg           \b\b\b\b 72%\b\b\b\b\b  OK \n",
            "Extracting  /content/YOLO_Dataset_Main/train/images/003395.jpg           \b\b\b\b 72%\b\b\b\b\b  OK \n",
            "Extracting  /content/YOLO_Dataset_Main/train/images/003397.jpg           \b\b\b\b 72%\b\b\b\b\b  OK \n",
            "Extracting  /content/YOLO_Dataset_Main/train/images/003399.jpg           \b\b\b\b 72%\b\b\b\b\b  OK \n",
            "Extracting  /content/YOLO_Dataset_Main/train/images/003400.jpg           \b\b\b\b 72%\b\b\b\b\b  OK \n",
            "Extracting  /content/YOLO_Dataset_Main/train/images/003401.jpg           \b\b\b\b 72%\b\b\b\b\b  OK \n",
            "Extracting  /content/YOLO_Dataset_Main/train/images/003402.jpg           \b\b\b\b 72%\b\b\b\b\b  OK \n",
            "Extracting  /content/YOLO_Dataset_Main/train/images/003403.jpg           \b\b\b\b 72%\b\b\b\b\b  OK \n",
            "Extracting  /content/YOLO_Dataset_Main/train/images/003404.jpg           \b\b\b\b 72%\b\b\b\b\b  OK \n",
            "Extracting  /content/YOLO_Dataset_Main/train/images/003405.jpg           \b\b\b\b 72%\b\b\b\b\b  OK \n",
            "Extracting  /content/YOLO_Dataset_Main/train/images/003406.jpg           \b\b\b\b 72%\b\b\b\b\b  OK \n",
            "Extracting  /content/YOLO_Dataset_Main/train/images/003407.jpg           \b\b\b\b 72%\b\b\b\b\b  OK \n",
            "Extracting  /content/YOLO_Dataset_Main/train/images/003408.jpg           \b\b\b\b 72%\b\b\b\b\b  OK \n",
            "Extracting  /content/YOLO_Dataset_Main/train/images/003409.jpg           \b\b\b\b 72%\b\b\b\b\b  OK \n",
            "Extracting  /content/YOLO_Dataset_Main/train/images/003410.jpg           \b\b\b\b 72%\b\b\b\b\b  OK \n",
            "Extracting  /content/YOLO_Dataset_Main/train/images/003411.jpg           \b\b\b\b 72%\b\b\b\b\b  OK \n",
            "Extracting  /content/YOLO_Dataset_Main/train/images/003412.jpg           \b\b\b\b 72%\b\b\b\b\b  OK \n",
            "Extracting  /content/YOLO_Dataset_Main/train/images/003413.jpg           \b\b\b\b 72%\b\b\b\b\b  OK \n",
            "Extracting  /content/YOLO_Dataset_Main/train/images/003414.jpg           \b\b\b\b 72%\b\b\b\b\b  OK \n",
            "Extracting  /content/YOLO_Dataset_Main/train/images/003415.jpg           \b\b\b\b 72%\b\b\b\b\b  OK \n",
            "Extracting  /content/YOLO_Dataset_Main/train/images/003416.jpg           \b\b\b\b 72%\b\b\b\b\b  OK \n",
            "Extracting  /content/YOLO_Dataset_Main/train/images/003418.jpg           \b\b\b\b 72%\b\b\b\b\b  OK \n",
            "Extracting  /content/YOLO_Dataset_Main/train/images/003420.jpg           \b\b\b\b 72%\b\b\b\b\b  OK \n",
            "Extracting  /content/YOLO_Dataset_Main/train/images/003421.jpg           \b\b\b\b 73%\b\b\b\b\b  OK \n",
            "Extracting  /content/YOLO_Dataset_Main/train/images/003422.jpg           \b\b\b\b 73%\b\b\b\b\b  OK \n",
            "Extracting  /content/YOLO_Dataset_Main/train/images/003423.jpg           \b\b\b\b 73%\b\b\b\b\b  OK \n",
            "Extracting  /content/YOLO_Dataset_Main/train/images/003424.jpg           \b\b\b\b 73%\b\b\b\b\b  OK \n",
            "Extracting  /content/YOLO_Dataset_Main/train/images/003425.jpg           \b\b\b\b 73%\b\b\b\b\b  OK \n",
            "Extracting  /content/YOLO_Dataset_Main/train/images/003426.jpg           \b\b\b\b 73%\b\b\b\b\b  OK \n",
            "Extracting  /content/YOLO_Dataset_Main/train/images/003427.jpg           \b\b\b\b 73%\b\b\b\b\b  OK \n",
            "Extracting  /content/YOLO_Dataset_Main/train/images/003428.jpg           \b\b\b\b 73%\b\b\b\b\b  OK \n",
            "Extracting  /content/YOLO_Dataset_Main/train/images/003429.jpg           \b\b\b\b 73%\b\b\b\b\b  OK \n",
            "Extracting  /content/YOLO_Dataset_Main/train/images/003430.jpg           \b\b\b\b 73%\b\b\b\b\b  OK \n",
            "Extracting  /content/YOLO_Dataset_Main/train/images/003431.jpg           \b\b\b\b 73%\b\b\b\b\b  OK \n",
            "Extracting  /content/YOLO_Dataset_Main/train/images/003432.jpg           \b\b\b\b 73%\b\b\b\b\b  OK \n",
            "Extracting  /content/YOLO_Dataset_Main/train/images/003435.jpg           \b\b\b\b 73%\b\b\b\b\b  OK \n",
            "Extracting  /content/YOLO_Dataset_Main/train/images/003436.jpg           \b\b\b\b 73%\b\b\b\b\b  OK \n",
            "Extracting  /content/YOLO_Dataset_Main/train/images/003437.jpg           \b\b\b\b 73%\b\b\b\b\b  OK \n",
            "Extracting  /content/YOLO_Dataset_Main/train/images/003438.jpg           \b\b\b\b 73%\b\b\b\b\b  OK \n",
            "Extracting  /content/YOLO_Dataset_Main/train/images/003439.jpg           \b\b\b\b 73%\b\b\b\b\b  OK \n",
            "Extracting  /content/YOLO_Dataset_Main/train/images/003440.jpg           \b\b\b\b 73%\b\b\b\b\b  OK \n",
            "Extracting  /content/YOLO_Dataset_Main/train/images/003441.jpg           \b\b\b\b 73%\b\b\b\b\b  OK \n",
            "Extracting  /content/YOLO_Dataset_Main/train/images/003443.jpg           \b\b\b\b 73%\b\b\b\b\b  OK \n",
            "Extracting  /content/YOLO_Dataset_Main/train/images/003446.jpg           \b\b\b\b 73%\b\b\b\b\b  OK \n",
            "Extracting  /content/YOLO_Dataset_Main/train/images/003448.jpg           \b\b\b\b 73%\b\b\b\b\b  OK \n",
            "Extracting  /content/YOLO_Dataset_Main/train/images/003449.jpg           \b\b\b\b 73%\b\b\b\b\b  OK \n",
            "Extracting  /content/YOLO_Dataset_Main/train/images/003450.jpg           \b\b\b\b 73%\b\b\b\b\b  OK \n",
            "Extracting  /content/YOLO_Dataset_Main/train/images/003451.jpg           \b\b\b\b 73%\b\b\b\b\b  OK \n",
            "Extracting  /content/YOLO_Dataset_Main/train/images/003452.jpg           \b\b\b\b 73%\b\b\b\b\b  OK \n",
            "Extracting  /content/YOLO_Dataset_Main/train/images/003453.jpg           \b\b\b\b 73%\b\b\b\b\b  OK \n",
            "Extracting  /content/YOLO_Dataset_Main/train/images/003454.jpg           \b\b\b\b 74%\b\b\b\b\b  OK \n",
            "Extracting  /content/YOLO_Dataset_Main/train/images/003455.jpg           \b\b\b\b 74%\b\b\b\b\b  OK \n",
            "Extracting  /content/YOLO_Dataset_Main/train/images/003457.jpg           \b\b\b\b 74%\b\b\b\b\b  OK \n",
            "Extracting  /content/YOLO_Dataset_Main/train/images/003458.jpg           \b\b\b\b 74%\b\b\b\b\b  OK \n",
            "Extracting  /content/YOLO_Dataset_Main/train/images/003459.jpg           \b\b\b\b 74%\b\b\b\b\b  OK \n",
            "Extracting  /content/YOLO_Dataset_Main/train/images/003460.jpg           \b\b\b\b 74%\b\b\b\b\b  OK \n",
            "Extracting  /content/YOLO_Dataset_Main/train/images/003461.jpg           \b\b\b\b 74%\b\b\b\b\b  OK \n",
            "Extracting  /content/YOLO_Dataset_Main/train/images/003462.jpg           \b\b\b\b 74%\b\b\b\b\b  OK \n",
            "Extracting  /content/YOLO_Dataset_Main/train/images/003463.jpg           \b\b\b\b 74%\b\b\b\b\b  OK \n",
            "Extracting  /content/YOLO_Dataset_Main/train/images/003464.jpg           \b\b\b\b 74%\b\b\b\b\b  OK \n",
            "Extracting  /content/YOLO_Dataset_Main/train/images/003465.jpg           \b\b\b\b 74%\b\b\b\b\b  OK \n",
            "Extracting  /content/YOLO_Dataset_Main/train/images/003466.jpg           \b\b\b\b 74%\b\b\b\b\b  OK \n",
            "Extracting  /content/YOLO_Dataset_Main/train/images/003467.jpg           \b\b\b\b 74%\b\b\b\b\b  OK \n",
            "Extracting  /content/YOLO_Dataset_Main/train/images/003468.jpg           \b\b\b\b 74%\b\b\b\b\b  OK \n",
            "Extracting  /content/YOLO_Dataset_Main/train/images/003469.jpg           \b\b\b\b 74%\b\b\b\b\b  OK \n",
            "Extracting  /content/YOLO_Dataset_Main/train/images/003470.jpg           \b\b\b\b 74%\b\b\b\b\b  OK \n",
            "Extracting  /content/YOLO_Dataset_Main/train/images/003471.jpg           \b\b\b\b 74%\b\b\b\b\b  OK \n",
            "Extracting  /content/YOLO_Dataset_Main/train/images/003474.jpg           \b\b\b\b 74%\b\b\b\b\b  OK \n",
            "Extracting  /content/YOLO_Dataset_Main/train/images/003475.jpg           \b\b\b\b 74%\b\b\b\b\b  OK \n",
            "Extracting  /content/YOLO_Dataset_Main/train/images/003476.jpg           \b\b\b\b 74%\b\b\b\b\b  OK \n",
            "Extracting  /content/YOLO_Dataset_Main/train/images/003477.jpg           \b\b\b\b 74%\b\b\b\b\b  OK \n",
            "Extracting  /content/YOLO_Dataset_Main/train/images/003479.jpg           \b\b\b\b 74%\b\b\b\b\b  OK \n",
            "Extracting  /content/YOLO_Dataset_Main/train/images/003481.jpg           \b\b\b\b 74%\b\b\b\b\b  OK \n",
            "Extracting  /content/YOLO_Dataset_Main/train/images/003482.jpg           \b\b\b\b 74%\b\b\b\b\b  OK \n",
            "Extracting  /content/YOLO_Dataset_Main/train/images/003484.jpg           \b\b\b\b 74%\b\b\b\b\b  OK \n",
            "Extracting  /content/YOLO_Dataset_Main/train/images/003485.jpg           \b\b\b\b 74%\b\b\b\b\b  OK \n",
            "Extracting  /content/YOLO_Dataset_Main/train/images/003486.jpg           \b\b\b\b 74%\b\b\b\b\b  OK \n",
            "Extracting  /content/YOLO_Dataset_Main/train/images/003488.jpg           \b\b\b\b 74%\b\b\b\b\b  OK \n",
            "Extracting  /content/YOLO_Dataset_Main/train/images/003489.jpg           \b\b\b\b 75%\b\b\b\b\b  OK \n",
            "Extracting  /content/YOLO_Dataset_Main/train/images/003490.jpg           \b\b\b\b 75%\b\b\b\b\b  OK \n",
            "Extracting  /content/YOLO_Dataset_Main/train/images/003491.jpg           \b\b\b\b 75%\b\b\b\b\b  OK \n",
            "Extracting  /content/YOLO_Dataset_Main/train/images/003492.jpg           \b\b\b\b 75%\b\b\b\b\b  OK \n",
            "Extracting  /content/YOLO_Dataset_Main/train/images/003493.jpg           \b\b\b\b 75%\b\b\b\b\b  OK \n",
            "Extracting  /content/YOLO_Dataset_Main/train/images/003494.jpg           \b\b\b\b 75%\b\b\b\b\b  OK \n",
            "Extracting  /content/YOLO_Dataset_Main/train/images/003495.jpg           \b\b\b\b 75%\b\b\b\b\b  OK \n",
            "Extracting  /content/YOLO_Dataset_Main/train/images/003496.jpg           \b\b\b\b 75%\b\b\b\b\b  OK \n",
            "Extracting  /content/YOLO_Dataset_Main/train/images/003497.jpg           \b\b\b\b 75%\b\b\b\b\b  OK \n",
            "Extracting  /content/YOLO_Dataset_Main/train/images/003498.jpg           \b\b\b\b 75%\b\b\b\b\b  OK \n",
            "Extracting  /content/YOLO_Dataset_Main/train/images/003500.jpg           \b\b\b\b 75%\b\b\b\b\b  OK \n",
            "Extracting  /content/YOLO_Dataset_Main/train/images/003502.jpg           \b\b\b\b 75%\b\b\b\b\b  OK \n",
            "Extracting  /content/YOLO_Dataset_Main/train/images/003503.jpg           \b\b\b\b 75%\b\b\b\b\b  OK \n",
            "Extracting  /content/YOLO_Dataset_Main/train/images/003504.jpg           \b\b\b\b 75%\b\b\b\b\b  OK \n",
            "Extracting  /content/YOLO_Dataset_Main/train/images/003505.jpg           \b\b\b\b 75%\b\b\b\b\b  OK \n",
            "Extracting  /content/YOLO_Dataset_Main/train/images/003506.jpg           \b\b\b\b 75%\b\b\b\b\b  OK \n",
            "Extracting  /content/YOLO_Dataset_Main/train/images/003507.jpg           \b\b\b\b 75%\b\b\b\b\b  OK \n",
            "Extracting  /content/YOLO_Dataset_Main/train/images/003508.jpg           \b\b\b\b 75%\b\b\b\b\b  OK \n",
            "Extracting  /content/YOLO_Dataset_Main/train/images/003509.jpg           \b\b\b\b 75%\b\b\b\b\b  OK \n",
            "Extracting  /content/YOLO_Dataset_Main/train/images/003510.jpg           \b\b\b\b 75%\b\b\b\b\b  OK \n",
            "Extracting  /content/YOLO_Dataset_Main/train/images/003511.jpg           \b\b\b\b 75%\b\b\b\b\b  OK \n",
            "Extracting  /content/YOLO_Dataset_Main/train/images/003512.jpg           \b\b\b\b 75%\b\b\b\b\b  OK \n",
            "Extracting  /content/YOLO_Dataset_Main/train/images/003513.jpg           \b\b\b\b 75%\b\b\b\b\b  OK \n",
            "Extracting  /content/YOLO_Dataset_Main/train/images/003514.jpg           \b\b\b\b 75%\b\b\b\b\b  OK \n",
            "Extracting  /content/YOLO_Dataset_Main/train/images/003515.jpg           \b\b\b\b 75%\b\b\b\b\b  OK \n",
            "Extracting  /content/YOLO_Dataset_Main/train/images/003516.jpg           \b\b\b\b 75%\b\b\b\b\b  OK \n",
            "Extracting  /content/YOLO_Dataset_Main/train/images/003517.jpg           \b\b\b\b 75%\b\b\b\b\b  OK \n",
            "Extracting  /content/YOLO_Dataset_Main/train/images/003518.jpg           \b\b\b\b 75%\b\b\b\b\b  OK \n",
            "Extracting  /content/YOLO_Dataset_Main/train/images/003520.jpg           \b\b\b\b 76%\b\b\b\b\b  OK \n",
            "Extracting  /content/YOLO_Dataset_Main/train/images/003521.jpg           \b\b\b\b 76%\b\b\b\b\b  OK \n",
            "Extracting  /content/YOLO_Dataset_Main/train/images/003524.jpg           \b\b\b\b 76%\b\b\b\b\b  OK \n",
            "Extracting  /content/YOLO_Dataset_Main/train/images/003525.jpg           \b\b\b\b 76%\b\b\b\b\b  OK \n",
            "Extracting  /content/YOLO_Dataset_Main/train/images/003526.jpg           \b\b\b\b 76%\b\b\b\b\b  OK \n",
            "Extracting  /content/YOLO_Dataset_Main/train/images/003527.jpg           \b\b\b\b 76%\b\b\b\b\b  OK \n",
            "Extracting  /content/YOLO_Dataset_Main/train/images/003528.jpg           \b\b\b\b 76%\b\b\b\b\b  OK \n",
            "Extracting  /content/YOLO_Dataset_Main/train/images/003529.jpg           \b\b\b\b 76%\b\b\b\b\b  OK \n",
            "Extracting  /content/YOLO_Dataset_Main/train/images/003530.jpg           \b\b\b\b 76%\b\b\b\b\b  OK \n",
            "Extracting  /content/YOLO_Dataset_Main/train/images/003532.jpg           \b\b\b\b 76%\b\b\b\b\b  OK \n",
            "Extracting  /content/YOLO_Dataset_Main/train/images/003536.jpg           \b\b\b\b 76%\b\b\b\b\b  OK \n",
            "Extracting  /content/YOLO_Dataset_Main/train/images/003537.jpg           \b\b\b\b 76%\b\b\b\b\b  OK \n",
            "Extracting  /content/YOLO_Dataset_Main/train/images/003538.jpg           \b\b\b\b 76%\b\b\b\b\b  OK \n",
            "Extracting  /content/YOLO_Dataset_Main/train/images/003539.jpg           \b\b\b\b 76%\b\b\b\b\b  OK \n",
            "Extracting  /content/YOLO_Dataset_Main/train/images/003541.jpg           \b\b\b\b 76%\b\b\b\b\b  OK \n",
            "Extracting  /content/YOLO_Dataset_Main/train/images/003542.jpg           \b\b\b\b 76%\b\b\b\b\b  OK \n",
            "Extracting  /content/YOLO_Dataset_Main/train/images/003543.jpg           \b\b\b\b 76%\b\b\b\b\b  OK \n",
            "Extracting  /content/YOLO_Dataset_Main/train/images/003544.jpg           \b\b\b\b 76%\b\b\b\b\b  OK \n",
            "Extracting  /content/YOLO_Dataset_Main/train/images/003545.jpg           \b\b\b\b 76%\b\b\b\b\b  OK \n",
            "Extracting  /content/YOLO_Dataset_Main/train/images/003546.jpg           \b\b\b\b 76%\b\b\b\b\b  OK \n",
            "Extracting  /content/YOLO_Dataset_Main/train/images/003547.jpg           \b\b\b\b 76%\b\b\b\b\b  OK \n",
            "Extracting  /content/YOLO_Dataset_Main/train/images/003549.jpg           \b\b\b\b 76%\b\b\b\b\b  OK \n",
            "Extracting  /content/YOLO_Dataset_Main/train/images/003550.jpg           \b\b\b\b 76%\b\b\b\b\b  OK \n",
            "Extracting  /content/YOLO_Dataset_Main/train/images/003551.jpg           \b\b\b\b 76%\b\b\b\b\b  OK \n",
            "Extracting  /content/YOLO_Dataset_Main/train/images/003552.jpg           \b\b\b\b 76%\b\b\b\b\b  OK \n",
            "Extracting  /content/YOLO_Dataset_Main/train/images/003553.jpg           \b\b\b\b 76%\b\b\b\b\b  OK \n",
            "Extracting  /content/YOLO_Dataset_Main/train/images/003554.jpg           \b\b\b\b 76%\b\b\b\b\b  OK \n",
            "Extracting  /content/YOLO_Dataset_Main/train/images/003556.jpg           \b\b\b\b 76%\b\b\b\b\b  OK \n",
            "Extracting  /content/YOLO_Dataset_Main/train/images/003557.jpg           \b\b\b\b 76%\b\b\b\b\b  OK \n",
            "Extracting  /content/YOLO_Dataset_Main/train/images/003558.jpg           \b\b\b\b 76%\b\b\b\b\b  OK \n",
            "Extracting  /content/YOLO_Dataset_Main/train/images/003559.jpg           \b\b\b\b 76%\b\b\b\b\b  OK \n",
            "Extracting  /content/YOLO_Dataset_Main/train/images/003560.jpg           \b\b\b\b 76%\b\b\b\b\b  OK \n",
            "Extracting  /content/YOLO_Dataset_Main/train/images/003561.jpg           \b\b\b\b 76%\b\b\b\b\b  OK \n",
            "Extracting  /content/YOLO_Dataset_Main/train/images/003562.jpg           \b\b\b\b 76%\b\b\b\b\b  OK \n",
            "Extracting  /content/YOLO_Dataset_Main/train/images/003563.jpg           \b\b\b\b 76%\b\b\b\b\b  OK \n",
            "Extracting  /content/YOLO_Dataset_Main/train/images/003564.jpg           \b\b\b\b 76%\b\b\b\b\b  OK \n",
            "Extracting  /content/YOLO_Dataset_Main/train/images/003565.jpg           \b\b\b\b 76%\b\b\b\b\b  OK \n",
            "Extracting  /content/YOLO_Dataset_Main/train/images/003566.jpg           \b\b\b\b 76%\b\b\b\b\b  OK \n",
            "Extracting  /content/YOLO_Dataset_Main/train/images/003567.jpg           \b\b\b\b 77%\b\b\b\b\b  OK \n",
            "Extracting  /content/YOLO_Dataset_Main/train/images/003568.jpg           \b\b\b\b 77%\b\b\b\b\b  OK \n",
            "Extracting  /content/YOLO_Dataset_Main/train/images/003569.jpg           \b\b\b\b 77%\b\b\b\b\b  OK \n",
            "Extracting  /content/YOLO_Dataset_Main/train/images/003570.jpg           \b\b\b\b 77%\b\b\b\b\b  OK \n",
            "Extracting  /content/YOLO_Dataset_Main/train/images/003572.jpg           \b\b\b\b 77%\b\b\b\b\b  OK \n",
            "Extracting  /content/YOLO_Dataset_Main/train/images/003575.jpg           \b\b\b\b 77%\b\b\b\b\b  OK \n",
            "Extracting  /content/YOLO_Dataset_Main/train/images/003577.jpg           \b\b\b\b 77%\b\b\b\b\b  OK \n",
            "Extracting  /content/YOLO_Dataset_Main/train/images/003578.jpg           \b\b\b\b 77%\b\b\b\b\b  OK \n",
            "Extracting  /content/YOLO_Dataset_Main/train/images/003579.jpg           \b\b\b\b 77%\b\b\b\b\b  OK \n",
            "Extracting  /content/YOLO_Dataset_Main/train/images/003580.jpg           \b\b\b\b 77%\b\b\b\b\b  OK \n",
            "Extracting  /content/YOLO_Dataset_Main/train/images/003581.jpg           \b\b\b\b 77%\b\b\b\b\b  OK \n",
            "Extracting  /content/YOLO_Dataset_Main/train/images/003583.jpg           \b\b\b\b 77%\b\b\b\b\b  OK \n",
            "Extracting  /content/YOLO_Dataset_Main/train/images/003584.jpg           \b\b\b\b 77%\b\b\b\b\b  OK \n",
            "Extracting  /content/YOLO_Dataset_Main/train/images/003585.jpg           \b\b\b\b 77%\b\b\b\b\b  OK \n",
            "Extracting  /content/YOLO_Dataset_Main/train/images/003586.jpg           \b\b\b\b 77%\b\b\b\b\b  OK \n",
            "Extracting  /content/YOLO_Dataset_Main/train/images/003592.jpg           \b\b\b\b 77%\b\b\b\b\b  OK \n",
            "Extracting  /content/YOLO_Dataset_Main/train/images/003593.jpg           \b\b\b\b 77%\b\b\b\b\b  OK \n",
            "Extracting  /content/YOLO_Dataset_Main/train/images/003595.jpg           \b\b\b\b 77%\b\b\b\b\b  OK \n",
            "Extracting  /content/YOLO_Dataset_Main/train/images/003596.jpg           \b\b\b\b 77%\b\b\b\b\b  OK \n",
            "Extracting  /content/YOLO_Dataset_Main/train/images/003597.jpg           \b\b\b\b 77%\b\b\b\b\b  OK \n",
            "Extracting  /content/YOLO_Dataset_Main/train/images/003598.jpg           \b\b\b\b 77%\b\b\b\b\b  OK \n",
            "Extracting  /content/YOLO_Dataset_Main/train/images/003599.jpg           \b\b\b\b 77%\b\b\b\b\b  OK \n",
            "Extracting  /content/YOLO_Dataset_Main/train/images/003600.jpg           \b\b\b\b 77%\b\b\b\b\b  OK \n",
            "Extracting  /content/YOLO_Dataset_Main/train/images/003601.jpg           \b\b\b\b 77%\b\b\b\b\b  OK \n",
            "Extracting  /content/YOLO_Dataset_Main/train/images/003602.jpg           \b\b\b\b 77%\b\b\b\b\b  OK \n",
            "Extracting  /content/YOLO_Dataset_Main/train/images/003603.jpg           \b\b\b\b 77%\b\b\b\b\b  OK \n",
            "Extracting  /content/YOLO_Dataset_Main/train/images/003605.jpg           \b\b\b\b 77%\b\b\b\b\b  OK \n",
            "Extracting  /content/YOLO_Dataset_Main/train/images/003607.jpg           \b\b\b\b 77%\b\b\b\b\b  OK \n",
            "Extracting  /content/YOLO_Dataset_Main/train/images/003608.jpg           \b\b\b\b 77%\b\b\b\b\b  OK \n",
            "Extracting  /content/YOLO_Dataset_Main/train/images/003609.jpg           \b\b\b\b 77%\b\b\b\b\b  OK \n",
            "Extracting  /content/YOLO_Dataset_Main/train/images/003610.jpg           \b\b\b\b 77%\b\b\b\b\b  OK \n",
            "Extracting  /content/YOLO_Dataset_Main/train/images/003611.jpg           \b\b\b\b 77%\b\b\b\b\b  OK \n",
            "Extracting  /content/YOLO_Dataset_Main/train/images/003612.jpg           \b\b\b\b 77%\b\b\b\b\b  OK \n",
            "Extracting  /content/YOLO_Dataset_Main/train/images/003613.jpg           \b\b\b\b 77%\b\b\b\b\b  OK \n",
            "Extracting  /content/YOLO_Dataset_Main/train/images/003614.jpg           \b\b\b\b 77%\b\b\b\b\b  OK \n",
            "Extracting  /content/YOLO_Dataset_Main/train/images/003615.jpg           \b\b\b\b 77%\b\b\b\b\b  OK \n",
            "Extracting  /content/YOLO_Dataset_Main/train/images/003617.jpg           \b\b\b\b 77%\b\b\b\b\b  OK \n",
            "Extracting  /content/YOLO_Dataset_Main/train/images/003618.jpg           \b\b\b\b 77%\b\b\b\b\b  OK \n",
            "Extracting  /content/YOLO_Dataset_Main/train/images/003619.jpg           \b\b\b\b 77%\b\b\b\b\b  OK \n",
            "Extracting  /content/YOLO_Dataset_Main/train/images/003620.jpg           \b\b\b\b 77%\b\b\b\b\b  OK \n",
            "Extracting  /content/YOLO_Dataset_Main/train/images/003621.jpg           \b\b\b\b 77%\b\b\b\b\b  OK \n",
            "Extracting  /content/YOLO_Dataset_Main/train/images/003622.jpg           \b\b\b\b 77%\b\b\b\b\b  OK \n",
            "Extracting  /content/YOLO_Dataset_Main/train/images/003623.jpg           \b\b\b\b 77%\b\b\b\b\b  OK \n",
            "Extracting  /content/YOLO_Dataset_Main/train/images/003624.jpg           \b\b\b\b 77%\b\b\b\b\b  OK \n",
            "Extracting  /content/YOLO_Dataset_Main/train/images/003625.jpg           \b\b\b\b 77%\b\b\b\b\b  OK \n",
            "Extracting  /content/YOLO_Dataset_Main/train/images/003626.jpg           \b\b\b\b 77%\b\b\b\b\b  OK \n",
            "Extracting  /content/YOLO_Dataset_Main/train/images/003627.jpg           \b\b\b\b 77%\b\b\b\b\b  OK \n",
            "Extracting  /content/YOLO_Dataset_Main/train/images/003628.jpg           \b\b\b\b 77%\b\b\b\b\b  OK \n",
            "Extracting  /content/YOLO_Dataset_Main/train/images/003629.jpg           \b\b\b\b 78%\b\b\b\b\b  OK \n",
            "Extracting  /content/YOLO_Dataset_Main/train/images/003631.jpg           \b\b\b\b 78%\b\b\b\b\b  OK \n",
            "Extracting  /content/YOLO_Dataset_Main/train/images/003632.jpg           \b\b\b\b 78%\b\b\b\b\b  OK \n",
            "Extracting  /content/YOLO_Dataset_Main/train/images/003633.jpg           \b\b\b\b 78%\b\b\b\b\b  OK \n",
            "Extracting  /content/YOLO_Dataset_Main/train/images/003634.jpg           \b\b\b\b 78%\b\b\b\b\b  OK \n",
            "Extracting  /content/YOLO_Dataset_Main/train/images/003635.jpg           \b\b\b\b 78%\b\b\b\b\b  OK \n",
            "Extracting  /content/YOLO_Dataset_Main/train/images/003636.jpg           \b\b\b\b 78%\b\b\b\b\b  OK \n",
            "Extracting  /content/YOLO_Dataset_Main/train/images/003638.jpg           \b\b\b\b 78%\b\b\b\b\b  OK \n",
            "Extracting  /content/YOLO_Dataset_Main/train/images/003639.jpg           \b\b\b\b 78%\b\b\b\b\b  OK \n",
            "Extracting  /content/YOLO_Dataset_Main/train/images/003640.jpg           \b\b\b\b 78%\b\b\b\b\b  OK \n",
            "Extracting  /content/YOLO_Dataset_Main/train/images/003641.jpg           \b\b\b\b 78%\b\b\b\b\b  OK \n",
            "Extracting  /content/YOLO_Dataset_Main/train/images/003642.jpg           \b\b\b\b 78%\b\b\b\b\b  OK \n",
            "Extracting  /content/YOLO_Dataset_Main/train/images/003643.jpg           \b\b\b\b 78%\b\b\b\b\b  OK \n",
            "Extracting  /content/YOLO_Dataset_Main/train/images/003644.jpg           \b\b\b\b 78%\b\b\b\b\b  OK \n",
            "Extracting  /content/YOLO_Dataset_Main/train/images/003645.jpg           \b\b\b\b 78%\b\b\b\b\b  OK \n",
            "Extracting  /content/YOLO_Dataset_Main/train/images/003646.jpg           \b\b\b\b 78%\b\b\b\b\b  OK \n",
            "Extracting  /content/YOLO_Dataset_Main/train/images/003647.jpg           \b\b\b\b 78%\b\b\b\b\b  OK \n",
            "Extracting  /content/YOLO_Dataset_Main/train/images/003648.jpg           \b\b\b\b 78%\b\b\b\b\b  OK \n",
            "Extracting  /content/YOLO_Dataset_Main/train/images/003650.jpg           \b\b\b\b 78%\b\b\b\b\b  OK \n",
            "Extracting  /content/YOLO_Dataset_Main/train/images/003651.jpg           \b\b\b\b 78%\b\b\b\b\b  OK \n",
            "Extracting  /content/YOLO_Dataset_Main/train/images/003652.jpg           \b\b\b\b 78%\b\b\b\b\b  OK \n",
            "Extracting  /content/YOLO_Dataset_Main/train/images/003653.jpg           \b\b\b\b 78%\b\b\b\b\b  OK \n",
            "Extracting  /content/YOLO_Dataset_Main/train/images/003656.jpg           \b\b\b\b 78%\b\b\b\b\b  OK \n",
            "Extracting  /content/YOLO_Dataset_Main/train/images/003657.jpg           \b\b\b\b 78%\b\b\b\b\b  OK \n",
            "Extracting  /content/YOLO_Dataset_Main/train/images/003659.jpg           \b\b\b\b 78%\b\b\b\b\b  OK \n",
            "Extracting  /content/YOLO_Dataset_Main/train/images/003661.jpg           \b\b\b\b 78%\b\b\b\b\b  OK \n",
            "Extracting  /content/YOLO_Dataset_Main/train/images/003662.jpg           \b\b\b\b 78%\b\b\b\b\b  OK \n",
            "Extracting  /content/YOLO_Dataset_Main/train/images/003663.jpg           \b\b\b\b 79%\b\b\b\b\b  OK \n",
            "Extracting  /content/YOLO_Dataset_Main/train/images/003664.jpg           \b\b\b\b 79%\b\b\b\b\b  OK \n",
            "Extracting  /content/YOLO_Dataset_Main/train/images/003665.jpg           \b\b\b\b 79%\b\b\b\b\b  OK \n",
            "Extracting  /content/YOLO_Dataset_Main/train/images/003666.jpg           \b\b\b\b 79%\b\b\b\b\b  OK \n",
            "Extracting  /content/YOLO_Dataset_Main/train/images/003667.jpg           \b\b\b\b 79%\b\b\b\b\b  OK \n",
            "Extracting  /content/YOLO_Dataset_Main/train/images/003668.jpg           \b\b\b\b 79%\b\b\b\b\b  OK \n",
            "Extracting  /content/YOLO_Dataset_Main/train/images/003669.jpg           \b\b\b\b 79%\b\b\b\b\b  OK \n",
            "Extracting  /content/YOLO_Dataset_Main/train/images/003670.jpg           \b\b\b\b 79%\b\b\b\b\b  OK \n",
            "Extracting  /content/YOLO_Dataset_Main/train/images/003672.jpg           \b\b\b\b 79%\b\b\b\b\b  OK \n",
            "Extracting  /content/YOLO_Dataset_Main/train/images/003676.jpg           \b\b\b\b 79%\b\b\b\b\b  OK \n",
            "Extracting  /content/YOLO_Dataset_Main/train/images/003677.jpg           \b\b\b\b 79%\b\b\b\b\b  OK \n",
            "Extracting  /content/YOLO_Dataset_Main/train/images/003678.jpg           \b\b\b\b 79%\b\b\b\b\b  OK \n",
            "Extracting  /content/YOLO_Dataset_Main/train/images/003679.jpg           \b\b\b\b 79%\b\b\b\b\b  OK \n",
            "Extracting  /content/YOLO_Dataset_Main/train/images/003680.jpg           \b\b\b\b 79%\b\b\b\b\b  OK \n",
            "Extracting  /content/YOLO_Dataset_Main/train/images/003681.jpg           \b\b\b\b 79%\b\b\b\b\b  OK \n",
            "Extracting  /content/YOLO_Dataset_Main/train/images/003683.jpg           \b\b\b\b 79%\b\b\b\b\b  OK \n",
            "Extracting  /content/YOLO_Dataset_Main/train/images/003684.jpg           \b\b\b\b 79%\b\b\b\b\b  OK \n",
            "Extracting  /content/YOLO_Dataset_Main/train/images/003685.jpg           \b\b\b\b 79%\b\b\b\b\b  OK \n",
            "Creating    /content/YOLO_Dataset_Main/train/labels                   OK\n",
            "Extracting  /content/YOLO_Dataset_Main/train/labels/000001.txt           \b\b\b\b 79%\b\b\b\b\b  OK \n",
            "Extracting  /content/YOLO_Dataset_Main/train/labels/000002.txt           \b\b\b\b 79%\b\b\b\b\b  OK \n",
            "Extracting  /content/YOLO_Dataset_Main/train/labels/000003.txt           \b\b\b\b 79%\b\b\b\b\b  OK \n",
            "Extracting  /content/YOLO_Dataset_Main/train/labels/000004.txt           \b\b\b\b 79%\b\b\b\b\b  OK \n",
            "Extracting  /content/YOLO_Dataset_Main/train/labels/000005.txt           \b\b\b\b 79%\b\b\b\b\b  OK \n",
            "Extracting  /content/YOLO_Dataset_Main/train/labels/000007.txt           \b\b\b\b 79%\b\b\b\b\b  OK \n",
            "Extracting  /content/YOLO_Dataset_Main/train/labels/000008.txt           \b\b\b\b 79%\b\b\b\b\b  OK \n",
            "Extracting  /content/YOLO_Dataset_Main/train/labels/000009.txt           \b\b\b\b 79%\b\b\b\b\b  OK \n",
            "Extracting  /content/YOLO_Dataset_Main/train/labels/000010.txt           \b\b\b\b 79%\b\b\b\b\b  OK \n",
            "Extracting  /content/YOLO_Dataset_Main/train/labels/000011.txt           \b\b\b\b 79%\b\b\b\b\b  OK \n",
            "Extracting  /content/YOLO_Dataset_Main/train/labels/000014.txt           \b\b\b\b 79%\b\b\b\b\b  OK \n",
            "Extracting  /content/YOLO_Dataset_Main/train/labels/000015.txt           \b\b\b\b 79%\b\b\b\b\b  OK \n",
            "Extracting  /content/YOLO_Dataset_Main/train/labels/000016.txt           \b\b\b\b 79%\b\b\b\b\b  OK \n",
            "Extracting  /content/YOLO_Dataset_Main/train/labels/000017.txt           \b\b\b\b 79%\b\b\b\b\b  OK \n",
            "Extracting  /content/YOLO_Dataset_Main/train/labels/000018.txt           \b\b\b\b 79%\b\b\b\b\b  OK \n",
            "Extracting  /content/YOLO_Dataset_Main/train/labels/000019.txt           \b\b\b\b 79%\b\b\b\b\b  OK \n",
            "Extracting  /content/YOLO_Dataset_Main/train/labels/000020.txt           \b\b\b\b 79%\b\b\b\b\b  OK \n",
            "Extracting  /content/YOLO_Dataset_Main/train/labels/000021.txt           \b\b\b\b 79%\b\b\b\b\b  OK \n",
            "Extracting  /content/YOLO_Dataset_Main/train/labels/000024.txt           \b\b\b\b 79%\b\b\b\b\b  OK \n",
            "Extracting  /content/YOLO_Dataset_Main/train/labels/000026.txt           \b\b\b\b 79%\b\b\b\b\b  OK \n",
            "Extracting  /content/YOLO_Dataset_Main/train/labels/000027.txt           \b\b\b\b 79%\b\b\b\b\b  OK \n",
            "Extracting  /content/YOLO_Dataset_Main/train/labels/000028.txt           \b\b\b\b 79%\b\b\b\b\b  OK \n",
            "Extracting  /content/YOLO_Dataset_Main/train/labels/000029.txt           \b\b\b\b 79%\b\b\b\b\b  OK \n",
            "Extracting  /content/YOLO_Dataset_Main/train/labels/000030.txt           \b\b\b\b 79%\b\b\b\b\b  OK \n",
            "Extracting  /content/YOLO_Dataset_Main/train/labels/000031.txt           \b\b\b\b 79%\b\b\b\b\b  OK \n",
            "Extracting  /content/YOLO_Dataset_Main/train/labels/000032.txt           \b\b\b\b 79%\b\b\b\b\b  OK \n",
            "Extracting  /content/YOLO_Dataset_Main/train/labels/000033.txt           \b\b\b\b 79%\b\b\b\b\b  OK \n",
            "Extracting  /content/YOLO_Dataset_Main/train/labels/000034.txt           \b\b\b\b 79%\b\b\b\b\b  OK \n",
            "Extracting  /content/YOLO_Dataset_Main/train/labels/000035.txt           \b\b\b\b 79%\b\b\b\b\b  OK \n",
            "Extracting  /content/YOLO_Dataset_Main/train/labels/000036.txt           \b\b\b\b 79%\b\b\b\b\b  OK \n",
            "Extracting  /content/YOLO_Dataset_Main/train/labels/000037.txt           \b\b\b\b 79%\b\b\b\b\b  OK \n",
            "Extracting  /content/YOLO_Dataset_Main/train/labels/000038.txt           \b\b\b\b 79%\b\b\b\b\b  OK \n",
            "Extracting  /content/YOLO_Dataset_Main/train/labels/000040.txt           \b\b\b\b 79%\b\b\b\b\b  OK \n",
            "Extracting  /content/YOLO_Dataset_Main/train/labels/000042.txt           \b\b\b\b 79%\b\b\b\b\b  OK \n",
            "Extracting  /content/YOLO_Dataset_Main/train/labels/000044.txt           \b\b\b\b 79%\b\b\b\b\b  OK \n",
            "Extracting  /content/YOLO_Dataset_Main/train/labels/000045.txt           \b\b\b\b 79%\b\b\b\b\b  OK \n",
            "Extracting  /content/YOLO_Dataset_Main/train/labels/000046.txt           \b\b\b\b 79%\b\b\b\b\b  OK \n",
            "Extracting  /content/YOLO_Dataset_Main/train/labels/000047.txt           \b\b\b\b 79%\b\b\b\b\b  OK \n",
            "Extracting  /content/YOLO_Dataset_Main/train/labels/000048.txt           \b\b\b\b 79%\b\b\b\b\b  OK \n",
            "Extracting  /content/YOLO_Dataset_Main/train/labels/000049.txt           \b\b\b\b 79%\b\b\b\b\b  OK \n",
            "Extracting  /content/YOLO_Dataset_Main/train/labels/000050.txt           \b\b\b\b 79%\b\b\b\b\b  OK \n",
            "Extracting  /content/YOLO_Dataset_Main/train/labels/000051.txt           \b\b\b\b 79%\b\b\b\b\b  OK \n",
            "Extracting  /content/YOLO_Dataset_Main/train/labels/000052.txt           \b\b\b\b 79%\b\b\b\b\b  OK \n",
            "Extracting  /content/YOLO_Dataset_Main/train/labels/000053.txt           \b\b\b\b 79%\b\b\b\b\b  OK \n",
            "Extracting  /content/YOLO_Dataset_Main/train/labels/000054.txt           \b\b\b\b 79%\b\b\b\b\b  OK \n",
            "Extracting  /content/YOLO_Dataset_Main/train/labels/000055.txt           \b\b\b\b 79%\b\b\b\b\b  OK \n",
            "Extracting  /content/YOLO_Dataset_Main/train/labels/000056.txt           \b\b\b\b 79%\b\b\b\b\b  OK \n",
            "Extracting  /content/YOLO_Dataset_Main/train/labels/000057.txt           \b\b\b\b 79%\b\b\b\b\b  OK \n",
            "Extracting  /content/YOLO_Dataset_Main/train/labels/000058.txt           \b\b\b\b 79%\b\b\b\b\b  OK \n",
            "Extracting  /content/YOLO_Dataset_Main/train/labels/000059.txt           \b\b\b\b 79%\b\b\b\b\b  OK \n",
            "Extracting  /content/YOLO_Dataset_Main/train/labels/000060.txt           \b\b\b\b 79%\b\b\b\b\b  OK \n",
            "Extracting  /content/YOLO_Dataset_Main/train/labels/000061.txt           \b\b\b\b 79%\b\b\b\b\b  OK \n",
            "Extracting  /content/YOLO_Dataset_Main/train/labels/000062.txt           \b\b\b\b 79%\b\b\b\b\b  OK \n",
            "Extracting  /content/YOLO_Dataset_Main/train/labels/000063.txt           \b\b\b\b 79%\b\b\b\b\b  OK \n",
            "Extracting  /content/YOLO_Dataset_Main/train/labels/000064.txt           \b\b\b\b 79%\b\b\b\b\b  OK \n",
            "Extracting  /content/YOLO_Dataset_Main/train/labels/000065.txt           \b\b\b\b 79%\b\b\b\b\b  OK \n",
            "Extracting  /content/YOLO_Dataset_Main/train/labels/000066.txt           \b\b\b\b 79%\b\b\b\b\b  OK \n",
            "Extracting  /content/YOLO_Dataset_Main/train/labels/000069.txt           \b\b\b\b 79%\b\b\b\b\b  OK \n",
            "Extracting  /content/YOLO_Dataset_Main/train/labels/000070.txt           \b\b\b\b 79%\b\b\b\b\b  OK \n",
            "Extracting  /content/YOLO_Dataset_Main/train/labels/000072.txt           \b\b\b\b 79%\b\b\b\b\b  OK \n",
            "Extracting  /content/YOLO_Dataset_Main/train/labels/000074.txt           \b\b\b\b 79%\b\b\b\b\b  OK \n",
            "Extracting  /content/YOLO_Dataset_Main/train/labels/000075.txt           \b\b\b\b 79%\b\b\b\b\b  OK \n",
            "Extracting  /content/YOLO_Dataset_Main/train/labels/000076.txt           \b\b\b\b 79%\b\b\b\b\b  OK \n",
            "Extracting  /content/YOLO_Dataset_Main/train/labels/000077.txt           \b\b\b\b 79%\b\b\b\b\b  OK \n",
            "Extracting  /content/YOLO_Dataset_Main/train/labels/000078.txt           \b\b\b\b 79%\b\b\b\b\b  OK \n",
            "Extracting  /content/YOLO_Dataset_Main/train/labels/000079.txt           \b\b\b\b 79%\b\b\b\b\b  OK \n",
            "Extracting  /content/YOLO_Dataset_Main/train/labels/000080.txt           \b\b\b\b 79%\b\b\b\b\b  OK \n",
            "Extracting  /content/YOLO_Dataset_Main/train/labels/000081.txt           \b\b\b\b 79%\b\b\b\b\b  OK \n",
            "Extracting  /content/YOLO_Dataset_Main/train/labels/000082.txt           \b\b\b\b 79%\b\b\b\b\b  OK \n",
            "Extracting  /content/YOLO_Dataset_Main/train/labels/000083.txt           \b\b\b\b 79%\b\b\b\b\b  OK \n",
            "Extracting  /content/YOLO_Dataset_Main/train/labels/000086.txt           \b\b\b\b 79%\b\b\b\b\b  OK \n",
            "Extracting  /content/YOLO_Dataset_Main/train/labels/000087.txt           \b\b\b\b 79%\b\b\b\b\b  OK \n",
            "Extracting  /content/YOLO_Dataset_Main/train/labels/000088.txt           \b\b\b\b 79%\b\b\b\b\b  OK \n",
            "Extracting  /content/YOLO_Dataset_Main/train/labels/000090.txt           \b\b\b\b 79%\b\b\b\b\b  OK \n",
            "Extracting  /content/YOLO_Dataset_Main/train/labels/000091.txt           \b\b\b\b 79%\b\b\b\b\b  OK \n",
            "Extracting  /content/YOLO_Dataset_Main/train/labels/000093.txt           \b\b\b\b 79%\b\b\b\b\b  OK \n",
            "Extracting  /content/YOLO_Dataset_Main/train/labels/000094.txt           \b\b\b\b 79%\b\b\b\b\b  OK \n",
            "Extracting  /content/YOLO_Dataset_Main/train/labels/000095.txt           \b\b\b\b 79%\b\b\b\b\b  OK \n",
            "Extracting  /content/YOLO_Dataset_Main/train/labels/000096.txt           \b\b\b\b 79%\b\b\b\b\b  OK \n",
            "Extracting  /content/YOLO_Dataset_Main/train/labels/000097.txt           \b\b\b\b 79%\b\b\b\b\b  OK \n",
            "Extracting  /content/YOLO_Dataset_Main/train/labels/000098.txt           \b\b\b\b 79%\b\b\b\b\b  OK \n",
            "Extracting  /content/YOLO_Dataset_Main/train/labels/000099.txt           \b\b\b\b 79%\b\b\b\b\b  OK \n",
            "Extracting  /content/YOLO_Dataset_Main/train/labels/000100.txt           \b\b\b\b 79%\b\b\b\b\b  OK \n",
            "Extracting  /content/YOLO_Dataset_Main/train/labels/000101.txt           \b\b\b\b 79%\b\b\b\b\b  OK \n",
            "Extracting  /content/YOLO_Dataset_Main/train/labels/000102.txt           \b\b\b\b 79%\b\b\b\b\b  OK \n",
            "Extracting  /content/YOLO_Dataset_Main/train/labels/000103.txt           \b\b\b\b 79%\b\b\b\b\b  OK \n",
            "Extracting  /content/YOLO_Dataset_Main/train/labels/000104.txt           \b\b\b\b 79%\b\b\b\b\b  OK \n",
            "Extracting  /content/YOLO_Dataset_Main/train/labels/000105.txt           \b\b\b\b 79%\b\b\b\b\b  OK \n",
            "Extracting  /content/YOLO_Dataset_Main/train/labels/000106.txt           \b\b\b\b 79%\b\b\b\b\b  OK \n",
            "Extracting  /content/YOLO_Dataset_Main/train/labels/000107.txt           \b\b\b\b 79%\b\b\b\b\b  OK \n",
            "Extracting  /content/YOLO_Dataset_Main/train/labels/000108.txt           \b\b\b\b 79%\b\b\b\b\b  OK \n",
            "Extracting  /content/YOLO_Dataset_Main/train/labels/000112.txt           \b\b\b\b 79%\b\b\b\b\b  OK \n",
            "Extracting  /content/YOLO_Dataset_Main/train/labels/000113.txt           \b\b\b\b 79%\b\b\b\b\b  OK \n",
            "Extracting  /content/YOLO_Dataset_Main/train/labels/000114.txt           \b\b\b\b 79%\b\b\b\b\b  OK \n",
            "Extracting  /content/YOLO_Dataset_Main/train/labels/000116.txt           \b\b\b\b 79%\b\b\b\b\b  OK \n",
            "Extracting  /content/YOLO_Dataset_Main/train/labels/000117.txt           \b\b\b\b 79%\b\b\b\b\b  OK \n",
            "Extracting  /content/YOLO_Dataset_Main/train/labels/000118.txt           \b\b\b\b 79%\b\b\b\b\b  OK \n",
            "Extracting  /content/YOLO_Dataset_Main/train/labels/000119.txt           \b\b\b\b 79%\b\b\b\b\b  OK \n",
            "Extracting  /content/YOLO_Dataset_Main/train/labels/000121.txt           \b\b\b\b 79%\b\b\b\b\b  OK \n",
            "Extracting  /content/YOLO_Dataset_Main/train/labels/000122.txt           \b\b\b\b 79%\b\b\b\b\b  OK \n",
            "Extracting  /content/YOLO_Dataset_Main/train/labels/000124.txt           \b\b\b\b 79%\b\b\b\b\b  OK \n",
            "Extracting  /content/YOLO_Dataset_Main/train/labels/000125.txt           \b\b\b\b 79%\b\b\b\b\b  OK \n",
            "Extracting  /content/YOLO_Dataset_Main/train/labels/000126.txt           \b\b\b\b 79%\b\b\b\b\b  OK \n",
            "Extracting  /content/YOLO_Dataset_Main/train/labels/000127.txt           \b\b\b\b 79%\b\b\b\b\b  OK \n",
            "Extracting  /content/YOLO_Dataset_Main/train/labels/000128.txt           \b\b\b\b 79%\b\b\b\b\b  OK \n",
            "Extracting  /content/YOLO_Dataset_Main/train/labels/000130.txt           \b\b\b\b 79%\b\b\b\b\b  OK \n",
            "Extracting  /content/YOLO_Dataset_Main/train/labels/000131.txt           \b\b\b\b 79%\b\b\b\b\b  OK \n",
            "Extracting  /content/YOLO_Dataset_Main/train/labels/000132.txt           \b\b\b\b 79%\b\b\b\b\b  OK \n",
            "Extracting  /content/YOLO_Dataset_Main/train/labels/000133.txt           \b\b\b\b 79%\b\b\b\b\b  OK \n",
            "Extracting  /content/YOLO_Dataset_Main/train/labels/000135.txt           \b\b\b\b 79%\b\b\b\b\b  OK \n",
            "Extracting  /content/YOLO_Dataset_Main/train/labels/000138.txt           \b\b\b\b 79%\b\b\b\b\b  OK \n",
            "Extracting  /content/YOLO_Dataset_Main/train/labels/000139.txt           \b\b\b\b 79%\b\b\b\b\b  OK \n",
            "Extracting  /content/YOLO_Dataset_Main/train/labels/000140.txt           \b\b\b\b 79%\b\b\b\b\b  OK \n",
            "Extracting  /content/YOLO_Dataset_Main/train/labels/000142.txt           \b\b\b\b 79%\b\b\b\b\b  OK \n",
            "Extracting  /content/YOLO_Dataset_Main/train/labels/000143.txt           \b\b\b\b 79%\b\b\b\b\b  OK \n",
            "Extracting  /content/YOLO_Dataset_Main/train/labels/000144.txt           \b\b\b\b 79%\b\b\b\b\b  OK \n",
            "Extracting  /content/YOLO_Dataset_Main/train/labels/000145.txt           \b\b\b\b 79%\b\b\b\b\b  OK \n",
            "Extracting  /content/YOLO_Dataset_Main/train/labels/000146.txt           \b\b\b\b 79%\b\b\b\b\b  OK \n",
            "Extracting  /content/YOLO_Dataset_Main/train/labels/000147.txt           \b\b\b\b 79%\b\b\b\b\b  OK \n",
            "Extracting  /content/YOLO_Dataset_Main/train/labels/000148.txt           \b\b\b\b 79%\b\b\b\b\b  OK \n",
            "Extracting  /content/YOLO_Dataset_Main/train/labels/000150.txt           \b\b\b\b 79%\b\b\b\b\b  OK \n",
            "Extracting  /content/YOLO_Dataset_Main/train/labels/000151.txt           \b\b\b\b 79%\b\b\b\b\b  OK \n",
            "Extracting  /content/YOLO_Dataset_Main/train/labels/000152.txt           \b\b\b\b 79%\b\b\b\b\b  OK \n",
            "Extracting  /content/YOLO_Dataset_Main/train/labels/000153.txt           \b\b\b\b 79%\b\b\b\b\b  OK \n",
            "Extracting  /content/YOLO_Dataset_Main/train/labels/000154.txt           \b\b\b\b 79%\b\b\b\b\b  OK \n",
            "Extracting  /content/YOLO_Dataset_Main/train/labels/000155.txt           \b\b\b\b 79%\b\b\b\b\b  OK \n",
            "Extracting  /content/YOLO_Dataset_Main/train/labels/000156.txt           \b\b\b\b 79%\b\b\b\b\b  OK \n",
            "Extracting  /content/YOLO_Dataset_Main/train/labels/000157.txt           \b\b\b\b 79%\b\b\b\b\b  OK \n",
            "Extracting  /content/YOLO_Dataset_Main/train/labels/000158.txt           \b\b\b\b 79%\b\b\b\b\b  OK \n",
            "Extracting  /content/YOLO_Dataset_Main/train/labels/000159.txt           \b\b\b\b 79%\b\b\b\b\b  OK \n",
            "Extracting  /content/YOLO_Dataset_Main/train/labels/000160.txt           \b\b\b\b 79%\b\b\b\b\b  OK \n",
            "Extracting  /content/YOLO_Dataset_Main/train/labels/000161.txt           \b\b\b\b 79%\b\b\b\b\b  OK \n",
            "Extracting  /content/YOLO_Dataset_Main/train/labels/000162.txt           \b\b\b\b 79%\b\b\b\b\b  OK \n",
            "Extracting  /content/YOLO_Dataset_Main/train/labels/000163.txt           \b\b\b\b 79%\b\b\b\b\b  OK \n",
            "Extracting  /content/YOLO_Dataset_Main/train/labels/000164.txt           \b\b\b\b 79%\b\b\b\b\b  OK \n",
            "Extracting  /content/YOLO_Dataset_Main/train/labels/000165.txt           \b\b\b\b 79%\b\b\b\b\b  OK \n",
            "Extracting  /content/YOLO_Dataset_Main/train/labels/000166.txt           \b\b\b\b 79%\b\b\b\b\b  OK \n",
            "Extracting  /content/YOLO_Dataset_Main/train/labels/000167.txt           \b\b\b\b 79%\b\b\b\b\b  OK \n",
            "Extracting  /content/YOLO_Dataset_Main/train/labels/000169.txt           \b\b\b\b 79%\b\b\b\b\b  OK \n",
            "Extracting  /content/YOLO_Dataset_Main/train/labels/000171.txt           \b\b\b\b 79%\b\b\b\b\b  OK \n",
            "Extracting  /content/YOLO_Dataset_Main/train/labels/000174.txt           \b\b\b\b 79%\b\b\b\b\b  OK \n",
            "Extracting  /content/YOLO_Dataset_Main/train/labels/000175.txt           \b\b\b\b 79%\b\b\b\b\b  OK \n",
            "Extracting  /content/YOLO_Dataset_Main/train/labels/000176.txt           \b\b\b\b 79%\b\b\b\b\b  OK \n",
            "Extracting  /content/YOLO_Dataset_Main/train/labels/000177.txt           \b\b\b\b 79%\b\b\b\b\b  OK \n",
            "Extracting  /content/YOLO_Dataset_Main/train/labels/000178.txt           \b\b\b\b 79%\b\b\b\b\b  OK \n",
            "Extracting  /content/YOLO_Dataset_Main/train/labels/000179.txt           \b\b\b\b 79%\b\b\b\b\b  OK \n",
            "Extracting  /content/YOLO_Dataset_Main/train/labels/000180.txt           \b\b\b\b 79%\b\b\b\b\b  OK \n",
            "Extracting  /content/YOLO_Dataset_Main/train/labels/000181.txt           \b\b\b\b 79%\b\b\b\b\b  OK \n",
            "Extracting  /content/YOLO_Dataset_Main/train/labels/000185.txt           \b\b\b\b 79%\b\b\b\b\b  OK \n",
            "Extracting  /content/YOLO_Dataset_Main/train/labels/000186.txt           \b\b\b\b 79%\b\b\b\b\b  OK \n",
            "Extracting  /content/YOLO_Dataset_Main/train/labels/000187.txt           \b\b\b\b 79%\b\b\b\b\b  OK \n",
            "Extracting  /content/YOLO_Dataset_Main/train/labels/000188.txt           \b\b\b\b 79%\b\b\b\b\b  OK \n",
            "Extracting  /content/YOLO_Dataset_Main/train/labels/000189.txt           \b\b\b\b 79%\b\b\b\b\b  OK \n",
            "Extracting  /content/YOLO_Dataset_Main/train/labels/000190.txt           \b\b\b\b 79%\b\b\b\b\b  OK \n",
            "Extracting  /content/YOLO_Dataset_Main/train/labels/000191.txt           \b\b\b\b 79%\b\b\b\b\b  OK \n",
            "Extracting  /content/YOLO_Dataset_Main/train/labels/000193.txt           \b\b\b\b 79%\b\b\b\b\b  OK \n",
            "Extracting  /content/YOLO_Dataset_Main/train/labels/000194.txt           \b\b\b\b 79%\b\b\b\b\b  OK \n",
            "Extracting  /content/YOLO_Dataset_Main/train/labels/000197.txt           \b\b\b\b 79%\b\b\b\b\b  OK \n",
            "Extracting  /content/YOLO_Dataset_Main/train/labels/000199.txt           \b\b\b\b 79%\b\b\b\b\b  OK \n",
            "Extracting  /content/YOLO_Dataset_Main/train/labels/000200.txt           \b\b\b\b 79%\b\b\b\b\b  OK \n",
            "Extracting  /content/YOLO_Dataset_Main/train/labels/000201.txt           \b\b\b\b 79%\b\b\b\b\b  OK \n",
            "Extracting  /content/YOLO_Dataset_Main/train/labels/000202.txt           \b\b\b\b 79%\b\b\b\b\b  OK \n",
            "Extracting  /content/YOLO_Dataset_Main/train/labels/000203.txt           \b\b\b\b 79%\b\b\b\b\b  OK \n",
            "Extracting  /content/YOLO_Dataset_Main/train/labels/000204.txt           \b\b\b\b 79%\b\b\b\b\b  OK \n",
            "Extracting  /content/YOLO_Dataset_Main/train/labels/000205.txt           \b\b\b\b 79%\b\b\b\b\b  OK \n",
            "Extracting  /content/YOLO_Dataset_Main/train/labels/000206.txt           \b\b\b\b 79%\b\b\b\b\b  OK \n",
            "Extracting  /content/YOLO_Dataset_Main/train/labels/000207.txt           \b\b\b\b 79%\b\b\b\b\b  OK \n",
            "Extracting  /content/YOLO_Dataset_Main/train/labels/000209.txt           \b\b\b\b 79%\b\b\b\b\b  OK \n",
            "Extracting  /content/YOLO_Dataset_Main/train/labels/000210.txt           \b\b\b\b 79%\b\b\b\b\b  OK \n",
            "Extracting  /content/YOLO_Dataset_Main/train/labels/000212.txt           \b\b\b\b 79%\b\b\b\b\b  OK \n",
            "Extracting  /content/YOLO_Dataset_Main/train/labels/000213.txt           \b\b\b\b 79%\b\b\b\b\b  OK \n",
            "Extracting  /content/YOLO_Dataset_Main/train/labels/000214.txt           \b\b\b\b 79%\b\b\b\b\b  OK \n",
            "Extracting  /content/YOLO_Dataset_Main/train/labels/000216.txt           \b\b\b\b 79%\b\b\b\b\b  OK \n",
            "Extracting  /content/YOLO_Dataset_Main/train/labels/000217.txt           \b\b\b\b 79%\b\b\b\b\b  OK \n",
            "Extracting  /content/YOLO_Dataset_Main/train/labels/000218.txt           \b\b\b\b 79%\b\b\b\b\b  OK \n",
            "Extracting  /content/YOLO_Dataset_Main/train/labels/000219.txt           \b\b\b\b 79%\b\b\b\b\b  OK \n",
            "Extracting  /content/YOLO_Dataset_Main/train/labels/000220.txt           \b\b\b\b 79%\b\b\b\b\b  OK \n",
            "Extracting  /content/YOLO_Dataset_Main/train/labels/000221.txt           \b\b\b\b 79%\b\b\b\b\b  OK \n",
            "Extracting  /content/YOLO_Dataset_Main/train/labels/000224.txt           \b\b\b\b 79%\b\b\b\b\b  OK \n",
            "Extracting  /content/YOLO_Dataset_Main/train/labels/000225.txt           \b\b\b\b 79%\b\b\b\b\b  OK \n",
            "Extracting  /content/YOLO_Dataset_Main/train/labels/000226.txt           \b\b\b\b 79%\b\b\b\b\b  OK \n",
            "Extracting  /content/YOLO_Dataset_Main/train/labels/000227.txt           \b\b\b\b 79%\b\b\b\b\b  OK \n",
            "Extracting  /content/YOLO_Dataset_Main/train/labels/000229.txt           \b\b\b\b 79%\b\b\b\b\b  OK \n",
            "Extracting  /content/YOLO_Dataset_Main/train/labels/000231.txt           \b\b\b\b 79%\b\b\b\b\b  OK \n",
            "Extracting  /content/YOLO_Dataset_Main/train/labels/000232.txt           \b\b\b\b 79%\b\b\b\b\b  OK \n",
            "Extracting  /content/YOLO_Dataset_Main/train/labels/000233.txt           \b\b\b\b 79%\b\b\b\b\b  OK \n",
            "Extracting  /content/YOLO_Dataset_Main/train/labels/000234.txt           \b\b\b\b 79%\b\b\b\b\b  OK \n",
            "Extracting  /content/YOLO_Dataset_Main/train/labels/000235.txt           \b\b\b\b 79%\b\b\b\b\b  OK \n",
            "Extracting  /content/YOLO_Dataset_Main/train/labels/000236.txt           \b\b\b\b 79%\b\b\b\b\b  OK \n",
            "Extracting  /content/YOLO_Dataset_Main/train/labels/000237.txt           \b\b\b\b 79%\b\b\b\b\b  OK \n",
            "Extracting  /content/YOLO_Dataset_Main/train/labels/000238.txt           \b\b\b\b 79%\b\b\b\b\b  OK \n",
            "Extracting  /content/YOLO_Dataset_Main/train/labels/000239.txt           \b\b\b\b 79%\b\b\b\b\b  OK \n",
            "Extracting  /content/YOLO_Dataset_Main/train/labels/000240.txt           \b\b\b\b 79%\b\b\b\b\b  OK \n",
            "Extracting  /content/YOLO_Dataset_Main/train/labels/000241.txt           \b\b\b\b 79%\b\b\b\b\b  OK \n",
            "Extracting  /content/YOLO_Dataset_Main/train/labels/000242.txt           \b\b\b\b 79%\b\b\b\b\b  OK \n",
            "Extracting  /content/YOLO_Dataset_Main/train/labels/000243.txt           \b\b\b\b 79%\b\b\b\b\b  OK \n",
            "Extracting  /content/YOLO_Dataset_Main/train/labels/000244.txt           \b\b\b\b 79%\b\b\b\b\b  OK \n",
            "Extracting  /content/YOLO_Dataset_Main/train/labels/000245.txt           \b\b\b\b 79%\b\b\b\b\b  OK \n",
            "Extracting  /content/YOLO_Dataset_Main/train/labels/000247.txt           \b\b\b\b 79%\b\b\b\b\b  OK \n",
            "Extracting  /content/YOLO_Dataset_Main/train/labels/000248.txt           \b\b\b\b 79%\b\b\b\b\b  OK \n",
            "Extracting  /content/YOLO_Dataset_Main/train/labels/000250.txt           \b\b\b\b 79%\b\b\b\b\b  OK \n",
            "Extracting  /content/YOLO_Dataset_Main/train/labels/000251.txt           \b\b\b\b 79%\b\b\b\b\b  OK \n",
            "Extracting  /content/YOLO_Dataset_Main/train/labels/000252.txt           \b\b\b\b 79%\b\b\b\b\b  OK \n",
            "Extracting  /content/YOLO_Dataset_Main/train/labels/000253.txt           \b\b\b\b 79%\b\b\b\b\b  OK \n",
            "Extracting  /content/YOLO_Dataset_Main/train/labels/000254.txt           \b\b\b\b 79%\b\b\b\b\b  OK \n",
            "Extracting  /content/YOLO_Dataset_Main/train/labels/000255.txt           \b\b\b\b 79%\b\b\b\b\b  OK \n",
            "Extracting  /content/YOLO_Dataset_Main/train/labels/000256.txt           \b\b\b\b 79%\b\b\b\b\b  OK \n",
            "Extracting  /content/YOLO_Dataset_Main/train/labels/000257.txt           \b\b\b\b 79%\b\b\b\b\b  OK \n",
            "Extracting  /content/YOLO_Dataset_Main/train/labels/000258.txt           \b\b\b\b 79%\b\b\b\b\b  OK \n",
            "Extracting  /content/YOLO_Dataset_Main/train/labels/000259.txt           \b\b\b\b 79%\b\b\b\b\b  OK \n",
            "Extracting  /content/YOLO_Dataset_Main/train/labels/000260.txt           \b\b\b\b 79%\b\b\b\b\b  OK \n",
            "Extracting  /content/YOLO_Dataset_Main/train/labels/000261.txt           \b\b\b\b 79%\b\b\b\b\b  OK \n",
            "Extracting  /content/YOLO_Dataset_Main/train/labels/000263.txt           \b\b\b\b 79%\b\b\b\b\b  OK \n",
            "Extracting  /content/YOLO_Dataset_Main/train/labels/000265.txt           \b\b\b\b 79%\b\b\b\b\b  OK \n",
            "Extracting  /content/YOLO_Dataset_Main/train/labels/000266.txt           \b\b\b\b 79%\b\b\b\b\b  OK \n",
            "Extracting  /content/YOLO_Dataset_Main/train/labels/000267.txt           \b\b\b\b 79%\b\b\b\b\b  OK \n",
            "Extracting  /content/YOLO_Dataset_Main/train/labels/000268.txt           \b\b\b\b 79%\b\b\b\b\b  OK \n",
            "Extracting  /content/YOLO_Dataset_Main/train/labels/000270.txt           \b\b\b\b 79%\b\b\b\b\b  OK \n",
            "Extracting  /content/YOLO_Dataset_Main/train/labels/000271.txt           \b\b\b\b 79%\b\b\b\b\b  OK \n",
            "Extracting  /content/YOLO_Dataset_Main/train/labels/000272.txt           \b\b\b\b 79%\b\b\b\b\b  OK \n",
            "Extracting  /content/YOLO_Dataset_Main/train/labels/000273.txt           \b\b\b\b 79%\b\b\b\b\b  OK \n",
            "Extracting  /content/YOLO_Dataset_Main/train/labels/000274.txt           \b\b\b\b 79%\b\b\b\b\b  OK \n",
            "Extracting  /content/YOLO_Dataset_Main/train/labels/000275.txt           \b\b\b\b 79%\b\b\b\b\b  OK \n",
            "Extracting  /content/YOLO_Dataset_Main/train/labels/000276.txt           \b\b\b\b 79%\b\b\b\b\b  OK \n",
            "Extracting  /content/YOLO_Dataset_Main/train/labels/000277.txt           \b\b\b\b 79%\b\b\b\b\b  OK \n",
            "Extracting  /content/YOLO_Dataset_Main/train/labels/000278.txt           \b\b\b\b 79%\b\b\b\b\b  OK \n",
            "Extracting  /content/YOLO_Dataset_Main/train/labels/000280.txt           \b\b\b\b 79%\b\b\b\b\b  OK \n",
            "Extracting  /content/YOLO_Dataset_Main/train/labels/000282.txt           \b\b\b\b 79%\b\b\b\b\b  OK \n",
            "Extracting  /content/YOLO_Dataset_Main/train/labels/000283.txt           \b\b\b\b 79%\b\b\b\b\b  OK \n",
            "Extracting  /content/YOLO_Dataset_Main/train/labels/000284.txt           \b\b\b\b 79%\b\b\b\b\b  OK \n",
            "Extracting  /content/YOLO_Dataset_Main/train/labels/000285.txt           \b\b\b\b 79%\b\b\b\b\b  OK \n",
            "Extracting  /content/YOLO_Dataset_Main/train/labels/000287.txt           \b\b\b\b 79%\b\b\b\b\b  OK \n",
            "Extracting  /content/YOLO_Dataset_Main/train/labels/000288.txt           \b\b\b\b 79%\b\b\b\b\b  OK \n",
            "Extracting  /content/YOLO_Dataset_Main/train/labels/000289.txt           \b\b\b\b 79%\b\b\b\b\b  OK \n",
            "Extracting  /content/YOLO_Dataset_Main/train/labels/000290.txt           \b\b\b\b 79%\b\b\b\b\b  OK \n",
            "Extracting  /content/YOLO_Dataset_Main/train/labels/000291.txt           \b\b\b\b 79%\b\b\b\b\b  OK \n",
            "Extracting  /content/YOLO_Dataset_Main/train/labels/000292.txt           \b\b\b\b 79%\b\b\b\b\b  OK \n",
            "Extracting  /content/YOLO_Dataset_Main/train/labels/000293.txt           \b\b\b\b 79%\b\b\b\b\b  OK \n",
            "Extracting  /content/YOLO_Dataset_Main/train/labels/000294.txt           \b\b\b\b 79%\b\b\b\b\b  OK \n",
            "Extracting  /content/YOLO_Dataset_Main/train/labels/000295.txt           \b\b\b\b 79%\b\b\b\b\b  OK \n",
            "Extracting  /content/YOLO_Dataset_Main/train/labels/000298.txt           \b\b\b\b 79%\b\b\b\b\b  OK \n",
            "Extracting  /content/YOLO_Dataset_Main/train/labels/000299.txt           \b\b\b\b 79%\b\b\b\b\b  OK \n",
            "Extracting  /content/YOLO_Dataset_Main/train/labels/000300.txt           \b\b\b\b 79%\b\b\b\b\b  OK \n",
            "Extracting  /content/YOLO_Dataset_Main/train/labels/000301.txt           \b\b\b\b 79%\b\b\b\b\b  OK \n",
            "Extracting  /content/YOLO_Dataset_Main/train/labels/000302.txt           \b\b\b\b 79%\b\b\b\b\b  OK \n",
            "Extracting  /content/YOLO_Dataset_Main/train/labels/000303.txt           \b\b\b\b 79%\b\b\b\b\b  OK \n",
            "Extracting  /content/YOLO_Dataset_Main/train/labels/000304.txt           \b\b\b\b 79%\b\b\b\b\b  OK \n",
            "Extracting  /content/YOLO_Dataset_Main/train/labels/000305.txt           \b\b\b\b 79%\b\b\b\b\b  OK \n",
            "Extracting  /content/YOLO_Dataset_Main/train/labels/000306.txt           \b\b\b\b 79%\b\b\b\b\b  OK \n",
            "Extracting  /content/YOLO_Dataset_Main/train/labels/000307.txt           \b\b\b\b 79%\b\b\b\b\b  OK \n",
            "Extracting  /content/YOLO_Dataset_Main/train/labels/000308.txt           \b\b\b\b 79%\b\b\b\b\b  OK \n",
            "Extracting  /content/YOLO_Dataset_Main/train/labels/000309.txt           \b\b\b\b 79%\b\b\b\b\b  OK \n",
            "Extracting  /content/YOLO_Dataset_Main/train/labels/000310.txt           \b\b\b\b 79%\b\b\b\b\b  OK \n",
            "Extracting  /content/YOLO_Dataset_Main/train/labels/000311.txt           \b\b\b\b 79%\b\b\b\b\b  OK \n",
            "Extracting  /content/YOLO_Dataset_Main/train/labels/000312.txt           \b\b\b\b 79%\b\b\b\b\b  OK \n",
            "Extracting  /content/YOLO_Dataset_Main/train/labels/000313.txt           \b\b\b\b 79%\b\b\b\b\b  OK \n",
            "Extracting  /content/YOLO_Dataset_Main/train/labels/000316.txt           \b\b\b\b 79%\b\b\b\b\b  OK \n",
            "Extracting  /content/YOLO_Dataset_Main/train/labels/000317.txt           \b\b\b\b 79%\b\b\b\b\b  OK \n",
            "Extracting  /content/YOLO_Dataset_Main/train/labels/000318.txt           \b\b\b\b 79%\b\b\b\b\b  OK \n",
            "Extracting  /content/YOLO_Dataset_Main/train/labels/000321.txt           \b\b\b\b 79%\b\b\b\b\b  OK \n",
            "Extracting  /content/YOLO_Dataset_Main/train/labels/000322.txt           \b\b\b\b 79%\b\b\b\b\b  OK \n",
            "Extracting  /content/YOLO_Dataset_Main/train/labels/000323.txt           \b\b\b\b 79%\b\b\b\b\b  OK \n",
            "Extracting  /content/YOLO_Dataset_Main/train/labels/000324.txt           \b\b\b\b 79%\b\b\b\b\b  OK \n",
            "Extracting  /content/YOLO_Dataset_Main/train/labels/000325.txt           \b\b\b\b 79%\b\b\b\b\b  OK \n",
            "Extracting  /content/YOLO_Dataset_Main/train/labels/000329.txt           \b\b\b\b 79%\b\b\b\b\b  OK \n",
            "Extracting  /content/YOLO_Dataset_Main/train/labels/000330.txt           \b\b\b\b 79%\b\b\b\b\b  OK \n",
            "Extracting  /content/YOLO_Dataset_Main/train/labels/000331.txt           \b\b\b\b 79%\b\b\b\b\b  OK \n",
            "Extracting  /content/YOLO_Dataset_Main/train/labels/000333.txt           \b\b\b\b 79%\b\b\b\b\b  OK \n",
            "Extracting  /content/YOLO_Dataset_Main/train/labels/000334.txt           \b\b\b\b 79%\b\b\b\b\b  OK \n",
            "Extracting  /content/YOLO_Dataset_Main/train/labels/000335.txt           \b\b\b\b 79%\b\b\b\b\b  OK \n",
            "Extracting  /content/YOLO_Dataset_Main/train/labels/000336.txt           \b\b\b\b 79%\b\b\b\b\b  OK \n",
            "Extracting  /content/YOLO_Dataset_Main/train/labels/000338.txt           \b\b\b\b 79%\b\b\b\b\b  OK \n",
            "Extracting  /content/YOLO_Dataset_Main/train/labels/000339.txt           \b\b\b\b 79%\b\b\b\b\b  OK \n",
            "Extracting  /content/YOLO_Dataset_Main/train/labels/000340.txt           \b\b\b\b 79%\b\b\b\b\b  OK \n",
            "Extracting  /content/YOLO_Dataset_Main/train/labels/000342.txt           \b\b\b\b 79%\b\b\b\b\b  OK \n",
            "Extracting  /content/YOLO_Dataset_Main/train/labels/000344.txt           \b\b\b\b 79%\b\b\b\b\b  OK \n",
            "Extracting  /content/YOLO_Dataset_Main/train/labels/000345.txt           \b\b\b\b 79%\b\b\b\b\b  OK \n",
            "Extracting  /content/YOLO_Dataset_Main/train/labels/000346.txt           \b\b\b\b 79%\b\b\b\b\b  OK \n",
            "Extracting  /content/YOLO_Dataset_Main/train/labels/000347.txt           \b\b\b\b 79%\b\b\b\b\b  OK \n",
            "Extracting  /content/YOLO_Dataset_Main/train/labels/000348.txt           \b\b\b\b 79%\b\b\b\b\b  OK \n",
            "Extracting  /content/YOLO_Dataset_Main/train/labels/000349.txt           \b\b\b\b 79%\b\b\b\b\b  OK \n",
            "Extracting  /content/YOLO_Dataset_Main/train/labels/000350.txt           \b\b\b\b 79%\b\b\b\b\b  OK \n",
            "Extracting  /content/YOLO_Dataset_Main/train/labels/000352.txt           \b\b\b\b 79%\b\b\b\b\b  OK \n",
            "Extracting  /content/YOLO_Dataset_Main/train/labels/000353.txt           \b\b\b\b 79%\b\b\b\b\b  OK \n",
            "Extracting  /content/YOLO_Dataset_Main/train/labels/000354.txt           \b\b\b\b 79%\b\b\b\b\b  OK \n",
            "Extracting  /content/YOLO_Dataset_Main/train/labels/000356.txt           \b\b\b\b 79%\b\b\b\b\b  OK \n",
            "Extracting  /content/YOLO_Dataset_Main/train/labels/000357.txt           \b\b\b\b 79%\b\b\b\b\b  OK \n",
            "Extracting  /content/YOLO_Dataset_Main/train/labels/000358.txt           \b\b\b\b 79%\b\b\b\b\b  OK \n",
            "Extracting  /content/YOLO_Dataset_Main/train/labels/000359.txt           \b\b\b\b 79%\b\b\b\b\b  OK \n",
            "Extracting  /content/YOLO_Dataset_Main/train/labels/000360.txt           \b\b\b\b 79%\b\b\b\b\b  OK \n",
            "Extracting  /content/YOLO_Dataset_Main/train/labels/000361.txt           \b\b\b\b 79%\b\b\b\b\b  OK \n",
            "Extracting  /content/YOLO_Dataset_Main/train/labels/000363.txt           \b\b\b\b 79%\b\b\b\b\b  OK \n",
            "Extracting  /content/YOLO_Dataset_Main/train/labels/000364.txt           \b\b\b\b 79%\b\b\b\b\b  OK \n",
            "Extracting  /content/YOLO_Dataset_Main/train/labels/000365.txt           \b\b\b\b 79%\b\b\b\b\b  OK \n",
            "Extracting  /content/YOLO_Dataset_Main/train/labels/000366.txt           \b\b\b\b 79%\b\b\b\b\b  OK \n",
            "Extracting  /content/YOLO_Dataset_Main/train/labels/000367.txt           \b\b\b\b 79%\b\b\b\b\b  OK \n",
            "Extracting  /content/YOLO_Dataset_Main/train/labels/000368.txt           \b\b\b\b 79%\b\b\b\b\b  OK \n",
            "Extracting  /content/YOLO_Dataset_Main/train/labels/000370.txt           \b\b\b\b 79%\b\b\b\b\b  OK \n",
            "Extracting  /content/YOLO_Dataset_Main/train/labels/000371.txt           \b\b\b\b 79%\b\b\b\b\b  OK \n",
            "Extracting  /content/YOLO_Dataset_Main/train/labels/000373.txt           \b\b\b\b 79%\b\b\b\b\b  OK \n",
            "Extracting  /content/YOLO_Dataset_Main/train/labels/000374.txt           \b\b\b\b 79%\b\b\b\b\b  OK \n",
            "Extracting  /content/YOLO_Dataset_Main/train/labels/000375.txt           \b\b\b\b 79%\b\b\b\b\b  OK \n",
            "Extracting  /content/YOLO_Dataset_Main/train/labels/000377.txt           \b\b\b\b 79%\b\b\b\b\b  OK \n",
            "Extracting  /content/YOLO_Dataset_Main/train/labels/000378.txt           \b\b\b\b 79%\b\b\b\b\b  OK \n",
            "Extracting  /content/YOLO_Dataset_Main/train/labels/000379.txt           \b\b\b\b 79%\b\b\b\b\b  OK \n",
            "Extracting  /content/YOLO_Dataset_Main/train/labels/000380.txt           \b\b\b\b 79%\b\b\b\b\b  OK \n",
            "Extracting  /content/YOLO_Dataset_Main/train/labels/000381.txt           \b\b\b\b 79%\b\b\b\b\b  OK \n",
            "Extracting  /content/YOLO_Dataset_Main/train/labels/000382.txt           \b\b\b\b 79%\b\b\b\b\b  OK \n",
            "Extracting  /content/YOLO_Dataset_Main/train/labels/000383.txt           \b\b\b\b 79%\b\b\b\b\b  OK \n",
            "Extracting  /content/YOLO_Dataset_Main/train/labels/000385.txt           \b\b\b\b 79%\b\b\b\b\b  OK \n",
            "Extracting  /content/YOLO_Dataset_Main/train/labels/000386.txt           \b\b\b\b 79%\b\b\b\b\b  OK \n",
            "Extracting  /content/YOLO_Dataset_Main/train/labels/000389.txt           \b\b\b\b 79%\b\b\b\b\b  OK \n",
            "Extracting  /content/YOLO_Dataset_Main/train/labels/000391.txt           \b\b\b\b 79%\b\b\b\b\b  OK \n",
            "Extracting  /content/YOLO_Dataset_Main/train/labels/000392.txt           \b\b\b\b 79%\b\b\b\b\b  OK \n",
            "Extracting  /content/YOLO_Dataset_Main/train/labels/000393.txt           \b\b\b\b 79%\b\b\b\b\b  OK \n",
            "Extracting  /content/YOLO_Dataset_Main/train/labels/000395.txt           \b\b\b\b 79%\b\b\b\b\b  OK \n",
            "Extracting  /content/YOLO_Dataset_Main/train/labels/000396.txt           \b\b\b\b 79%\b\b\b\b\b  OK \n",
            "Extracting  /content/YOLO_Dataset_Main/train/labels/000397.txt           \b\b\b\b 79%\b\b\b\b\b  OK \n",
            "Extracting  /content/YOLO_Dataset_Main/train/labels/000398.txt           \b\b\b\b 79%\b\b\b\b\b  OK \n",
            "Extracting  /content/YOLO_Dataset_Main/train/labels/000399.txt           \b\b\b\b 79%\b\b\b\b\b  OK \n",
            "Extracting  /content/YOLO_Dataset_Main/train/labels/000400.txt           \b\b\b\b 79%\b\b\b\b\b  OK \n",
            "Extracting  /content/YOLO_Dataset_Main/train/labels/000401.txt           \b\b\b\b 79%\b\b\b\b\b  OK \n",
            "Extracting  /content/YOLO_Dataset_Main/train/labels/000402.txt           \b\b\b\b 79%\b\b\b\b\b  OK \n",
            "Extracting  /content/YOLO_Dataset_Main/train/labels/000404.txt           \b\b\b\b 79%\b\b\b\b\b  OK \n",
            "Extracting  /content/YOLO_Dataset_Main/train/labels/000405.txt           \b\b\b\b 79%\b\b\b\b\b  OK \n",
            "Extracting  /content/YOLO_Dataset_Main/train/labels/000406.txt           \b\b\b\b 79%\b\b\b\b\b  OK \n",
            "Extracting  /content/YOLO_Dataset_Main/train/labels/000407.txt           \b\b\b\b 79%\b\b\b\b\b  OK \n",
            "Extracting  /content/YOLO_Dataset_Main/train/labels/000408.txt           \b\b\b\b 79%\b\b\b\b\b  OK \n",
            "Extracting  /content/YOLO_Dataset_Main/train/labels/000409.txt           \b\b\b\b 79%\b\b\b\b\b  OK \n",
            "Extracting  /content/YOLO_Dataset_Main/train/labels/000410.txt           \b\b\b\b 79%\b\b\b\b\b  OK \n",
            "Extracting  /content/YOLO_Dataset_Main/train/labels/000411.txt           \b\b\b\b 79%\b\b\b\b\b  OK \n",
            "Extracting  /content/YOLO_Dataset_Main/train/labels/000412.txt           \b\b\b\b 79%\b\b\b\b\b  OK \n",
            "Extracting  /content/YOLO_Dataset_Main/train/labels/000413.txt           \b\b\b\b 79%\b\b\b\b\b  OK \n",
            "Extracting  /content/YOLO_Dataset_Main/train/labels/000414.txt           \b\b\b\b 79%\b\b\b\b\b  OK \n",
            "Extracting  /content/YOLO_Dataset_Main/train/labels/000415.txt           \b\b\b\b 79%\b\b\b\b\b  OK \n",
            "Extracting  /content/YOLO_Dataset_Main/train/labels/000416.txt           \b\b\b\b 79%\b\b\b\b\b  OK \n",
            "Extracting  /content/YOLO_Dataset_Main/train/labels/000418.txt           \b\b\b\b 79%\b\b\b\b\b  OK \n",
            "Extracting  /content/YOLO_Dataset_Main/train/labels/000419.txt           \b\b\b\b 79%\b\b\b\b\b  OK \n",
            "Extracting  /content/YOLO_Dataset_Main/train/labels/000420.txt           \b\b\b\b 79%\b\b\b\b\b  OK \n",
            "Extracting  /content/YOLO_Dataset_Main/train/labels/000421.txt           \b\b\b\b 79%\b\b\b\b\b  OK \n",
            "Extracting  /content/YOLO_Dataset_Main/train/labels/000422.txt           \b\b\b\b 79%\b\b\b\b\b  OK \n",
            "Extracting  /content/YOLO_Dataset_Main/train/labels/000424.txt           \b\b\b\b 79%\b\b\b\b\b  OK \n",
            "Extracting  /content/YOLO_Dataset_Main/train/labels/000427.txt           \b\b\b\b 79%\b\b\b\b\b  OK \n",
            "Extracting  /content/YOLO_Dataset_Main/train/labels/000428.txt           \b\b\b\b 79%\b\b\b\b\b  OK \n",
            "Extracting  /content/YOLO_Dataset_Main/train/labels/000429.txt           \b\b\b\b 79%\b\b\b\b\b  OK \n",
            "Extracting  /content/YOLO_Dataset_Main/train/labels/000430.txt           \b\b\b\b 79%\b\b\b\b\b  OK \n",
            "Extracting  /content/YOLO_Dataset_Main/train/labels/000431.txt           \b\b\b\b 79%\b\b\b\b\b  OK \n",
            "Extracting  /content/YOLO_Dataset_Main/train/labels/000432.txt           \b\b\b\b 79%\b\b\b\b\b  OK \n",
            "Extracting  /content/YOLO_Dataset_Main/train/labels/000433.txt           \b\b\b\b 79%\b\b\b\b\b  OK \n",
            "Extracting  /content/YOLO_Dataset_Main/train/labels/000434.txt           \b\b\b\b 79%\b\b\b\b\b  OK \n",
            "Extracting  /content/YOLO_Dataset_Main/train/labels/000435.txt           \b\b\b\b 79%\b\b\b\b\b  OK \n",
            "Extracting  /content/YOLO_Dataset_Main/train/labels/000436.txt           \b\b\b\b 79%\b\b\b\b\b  OK \n",
            "Extracting  /content/YOLO_Dataset_Main/train/labels/000437.txt           \b\b\b\b 79%\b\b\b\b\b  OK \n",
            "Extracting  /content/YOLO_Dataset_Main/train/labels/000439.txt           \b\b\b\b 79%\b\b\b\b\b  OK \n",
            "Extracting  /content/YOLO_Dataset_Main/train/labels/000441.txt           \b\b\b\b 79%\b\b\b\b\b  OK \n",
            "Extracting  /content/YOLO_Dataset_Main/train/labels/000443.txt           \b\b\b\b 79%\b\b\b\b\b  OK \n",
            "Extracting  /content/YOLO_Dataset_Main/train/labels/000445.txt           \b\b\b\b 79%\b\b\b\b\b  OK \n",
            "Extracting  /content/YOLO_Dataset_Main/train/labels/000447.txt           \b\b\b\b 79%\b\b\b\b\b  OK \n",
            "Extracting  /content/YOLO_Dataset_Main/train/labels/000448.txt           \b\b\b\b 79%\b\b\b\b\b  OK \n",
            "Extracting  /content/YOLO_Dataset_Main/train/labels/000449.txt           \b\b\b\b 79%\b\b\b\b\b  OK \n",
            "Extracting  /content/YOLO_Dataset_Main/train/labels/000450.txt           \b\b\b\b 79%\b\b\b\b\b  OK \n",
            "Extracting  /content/YOLO_Dataset_Main/train/labels/000451.txt           \b\b\b\b 79%\b\b\b\b\b  OK \n",
            "Extracting  /content/YOLO_Dataset_Main/train/labels/000452.txt           \b\b\b\b 79%\b\b\b\b\b  OK \n",
            "Extracting  /content/YOLO_Dataset_Main/train/labels/000453.txt           \b\b\b\b 79%\b\b\b\b\b  OK \n",
            "Extracting  /content/YOLO_Dataset_Main/train/labels/000454.txt           \b\b\b\b 79%\b\b\b\b\b  OK \n",
            "Extracting  /content/YOLO_Dataset_Main/train/labels/000456.txt           \b\b\b\b 79%\b\b\b\b\b  OK \n",
            "Extracting  /content/YOLO_Dataset_Main/train/labels/000457.txt           \b\b\b\b 79%\b\b\b\b\b  OK \n",
            "Extracting  /content/YOLO_Dataset_Main/train/labels/000458.txt           \b\b\b\b 79%\b\b\b\b\b  OK \n",
            "Extracting  /content/YOLO_Dataset_Main/train/labels/000459.txt           \b\b\b\b 79%\b\b\b\b\b  OK \n",
            "Extracting  /content/YOLO_Dataset_Main/train/labels/000460.txt           \b\b\b\b 79%\b\b\b\b\b  OK \n",
            "Extracting  /content/YOLO_Dataset_Main/train/labels/000461.txt           \b\b\b\b 79%\b\b\b\b\b  OK \n",
            "Extracting  /content/YOLO_Dataset_Main/train/labels/000462.txt           \b\b\b\b 79%\b\b\b\b\b  OK \n",
            "Extracting  /content/YOLO_Dataset_Main/train/labels/000463.txt           \b\b\b\b 79%\b\b\b\b\b  OK \n",
            "Extracting  /content/YOLO_Dataset_Main/train/labels/000464.txt           \b\b\b\b 79%\b\b\b\b\b  OK \n",
            "Extracting  /content/YOLO_Dataset_Main/train/labels/000465.txt           \b\b\b\b 79%\b\b\b\b\b  OK \n",
            "Extracting  /content/YOLO_Dataset_Main/train/labels/000466.txt           \b\b\b\b 79%\b\b\b\b\b  OK \n",
            "Extracting  /content/YOLO_Dataset_Main/train/labels/000467.txt           \b\b\b\b 79%\b\b\b\b\b  OK \n",
            "Extracting  /content/YOLO_Dataset_Main/train/labels/000468.txt           \b\b\b\b 79%\b\b\b\b\b  OK \n",
            "Extracting  /content/YOLO_Dataset_Main/train/labels/000470.txt           \b\b\b\b 79%\b\b\b\b\b  OK \n",
            "Extracting  /content/YOLO_Dataset_Main/train/labels/000471.txt           \b\b\b\b 79%\b\b\b\b\b  OK \n",
            "Extracting  /content/YOLO_Dataset_Main/train/labels/000472.txt           \b\b\b\b 79%\b\b\b\b\b  OK \n",
            "Extracting  /content/YOLO_Dataset_Main/train/labels/000474.txt           \b\b\b\b 79%\b\b\b\b\b  OK \n",
            "Extracting  /content/YOLO_Dataset_Main/train/labels/000475.txt           \b\b\b\b 79%\b\b\b\b\b  OK \n",
            "Extracting  /content/YOLO_Dataset_Main/train/labels/000476.txt           \b\b\b\b 79%\b\b\b\b\b  OK \n",
            "Extracting  /content/YOLO_Dataset_Main/train/labels/000477.txt           \b\b\b\b 79%\b\b\b\b\b  OK \n",
            "Extracting  /content/YOLO_Dataset_Main/train/labels/000478.txt           \b\b\b\b 79%\b\b\b\b\b  OK \n",
            "Extracting  /content/YOLO_Dataset_Main/train/labels/000479.txt           \b\b\b\b 79%\b\b\b\b\b  OK \n",
            "Extracting  /content/YOLO_Dataset_Main/train/labels/000480.txt           \b\b\b\b 79%\b\b\b\b\b  OK \n",
            "Extracting  /content/YOLO_Dataset_Main/train/labels/000481.txt           \b\b\b\b 79%\b\b\b\b\b  OK \n",
            "Extracting  /content/YOLO_Dataset_Main/train/labels/000482.txt           \b\b\b\b 79%\b\b\b\b\b  OK \n",
            "Extracting  /content/YOLO_Dataset_Main/train/labels/000483.txt           \b\b\b\b 79%\b\b\b\b\b  OK \n",
            "Extracting  /content/YOLO_Dataset_Main/train/labels/000484.txt           \b\b\b\b 79%\b\b\b\b\b  OK \n",
            "Extracting  /content/YOLO_Dataset_Main/train/labels/000485.txt           \b\b\b\b 79%\b\b\b\b\b  OK \n",
            "Extracting  /content/YOLO_Dataset_Main/train/labels/000486.txt           \b\b\b\b 79%\b\b\b\b\b  OK \n",
            "Extracting  /content/YOLO_Dataset_Main/train/labels/000487.txt           \b\b\b\b 79%\b\b\b\b\b  OK \n",
            "Extracting  /content/YOLO_Dataset_Main/train/labels/000488.txt           \b\b\b\b 79%\b\b\b\b\b  OK \n",
            "Extracting  /content/YOLO_Dataset_Main/train/labels/000489.txt           \b\b\b\b 79%\b\b\b\b\b  OK \n",
            "Extracting  /content/YOLO_Dataset_Main/train/labels/000490.txt           \b\b\b\b 79%\b\b\b\b\b  OK \n",
            "Extracting  /content/YOLO_Dataset_Main/train/labels/000491.txt           \b\b\b\b 79%\b\b\b\b\b  OK \n",
            "Extracting  /content/YOLO_Dataset_Main/train/labels/000493.txt           \b\b\b\b 79%\b\b\b\b\b  OK \n",
            "Extracting  /content/YOLO_Dataset_Main/train/labels/000494.txt           \b\b\b\b 79%\b\b\b\b\b  OK \n",
            "Extracting  /content/YOLO_Dataset_Main/train/labels/000498.txt           \b\b\b\b 79%\b\b\b\b\b  OK \n",
            "Extracting  /content/YOLO_Dataset_Main/train/labels/000499.txt           \b\b\b\b 79%\b\b\b\b\b  OK \n",
            "Extracting  /content/YOLO_Dataset_Main/train/labels/000500.txt           \b\b\b\b 79%\b\b\b\b\b  OK \n",
            "Extracting  /content/YOLO_Dataset_Main/train/labels/000501.txt           \b\b\b\b 79%\b\b\b\b\b  OK \n",
            "Extracting  /content/YOLO_Dataset_Main/train/labels/000503.txt           \b\b\b\b 79%\b\b\b\b\b  OK \n",
            "Extracting  /content/YOLO_Dataset_Main/train/labels/000504.txt           \b\b\b\b 79%\b\b\b\b\b  OK \n",
            "Extracting  /content/YOLO_Dataset_Main/train/labels/000505.txt           \b\b\b\b 79%\b\b\b\b\b  OK \n",
            "Extracting  /content/YOLO_Dataset_Main/train/labels/000506.txt           \b\b\b\b 79%\b\b\b\b\b  OK \n",
            "Extracting  /content/YOLO_Dataset_Main/train/labels/000507.txt           \b\b\b\b 79%\b\b\b\b\b  OK \n",
            "Extracting  /content/YOLO_Dataset_Main/train/labels/000508.txt           \b\b\b\b 79%\b\b\b\b\b  OK \n",
            "Extracting  /content/YOLO_Dataset_Main/train/labels/000513.txt           \b\b\b\b 79%\b\b\b\b\b  OK \n",
            "Extracting  /content/YOLO_Dataset_Main/train/labels/000514.txt           \b\b\b\b 79%\b\b\b\b\b  OK \n",
            "Extracting  /content/YOLO_Dataset_Main/train/labels/000516.txt           \b\b\b\b 79%\b\b\b\b\b  OK \n",
            "Extracting  /content/YOLO_Dataset_Main/train/labels/000517.txt           \b\b\b\b 79%\b\b\b\b\b  OK \n",
            "Extracting  /content/YOLO_Dataset_Main/train/labels/000518.txt           \b\b\b\b 79%\b\b\b\b\b  OK \n",
            "Extracting  /content/YOLO_Dataset_Main/train/labels/000519.txt           \b\b\b\b 79%\b\b\b\b\b  OK \n",
            "Extracting  /content/YOLO_Dataset_Main/train/labels/000520.txt           \b\b\b\b 79%\b\b\b\b\b  OK \n",
            "Extracting  /content/YOLO_Dataset_Main/train/labels/000521.txt           \b\b\b\b 79%\b\b\b\b\b  OK \n",
            "Extracting  /content/YOLO_Dataset_Main/train/labels/000523.txt           \b\b\b\b 79%\b\b\b\b\b  OK \n",
            "Extracting  /content/YOLO_Dataset_Main/train/labels/000525.txt           \b\b\b\b 79%\b\b\b\b\b  OK \n",
            "Extracting  /content/YOLO_Dataset_Main/train/labels/000526.txt           \b\b\b\b 79%\b\b\b\b\b  OK \n",
            "Extracting  /content/YOLO_Dataset_Main/train/labels/000528.txt           \b\b\b\b 79%\b\b\b\b\b  OK \n",
            "Extracting  /content/YOLO_Dataset_Main/train/labels/000529.txt           \b\b\b\b 79%\b\b\b\b\b  OK \n",
            "Extracting  /content/YOLO_Dataset_Main/train/labels/000530.txt           \b\b\b\b 79%\b\b\b\b\b  OK \n",
            "Extracting  /content/YOLO_Dataset_Main/train/labels/000531.txt           \b\b\b\b 79%\b\b\b\b\b  OK \n",
            "Extracting  /content/YOLO_Dataset_Main/train/labels/000532.txt           \b\b\b\b 79%\b\b\b\b\b  OK \n",
            "Extracting  /content/YOLO_Dataset_Main/train/labels/000534.txt           \b\b\b\b 79%\b\b\b\b\b  OK \n",
            "Extracting  /content/YOLO_Dataset_Main/train/labels/000535.txt           \b\b\b\b 79%\b\b\b\b\b  OK \n",
            "Extracting  /content/YOLO_Dataset_Main/train/labels/000536.txt           \b\b\b\b 79%\b\b\b\b\b  OK \n",
            "Extracting  /content/YOLO_Dataset_Main/train/labels/000537.txt           \b\b\b\b 79%\b\b\b\b\b  OK \n",
            "Extracting  /content/YOLO_Dataset_Main/train/labels/000540.txt           \b\b\b\b 79%\b\b\b\b\b  OK \n",
            "Extracting  /content/YOLO_Dataset_Main/train/labels/000541.txt           \b\b\b\b 79%\b\b\b\b\b  OK \n",
            "Extracting  /content/YOLO_Dataset_Main/train/labels/000543.txt           \b\b\b\b 79%\b\b\b\b\b  OK \n",
            "Extracting  /content/YOLO_Dataset_Main/train/labels/000544.txt           \b\b\b\b 79%\b\b\b\b\b  OK \n",
            "Extracting  /content/YOLO_Dataset_Main/train/labels/000546.txt           \b\b\b\b 79%\b\b\b\b\b  OK \n",
            "Extracting  /content/YOLO_Dataset_Main/train/labels/000548.txt           \b\b\b\b 79%\b\b\b\b\b  OK \n",
            "Extracting  /content/YOLO_Dataset_Main/train/labels/000550.txt           \b\b\b\b 79%\b\b\b\b\b  OK \n",
            "Extracting  /content/YOLO_Dataset_Main/train/labels/000551.txt           \b\b\b\b 79%\b\b\b\b\b  OK \n",
            "Extracting  /content/YOLO_Dataset_Main/train/labels/000552.txt           \b\b\b\b 79%\b\b\b\b\b  OK \n",
            "Extracting  /content/YOLO_Dataset_Main/train/labels/000554.txt           \b\b\b\b 79%\b\b\b\b\b  OK \n",
            "Extracting  /content/YOLO_Dataset_Main/train/labels/000555.txt           \b\b\b\b 79%\b\b\b\b\b  OK \n",
            "Extracting  /content/YOLO_Dataset_Main/train/labels/000556.txt           \b\b\b\b 79%\b\b\b\b\b  OK \n",
            "Extracting  /content/YOLO_Dataset_Main/train/labels/000559.txt           \b\b\b\b 79%\b\b\b\b\b  OK \n",
            "Extracting  /content/YOLO_Dataset_Main/train/labels/000560.txt           \b\b\b\b 79%\b\b\b\b\b  OK \n",
            "Extracting  /content/YOLO_Dataset_Main/train/labels/000561.txt           \b\b\b\b 79%\b\b\b\b\b  OK \n",
            "Extracting  /content/YOLO_Dataset_Main/train/labels/000562.txt           \b\b\b\b 79%\b\b\b\b\b  OK \n",
            "Extracting  /content/YOLO_Dataset_Main/train/labels/000563.txt           \b\b\b\b 79%\b\b\b\b\b  OK \n",
            "Extracting  /content/YOLO_Dataset_Main/train/labels/000565.txt           \b\b\b\b 79%\b\b\b\b\b  OK \n",
            "Extracting  /content/YOLO_Dataset_Main/train/labels/000566.txt           \b\b\b\b 79%\b\b\b\b\b  OK \n",
            "Extracting  /content/YOLO_Dataset_Main/train/labels/000567.txt           \b\b\b\b 79%\b\b\b\b\b  OK \n",
            "Extracting  /content/YOLO_Dataset_Main/train/labels/000568.txt           \b\b\b\b 79%\b\b\b\b\b  OK \n",
            "Extracting  /content/YOLO_Dataset_Main/train/labels/000569.txt           \b\b\b\b 79%\b\b\b\b\b  OK \n",
            "Extracting  /content/YOLO_Dataset_Main/train/labels/000570.txt           \b\b\b\b 79%\b\b\b\b\b  OK \n",
            "Extracting  /content/YOLO_Dataset_Main/train/labels/000572.txt           \b\b\b\b 79%\b\b\b\b\b  OK \n",
            "Extracting  /content/YOLO_Dataset_Main/train/labels/000574.txt           \b\b\b\b 79%\b\b\b\b\b  OK \n",
            "Extracting  /content/YOLO_Dataset_Main/train/labels/000575.txt           \b\b\b\b 79%\b\b\b\b\b  OK \n",
            "Extracting  /content/YOLO_Dataset_Main/train/labels/000576.txt           \b\b\b\b 79%\b\b\b\b\b  OK \n",
            "Extracting  /content/YOLO_Dataset_Main/train/labels/000577.txt           \b\b\b\b 79%\b\b\b\b\b  OK \n",
            "Extracting  /content/YOLO_Dataset_Main/train/labels/000579.txt           \b\b\b\b 79%\b\b\b\b\b  OK \n",
            "Extracting  /content/YOLO_Dataset_Main/train/labels/000581.txt           \b\b\b\b 79%\b\b\b\b\b  OK \n",
            "Extracting  /content/YOLO_Dataset_Main/train/labels/000582.txt           \b\b\b\b 79%\b\b\b\b\b  OK \n",
            "Extracting  /content/YOLO_Dataset_Main/train/labels/000583.txt           \b\b\b\b 79%\b\b\b\b\b  OK \n",
            "Extracting  /content/YOLO_Dataset_Main/train/labels/000585.txt           \b\b\b\b 79%\b\b\b\b\b  OK \n",
            "Extracting  /content/YOLO_Dataset_Main/train/labels/000587.txt           \b\b\b\b 79%\b\b\b\b\b  OK \n",
            "Extracting  /content/YOLO_Dataset_Main/train/labels/000590.txt           \b\b\b\b 79%\b\b\b\b\b  OK \n",
            "Extracting  /content/YOLO_Dataset_Main/train/labels/000591.txt           \b\b\b\b 79%\b\b\b\b\b  OK \n",
            "Extracting  /content/YOLO_Dataset_Main/train/labels/000592.txt           \b\b\b\b 79%\b\b\b\b\b  OK \n",
            "Extracting  /content/YOLO_Dataset_Main/train/labels/000593.txt           \b\b\b\b 79%\b\b\b\b\b  OK \n",
            "Extracting  /content/YOLO_Dataset_Main/train/labels/000594.txt           \b\b\b\b 79%\b\b\b\b\b  OK \n",
            "Extracting  /content/YOLO_Dataset_Main/train/labels/000595.txt           \b\b\b\b 79%\b\b\b\b\b  OK \n",
            "Extracting  /content/YOLO_Dataset_Main/train/labels/000598.txt           \b\b\b\b 79%\b\b\b\b\b  OK \n",
            "Extracting  /content/YOLO_Dataset_Main/train/labels/000599.txt           \b\b\b\b 79%\b\b\b\b\b  OK \n",
            "Extracting  /content/YOLO_Dataset_Main/train/labels/000600.txt           \b\b\b\b 79%\b\b\b\b\b  OK \n",
            "Extracting  /content/YOLO_Dataset_Main/train/labels/000601.txt           \b\b\b\b 79%\b\b\b\b\b  OK \n",
            "Extracting  /content/YOLO_Dataset_Main/train/labels/000602.txt           \b\b\b\b 79%\b\b\b\b\b  OK \n",
            "Extracting  /content/YOLO_Dataset_Main/train/labels/000604.txt           \b\b\b\b 79%\b\b\b\b\b  OK \n",
            "Extracting  /content/YOLO_Dataset_Main/train/labels/000605.txt           \b\b\b\b 79%\b\b\b\b\b  OK \n",
            "Extracting  /content/YOLO_Dataset_Main/train/labels/000606.txt           \b\b\b\b 79%\b\b\b\b\b  OK \n",
            "Extracting  /content/YOLO_Dataset_Main/train/labels/000608.txt           \b\b\b\b 79%\b\b\b\b\b  OK \n",
            "Extracting  /content/YOLO_Dataset_Main/train/labels/000609.txt           \b\b\b\b 79%\b\b\b\b\b  OK \n",
            "Extracting  /content/YOLO_Dataset_Main/train/labels/000610.txt           \b\b\b\b 79%\b\b\b\b\b  OK \n",
            "Extracting  /content/YOLO_Dataset_Main/train/labels/000611.txt           \b\b\b\b 79%\b\b\b\b\b  OK \n",
            "Extracting  /content/YOLO_Dataset_Main/train/labels/000612.txt           \b\b\b\b 79%\b\b\b\b\b  OK \n",
            "Extracting  /content/YOLO_Dataset_Main/train/labels/000613.txt           \b\b\b\b 79%\b\b\b\b\b  OK \n",
            "Extracting  /content/YOLO_Dataset_Main/train/labels/000614.txt           \b\b\b\b 79%\b\b\b\b\b  OK \n",
            "Extracting  /content/YOLO_Dataset_Main/train/labels/000615.txt           \b\b\b\b 79%\b\b\b\b\b  OK \n",
            "Extracting  /content/YOLO_Dataset_Main/train/labels/000617.txt           \b\b\b\b 79%\b\b\b\b\b  OK \n",
            "Extracting  /content/YOLO_Dataset_Main/train/labels/000618.txt           \b\b\b\b 79%\b\b\b\b\b  OK \n",
            "Extracting  /content/YOLO_Dataset_Main/train/labels/000620.txt           \b\b\b\b 79%\b\b\b\b\b  OK \n",
            "Extracting  /content/YOLO_Dataset_Main/train/labels/000621.txt           \b\b\b\b 79%\b\b\b\b\b  OK \n",
            "Extracting  /content/YOLO_Dataset_Main/train/labels/000622.txt           \b\b\b\b 79%\b\b\b\b\b  OK \n",
            "Extracting  /content/YOLO_Dataset_Main/train/labels/000623.txt           \b\b\b\b 79%\b\b\b\b\b  OK \n",
            "Extracting  /content/YOLO_Dataset_Main/train/labels/000624.txt           \b\b\b\b 79%\b\b\b\b\b  OK \n",
            "Extracting  /content/YOLO_Dataset_Main/train/labels/000625.txt           \b\b\b\b 79%\b\b\b\b\b  OK \n",
            "Extracting  /content/YOLO_Dataset_Main/train/labels/000626.txt           \b\b\b\b 79%\b\b\b\b\b  OK \n",
            "Extracting  /content/YOLO_Dataset_Main/train/labels/000627.txt           \b\b\b\b 79%\b\b\b\b\b  OK \n",
            "Extracting  /content/YOLO_Dataset_Main/train/labels/000628.txt           \b\b\b\b 79%\b\b\b\b\b  OK \n",
            "Extracting  /content/YOLO_Dataset_Main/train/labels/000629.txt           \b\b\b\b 79%\b\b\b\b\b  OK \n",
            "Extracting  /content/YOLO_Dataset_Main/train/labels/000630.txt           \b\b\b\b 79%\b\b\b\b\b  OK \n",
            "Extracting  /content/YOLO_Dataset_Main/train/labels/000631.txt           \b\b\b\b 79%\b\b\b\b\b  OK \n",
            "Extracting  /content/YOLO_Dataset_Main/train/labels/000634.txt           \b\b\b\b 79%\b\b\b\b\b  OK \n",
            "Extracting  /content/YOLO_Dataset_Main/train/labels/000635.txt           \b\b\b\b 79%\b\b\b\b\b  OK \n",
            "Extracting  /content/YOLO_Dataset_Main/train/labels/000636.txt           \b\b\b\b 79%\b\b\b\b\b  OK \n",
            "Extracting  /content/YOLO_Dataset_Main/train/labels/000637.txt           \b\b\b\b 79%\b\b\b\b\b  OK \n",
            "Extracting  /content/YOLO_Dataset_Main/train/labels/000638.txt           \b\b\b\b 79%\b\b\b\b\b  OK \n",
            "Extracting  /content/YOLO_Dataset_Main/train/labels/000639.txt           \b\b\b\b 79%\b\b\b\b\b  OK \n",
            "Extracting  /content/YOLO_Dataset_Main/train/labels/000641.txt           \b\b\b\b 79%\b\b\b\b\b  OK \n",
            "Extracting  /content/YOLO_Dataset_Main/train/labels/000642.txt           \b\b\b\b 79%\b\b\b\b\b  OK \n",
            "Extracting  /content/YOLO_Dataset_Main/train/labels/000643.txt           \b\b\b\b 79%\b\b\b\b\b  OK \n",
            "Extracting  /content/YOLO_Dataset_Main/train/labels/000644.txt           \b\b\b\b 79%\b\b\b\b\b  OK \n",
            "Extracting  /content/YOLO_Dataset_Main/train/labels/000645.txt           \b\b\b\b 79%\b\b\b\b\b  OK \n",
            "Extracting  /content/YOLO_Dataset_Main/train/labels/000646.txt           \b\b\b\b 79%\b\b\b\b\b  OK \n",
            "Extracting  /content/YOLO_Dataset_Main/train/labels/000647.txt           \b\b\b\b 79%\b\b\b\b\b  OK \n",
            "Extracting  /content/YOLO_Dataset_Main/train/labels/000648.txt           \b\b\b\b 79%\b\b\b\b\b  OK \n",
            "Extracting  /content/YOLO_Dataset_Main/train/labels/000649.txt           \b\b\b\b 79%\b\b\b\b\b  OK \n",
            "Extracting  /content/YOLO_Dataset_Main/train/labels/000650.txt           \b\b\b\b 79%\b\b\b\b\b  OK \n",
            "Extracting  /content/YOLO_Dataset_Main/train/labels/000652.txt           \b\b\b\b 79%\b\b\b\b\b  OK \n",
            "Extracting  /content/YOLO_Dataset_Main/train/labels/000653.txt           \b\b\b\b 79%\b\b\b\b\b  OK \n",
            "Extracting  /content/YOLO_Dataset_Main/train/labels/000654.txt           \b\b\b\b 79%\b\b\b\b\b  OK \n",
            "Extracting  /content/YOLO_Dataset_Main/train/labels/000655.txt           \b\b\b\b 79%\b\b\b\b\b  OK \n",
            "Extracting  /content/YOLO_Dataset_Main/train/labels/000656.txt           \b\b\b\b 79%\b\b\b\b\b  OK \n",
            "Extracting  /content/YOLO_Dataset_Main/train/labels/000657.txt           \b\b\b\b 79%\b\b\b\b\b  OK \n",
            "Extracting  /content/YOLO_Dataset_Main/train/labels/000661.txt           \b\b\b\b 79%\b\b\b\b\b  OK \n",
            "Extracting  /content/YOLO_Dataset_Main/train/labels/000662.txt           \b\b\b\b 79%\b\b\b\b\b  OK \n",
            "Extracting  /content/YOLO_Dataset_Main/train/labels/000664.txt           \b\b\b\b 79%\b\b\b\b\b  OK \n",
            "Extracting  /content/YOLO_Dataset_Main/train/labels/000666.txt           \b\b\b\b 79%\b\b\b\b\b  OK \n",
            "Extracting  /content/YOLO_Dataset_Main/train/labels/000668.txt           \b\b\b\b 79%\b\b\b\b\b  OK \n",
            "Extracting  /content/YOLO_Dataset_Main/train/labels/000669.txt           \b\b\b\b 79%\b\b\b\b\b  OK \n",
            "Extracting  /content/YOLO_Dataset_Main/train/labels/000670.txt           \b\b\b\b 79%\b\b\b\b\b  OK \n",
            "Extracting  /content/YOLO_Dataset_Main/train/labels/000671.txt           \b\b\b\b 79%\b\b\b\b\b  OK \n",
            "Extracting  /content/YOLO_Dataset_Main/train/labels/000672.txt           \b\b\b\b 79%\b\b\b\b\b  OK \n",
            "Extracting  /content/YOLO_Dataset_Main/train/labels/000673.txt           \b\b\b\b 79%\b\b\b\b\b  OK \n",
            "Extracting  /content/YOLO_Dataset_Main/train/labels/000674.txt           \b\b\b\b 79%\b\b\b\b\b  OK \n",
            "Extracting  /content/YOLO_Dataset_Main/train/labels/000675.txt           \b\b\b\b 79%\b\b\b\b\b  OK \n",
            "Extracting  /content/YOLO_Dataset_Main/train/labels/000676.txt           \b\b\b\b 79%\b\b\b\b\b  OK \n",
            "Extracting  /content/YOLO_Dataset_Main/train/labels/000677.txt           \b\b\b\b 79%\b\b\b\b\b  OK \n",
            "Extracting  /content/YOLO_Dataset_Main/train/labels/000679.txt           \b\b\b\b 79%\b\b\b\b\b  OK \n",
            "Extracting  /content/YOLO_Dataset_Main/train/labels/000680.txt           \b\b\b\b 79%\b\b\b\b\b  OK \n",
            "Extracting  /content/YOLO_Dataset_Main/train/labels/000681.txt           \b\b\b\b 79%\b\b\b\b\b  OK \n",
            "Extracting  /content/YOLO_Dataset_Main/train/labels/000684.txt           \b\b\b\b 79%\b\b\b\b\b  OK \n",
            "Extracting  /content/YOLO_Dataset_Main/train/labels/000685.txt           \b\b\b\b 79%\b\b\b\b\b  OK \n",
            "Extracting  /content/YOLO_Dataset_Main/train/labels/000686.txt           \b\b\b\b 79%\b\b\b\b\b  OK \n",
            "Extracting  /content/YOLO_Dataset_Main/train/labels/000688.txt           \b\b\b\b 79%\b\b\b\b\b  OK \n",
            "Extracting  /content/YOLO_Dataset_Main/train/labels/000689.txt           \b\b\b\b 79%\b\b\b\b\b  OK \n",
            "Extracting  /content/YOLO_Dataset_Main/train/labels/000690.txt           \b\b\b\b 79%\b\b\b\b\b  OK \n",
            "Extracting  /content/YOLO_Dataset_Main/train/labels/000691.txt           \b\b\b\b 79%\b\b\b\b\b  OK \n",
            "Extracting  /content/YOLO_Dataset_Main/train/labels/000692.txt           \b\b\b\b 79%\b\b\b\b\b  OK \n",
            "Extracting  /content/YOLO_Dataset_Main/train/labels/000693.txt           \b\b\b\b 79%\b\b\b\b\b  OK \n",
            "Extracting  /content/YOLO_Dataset_Main/train/labels/000694.txt           \b\b\b\b 79%\b\b\b\b\b  OK \n",
            "Extracting  /content/YOLO_Dataset_Main/train/labels/000695.txt           \b\b\b\b 79%\b\b\b\b\b  OK \n",
            "Extracting  /content/YOLO_Dataset_Main/train/labels/000696.txt           \b\b\b\b 79%\b\b\b\b\b  OK \n",
            "Extracting  /content/YOLO_Dataset_Main/train/labels/000697.txt           \b\b\b\b 79%\b\b\b\b\b  OK \n",
            "Extracting  /content/YOLO_Dataset_Main/train/labels/000698.txt           \b\b\b\b 79%\b\b\b\b\b  OK \n",
            "Extracting  /content/YOLO_Dataset_Main/train/labels/000699.txt           \b\b\b\b 79%\b\b\b\b\b  OK \n",
            "Extracting  /content/YOLO_Dataset_Main/train/labels/000700.txt           \b\b\b\b 79%\b\b\b\b\b  OK \n",
            "Extracting  /content/YOLO_Dataset_Main/train/labels/000701.txt           \b\b\b\b 79%\b\b\b\b\b  OK \n",
            "Extracting  /content/YOLO_Dataset_Main/train/labels/000702.txt           \b\b\b\b 79%\b\b\b\b\b  OK \n",
            "Extracting  /content/YOLO_Dataset_Main/train/labels/000703.txt           \b\b\b\b 79%\b\b\b\b\b  OK \n",
            "Extracting  /content/YOLO_Dataset_Main/train/labels/000704.txt           \b\b\b\b 79%\b\b\b\b\b  OK \n",
            "Extracting  /content/YOLO_Dataset_Main/train/labels/000705.txt           \b\b\b\b 79%\b\b\b\b\b  OK \n",
            "Extracting  /content/YOLO_Dataset_Main/train/labels/000707.txt           \b\b\b\b 79%\b\b\b\b\b  OK \n",
            "Extracting  /content/YOLO_Dataset_Main/train/labels/000708.txt           \b\b\b\b 79%\b\b\b\b\b  OK \n",
            "Extracting  /content/YOLO_Dataset_Main/train/labels/000709.txt           \b\b\b\b 79%\b\b\b\b\b  OK \n",
            "Extracting  /content/YOLO_Dataset_Main/train/labels/000710.txt           \b\b\b\b 79%\b\b\b\b\b  OK \n",
            "Extracting  /content/YOLO_Dataset_Main/train/labels/000713.txt           \b\b\b\b 79%\b\b\b\b\b  OK \n",
            "Extracting  /content/YOLO_Dataset_Main/train/labels/000714.txt           \b\b\b\b 79%\b\b\b\b\b  OK \n",
            "Extracting  /content/YOLO_Dataset_Main/train/labels/000715.txt           \b\b\b\b 79%\b\b\b\b\b  OK \n",
            "Extracting  /content/YOLO_Dataset_Main/train/labels/000716.txt           \b\b\b\b 79%\b\b\b\b\b  OK \n",
            "Extracting  /content/YOLO_Dataset_Main/train/labels/000717.txt           \b\b\b\b 79%\b\b\b\b\b  OK \n",
            "Extracting  /content/YOLO_Dataset_Main/train/labels/000719.txt           \b\b\b\b 79%\b\b\b\b\b  OK \n",
            "Extracting  /content/YOLO_Dataset_Main/train/labels/000720.txt           \b\b\b\b 79%\b\b\b\b\b  OK \n",
            "Extracting  /content/YOLO_Dataset_Main/train/labels/000722.txt           \b\b\b\b 79%\b\b\b\b\b  OK \n",
            "Extracting  /content/YOLO_Dataset_Main/train/labels/000723.txt           \b\b\b\b 79%\b\b\b\b\b  OK \n",
            "Extracting  /content/YOLO_Dataset_Main/train/labels/000725.txt           \b\b\b\b 79%\b\b\b\b\b  OK \n",
            "Extracting  /content/YOLO_Dataset_Main/train/labels/000726.txt           \b\b\b\b 79%\b\b\b\b\b  OK \n",
            "Extracting  /content/YOLO_Dataset_Main/train/labels/000727.txt           \b\b\b\b 79%\b\b\b\b\b  OK \n",
            "Extracting  /content/YOLO_Dataset_Main/train/labels/000728.txt           \b\b\b\b 79%\b\b\b\b\b  OK \n",
            "Extracting  /content/YOLO_Dataset_Main/train/labels/000730.txt           \b\b\b\b 79%\b\b\b\b\b  OK \n",
            "Extracting  /content/YOLO_Dataset_Main/train/labels/000731.txt           \b\b\b\b 79%\b\b\b\b\b  OK \n",
            "Extracting  /content/YOLO_Dataset_Main/train/labels/000732.txt           \b\b\b\b 79%\b\b\b\b\b  OK \n",
            "Extracting  /content/YOLO_Dataset_Main/train/labels/000733.txt           \b\b\b\b 79%\b\b\b\b\b  OK \n",
            "Extracting  /content/YOLO_Dataset_Main/train/labels/000734.txt           \b\b\b\b 79%\b\b\b\b\b  OK \n",
            "Extracting  /content/YOLO_Dataset_Main/train/labels/000735.txt           \b\b\b\b 79%\b\b\b\b\b  OK \n",
            "Extracting  /content/YOLO_Dataset_Main/train/labels/000736.txt           \b\b\b\b 79%\b\b\b\b\b  OK \n",
            "Extracting  /content/YOLO_Dataset_Main/train/labels/000737.txt           \b\b\b\b 79%\b\b\b\b\b  OK \n",
            "Extracting  /content/YOLO_Dataset_Main/train/labels/000738.txt           \b\b\b\b 79%\b\b\b\b\b  OK \n",
            "Extracting  /content/YOLO_Dataset_Main/train/labels/000739.txt           \b\b\b\b 79%\b\b\b\b\b  OK \n",
            "Extracting  /content/YOLO_Dataset_Main/train/labels/000740.txt           \b\b\b\b 79%\b\b\b\b\b  OK \n",
            "Extracting  /content/YOLO_Dataset_Main/train/labels/000741.txt           \b\b\b\b 79%\b\b\b\b\b  OK \n",
            "Extracting  /content/YOLO_Dataset_Main/train/labels/000742.txt           \b\b\b\b 79%\b\b\b\b\b  OK \n",
            "Extracting  /content/YOLO_Dataset_Main/train/labels/000743.txt           \b\b\b\b 79%\b\b\b\b\b  OK \n",
            "Extracting  /content/YOLO_Dataset_Main/train/labels/000745.txt           \b\b\b\b 79%\b\b\b\b\b  OK \n",
            "Extracting  /content/YOLO_Dataset_Main/train/labels/000746.txt           \b\b\b\b 79%\b\b\b\b\b  OK \n",
            "Extracting  /content/YOLO_Dataset_Main/train/labels/000747.txt           \b\b\b\b 79%\b\b\b\b\b  OK \n",
            "Extracting  /content/YOLO_Dataset_Main/train/labels/000748.txt           \b\b\b\b 79%\b\b\b\b\b  OK \n",
            "Extracting  /content/YOLO_Dataset_Main/train/labels/000749.txt           \b\b\b\b 79%\b\b\b\b\b  OK \n",
            "Extracting  /content/YOLO_Dataset_Main/train/labels/000750.txt           \b\b\b\b 79%\b\b\b\b\b  OK \n",
            "Extracting  /content/YOLO_Dataset_Main/train/labels/000751.txt           \b\b\b\b 79%\b\b\b\b\b  OK \n",
            "Extracting  /content/YOLO_Dataset_Main/train/labels/000752.txt           \b\b\b\b 79%\b\b\b\b\b  OK \n",
            "Extracting  /content/YOLO_Dataset_Main/train/labels/000753.txt           \b\b\b\b 79%\b\b\b\b\b  OK \n",
            "Extracting  /content/YOLO_Dataset_Main/train/labels/000754.txt           \b\b\b\b 79%\b\b\b\b\b  OK \n",
            "Extracting  /content/YOLO_Dataset_Main/train/labels/000755.txt           \b\b\b\b 79%\b\b\b\b\b  OK \n",
            "Extracting  /content/YOLO_Dataset_Main/train/labels/000756.txt           \b\b\b\b 79%\b\b\b\b\b  OK \n",
            "Extracting  /content/YOLO_Dataset_Main/train/labels/000759.txt           \b\b\b\b 79%\b\b\b\b\b  OK \n",
            "Extracting  /content/YOLO_Dataset_Main/train/labels/000760.txt           \b\b\b\b 79%\b\b\b\b\b  OK \n",
            "Extracting  /content/YOLO_Dataset_Main/train/labels/000761.txt           \b\b\b\b 79%\b\b\b\b\b  OK \n",
            "Extracting  /content/YOLO_Dataset_Main/train/labels/000762.txt           \b\b\b\b 79%\b\b\b\b\b  OK \n",
            "Extracting  /content/YOLO_Dataset_Main/train/labels/000763.txt           \b\b\b\b 79%\b\b\b\b\b  OK \n",
            "Extracting  /content/YOLO_Dataset_Main/train/labels/000764.txt           \b\b\b\b 79%\b\b\b\b\b  OK \n",
            "Extracting  /content/YOLO_Dataset_Main/train/labels/000765.txt           \b\b\b\b 79%\b\b\b\b\b  OK \n",
            "Extracting  /content/YOLO_Dataset_Main/train/labels/000766.txt           \b\b\b\b 79%\b\b\b\b\b  OK \n",
            "Extracting  /content/YOLO_Dataset_Main/train/labels/000767.txt           \b\b\b\b 79%\b\b\b\b\b  OK \n",
            "Extracting  /content/YOLO_Dataset_Main/train/labels/000769.txt           \b\b\b\b 79%\b\b\b\b\b  OK \n",
            "Extracting  /content/YOLO_Dataset_Main/train/labels/000771.txt           \b\b\b\b 79%\b\b\b\b\b  OK \n",
            "Extracting  /content/YOLO_Dataset_Main/train/labels/000772.txt           \b\b\b\b 79%\b\b\b\b\b  OK \n",
            "Extracting  /content/YOLO_Dataset_Main/train/labels/000773.txt           \b\b\b\b 79%\b\b\b\b\b  OK \n",
            "Extracting  /content/YOLO_Dataset_Main/train/labels/000774.txt           \b\b\b\b 79%\b\b\b\b\b  OK \n",
            "Extracting  /content/YOLO_Dataset_Main/train/labels/000775.txt           \b\b\b\b 79%\b\b\b\b\b  OK \n",
            "Extracting  /content/YOLO_Dataset_Main/train/labels/000776.txt           \b\b\b\b 79%\b\b\b\b\b  OK \n",
            "Extracting  /content/YOLO_Dataset_Main/train/labels/000777.txt           \b\b\b\b 79%\b\b\b\b\b  OK \n",
            "Extracting  /content/YOLO_Dataset_Main/train/labels/000778.txt           \b\b\b\b 79%\b\b\b\b\b  OK \n",
            "Extracting  /content/YOLO_Dataset_Main/train/labels/000779.txt           \b\b\b\b 79%\b\b\b\b\b  OK \n",
            "Extracting  /content/YOLO_Dataset_Main/train/labels/000780.txt           \b\b\b\b 79%\b\b\b\b\b  OK \n",
            "Extracting  /content/YOLO_Dataset_Main/train/labels/000781.txt           \b\b\b\b 79%\b\b\b\b\b  OK \n",
            "Extracting  /content/YOLO_Dataset_Main/train/labels/000782.txt           \b\b\b\b 79%\b\b\b\b\b  OK \n",
            "Extracting  /content/YOLO_Dataset_Main/train/labels/000783.txt           \b\b\b\b 79%\b\b\b\b\b  OK \n",
            "Extracting  /content/YOLO_Dataset_Main/train/labels/000784.txt           \b\b\b\b 79%\b\b\b\b\b  OK \n",
            "Extracting  /content/YOLO_Dataset_Main/train/labels/000786.txt           \b\b\b\b 79%\b\b\b\b\b  OK \n",
            "Extracting  /content/YOLO_Dataset_Main/train/labels/000787.txt           \b\b\b\b 79%\b\b\b\b\b  OK \n",
            "Extracting  /content/YOLO_Dataset_Main/train/labels/000788.txt           \b\b\b\b 79%\b\b\b\b\b  OK \n",
            "Extracting  /content/YOLO_Dataset_Main/train/labels/000789.txt           \b\b\b\b 79%\b\b\b\b\b  OK \n",
            "Extracting  /content/YOLO_Dataset_Main/train/labels/000790.txt           \b\b\b\b 79%\b\b\b\b\b  OK \n",
            "Extracting  /content/YOLO_Dataset_Main/train/labels/000791.txt           \b\b\b\b 79%\b\b\b\b\b  OK \n",
            "Extracting  /content/YOLO_Dataset_Main/train/labels/000792.txt           \b\b\b\b 79%\b\b\b\b\b  OK \n",
            "Extracting  /content/YOLO_Dataset_Main/train/labels/000793.txt           \b\b\b\b 79%\b\b\b\b\b  OK \n",
            "Extracting  /content/YOLO_Dataset_Main/train/labels/000794.txt           \b\b\b\b 79%\b\b\b\b\b  OK \n",
            "Extracting  /content/YOLO_Dataset_Main/train/labels/000796.txt           \b\b\b\b 79%\b\b\b\b\b  OK \n",
            "Extracting  /content/YOLO_Dataset_Main/train/labels/000797.txt           \b\b\b\b 79%\b\b\b\b\b  OK \n",
            "Extracting  /content/YOLO_Dataset_Main/train/labels/000798.txt           \b\b\b\b 79%\b\b\b\b\b  OK \n",
            "Extracting  /content/YOLO_Dataset_Main/train/labels/000801.txt           \b\b\b\b 79%\b\b\b\b\b  OK \n",
            "Extracting  /content/YOLO_Dataset_Main/train/labels/000802.txt           \b\b\b\b 79%\b\b\b\b\b  OK \n",
            "Extracting  /content/YOLO_Dataset_Main/train/labels/000803.txt           \b\b\b\b 79%\b\b\b\b\b  OK \n",
            "Extracting  /content/YOLO_Dataset_Main/train/labels/000804.txt           \b\b\b\b 79%\b\b\b\b\b  OK \n",
            "Extracting  /content/YOLO_Dataset_Main/train/labels/000805.txt           \b\b\b\b 79%\b\b\b\b\b  OK \n",
            "Extracting  /content/YOLO_Dataset_Main/train/labels/000806.txt           \b\b\b\b 79%\b\b\b\b\b  OK \n",
            "Extracting  /content/YOLO_Dataset_Main/train/labels/000807.txt           \b\b\b\b 79%\b\b\b\b\b  OK \n",
            "Extracting  /content/YOLO_Dataset_Main/train/labels/000810.txt           \b\b\b\b 79%\b\b\b\b\b  OK \n",
            "Extracting  /content/YOLO_Dataset_Main/train/labels/000811.txt           \b\b\b\b 79%\b\b\b\b\b  OK \n",
            "Extracting  /content/YOLO_Dataset_Main/train/labels/000812.txt           \b\b\b\b 79%\b\b\b\b\b  OK \n",
            "Extracting  /content/YOLO_Dataset_Main/train/labels/000813.txt           \b\b\b\b 79%\b\b\b\b\b  OK \n",
            "Extracting  /content/YOLO_Dataset_Main/train/labels/000814.txt           \b\b\b\b 79%\b\b\b\b\b  OK \n",
            "Extracting  /content/YOLO_Dataset_Main/train/labels/000815.txt           \b\b\b\b 79%\b\b\b\b\b  OK \n",
            "Extracting  /content/YOLO_Dataset_Main/train/labels/000816.txt           \b\b\b\b 79%\b\b\b\b\b  OK \n",
            "Extracting  /content/YOLO_Dataset_Main/train/labels/000818.txt           \b\b\b\b 79%\b\b\b\b\b  OK \n",
            "Extracting  /content/YOLO_Dataset_Main/train/labels/000820.txt           \b\b\b\b 79%\b\b\b\b\b  OK \n",
            "Extracting  /content/YOLO_Dataset_Main/train/labels/000822.txt           \b\b\b\b 79%\b\b\b\b\b  OK \n",
            "Extracting  /content/YOLO_Dataset_Main/train/labels/000823.txt           \b\b\b\b 79%\b\b\b\b\b  OK \n",
            "Extracting  /content/YOLO_Dataset_Main/train/labels/000824.txt           \b\b\b\b 79%\b\b\b\b\b  OK \n",
            "Extracting  /content/YOLO_Dataset_Main/train/labels/000825.txt           \b\b\b\b 79%\b\b\b\b\b  OK \n",
            "Extracting  /content/YOLO_Dataset_Main/train/labels/000827.txt           \b\b\b\b 79%\b\b\b\b\b  OK \n",
            "Extracting  /content/YOLO_Dataset_Main/train/labels/000828.txt           \b\b\b\b 79%\b\b\b\b\b  OK \n",
            "Extracting  /content/YOLO_Dataset_Main/train/labels/000829.txt           \b\b\b\b 79%\b\b\b\b\b  OK \n",
            "Extracting  /content/YOLO_Dataset_Main/train/labels/000830.txt           \b\b\b\b 79%\b\b\b\b\b  OK \n",
            "Extracting  /content/YOLO_Dataset_Main/train/labels/000831.txt           \b\b\b\b 79%\b\b\b\b\b  OK \n",
            "Extracting  /content/YOLO_Dataset_Main/train/labels/000832.txt           \b\b\b\b 79%\b\b\b\b\b  OK \n",
            "Extracting  /content/YOLO_Dataset_Main/train/labels/000833.txt           \b\b\b\b 79%\b\b\b\b\b  OK \n",
            "Extracting  /content/YOLO_Dataset_Main/train/labels/000834.txt           \b\b\b\b 79%\b\b\b\b\b  OK \n",
            "Extracting  /content/YOLO_Dataset_Main/train/labels/000836.txt           \b\b\b\b 79%\b\b\b\b\b  OK \n",
            "Extracting  /content/YOLO_Dataset_Main/train/labels/000837.txt           \b\b\b\b 79%\b\b\b\b\b  OK \n",
            "Extracting  /content/YOLO_Dataset_Main/train/labels/000838.txt           \b\b\b\b 79%\b\b\b\b\b  OK \n",
            "Extracting  /content/YOLO_Dataset_Main/train/labels/000840.txt           \b\b\b\b 79%\b\b\b\b\b  OK \n",
            "Extracting  /content/YOLO_Dataset_Main/train/labels/000841.txt           \b\b\b\b 79%\b\b\b\b\b  OK \n",
            "Extracting  /content/YOLO_Dataset_Main/train/labels/000843.txt           \b\b\b\b 79%\b\b\b\b\b  OK \n",
            "Extracting  /content/YOLO_Dataset_Main/train/labels/000844.txt           \b\b\b\b 79%\b\b\b\b\b  OK \n",
            "Extracting  /content/YOLO_Dataset_Main/train/labels/000845.txt           \b\b\b\b 79%\b\b\b\b\b  OK \n",
            "Extracting  /content/YOLO_Dataset_Main/train/labels/000848.txt           \b\b\b\b 79%\b\b\b\b\b  OK \n",
            "Extracting  /content/YOLO_Dataset_Main/train/labels/000849.txt           \b\b\b\b 79%\b\b\b\b\b  OK \n",
            "Extracting  /content/YOLO_Dataset_Main/train/labels/000850.txt           \b\b\b\b 79%\b\b\b\b\b  OK \n",
            "Extracting  /content/YOLO_Dataset_Main/train/labels/000851.txt           \b\b\b\b 79%\b\b\b\b\b  OK \n",
            "Extracting  /content/YOLO_Dataset_Main/train/labels/000853.txt           \b\b\b\b 79%\b\b\b\b\b  OK \n",
            "Extracting  /content/YOLO_Dataset_Main/train/labels/000854.txt           \b\b\b\b 79%\b\b\b\b\b  OK \n",
            "Extracting  /content/YOLO_Dataset_Main/train/labels/000855.txt           \b\b\b\b 79%\b\b\b\b\b  OK \n",
            "Extracting  /content/YOLO_Dataset_Main/train/labels/000856.txt           \b\b\b\b 79%\b\b\b\b\b  OK \n",
            "Extracting  /content/YOLO_Dataset_Main/train/labels/000857.txt           \b\b\b\b 79%\b\b\b\b\b  OK \n",
            "Extracting  /content/YOLO_Dataset_Main/train/labels/000860.txt           \b\b\b\b 79%\b\b\b\b\b  OK \n",
            "Extracting  /content/YOLO_Dataset_Main/train/labels/000861.txt           \b\b\b\b 79%\b\b\b\b\b  OK \n",
            "Extracting  /content/YOLO_Dataset_Main/train/labels/000862.txt           \b\b\b\b 79%\b\b\b\b\b  OK \n",
            "Extracting  /content/YOLO_Dataset_Main/train/labels/000864.txt           \b\b\b\b 79%\b\b\b\b\b  OK \n",
            "Extracting  /content/YOLO_Dataset_Main/train/labels/000865.txt           \b\b\b\b 79%\b\b\b\b\b  OK \n",
            "Extracting  /content/YOLO_Dataset_Main/train/labels/000866.txt           \b\b\b\b 79%\b\b\b\b\b  OK \n",
            "Extracting  /content/YOLO_Dataset_Main/train/labels/000867.txt           \b\b\b\b 79%\b\b\b\b\b  OK \n",
            "Extracting  /content/YOLO_Dataset_Main/train/labels/000868.txt           \b\b\b\b 79%\b\b\b\b\b  OK \n",
            "Extracting  /content/YOLO_Dataset_Main/train/labels/000869.txt           \b\b\b\b 79%\b\b\b\b\b  OK \n",
            "Extracting  /content/YOLO_Dataset_Main/train/labels/000870.txt           \b\b\b\b 79%\b\b\b\b\b  OK \n",
            "Extracting  /content/YOLO_Dataset_Main/train/labels/000871.txt           \b\b\b\b 79%\b\b\b\b\b  OK \n",
            "Extracting  /content/YOLO_Dataset_Main/train/labels/000872.txt           \b\b\b\b 79%\b\b\b\b\b  OK \n",
            "Extracting  /content/YOLO_Dataset_Main/train/labels/000873.txt           \b\b\b\b 79%\b\b\b\b\b  OK \n",
            "Extracting  /content/YOLO_Dataset_Main/train/labels/000874.txt           \b\b\b\b 79%\b\b\b\b\b  OK \n",
            "Extracting  /content/YOLO_Dataset_Main/train/labels/000875.txt           \b\b\b\b 79%\b\b\b\b\b  OK \n",
            "Extracting  /content/YOLO_Dataset_Main/train/labels/000876.txt           \b\b\b\b 79%\b\b\b\b\b  OK \n",
            "Extracting  /content/YOLO_Dataset_Main/train/labels/000877.txt           \b\b\b\b 79%\b\b\b\b\b  OK \n",
            "Extracting  /content/YOLO_Dataset_Main/train/labels/000878.txt           \b\b\b\b 79%\b\b\b\b\b  OK \n",
            "Extracting  /content/YOLO_Dataset_Main/train/labels/000879.txt           \b\b\b\b 79%\b\b\b\b\b  OK \n",
            "Extracting  /content/YOLO_Dataset_Main/train/labels/000880.txt           \b\b\b\b 79%\b\b\b\b\b  OK \n",
            "Extracting  /content/YOLO_Dataset_Main/train/labels/000881.txt           \b\b\b\b 79%\b\b\b\b\b  OK \n",
            "Extracting  /content/YOLO_Dataset_Main/train/labels/000882.txt           \b\b\b\b 79%\b\b\b\b\b  OK \n",
            "Extracting  /content/YOLO_Dataset_Main/train/labels/000883.txt           \b\b\b\b 79%\b\b\b\b\b  OK \n",
            "Extracting  /content/YOLO_Dataset_Main/train/labels/000884.txt           \b\b\b\b 79%\b\b\b\b\b  OK \n",
            "Extracting  /content/YOLO_Dataset_Main/train/labels/000885.txt           \b\b\b\b 79%\b\b\b\b\b  OK \n",
            "Extracting  /content/YOLO_Dataset_Main/train/labels/000886.txt           \b\b\b\b 79%\b\b\b\b\b  OK \n",
            "Extracting  /content/YOLO_Dataset_Main/train/labels/000887.txt           \b\b\b\b 79%\b\b\b\b\b  OK \n",
            "Extracting  /content/YOLO_Dataset_Main/train/labels/000888.txt           \b\b\b\b 79%\b\b\b\b\b  OK \n",
            "Extracting  /content/YOLO_Dataset_Main/train/labels/000889.txt           \b\b\b\b 79%\b\b\b\b\b  OK \n",
            "Extracting  /content/YOLO_Dataset_Main/train/labels/000890.txt           \b\b\b\b 79%\b\b\b\b\b  OK \n",
            "Extracting  /content/YOLO_Dataset_Main/train/labels/000891.txt           \b\b\b\b 79%\b\b\b\b\b  OK \n",
            "Extracting  /content/YOLO_Dataset_Main/train/labels/000892.txt           \b\b\b\b 79%\b\b\b\b\b  OK \n",
            "Extracting  /content/YOLO_Dataset_Main/train/labels/000893.txt           \b\b\b\b 79%\b\b\b\b\b  OK \n",
            "Extracting  /content/YOLO_Dataset_Main/train/labels/000894.txt           \b\b\b\b 79%\b\b\b\b\b  OK \n",
            "Extracting  /content/YOLO_Dataset_Main/train/labels/000895.txt           \b\b\b\b 79%\b\b\b\b\b  OK \n",
            "Extracting  /content/YOLO_Dataset_Main/train/labels/000896.txt           \b\b\b\b 79%\b\b\b\b\b  OK \n",
            "Extracting  /content/YOLO_Dataset_Main/train/labels/000897.txt           \b\b\b\b 79%\b\b\b\b\b  OK \n",
            "Extracting  /content/YOLO_Dataset_Main/train/labels/000898.txt           \b\b\b\b 79%\b\b\b\b\b  OK \n",
            "Extracting  /content/YOLO_Dataset_Main/train/labels/000900.txt           \b\b\b\b 79%\b\b\b\b\b  OK \n",
            "Extracting  /content/YOLO_Dataset_Main/train/labels/000902.txt           \b\b\b\b 79%\b\b\b\b\b  OK \n",
            "Extracting  /content/YOLO_Dataset_Main/train/labels/000903.txt           \b\b\b\b 79%\b\b\b\b\b  OK \n",
            "Extracting  /content/YOLO_Dataset_Main/train/labels/000904.txt           \b\b\b\b 79%\b\b\b\b\b  OK \n",
            "Extracting  /content/YOLO_Dataset_Main/train/labels/000905.txt           \b\b\b\b 79%\b\b\b\b\b  OK \n",
            "Extracting  /content/YOLO_Dataset_Main/train/labels/000906.txt           \b\b\b\b 79%\b\b\b\b\b  OK \n",
            "Extracting  /content/YOLO_Dataset_Main/train/labels/000907.txt           \b\b\b\b 79%\b\b\b\b\b  OK \n",
            "Extracting  /content/YOLO_Dataset_Main/train/labels/000909.txt           \b\b\b\b 79%\b\b\b\b\b  OK \n",
            "Extracting  /content/YOLO_Dataset_Main/train/labels/000910.txt           \b\b\b\b 79%\b\b\b\b\b  OK \n",
            "Extracting  /content/YOLO_Dataset_Main/train/labels/000911.txt           \b\b\b\b 79%\b\b\b\b\b  OK \n",
            "Extracting  /content/YOLO_Dataset_Main/train/labels/000913.txt           \b\b\b\b 79%\b\b\b\b\b  OK \n",
            "Extracting  /content/YOLO_Dataset_Main/train/labels/000914.txt           \b\b\b\b 79%\b\b\b\b\b  OK \n",
            "Extracting  /content/YOLO_Dataset_Main/train/labels/000915.txt           \b\b\b\b 79%\b\b\b\b\b  OK \n",
            "Extracting  /content/YOLO_Dataset_Main/train/labels/000917.txt           \b\b\b\b 79%\b\b\b\b\b  OK \n",
            "Extracting  /content/YOLO_Dataset_Main/train/labels/000918.txt           \b\b\b\b 79%\b\b\b\b\b  OK \n",
            "Extracting  /content/YOLO_Dataset_Main/train/labels/000919.txt           \b\b\b\b 79%\b\b\b\b\b  OK \n",
            "Extracting  /content/YOLO_Dataset_Main/train/labels/000920.txt           \b\b\b\b 79%\b\b\b\b\b  OK \n",
            "Extracting  /content/YOLO_Dataset_Main/train/labels/000921.txt           \b\b\b\b 79%\b\b\b\b\b  OK \n",
            "Extracting  /content/YOLO_Dataset_Main/train/labels/000922.txt           \b\b\b\b 79%\b\b\b\b\b  OK \n",
            "Extracting  /content/YOLO_Dataset_Main/train/labels/000923.txt           \b\b\b\b 79%\b\b\b\b\b  OK \n",
            "Extracting  /content/YOLO_Dataset_Main/train/labels/000924.txt           \b\b\b\b 79%\b\b\b\b\b  OK \n",
            "Extracting  /content/YOLO_Dataset_Main/train/labels/000925.txt           \b\b\b\b 79%\b\b\b\b\b  OK \n",
            "Extracting  /content/YOLO_Dataset_Main/train/labels/000927.txt           \b\b\b\b 79%\b\b\b\b\b  OK \n",
            "Extracting  /content/YOLO_Dataset_Main/train/labels/000928.txt           \b\b\b\b 79%\b\b\b\b\b  OK \n",
            "Extracting  /content/YOLO_Dataset_Main/train/labels/000929.txt           \b\b\b\b 79%\b\b\b\b\b  OK \n",
            "Extracting  /content/YOLO_Dataset_Main/train/labels/000930.txt           \b\b\b\b 79%\b\b\b\b\b  OK \n",
            "Extracting  /content/YOLO_Dataset_Main/train/labels/000931.txt           \b\b\b\b 79%\b\b\b\b\b  OK \n",
            "Extracting  /content/YOLO_Dataset_Main/train/labels/000932.txt           \b\b\b\b 79%\b\b\b\b\b  OK \n",
            "Extracting  /content/YOLO_Dataset_Main/train/labels/000934.txt           \b\b\b\b 79%\b\b\b\b\b  OK \n",
            "Extracting  /content/YOLO_Dataset_Main/train/labels/000935.txt           \b\b\b\b 79%\b\b\b\b\b  OK \n",
            "Extracting  /content/YOLO_Dataset_Main/train/labels/000936.txt           \b\b\b\b 79%\b\b\b\b\b  OK \n",
            "Extracting  /content/YOLO_Dataset_Main/train/labels/000937.txt           \b\b\b\b 79%\b\b\b\b\b  OK \n",
            "Extracting  /content/YOLO_Dataset_Main/train/labels/000938.txt           \b\b\b\b 79%\b\b\b\b\b  OK \n",
            "Extracting  /content/YOLO_Dataset_Main/train/labels/000940.txt           \b\b\b\b 79%\b\b\b\b\b  OK \n",
            "Extracting  /content/YOLO_Dataset_Main/train/labels/000941.txt           \b\b\b\b 79%\b\b\b\b\b  OK \n",
            "Extracting  /content/YOLO_Dataset_Main/train/labels/000942.txt           \b\b\b\b 79%\b\b\b\b\b  OK \n",
            "Extracting  /content/YOLO_Dataset_Main/train/labels/000943.txt           \b\b\b\b 79%\b\b\b\b\b  OK \n",
            "Extracting  /content/YOLO_Dataset_Main/train/labels/000945.txt           \b\b\b\b 79%\b\b\b\b\b  OK \n",
            "Extracting  /content/YOLO_Dataset_Main/train/labels/000947.txt           \b\b\b\b 79%\b\b\b\b\b  OK \n",
            "Extracting  /content/YOLO_Dataset_Main/train/labels/000948.txt           \b\b\b\b 79%\b\b\b\b\b  OK \n",
            "Extracting  /content/YOLO_Dataset_Main/train/labels/000949.txt           \b\b\b\b 79%\b\b\b\b\b  OK \n",
            "Extracting  /content/YOLO_Dataset_Main/train/labels/000950.txt           \b\b\b\b 79%\b\b\b\b\b  OK \n",
            "Extracting  /content/YOLO_Dataset_Main/train/labels/000951.txt           \b\b\b\b 79%\b\b\b\b\b  OK \n",
            "Extracting  /content/YOLO_Dataset_Main/train/labels/000953.txt           \b\b\b\b 79%\b\b\b\b\b  OK \n",
            "Extracting  /content/YOLO_Dataset_Main/train/labels/000954.txt           \b\b\b\b 79%\b\b\b\b\b  OK \n",
            "Extracting  /content/YOLO_Dataset_Main/train/labels/000955.txt           \b\b\b\b 79%\b\b\b\b\b  OK \n",
            "Extracting  /content/YOLO_Dataset_Main/train/labels/000957.txt           \b\b\b\b 79%\b\b\b\b\b  OK \n",
            "Extracting  /content/YOLO_Dataset_Main/train/labels/000959.txt           \b\b\b\b 79%\b\b\b\b\b  OK \n",
            "Extracting  /content/YOLO_Dataset_Main/train/labels/000960.txt           \b\b\b\b 79%\b\b\b\b\b  OK \n",
            "Extracting  /content/YOLO_Dataset_Main/train/labels/000961.txt           \b\b\b\b 79%\b\b\b\b\b  OK \n",
            "Extracting  /content/YOLO_Dataset_Main/train/labels/000962.txt           \b\b\b\b 79%\b\b\b\b\b  OK \n",
            "Extracting  /content/YOLO_Dataset_Main/train/labels/000963.txt           \b\b\b\b 79%\b\b\b\b\b  OK \n",
            "Extracting  /content/YOLO_Dataset_Main/train/labels/000965.txt           \b\b\b\b 79%\b\b\b\b\b  OK \n",
            "Extracting  /content/YOLO_Dataset_Main/train/labels/000966.txt           \b\b\b\b 79%\b\b\b\b\b  OK \n",
            "Extracting  /content/YOLO_Dataset_Main/train/labels/000967.txt           \b\b\b\b 79%\b\b\b\b\b  OK \n",
            "Extracting  /content/YOLO_Dataset_Main/train/labels/000968.txt           \b\b\b\b 79%\b\b\b\b\b  OK \n",
            "Extracting  /content/YOLO_Dataset_Main/train/labels/000969.txt           \b\b\b\b 79%\b\b\b\b\b  OK \n",
            "Extracting  /content/YOLO_Dataset_Main/train/labels/000970.txt           \b\b\b\b 79%\b\b\b\b\b  OK \n",
            "Extracting  /content/YOLO_Dataset_Main/train/labels/000971.txt           \b\b\b\b 79%\b\b\b\b\b  OK \n",
            "Extracting  /content/YOLO_Dataset_Main/train/labels/000972.txt           \b\b\b\b 79%\b\b\b\b\b  OK \n",
            "Extracting  /content/YOLO_Dataset_Main/train/labels/000973.txt           \b\b\b\b 79%\b\b\b\b\b  OK \n",
            "Extracting  /content/YOLO_Dataset_Main/train/labels/000974.txt           \b\b\b\b 79%\b\b\b\b\b  OK \n",
            "Extracting  /content/YOLO_Dataset_Main/train/labels/000975.txt           \b\b\b\b 79%\b\b\b\b\b  OK \n",
            "Extracting  /content/YOLO_Dataset_Main/train/labels/000976.txt           \b\b\b\b 79%\b\b\b\b\b  OK \n",
            "Extracting  /content/YOLO_Dataset_Main/train/labels/000978.txt           \b\b\b\b 79%\b\b\b\b\b  OK \n",
            "Extracting  /content/YOLO_Dataset_Main/train/labels/000979.txt           \b\b\b\b 79%\b\b\b\b\b  OK \n",
            "Extracting  /content/YOLO_Dataset_Main/train/labels/000980.txt           \b\b\b\b 79%\b\b\b\b\b  OK \n",
            "Extracting  /content/YOLO_Dataset_Main/train/labels/000981.txt           \b\b\b\b 79%\b\b\b\b\b  OK \n",
            "Extracting  /content/YOLO_Dataset_Main/train/labels/000983.txt           \b\b\b\b 79%\b\b\b\b\b  OK \n",
            "Extracting  /content/YOLO_Dataset_Main/train/labels/000984.txt           \b\b\b\b 79%\b\b\b\b\b  OK \n",
            "Extracting  /content/YOLO_Dataset_Main/train/labels/000988.txt           \b\b\b\b 79%\b\b\b\b\b  OK \n",
            "Extracting  /content/YOLO_Dataset_Main/train/labels/000989.txt           \b\b\b\b 79%\b\b\b\b\b  OK \n",
            "Extracting  /content/YOLO_Dataset_Main/train/labels/000990.txt           \b\b\b\b 79%\b\b\b\b\b  OK \n",
            "Extracting  /content/YOLO_Dataset_Main/train/labels/000991.txt           \b\b\b\b 79%\b\b\b\b\b  OK \n",
            "Extracting  /content/YOLO_Dataset_Main/train/labels/000994.txt           \b\b\b\b 79%\b\b\b\b\b  OK \n",
            "Extracting  /content/YOLO_Dataset_Main/train/labels/000995.txt           \b\b\b\b 79%\b\b\b\b\b  OK \n",
            "Extracting  /content/YOLO_Dataset_Main/train/labels/000996.txt           \b\b\b\b 79%\b\b\b\b\b  OK \n",
            "Extracting  /content/YOLO_Dataset_Main/train/labels/000997.txt           \b\b\b\b 79%\b\b\b\b\b  OK \n",
            "Extracting  /content/YOLO_Dataset_Main/train/labels/000999.txt           \b\b\b\b 79%\b\b\b\b\b  OK \n",
            "Extracting  /content/YOLO_Dataset_Main/train/labels/001000.txt           \b\b\b\b 79%\b\b\b\b\b  OK \n",
            "Extracting  /content/YOLO_Dataset_Main/train/labels/001001.txt           \b\b\b\b 79%\b\b\b\b\b  OK \n",
            "Extracting  /content/YOLO_Dataset_Main/train/labels/001002.txt           \b\b\b\b 79%\b\b\b\b\b  OK \n",
            "Extracting  /content/YOLO_Dataset_Main/train/labels/001003.txt           \b\b\b\b 79%\b\b\b\b\b  OK \n",
            "Extracting  /content/YOLO_Dataset_Main/train/labels/001004.txt           \b\b\b\b 79%\b\b\b\b\b  OK \n",
            "Extracting  /content/YOLO_Dataset_Main/train/labels/001005.txt           \b\b\b\b 79%\b\b\b\b\b  OK \n",
            "Extracting  /content/YOLO_Dataset_Main/train/labels/001006.txt           \b\b\b\b 79%\b\b\b\b\b  OK \n",
            "Extracting  /content/YOLO_Dataset_Main/train/labels/001007.txt           \b\b\b\b 79%\b\b\b\b\b  OK \n",
            "Extracting  /content/YOLO_Dataset_Main/train/labels/001008.txt           \b\b\b\b 79%\b\b\b\b\b  OK \n",
            "Extracting  /content/YOLO_Dataset_Main/train/labels/001010.txt           \b\b\b\b 79%\b\b\b\b\b  OK \n",
            "Extracting  /content/YOLO_Dataset_Main/train/labels/001011.txt           \b\b\b\b 79%\b\b\b\b\b  OK \n",
            "Extracting  /content/YOLO_Dataset_Main/train/labels/001012.txt           \b\b\b\b 79%\b\b\b\b\b  OK \n",
            "Extracting  /content/YOLO_Dataset_Main/train/labels/001013.txt           \b\b\b\b 79%\b\b\b\b\b  OK \n",
            "Extracting  /content/YOLO_Dataset_Main/train/labels/001014.txt           \b\b\b\b 79%\b\b\b\b\b  OK \n",
            "Extracting  /content/YOLO_Dataset_Main/train/labels/001016.txt           \b\b\b\b 79%\b\b\b\b\b  OK \n",
            "Extracting  /content/YOLO_Dataset_Main/train/labels/001017.txt           \b\b\b\b 79%\b\b\b\b\b  OK \n",
            "Extracting  /content/YOLO_Dataset_Main/train/labels/001019.txt           \b\b\b\b 79%\b\b\b\b\b  OK \n",
            "Extracting  /content/YOLO_Dataset_Main/train/labels/001020.txt           \b\b\b\b 79%\b\b\b\b\b  OK \n",
            "Extracting  /content/YOLO_Dataset_Main/train/labels/001021.txt           \b\b\b\b 79%\b\b\b\b\b  OK \n",
            "Extracting  /content/YOLO_Dataset_Main/train/labels/001022.txt           \b\b\b\b 79%\b\b\b\b\b  OK \n",
            "Extracting  /content/YOLO_Dataset_Main/train/labels/001025.txt           \b\b\b\b 79%\b\b\b\b\b  OK \n",
            "Extracting  /content/YOLO_Dataset_Main/train/labels/001026.txt           \b\b\b\b 79%\b\b\b\b\b  OK \n",
            "Extracting  /content/YOLO_Dataset_Main/train/labels/001028.txt           \b\b\b\b 79%\b\b\b\b\b  OK \n",
            "Extracting  /content/YOLO_Dataset_Main/train/labels/001029.txt           \b\b\b\b 79%\b\b\b\b\b  OK \n",
            "Extracting  /content/YOLO_Dataset_Main/train/labels/001030.txt           \b\b\b\b 79%\b\b\b\b\b  OK \n",
            "Extracting  /content/YOLO_Dataset_Main/train/labels/001031.txt           \b\b\b\b 79%\b\b\b\b\b  OK \n",
            "Extracting  /content/YOLO_Dataset_Main/train/labels/001035.txt           \b\b\b\b 79%\b\b\b\b\b  OK \n",
            "Extracting  /content/YOLO_Dataset_Main/train/labels/001036.txt           \b\b\b\b 79%\b\b\b\b\b  OK \n",
            "Extracting  /content/YOLO_Dataset_Main/train/labels/001037.txt           \b\b\b\b 79%\b\b\b\b\b  OK \n",
            "Extracting  /content/YOLO_Dataset_Main/train/labels/001038.txt           \b\b\b\b 79%\b\b\b\b\b  OK \n",
            "Extracting  /content/YOLO_Dataset_Main/train/labels/001039.txt           \b\b\b\b 79%\b\b\b\b\b  OK \n",
            "Extracting  /content/YOLO_Dataset_Main/train/labels/001040.txt           \b\b\b\b 79%\b\b\b\b\b  OK \n",
            "Extracting  /content/YOLO_Dataset_Main/train/labels/001041.txt           \b\b\b\b 79%\b\b\b\b\b  OK \n",
            "Extracting  /content/YOLO_Dataset_Main/train/labels/001042.txt           \b\b\b\b 79%\b\b\b\b\b  OK \n",
            "Extracting  /content/YOLO_Dataset_Main/train/labels/001043.txt           \b\b\b\b 79%\b\b\b\b\b  OK \n",
            "Extracting  /content/YOLO_Dataset_Main/train/labels/001044.txt           \b\b\b\b 79%\b\b\b\b\b  OK \n",
            "Extracting  /content/YOLO_Dataset_Main/train/labels/001045.txt           \b\b\b\b 79%\b\b\b\b\b  OK \n",
            "Extracting  /content/YOLO_Dataset_Main/train/labels/001046.txt           \b\b\b\b 79%\b\b\b\b\b  OK \n",
            "Extracting  /content/YOLO_Dataset_Main/train/labels/001047.txt           \b\b\b\b 79%\b\b\b\b\b  OK \n",
            "Extracting  /content/YOLO_Dataset_Main/train/labels/001048.txt           \b\b\b\b 79%\b\b\b\b\b  OK \n",
            "Extracting  /content/YOLO_Dataset_Main/train/labels/001049.txt           \b\b\b\b 79%\b\b\b\b\b  OK \n",
            "Extracting  /content/YOLO_Dataset_Main/train/labels/001050.txt           \b\b\b\b 79%\b\b\b\b\b  OK \n",
            "Extracting  /content/YOLO_Dataset_Main/train/labels/001051.txt           \b\b\b\b 79%\b\b\b\b\b  OK \n",
            "Extracting  /content/YOLO_Dataset_Main/train/labels/001053.txt           \b\b\b\b 79%\b\b\b\b\b  OK \n",
            "Extracting  /content/YOLO_Dataset_Main/train/labels/001054.txt           \b\b\b\b 79%\b\b\b\b\b  OK \n",
            "Extracting  /content/YOLO_Dataset_Main/train/labels/001056.txt           \b\b\b\b 79%\b\b\b\b\b  OK \n",
            "Extracting  /content/YOLO_Dataset_Main/train/labels/001057.txt           \b\b\b\b 79%\b\b\b\b\b  OK \n",
            "Extracting  /content/YOLO_Dataset_Main/train/labels/001058.txt           \b\b\b\b 79%\b\b\b\b\b  OK \n",
            "Extracting  /content/YOLO_Dataset_Main/train/labels/001059.txt           \b\b\b\b 79%\b\b\b\b\b  OK \n",
            "Extracting  /content/YOLO_Dataset_Main/train/labels/001060.txt           \b\b\b\b 79%\b\b\b\b\b  OK \n",
            "Extracting  /content/YOLO_Dataset_Main/train/labels/001061.txt           \b\b\b\b 79%\b\b\b\b\b  OK \n",
            "Extracting  /content/YOLO_Dataset_Main/train/labels/001062.txt           \b\b\b\b 79%\b\b\b\b\b  OK \n",
            "Extracting  /content/YOLO_Dataset_Main/train/labels/001063.txt           \b\b\b\b 79%\b\b\b\b\b  OK \n",
            "Extracting  /content/YOLO_Dataset_Main/train/labels/001064.txt           \b\b\b\b 79%\b\b\b\b\b  OK \n",
            "Extracting  /content/YOLO_Dataset_Main/train/labels/001065.txt           \b\b\b\b 79%\b\b\b\b\b  OK \n",
            "Extracting  /content/YOLO_Dataset_Main/train/labels/001066.txt           \b\b\b\b 79%\b\b\b\b\b  OK \n",
            "Extracting  /content/YOLO_Dataset_Main/train/labels/001068.txt           \b\b\b\b 79%\b\b\b\b\b  OK \n",
            "Extracting  /content/YOLO_Dataset_Main/train/labels/001069.txt           \b\b\b\b 79%\b\b\b\b\b  OK \n",
            "Extracting  /content/YOLO_Dataset_Main/train/labels/001070.txt           \b\b\b\b 79%\b\b\b\b\b  OK \n",
            "Extracting  /content/YOLO_Dataset_Main/train/labels/001072.txt           \b\b\b\b 79%\b\b\b\b\b  OK \n",
            "Extracting  /content/YOLO_Dataset_Main/train/labels/001073.txt           \b\b\b\b 79%\b\b\b\b\b  OK \n",
            "Extracting  /content/YOLO_Dataset_Main/train/labels/001075.txt           \b\b\b\b 79%\b\b\b\b\b  OK \n",
            "Extracting  /content/YOLO_Dataset_Main/train/labels/001077.txt           \b\b\b\b 79%\b\b\b\b\b  OK \n",
            "Extracting  /content/YOLO_Dataset_Main/train/labels/001078.txt           \b\b\b\b 79%\b\b\b\b\b  OK \n",
            "Extracting  /content/YOLO_Dataset_Main/train/labels/001079.txt           \b\b\b\b 79%\b\b\b\b\b  OK \n",
            "Extracting  /content/YOLO_Dataset_Main/train/labels/001080.txt           \b\b\b\b 79%\b\b\b\b\b  OK \n",
            "Extracting  /content/YOLO_Dataset_Main/train/labels/001081.txt           \b\b\b\b 79%\b\b\b\b\b  OK \n",
            "Extracting  /content/YOLO_Dataset_Main/train/labels/001082.txt           \b\b\b\b 79%\b\b\b\b\b  OK \n",
            "Extracting  /content/YOLO_Dataset_Main/train/labels/001083.txt           \b\b\b\b 79%\b\b\b\b\b  OK \n",
            "Extracting  /content/YOLO_Dataset_Main/train/labels/001084.txt           \b\b\b\b 79%\b\b\b\b\b  OK \n",
            "Extracting  /content/YOLO_Dataset_Main/train/labels/001085.txt           \b\b\b\b 79%\b\b\b\b\b  OK \n",
            "Extracting  /content/YOLO_Dataset_Main/train/labels/001086.txt           \b\b\b\b 79%\b\b\b\b\b  OK \n",
            "Extracting  /content/YOLO_Dataset_Main/train/labels/001087.txt           \b\b\b\b 79%\b\b\b\b\b  OK \n",
            "Extracting  /content/YOLO_Dataset_Main/train/labels/001089.txt           \b\b\b\b 79%\b\b\b\b\b  OK \n",
            "Extracting  /content/YOLO_Dataset_Main/train/labels/001090.txt           \b\b\b\b 79%\b\b\b\b\b  OK \n",
            "Extracting  /content/YOLO_Dataset_Main/train/labels/001091.txt           \b\b\b\b 79%\b\b\b\b\b  OK \n",
            "Extracting  /content/YOLO_Dataset_Main/train/labels/001092.txt           \b\b\b\b 79%\b\b\b\b\b  OK \n",
            "Extracting  /content/YOLO_Dataset_Main/train/labels/001093.txt           \b\b\b\b 79%\b\b\b\b\b  OK \n",
            "Extracting  /content/YOLO_Dataset_Main/train/labels/001094.txt           \b\b\b\b 79%\b\b\b\b\b  OK \n",
            "Extracting  /content/YOLO_Dataset_Main/train/labels/001095.txt           \b\b\b\b 79%\b\b\b\b\b  OK \n",
            "Extracting  /content/YOLO_Dataset_Main/train/labels/001096.txt           \b\b\b\b 79%\b\b\b\b\b  OK \n",
            "Extracting  /content/YOLO_Dataset_Main/train/labels/001098.txt           \b\b\b\b 79%\b\b\b\b\b  OK \n",
            "Extracting  /content/YOLO_Dataset_Main/train/labels/001099.txt           \b\b\b\b 79%\b\b\b\b\b  OK \n",
            "Extracting  /content/YOLO_Dataset_Main/train/labels/001100.txt           \b\b\b\b 79%\b\b\b\b\b  OK \n",
            "Extracting  /content/YOLO_Dataset_Main/train/labels/001101.txt           \b\b\b\b 79%\b\b\b\b\b  OK \n",
            "Extracting  /content/YOLO_Dataset_Main/train/labels/001103.txt           \b\b\b\b 79%\b\b\b\b\b  OK \n",
            "Extracting  /content/YOLO_Dataset_Main/train/labels/001104.txt           \b\b\b\b 79%\b\b\b\b\b  OK \n",
            "Extracting  /content/YOLO_Dataset_Main/train/labels/001105.txt           \b\b\b\b 79%\b\b\b\b\b  OK \n",
            "Extracting  /content/YOLO_Dataset_Main/train/labels/001106.txt           \b\b\b\b 79%\b\b\b\b\b  OK \n",
            "Extracting  /content/YOLO_Dataset_Main/train/labels/001108.txt           \b\b\b\b 79%\b\b\b\b\b  OK \n",
            "Extracting  /content/YOLO_Dataset_Main/train/labels/001109.txt           \b\b\b\b 79%\b\b\b\b\b  OK \n",
            "Extracting  /content/YOLO_Dataset_Main/train/labels/001112.txt           \b\b\b\b 79%\b\b\b\b\b  OK \n",
            "Extracting  /content/YOLO_Dataset_Main/train/labels/001113.txt           \b\b\b\b 79%\b\b\b\b\b  OK \n",
            "Extracting  /content/YOLO_Dataset_Main/train/labels/001114.txt           \b\b\b\b 79%\b\b\b\b\b  OK \n",
            "Extracting  /content/YOLO_Dataset_Main/train/labels/001115.txt           \b\b\b\b 79%\b\b\b\b\b  OK \n",
            "Extracting  /content/YOLO_Dataset_Main/train/labels/001117.txt           \b\b\b\b 79%\b\b\b\b\b  OK \n",
            "Extracting  /content/YOLO_Dataset_Main/train/labels/001118.txt           \b\b\b\b 79%\b\b\b\b\b  OK \n",
            "Extracting  /content/YOLO_Dataset_Main/train/labels/001119.txt           \b\b\b\b 79%\b\b\b\b\b  OK \n",
            "Extracting  /content/YOLO_Dataset_Main/train/labels/001120.txt           \b\b\b\b 79%\b\b\b\b\b  OK \n",
            "Extracting  /content/YOLO_Dataset_Main/train/labels/001121.txt           \b\b\b\b 79%\b\b\b\b\b  OK \n",
            "Extracting  /content/YOLO_Dataset_Main/train/labels/001123.txt           \b\b\b\b 79%\b\b\b\b\b  OK \n",
            "Extracting  /content/YOLO_Dataset_Main/train/labels/001124.txt           \b\b\b\b 79%\b\b\b\b\b  OK \n",
            "Extracting  /content/YOLO_Dataset_Main/train/labels/001125.txt           \b\b\b\b 79%\b\b\b\b\b  OK \n",
            "Extracting  /content/YOLO_Dataset_Main/train/labels/001126.txt           \b\b\b\b 79%\b\b\b\b\b  OK \n",
            "Extracting  /content/YOLO_Dataset_Main/train/labels/001127.txt           \b\b\b\b 79%\b\b\b\b\b  OK \n",
            "Extracting  /content/YOLO_Dataset_Main/train/labels/001128.txt           \b\b\b\b 79%\b\b\b\b\b  OK \n",
            "Extracting  /content/YOLO_Dataset_Main/train/labels/001129.txt           \b\b\b\b 79%\b\b\b\b\b  OK \n",
            "Extracting  /content/YOLO_Dataset_Main/train/labels/001130.txt           \b\b\b\b 79%\b\b\b\b\b  OK \n",
            "Extracting  /content/YOLO_Dataset_Main/train/labels/001131.txt           \b\b\b\b 79%\b\b\b\b\b  OK \n",
            "Extracting  /content/YOLO_Dataset_Main/train/labels/001132.txt           \b\b\b\b 79%\b\b\b\b\b  OK \n",
            "Extracting  /content/YOLO_Dataset_Main/train/labels/001133.txt           \b\b\b\b 79%\b\b\b\b\b  OK \n",
            "Extracting  /content/YOLO_Dataset_Main/train/labels/001135.txt           \b\b\b\b 79%\b\b\b\b\b  OK \n",
            "Extracting  /content/YOLO_Dataset_Main/train/labels/001136.txt           \b\b\b\b 79%\b\b\b\b\b  OK \n",
            "Extracting  /content/YOLO_Dataset_Main/train/labels/001137.txt           \b\b\b\b 79%\b\b\b\b\b  OK \n",
            "Extracting  /content/YOLO_Dataset_Main/train/labels/001138.txt           \b\b\b\b 79%\b\b\b\b\b  OK \n",
            "Extracting  /content/YOLO_Dataset_Main/train/labels/001139.txt           \b\b\b\b 79%\b\b\b\b\b  OK \n",
            "Extracting  /content/YOLO_Dataset_Main/train/labels/001141.txt           \b\b\b\b 79%\b\b\b\b\b  OK \n",
            "Extracting  /content/YOLO_Dataset_Main/train/labels/001142.txt           \b\b\b\b 79%\b\b\b\b\b  OK \n",
            "Extracting  /content/YOLO_Dataset_Main/train/labels/001144.txt           \b\b\b\b 79%\b\b\b\b\b  OK \n",
            "Extracting  /content/YOLO_Dataset_Main/train/labels/001145.txt           \b\b\b\b 79%\b\b\b\b\b  OK \n",
            "Extracting  /content/YOLO_Dataset_Main/train/labels/001146.txt           \b\b\b\b 79%\b\b\b\b\b  OK \n",
            "Extracting  /content/YOLO_Dataset_Main/train/labels/001147.txt           \b\b\b\b 79%\b\b\b\b\b  OK \n",
            "Extracting  /content/YOLO_Dataset_Main/train/labels/001148.txt           \b\b\b\b 79%\b\b\b\b\b  OK \n",
            "Extracting  /content/YOLO_Dataset_Main/train/labels/001149.txt           \b\b\b\b 79%\b\b\b\b\b  OK \n",
            "Extracting  /content/YOLO_Dataset_Main/train/labels/001150.txt           \b\b\b\b 79%\b\b\b\b\b  OK \n",
            "Extracting  /content/YOLO_Dataset_Main/train/labels/001151.txt           \b\b\b\b 79%\b\b\b\b\b  OK \n",
            "Extracting  /content/YOLO_Dataset_Main/train/labels/001152.txt           \b\b\b\b 79%\b\b\b\b\b  OK \n",
            "Extracting  /content/YOLO_Dataset_Main/train/labels/001153.txt           \b\b\b\b 79%\b\b\b\b\b  OK \n",
            "Extracting  /content/YOLO_Dataset_Main/train/labels/001155.txt           \b\b\b\b 79%\b\b\b\b\b  OK \n",
            "Extracting  /content/YOLO_Dataset_Main/train/labels/001156.txt           \b\b\b\b 79%\b\b\b\b\b  OK \n",
            "Extracting  /content/YOLO_Dataset_Main/train/labels/001159.txt           \b\b\b\b 79%\b\b\b\b\b  OK \n",
            "Extracting  /content/YOLO_Dataset_Main/train/labels/001160.txt           \b\b\b\b 79%\b\b\b\b\b  OK \n",
            "Extracting  /content/YOLO_Dataset_Main/train/labels/001161.txt           \b\b\b\b 79%\b\b\b\b\b  OK \n",
            "Extracting  /content/YOLO_Dataset_Main/train/labels/001162.txt           \b\b\b\b 79%\b\b\b\b\b  OK \n",
            "Extracting  /content/YOLO_Dataset_Main/train/labels/001164.txt           \b\b\b\b 79%\b\b\b\b\b  OK \n",
            "Extracting  /content/YOLO_Dataset_Main/train/labels/001165.txt           \b\b\b\b 79%\b\b\b\b\b  OK \n",
            "Extracting  /content/YOLO_Dataset_Main/train/labels/001166.txt           \b\b\b\b 79%\b\b\b\b\b  OK \n",
            "Extracting  /content/YOLO_Dataset_Main/train/labels/001167.txt           \b\b\b\b 79%\b\b\b\b\b  OK \n",
            "Extracting  /content/YOLO_Dataset_Main/train/labels/001168.txt           \b\b\b\b 79%\b\b\b\b\b  OK \n",
            "Extracting  /content/YOLO_Dataset_Main/train/labels/001169.txt           \b\b\b\b 79%\b\b\b\b\b  OK \n",
            "Extracting  /content/YOLO_Dataset_Main/train/labels/001170.txt           \b\b\b\b 79%\b\b\b\b\b  OK \n",
            "Extracting  /content/YOLO_Dataset_Main/train/labels/001171.txt           \b\b\b\b 79%\b\b\b\b\b  OK \n",
            "Extracting  /content/YOLO_Dataset_Main/train/labels/001172.txt           \b\b\b\b 79%\b\b\b\b\b  OK \n",
            "Extracting  /content/YOLO_Dataset_Main/train/labels/001173.txt           \b\b\b\b 79%\b\b\b\b\b  OK \n",
            "Extracting  /content/YOLO_Dataset_Main/train/labels/001176.txt           \b\b\b\b 79%\b\b\b\b\b  OK \n",
            "Extracting  /content/YOLO_Dataset_Main/train/labels/001177.txt           \b\b\b\b 79%\b\b\b\b\b  OK \n",
            "Extracting  /content/YOLO_Dataset_Main/train/labels/001178.txt           \b\b\b\b 79%\b\b\b\b\b  OK \n",
            "Extracting  /content/YOLO_Dataset_Main/train/labels/001179.txt           \b\b\b\b 79%\b\b\b\b\b  OK \n",
            "Extracting  /content/YOLO_Dataset_Main/train/labels/001180.txt           \b\b\b\b 79%\b\b\b\b\b  OK \n",
            "Extracting  /content/YOLO_Dataset_Main/train/labels/001181.txt           \b\b\b\b 79%\b\b\b\b\b  OK \n",
            "Extracting  /content/YOLO_Dataset_Main/train/labels/001182.txt           \b\b\b\b 79%\b\b\b\b\b  OK \n",
            "Extracting  /content/YOLO_Dataset_Main/train/labels/001184.txt           \b\b\b\b 79%\b\b\b\b\b  OK \n",
            "Extracting  /content/YOLO_Dataset_Main/train/labels/001185.txt           \b\b\b\b 79%\b\b\b\b\b  OK \n",
            "Extracting  /content/YOLO_Dataset_Main/train/labels/001186.txt           \b\b\b\b 79%\b\b\b\b\b  OK \n",
            "Extracting  /content/YOLO_Dataset_Main/train/labels/001187.txt           \b\b\b\b 79%\b\b\b\b\b  OK \n",
            "Extracting  /content/YOLO_Dataset_Main/train/labels/001188.txt           \b\b\b\b 79%\b\b\b\b\b  OK \n",
            "Extracting  /content/YOLO_Dataset_Main/train/labels/001189.txt           \b\b\b\b 79%\b\b\b\b\b  OK \n",
            "Extracting  /content/YOLO_Dataset_Main/train/labels/001191.txt           \b\b\b\b 79%\b\b\b\b\b  OK \n",
            "Extracting  /content/YOLO_Dataset_Main/train/labels/001192.txt           \b\b\b\b 79%\b\b\b\b\b  OK \n",
            "Extracting  /content/YOLO_Dataset_Main/train/labels/001193.txt           \b\b\b\b 79%\b\b\b\b\b  OK \n",
            "Extracting  /content/YOLO_Dataset_Main/train/labels/001196.txt           \b\b\b\b 79%\b\b\b\b\b  OK \n",
            "Extracting  /content/YOLO_Dataset_Main/train/labels/001197.txt           \b\b\b\b 79%\b\b\b\b\b  OK \n",
            "Extracting  /content/YOLO_Dataset_Main/train/labels/001198.txt           \b\b\b\b 79%\b\b\b\b\b  OK \n",
            "Extracting  /content/YOLO_Dataset_Main/train/labels/001200.txt           \b\b\b\b 79%\b\b\b\b\b  OK \n",
            "Extracting  /content/YOLO_Dataset_Main/train/labels/001201.txt           \b\b\b\b 79%\b\b\b\b\b  OK \n",
            "Extracting  /content/YOLO_Dataset_Main/train/labels/001203.txt           \b\b\b\b 79%\b\b\b\b\b  OK \n",
            "Extracting  /content/YOLO_Dataset_Main/train/labels/001205.txt           \b\b\b\b 79%\b\b\b\b\b  OK \n",
            "Extracting  /content/YOLO_Dataset_Main/train/labels/001206.txt           \b\b\b\b 79%\b\b\b\b\b  OK \n",
            "Extracting  /content/YOLO_Dataset_Main/train/labels/001207.txt           \b\b\b\b 79%\b\b\b\b\b  OK \n",
            "Extracting  /content/YOLO_Dataset_Main/train/labels/001208.txt           \b\b\b\b 79%\b\b\b\b\b  OK \n",
            "Extracting  /content/YOLO_Dataset_Main/train/labels/001210.txt           \b\b\b\b 79%\b\b\b\b\b  OK \n",
            "Extracting  /content/YOLO_Dataset_Main/train/labels/001211.txt           \b\b\b\b 79%\b\b\b\b\b  OK \n",
            "Extracting  /content/YOLO_Dataset_Main/train/labels/001212.txt           \b\b\b\b 79%\b\b\b\b\b  OK \n",
            "Extracting  /content/YOLO_Dataset_Main/train/labels/001214.txt           \b\b\b\b 79%\b\b\b\b\b  OK \n",
            "Extracting  /content/YOLO_Dataset_Main/train/labels/001216.txt           \b\b\b\b 79%\b\b\b\b\b  OK \n",
            "Extracting  /content/YOLO_Dataset_Main/train/labels/001217.txt           \b\b\b\b 79%\b\b\b\b\b  OK \n",
            "Extracting  /content/YOLO_Dataset_Main/train/labels/001218.txt           \b\b\b\b 79%\b\b\b\b\b  OK \n",
            "Extracting  /content/YOLO_Dataset_Main/train/labels/001219.txt           \b\b\b\b 79%\b\b\b\b\b  OK \n",
            "Extracting  /content/YOLO_Dataset_Main/train/labels/001220.txt           \b\b\b\b 79%\b\b\b\b\b  OK \n",
            "Extracting  /content/YOLO_Dataset_Main/train/labels/001221.txt           \b\b\b\b 79%\b\b\b\b\b  OK \n",
            "Extracting  /content/YOLO_Dataset_Main/train/labels/001222.txt           \b\b\b\b 79%\b\b\b\b\b  OK \n",
            "Extracting  /content/YOLO_Dataset_Main/train/labels/001223.txt           \b\b\b\b 79%\b\b\b\b\b  OK \n",
            "Extracting  /content/YOLO_Dataset_Main/train/labels/001224.txt           \b\b\b\b 79%\b\b\b\b\b  OK \n",
            "Extracting  /content/YOLO_Dataset_Main/train/labels/001226.txt           \b\b\b\b 79%\b\b\b\b\b  OK \n",
            "Extracting  /content/YOLO_Dataset_Main/train/labels/001227.txt           \b\b\b\b 79%\b\b\b\b\b  OK \n",
            "Extracting  /content/YOLO_Dataset_Main/train/labels/001228.txt           \b\b\b\b 79%\b\b\b\b\b  OK \n",
            "Extracting  /content/YOLO_Dataset_Main/train/labels/001229.txt           \b\b\b\b 79%\b\b\b\b\b  OK \n",
            "Extracting  /content/YOLO_Dataset_Main/train/labels/001230.txt           \b\b\b\b 79%\b\b\b\b\b  OK \n",
            "Extracting  /content/YOLO_Dataset_Main/train/labels/001231.txt           \b\b\b\b 79%\b\b\b\b\b  OK \n",
            "Extracting  /content/YOLO_Dataset_Main/train/labels/001232.txt           \b\b\b\b 79%\b\b\b\b\b  OK \n",
            "Extracting  /content/YOLO_Dataset_Main/train/labels/001233.txt           \b\b\b\b 79%\b\b\b\b\b  OK \n",
            "Extracting  /content/YOLO_Dataset_Main/train/labels/001234.txt           \b\b\b\b 79%\b\b\b\b\b  OK \n",
            "Extracting  /content/YOLO_Dataset_Main/train/labels/001235.txt           \b\b\b\b 79%\b\b\b\b\b  OK \n",
            "Extracting  /content/YOLO_Dataset_Main/train/labels/001236.txt           \b\b\b\b 79%\b\b\b\b\b  OK \n",
            "Extracting  /content/YOLO_Dataset_Main/train/labels/001237.txt           \b\b\b\b 79%\b\b\b\b\b  OK \n",
            "Extracting  /content/YOLO_Dataset_Main/train/labels/001239.txt           \b\b\b\b 79%\b\b\b\b\b  OK \n",
            "Extracting  /content/YOLO_Dataset_Main/train/labels/001241.txt           \b\b\b\b 79%\b\b\b\b\b  OK \n",
            "Extracting  /content/YOLO_Dataset_Main/train/labels/001242.txt           \b\b\b\b 79%\b\b\b\b\b  OK \n",
            "Extracting  /content/YOLO_Dataset_Main/train/labels/001243.txt           \b\b\b\b 79%\b\b\b\b\b  OK \n",
            "Extracting  /content/YOLO_Dataset_Main/train/labels/001244.txt           \b\b\b\b 79%\b\b\b\b\b  OK \n",
            "Extracting  /content/YOLO_Dataset_Main/train/labels/001246.txt           \b\b\b\b 79%\b\b\b\b\b  OK \n",
            "Extracting  /content/YOLO_Dataset_Main/train/labels/001248.txt           \b\b\b\b 79%\b\b\b\b\b  OK \n",
            "Extracting  /content/YOLO_Dataset_Main/train/labels/001249.txt           \b\b\b\b 79%\b\b\b\b\b  OK \n",
            "Extracting  /content/YOLO_Dataset_Main/train/labels/001250.txt           \b\b\b\b 79%\b\b\b\b\b  OK \n",
            "Extracting  /content/YOLO_Dataset_Main/train/labels/001251.txt           \b\b\b\b 79%\b\b\b\b\b  OK \n",
            "Extracting  /content/YOLO_Dataset_Main/train/labels/001253.txt           \b\b\b\b 79%\b\b\b\b\b  OK \n",
            "Extracting  /content/YOLO_Dataset_Main/train/labels/001254.txt           \b\b\b\b 79%\b\b\b\b\b  OK \n",
            "Extracting  /content/YOLO_Dataset_Main/train/labels/001255.txt           \b\b\b\b 79%\b\b\b\b\b  OK \n",
            "Extracting  /content/YOLO_Dataset_Main/train/labels/001256.txt           \b\b\b\b 79%\b\b\b\b\b  OK \n",
            "Extracting  /content/YOLO_Dataset_Main/train/labels/001257.txt           \b\b\b\b 79%\b\b\b\b\b  OK \n",
            "Extracting  /content/YOLO_Dataset_Main/train/labels/001259.txt           \b\b\b\b 79%\b\b\b\b\b  OK \n",
            "Extracting  /content/YOLO_Dataset_Main/train/labels/001260.txt           \b\b\b\b 79%\b\b\b\b\b  OK \n",
            "Extracting  /content/YOLO_Dataset_Main/train/labels/001261.txt           \b\b\b\b 79%\b\b\b\b\b  OK \n",
            "Extracting  /content/YOLO_Dataset_Main/train/labels/001262.txt           \b\b\b\b 79%\b\b\b\b\b  OK \n",
            "Extracting  /content/YOLO_Dataset_Main/train/labels/001264.txt           \b\b\b\b 79%\b\b\b\b\b  OK \n",
            "Extracting  /content/YOLO_Dataset_Main/train/labels/001265.txt           \b\b\b\b 79%\b\b\b\b\b  OK \n",
            "Extracting  /content/YOLO_Dataset_Main/train/labels/001266.txt           \b\b\b\b 79%\b\b\b\b\b  OK \n",
            "Extracting  /content/YOLO_Dataset_Main/train/labels/001268.txt           \b\b\b\b 79%\b\b\b\b\b  OK \n",
            "Extracting  /content/YOLO_Dataset_Main/train/labels/001269.txt           \b\b\b\b 79%\b\b\b\b\b  OK \n",
            "Extracting  /content/YOLO_Dataset_Main/train/labels/001270.txt           \b\b\b\b 79%\b\b\b\b\b  OK \n",
            "Extracting  /content/YOLO_Dataset_Main/train/labels/001271.txt           \b\b\b\b 79%\b\b\b\b\b  OK \n",
            "Extracting  /content/YOLO_Dataset_Main/train/labels/001272.txt           \b\b\b\b 79%\b\b\b\b\b  OK \n",
            "Extracting  /content/YOLO_Dataset_Main/train/labels/001273.txt           \b\b\b\b 79%\b\b\b\b\b  OK \n",
            "Extracting  /content/YOLO_Dataset_Main/train/labels/001274.txt           \b\b\b\b 79%\b\b\b\b\b  OK \n",
            "Extracting  /content/YOLO_Dataset_Main/train/labels/001275.txt           \b\b\b\b 79%\b\b\b\b\b  OK \n",
            "Extracting  /content/YOLO_Dataset_Main/train/labels/001277.txt           \b\b\b\b 79%\b\b\b\b\b  OK \n",
            "Extracting  /content/YOLO_Dataset_Main/train/labels/001278.txt           \b\b\b\b 79%\b\b\b\b\b  OK \n",
            "Extracting  /content/YOLO_Dataset_Main/train/labels/001279.txt           \b\b\b\b 79%\b\b\b\b\b  OK \n",
            "Extracting  /content/YOLO_Dataset_Main/train/labels/001281.txt           \b\b\b\b 79%\b\b\b\b\b  OK \n",
            "Extracting  /content/YOLO_Dataset_Main/train/labels/001282.txt           \b\b\b\b 79%\b\b\b\b\b  OK \n",
            "Extracting  /content/YOLO_Dataset_Main/train/labels/001283.txt           \b\b\b\b 79%\b\b\b\b\b  OK \n",
            "Extracting  /content/YOLO_Dataset_Main/train/labels/001284.txt           \b\b\b\b 79%\b\b\b\b\b  OK \n",
            "Extracting  /content/YOLO_Dataset_Main/train/labels/001285.txt           \b\b\b\b 79%\b\b\b\b\b  OK \n",
            "Extracting  /content/YOLO_Dataset_Main/train/labels/001286.txt           \b\b\b\b 79%\b\b\b\b\b  OK \n",
            "Extracting  /content/YOLO_Dataset_Main/train/labels/001287.txt           \b\b\b\b 79%\b\b\b\b\b  OK \n",
            "Extracting  /content/YOLO_Dataset_Main/train/labels/001288.txt           \b\b\b\b 79%\b\b\b\b\b  OK \n",
            "Extracting  /content/YOLO_Dataset_Main/train/labels/001289.txt           \b\b\b\b 79%\b\b\b\b\b  OK \n",
            "Extracting  /content/YOLO_Dataset_Main/train/labels/001291.txt           \b\b\b\b 79%\b\b\b\b\b  OK \n",
            "Extracting  /content/YOLO_Dataset_Main/train/labels/001292.txt           \b\b\b\b 79%\b\b\b\b\b  OK \n",
            "Extracting  /content/YOLO_Dataset_Main/train/labels/001294.txt           \b\b\b\b 79%\b\b\b\b\b  OK \n",
            "Extracting  /content/YOLO_Dataset_Main/train/labels/001295.txt           \b\b\b\b 79%\b\b\b\b\b  OK \n",
            "Extracting  /content/YOLO_Dataset_Main/train/labels/001296.txt           \b\b\b\b 79%\b\b\b\b\b  OK \n",
            "Extracting  /content/YOLO_Dataset_Main/train/labels/001297.txt           \b\b\b\b 79%\b\b\b\b\b  OK \n",
            "Extracting  /content/YOLO_Dataset_Main/train/labels/001299.txt           \b\b\b\b 79%\b\b\b\b\b  OK \n",
            "Extracting  /content/YOLO_Dataset_Main/train/labels/001300.txt           \b\b\b\b 79%\b\b\b\b\b  OK \n",
            "Extracting  /content/YOLO_Dataset_Main/train/labels/001301.txt           \b\b\b\b 79%\b\b\b\b\b  OK \n",
            "Extracting  /content/YOLO_Dataset_Main/train/labels/001302.txt           \b\b\b\b 79%\b\b\b\b\b  OK \n",
            "Extracting  /content/YOLO_Dataset_Main/train/labels/001303.txt           \b\b\b\b 79%\b\b\b\b\b  OK \n",
            "Extracting  /content/YOLO_Dataset_Main/train/labels/001304.txt           \b\b\b\b 79%\b\b\b\b\b  OK \n",
            "Extracting  /content/YOLO_Dataset_Main/train/labels/001306.txt           \b\b\b\b 79%\b\b\b\b\b  OK \n",
            "Extracting  /content/YOLO_Dataset_Main/train/labels/001308.txt           \b\b\b\b 79%\b\b\b\b\b  OK \n",
            "Extracting  /content/YOLO_Dataset_Main/train/labels/001310.txt           \b\b\b\b 79%\b\b\b\b\b  OK \n",
            "Extracting  /content/YOLO_Dataset_Main/train/labels/001311.txt           \b\b\b\b 79%\b\b\b\b\b  OK \n",
            "Extracting  /content/YOLO_Dataset_Main/train/labels/001312.txt           \b\b\b\b 79%\b\b\b\b\b  OK \n",
            "Extracting  /content/YOLO_Dataset_Main/train/labels/001313.txt           \b\b\b\b 79%\b\b\b\b\b  OK \n",
            "Extracting  /content/YOLO_Dataset_Main/train/labels/001314.txt           \b\b\b\b 79%\b\b\b\b\b  OK \n",
            "Extracting  /content/YOLO_Dataset_Main/train/labels/001315.txt           \b\b\b\b 79%\b\b\b\b\b  OK \n",
            "Extracting  /content/YOLO_Dataset_Main/train/labels/001316.txt           \b\b\b\b 79%\b\b\b\b\b  OK \n",
            "Extracting  /content/YOLO_Dataset_Main/train/labels/001317.txt           \b\b\b\b 79%\b\b\b\b\b  OK \n",
            "Extracting  /content/YOLO_Dataset_Main/train/labels/001318.txt           \b\b\b\b 79%\b\b\b\b\b  OK \n",
            "Extracting  /content/YOLO_Dataset_Main/train/labels/001319.txt           \b\b\b\b 79%\b\b\b\b\b  OK \n",
            "Extracting  /content/YOLO_Dataset_Main/train/labels/001320.txt           \b\b\b\b 79%\b\b\b\b\b  OK \n",
            "Extracting  /content/YOLO_Dataset_Main/train/labels/001321.txt           \b\b\b\b 79%\b\b\b\b\b  OK \n",
            "Extracting  /content/YOLO_Dataset_Main/train/labels/001323.txt           \b\b\b\b 79%\b\b\b\b\b  OK \n",
            "Extracting  /content/YOLO_Dataset_Main/train/labels/001324.txt           \b\b\b\b 79%\b\b\b\b\b  OK \n",
            "Extracting  /content/YOLO_Dataset_Main/train/labels/001326.txt           \b\b\b\b 79%\b\b\b\b\b  OK \n",
            "Extracting  /content/YOLO_Dataset_Main/train/labels/001327.txt           \b\b\b\b 79%\b\b\b\b\b  OK \n",
            "Extracting  /content/YOLO_Dataset_Main/train/labels/001328.txt           \b\b\b\b 79%\b\b\b\b\b  OK \n",
            "Extracting  /content/YOLO_Dataset_Main/train/labels/001330.txt           \b\b\b\b 79%\b\b\b\b\b  OK \n",
            "Extracting  /content/YOLO_Dataset_Main/train/labels/001331.txt           \b\b\b\b 79%\b\b\b\b\b  OK \n",
            "Extracting  /content/YOLO_Dataset_Main/train/labels/001333.txt           \b\b\b\b 79%\b\b\b\b\b  OK \n",
            "Extracting  /content/YOLO_Dataset_Main/train/labels/001334.txt           \b\b\b\b 79%\b\b\b\b\b  OK \n",
            "Extracting  /content/YOLO_Dataset_Main/train/labels/001336.txt           \b\b\b\b 79%\b\b\b\b\b  OK \n",
            "Extracting  /content/YOLO_Dataset_Main/train/labels/001337.txt           \b\b\b\b 79%\b\b\b\b\b  OK \n",
            "Extracting  /content/YOLO_Dataset_Main/train/labels/001338.txt           \b\b\b\b 79%\b\b\b\b\b  OK \n",
            "Extracting  /content/YOLO_Dataset_Main/train/labels/001340.txt           \b\b\b\b 79%\b\b\b\b\b  OK \n",
            "Extracting  /content/YOLO_Dataset_Main/train/labels/001342.txt           \b\b\b\b 79%\b\b\b\b\b  OK \n",
            "Extracting  /content/YOLO_Dataset_Main/train/labels/001343.txt           \b\b\b\b 79%\b\b\b\b\b  OK \n",
            "Extracting  /content/YOLO_Dataset_Main/train/labels/001344.txt           \b\b\b\b 79%\b\b\b\b\b  OK \n",
            "Extracting  /content/YOLO_Dataset_Main/train/labels/001345.txt           \b\b\b\b 79%\b\b\b\b\b  OK \n",
            "Extracting  /content/YOLO_Dataset_Main/train/labels/001346.txt           \b\b\b\b 79%\b\b\b\b\b  OK \n",
            "Extracting  /content/YOLO_Dataset_Main/train/labels/001348.txt           \b\b\b\b 79%\b\b\b\b\b  OK \n",
            "Extracting  /content/YOLO_Dataset_Main/train/labels/001349.txt           \b\b\b\b 79%\b\b\b\b\b  OK \n",
            "Extracting  /content/YOLO_Dataset_Main/train/labels/001351.txt           \b\b\b\b 79%\b\b\b\b\b  OK \n",
            "Extracting  /content/YOLO_Dataset_Main/train/labels/001352.txt           \b\b\b\b 79%\b\b\b\b\b  OK \n",
            "Extracting  /content/YOLO_Dataset_Main/train/labels/001353.txt           \b\b\b\b 79%\b\b\b\b\b  OK \n",
            "Extracting  /content/YOLO_Dataset_Main/train/labels/001354.txt           \b\b\b\b 79%\b\b\b\b\b  OK \n",
            "Extracting  /content/YOLO_Dataset_Main/train/labels/001355.txt           \b\b\b\b 79%\b\b\b\b\b  OK \n",
            "Extracting  /content/YOLO_Dataset_Main/train/labels/001356.txt           \b\b\b\b 79%\b\b\b\b\b  OK \n",
            "Extracting  /content/YOLO_Dataset_Main/train/labels/001357.txt           \b\b\b\b 79%\b\b\b\b\b  OK \n",
            "Extracting  /content/YOLO_Dataset_Main/train/labels/001358.txt           \b\b\b\b 79%\b\b\b\b\b  OK \n",
            "Extracting  /content/YOLO_Dataset_Main/train/labels/001359.txt           \b\b\b\b 79%\b\b\b\b\b  OK \n",
            "Extracting  /content/YOLO_Dataset_Main/train/labels/001360.txt           \b\b\b\b 79%\b\b\b\b\b  OK \n",
            "Extracting  /content/YOLO_Dataset_Main/train/labels/001361.txt           \b\b\b\b 79%\b\b\b\b\b  OK \n",
            "Extracting  /content/YOLO_Dataset_Main/train/labels/001362.txt           \b\b\b\b 79%\b\b\b\b\b  OK \n",
            "Extracting  /content/YOLO_Dataset_Main/train/labels/001363.txt           \b\b\b\b 79%\b\b\b\b\b  OK \n",
            "Extracting  /content/YOLO_Dataset_Main/train/labels/001364.txt           \b\b\b\b 79%\b\b\b\b\b  OK \n",
            "Extracting  /content/YOLO_Dataset_Main/train/labels/001365.txt           \b\b\b\b 79%\b\b\b\b\b  OK \n",
            "Extracting  /content/YOLO_Dataset_Main/train/labels/001367.txt           \b\b\b\b 79%\b\b\b\b\b  OK \n",
            "Extracting  /content/YOLO_Dataset_Main/train/labels/001368.txt           \b\b\b\b 79%\b\b\b\b\b  OK \n",
            "Extracting  /content/YOLO_Dataset_Main/train/labels/001369.txt           \b\b\b\b 79%\b\b\b\b\b  OK \n",
            "Extracting  /content/YOLO_Dataset_Main/train/labels/001370.txt           \b\b\b\b 79%\b\b\b\b\b  OK \n",
            "Extracting  /content/YOLO_Dataset_Main/train/labels/001374.txt           \b\b\b\b 79%\b\b\b\b\b  OK \n",
            "Extracting  /content/YOLO_Dataset_Main/train/labels/001376.txt           \b\b\b\b 79%\b\b\b\b\b  OK \n",
            "Extracting  /content/YOLO_Dataset_Main/train/labels/001378.txt           \b\b\b\b 79%\b\b\b\b\b  OK \n",
            "Extracting  /content/YOLO_Dataset_Main/train/labels/001379.txt           \b\b\b\b 79%\b\b\b\b\b  OK \n",
            "Extracting  /content/YOLO_Dataset_Main/train/labels/001380.txt           \b\b\b\b 79%\b\b\b\b\b  OK \n",
            "Extracting  /content/YOLO_Dataset_Main/train/labels/001381.txt           \b\b\b\b 79%\b\b\b\b\b  OK \n",
            "Extracting  /content/YOLO_Dataset_Main/train/labels/001382.txt           \b\b\b\b 79%\b\b\b\b\b  OK \n",
            "Extracting  /content/YOLO_Dataset_Main/train/labels/001383.txt           \b\b\b\b 79%\b\b\b\b\b  OK \n",
            "Extracting  /content/YOLO_Dataset_Main/train/labels/001384.txt           \b\b\b\b 79%\b\b\b\b\b  OK \n",
            "Extracting  /content/YOLO_Dataset_Main/train/labels/001385.txt           \b\b\b\b 79%\b\b\b\b\b  OK \n",
            "Extracting  /content/YOLO_Dataset_Main/train/labels/001388.txt           \b\b\b\b 79%\b\b\b\b\b  OK \n",
            "Extracting  /content/YOLO_Dataset_Main/train/labels/001389.txt           \b\b\b\b 79%\b\b\b\b\b  OK \n",
            "Extracting  /content/YOLO_Dataset_Main/train/labels/001390.txt           \b\b\b\b 79%\b\b\b\b\b  OK \n",
            "Extracting  /content/YOLO_Dataset_Main/train/labels/001391.txt           \b\b\b\b 79%\b\b\b\b\b  OK \n",
            "Extracting  /content/YOLO_Dataset_Main/train/labels/001394.txt           \b\b\b\b 79%\b\b\b\b\b  OK \n",
            "Extracting  /content/YOLO_Dataset_Main/train/labels/001395.txt           \b\b\b\b 79%\b\b\b\b\b  OK \n",
            "Extracting  /content/YOLO_Dataset_Main/train/labels/001396.txt           \b\b\b\b 79%\b\b\b\b\b  OK \n",
            "Extracting  /content/YOLO_Dataset_Main/train/labels/001397.txt           \b\b\b\b 79%\b\b\b\b\b  OK \n",
            "Extracting  /content/YOLO_Dataset_Main/train/labels/001399.txt           \b\b\b\b 79%\b\b\b\b\b  OK \n",
            "Extracting  /content/YOLO_Dataset_Main/train/labels/001400.txt           \b\b\b\b 79%\b\b\b\b\b  OK \n",
            "Extracting  /content/YOLO_Dataset_Main/train/labels/001401.txt           \b\b\b\b 79%\b\b\b\b\b  OK \n",
            "Extracting  /content/YOLO_Dataset_Main/train/labels/001403.txt           \b\b\b\b 79%\b\b\b\b\b  OK \n",
            "Extracting  /content/YOLO_Dataset_Main/train/labels/001404.txt           \b\b\b\b 79%\b\b\b\b\b  OK \n",
            "Extracting  /content/YOLO_Dataset_Main/train/labels/001405.txt           \b\b\b\b 79%\b\b\b\b\b  OK \n",
            "Extracting  /content/YOLO_Dataset_Main/train/labels/001406.txt           \b\b\b\b 79%\b\b\b\b\b  OK \n",
            "Extracting  /content/YOLO_Dataset_Main/train/labels/001407.txt           \b\b\b\b 79%\b\b\b\b\b  OK \n",
            "Extracting  /content/YOLO_Dataset_Main/train/labels/001408.txt           \b\b\b\b 79%\b\b\b\b\b  OK \n",
            "Extracting  /content/YOLO_Dataset_Main/train/labels/001409.txt           \b\b\b\b 79%\b\b\b\b\b  OK \n",
            "Extracting  /content/YOLO_Dataset_Main/train/labels/001411.txt           \b\b\b\b 79%\b\b\b\b\b  OK \n",
            "Extracting  /content/YOLO_Dataset_Main/train/labels/001412.txt           \b\b\b\b 79%\b\b\b\b\b  OK \n",
            "Extracting  /content/YOLO_Dataset_Main/train/labels/001413.txt           \b\b\b\b 79%\b\b\b\b\b  OK \n",
            "Extracting  /content/YOLO_Dataset_Main/train/labels/001414.txt           \b\b\b\b 79%\b\b\b\b\b  OK \n",
            "Extracting  /content/YOLO_Dataset_Main/train/labels/001415.txt           \b\b\b\b 79%\b\b\b\b\b  OK \n",
            "Extracting  /content/YOLO_Dataset_Main/train/labels/001416.txt           \b\b\b\b 79%\b\b\b\b\b  OK \n",
            "Extracting  /content/YOLO_Dataset_Main/train/labels/001417.txt           \b\b\b\b 79%\b\b\b\b\b  OK \n",
            "Extracting  /content/YOLO_Dataset_Main/train/labels/001418.txt           \b\b\b\b 79%\b\b\b\b\b  OK \n",
            "Extracting  /content/YOLO_Dataset_Main/train/labels/001421.txt           \b\b\b\b 79%\b\b\b\b\b  OK \n",
            "Extracting  /content/YOLO_Dataset_Main/train/labels/001422.txt           \b\b\b\b 79%\b\b\b\b\b  OK \n",
            "Extracting  /content/YOLO_Dataset_Main/train/labels/001423.txt           \b\b\b\b 79%\b\b\b\b\b  OK \n",
            "Extracting  /content/YOLO_Dataset_Main/train/labels/001424.txt           \b\b\b\b 79%\b\b\b\b\b  OK \n",
            "Extracting  /content/YOLO_Dataset_Main/train/labels/001425.txt           \b\b\b\b 79%\b\b\b\b\b  OK \n",
            "Extracting  /content/YOLO_Dataset_Main/train/labels/001426.txt           \b\b\b\b 79%\b\b\b\b\b  OK \n",
            "Extracting  /content/YOLO_Dataset_Main/train/labels/001427.txt           \b\b\b\b 79%\b\b\b\b\b  OK \n",
            "Extracting  /content/YOLO_Dataset_Main/train/labels/001428.txt           \b\b\b\b 79%\b\b\b\b\b  OK \n",
            "Extracting  /content/YOLO_Dataset_Main/train/labels/001429.txt           \b\b\b\b 79%\b\b\b\b\b  OK \n",
            "Extracting  /content/YOLO_Dataset_Main/train/labels/001430.txt           \b\b\b\b 79%\b\b\b\b\b  OK \n",
            "Extracting  /content/YOLO_Dataset_Main/train/labels/001431.txt           \b\b\b\b 79%\b\b\b\b\b  OK \n",
            "Extracting  /content/YOLO_Dataset_Main/train/labels/001432.txt           \b\b\b\b 79%\b\b\b\b\b  OK \n",
            "Extracting  /content/YOLO_Dataset_Main/train/labels/001435.txt           \b\b\b\b 79%\b\b\b\b\b  OK \n",
            "Extracting  /content/YOLO_Dataset_Main/train/labels/001436.txt           \b\b\b\b 79%\b\b\b\b\b  OK \n",
            "Extracting  /content/YOLO_Dataset_Main/train/labels/001438.txt           \b\b\b\b 79%\b\b\b\b\b  OK \n",
            "Extracting  /content/YOLO_Dataset_Main/train/labels/001439.txt           \b\b\b\b 79%\b\b\b\b\b  OK \n",
            "Extracting  /content/YOLO_Dataset_Main/train/labels/001441.txt           \b\b\b\b 79%\b\b\b\b\b  OK \n",
            "Extracting  /content/YOLO_Dataset_Main/train/labels/001443.txt           \b\b\b\b 79%\b\b\b\b\b  OK \n",
            "Extracting  /content/YOLO_Dataset_Main/train/labels/001445.txt           \b\b\b\b 79%\b\b\b\b\b  OK \n",
            "Extracting  /content/YOLO_Dataset_Main/train/labels/001446.txt           \b\b\b\b 79%\b\b\b\b\b  OK \n",
            "Extracting  /content/YOLO_Dataset_Main/train/labels/001449.txt           \b\b\b\b 79%\b\b\b\b\b  OK \n",
            "Extracting  /content/YOLO_Dataset_Main/train/labels/001450.txt           \b\b\b\b 79%\b\b\b\b\b  OK \n",
            "Extracting  /content/YOLO_Dataset_Main/train/labels/001451.txt           \b\b\b\b 79%\b\b\b\b\b  OK \n",
            "Extracting  /content/YOLO_Dataset_Main/train/labels/001452.txt           \b\b\b\b 79%\b\b\b\b\b  OK \n",
            "Extracting  /content/YOLO_Dataset_Main/train/labels/001453.txt           \b\b\b\b 79%\b\b\b\b\b  OK \n",
            "Extracting  /content/YOLO_Dataset_Main/train/labels/001454.txt           \b\b\b\b 79%\b\b\b\b\b  OK \n",
            "Extracting  /content/YOLO_Dataset_Main/train/labels/001455.txt           \b\b\b\b 79%\b\b\b\b\b  OK \n",
            "Extracting  /content/YOLO_Dataset_Main/train/labels/001457.txt           \b\b\b\b 79%\b\b\b\b\b  OK \n",
            "Extracting  /content/YOLO_Dataset_Main/train/labels/001458.txt           \b\b\b\b 79%\b\b\b\b\b  OK \n",
            "Extracting  /content/YOLO_Dataset_Main/train/labels/001459.txt           \b\b\b\b 79%\b\b\b\b\b  OK \n",
            "Extracting  /content/YOLO_Dataset_Main/train/labels/001460.txt           \b\b\b\b 79%\b\b\b\b\b  OK \n",
            "Extracting  /content/YOLO_Dataset_Main/train/labels/001461.txt           \b\b\b\b 79%\b\b\b\b\b  OK \n",
            "Extracting  /content/YOLO_Dataset_Main/train/labels/001462.txt           \b\b\b\b 79%\b\b\b\b\b  OK \n",
            "Extracting  /content/YOLO_Dataset_Main/train/labels/001463.txt           \b\b\b\b 79%\b\b\b\b\b  OK \n",
            "Extracting  /content/YOLO_Dataset_Main/train/labels/001464.txt           \b\b\b\b 79%\b\b\b\b\b  OK \n",
            "Extracting  /content/YOLO_Dataset_Main/train/labels/001465.txt           \b\b\b\b 79%\b\b\b\b\b  OK \n",
            "Extracting  /content/YOLO_Dataset_Main/train/labels/001466.txt           \b\b\b\b 79%\b\b\b\b\b  OK \n",
            "Extracting  /content/YOLO_Dataset_Main/train/labels/001469.txt           \b\b\b\b 79%\b\b\b\b\b  OK \n",
            "Extracting  /content/YOLO_Dataset_Main/train/labels/001470.txt           \b\b\b\b 79%\b\b\b\b\b  OK \n",
            "Extracting  /content/YOLO_Dataset_Main/train/labels/001471.txt           \b\b\b\b 79%\b\b\b\b\b  OK \n",
            "Extracting  /content/YOLO_Dataset_Main/train/labels/001472.txt           \b\b\b\b 79%\b\b\b\b\b  OK \n",
            "Extracting  /content/YOLO_Dataset_Main/train/labels/001473.txt           \b\b\b\b 79%\b\b\b\b\b  OK \n",
            "Extracting  /content/YOLO_Dataset_Main/train/labels/001474.txt           \b\b\b\b 79%\b\b\b\b\b  OK \n",
            "Extracting  /content/YOLO_Dataset_Main/train/labels/001475.txt           \b\b\b\b 79%\b\b\b\b\b  OK \n",
            "Extracting  /content/YOLO_Dataset_Main/train/labels/001476.txt           \b\b\b\b 79%\b\b\b\b\b  OK \n",
            "Extracting  /content/YOLO_Dataset_Main/train/labels/001477.txt           \b\b\b\b 79%\b\b\b\b\b  OK \n",
            "Extracting  /content/YOLO_Dataset_Main/train/labels/001478.txt           \b\b\b\b 79%\b\b\b\b\b  OK \n",
            "Extracting  /content/YOLO_Dataset_Main/train/labels/001479.txt           \b\b\b\b 79%\b\b\b\b\b  OK \n",
            "Extracting  /content/YOLO_Dataset_Main/train/labels/001481.txt           \b\b\b\b 79%\b\b\b\b\b  OK \n",
            "Extracting  /content/YOLO_Dataset_Main/train/labels/001483.txt           \b\b\b\b 79%\b\b\b\b\b  OK \n",
            "Extracting  /content/YOLO_Dataset_Main/train/labels/001484.txt           \b\b\b\b 79%\b\b\b\b\b  OK \n",
            "Extracting  /content/YOLO_Dataset_Main/train/labels/001487.txt           \b\b\b\b 79%\b\b\b\b\b  OK \n",
            "Extracting  /content/YOLO_Dataset_Main/train/labels/001488.txt           \b\b\b\b 79%\b\b\b\b\b  OK \n",
            "Extracting  /content/YOLO_Dataset_Main/train/labels/001489.txt           \b\b\b\b 79%\b\b\b\b\b  OK \n",
            "Extracting  /content/YOLO_Dataset_Main/train/labels/001490.txt           \b\b\b\b 79%\b\b\b\b\b  OK \n",
            "Extracting  /content/YOLO_Dataset_Main/train/labels/001491.txt           \b\b\b\b 79%\b\b\b\b\b  OK \n",
            "Extracting  /content/YOLO_Dataset_Main/train/labels/001492.txt           \b\b\b\b 79%\b\b\b\b\b  OK \n",
            "Extracting  /content/YOLO_Dataset_Main/train/labels/001493.txt           \b\b\b\b 79%\b\b\b\b\b  OK \n",
            "Extracting  /content/YOLO_Dataset_Main/train/labels/001494.txt           \b\b\b\b 79%\b\b\b\b\b  OK \n",
            "Extracting  /content/YOLO_Dataset_Main/train/labels/001495.txt           \b\b\b\b 79%\b\b\b\b\b  OK \n",
            "Extracting  /content/YOLO_Dataset_Main/train/labels/001496.txt           \b\b\b\b 79%\b\b\b\b\b  OK \n",
            "Extracting  /content/YOLO_Dataset_Main/train/labels/001497.txt           \b\b\b\b 79%\b\b\b\b\b  OK \n",
            "Extracting  /content/YOLO_Dataset_Main/train/labels/001500.txt           \b\b\b\b 79%\b\b\b\b\b  OK \n",
            "Extracting  /content/YOLO_Dataset_Main/train/labels/001502.txt           \b\b\b\b 79%\b\b\b\b\b  OK \n",
            "Extracting  /content/YOLO_Dataset_Main/train/labels/001504.txt           \b\b\b\b 79%\b\b\b\b\b  OK \n",
            "Extracting  /content/YOLO_Dataset_Main/train/labels/001505.txt           \b\b\b\b 79%\b\b\b\b\b  OK \n",
            "Extracting  /content/YOLO_Dataset_Main/train/labels/001506.txt           \b\b\b\b 79%\b\b\b\b\b  OK \n",
            "Extracting  /content/YOLO_Dataset_Main/train/labels/001507.txt           \b\b\b\b 79%\b\b\b\b\b  OK \n",
            "Extracting  /content/YOLO_Dataset_Main/train/labels/001508.txt           \b\b\b\b 79%\b\b\b\b\b  OK \n",
            "Extracting  /content/YOLO_Dataset_Main/train/labels/001510.txt           \b\b\b\b 79%\b\b\b\b\b  OK \n",
            "Extracting  /content/YOLO_Dataset_Main/train/labels/001511.txt           \b\b\b\b 79%\b\b\b\b\b  OK \n",
            "Extracting  /content/YOLO_Dataset_Main/train/labels/001513.txt           \b\b\b\b 79%\b\b\b\b\b  OK \n",
            "Extracting  /content/YOLO_Dataset_Main/train/labels/001515.txt           \b\b\b\b 79%\b\b\b\b\b  OK \n",
            "Extracting  /content/YOLO_Dataset_Main/train/labels/001517.txt           \b\b\b\b 79%\b\b\b\b\b  OK \n",
            "Extracting  /content/YOLO_Dataset_Main/train/labels/001519.txt           \b\b\b\b 79%\b\b\b\b\b  OK \n",
            "Extracting  /content/YOLO_Dataset_Main/train/labels/001520.txt           \b\b\b\b 79%\b\b\b\b\b  OK \n",
            "Extracting  /content/YOLO_Dataset_Main/train/labels/001521.txt           \b\b\b\b 79%\b\b\b\b\b  OK \n",
            "Extracting  /content/YOLO_Dataset_Main/train/labels/001522.txt           \b\b\b\b 79%\b\b\b\b\b  OK \n",
            "Extracting  /content/YOLO_Dataset_Main/train/labels/001523.txt           \b\b\b\b 79%\b\b\b\b\b  OK \n",
            "Extracting  /content/YOLO_Dataset_Main/train/labels/001524.txt           \b\b\b\b 79%\b\b\b\b\b  OK \n",
            "Extracting  /content/YOLO_Dataset_Main/train/labels/001525.txt           \b\b\b\b 79%\b\b\b\b\b  OK \n",
            "Extracting  /content/YOLO_Dataset_Main/train/labels/001527.txt           \b\b\b\b 79%\b\b\b\b\b  OK \n",
            "Extracting  /content/YOLO_Dataset_Main/train/labels/001529.txt           \b\b\b\b 79%\b\b\b\b\b  OK \n",
            "Extracting  /content/YOLO_Dataset_Main/train/labels/001530.txt           \b\b\b\b 79%\b\b\b\b\b  OK \n",
            "Extracting  /content/YOLO_Dataset_Main/train/labels/001531.txt           \b\b\b\b 79%\b\b\b\b\b  OK \n",
            "Extracting  /content/YOLO_Dataset_Main/train/labels/001532.txt           \b\b\b\b 79%\b\b\b\b\b  OK \n",
            "Extracting  /content/YOLO_Dataset_Main/train/labels/001533.txt           \b\b\b\b 79%\b\b\b\b\b  OK \n",
            "Extracting  /content/YOLO_Dataset_Main/train/labels/001534.txt           \b\b\b\b 79%\b\b\b\b\b  OK \n",
            "Extracting  /content/YOLO_Dataset_Main/train/labels/001535.txt           \b\b\b\b 79%\b\b\b\b\b  OK \n",
            "Extracting  /content/YOLO_Dataset_Main/train/labels/001536.txt           \b\b\b\b 79%\b\b\b\b\b  OK \n",
            "Extracting  /content/YOLO_Dataset_Main/train/labels/001537.txt           \b\b\b\b 79%\b\b\b\b\b  OK \n",
            "Extracting  /content/YOLO_Dataset_Main/train/labels/001538.txt           \b\b\b\b 79%\b\b\b\b\b  OK \n",
            "Extracting  /content/YOLO_Dataset_Main/train/labels/001540.txt           \b\b\b\b 79%\b\b\b\b\b  OK \n",
            "Extracting  /content/YOLO_Dataset_Main/train/labels/001541.txt           \b\b\b\b 79%\b\b\b\b\b  OK \n",
            "Extracting  /content/YOLO_Dataset_Main/train/labels/001542.txt           \b\b\b\b 79%\b\b\b\b\b  OK \n",
            "Extracting  /content/YOLO_Dataset_Main/train/labels/001543.txt           \b\b\b\b 79%\b\b\b\b\b  OK \n",
            "Extracting  /content/YOLO_Dataset_Main/train/labels/001545.txt           \b\b\b\b 79%\b\b\b\b\b  OK \n",
            "Extracting  /content/YOLO_Dataset_Main/train/labels/001547.txt           \b\b\b\b 79%\b\b\b\b\b  OK \n",
            "Extracting  /content/YOLO_Dataset_Main/train/labels/001548.txt           \b\b\b\b 79%\b\b\b\b\b  OK \n",
            "Extracting  /content/YOLO_Dataset_Main/train/labels/001549.txt           \b\b\b\b 79%\b\b\b\b\b  OK \n",
            "Extracting  /content/YOLO_Dataset_Main/train/labels/001550.txt           \b\b\b\b 79%\b\b\b\b\b  OK \n",
            "Extracting  /content/YOLO_Dataset_Main/train/labels/001551.txt           \b\b\b\b 79%\b\b\b\b\b  OK \n",
            "Extracting  /content/YOLO_Dataset_Main/train/labels/001552.txt           \b\b\b\b 79%\b\b\b\b\b  OK \n",
            "Extracting  /content/YOLO_Dataset_Main/train/labels/001553.txt           \b\b\b\b 79%\b\b\b\b\b  OK \n",
            "Extracting  /content/YOLO_Dataset_Main/train/labels/001554.txt           \b\b\b\b 79%\b\b\b\b\b  OK \n",
            "Extracting  /content/YOLO_Dataset_Main/train/labels/001555.txt           \b\b\b\b 79%\b\b\b\b\b  OK \n",
            "Extracting  /content/YOLO_Dataset_Main/train/labels/001556.txt           \b\b\b\b 79%\b\b\b\b\b  OK \n",
            "Extracting  /content/YOLO_Dataset_Main/train/labels/001557.txt           \b\b\b\b 79%\b\b\b\b\b  OK \n",
            "Extracting  /content/YOLO_Dataset_Main/train/labels/001558.txt           \b\b\b\b 79%\b\b\b\b\b  OK \n",
            "Extracting  /content/YOLO_Dataset_Main/train/labels/001559.txt           \b\b\b\b 79%\b\b\b\b\b  OK \n",
            "Extracting  /content/YOLO_Dataset_Main/train/labels/001560.txt           \b\b\b\b 79%\b\b\b\b\b  OK \n",
            "Extracting  /content/YOLO_Dataset_Main/train/labels/001561.txt           \b\b\b\b 79%\b\b\b\b\b  OK \n",
            "Extracting  /content/YOLO_Dataset_Main/train/labels/001562.txt           \b\b\b\b 79%\b\b\b\b\b  OK \n",
            "Extracting  /content/YOLO_Dataset_Main/train/labels/001563.txt           \b\b\b\b 79%\b\b\b\b\b  OK \n",
            "Extracting  /content/YOLO_Dataset_Main/train/labels/001564.txt           \b\b\b\b 79%\b\b\b\b\b  OK \n",
            "Extracting  /content/YOLO_Dataset_Main/train/labels/001565.txt           \b\b\b\b 79%\b\b\b\b\b  OK \n",
            "Extracting  /content/YOLO_Dataset_Main/train/labels/001566.txt           \b\b\b\b 79%\b\b\b\b\b  OK \n",
            "Extracting  /content/YOLO_Dataset_Main/train/labels/001567.txt           \b\b\b\b 79%\b\b\b\b\b  OK \n",
            "Extracting  /content/YOLO_Dataset_Main/train/labels/001568.txt           \b\b\b\b 79%\b\b\b\b\b  OK \n",
            "Extracting  /content/YOLO_Dataset_Main/train/labels/001569.txt           \b\b\b\b 79%\b\b\b\b\b  OK \n",
            "Extracting  /content/YOLO_Dataset_Main/train/labels/001570.txt           \b\b\b\b 79%\b\b\b\b\b  OK \n",
            "Extracting  /content/YOLO_Dataset_Main/train/labels/001571.txt           \b\b\b\b 79%\b\b\b\b\b  OK \n",
            "Extracting  /content/YOLO_Dataset_Main/train/labels/001572.txt           \b\b\b\b 79%\b\b\b\b\b  OK \n",
            "Extracting  /content/YOLO_Dataset_Main/train/labels/001573.txt           \b\b\b\b 79%\b\b\b\b\b  OK \n",
            "Extracting  /content/YOLO_Dataset_Main/train/labels/001574.txt           \b\b\b\b 79%\b\b\b\b\b  OK \n",
            "Extracting  /content/YOLO_Dataset_Main/train/labels/001575.txt           \b\b\b\b 79%\b\b\b\b\b  OK \n",
            "Extracting  /content/YOLO_Dataset_Main/train/labels/001576.txt           \b\b\b\b 79%\b\b\b\b\b  OK \n",
            "Extracting  /content/YOLO_Dataset_Main/train/labels/001577.txt           \b\b\b\b 79%\b\b\b\b\b  OK \n",
            "Extracting  /content/YOLO_Dataset_Main/train/labels/001580.txt           \b\b\b\b 79%\b\b\b\b\b  OK \n",
            "Extracting  /content/YOLO_Dataset_Main/train/labels/001581.txt           \b\b\b\b 79%\b\b\b\b\b  OK \n",
            "Extracting  /content/YOLO_Dataset_Main/train/labels/001582.txt           \b\b\b\b 79%\b\b\b\b\b  OK \n",
            "Extracting  /content/YOLO_Dataset_Main/train/labels/001583.txt           \b\b\b\b 79%\b\b\b\b\b  OK \n",
            "Extracting  /content/YOLO_Dataset_Main/train/labels/001584.txt           \b\b\b\b 79%\b\b\b\b\b  OK \n",
            "Extracting  /content/YOLO_Dataset_Main/train/labels/001585.txt           \b\b\b\b 79%\b\b\b\b\b  OK \n",
            "Extracting  /content/YOLO_Dataset_Main/train/labels/001586.txt           \b\b\b\b 79%\b\b\b\b\b  OK \n",
            "Extracting  /content/YOLO_Dataset_Main/train/labels/001587.txt           \b\b\b\b 79%\b\b\b\b\b  OK \n",
            "Extracting  /content/YOLO_Dataset_Main/train/labels/001588.txt           \b\b\b\b 79%\b\b\b\b\b  OK \n",
            "Extracting  /content/YOLO_Dataset_Main/train/labels/001590.txt           \b\b\b\b 79%\b\b\b\b\b  OK \n",
            "Extracting  /content/YOLO_Dataset_Main/train/labels/001593.txt           \b\b\b\b 79%\b\b\b\b\b  OK \n",
            "Extracting  /content/YOLO_Dataset_Main/train/labels/001594.txt           \b\b\b\b 79%\b\b\b\b\b  OK \n",
            "Extracting  /content/YOLO_Dataset_Main/train/labels/001595.txt           \b\b\b\b 79%\b\b\b\b\b  OK \n",
            "Extracting  /content/YOLO_Dataset_Main/train/labels/001596.txt           \b\b\b\b 79%\b\b\b\b\b  OK \n",
            "Extracting  /content/YOLO_Dataset_Main/train/labels/001597.txt           \b\b\b\b 79%\b\b\b\b\b  OK \n",
            "Extracting  /content/YOLO_Dataset_Main/train/labels/001598.txt           \b\b\b\b 79%\b\b\b\b\b  OK \n",
            "Extracting  /content/YOLO_Dataset_Main/train/labels/001599.txt           \b\b\b\b 79%\b\b\b\b\b  OK \n",
            "Extracting  /content/YOLO_Dataset_Main/train/labels/001600.txt           \b\b\b\b 79%\b\b\b\b\b  OK \n",
            "Extracting  /content/YOLO_Dataset_Main/train/labels/001601.txt           \b\b\b\b 79%\b\b\b\b\b  OK \n",
            "Extracting  /content/YOLO_Dataset_Main/train/labels/001602.txt           \b\b\b\b 79%\b\b\b\b\b  OK \n",
            "Extracting  /content/YOLO_Dataset_Main/train/labels/001603.txt           \b\b\b\b 79%\b\b\b\b\b  OK \n",
            "Extracting  /content/YOLO_Dataset_Main/train/labels/001604.txt           \b\b\b\b 79%\b\b\b\b\b  OK \n",
            "Extracting  /content/YOLO_Dataset_Main/train/labels/001605.txt           \b\b\b\b 79%\b\b\b\b\b  OK \n",
            "Extracting  /content/YOLO_Dataset_Main/train/labels/001606.txt           \b\b\b\b 79%\b\b\b\b\b  OK \n",
            "Extracting  /content/YOLO_Dataset_Main/train/labels/001607.txt           \b\b\b\b 79%\b\b\b\b\b  OK \n",
            "Extracting  /content/YOLO_Dataset_Main/train/labels/001609.txt           \b\b\b\b 79%\b\b\b\b\b  OK \n",
            "Extracting  /content/YOLO_Dataset_Main/train/labels/001610.txt           \b\b\b\b 79%\b\b\b\b\b  OK \n",
            "Extracting  /content/YOLO_Dataset_Main/train/labels/001611.txt           \b\b\b\b 79%\b\b\b\b\b  OK \n",
            "Extracting  /content/YOLO_Dataset_Main/train/labels/001612.txt           \b\b\b\b 79%\b\b\b\b\b  OK \n",
            "Extracting  /content/YOLO_Dataset_Main/train/labels/001613.txt           \b\b\b\b 79%\b\b\b\b\b  OK \n",
            "Extracting  /content/YOLO_Dataset_Main/train/labels/001614.txt           \b\b\b\b 79%\b\b\b\b\b  OK \n",
            "Extracting  /content/YOLO_Dataset_Main/train/labels/001615.txt           \b\b\b\b 79%\b\b\b\b\b  OK \n",
            "Extracting  /content/YOLO_Dataset_Main/train/labels/001617.txt           \b\b\b\b 79%\b\b\b\b\b  OK \n",
            "Extracting  /content/YOLO_Dataset_Main/train/labels/001618.txt           \b\b\b\b 79%\b\b\b\b\b  OK \n",
            "Extracting  /content/YOLO_Dataset_Main/train/labels/001619.txt           \b\b\b\b 79%\b\b\b\b\b  OK \n",
            "Extracting  /content/YOLO_Dataset_Main/train/labels/001620.txt           \b\b\b\b 79%\b\b\b\b\b  OK \n",
            "Extracting  /content/YOLO_Dataset_Main/train/labels/001622.txt           \b\b\b\b 79%\b\b\b\b\b  OK \n",
            "Extracting  /content/YOLO_Dataset_Main/train/labels/001623.txt           \b\b\b\b 79%\b\b\b\b\b  OK \n",
            "Extracting  /content/YOLO_Dataset_Main/train/labels/001624.txt           \b\b\b\b 79%\b\b\b\b\b  OK \n",
            "Extracting  /content/YOLO_Dataset_Main/train/labels/001625.txt           \b\b\b\b 79%\b\b\b\b\b  OK \n",
            "Extracting  /content/YOLO_Dataset_Main/train/labels/001626.txt           \b\b\b\b 79%\b\b\b\b\b  OK \n",
            "Extracting  /content/YOLO_Dataset_Main/train/labels/001627.txt           \b\b\b\b 79%\b\b\b\b\b  OK \n",
            "Extracting  /content/YOLO_Dataset_Main/train/labels/001629.txt           \b\b\b\b 79%\b\b\b\b\b  OK \n",
            "Extracting  /content/YOLO_Dataset_Main/train/labels/001630.txt           \b\b\b\b 79%\b\b\b\b\b  OK \n",
            "Extracting  /content/YOLO_Dataset_Main/train/labels/001633.txt           \b\b\b\b 79%\b\b\b\b\b  OK \n",
            "Extracting  /content/YOLO_Dataset_Main/train/labels/001636.txt           \b\b\b\b 79%\b\b\b\b\b  OK \n",
            "Extracting  /content/YOLO_Dataset_Main/train/labels/001637.txt           \b\b\b\b 79%\b\b\b\b\b  OK \n",
            "Extracting  /content/YOLO_Dataset_Main/train/labels/001638.txt           \b\b\b\b 79%\b\b\b\b\b  OK \n",
            "Extracting  /content/YOLO_Dataset_Main/train/labels/001639.txt           \b\b\b\b 79%\b\b\b\b\b  OK \n",
            "Extracting  /content/YOLO_Dataset_Main/train/labels/001640.txt           \b\b\b\b 79%\b\b\b\b\b  OK \n",
            "Extracting  /content/YOLO_Dataset_Main/train/labels/001641.txt           \b\b\b\b 79%\b\b\b\b\b  OK \n",
            "Extracting  /content/YOLO_Dataset_Main/train/labels/001642.txt           \b\b\b\b 79%\b\b\b\b\b  OK \n",
            "Extracting  /content/YOLO_Dataset_Main/train/labels/001643.txt           \b\b\b\b 79%\b\b\b\b\b  OK \n",
            "Extracting  /content/YOLO_Dataset_Main/train/labels/001644.txt           \b\b\b\b 79%\b\b\b\b\b  OK \n",
            "Extracting  /content/YOLO_Dataset_Main/train/labels/001645.txt           \b\b\b\b 79%\b\b\b\b\b  OK \n",
            "Extracting  /content/YOLO_Dataset_Main/train/labels/001647.txt           \b\b\b\b 79%\b\b\b\b\b  OK \n",
            "Extracting  /content/YOLO_Dataset_Main/train/labels/001648.txt           \b\b\b\b 79%\b\b\b\b\b  OK \n",
            "Extracting  /content/YOLO_Dataset_Main/train/labels/001649.txt           \b\b\b\b 79%\b\b\b\b\b  OK \n",
            "Extracting  /content/YOLO_Dataset_Main/train/labels/001650.txt           \b\b\b\b 79%\b\b\b\b\b  OK \n",
            "Extracting  /content/YOLO_Dataset_Main/train/labels/001651.txt           \b\b\b\b 79%\b\b\b\b\b  OK \n",
            "Extracting  /content/YOLO_Dataset_Main/train/labels/001652.txt           \b\b\b\b 79%\b\b\b\b\b  OK \n",
            "Extracting  /content/YOLO_Dataset_Main/train/labels/001653.txt           \b\b\b\b 79%\b\b\b\b\b  OK \n",
            "Extracting  /content/YOLO_Dataset_Main/train/labels/001654.txt           \b\b\b\b 79%\b\b\b\b\b  OK \n",
            "Extracting  /content/YOLO_Dataset_Main/train/labels/001655.txt           \b\b\b\b 79%\b\b\b\b\b  OK \n",
            "Extracting  /content/YOLO_Dataset_Main/train/labels/001657.txt           \b\b\b\b 79%\b\b\b\b\b  OK \n",
            "Extracting  /content/YOLO_Dataset_Main/train/labels/001658.txt           \b\b\b\b 79%\b\b\b\b\b  OK \n",
            "Extracting  /content/YOLO_Dataset_Main/train/labels/001659.txt           \b\b\b\b 79%\b\b\b\b\b  OK \n",
            "Extracting  /content/YOLO_Dataset_Main/train/labels/001660.txt           \b\b\b\b 79%\b\b\b\b\b  OK \n",
            "Extracting  /content/YOLO_Dataset_Main/train/labels/001661.txt           \b\b\b\b 79%\b\b\b\b\b  OK \n",
            "Extracting  /content/YOLO_Dataset_Main/train/labels/001662.txt           \b\b\b\b 79%\b\b\b\b\b  OK \n",
            "Extracting  /content/YOLO_Dataset_Main/train/labels/001664.txt           \b\b\b\b 79%\b\b\b\b\b  OK \n",
            "Extracting  /content/YOLO_Dataset_Main/train/labels/001665.txt           \b\b\b\b 79%\b\b\b\b\b  OK \n",
            "Extracting  /content/YOLO_Dataset_Main/train/labels/001666.txt           \b\b\b\b 79%\b\b\b\b\b  OK \n",
            "Extracting  /content/YOLO_Dataset_Main/train/labels/001667.txt           \b\b\b\b 79%\b\b\b\b\b  OK \n",
            "Extracting  /content/YOLO_Dataset_Main/train/labels/001668.txt           \b\b\b\b 79%\b\b\b\b\b  OK \n",
            "Extracting  /content/YOLO_Dataset_Main/train/labels/001669.txt           \b\b\b\b 79%\b\b\b\b\b  OK \n",
            "Extracting  /content/YOLO_Dataset_Main/train/labels/001671.txt           \b\b\b\b 79%\b\b\b\b\b  OK \n",
            "Extracting  /content/YOLO_Dataset_Main/train/labels/001672.txt           \b\b\b\b 79%\b\b\b\b\b  OK \n",
            "Extracting  /content/YOLO_Dataset_Main/train/labels/001673.txt           \b\b\b\b 79%\b\b\b\b\b  OK \n",
            "Extracting  /content/YOLO_Dataset_Main/train/labels/001676.txt           \b\b\b\b 79%\b\b\b\b\b  OK \n",
            "Extracting  /content/YOLO_Dataset_Main/train/labels/001677.txt           \b\b\b\b 79%\b\b\b\b\b  OK \n",
            "Extracting  /content/YOLO_Dataset_Main/train/labels/001678.txt           \b\b\b\b 79%\b\b\b\b\b  OK \n",
            "Extracting  /content/YOLO_Dataset_Main/train/labels/001679.txt           \b\b\b\b 79%\b\b\b\b\b  OK \n",
            "Extracting  /content/YOLO_Dataset_Main/train/labels/001681.txt           \b\b\b\b 79%\b\b\b\b\b  OK \n",
            "Extracting  /content/YOLO_Dataset_Main/train/labels/001682.txt           \b\b\b\b 79%\b\b\b\b\b  OK \n",
            "Extracting  /content/YOLO_Dataset_Main/train/labels/001683.txt           \b\b\b\b 79%\b\b\b\b\b  OK \n",
            "Extracting  /content/YOLO_Dataset_Main/train/labels/001684.txt           \b\b\b\b 79%\b\b\b\b\b  OK \n",
            "Extracting  /content/YOLO_Dataset_Main/train/labels/001687.txt           \b\b\b\b 79%\b\b\b\b\b  OK \n",
            "Extracting  /content/YOLO_Dataset_Main/train/labels/001688.txt           \b\b\b\b 79%\b\b\b\b\b  OK \n",
            "Extracting  /content/YOLO_Dataset_Main/train/labels/001689.txt           \b\b\b\b 79%\b\b\b\b\b  OK \n",
            "Extracting  /content/YOLO_Dataset_Main/train/labels/001690.txt           \b\b\b\b 79%\b\b\b\b\b  OK \n",
            "Extracting  /content/YOLO_Dataset_Main/train/labels/001691.txt           \b\b\b\b 79%\b\b\b\b\b  OK \n",
            "Extracting  /content/YOLO_Dataset_Main/train/labels/001692.txt           \b\b\b\b 79%\b\b\b\b\b  OK \n",
            "Extracting  /content/YOLO_Dataset_Main/train/labels/001693.txt           \b\b\b\b 79%\b\b\b\b\b  OK \n",
            "Extracting  /content/YOLO_Dataset_Main/train/labels/001694.txt           \b\b\b\b 79%\b\b\b\b\b  OK \n",
            "Extracting  /content/YOLO_Dataset_Main/train/labels/001696.txt           \b\b\b\b 79%\b\b\b\b\b  OK \n",
            "Extracting  /content/YOLO_Dataset_Main/train/labels/001698.txt           \b\b\b\b 79%\b\b\b\b\b  OK \n",
            "Extracting  /content/YOLO_Dataset_Main/train/labels/001699.txt           \b\b\b\b 79%\b\b\b\b\b  OK \n",
            "Extracting  /content/YOLO_Dataset_Main/train/labels/001701.txt           \b\b\b\b 79%\b\b\b\b\b  OK \n",
            "Extracting  /content/YOLO_Dataset_Main/train/labels/001703.txt           \b\b\b\b 79%\b\b\b\b\b  OK \n",
            "Extracting  /content/YOLO_Dataset_Main/train/labels/001704.txt           \b\b\b\b 79%\b\b\b\b\b  OK \n",
            "Extracting  /content/YOLO_Dataset_Main/train/labels/001706.txt           \b\b\b\b 79%\b\b\b\b\b  OK \n",
            "Extracting  /content/YOLO_Dataset_Main/train/labels/001707.txt           \b\b\b\b 79%\b\b\b\b\b  OK \n",
            "Extracting  /content/YOLO_Dataset_Main/train/labels/001708.txt           \b\b\b\b 79%\b\b\b\b\b  OK \n",
            "Extracting  /content/YOLO_Dataset_Main/train/labels/001709.txt           \b\b\b\b 79%\b\b\b\b\b  OK \n",
            "Extracting  /content/YOLO_Dataset_Main/train/labels/001711.txt           \b\b\b\b 79%\b\b\b\b\b  OK \n",
            "Extracting  /content/YOLO_Dataset_Main/train/labels/001713.txt           \b\b\b\b 79%\b\b\b\b\b  OK \n",
            "Extracting  /content/YOLO_Dataset_Main/train/labels/001714.txt           \b\b\b\b 79%\b\b\b\b\b  OK \n",
            "Extracting  /content/YOLO_Dataset_Main/train/labels/001718.txt           \b\b\b\b 79%\b\b\b\b\b  OK \n",
            "Extracting  /content/YOLO_Dataset_Main/train/labels/001720.txt           \b\b\b\b 79%\b\b\b\b\b  OK \n",
            "Extracting  /content/YOLO_Dataset_Main/train/labels/001722.txt           \b\b\b\b 79%\b\b\b\b\b  OK \n",
            "Extracting  /content/YOLO_Dataset_Main/train/labels/001723.txt           \b\b\b\b 79%\b\b\b\b\b  OK \n",
            "Extracting  /content/YOLO_Dataset_Main/train/labels/001724.txt           \b\b\b\b 79%\b\b\b\b\b  OK \n",
            "Extracting  /content/YOLO_Dataset_Main/train/labels/001726.txt           \b\b\b\b 79%\b\b\b\b\b  OK \n",
            "Extracting  /content/YOLO_Dataset_Main/train/labels/001727.txt           \b\b\b\b 79%\b\b\b\b\b  OK \n",
            "Extracting  /content/YOLO_Dataset_Main/train/labels/001729.txt           \b\b\b\b 79%\b\b\b\b\b  OK \n",
            "Extracting  /content/YOLO_Dataset_Main/train/labels/001730.txt           \b\b\b\b 79%\b\b\b\b\b  OK \n",
            "Extracting  /content/YOLO_Dataset_Main/train/labels/001731.txt           \b\b\b\b 79%\b\b\b\b\b  OK \n",
            "Extracting  /content/YOLO_Dataset_Main/train/labels/001732.txt           \b\b\b\b 79%\b\b\b\b\b  OK \n",
            "Extracting  /content/YOLO_Dataset_Main/train/labels/001734.txt           \b\b\b\b 79%\b\b\b\b\b  OK \n",
            "Extracting  /content/YOLO_Dataset_Main/train/labels/001735.txt           \b\b\b\b 79%\b\b\b\b\b  OK \n",
            "Extracting  /content/YOLO_Dataset_Main/train/labels/001736.txt           \b\b\b\b 79%\b\b\b\b\b  OK \n",
            "Extracting  /content/YOLO_Dataset_Main/train/labels/001737.txt           \b\b\b\b 79%\b\b\b\b\b  OK \n",
            "Extracting  /content/YOLO_Dataset_Main/train/labels/001738.txt           \b\b\b\b 79%\b\b\b\b\b  OK \n",
            "Extracting  /content/YOLO_Dataset_Main/train/labels/001740.txt           \b\b\b\b 79%\b\b\b\b\b  OK \n",
            "Extracting  /content/YOLO_Dataset_Main/train/labels/001742.txt           \b\b\b\b 79%\b\b\b\b\b  OK \n",
            "Extracting  /content/YOLO_Dataset_Main/train/labels/001743.txt           \b\b\b\b 79%\b\b\b\b\b  OK \n",
            "Extracting  /content/YOLO_Dataset_Main/train/labels/001744.txt           \b\b\b\b 79%\b\b\b\b\b  OK \n",
            "Extracting  /content/YOLO_Dataset_Main/train/labels/001745.txt           \b\b\b\b 79%\b\b\b\b\b  OK \n",
            "Extracting  /content/YOLO_Dataset_Main/train/labels/001746.txt           \b\b\b\b 79%\b\b\b\b\b  OK \n",
            "Extracting  /content/YOLO_Dataset_Main/train/labels/001747.txt           \b\b\b\b 79%\b\b\b\b\b  OK \n",
            "Extracting  /content/YOLO_Dataset_Main/train/labels/001748.txt           \b\b\b\b 79%\b\b\b\b\b  OK \n",
            "Extracting  /content/YOLO_Dataset_Main/train/labels/001749.txt           \b\b\b\b 79%\b\b\b\b\b  OK \n",
            "Extracting  /content/YOLO_Dataset_Main/train/labels/001750.txt           \b\b\b\b 79%\b\b\b\b\b  OK \n",
            "Extracting  /content/YOLO_Dataset_Main/train/labels/001752.txt           \b\b\b\b 79%\b\b\b\b\b  OK \n",
            "Extracting  /content/YOLO_Dataset_Main/train/labels/001753.txt           \b\b\b\b 79%\b\b\b\b\b  OK \n",
            "Extracting  /content/YOLO_Dataset_Main/train/labels/001754.txt           \b\b\b\b 79%\b\b\b\b\b  OK \n",
            "Extracting  /content/YOLO_Dataset_Main/train/labels/001755.txt           \b\b\b\b 79%\b\b\b\b\b  OK \n",
            "Extracting  /content/YOLO_Dataset_Main/train/labels/001757.txt           \b\b\b\b 79%\b\b\b\b\b  OK \n",
            "Extracting  /content/YOLO_Dataset_Main/train/labels/001759.txt           \b\b\b\b 79%\b\b\b\b\b  OK \n",
            "Extracting  /content/YOLO_Dataset_Main/train/labels/001760.txt           \b\b\b\b 79%\b\b\b\b\b  OK \n",
            "Extracting  /content/YOLO_Dataset_Main/train/labels/001761.txt           \b\b\b\b 79%\b\b\b\b\b  OK \n",
            "Extracting  /content/YOLO_Dataset_Main/train/labels/001763.txt           \b\b\b\b 79%\b\b\b\b\b  OK \n",
            "Extracting  /content/YOLO_Dataset_Main/train/labels/001764.txt           \b\b\b\b 79%\b\b\b\b\b  OK \n",
            "Extracting  /content/YOLO_Dataset_Main/train/labels/001765.txt           \b\b\b\b 79%\b\b\b\b\b  OK \n",
            "Extracting  /content/YOLO_Dataset_Main/train/labels/001766.txt           \b\b\b\b 79%\b\b\b\b\b  OK \n",
            "Extracting  /content/YOLO_Dataset_Main/train/labels/001767.txt           \b\b\b\b 79%\b\b\b\b\b  OK \n",
            "Extracting  /content/YOLO_Dataset_Main/train/labels/001768.txt           \b\b\b\b 79%\b\b\b\b\b  OK \n",
            "Extracting  /content/YOLO_Dataset_Main/train/labels/001769.txt           \b\b\b\b 79%\b\b\b\b\b  OK \n",
            "Extracting  /content/YOLO_Dataset_Main/train/labels/001770.txt           \b\b\b\b 79%\b\b\b\b\b  OK \n",
            "Extracting  /content/YOLO_Dataset_Main/train/labels/001771.txt           \b\b\b\b 79%\b\b\b\b\b  OK \n",
            "Extracting  /content/YOLO_Dataset_Main/train/labels/001772.txt           \b\b\b\b 79%\b\b\b\b\b  OK \n",
            "Extracting  /content/YOLO_Dataset_Main/train/labels/001773.txt           \b\b\b\b 79%\b\b\b\b\b  OK \n",
            "Extracting  /content/YOLO_Dataset_Main/train/labels/001774.txt           \b\b\b\b 79%\b\b\b\b\b  OK \n",
            "Extracting  /content/YOLO_Dataset_Main/train/labels/001775.txt           \b\b\b\b 79%\b\b\b\b\b  OK \n",
            "Extracting  /content/YOLO_Dataset_Main/train/labels/001776.txt           \b\b\b\b 79%\b\b\b\b\b  OK \n",
            "Extracting  /content/YOLO_Dataset_Main/train/labels/001778.txt           \b\b\b\b 79%\b\b\b\b\b  OK \n",
            "Extracting  /content/YOLO_Dataset_Main/train/labels/001779.txt           \b\b\b\b 79%\b\b\b\b\b  OK \n",
            "Extracting  /content/YOLO_Dataset_Main/train/labels/001781.txt           \b\b\b\b 79%\b\b\b\b\b  OK \n",
            "Extracting  /content/YOLO_Dataset_Main/train/labels/001782.txt           \b\b\b\b 79%\b\b\b\b\b  OK \n",
            "Extracting  /content/YOLO_Dataset_Main/train/labels/001784.txt           \b\b\b\b 79%\b\b\b\b\b  OK \n",
            "Extracting  /content/YOLO_Dataset_Main/train/labels/001785.txt           \b\b\b\b 79%\b\b\b\b\b  OK \n",
            "Extracting  /content/YOLO_Dataset_Main/train/labels/001786.txt           \b\b\b\b 79%\b\b\b\b\b  OK \n",
            "Extracting  /content/YOLO_Dataset_Main/train/labels/001788.txt           \b\b\b\b 79%\b\b\b\b\b  OK \n",
            "Extracting  /content/YOLO_Dataset_Main/train/labels/001792.txt           \b\b\b\b 79%\b\b\b\b\b  OK \n",
            "Extracting  /content/YOLO_Dataset_Main/train/labels/001793.txt           \b\b\b\b 79%\b\b\b\b\b  OK \n",
            "Extracting  /content/YOLO_Dataset_Main/train/labels/001795.txt           \b\b\b\b 79%\b\b\b\b\b  OK \n",
            "Extracting  /content/YOLO_Dataset_Main/train/labels/001796.txt           \b\b\b\b 79%\b\b\b\b\b  OK \n",
            "Extracting  /content/YOLO_Dataset_Main/train/labels/001797.txt           \b\b\b\b 79%\b\b\b\b\b  OK \n",
            "Extracting  /content/YOLO_Dataset_Main/train/labels/001800.txt           \b\b\b\b 79%\b\b\b\b\b  OK \n",
            "Extracting  /content/YOLO_Dataset_Main/train/labels/001801.txt           \b\b\b\b 79%\b\b\b\b\b  OK \n",
            "Extracting  /content/YOLO_Dataset_Main/train/labels/001802.txt           \b\b\b\b 79%\b\b\b\b\b  OK \n",
            "Extracting  /content/YOLO_Dataset_Main/train/labels/001803.txt           \b\b\b\b 79%\b\b\b\b\b  OK \n",
            "Extracting  /content/YOLO_Dataset_Main/train/labels/001805.txt           \b\b\b\b 79%\b\b\b\b\b  OK \n",
            "Extracting  /content/YOLO_Dataset_Main/train/labels/001806.txt           \b\b\b\b 79%\b\b\b\b\b  OK \n",
            "Extracting  /content/YOLO_Dataset_Main/train/labels/001807.txt           \b\b\b\b 79%\b\b\b\b\b  OK \n",
            "Extracting  /content/YOLO_Dataset_Main/train/labels/001808.txt           \b\b\b\b 79%\b\b\b\b\b  OK \n",
            "Extracting  /content/YOLO_Dataset_Main/train/labels/001809.txt           \b\b\b\b 79%\b\b\b\b\b  OK \n",
            "Extracting  /content/YOLO_Dataset_Main/train/labels/001810.txt           \b\b\b\b 79%\b\b\b\b\b  OK \n",
            "Extracting  /content/YOLO_Dataset_Main/train/labels/001811.txt           \b\b\b\b 79%\b\b\b\b\b  OK \n",
            "Extracting  /content/YOLO_Dataset_Main/train/labels/001813.txt           \b\b\b\b 79%\b\b\b\b\b  OK \n",
            "Extracting  /content/YOLO_Dataset_Main/train/labels/001814.txt           \b\b\b\b 79%\b\b\b\b\b  OK \n",
            "Extracting  /content/YOLO_Dataset_Main/train/labels/001815.txt           \b\b\b\b 79%\b\b\b\b\b  OK \n",
            "Extracting  /content/YOLO_Dataset_Main/train/labels/001818.txt           \b\b\b\b 79%\b\b\b\b\b  OK \n",
            "Extracting  /content/YOLO_Dataset_Main/train/labels/001819.txt           \b\b\b\b 79%\b\b\b\b\b  OK \n",
            "Extracting  /content/YOLO_Dataset_Main/train/labels/001820.txt           \b\b\b\b 79%\b\b\b\b\b  OK \n",
            "Extracting  /content/YOLO_Dataset_Main/train/labels/001821.txt           \b\b\b\b 79%\b\b\b\b\b  OK \n",
            "Extracting  /content/YOLO_Dataset_Main/train/labels/001822.txt           \b\b\b\b 79%\b\b\b\b\b  OK \n",
            "Extracting  /content/YOLO_Dataset_Main/train/labels/001823.txt           \b\b\b\b 79%\b\b\b\b\b  OK \n",
            "Extracting  /content/YOLO_Dataset_Main/train/labels/001824.txt           \b\b\b\b 79%\b\b\b\b\b  OK \n",
            "Extracting  /content/YOLO_Dataset_Main/train/labels/001825.txt           \b\b\b\b 79%\b\b\b\b\b  OK \n",
            "Extracting  /content/YOLO_Dataset_Main/train/labels/001826.txt           \b\b\b\b 79%\b\b\b\b\b  OK \n",
            "Extracting  /content/YOLO_Dataset_Main/train/labels/001827.txt           \b\b\b\b 79%\b\b\b\b\b  OK \n",
            "Extracting  /content/YOLO_Dataset_Main/train/labels/001829.txt           \b\b\b\b 79%\b\b\b\b\b  OK \n",
            "Extracting  /content/YOLO_Dataset_Main/train/labels/001830.txt           \b\b\b\b 79%\b\b\b\b\b  OK \n",
            "Extracting  /content/YOLO_Dataset_Main/train/labels/001831.txt           \b\b\b\b 79%\b\b\b\b\b  OK \n",
            "Extracting  /content/YOLO_Dataset_Main/train/labels/001832.txt           \b\b\b\b 79%\b\b\b\b\b  OK \n",
            "Extracting  /content/YOLO_Dataset_Main/train/labels/001833.txt           \b\b\b\b 79%\b\b\b\b\b  OK \n",
            "Extracting  /content/YOLO_Dataset_Main/train/labels/001835.txt           \b\b\b\b 79%\b\b\b\b\b  OK \n",
            "Extracting  /content/YOLO_Dataset_Main/train/labels/001837.txt           \b\b\b\b 79%\b\b\b\b\b  OK \n",
            "Extracting  /content/YOLO_Dataset_Main/train/labels/001838.txt           \b\b\b\b 79%\b\b\b\b\b  OK \n",
            "Extracting  /content/YOLO_Dataset_Main/train/labels/001839.txt           \b\b\b\b 79%\b\b\b\b\b  OK \n",
            "Extracting  /content/YOLO_Dataset_Main/train/labels/001843.txt           \b\b\b\b 79%\b\b\b\b\b  OK \n",
            "Extracting  /content/YOLO_Dataset_Main/train/labels/001844.txt           \b\b\b\b 79%\b\b\b\b\b  OK \n",
            "Extracting  /content/YOLO_Dataset_Main/train/labels/001845.txt           \b\b\b\b 79%\b\b\b\b\b  OK \n",
            "Extracting  /content/YOLO_Dataset_Main/train/labels/001846.txt           \b\b\b\b 79%\b\b\b\b\b  OK \n",
            "Extracting  /content/YOLO_Dataset_Main/train/labels/001847.txt           \b\b\b\b 79%\b\b\b\b\b  OK \n",
            "Extracting  /content/YOLO_Dataset_Main/train/labels/001849.txt           \b\b\b\b 79%\b\b\b\b\b  OK \n",
            "Extracting  /content/YOLO_Dataset_Main/train/labels/001851.txt           \b\b\b\b 79%\b\b\b\b\b  OK \n",
            "Extracting  /content/YOLO_Dataset_Main/train/labels/001852.txt           \b\b\b\b 79%\b\b\b\b\b  OK \n",
            "Extracting  /content/YOLO_Dataset_Main/train/labels/001853.txt           \b\b\b\b 79%\b\b\b\b\b  OK \n",
            "Extracting  /content/YOLO_Dataset_Main/train/labels/001854.txt           \b\b\b\b 79%\b\b\b\b\b  OK \n",
            "Extracting  /content/YOLO_Dataset_Main/train/labels/001856.txt           \b\b\b\b 79%\b\b\b\b\b  OK \n",
            "Extracting  /content/YOLO_Dataset_Main/train/labels/001857.txt           \b\b\b\b 79%\b\b\b\b\b  OK \n",
            "Extracting  /content/YOLO_Dataset_Main/train/labels/001858.txt           \b\b\b\b 79%\b\b\b\b\b  OK \n",
            "Extracting  /content/YOLO_Dataset_Main/train/labels/001859.txt           \b\b\b\b 79%\b\b\b\b\b  OK \n",
            "Extracting  /content/YOLO_Dataset_Main/train/labels/001860.txt           \b\b\b\b 79%\b\b\b\b\b  OK \n",
            "Extracting  /content/YOLO_Dataset_Main/train/labels/001861.txt           \b\b\b\b 79%\b\b\b\b\b  OK \n",
            "Extracting  /content/YOLO_Dataset_Main/train/labels/001862.txt           \b\b\b\b 79%\b\b\b\b\b  OK \n",
            "Extracting  /content/YOLO_Dataset_Main/train/labels/001863.txt           \b\b\b\b 79%\b\b\b\b\b  OK \n",
            "Extracting  /content/YOLO_Dataset_Main/train/labels/001865.txt           \b\b\b\b 79%\b\b\b\b\b  OK \n",
            "Extracting  /content/YOLO_Dataset_Main/train/labels/001866.txt           \b\b\b\b 79%\b\b\b\b\b  OK \n",
            "Extracting  /content/YOLO_Dataset_Main/train/labels/001867.txt           \b\b\b\b 79%\b\b\b\b\b  OK \n",
            "Extracting  /content/YOLO_Dataset_Main/train/labels/001868.txt           \b\b\b\b 79%\b\b\b\b\b  OK \n",
            "Extracting  /content/YOLO_Dataset_Main/train/labels/001869.txt           \b\b\b\b 79%\b\b\b\b\b  OK \n",
            "Extracting  /content/YOLO_Dataset_Main/train/labels/001871.txt           \b\b\b\b 79%\b\b\b\b\b  OK \n",
            "Extracting  /content/YOLO_Dataset_Main/train/labels/001872.txt           \b\b\b\b 79%\b\b\b\b\b  OK \n",
            "Extracting  /content/YOLO_Dataset_Main/train/labels/001873.txt           \b\b\b\b 79%\b\b\b\b\b  OK \n",
            "Extracting  /content/YOLO_Dataset_Main/train/labels/001874.txt           \b\b\b\b 79%\b\b\b\b\b  OK \n",
            "Extracting  /content/YOLO_Dataset_Main/train/labels/001875.txt           \b\b\b\b 79%\b\b\b\b\b  OK \n",
            "Extracting  /content/YOLO_Dataset_Main/train/labels/001876.txt           \b\b\b\b 79%\b\b\b\b\b  OK \n",
            "Extracting  /content/YOLO_Dataset_Main/train/labels/001877.txt           \b\b\b\b 79%\b\b\b\b\b  OK \n",
            "Extracting  /content/YOLO_Dataset_Main/train/labels/001878.txt           \b\b\b\b 79%\b\b\b\b\b  OK \n",
            "Extracting  /content/YOLO_Dataset_Main/train/labels/001879.txt           \b\b\b\b 79%\b\b\b\b\b  OK \n",
            "Extracting  /content/YOLO_Dataset_Main/train/labels/001880.txt           \b\b\b\b 79%\b\b\b\b\b  OK \n",
            "Extracting  /content/YOLO_Dataset_Main/train/labels/001882.txt           \b\b\b\b 79%\b\b\b\b\b  OK \n",
            "Extracting  /content/YOLO_Dataset_Main/train/labels/001884.txt           \b\b\b\b 79%\b\b\b\b\b  OK \n",
            "Extracting  /content/YOLO_Dataset_Main/train/labels/001885.txt           \b\b\b\b 79%\b\b\b\b\b  OK \n",
            "Extracting  /content/YOLO_Dataset_Main/train/labels/001886.txt           \b\b\b\b 79%\b\b\b\b\b  OK \n",
            "Extracting  /content/YOLO_Dataset_Main/train/labels/001887.txt           \b\b\b\b 79%\b\b\b\b\b  OK \n",
            "Extracting  /content/YOLO_Dataset_Main/train/labels/001888.txt           \b\b\b\b 79%\b\b\b\b\b  OK \n",
            "Extracting  /content/YOLO_Dataset_Main/train/labels/001889.txt           \b\b\b\b 79%\b\b\b\b\b  OK \n",
            "Extracting  /content/YOLO_Dataset_Main/train/labels/001890.txt           \b\b\b\b 79%\b\b\b\b\b  OK \n",
            "Extracting  /content/YOLO_Dataset_Main/train/labels/001891.txt           \b\b\b\b 79%\b\b\b\b\b  OK \n",
            "Extracting  /content/YOLO_Dataset_Main/train/labels/001893.txt           \b\b\b\b 79%\b\b\b\b\b  OK \n",
            "Extracting  /content/YOLO_Dataset_Main/train/labels/001894.txt           \b\b\b\b 79%\b\b\b\b\b  OK \n",
            "Extracting  /content/YOLO_Dataset_Main/train/labels/001895.txt           \b\b\b\b 79%\b\b\b\b\b  OK \n",
            "Extracting  /content/YOLO_Dataset_Main/train/labels/001896.txt           \b\b\b\b 79%\b\b\b\b\b  OK \n",
            "Extracting  /content/YOLO_Dataset_Main/train/labels/001897.txt           \b\b\b\b 79%\b\b\b\b\b  OK \n",
            "Extracting  /content/YOLO_Dataset_Main/train/labels/001898.txt           \b\b\b\b 79%\b\b\b\b\b  OK \n",
            "Extracting  /content/YOLO_Dataset_Main/train/labels/001899.txt           \b\b\b\b 79%\b\b\b\b\b  OK \n",
            "Extracting  /content/YOLO_Dataset_Main/train/labels/001900.txt           \b\b\b\b 79%\b\b\b\b\b  OK \n",
            "Extracting  /content/YOLO_Dataset_Main/train/labels/001901.txt           \b\b\b\b 79%\b\b\b\b\b  OK \n",
            "Extracting  /content/YOLO_Dataset_Main/train/labels/001902.txt           \b\b\b\b 79%\b\b\b\b\b  OK \n",
            "Extracting  /content/YOLO_Dataset_Main/train/labels/001903.txt           \b\b\b\b 79%\b\b\b\b\b  OK \n",
            "Extracting  /content/YOLO_Dataset_Main/train/labels/001904.txt           \b\b\b\b 79%\b\b\b\b\b  OK \n",
            "Extracting  /content/YOLO_Dataset_Main/train/labels/001905.txt           \b\b\b\b 79%\b\b\b\b\b  OK \n",
            "Extracting  /content/YOLO_Dataset_Main/train/labels/001906.txt           \b\b\b\b 79%\b\b\b\b\b  OK \n",
            "Extracting  /content/YOLO_Dataset_Main/train/labels/001907.txt           \b\b\b\b 79%\b\b\b\b\b  OK \n",
            "Extracting  /content/YOLO_Dataset_Main/train/labels/001908.txt           \b\b\b\b 79%\b\b\b\b\b  OK \n",
            "Extracting  /content/YOLO_Dataset_Main/train/labels/001909.txt           \b\b\b\b 79%\b\b\b\b\b  OK \n",
            "Extracting  /content/YOLO_Dataset_Main/train/labels/001910.txt           \b\b\b\b 79%\b\b\b\b\b  OK \n",
            "Extracting  /content/YOLO_Dataset_Main/train/labels/001915.txt           \b\b\b\b 79%\b\b\b\b\b  OK \n",
            "Extracting  /content/YOLO_Dataset_Main/train/labels/001916.txt           \b\b\b\b 79%\b\b\b\b\b  OK \n",
            "Extracting  /content/YOLO_Dataset_Main/train/labels/001920.txt           \b\b\b\b 79%\b\b\b\b\b  OK \n",
            "Extracting  /content/YOLO_Dataset_Main/train/labels/001921.txt           \b\b\b\b 79%\b\b\b\b\b  OK \n",
            "Extracting  /content/YOLO_Dataset_Main/train/labels/001922.txt           \b\b\b\b 79%\b\b\b\b\b  OK \n",
            "Extracting  /content/YOLO_Dataset_Main/train/labels/001923.txt           \b\b\b\b 79%\b\b\b\b\b  OK \n",
            "Extracting  /content/YOLO_Dataset_Main/train/labels/001924.txt           \b\b\b\b 79%\b\b\b\b\b  OK \n",
            "Extracting  /content/YOLO_Dataset_Main/train/labels/001925.txt           \b\b\b\b 79%\b\b\b\b\b  OK \n",
            "Extracting  /content/YOLO_Dataset_Main/train/labels/001928.txt           \b\b\b\b 79%\b\b\b\b\b  OK \n",
            "Extracting  /content/YOLO_Dataset_Main/train/labels/001929.txt           \b\b\b\b 79%\b\b\b\b\b  OK \n",
            "Extracting  /content/YOLO_Dataset_Main/train/labels/001930.txt           \b\b\b\b 79%\b\b\b\b\b  OK \n",
            "Extracting  /content/YOLO_Dataset_Main/train/labels/001931.txt           \b\b\b\b 79%\b\b\b\b\b  OK \n",
            "Extracting  /content/YOLO_Dataset_Main/train/labels/001932.txt           \b\b\b\b 79%\b\b\b\b\b  OK \n",
            "Extracting  /content/YOLO_Dataset_Main/train/labels/001935.txt           \b\b\b\b 79%\b\b\b\b\b  OK \n",
            "Extracting  /content/YOLO_Dataset_Main/train/labels/001936.txt           \b\b\b\b 79%\b\b\b\b\b  OK \n",
            "Extracting  /content/YOLO_Dataset_Main/train/labels/001937.txt           \b\b\b\b 79%\b\b\b\b\b  OK \n",
            "Extracting  /content/YOLO_Dataset_Main/train/labels/001939.txt           \b\b\b\b 79%\b\b\b\b\b  OK \n",
            "Extracting  /content/YOLO_Dataset_Main/train/labels/001940.txt           \b\b\b\b 79%\b\b\b\b\b  OK \n",
            "Extracting  /content/YOLO_Dataset_Main/train/labels/001941.txt           \b\b\b\b 79%\b\b\b\b\b  OK \n",
            "Extracting  /content/YOLO_Dataset_Main/train/labels/001942.txt           \b\b\b\b 79%\b\b\b\b\b  OK \n",
            "Extracting  /content/YOLO_Dataset_Main/train/labels/001943.txt           \b\b\b\b 79%\b\b\b\b\b  OK \n",
            "Extracting  /content/YOLO_Dataset_Main/train/labels/001947.txt           \b\b\b\b 79%\b\b\b\b\b  OK \n",
            "Extracting  /content/YOLO_Dataset_Main/train/labels/001948.txt           \b\b\b\b 79%\b\b\b\b\b  OK \n",
            "Extracting  /content/YOLO_Dataset_Main/train/labels/001949.txt           \b\b\b\b 79%\b\b\b\b\b  OK \n",
            "Extracting  /content/YOLO_Dataset_Main/train/labels/001950.txt           \b\b\b\b 79%\b\b\b\b\b  OK \n",
            "Extracting  /content/YOLO_Dataset_Main/train/labels/001952.txt           \b\b\b\b 79%\b\b\b\b\b  OK \n",
            "Extracting  /content/YOLO_Dataset_Main/train/labels/001954.txt           \b\b\b\b 79%\b\b\b\b\b  OK \n",
            "Extracting  /content/YOLO_Dataset_Main/train/labels/001955.txt           \b\b\b\b 79%\b\b\b\b\b  OK \n",
            "Extracting  /content/YOLO_Dataset_Main/train/labels/001958.txt           \b\b\b\b 79%\b\b\b\b\b  OK \n",
            "Extracting  /content/YOLO_Dataset_Main/train/labels/001959.txt           \b\b\b\b 79%\b\b\b\b\b  OK \n",
            "Extracting  /content/YOLO_Dataset_Main/train/labels/001960.txt           \b\b\b\b 79%\b\b\b\b\b  OK \n",
            "Extracting  /content/YOLO_Dataset_Main/train/labels/001961.txt           \b\b\b\b 79%\b\b\b\b\b  OK \n",
            "Extracting  /content/YOLO_Dataset_Main/train/labels/001962.txt           \b\b\b\b 79%\b\b\b\b\b  OK \n",
            "Extracting  /content/YOLO_Dataset_Main/train/labels/001963.txt           \b\b\b\b 79%\b\b\b\b\b  OK \n",
            "Extracting  /content/YOLO_Dataset_Main/train/labels/001964.txt           \b\b\b\b 79%\b\b\b\b\b  OK \n",
            "Extracting  /content/YOLO_Dataset_Main/train/labels/001965.txt           \b\b\b\b 79%\b\b\b\b\b  OK \n",
            "Extracting  /content/YOLO_Dataset_Main/train/labels/001966.txt           \b\b\b\b 79%\b\b\b\b\b  OK \n",
            "Extracting  /content/YOLO_Dataset_Main/train/labels/001967.txt           \b\b\b\b 79%\b\b\b\b\b  OK \n",
            "Extracting  /content/YOLO_Dataset_Main/train/labels/001968.txt           \b\b\b\b 79%\b\b\b\b\b  OK \n",
            "Extracting  /content/YOLO_Dataset_Main/train/labels/001970.txt           \b\b\b\b 79%\b\b\b\b\b  OK \n",
            "Extracting  /content/YOLO_Dataset_Main/train/labels/001971.txt           \b\b\b\b 79%\b\b\b\b\b  OK \n",
            "Extracting  /content/YOLO_Dataset_Main/train/labels/001972.txt           \b\b\b\b 79%\b\b\b\b\b  OK \n",
            "Extracting  /content/YOLO_Dataset_Main/train/labels/001973.txt           \b\b\b\b 79%\b\b\b\b\b  OK \n",
            "Extracting  /content/YOLO_Dataset_Main/train/labels/001974.txt           \b\b\b\b 79%\b\b\b\b\b  OK \n",
            "Extracting  /content/YOLO_Dataset_Main/train/labels/001976.txt           \b\b\b\b 79%\b\b\b\b\b  OK \n",
            "Extracting  /content/YOLO_Dataset_Main/train/labels/001977.txt           \b\b\b\b 79%\b\b\b\b\b  OK \n",
            "Extracting  /content/YOLO_Dataset_Main/train/labels/001978.txt           \b\b\b\b 79%\b\b\b\b\b  OK \n",
            "Extracting  /content/YOLO_Dataset_Main/train/labels/001979.txt           \b\b\b\b 79%\b\b\b\b\b  OK \n",
            "Extracting  /content/YOLO_Dataset_Main/train/labels/001980.txt           \b\b\b\b 79%\b\b\b\b\b  OK \n",
            "Extracting  /content/YOLO_Dataset_Main/train/labels/001981.txt           \b\b\b\b 79%\b\b\b\b\b  OK \n",
            "Extracting  /content/YOLO_Dataset_Main/train/labels/001982.txt           \b\b\b\b 79%\b\b\b\b\b  OK \n",
            "Extracting  /content/YOLO_Dataset_Main/train/labels/001983.txt           \b\b\b\b 79%\b\b\b\b\b  OK \n",
            "Extracting  /content/YOLO_Dataset_Main/train/labels/001984.txt           \b\b\b\b 79%\b\b\b\b\b  OK \n",
            "Extracting  /content/YOLO_Dataset_Main/train/labels/001985.txt           \b\b\b\b 79%\b\b\b\b\b  OK \n",
            "Extracting  /content/YOLO_Dataset_Main/train/labels/001987.txt           \b\b\b\b 79%\b\b\b\b\b  OK \n",
            "Extracting  /content/YOLO_Dataset_Main/train/labels/001988.txt           \b\b\b\b 79%\b\b\b\b\b  OK \n",
            "Extracting  /content/YOLO_Dataset_Main/train/labels/001989.txt           \b\b\b\b 79%\b\b\b\b\b  OK \n",
            "Extracting  /content/YOLO_Dataset_Main/train/labels/001990.txt           \b\b\b\b 79%\b\b\b\b\b  OK \n",
            "Extracting  /content/YOLO_Dataset_Main/train/labels/001991.txt           \b\b\b\b 79%\b\b\b\b\b  OK \n",
            "Extracting  /content/YOLO_Dataset_Main/train/labels/001992.txt           \b\b\b\b 79%\b\b\b\b\b  OK \n",
            "Extracting  /content/YOLO_Dataset_Main/train/labels/001993.txt           \b\b\b\b 79%\b\b\b\b\b  OK \n",
            "Extracting  /content/YOLO_Dataset_Main/train/labels/001995.txt           \b\b\b\b 79%\b\b\b\b\b  OK \n",
            "Extracting  /content/YOLO_Dataset_Main/train/labels/001996.txt           \b\b\b\b 79%\b\b\b\b\b  OK \n",
            "Extracting  /content/YOLO_Dataset_Main/train/labels/001997.txt           \b\b\b\b 79%\b\b\b\b\b  OK \n",
            "Extracting  /content/YOLO_Dataset_Main/train/labels/001998.txt           \b\b\b\b 79%\b\b\b\b\b  OK \n",
            "Extracting  /content/YOLO_Dataset_Main/train/labels/001999.txt           \b\b\b\b 79%\b\b\b\b\b  OK \n",
            "Extracting  /content/YOLO_Dataset_Main/train/labels/002000.txt           \b\b\b\b 79%\b\b\b\b\b  OK \n",
            "Extracting  /content/YOLO_Dataset_Main/train/labels/002001.txt           \b\b\b\b 79%\b\b\b\b\b  OK \n",
            "Extracting  /content/YOLO_Dataset_Main/train/labels/002002.txt           \b\b\b\b 79%\b\b\b\b\b  OK \n",
            "Extracting  /content/YOLO_Dataset_Main/train/labels/002003.txt           \b\b\b\b 79%\b\b\b\b\b  OK \n",
            "Extracting  /content/YOLO_Dataset_Main/train/labels/002004.txt           \b\b\b\b 79%\b\b\b\b\b  OK \n",
            "Extracting  /content/YOLO_Dataset_Main/train/labels/002005.txt           \b\b\b\b 79%\b\b\b\b\b  OK \n",
            "Extracting  /content/YOLO_Dataset_Main/train/labels/002006.txt           \b\b\b\b 79%\b\b\b\b\b  OK \n",
            "Extracting  /content/YOLO_Dataset_Main/train/labels/002008.txt           \b\b\b\b 79%\b\b\b\b\b  OK \n",
            "Extracting  /content/YOLO_Dataset_Main/train/labels/002009.txt           \b\b\b\b 79%\b\b\b\b\b  OK \n",
            "Extracting  /content/YOLO_Dataset_Main/train/labels/002010.txt           \b\b\b\b 79%\b\b\b\b\b  OK \n",
            "Extracting  /content/YOLO_Dataset_Main/train/labels/002011.txt           \b\b\b\b 79%\b\b\b\b\b  OK \n",
            "Extracting  /content/YOLO_Dataset_Main/train/labels/002013.txt           \b\b\b\b 79%\b\b\b\b\b  OK \n",
            "Extracting  /content/YOLO_Dataset_Main/train/labels/002015.txt           \b\b\b\b 79%\b\b\b\b\b  OK \n",
            "Extracting  /content/YOLO_Dataset_Main/train/labels/002016.txt           \b\b\b\b 79%\b\b\b\b\b  OK \n",
            "Extracting  /content/YOLO_Dataset_Main/train/labels/002017.txt           \b\b\b\b 79%\b\b\b\b\b  OK \n",
            "Extracting  /content/YOLO_Dataset_Main/train/labels/002018.txt           \b\b\b\b 79%\b\b\b\b\b  OK \n",
            "Extracting  /content/YOLO_Dataset_Main/train/labels/002019.txt           \b\b\b\b 79%\b\b\b\b\b  OK \n",
            "Extracting  /content/YOLO_Dataset_Main/train/labels/002020.txt           \b\b\b\b 79%\b\b\b\b\b  OK \n",
            "Extracting  /content/YOLO_Dataset_Main/train/labels/002022.txt           \b\b\b\b 79%\b\b\b\b\b  OK \n",
            "Extracting  /content/YOLO_Dataset_Main/train/labels/002023.txt           \b\b\b\b 79%\b\b\b\b\b  OK \n",
            "Extracting  /content/YOLO_Dataset_Main/train/labels/002024.txt           \b\b\b\b 79%\b\b\b\b\b  OK \n",
            "Extracting  /content/YOLO_Dataset_Main/train/labels/002026.txt           \b\b\b\b 79%\b\b\b\b\b  OK \n",
            "Extracting  /content/YOLO_Dataset_Main/train/labels/002027.txt           \b\b\b\b 79%\b\b\b\b\b  OK \n",
            "Extracting  /content/YOLO_Dataset_Main/train/labels/002028.txt           \b\b\b\b 79%\b\b\b\b\b  OK \n",
            "Extracting  /content/YOLO_Dataset_Main/train/labels/002029.txt           \b\b\b\b 79%\b\b\b\b\b  OK \n",
            "Extracting  /content/YOLO_Dataset_Main/train/labels/002030.txt           \b\b\b\b 79%\b\b\b\b\b  OK \n",
            "Extracting  /content/YOLO_Dataset_Main/train/labels/002031.txt           \b\b\b\b 79%\b\b\b\b\b  OK \n",
            "Extracting  /content/YOLO_Dataset_Main/train/labels/002032.txt           \b\b\b\b 79%\b\b\b\b\b  OK \n",
            "Extracting  /content/YOLO_Dataset_Main/train/labels/002033.txt           \b\b\b\b 79%\b\b\b\b\b  OK \n",
            "Extracting  /content/YOLO_Dataset_Main/train/labels/002034.txt           \b\b\b\b 79%\b\b\b\b\b  OK \n",
            "Extracting  /content/YOLO_Dataset_Main/train/labels/002036.txt           \b\b\b\b 79%\b\b\b\b\b  OK \n",
            "Extracting  /content/YOLO_Dataset_Main/train/labels/002037.txt           \b\b\b\b 79%\b\b\b\b\b  OK \n",
            "Extracting  /content/YOLO_Dataset_Main/train/labels/002038.txt           \b\b\b\b 79%\b\b\b\b\b  OK \n",
            "Extracting  /content/YOLO_Dataset_Main/train/labels/002039.txt           \b\b\b\b 79%\b\b\b\b\b  OK \n",
            "Extracting  /content/YOLO_Dataset_Main/train/labels/002040.txt           \b\b\b\b 79%\b\b\b\b\b  OK \n",
            "Extracting  /content/YOLO_Dataset_Main/train/labels/002042.txt           \b\b\b\b 79%\b\b\b\b\b  OK \n",
            "Extracting  /content/YOLO_Dataset_Main/train/labels/002043.txt           \b\b\b\b 79%\b\b\b\b\b  OK \n",
            "Extracting  /content/YOLO_Dataset_Main/train/labels/002045.txt           \b\b\b\b 79%\b\b\b\b\b  OK \n",
            "Extracting  /content/YOLO_Dataset_Main/train/labels/002047.txt           \b\b\b\b 79%\b\b\b\b\b  OK \n",
            "Extracting  /content/YOLO_Dataset_Main/train/labels/002048.txt           \b\b\b\b 79%\b\b\b\b\b  OK \n",
            "Extracting  /content/YOLO_Dataset_Main/train/labels/002049.txt           \b\b\b\b 79%\b\b\b\b\b  OK \n",
            "Extracting  /content/YOLO_Dataset_Main/train/labels/002050.txt           \b\b\b\b 79%\b\b\b\b\b  OK \n",
            "Extracting  /content/YOLO_Dataset_Main/train/labels/002051.txt           \b\b\b\b 79%\b\b\b\b\b  OK \n",
            "Extracting  /content/YOLO_Dataset_Main/train/labels/002052.txt           \b\b\b\b 79%\b\b\b\b\b  OK \n",
            "Extracting  /content/YOLO_Dataset_Main/train/labels/002053.txt           \b\b\b\b 79%\b\b\b\b\b  OK \n",
            "Extracting  /content/YOLO_Dataset_Main/train/labels/002054.txt           \b\b\b\b 79%\b\b\b\b\b  OK \n",
            "Extracting  /content/YOLO_Dataset_Main/train/labels/002057.txt           \b\b\b\b 79%\b\b\b\b\b  OK \n",
            "Extracting  /content/YOLO_Dataset_Main/train/labels/002058.txt           \b\b\b\b 79%\b\b\b\b\b  OK \n",
            "Extracting  /content/YOLO_Dataset_Main/train/labels/002059.txt           \b\b\b\b 79%\b\b\b\b\b  OK \n",
            "Extracting  /content/YOLO_Dataset_Main/train/labels/002060.txt           \b\b\b\b 79%\b\b\b\b\b  OK \n",
            "Extracting  /content/YOLO_Dataset_Main/train/labels/002061.txt           \b\b\b\b 79%\b\b\b\b\b  OK \n",
            "Extracting  /content/YOLO_Dataset_Main/train/labels/002062.txt           \b\b\b\b 79%\b\b\b\b\b  OK \n",
            "Extracting  /content/YOLO_Dataset_Main/train/labels/002063.txt           \b\b\b\b 79%\b\b\b\b\b  OK \n",
            "Extracting  /content/YOLO_Dataset_Main/train/labels/002065.txt           \b\b\b\b 79%\b\b\b\b\b  OK \n",
            "Extracting  /content/YOLO_Dataset_Main/train/labels/002066.txt           \b\b\b\b 79%\b\b\b\b\b  OK \n",
            "Extracting  /content/YOLO_Dataset_Main/train/labels/002069.txt           \b\b\b\b 79%\b\b\b\b\b  OK \n",
            "Extracting  /content/YOLO_Dataset_Main/train/labels/002070.txt           \b\b\b\b 79%\b\b\b\b\b  OK \n",
            "Extracting  /content/YOLO_Dataset_Main/train/labels/002071.txt           \b\b\b\b 79%\b\b\b\b\b  OK \n",
            "Extracting  /content/YOLO_Dataset_Main/train/labels/002072.txt           \b\b\b\b 79%\b\b\b\b\b  OK \n",
            "Extracting  /content/YOLO_Dataset_Main/train/labels/002073.txt           \b\b\b\b 79%\b\b\b\b\b  OK \n",
            "Extracting  /content/YOLO_Dataset_Main/train/labels/002074.txt           \b\b\b\b 79%\b\b\b\b\b  OK \n",
            "Extracting  /content/YOLO_Dataset_Main/train/labels/002077.txt           \b\b\b\b 79%\b\b\b\b\b  OK \n",
            "Extracting  /content/YOLO_Dataset_Main/train/labels/002080.txt           \b\b\b\b 79%\b\b\b\b\b  OK \n",
            "Extracting  /content/YOLO_Dataset_Main/train/labels/002081.txt           \b\b\b\b 79%\b\b\b\b\b  OK \n",
            "Extracting  /content/YOLO_Dataset_Main/train/labels/002082.txt           \b\b\b\b 79%\b\b\b\b\b  OK \n",
            "Extracting  /content/YOLO_Dataset_Main/train/labels/002083.txt           \b\b\b\b 79%\b\b\b\b\b  OK \n",
            "Extracting  /content/YOLO_Dataset_Main/train/labels/002084.txt           \b\b\b\b 79%\b\b\b\b\b  OK \n",
            "Extracting  /content/YOLO_Dataset_Main/train/labels/002085.txt           \b\b\b\b 79%\b\b\b\b\b  OK \n",
            "Extracting  /content/YOLO_Dataset_Main/train/labels/002086.txt           \b\b\b\b 79%\b\b\b\b\b  OK \n",
            "Extracting  /content/YOLO_Dataset_Main/train/labels/002087.txt           \b\b\b\b 79%\b\b\b\b\b  OK \n",
            "Extracting  /content/YOLO_Dataset_Main/train/labels/002088.txt           \b\b\b\b 79%\b\b\b\b\b  OK \n",
            "Extracting  /content/YOLO_Dataset_Main/train/labels/002089.txt           \b\b\b\b 79%\b\b\b\b\b  OK \n",
            "Extracting  /content/YOLO_Dataset_Main/train/labels/002091.txt           \b\b\b\b 79%\b\b\b\b\b  OK \n",
            "Extracting  /content/YOLO_Dataset_Main/train/labels/002095.txt           \b\b\b\b 79%\b\b\b\b\b  OK \n",
            "Extracting  /content/YOLO_Dataset_Main/train/labels/002096.txt           \b\b\b\b 79%\b\b\b\b\b  OK \n",
            "Extracting  /content/YOLO_Dataset_Main/train/labels/002098.txt           \b\b\b\b 79%\b\b\b\b\b  OK \n",
            "Extracting  /content/YOLO_Dataset_Main/train/labels/002100.txt           \b\b\b\b 79%\b\b\b\b\b  OK \n",
            "Extracting  /content/YOLO_Dataset_Main/train/labels/002102.txt           \b\b\b\b 79%\b\b\b\b\b  OK \n",
            "Extracting  /content/YOLO_Dataset_Main/train/labels/002103.txt           \b\b\b\b 79%\b\b\b\b\b  OK \n",
            "Extracting  /content/YOLO_Dataset_Main/train/labels/002105.txt           \b\b\b\b 79%\b\b\b\b\b  OK \n",
            "Extracting  /content/YOLO_Dataset_Main/train/labels/002107.txt           \b\b\b\b 79%\b\b\b\b\b  OK \n",
            "Extracting  /content/YOLO_Dataset_Main/train/labels/002108.txt           \b\b\b\b 79%\b\b\b\b\b  OK \n",
            "Extracting  /content/YOLO_Dataset_Main/train/labels/002109.txt           \b\b\b\b 79%\b\b\b\b\b  OK \n",
            "Extracting  /content/YOLO_Dataset_Main/train/labels/002110.txt           \b\b\b\b 79%\b\b\b\b\b  OK \n",
            "Extracting  /content/YOLO_Dataset_Main/train/labels/002112.txt           \b\b\b\b 79%\b\b\b\b\b  OK \n",
            "Extracting  /content/YOLO_Dataset_Main/train/labels/002113.txt           \b\b\b\b 79%\b\b\b\b\b  OK \n",
            "Extracting  /content/YOLO_Dataset_Main/train/labels/002114.txt           \b\b\b\b 79%\b\b\b\b\b  OK \n",
            "Extracting  /content/YOLO_Dataset_Main/train/labels/002116.txt           \b\b\b\b 79%\b\b\b\b\b  OK \n",
            "Extracting  /content/YOLO_Dataset_Main/train/labels/002117.txt           \b\b\b\b 79%\b\b\b\b\b  OK \n",
            "Extracting  /content/YOLO_Dataset_Main/train/labels/002120.txt           \b\b\b\b 79%\b\b\b\b\b  OK \n",
            "Extracting  /content/YOLO_Dataset_Main/train/labels/002121.txt           \b\b\b\b 79%\b\b\b\b\b  OK \n",
            "Extracting  /content/YOLO_Dataset_Main/train/labels/002122.txt           \b\b\b\b 79%\b\b\b\b\b  OK \n",
            "Extracting  /content/YOLO_Dataset_Main/train/labels/002123.txt           \b\b\b\b 79%\b\b\b\b\b  OK \n",
            "Extracting  /content/YOLO_Dataset_Main/train/labels/002124.txt           \b\b\b\b 79%\b\b\b\b\b  OK \n",
            "Extracting  /content/YOLO_Dataset_Main/train/labels/002125.txt           \b\b\b\b 79%\b\b\b\b\b  OK \n",
            "Extracting  /content/YOLO_Dataset_Main/train/labels/002126.txt           \b\b\b\b 79%\b\b\b\b\b  OK \n",
            "Extracting  /content/YOLO_Dataset_Main/train/labels/002127.txt           \b\b\b\b 79%\b\b\b\b\b  OK \n",
            "Extracting  /content/YOLO_Dataset_Main/train/labels/002128.txt           \b\b\b\b 79%\b\b\b\b\b  OK \n",
            "Extracting  /content/YOLO_Dataset_Main/train/labels/002129.txt           \b\b\b\b 79%\b\b\b\b\b  OK \n",
            "Extracting  /content/YOLO_Dataset_Main/train/labels/002130.txt           \b\b\b\b 79%\b\b\b\b\b  OK \n",
            "Extracting  /content/YOLO_Dataset_Main/train/labels/002131.txt           \b\b\b\b 79%\b\b\b\b\b  OK \n",
            "Extracting  /content/YOLO_Dataset_Main/train/labels/002132.txt           \b\b\b\b 79%\b\b\b\b\b  OK \n",
            "Extracting  /content/YOLO_Dataset_Main/train/labels/002133.txt           \b\b\b\b 79%\b\b\b\b\b  OK \n",
            "Extracting  /content/YOLO_Dataset_Main/train/labels/002134.txt           \b\b\b\b 79%\b\b\b\b\b  OK \n",
            "Extracting  /content/YOLO_Dataset_Main/train/labels/002135.txt           \b\b\b\b 79%\b\b\b\b\b  OK \n",
            "Extracting  /content/YOLO_Dataset_Main/train/labels/002136.txt           \b\b\b\b 79%\b\b\b\b\b  OK \n",
            "Extracting  /content/YOLO_Dataset_Main/train/labels/002137.txt           \b\b\b\b 79%\b\b\b\b\b  OK \n",
            "Extracting  /content/YOLO_Dataset_Main/train/labels/002140.txt           \b\b\b\b 79%\b\b\b\b\b  OK \n",
            "Extracting  /content/YOLO_Dataset_Main/train/labels/002141.txt           \b\b\b\b 79%\b\b\b\b\b  OK \n",
            "Extracting  /content/YOLO_Dataset_Main/train/labels/002143.txt           \b\b\b\b 79%\b\b\b\b\b  OK \n",
            "Extracting  /content/YOLO_Dataset_Main/train/labels/002144.txt           \b\b\b\b 79%\b\b\b\b\b  OK \n",
            "Extracting  /content/YOLO_Dataset_Main/train/labels/002145.txt           \b\b\b\b 79%\b\b\b\b\b  OK \n",
            "Extracting  /content/YOLO_Dataset_Main/train/labels/002147.txt           \b\b\b\b 79%\b\b\b\b\b  OK \n",
            "Extracting  /content/YOLO_Dataset_Main/train/labels/002148.txt           \b\b\b\b 79%\b\b\b\b\b  OK \n",
            "Extracting  /content/YOLO_Dataset_Main/train/labels/002149.txt           \b\b\b\b 79%\b\b\b\b\b  OK \n",
            "Extracting  /content/YOLO_Dataset_Main/train/labels/002150.txt           \b\b\b\b 79%\b\b\b\b\b  OK \n",
            "Extracting  /content/YOLO_Dataset_Main/train/labels/002151.txt           \b\b\b\b 79%\b\b\b\b\b  OK \n",
            "Extracting  /content/YOLO_Dataset_Main/train/labels/002153.txt           \b\b\b\b 79%\b\b\b\b\b  OK \n",
            "Extracting  /content/YOLO_Dataset_Main/train/labels/002154.txt           \b\b\b\b 79%\b\b\b\b\b  OK \n",
            "Extracting  /content/YOLO_Dataset_Main/train/labels/002156.txt           \b\b\b\b 79%\b\b\b\b\b  OK \n",
            "Extracting  /content/YOLO_Dataset_Main/train/labels/002157.txt           \b\b\b\b 79%\b\b\b\b\b  OK \n",
            "Extracting  /content/YOLO_Dataset_Main/train/labels/002158.txt           \b\b\b\b 79%\b\b\b\b\b  OK \n",
            "Extracting  /content/YOLO_Dataset_Main/train/labels/002159.txt           \b\b\b\b 79%\b\b\b\b\b  OK \n",
            "Extracting  /content/YOLO_Dataset_Main/train/labels/002160.txt           \b\b\b\b 79%\b\b\b\b\b  OK \n",
            "Extracting  /content/YOLO_Dataset_Main/train/labels/002161.txt           \b\b\b\b 79%\b\b\b\b\b  OK \n",
            "Extracting  /content/YOLO_Dataset_Main/train/labels/002162.txt           \b\b\b\b 79%\b\b\b\b\b  OK \n",
            "Extracting  /content/YOLO_Dataset_Main/train/labels/002164.txt           \b\b\b\b 79%\b\b\b\b\b  OK \n",
            "Extracting  /content/YOLO_Dataset_Main/train/labels/002165.txt           \b\b\b\b 79%\b\b\b\b\b  OK \n",
            "Extracting  /content/YOLO_Dataset_Main/train/labels/002166.txt           \b\b\b\b 79%\b\b\b\b\b  OK \n",
            "Extracting  /content/YOLO_Dataset_Main/train/labels/002167.txt           \b\b\b\b 79%\b\b\b\b\b  OK \n",
            "Extracting  /content/YOLO_Dataset_Main/train/labels/002168.txt           \b\b\b\b 79%\b\b\b\b\b  OK \n",
            "Extracting  /content/YOLO_Dataset_Main/train/labels/002169.txt           \b\b\b\b 79%\b\b\b\b\b  OK \n",
            "Extracting  /content/YOLO_Dataset_Main/train/labels/002170.txt           \b\b\b\b 79%\b\b\b\b\b  OK \n",
            "Extracting  /content/YOLO_Dataset_Main/train/labels/002172.txt           \b\b\b\b 79%\b\b\b\b\b  OK \n",
            "Extracting  /content/YOLO_Dataset_Main/train/labels/002173.txt           \b\b\b\b 79%\b\b\b\b\b  OK \n",
            "Extracting  /content/YOLO_Dataset_Main/train/labels/002174.txt           \b\b\b\b 79%\b\b\b\b\b  OK \n",
            "Extracting  /content/YOLO_Dataset_Main/train/labels/002175.txt           \b\b\b\b 79%\b\b\b\b\b  OK \n",
            "Extracting  /content/YOLO_Dataset_Main/train/labels/002176.txt           \b\b\b\b 79%\b\b\b\b\b  OK \n",
            "Extracting  /content/YOLO_Dataset_Main/train/labels/002177.txt           \b\b\b\b 79%\b\b\b\b\b  OK \n",
            "Extracting  /content/YOLO_Dataset_Main/train/labels/002178.txt           \b\b\b\b 79%\b\b\b\b\b  OK \n",
            "Extracting  /content/YOLO_Dataset_Main/train/labels/002179.txt           \b\b\b\b 79%\b\b\b\b\b  OK \n",
            "Extracting  /content/YOLO_Dataset_Main/train/labels/002180.txt           \b\b\b\b 79%\b\b\b\b\b  OK \n",
            "Extracting  /content/YOLO_Dataset_Main/train/labels/002181.txt           \b\b\b\b 79%\b\b\b\b\b  OK \n",
            "Extracting  /content/YOLO_Dataset_Main/train/labels/002182.txt           \b\b\b\b 79%\b\b\b\b\b  OK \n",
            "Extracting  /content/YOLO_Dataset_Main/train/labels/002183.txt           \b\b\b\b 79%\b\b\b\b\b  OK \n",
            "Extracting  /content/YOLO_Dataset_Main/train/labels/002184.txt           \b\b\b\b 79%\b\b\b\b\b  OK \n",
            "Extracting  /content/YOLO_Dataset_Main/train/labels/002186.txt           \b\b\b\b 79%\b\b\b\b\b  OK \n",
            "Extracting  /content/YOLO_Dataset_Main/train/labels/002187.txt           \b\b\b\b 79%\b\b\b\b\b  OK \n",
            "Extracting  /content/YOLO_Dataset_Main/train/labels/002188.txt           \b\b\b\b 79%\b\b\b\b\b  OK \n",
            "Extracting  /content/YOLO_Dataset_Main/train/labels/002189.txt           \b\b\b\b 79%\b\b\b\b\b  OK \n",
            "Extracting  /content/YOLO_Dataset_Main/train/labels/002190.txt           \b\b\b\b 79%\b\b\b\b\b  OK \n",
            "Extracting  /content/YOLO_Dataset_Main/train/labels/002191.txt           \b\b\b\b 79%\b\b\b\b\b  OK \n",
            "Extracting  /content/YOLO_Dataset_Main/train/labels/002193.txt           \b\b\b\b 79%\b\b\b\b\b  OK \n",
            "Extracting  /content/YOLO_Dataset_Main/train/labels/002194.txt           \b\b\b\b 79%\b\b\b\b\b  OK \n",
            "Extracting  /content/YOLO_Dataset_Main/train/labels/002195.txt           \b\b\b\b 79%\b\b\b\b\b  OK \n",
            "Extracting  /content/YOLO_Dataset_Main/train/labels/002196.txt           \b\b\b\b 79%\b\b\b\b\b  OK \n",
            "Extracting  /content/YOLO_Dataset_Main/train/labels/002197.txt           \b\b\b\b 79%\b\b\b\b\b  OK \n",
            "Extracting  /content/YOLO_Dataset_Main/train/labels/002198.txt           \b\b\b\b 79%\b\b\b\b\b  OK \n",
            "Extracting  /content/YOLO_Dataset_Main/train/labels/002201.txt           \b\b\b\b 79%\b\b\b\b\b  OK \n",
            "Extracting  /content/YOLO_Dataset_Main/train/labels/002203.txt           \b\b\b\b 79%\b\b\b\b\b  OK \n",
            "Extracting  /content/YOLO_Dataset_Main/train/labels/002204.txt           \b\b\b\b 79%\b\b\b\b\b  OK \n",
            "Extracting  /content/YOLO_Dataset_Main/train/labels/002206.txt           \b\b\b\b 79%\b\b\b\b\b  OK \n",
            "Extracting  /content/YOLO_Dataset_Main/train/labels/002207.txt           \b\b\b\b 79%\b\b\b\b\b  OK \n",
            "Extracting  /content/YOLO_Dataset_Main/train/labels/002208.txt           \b\b\b\b 79%\b\b\b\b\b  OK \n",
            "Extracting  /content/YOLO_Dataset_Main/train/labels/002209.txt           \b\b\b\b 79%\b\b\b\b\b  OK \n",
            "Extracting  /content/YOLO_Dataset_Main/train/labels/002213.txt           \b\b\b\b 79%\b\b\b\b\b  OK \n",
            "Extracting  /content/YOLO_Dataset_Main/train/labels/002214.txt           \b\b\b\b 79%\b\b\b\b\b  OK \n",
            "Extracting  /content/YOLO_Dataset_Main/train/labels/002215.txt           \b\b\b\b 79%\b\b\b\b\b  OK \n",
            "Extracting  /content/YOLO_Dataset_Main/train/labels/002216.txt           \b\b\b\b 79%\b\b\b\b\b  OK \n",
            "Extracting  /content/YOLO_Dataset_Main/train/labels/002217.txt           \b\b\b\b 79%\b\b\b\b\b  OK \n",
            "Extracting  /content/YOLO_Dataset_Main/train/labels/002220.txt           \b\b\b\b 79%\b\b\b\b\b  OK \n",
            "Extracting  /content/YOLO_Dataset_Main/train/labels/002222.txt           \b\b\b\b 79%\b\b\b\b\b  OK \n",
            "Extracting  /content/YOLO_Dataset_Main/train/labels/002224.txt           \b\b\b\b 79%\b\b\b\b\b  OK \n",
            "Extracting  /content/YOLO_Dataset_Main/train/labels/002225.txt           \b\b\b\b 79%\b\b\b\b\b  OK \n",
            "Extracting  /content/YOLO_Dataset_Main/train/labels/002226.txt           \b\b\b\b 79%\b\b\b\b\b  OK \n",
            "Extracting  /content/YOLO_Dataset_Main/train/labels/002227.txt           \b\b\b\b 79%\b\b\b\b\b  OK \n",
            "Extracting  /content/YOLO_Dataset_Main/train/labels/002228.txt           \b\b\b\b 79%\b\b\b\b\b  OK \n",
            "Extracting  /content/YOLO_Dataset_Main/train/labels/002229.txt           \b\b\b\b 79%\b\b\b\b\b  OK \n",
            "Extracting  /content/YOLO_Dataset_Main/train/labels/002231.txt           \b\b\b\b 79%\b\b\b\b\b  OK \n",
            "Extracting  /content/YOLO_Dataset_Main/train/labels/002232.txt           \b\b\b\b 79%\b\b\b\b\b  OK \n",
            "Extracting  /content/YOLO_Dataset_Main/train/labels/002233.txt           \b\b\b\b 79%\b\b\b\b\b  OK \n",
            "Extracting  /content/YOLO_Dataset_Main/train/labels/002235.txt           \b\b\b\b 79%\b\b\b\b\b  OK \n",
            "Extracting  /content/YOLO_Dataset_Main/train/labels/002236.txt           \b\b\b\b 79%\b\b\b\b\b  OK \n",
            "Extracting  /content/YOLO_Dataset_Main/train/labels/002237.txt           \b\b\b\b 79%\b\b\b\b\b  OK \n",
            "Extracting  /content/YOLO_Dataset_Main/train/labels/002238.txt           \b\b\b\b 79%\b\b\b\b\b  OK \n",
            "Extracting  /content/YOLO_Dataset_Main/train/labels/002239.txt           \b\b\b\b 79%\b\b\b\b\b  OK \n",
            "Extracting  /content/YOLO_Dataset_Main/train/labels/002240.txt           \b\b\b\b 79%\b\b\b\b\b  OK \n",
            "Extracting  /content/YOLO_Dataset_Main/train/labels/002241.txt           \b\b\b\b 79%\b\b\b\b\b  OK \n",
            "Extracting  /content/YOLO_Dataset_Main/train/labels/002242.txt           \b\b\b\b 79%\b\b\b\b\b  OK \n",
            "Extracting  /content/YOLO_Dataset_Main/train/labels/002243.txt           \b\b\b\b 79%\b\b\b\b\b  OK \n",
            "Extracting  /content/YOLO_Dataset_Main/train/labels/002244.txt           \b\b\b\b 79%\b\b\b\b\b  OK \n",
            "Extracting  /content/YOLO_Dataset_Main/train/labels/002245.txt           \b\b\b\b 79%\b\b\b\b\b  OK \n",
            "Extracting  /content/YOLO_Dataset_Main/train/labels/002246.txt           \b\b\b\b 79%\b\b\b\b\b  OK \n",
            "Extracting  /content/YOLO_Dataset_Main/train/labels/002247.txt           \b\b\b\b 79%\b\b\b\b\b  OK \n",
            "Extracting  /content/YOLO_Dataset_Main/train/labels/002248.txt           \b\b\b\b 79%\b\b\b\b\b  OK \n",
            "Extracting  /content/YOLO_Dataset_Main/train/labels/002249.txt           \b\b\b\b 79%\b\b\b\b\b  OK \n",
            "Extracting  /content/YOLO_Dataset_Main/train/labels/002250.txt           \b\b\b\b 79%\b\b\b\b\b  OK \n",
            "Extracting  /content/YOLO_Dataset_Main/train/labels/002251.txt           \b\b\b\b 79%\b\b\b\b\b  OK \n",
            "Extracting  /content/YOLO_Dataset_Main/train/labels/002252.txt           \b\b\b\b 79%\b\b\b\b\b  OK \n",
            "Extracting  /content/YOLO_Dataset_Main/train/labels/002254.txt           \b\b\b\b 79%\b\b\b\b\b  OK \n",
            "Extracting  /content/YOLO_Dataset_Main/train/labels/002255.txt           \b\b\b\b 79%\b\b\b\b\b  OK \n",
            "Extracting  /content/YOLO_Dataset_Main/train/labels/002256.txt           \b\b\b\b 79%\b\b\b\b\b  OK \n",
            "Extracting  /content/YOLO_Dataset_Main/train/labels/002257.txt           \b\b\b\b 79%\b\b\b\b\b  OK \n",
            "Extracting  /content/YOLO_Dataset_Main/train/labels/002258.txt           \b\b\b\b 79%\b\b\b\b\b  OK \n",
            "Extracting  /content/YOLO_Dataset_Main/train/labels/002261.txt           \b\b\b\b 79%\b\b\b\b\b  OK \n",
            "Extracting  /content/YOLO_Dataset_Main/train/labels/002263.txt           \b\b\b\b 79%\b\b\b\b\b  OK \n",
            "Extracting  /content/YOLO_Dataset_Main/train/labels/002264.txt           \b\b\b\b 79%\b\b\b\b\b  OK \n",
            "Extracting  /content/YOLO_Dataset_Main/train/labels/002265.txt           \b\b\b\b 79%\b\b\b\b\b  OK \n",
            "Extracting  /content/YOLO_Dataset_Main/train/labels/002266.txt           \b\b\b\b 79%\b\b\b\b\b  OK \n",
            "Extracting  /content/YOLO_Dataset_Main/train/labels/002267.txt           \b\b\b\b 79%\b\b\b\b\b  OK \n",
            "Extracting  /content/YOLO_Dataset_Main/train/labels/002268.txt           \b\b\b\b 79%\b\b\b\b\b  OK \n",
            "Extracting  /content/YOLO_Dataset_Main/train/labels/002269.txt           \b\b\b\b 79%\b\b\b\b\b  OK \n",
            "Extracting  /content/YOLO_Dataset_Main/train/labels/002270.txt           \b\b\b\b 79%\b\b\b\b\b  OK \n",
            "Extracting  /content/YOLO_Dataset_Main/train/labels/002271.txt           \b\b\b\b 79%\b\b\b\b\b  OK \n",
            "Extracting  /content/YOLO_Dataset_Main/train/labels/002272.txt           \b\b\b\b 79%\b\b\b\b\b  OK \n",
            "Extracting  /content/YOLO_Dataset_Main/train/labels/002274.txt           \b\b\b\b 79%\b\b\b\b\b  OK \n",
            "Extracting  /content/YOLO_Dataset_Main/train/labels/002276.txt           \b\b\b\b 79%\b\b\b\b\b  OK \n",
            "Extracting  /content/YOLO_Dataset_Main/train/labels/002277.txt           \b\b\b\b 79%\b\b\b\b\b  OK \n",
            "Extracting  /content/YOLO_Dataset_Main/train/labels/002278.txt           \b\b\b\b 79%\b\b\b\b\b  OK \n",
            "Extracting  /content/YOLO_Dataset_Main/train/labels/002279.txt           \b\b\b\b 79%\b\b\b\b\b  OK \n",
            "Extracting  /content/YOLO_Dataset_Main/train/labels/002280.txt           \b\b\b\b 79%\b\b\b\b\b  OK \n",
            "Extracting  /content/YOLO_Dataset_Main/train/labels/002283.txt           \b\b\b\b 79%\b\b\b\b\b  OK \n",
            "Extracting  /content/YOLO_Dataset_Main/train/labels/002284.txt           \b\b\b\b 79%\b\b\b\b\b  OK \n",
            "Extracting  /content/YOLO_Dataset_Main/train/labels/002287.txt           \b\b\b\b 79%\b\b\b\b\b  OK \n",
            "Extracting  /content/YOLO_Dataset_Main/train/labels/002289.txt           \b\b\b\b 79%\b\b\b\b\b  OK \n",
            "Extracting  /content/YOLO_Dataset_Main/train/labels/002290.txt           \b\b\b\b 79%\b\b\b\b\b  OK \n",
            "Extracting  /content/YOLO_Dataset_Main/train/labels/002291.txt           \b\b\b\b 79%\b\b\b\b\b  OK \n",
            "Extracting  /content/YOLO_Dataset_Main/train/labels/002292.txt           \b\b\b\b 79%\b\b\b\b\b  OK \n",
            "Extracting  /content/YOLO_Dataset_Main/train/labels/002293.txt           \b\b\b\b 79%\b\b\b\b\b  OK \n",
            "Extracting  /content/YOLO_Dataset_Main/train/labels/002295.txt           \b\b\b\b 79%\b\b\b\b\b  OK \n",
            "Extracting  /content/YOLO_Dataset_Main/train/labels/002296.txt           \b\b\b\b 79%\b\b\b\b\b  OK \n",
            "Extracting  /content/YOLO_Dataset_Main/train/labels/002297.txt           \b\b\b\b 79%\b\b\b\b\b  OK \n",
            "Extracting  /content/YOLO_Dataset_Main/train/labels/002299.txt           \b\b\b\b 79%\b\b\b\b\b  OK \n",
            "Extracting  /content/YOLO_Dataset_Main/train/labels/002300.txt           \b\b\b\b 79%\b\b\b\b\b  OK \n",
            "Extracting  /content/YOLO_Dataset_Main/train/labels/002301.txt           \b\b\b\b 79%\b\b\b\b\b  OK \n",
            "Extracting  /content/YOLO_Dataset_Main/train/labels/002303.txt           \b\b\b\b 79%\b\b\b\b\b  OK \n",
            "Extracting  /content/YOLO_Dataset_Main/train/labels/002304.txt           \b\b\b\b 79%\b\b\b\b\b  OK \n",
            "Extracting  /content/YOLO_Dataset_Main/train/labels/002305.txt           \b\b\b\b 79%\b\b\b\b\b  OK \n",
            "Extracting  /content/YOLO_Dataset_Main/train/labels/002306.txt           \b\b\b\b 79%\b\b\b\b\b  OK \n",
            "Extracting  /content/YOLO_Dataset_Main/train/labels/002307.txt           \b\b\b\b 79%\b\b\b\b\b  OK \n",
            "Extracting  /content/YOLO_Dataset_Main/train/labels/002308.txt           \b\b\b\b 79%\b\b\b\b\b  OK \n",
            "Extracting  /content/YOLO_Dataset_Main/train/labels/002310.txt           \b\b\b\b 79%\b\b\b\b\b  OK \n",
            "Extracting  /content/YOLO_Dataset_Main/train/labels/002311.txt           \b\b\b\b 79%\b\b\b\b\b  OK \n",
            "Extracting  /content/YOLO_Dataset_Main/train/labels/002312.txt           \b\b\b\b 79%\b\b\b\b\b  OK \n",
            "Extracting  /content/YOLO_Dataset_Main/train/labels/002313.txt           \b\b\b\b 79%\b\b\b\b\b  OK \n",
            "Extracting  /content/YOLO_Dataset_Main/train/labels/002314.txt           \b\b\b\b 79%\b\b\b\b\b  OK \n",
            "Extracting  /content/YOLO_Dataset_Main/train/labels/002315.txt           \b\b\b\b 79%\b\b\b\b\b  OK \n",
            "Extracting  /content/YOLO_Dataset_Main/train/labels/002316.txt           \b\b\b\b 79%\b\b\b\b\b  OK \n",
            "Extracting  /content/YOLO_Dataset_Main/train/labels/002317.txt           \b\b\b\b 79%\b\b\b\b\b  OK \n",
            "Extracting  /content/YOLO_Dataset_Main/train/labels/002318.txt           \b\b\b\b 79%\b\b\b\b\b  OK \n",
            "Extracting  /content/YOLO_Dataset_Main/train/labels/002319.txt           \b\b\b\b 79%\b\b\b\b\b  OK \n",
            "Extracting  /content/YOLO_Dataset_Main/train/labels/002321.txt           \b\b\b\b 79%\b\b\b\b\b  OK \n",
            "Extracting  /content/YOLO_Dataset_Main/train/labels/002322.txt           \b\b\b\b 79%\b\b\b\b\b  OK \n",
            "Extracting  /content/YOLO_Dataset_Main/train/labels/002324.txt           \b\b\b\b 79%\b\b\b\b\b  OK \n",
            "Extracting  /content/YOLO_Dataset_Main/train/labels/002325.txt           \b\b\b\b 79%\b\b\b\b\b  OK \n",
            "Extracting  /content/YOLO_Dataset_Main/train/labels/002326.txt           \b\b\b\b 79%\b\b\b\b\b  OK \n",
            "Extracting  /content/YOLO_Dataset_Main/train/labels/002327.txt           \b\b\b\b 79%\b\b\b\b\b  OK \n",
            "Extracting  /content/YOLO_Dataset_Main/train/labels/002328.txt           \b\b\b\b 79%\b\b\b\b\b  OK \n",
            "Extracting  /content/YOLO_Dataset_Main/train/labels/002329.txt           \b\b\b\b 79%\b\b\b\b\b  OK \n",
            "Extracting  /content/YOLO_Dataset_Main/train/labels/002330.txt           \b\b\b\b 79%\b\b\b\b\b  OK \n",
            "Extracting  /content/YOLO_Dataset_Main/train/labels/002334.txt           \b\b\b\b 79%\b\b\b\b\b  OK \n",
            "Extracting  /content/YOLO_Dataset_Main/train/labels/002335.txt           \b\b\b\b 79%\b\b\b\b\b  OK \n",
            "Extracting  /content/YOLO_Dataset_Main/train/labels/002336.txt           \b\b\b\b 79%\b\b\b\b\b  OK \n",
            "Extracting  /content/YOLO_Dataset_Main/train/labels/002337.txt           \b\b\b\b 79%\b\b\b\b\b  OK \n",
            "Extracting  /content/YOLO_Dataset_Main/train/labels/002338.txt           \b\b\b\b 79%\b\b\b\b\b  OK \n",
            "Extracting  /content/YOLO_Dataset_Main/train/labels/002339.txt           \b\b\b\b 79%\b\b\b\b\b  OK \n",
            "Extracting  /content/YOLO_Dataset_Main/train/labels/002340.txt           \b\b\b\b 79%\b\b\b\b\b  OK \n",
            "Extracting  /content/YOLO_Dataset_Main/train/labels/002341.txt           \b\b\b\b 79%\b\b\b\b\b  OK \n",
            "Extracting  /content/YOLO_Dataset_Main/train/labels/002342.txt           \b\b\b\b 79%\b\b\b\b\b  OK \n",
            "Extracting  /content/YOLO_Dataset_Main/train/labels/002343.txt           \b\b\b\b 79%\b\b\b\b\b  OK \n",
            "Extracting  /content/YOLO_Dataset_Main/train/labels/002344.txt           \b\b\b\b 79%\b\b\b\b\b  OK \n",
            "Extracting  /content/YOLO_Dataset_Main/train/labels/002345.txt           \b\b\b\b 79%\b\b\b\b\b  OK \n",
            "Extracting  /content/YOLO_Dataset_Main/train/labels/002346.txt           \b\b\b\b 79%\b\b\b\b\b  OK \n",
            "Extracting  /content/YOLO_Dataset_Main/train/labels/002348.txt           \b\b\b\b 79%\b\b\b\b\b  OK \n",
            "Extracting  /content/YOLO_Dataset_Main/train/labels/002349.txt           \b\b\b\b 79%\b\b\b\b\b  OK \n",
            "Extracting  /content/YOLO_Dataset_Main/train/labels/002350.txt           \b\b\b\b 79%\b\b\b\b\b  OK \n",
            "Extracting  /content/YOLO_Dataset_Main/train/labels/002351.txt           \b\b\b\b 79%\b\b\b\b\b  OK \n",
            "Extracting  /content/YOLO_Dataset_Main/train/labels/002352.txt           \b\b\b\b 79%\b\b\b\b\b  OK \n",
            "Extracting  /content/YOLO_Dataset_Main/train/labels/002353.txt           \b\b\b\b 79%\b\b\b\b\b  OK \n",
            "Extracting  /content/YOLO_Dataset_Main/train/labels/002355.txt           \b\b\b\b 79%\b\b\b\b\b  OK \n",
            "Extracting  /content/YOLO_Dataset_Main/train/labels/002357.txt           \b\b\b\b 79%\b\b\b\b\b  OK \n",
            "Extracting  /content/YOLO_Dataset_Main/train/labels/002358.txt           \b\b\b\b 79%\b\b\b\b\b  OK \n",
            "Extracting  /content/YOLO_Dataset_Main/train/labels/002359.txt           \b\b\b\b 79%\b\b\b\b\b  OK \n",
            "Extracting  /content/YOLO_Dataset_Main/train/labels/002360.txt           \b\b\b\b 79%\b\b\b\b\b  OK \n",
            "Extracting  /content/YOLO_Dataset_Main/train/labels/002363.txt           \b\b\b\b 79%\b\b\b\b\b  OK \n",
            "Extracting  /content/YOLO_Dataset_Main/train/labels/002364.txt           \b\b\b\b 79%\b\b\b\b\b  OK \n",
            "Extracting  /content/YOLO_Dataset_Main/train/labels/002365.txt           \b\b\b\b 79%\b\b\b\b\b  OK \n",
            "Extracting  /content/YOLO_Dataset_Main/train/labels/002366.txt           \b\b\b\b 79%\b\b\b\b\b  OK \n",
            "Extracting  /content/YOLO_Dataset_Main/train/labels/002368.txt           \b\b\b\b 79%\b\b\b\b\b  OK \n",
            "Extracting  /content/YOLO_Dataset_Main/train/labels/002369.txt           \b\b\b\b 79%\b\b\b\b\b  OK \n",
            "Extracting  /content/YOLO_Dataset_Main/train/labels/002374.txt           \b\b\b\b 79%\b\b\b\b\b  OK \n",
            "Extracting  /content/YOLO_Dataset_Main/train/labels/002375.txt           \b\b\b\b 79%\b\b\b\b\b  OK \n",
            "Extracting  /content/YOLO_Dataset_Main/train/labels/002376.txt           \b\b\b\b 79%\b\b\b\b\b  OK \n",
            "Extracting  /content/YOLO_Dataset_Main/train/labels/002377.txt           \b\b\b\b 79%\b\b\b\b\b  OK \n",
            "Extracting  /content/YOLO_Dataset_Main/train/labels/002378.txt           \b\b\b\b 79%\b\b\b\b\b  OK \n",
            "Extracting  /content/YOLO_Dataset_Main/train/labels/002379.txt           \b\b\b\b 79%\b\b\b\b\b  OK \n",
            "Extracting  /content/YOLO_Dataset_Main/train/labels/002382.txt           \b\b\b\b 79%\b\b\b\b\b  OK \n",
            "Extracting  /content/YOLO_Dataset_Main/train/labels/002383.txt           \b\b\b\b 79%\b\b\b\b\b  OK \n",
            "Extracting  /content/YOLO_Dataset_Main/train/labels/002384.txt           \b\b\b\b 79%\b\b\b\b\b  OK \n",
            "Extracting  /content/YOLO_Dataset_Main/train/labels/002385.txt           \b\b\b\b 79%\b\b\b\b\b  OK \n",
            "Extracting  /content/YOLO_Dataset_Main/train/labels/002386.txt           \b\b\b\b 79%\b\b\b\b\b  OK \n",
            "Extracting  /content/YOLO_Dataset_Main/train/labels/002390.txt           \b\b\b\b 79%\b\b\b\b\b  OK \n",
            "Extracting  /content/YOLO_Dataset_Main/train/labels/002392.txt           \b\b\b\b 79%\b\b\b\b\b  OK \n",
            "Extracting  /content/YOLO_Dataset_Main/train/labels/002393.txt           \b\b\b\b 79%\b\b\b\b\b  OK \n",
            "Extracting  /content/YOLO_Dataset_Main/train/labels/002394.txt           \b\b\b\b 79%\b\b\b\b\b  OK \n",
            "Extracting  /content/YOLO_Dataset_Main/train/labels/002395.txt           \b\b\b\b 79%\b\b\b\b\b  OK \n",
            "Extracting  /content/YOLO_Dataset_Main/train/labels/002397.txt           \b\b\b\b 79%\b\b\b\b\b  OK \n",
            "Extracting  /content/YOLO_Dataset_Main/train/labels/002398.txt           \b\b\b\b 79%\b\b\b\b\b  OK \n",
            "Extracting  /content/YOLO_Dataset_Main/train/labels/002399.txt           \b\b\b\b 79%\b\b\b\b\b  OK \n",
            "Extracting  /content/YOLO_Dataset_Main/train/labels/002400.txt           \b\b\b\b 79%\b\b\b\b\b  OK \n",
            "Extracting  /content/YOLO_Dataset_Main/train/labels/002401.txt           \b\b\b\b 79%\b\b\b\b\b  OK \n",
            "Extracting  /content/YOLO_Dataset_Main/train/labels/002403.txt           \b\b\b\b 79%\b\b\b\b\b  OK \n",
            "Extracting  /content/YOLO_Dataset_Main/train/labels/002404.txt           \b\b\b\b 79%\b\b\b\b\b  OK \n",
            "Extracting  /content/YOLO_Dataset_Main/train/labels/002405.txt           \b\b\b\b 79%\b\b\b\b\b  OK \n",
            "Extracting  /content/YOLO_Dataset_Main/train/labels/002406.txt           \b\b\b\b 79%\b\b\b\b\b  OK \n",
            "Extracting  /content/YOLO_Dataset_Main/train/labels/002407.txt           \b\b\b\b 79%\b\b\b\b\b  OK \n",
            "Extracting  /content/YOLO_Dataset_Main/train/labels/002408.txt           \b\b\b\b 79%\b\b\b\b\b  OK \n",
            "Extracting  /content/YOLO_Dataset_Main/train/labels/002409.txt           \b\b\b\b 79%\b\b\b\b\b  OK \n",
            "Extracting  /content/YOLO_Dataset_Main/train/labels/002410.txt           \b\b\b\b 79%\b\b\b\b\b  OK \n",
            "Extracting  /content/YOLO_Dataset_Main/train/labels/002411.txt           \b\b\b\b 79%\b\b\b\b\b  OK \n",
            "Extracting  /content/YOLO_Dataset_Main/train/labels/002412.txt           \b\b\b\b 79%\b\b\b\b\b  OK \n",
            "Extracting  /content/YOLO_Dataset_Main/train/labels/002413.txt           \b\b\b\b 79%\b\b\b\b\b  OK \n",
            "Extracting  /content/YOLO_Dataset_Main/train/labels/002414.txt           \b\b\b\b 79%\b\b\b\b\b  OK \n",
            "Extracting  /content/YOLO_Dataset_Main/train/labels/002415.txt           \b\b\b\b 79%\b\b\b\b\b  OK \n",
            "Extracting  /content/YOLO_Dataset_Main/train/labels/002416.txt           \b\b\b\b 79%\b\b\b\b\b  OK \n",
            "Extracting  /content/YOLO_Dataset_Main/train/labels/002418.txt           \b\b\b\b 79%\b\b\b\b\b  OK \n",
            "Extracting  /content/YOLO_Dataset_Main/train/labels/002419.txt           \b\b\b\b 79%\b\b\b\b\b  OK \n",
            "Extracting  /content/YOLO_Dataset_Main/train/labels/002420.txt           \b\b\b\b 79%\b\b\b\b\b  OK \n",
            "Extracting  /content/YOLO_Dataset_Main/train/labels/002421.txt           \b\b\b\b 79%\b\b\b\b\b  OK \n",
            "Extracting  /content/YOLO_Dataset_Main/train/labels/002423.txt           \b\b\b\b 79%\b\b\b\b\b  OK \n",
            "Extracting  /content/YOLO_Dataset_Main/train/labels/002424.txt           \b\b\b\b 79%\b\b\b\b\b  OK \n",
            "Extracting  /content/YOLO_Dataset_Main/train/labels/002426.txt           \b\b\b\b 79%\b\b\b\b\b  OK \n",
            "Extracting  /content/YOLO_Dataset_Main/train/labels/002427.txt           \b\b\b\b 79%\b\b\b\b\b  OK \n",
            "Extracting  /content/YOLO_Dataset_Main/train/labels/002428.txt           \b\b\b\b 79%\b\b\b\b\b  OK \n",
            "Extracting  /content/YOLO_Dataset_Main/train/labels/002429.txt           \b\b\b\b 79%\b\b\b\b\b  OK \n",
            "Extracting  /content/YOLO_Dataset_Main/train/labels/002430.txt           \b\b\b\b 79%\b\b\b\b\b  OK \n",
            "Extracting  /content/YOLO_Dataset_Main/train/labels/002432.txt           \b\b\b\b 79%\b\b\b\b\b  OK \n",
            "Extracting  /content/YOLO_Dataset_Main/train/labels/002433.txt           \b\b\b\b 79%\b\b\b\b\b  OK \n",
            "Extracting  /content/YOLO_Dataset_Main/train/labels/002435.txt           \b\b\b\b 79%\b\b\b\b\b  OK \n",
            "Extracting  /content/YOLO_Dataset_Main/train/labels/002436.txt           \b\b\b\b 79%\b\b\b\b\b  OK \n",
            "Extracting  /content/YOLO_Dataset_Main/train/labels/002437.txt           \b\b\b\b 79%\b\b\b\b\b  OK \n",
            "Extracting  /content/YOLO_Dataset_Main/train/labels/002438.txt           \b\b\b\b 79%\b\b\b\b\b  OK \n",
            "Extracting  /content/YOLO_Dataset_Main/train/labels/002439.txt           \b\b\b\b 79%\b\b\b\b\b  OK \n",
            "Extracting  /content/YOLO_Dataset_Main/train/labels/002440.txt           \b\b\b\b 79%\b\b\b\b\b  OK \n",
            "Extracting  /content/YOLO_Dataset_Main/train/labels/002441.txt           \b\b\b\b 79%\b\b\b\b\b  OK \n",
            "Extracting  /content/YOLO_Dataset_Main/train/labels/002442.txt           \b\b\b\b 79%\b\b\b\b\b  OK \n",
            "Extracting  /content/YOLO_Dataset_Main/train/labels/002443.txt           \b\b\b\b 79%\b\b\b\b\b  OK \n",
            "Extracting  /content/YOLO_Dataset_Main/train/labels/002444.txt           \b\b\b\b 79%\b\b\b\b\b  OK \n",
            "Extracting  /content/YOLO_Dataset_Main/train/labels/002445.txt           \b\b\b\b 79%\b\b\b\b\b  OK \n",
            "Extracting  /content/YOLO_Dataset_Main/train/labels/002446.txt           \b\b\b\b 79%\b\b\b\b\b  OK \n",
            "Extracting  /content/YOLO_Dataset_Main/train/labels/002448.txt           \b\b\b\b 79%\b\b\b\b\b  OK \n",
            "Extracting  /content/YOLO_Dataset_Main/train/labels/002450.txt           \b\b\b\b 79%\b\b\b\b\b  OK \n",
            "Extracting  /content/YOLO_Dataset_Main/train/labels/002452.txt           \b\b\b\b 79%\b\b\b\b\b  OK \n",
            "Extracting  /content/YOLO_Dataset_Main/train/labels/002453.txt           \b\b\b\b 79%\b\b\b\b\b  OK \n",
            "Extracting  /content/YOLO_Dataset_Main/train/labels/002454.txt           \b\b\b\b 79%\b\b\b\b\b  OK \n",
            "Extracting  /content/YOLO_Dataset_Main/train/labels/002455.txt           \b\b\b\b 79%\b\b\b\b\b  OK \n",
            "Extracting  /content/YOLO_Dataset_Main/train/labels/002456.txt           \b\b\b\b 79%\b\b\b\b\b  OK \n",
            "Extracting  /content/YOLO_Dataset_Main/train/labels/002457.txt           \b\b\b\b 79%\b\b\b\b\b  OK \n",
            "Extracting  /content/YOLO_Dataset_Main/train/labels/002459.txt           \b\b\b\b 79%\b\b\b\b\b  OK \n",
            "Extracting  /content/YOLO_Dataset_Main/train/labels/002460.txt           \b\b\b\b 79%\b\b\b\b\b  OK \n",
            "Extracting  /content/YOLO_Dataset_Main/train/labels/002461.txt           \b\b\b\b 79%\b\b\b\b\b  OK \n",
            "Extracting  /content/YOLO_Dataset_Main/train/labels/002462.txt           \b\b\b\b 79%\b\b\b\b\b  OK \n",
            "Extracting  /content/YOLO_Dataset_Main/train/labels/002463.txt           \b\b\b\b 79%\b\b\b\b\b  OK \n",
            "Extracting  /content/YOLO_Dataset_Main/train/labels/002464.txt           \b\b\b\b 79%\b\b\b\b\b  OK \n",
            "Extracting  /content/YOLO_Dataset_Main/train/labels/002466.txt           \b\b\b\b 79%\b\b\b\b\b  OK \n",
            "Extracting  /content/YOLO_Dataset_Main/train/labels/002467.txt           \b\b\b\b 79%\b\b\b\b\b  OK \n",
            "Extracting  /content/YOLO_Dataset_Main/train/labels/002468.txt           \b\b\b\b 79%\b\b\b\b\b  OK \n",
            "Extracting  /content/YOLO_Dataset_Main/train/labels/002469.txt           \b\b\b\b 79%\b\b\b\b\b  OK \n",
            "Extracting  /content/YOLO_Dataset_Main/train/labels/002470.txt           \b\b\b\b 79%\b\b\b\b\b  OK \n",
            "Extracting  /content/YOLO_Dataset_Main/train/labels/002472.txt           \b\b\b\b 79%\b\b\b\b\b  OK \n",
            "Extracting  /content/YOLO_Dataset_Main/train/labels/002473.txt           \b\b\b\b 79%\b\b\b\b\b  OK \n",
            "Extracting  /content/YOLO_Dataset_Main/train/labels/002474.txt           \b\b\b\b 79%\b\b\b\b\b  OK \n",
            "Extracting  /content/YOLO_Dataset_Main/train/labels/002475.txt           \b\b\b\b 79%\b\b\b\b\b  OK \n",
            "Extracting  /content/YOLO_Dataset_Main/train/labels/002476.txt           \b\b\b\b 79%\b\b\b\b\b  OK \n",
            "Extracting  /content/YOLO_Dataset_Main/train/labels/002478.txt           \b\b\b\b 79%\b\b\b\b\b  OK \n",
            "Extracting  /content/YOLO_Dataset_Main/train/labels/002480.txt           \b\b\b\b 79%\b\b\b\b\b  OK \n",
            "Extracting  /content/YOLO_Dataset_Main/train/labels/002481.txt           \b\b\b\b 79%\b\b\b\b\b  OK \n",
            "Extracting  /content/YOLO_Dataset_Main/train/labels/002484.txt           \b\b\b\b 79%\b\b\b\b\b  OK \n",
            "Extracting  /content/YOLO_Dataset_Main/train/labels/002485.txt           \b\b\b\b 79%\b\b\b\b\b  OK \n",
            "Extracting  /content/YOLO_Dataset_Main/train/labels/002486.txt           \b\b\b\b 79%\b\b\b\b\b  OK \n",
            "Extracting  /content/YOLO_Dataset_Main/train/labels/002487.txt           \b\b\b\b 79%\b\b\b\b\b  OK \n",
            "Extracting  /content/YOLO_Dataset_Main/train/labels/002488.txt           \b\b\b\b 79%\b\b\b\b\b  OK \n",
            "Extracting  /content/YOLO_Dataset_Main/train/labels/002489.txt           \b\b\b\b 79%\b\b\b\b\b  OK \n",
            "Extracting  /content/YOLO_Dataset_Main/train/labels/002491.txt           \b\b\b\b 79%\b\b\b\b\b  OK \n",
            "Extracting  /content/YOLO_Dataset_Main/train/labels/002492.txt           \b\b\b\b 79%\b\b\b\b\b  OK \n",
            "Extracting  /content/YOLO_Dataset_Main/train/labels/002493.txt           \b\b\b\b 79%\b\b\b\b\b  OK \n",
            "Extracting  /content/YOLO_Dataset_Main/train/labels/002494.txt           \b\b\b\b 79%\b\b\b\b\b  OK \n",
            "Extracting  /content/YOLO_Dataset_Main/train/labels/002495.txt           \b\b\b\b 79%\b\b\b\b\b  OK \n",
            "Extracting  /content/YOLO_Dataset_Main/train/labels/002497.txt           \b\b\b\b 79%\b\b\b\b\b  OK \n",
            "Extracting  /content/YOLO_Dataset_Main/train/labels/002498.txt           \b\b\b\b 79%\b\b\b\b\b  OK \n",
            "Extracting  /content/YOLO_Dataset_Main/train/labels/002499.txt           \b\b\b\b 79%\b\b\b\b\b  OK \n",
            "Extracting  /content/YOLO_Dataset_Main/train/labels/002500.txt           \b\b\b\b 79%\b\b\b\b\b  OK \n",
            "Extracting  /content/YOLO_Dataset_Main/train/labels/002501.txt           \b\b\b\b 79%\b\b\b\b\b  OK \n",
            "Extracting  /content/YOLO_Dataset_Main/train/labels/002502.txt           \b\b\b\b 79%\b\b\b\b\b  OK \n",
            "Extracting  /content/YOLO_Dataset_Main/train/labels/002503.txt           \b\b\b\b 79%\b\b\b\b\b  OK \n",
            "Extracting  /content/YOLO_Dataset_Main/train/labels/002504.txt           \b\b\b\b 79%\b\b\b\b\b  OK \n",
            "Extracting  /content/YOLO_Dataset_Main/train/labels/002505.txt           \b\b\b\b 79%\b\b\b\b\b  OK \n",
            "Extracting  /content/YOLO_Dataset_Main/train/labels/002506.txt           \b\b\b\b 79%\b\b\b\b\b  OK \n",
            "Extracting  /content/YOLO_Dataset_Main/train/labels/002507.txt           \b\b\b\b 79%\b\b\b\b\b  OK \n",
            "Extracting  /content/YOLO_Dataset_Main/train/labels/002508.txt           \b\b\b\b 79%\b\b\b\b\b  OK \n",
            "Extracting  /content/YOLO_Dataset_Main/train/labels/002509.txt           \b\b\b\b 79%\b\b\b\b\b  OK \n",
            "Extracting  /content/YOLO_Dataset_Main/train/labels/002510.txt           \b\b\b\b 79%\b\b\b\b\b  OK \n",
            "Extracting  /content/YOLO_Dataset_Main/train/labels/002512.txt           \b\b\b\b 79%\b\b\b\b\b  OK \n",
            "Extracting  /content/YOLO_Dataset_Main/train/labels/002513.txt           \b\b\b\b 79%\b\b\b\b\b  OK \n",
            "Extracting  /content/YOLO_Dataset_Main/train/labels/002514.txt           \b\b\b\b 79%\b\b\b\b\b  OK \n",
            "Extracting  /content/YOLO_Dataset_Main/train/labels/002515.txt           \b\b\b\b 79%\b\b\b\b\b  OK \n",
            "Extracting  /content/YOLO_Dataset_Main/train/labels/002516.txt           \b\b\b\b 79%\b\b\b\b\b  OK \n",
            "Extracting  /content/YOLO_Dataset_Main/train/labels/002517.txt           \b\b\b\b 79%\b\b\b\b\b  OK \n",
            "Extracting  /content/YOLO_Dataset_Main/train/labels/002519.txt           \b\b\b\b 79%\b\b\b\b\b  OK \n",
            "Extracting  /content/YOLO_Dataset_Main/train/labels/002520.txt           \b\b\b\b 79%\b\b\b\b\b  OK \n",
            "Extracting  /content/YOLO_Dataset_Main/train/labels/002522.txt           \b\b\b\b 79%\b\b\b\b\b  OK \n",
            "Extracting  /content/YOLO_Dataset_Main/train/labels/002523.txt           \b\b\b\b 79%\b\b\b\b\b  OK \n",
            "Extracting  /content/YOLO_Dataset_Main/train/labels/002524.txt           \b\b\b\b 79%\b\b\b\b\b  OK \n",
            "Extracting  /content/YOLO_Dataset_Main/train/labels/002525.txt           \b\b\b\b 79%\b\b\b\b\b  OK \n",
            "Extracting  /content/YOLO_Dataset_Main/train/labels/002527.txt           \b\b\b\b 79%\b\b\b\b\b  OK \n",
            "Extracting  /content/YOLO_Dataset_Main/train/labels/002528.txt           \b\b\b\b 79%\b\b\b\b\b  OK \n",
            "Extracting  /content/YOLO_Dataset_Main/train/labels/002529.txt           \b\b\b\b 79%\b\b\b\b\b  OK \n",
            "Extracting  /content/YOLO_Dataset_Main/train/labels/002530.txt           \b\b\b\b 79%\b\b\b\b\b  OK \n",
            "Extracting  /content/YOLO_Dataset_Main/train/labels/002531.txt           \b\b\b\b 79%\b\b\b\b\b  OK \n",
            "Extracting  /content/YOLO_Dataset_Main/train/labels/002532.txt           \b\b\b\b 79%\b\b\b\b\b  OK \n",
            "Extracting  /content/YOLO_Dataset_Main/train/labels/002533.txt           \b\b\b\b 79%\b\b\b\b\b  OK \n",
            "Extracting  /content/YOLO_Dataset_Main/train/labels/002534.txt           \b\b\b\b 79%\b\b\b\b\b  OK \n",
            "Extracting  /content/YOLO_Dataset_Main/train/labels/002535.txt           \b\b\b\b 79%\b\b\b\b\b  OK \n",
            "Extracting  /content/YOLO_Dataset_Main/train/labels/002536.txt           \b\b\b\b 79%\b\b\b\b\b  OK \n",
            "Extracting  /content/YOLO_Dataset_Main/train/labels/002537.txt           \b\b\b\b 79%\b\b\b\b\b  OK \n",
            "Extracting  /content/YOLO_Dataset_Main/train/labels/002538.txt           \b\b\b\b 79%\b\b\b\b\b  OK \n",
            "Extracting  /content/YOLO_Dataset_Main/train/labels/002539.txt           \b\b\b\b 79%\b\b\b\b\b  OK \n",
            "Extracting  /content/YOLO_Dataset_Main/train/labels/002540.txt           \b\b\b\b 79%\b\b\b\b\b  OK \n",
            "Extracting  /content/YOLO_Dataset_Main/train/labels/002541.txt           \b\b\b\b 79%\b\b\b\b\b  OK \n",
            "Extracting  /content/YOLO_Dataset_Main/train/labels/002542.txt           \b\b\b\b 79%\b\b\b\b\b  OK \n",
            "Extracting  /content/YOLO_Dataset_Main/train/labels/002543.txt           \b\b\b\b 79%\b\b\b\b\b  OK \n",
            "Extracting  /content/YOLO_Dataset_Main/train/labels/002544.txt           \b\b\b\b 79%\b\b\b\b\b  OK \n",
            "Extracting  /content/YOLO_Dataset_Main/train/labels/002545.txt           \b\b\b\b 79%\b\b\b\b\b  OK \n",
            "Extracting  /content/YOLO_Dataset_Main/train/labels/002548.txt           \b\b\b\b 79%\b\b\b\b\b  OK \n",
            "Extracting  /content/YOLO_Dataset_Main/train/labels/002549.txt           \b\b\b\b 79%\b\b\b\b\b  OK \n",
            "Extracting  /content/YOLO_Dataset_Main/train/labels/002551.txt           \b\b\b\b 79%\b\b\b\b\b  OK \n",
            "Extracting  /content/YOLO_Dataset_Main/train/labels/002553.txt           \b\b\b\b 79%\b\b\b\b\b  OK \n",
            "Extracting  /content/YOLO_Dataset_Main/train/labels/002554.txt           \b\b\b\b 79%\b\b\b\b\b  OK \n",
            "Extracting  /content/YOLO_Dataset_Main/train/labels/002555.txt           \b\b\b\b 79%\b\b\b\b\b  OK \n",
            "Extracting  /content/YOLO_Dataset_Main/train/labels/002556.txt           \b\b\b\b 79%\b\b\b\b\b  OK \n",
            "Extracting  /content/YOLO_Dataset_Main/train/labels/002558.txt           \b\b\b\b 79%\b\b\b\b\b  OK \n",
            "Extracting  /content/YOLO_Dataset_Main/train/labels/002559.txt           \b\b\b\b 79%\b\b\b\b\b  OK \n",
            "Extracting  /content/YOLO_Dataset_Main/train/labels/002561.txt           \b\b\b\b 79%\b\b\b\b\b  OK \n",
            "Extracting  /content/YOLO_Dataset_Main/train/labels/002563.txt           \b\b\b\b 79%\b\b\b\b\b  OK \n",
            "Extracting  /content/YOLO_Dataset_Main/train/labels/002564.txt           \b\b\b\b 79%\b\b\b\b\b  OK \n",
            "Extracting  /content/YOLO_Dataset_Main/train/labels/002566.txt           \b\b\b\b 79%\b\b\b\b\b  OK \n",
            "Extracting  /content/YOLO_Dataset_Main/train/labels/002567.txt           \b\b\b\b 79%\b\b\b\b\b  OK \n",
            "Extracting  /content/YOLO_Dataset_Main/train/labels/002568.txt           \b\b\b\b 79%\b\b\b\b\b  OK \n",
            "Extracting  /content/YOLO_Dataset_Main/train/labels/002569.txt           \b\b\b\b 79%\b\b\b\b\b  OK \n",
            "Extracting  /content/YOLO_Dataset_Main/train/labels/002570.txt           \b\b\b\b 79%\b\b\b\b\b  OK \n",
            "Extracting  /content/YOLO_Dataset_Main/train/labels/002571.txt           \b\b\b\b 79%\b\b\b\b\b  OK \n",
            "Extracting  /content/YOLO_Dataset_Main/train/labels/002572.txt           \b\b\b\b 79%\b\b\b\b\b  OK \n",
            "Extracting  /content/YOLO_Dataset_Main/train/labels/002573.txt           \b\b\b\b 79%\b\b\b\b\b  OK \n",
            "Extracting  /content/YOLO_Dataset_Main/train/labels/002575.txt           \b\b\b\b 79%\b\b\b\b\b  OK \n",
            "Extracting  /content/YOLO_Dataset_Main/train/labels/002576.txt           \b\b\b\b 79%\b\b\b\b\b  OK \n",
            "Extracting  /content/YOLO_Dataset_Main/train/labels/002577.txt           \b\b\b\b 79%\b\b\b\b\b  OK \n",
            "Extracting  /content/YOLO_Dataset_Main/train/labels/002579.txt           \b\b\b\b 79%\b\b\b\b\b  OK \n",
            "Extracting  /content/YOLO_Dataset_Main/train/labels/002580.txt           \b\b\b\b 79%\b\b\b\b\b  OK \n",
            "Extracting  /content/YOLO_Dataset_Main/train/labels/002581.txt           \b\b\b\b 79%\b\b\b\b\b  OK \n",
            "Extracting  /content/YOLO_Dataset_Main/train/labels/002582.txt           \b\b\b\b 79%\b\b\b\b\b  OK \n",
            "Extracting  /content/YOLO_Dataset_Main/train/labels/002584.txt           \b\b\b\b 79%\b\b\b\b\b  OK \n",
            "Extracting  /content/YOLO_Dataset_Main/train/labels/002585.txt           \b\b\b\b 79%\b\b\b\b\b  OK \n",
            "Extracting  /content/YOLO_Dataset_Main/train/labels/002588.txt           \b\b\b\b 79%\b\b\b\b\b  OK \n",
            "Extracting  /content/YOLO_Dataset_Main/train/labels/002589.txt           \b\b\b\b 79%\b\b\b\b\b  OK \n",
            "Extracting  /content/YOLO_Dataset_Main/train/labels/002590.txt           \b\b\b\b 79%\b\b\b\b\b  OK \n",
            "Extracting  /content/YOLO_Dataset_Main/train/labels/002592.txt           \b\b\b\b 79%\b\b\b\b\b  OK \n",
            "Extracting  /content/YOLO_Dataset_Main/train/labels/002593.txt           \b\b\b\b 79%\b\b\b\b\b  OK \n",
            "Extracting  /content/YOLO_Dataset_Main/train/labels/002594.txt           \b\b\b\b 79%\b\b\b\b\b  OK \n",
            "Extracting  /content/YOLO_Dataset_Main/train/labels/002595.txt           \b\b\b\b 79%\b\b\b\b\b  OK \n",
            "Extracting  /content/YOLO_Dataset_Main/train/labels/002596.txt           \b\b\b\b 79%\b\b\b\b\b  OK \n",
            "Extracting  /content/YOLO_Dataset_Main/train/labels/002597.txt           \b\b\b\b 79%\b\b\b\b\b  OK \n",
            "Extracting  /content/YOLO_Dataset_Main/train/labels/002599.txt           \b\b\b\b 79%\b\b\b\b\b  OK \n",
            "Extracting  /content/YOLO_Dataset_Main/train/labels/002600.txt           \b\b\b\b 79%\b\b\b\b\b  OK \n",
            "Extracting  /content/YOLO_Dataset_Main/train/labels/002602.txt           \b\b\b\b 79%\b\b\b\b\b  OK \n",
            "Extracting  /content/YOLO_Dataset_Main/train/labels/002603.txt           \b\b\b\b 79%\b\b\b\b\b  OK \n",
            "Extracting  /content/YOLO_Dataset_Main/train/labels/002604.txt           \b\b\b\b 79%\b\b\b\b\b  OK \n",
            "Extracting  /content/YOLO_Dataset_Main/train/labels/002606.txt           \b\b\b\b 79%\b\b\b\b\b  OK \n",
            "Extracting  /content/YOLO_Dataset_Main/train/labels/002607.txt           \b\b\b\b 79%\b\b\b\b\b  OK \n",
            "Extracting  /content/YOLO_Dataset_Main/train/labels/002609.txt           \b\b\b\b 79%\b\b\b\b\b  OK \n",
            "Extracting  /content/YOLO_Dataset_Main/train/labels/002612.txt           \b\b\b\b 79%\b\b\b\b\b  OK \n",
            "Extracting  /content/YOLO_Dataset_Main/train/labels/002613.txt           \b\b\b\b 79%\b\b\b\b\b  OK \n",
            "Extracting  /content/YOLO_Dataset_Main/train/labels/002614.txt           \b\b\b\b 79%\b\b\b\b\b  OK \n",
            "Extracting  /content/YOLO_Dataset_Main/train/labels/002615.txt           \b\b\b\b 79%\b\b\b\b\b  OK \n",
            "Extracting  /content/YOLO_Dataset_Main/train/labels/002616.txt           \b\b\b\b 79%\b\b\b\b\b  OK \n",
            "Extracting  /content/YOLO_Dataset_Main/train/labels/002617.txt           \b\b\b\b 79%\b\b\b\b\b  OK \n",
            "Extracting  /content/YOLO_Dataset_Main/train/labels/002618.txt           \b\b\b\b 79%\b\b\b\b\b  OK \n",
            "Extracting  /content/YOLO_Dataset_Main/train/labels/002619.txt           \b\b\b\b 79%\b\b\b\b\b  OK \n",
            "Extracting  /content/YOLO_Dataset_Main/train/labels/002620.txt           \b\b\b\b 79%\b\b\b\b\b  OK \n",
            "Extracting  /content/YOLO_Dataset_Main/train/labels/002621.txt           \b\b\b\b 79%\b\b\b\b\b  OK \n",
            "Extracting  /content/YOLO_Dataset_Main/train/labels/002622.txt           \b\b\b\b 79%\b\b\b\b\b  OK \n",
            "Extracting  /content/YOLO_Dataset_Main/train/labels/002623.txt           \b\b\b\b 79%\b\b\b\b\b  OK \n",
            "Extracting  /content/YOLO_Dataset_Main/train/labels/002624.txt           \b\b\b\b 79%\b\b\b\b\b  OK \n",
            "Extracting  /content/YOLO_Dataset_Main/train/labels/002626.txt           \b\b\b\b 79%\b\b\b\b\b  OK \n",
            "Extracting  /content/YOLO_Dataset_Main/train/labels/002628.txt           \b\b\b\b 79%\b\b\b\b\b  OK \n",
            "Extracting  /content/YOLO_Dataset_Main/train/labels/002629.txt           \b\b\b\b 79%\b\b\b\b\b  OK \n",
            "Extracting  /content/YOLO_Dataset_Main/train/labels/002630.txt           \b\b\b\b 79%\b\b\b\b\b  OK \n",
            "Extracting  /content/YOLO_Dataset_Main/train/labels/002631.txt           \b\b\b\b 79%\b\b\b\b\b  OK \n",
            "Extracting  /content/YOLO_Dataset_Main/train/labels/002632.txt           \b\b\b\b 79%\b\b\b\b\b  OK \n",
            "Extracting  /content/YOLO_Dataset_Main/train/labels/002634.txt           \b\b\b\b 79%\b\b\b\b\b  OK \n",
            "Extracting  /content/YOLO_Dataset_Main/train/labels/002635.txt           \b\b\b\b 79%\b\b\b\b\b  OK \n",
            "Extracting  /content/YOLO_Dataset_Main/train/labels/002636.txt           \b\b\b\b 79%\b\b\b\b\b  OK \n",
            "Extracting  /content/YOLO_Dataset_Main/train/labels/002637.txt           \b\b\b\b 79%\b\b\b\b\b  OK \n",
            "Extracting  /content/YOLO_Dataset_Main/train/labels/002639.txt           \b\b\b\b 79%\b\b\b\b\b  OK \n",
            "Extracting  /content/YOLO_Dataset_Main/train/labels/002640.txt           \b\b\b\b 79%\b\b\b\b\b  OK \n",
            "Extracting  /content/YOLO_Dataset_Main/train/labels/002641.txt           \b\b\b\b 79%\b\b\b\b\b  OK \n",
            "Extracting  /content/YOLO_Dataset_Main/train/labels/002642.txt           \b\b\b\b 79%\b\b\b\b\b  OK \n",
            "Extracting  /content/YOLO_Dataset_Main/train/labels/002643.txt           \b\b\b\b 79%\b\b\b\b\b  OK \n",
            "Extracting  /content/YOLO_Dataset_Main/train/labels/002644.txt           \b\b\b\b 79%\b\b\b\b\b  OK \n",
            "Extracting  /content/YOLO_Dataset_Main/train/labels/002645.txt           \b\b\b\b 79%\b\b\b\b\b  OK \n",
            "Extracting  /content/YOLO_Dataset_Main/train/labels/002646.txt           \b\b\b\b 79%\b\b\b\b\b  OK \n",
            "Extracting  /content/YOLO_Dataset_Main/train/labels/002647.txt           \b\b\b\b 79%\b\b\b\b\b  OK \n",
            "Extracting  /content/YOLO_Dataset_Main/train/labels/002648.txt           \b\b\b\b 79%\b\b\b\b\b  OK \n",
            "Extracting  /content/YOLO_Dataset_Main/train/labels/002649.txt           \b\b\b\b 79%\b\b\b\b\b  OK \n",
            "Extracting  /content/YOLO_Dataset_Main/train/labels/002650.txt           \b\b\b\b 79%\b\b\b\b\b  OK \n",
            "Extracting  /content/YOLO_Dataset_Main/train/labels/002651.txt           \b\b\b\b 79%\b\b\b\b\b  OK \n",
            "Extracting  /content/YOLO_Dataset_Main/train/labels/002652.txt           \b\b\b\b 79%\b\b\b\b\b  OK \n",
            "Extracting  /content/YOLO_Dataset_Main/train/labels/002653.txt           \b\b\b\b 79%\b\b\b\b\b  OK \n",
            "Extracting  /content/YOLO_Dataset_Main/train/labels/002654.txt           \b\b\b\b 79%\b\b\b\b\b  OK \n",
            "Extracting  /content/YOLO_Dataset_Main/train/labels/002655.txt           \b\b\b\b 79%\b\b\b\b\b  OK \n",
            "Extracting  /content/YOLO_Dataset_Main/train/labels/002656.txt           \b\b\b\b 79%\b\b\b\b\b  OK \n",
            "Extracting  /content/YOLO_Dataset_Main/train/labels/002657.txt           \b\b\b\b 79%\b\b\b\b\b  OK \n",
            "Extracting  /content/YOLO_Dataset_Main/train/labels/002658.txt           \b\b\b\b 79%\b\b\b\b\b  OK \n",
            "Extracting  /content/YOLO_Dataset_Main/train/labels/002660.txt           \b\b\b\b 79%\b\b\b\b\b  OK \n",
            "Extracting  /content/YOLO_Dataset_Main/train/labels/002662.txt           \b\b\b\b 79%\b\b\b\b\b  OK \n",
            "Extracting  /content/YOLO_Dataset_Main/train/labels/002663.txt           \b\b\b\b 79%\b\b\b\b\b  OK \n",
            "Extracting  /content/YOLO_Dataset_Main/train/labels/002666.txt           \b\b\b\b 79%\b\b\b\b\b  OK \n",
            "Extracting  /content/YOLO_Dataset_Main/train/labels/002668.txt           \b\b\b\b 79%\b\b\b\b\b  OK \n",
            "Extracting  /content/YOLO_Dataset_Main/train/labels/002669.txt           \b\b\b\b 79%\b\b\b\b\b  OK \n",
            "Extracting  /content/YOLO_Dataset_Main/train/labels/002670.txt           \b\b\b\b 79%\b\b\b\b\b  OK \n",
            "Extracting  /content/YOLO_Dataset_Main/train/labels/002671.txt           \b\b\b\b 79%\b\b\b\b\b  OK \n",
            "Extracting  /content/YOLO_Dataset_Main/train/labels/002672.txt           \b\b\b\b 79%\b\b\b\b\b  OK \n",
            "Extracting  /content/YOLO_Dataset_Main/train/labels/002673.txt           \b\b\b\b 79%\b\b\b\b\b  OK \n",
            "Extracting  /content/YOLO_Dataset_Main/train/labels/002674.txt           \b\b\b\b 79%\b\b\b\b\b  OK \n",
            "Extracting  /content/YOLO_Dataset_Main/train/labels/002676.txt           \b\b\b\b 79%\b\b\b\b\b  OK \n",
            "Extracting  /content/YOLO_Dataset_Main/train/labels/002677.txt           \b\b\b\b 79%\b\b\b\b\b  OK \n",
            "Extracting  /content/YOLO_Dataset_Main/train/labels/002678.txt           \b\b\b\b 79%\b\b\b\b\b  OK \n",
            "Extracting  /content/YOLO_Dataset_Main/train/labels/002679.txt           \b\b\b\b 79%\b\b\b\b\b  OK \n",
            "Extracting  /content/YOLO_Dataset_Main/train/labels/002680.txt           \b\b\b\b 79%\b\b\b\b\b  OK \n",
            "Extracting  /content/YOLO_Dataset_Main/train/labels/002682.txt           \b\b\b\b 79%\b\b\b\b\b  OK \n",
            "Extracting  /content/YOLO_Dataset_Main/train/labels/002683.txt           \b\b\b\b 79%\b\b\b\b\b  OK \n",
            "Extracting  /content/YOLO_Dataset_Main/train/labels/002684.txt           \b\b\b\b 79%\b\b\b\b\b  OK \n",
            "Extracting  /content/YOLO_Dataset_Main/train/labels/002685.txt           \b\b\b\b 79%\b\b\b\b\b  OK \n",
            "Extracting  /content/YOLO_Dataset_Main/train/labels/002686.txt           \b\b\b\b 79%\b\b\b\b\b  OK \n",
            "Extracting  /content/YOLO_Dataset_Main/train/labels/002687.txt           \b\b\b\b 79%\b\b\b\b\b  OK \n",
            "Extracting  /content/YOLO_Dataset_Main/train/labels/002688.txt           \b\b\b\b 79%\b\b\b\b\b  OK \n",
            "Extracting  /content/YOLO_Dataset_Main/train/labels/002689.txt           \b\b\b\b 79%\b\b\b\b\b  OK \n",
            "Extracting  /content/YOLO_Dataset_Main/train/labels/002690.txt           \b\b\b\b 79%\b\b\b\b\b  OK \n",
            "Extracting  /content/YOLO_Dataset_Main/train/labels/002691.txt           \b\b\b\b 79%\b\b\b\b\b  OK \n",
            "Extracting  /content/YOLO_Dataset_Main/train/labels/002692.txt           \b\b\b\b 79%\b\b\b\b\b  OK \n",
            "Extracting  /content/YOLO_Dataset_Main/train/labels/002693.txt           \b\b\b\b 79%\b\b\b\b\b  OK \n",
            "Extracting  /content/YOLO_Dataset_Main/train/labels/002694.txt           \b\b\b\b 79%\b\b\b\b\b  OK \n",
            "Extracting  /content/YOLO_Dataset_Main/train/labels/002695.txt           \b\b\b\b 79%\b\b\b\b\b  OK \n",
            "Extracting  /content/YOLO_Dataset_Main/train/labels/002696.txt           \b\b\b\b 79%\b\b\b\b\b  OK \n",
            "Extracting  /content/YOLO_Dataset_Main/train/labels/002697.txt           \b\b\b\b 79%\b\b\b\b\b  OK \n",
            "Extracting  /content/YOLO_Dataset_Main/train/labels/002699.txt           \b\b\b\b 79%\b\b\b\b\b  OK \n",
            "Extracting  /content/YOLO_Dataset_Main/train/labels/002700.txt           \b\b\b\b 79%\b\b\b\b\b  OK \n",
            "Extracting  /content/YOLO_Dataset_Main/train/labels/002702.txt           \b\b\b\b 79%\b\b\b\b\b  OK \n",
            "Extracting  /content/YOLO_Dataset_Main/train/labels/002703.txt           \b\b\b\b 79%\b\b\b\b\b  OK \n",
            "Extracting  /content/YOLO_Dataset_Main/train/labels/002706.txt           \b\b\b\b 79%\b\b\b\b\b  OK \n",
            "Extracting  /content/YOLO_Dataset_Main/train/labels/002707.txt           \b\b\b\b 79%\b\b\b\b\b  OK \n",
            "Extracting  /content/YOLO_Dataset_Main/train/labels/002709.txt           \b\b\b\b 79%\b\b\b\b\b  OK \n",
            "Extracting  /content/YOLO_Dataset_Main/train/labels/002711.txt           \b\b\b\b 79%\b\b\b\b\b  OK \n",
            "Extracting  /content/YOLO_Dataset_Main/train/labels/002713.txt           \b\b\b\b 79%\b\b\b\b\b  OK \n",
            "Extracting  /content/YOLO_Dataset_Main/train/labels/002715.txt           \b\b\b\b 79%\b\b\b\b\b  OK \n",
            "Extracting  /content/YOLO_Dataset_Main/train/labels/002717.txt           \b\b\b\b 79%\b\b\b\b\b  OK \n",
            "Extracting  /content/YOLO_Dataset_Main/train/labels/002718.txt           \b\b\b\b 79%\b\b\b\b\b  OK \n",
            "Extracting  /content/YOLO_Dataset_Main/train/labels/002719.txt           \b\b\b\b 79%\b\b\b\b\b  OK \n",
            "Extracting  /content/YOLO_Dataset_Main/train/labels/002721.txt           \b\b\b\b 79%\b\b\b\b\b  OK \n",
            "Extracting  /content/YOLO_Dataset_Main/train/labels/002722.txt           \b\b\b\b 79%\b\b\b\b\b  OK \n",
            "Extracting  /content/YOLO_Dataset_Main/train/labels/002723.txt           \b\b\b\b 79%\b\b\b\b\b  OK \n",
            "Extracting  /content/YOLO_Dataset_Main/train/labels/002724.txt           \b\b\b\b 79%\b\b\b\b\b  OK \n",
            "Extracting  /content/YOLO_Dataset_Main/train/labels/002725.txt           \b\b\b\b 79%\b\b\b\b\b  OK \n",
            "Extracting  /content/YOLO_Dataset_Main/train/labels/002726.txt           \b\b\b\b 79%\b\b\b\b\b  OK \n",
            "Extracting  /content/YOLO_Dataset_Main/train/labels/002729.txt           \b\b\b\b 79%\b\b\b\b\b  OK \n",
            "Extracting  /content/YOLO_Dataset_Main/train/labels/002730.txt           \b\b\b\b 79%\b\b\b\b\b  OK \n",
            "Extracting  /content/YOLO_Dataset_Main/train/labels/002731.txt           \b\b\b\b 79%\b\b\b\b\b  OK \n",
            "Extracting  /content/YOLO_Dataset_Main/train/labels/002732.txt           \b\b\b\b 79%\b\b\b\b\b  OK \n",
            "Extracting  /content/YOLO_Dataset_Main/train/labels/002733.txt           \b\b\b\b 79%\b\b\b\b\b  OK \n",
            "Extracting  /content/YOLO_Dataset_Main/train/labels/002734.txt           \b\b\b\b 79%\b\b\b\b\b  OK \n",
            "Extracting  /content/YOLO_Dataset_Main/train/labels/002735.txt           \b\b\b\b 79%\b\b\b\b\b  OK \n",
            "Extracting  /content/YOLO_Dataset_Main/train/labels/002736.txt           \b\b\b\b 79%\b\b\b\b\b  OK \n",
            "Extracting  /content/YOLO_Dataset_Main/train/labels/002737.txt           \b\b\b\b 79%\b\b\b\b\b  OK \n",
            "Extracting  /content/YOLO_Dataset_Main/train/labels/002740.txt           \b\b\b\b 79%\b\b\b\b\b  OK \n",
            "Extracting  /content/YOLO_Dataset_Main/train/labels/002741.txt           \b\b\b\b 79%\b\b\b\b\b  OK \n",
            "Extracting  /content/YOLO_Dataset_Main/train/labels/002743.txt           \b\b\b\b 79%\b\b\b\b\b  OK \n",
            "Extracting  /content/YOLO_Dataset_Main/train/labels/002744.txt           \b\b\b\b 79%\b\b\b\b\b  OK \n",
            "Extracting  /content/YOLO_Dataset_Main/train/labels/002745.txt           \b\b\b\b 79%\b\b\b\b\b  OK \n",
            "Extracting  /content/YOLO_Dataset_Main/train/labels/002746.txt           \b\b\b\b 79%\b\b\b\b\b  OK \n",
            "Extracting  /content/YOLO_Dataset_Main/train/labels/002748.txt           \b\b\b\b 79%\b\b\b\b\b  OK \n",
            "Extracting  /content/YOLO_Dataset_Main/train/labels/002749.txt           \b\b\b\b 79%\b\b\b\b\b  OK \n",
            "Extracting  /content/YOLO_Dataset_Main/train/labels/002750.txt           \b\b\b\b 79%\b\b\b\b\b  OK \n",
            "Extracting  /content/YOLO_Dataset_Main/train/labels/002751.txt           \b\b\b\b 79%\b\b\b\b\b  OK \n",
            "Extracting  /content/YOLO_Dataset_Main/train/labels/002752.txt           \b\b\b\b 79%\b\b\b\b\b  OK \n",
            "Extracting  /content/YOLO_Dataset_Main/train/labels/002753.txt           \b\b\b\b 79%\b\b\b\b\b  OK \n",
            "Extracting  /content/YOLO_Dataset_Main/train/labels/002754.txt           \b\b\b\b 79%\b\b\b\b\b  OK \n",
            "Extracting  /content/YOLO_Dataset_Main/train/labels/002755.txt           \b\b\b\b 79%\b\b\b\b\b  OK \n",
            "Extracting  /content/YOLO_Dataset_Main/train/labels/002756.txt           \b\b\b\b 79%\b\b\b\b\b  OK \n",
            "Extracting  /content/YOLO_Dataset_Main/train/labels/002757.txt           \b\b\b\b 79%\b\b\b\b\b  OK \n",
            "Extracting  /content/YOLO_Dataset_Main/train/labels/002758.txt           \b\b\b\b 79%\b\b\b\b\b  OK \n",
            "Extracting  /content/YOLO_Dataset_Main/train/labels/002759.txt           \b\b\b\b 79%\b\b\b\b\b  OK \n",
            "Extracting  /content/YOLO_Dataset_Main/train/labels/002762.txt           \b\b\b\b 79%\b\b\b\b\b  OK \n",
            "Extracting  /content/YOLO_Dataset_Main/train/labels/002763.txt           \b\b\b\b 79%\b\b\b\b\b  OK \n",
            "Extracting  /content/YOLO_Dataset_Main/train/labels/002764.txt           \b\b\b\b 79%\b\b\b\b\b  OK \n",
            "Extracting  /content/YOLO_Dataset_Main/train/labels/002765.txt           \b\b\b\b 79%\b\b\b\b\b  OK \n",
            "Extracting  /content/YOLO_Dataset_Main/train/labels/002766.txt           \b\b\b\b 79%\b\b\b\b\b  OK \n",
            "Extracting  /content/YOLO_Dataset_Main/train/labels/002767.txt           \b\b\b\b 79%\b\b\b\b\b  OK \n",
            "Extracting  /content/YOLO_Dataset_Main/train/labels/002768.txt           \b\b\b\b 79%\b\b\b\b\b  OK \n",
            "Extracting  /content/YOLO_Dataset_Main/train/labels/002769.txt           \b\b\b\b 79%\b\b\b\b\b  OK \n",
            "Extracting  /content/YOLO_Dataset_Main/train/labels/002770.txt           \b\b\b\b 79%\b\b\b\b\b  OK \n",
            "Extracting  /content/YOLO_Dataset_Main/train/labels/002771.txt           \b\b\b\b 79%\b\b\b\b\b  OK \n",
            "Extracting  /content/YOLO_Dataset_Main/train/labels/002772.txt           \b\b\b\b 79%\b\b\b\b\b  OK \n",
            "Extracting  /content/YOLO_Dataset_Main/train/labels/002773.txt           \b\b\b\b 79%\b\b\b\b\b  OK \n",
            "Extracting  /content/YOLO_Dataset_Main/train/labels/002774.txt           \b\b\b\b 79%\b\b\b\b\b  OK \n",
            "Extracting  /content/YOLO_Dataset_Main/train/labels/002775.txt           \b\b\b\b 79%\b\b\b\b\b  OK \n",
            "Extracting  /content/YOLO_Dataset_Main/train/labels/002776.txt           \b\b\b\b 79%\b\b\b\b\b  OK \n",
            "Extracting  /content/YOLO_Dataset_Main/train/labels/002778.txt           \b\b\b\b 79%\b\b\b\b\b  OK \n",
            "Extracting  /content/YOLO_Dataset_Main/train/labels/002779.txt           \b\b\b\b 79%\b\b\b\b\b  OK \n",
            "Extracting  /content/YOLO_Dataset_Main/train/labels/002780.txt           \b\b\b\b 79%\b\b\b\b\b  OK \n",
            "Extracting  /content/YOLO_Dataset_Main/train/labels/002781.txt           \b\b\b\b 79%\b\b\b\b\b  OK \n",
            "Extracting  /content/YOLO_Dataset_Main/train/labels/002783.txt           \b\b\b\b 79%\b\b\b\b\b  OK \n",
            "Extracting  /content/YOLO_Dataset_Main/train/labels/002785.txt           \b\b\b\b 79%\b\b\b\b\b  OK \n",
            "Extracting  /content/YOLO_Dataset_Main/train/labels/002786.txt           \b\b\b\b 79%\b\b\b\b\b  OK \n",
            "Extracting  /content/YOLO_Dataset_Main/train/labels/002788.txt           \b\b\b\b 79%\b\b\b\b\b  OK \n",
            "Extracting  /content/YOLO_Dataset_Main/train/labels/002789.txt           \b\b\b\b 79%\b\b\b\b\b  OK \n",
            "Extracting  /content/YOLO_Dataset_Main/train/labels/002791.txt           \b\b\b\b 79%\b\b\b\b\b  OK \n",
            "Extracting  /content/YOLO_Dataset_Main/train/labels/002792.txt           \b\b\b\b 79%\b\b\b\b\b  OK \n",
            "Extracting  /content/YOLO_Dataset_Main/train/labels/002794.txt           \b\b\b\b 79%\b\b\b\b\b  OK \n",
            "Extracting  /content/YOLO_Dataset_Main/train/labels/002795.txt           \b\b\b\b 79%\b\b\b\b\b  OK \n",
            "Extracting  /content/YOLO_Dataset_Main/train/labels/002797.txt           \b\b\b\b 79%\b\b\b\b\b  OK \n",
            "Extracting  /content/YOLO_Dataset_Main/train/labels/002798.txt           \b\b\b\b 79%\b\b\b\b\b  OK \n",
            "Extracting  /content/YOLO_Dataset_Main/train/labels/002799.txt           \b\b\b\b 79%\b\b\b\b\b  OK \n",
            "Extracting  /content/YOLO_Dataset_Main/train/labels/002800.txt           \b\b\b\b 79%\b\b\b\b\b  OK \n",
            "Extracting  /content/YOLO_Dataset_Main/train/labels/002803.txt           \b\b\b\b 79%\b\b\b\b\b  OK \n",
            "Extracting  /content/YOLO_Dataset_Main/train/labels/002804.txt           \b\b\b\b 79%\b\b\b\b\b  OK \n",
            "Extracting  /content/YOLO_Dataset_Main/train/labels/002805.txt           \b\b\b\b 79%\b\b\b\b\b  OK \n",
            "Extracting  /content/YOLO_Dataset_Main/train/labels/002806.txt           \b\b\b\b 79%\b\b\b\b\b  OK \n",
            "Extracting  /content/YOLO_Dataset_Main/train/labels/002807.txt           \b\b\b\b 79%\b\b\b\b\b  OK \n",
            "Extracting  /content/YOLO_Dataset_Main/train/labels/002808.txt           \b\b\b\b 79%\b\b\b\b\b  OK \n",
            "Extracting  /content/YOLO_Dataset_Main/train/labels/002809.txt           \b\b\b\b 79%\b\b\b\b\b  OK \n",
            "Extracting  /content/YOLO_Dataset_Main/train/labels/002810.txt           \b\b\b\b 79%\b\b\b\b\b  OK \n",
            "Extracting  /content/YOLO_Dataset_Main/train/labels/002812.txt           \b\b\b\b 79%\b\b\b\b\b  OK \n",
            "Extracting  /content/YOLO_Dataset_Main/train/labels/002813.txt           \b\b\b\b 79%\b\b\b\b\b  OK \n",
            "Extracting  /content/YOLO_Dataset_Main/train/labels/002814.txt           \b\b\b\b 79%\b\b\b\b\b  OK \n",
            "Extracting  /content/YOLO_Dataset_Main/train/labels/002816.txt           \b\b\b\b 79%\b\b\b\b\b  OK \n",
            "Extracting  /content/YOLO_Dataset_Main/train/labels/002820.txt           \b\b\b\b 79%\b\b\b\b\b  OK \n",
            "Extracting  /content/YOLO_Dataset_Main/train/labels/002821.txt           \b\b\b\b 79%\b\b\b\b\b  OK \n",
            "Extracting  /content/YOLO_Dataset_Main/train/labels/002822.txt           \b\b\b\b 79%\b\b\b\b\b  OK \n",
            "Extracting  /content/YOLO_Dataset_Main/train/labels/002823.txt           \b\b\b\b 79%\b\b\b\b\b  OK \n",
            "Extracting  /content/YOLO_Dataset_Main/train/labels/002825.txt           \b\b\b\b 79%\b\b\b\b\b  OK \n",
            "Extracting  /content/YOLO_Dataset_Main/train/labels/002826.txt           \b\b\b\b 79%\b\b\b\b\b  OK \n",
            "Extracting  /content/YOLO_Dataset_Main/train/labels/002827.txt           \b\b\b\b 79%\b\b\b\b\b  OK \n",
            "Extracting  /content/YOLO_Dataset_Main/train/labels/002828.txt           \b\b\b\b 79%\b\b\b\b\b  OK \n",
            "Extracting  /content/YOLO_Dataset_Main/train/labels/002829.txt           \b\b\b\b 79%\b\b\b\b\b  OK \n",
            "Extracting  /content/YOLO_Dataset_Main/train/labels/002830.txt           \b\b\b\b 79%\b\b\b\b\b  OK \n",
            "Extracting  /content/YOLO_Dataset_Main/train/labels/002832.txt           \b\b\b\b 79%\b\b\b\b\b  OK \n",
            "Extracting  /content/YOLO_Dataset_Main/train/labels/002833.txt           \b\b\b\b 79%\b\b\b\b\b  OK \n",
            "Extracting  /content/YOLO_Dataset_Main/train/labels/002834.txt           \b\b\b\b 79%\b\b\b\b\b  OK \n",
            "Extracting  /content/YOLO_Dataset_Main/train/labels/002835.txt           \b\b\b\b 79%\b\b\b\b\b  OK \n",
            "Extracting  /content/YOLO_Dataset_Main/train/labels/002836.txt           \b\b\b\b 79%\b\b\b\b\b  OK \n",
            "Extracting  /content/YOLO_Dataset_Main/train/labels/002837.txt           \b\b\b\b 79%\b\b\b\b\b  OK \n",
            "Extracting  /content/YOLO_Dataset_Main/train/labels/002838.txt           \b\b\b\b 79%\b\b\b\b\b  OK \n",
            "Extracting  /content/YOLO_Dataset_Main/train/labels/002839.txt           \b\b\b\b 79%\b\b\b\b\b  OK \n",
            "Extracting  /content/YOLO_Dataset_Main/train/labels/002840.txt           \b\b\b\b 79%\b\b\b\b\b  OK \n",
            "Extracting  /content/YOLO_Dataset_Main/train/labels/002842.txt           \b\b\b\b 79%\b\b\b\b\b  OK \n",
            "Extracting  /content/YOLO_Dataset_Main/train/labels/002843.txt           \b\b\b\b 79%\b\b\b\b\b  OK \n",
            "Extracting  /content/YOLO_Dataset_Main/train/labels/002844.txt           \b\b\b\b 79%\b\b\b\b\b  OK \n",
            "Extracting  /content/YOLO_Dataset_Main/train/labels/002845.txt           \b\b\b\b 79%\b\b\b\b\b  OK \n",
            "Extracting  /content/YOLO_Dataset_Main/train/labels/002846.txt           \b\b\b\b 79%\b\b\b\b\b  OK \n",
            "Extracting  /content/YOLO_Dataset_Main/train/labels/002847.txt           \b\b\b\b 79%\b\b\b\b\b  OK \n",
            "Extracting  /content/YOLO_Dataset_Main/train/labels/002848.txt           \b\b\b\b 79%\b\b\b\b\b  OK \n",
            "Extracting  /content/YOLO_Dataset_Main/train/labels/002851.txt           \b\b\b\b 79%\b\b\b\b\b  OK \n",
            "Extracting  /content/YOLO_Dataset_Main/train/labels/002852.txt           \b\b\b\b 79%\b\b\b\b\b  OK \n",
            "Extracting  /content/YOLO_Dataset_Main/train/labels/002854.txt           \b\b\b\b 79%\b\b\b\b\b  OK \n",
            "Extracting  /content/YOLO_Dataset_Main/train/labels/002855.txt           \b\b\b\b 79%\b\b\b\b\b  OK \n",
            "Extracting  /content/YOLO_Dataset_Main/train/labels/002857.txt           \b\b\b\b 79%\b\b\b\b\b  OK \n",
            "Extracting  /content/YOLO_Dataset_Main/train/labels/002859.txt           \b\b\b\b 79%\b\b\b\b\b  OK \n",
            "Extracting  /content/YOLO_Dataset_Main/train/labels/002860.txt           \b\b\b\b 79%\b\b\b\b\b  OK \n",
            "Extracting  /content/YOLO_Dataset_Main/train/labels/002861.txt           \b\b\b\b 79%\b\b\b\b\b  OK \n",
            "Extracting  /content/YOLO_Dataset_Main/train/labels/002862.txt           \b\b\b\b 79%\b\b\b\b\b  OK \n",
            "Extracting  /content/YOLO_Dataset_Main/train/labels/002863.txt           \b\b\b\b 79%\b\b\b\b\b  OK \n",
            "Extracting  /content/YOLO_Dataset_Main/train/labels/002864.txt           \b\b\b\b 79%\b\b\b\b\b  OK \n",
            "Extracting  /content/YOLO_Dataset_Main/train/labels/002865.txt           \b\b\b\b 79%\b\b\b\b\b  OK \n",
            "Extracting  /content/YOLO_Dataset_Main/train/labels/002867.txt           \b\b\b\b 79%\b\b\b\b\b  OK \n",
            "Extracting  /content/YOLO_Dataset_Main/train/labels/002868.txt           \b\b\b\b 79%\b\b\b\b\b  OK \n",
            "Extracting  /content/YOLO_Dataset_Main/train/labels/002869.txt           \b\b\b\b 79%\b\b\b\b\b  OK \n",
            "Extracting  /content/YOLO_Dataset_Main/train/labels/002870.txt           \b\b\b\b 79%\b\b\b\b\b  OK \n",
            "Extracting  /content/YOLO_Dataset_Main/train/labels/002871.txt           \b\b\b\b 79%\b\b\b\b\b  OK \n",
            "Extracting  /content/YOLO_Dataset_Main/train/labels/002872.txt           \b\b\b\b 79%\b\b\b\b\b  OK \n",
            "Extracting  /content/YOLO_Dataset_Main/train/labels/002873.txt           \b\b\b\b 79%\b\b\b\b\b  OK \n",
            "Extracting  /content/YOLO_Dataset_Main/train/labels/002875.txt           \b\b\b\b 79%\b\b\b\b\b  OK \n",
            "Extracting  /content/YOLO_Dataset_Main/train/labels/002876.txt           \b\b\b\b 79%\b\b\b\b\b  OK \n",
            "Extracting  /content/YOLO_Dataset_Main/train/labels/002877.txt           \b\b\b\b 79%\b\b\b\b\b  OK \n",
            "Extracting  /content/YOLO_Dataset_Main/train/labels/002878.txt           \b\b\b\b 79%\b\b\b\b\b  OK \n",
            "Extracting  /content/YOLO_Dataset_Main/train/labels/002881.txt           \b\b\b\b 79%\b\b\b\b\b  OK \n",
            "Extracting  /content/YOLO_Dataset_Main/train/labels/002882.txt           \b\b\b\b 79%\b\b\b\b\b  OK \n",
            "Extracting  /content/YOLO_Dataset_Main/train/labels/002883.txt           \b\b\b\b 79%\b\b\b\b\b  OK \n",
            "Extracting  /content/YOLO_Dataset_Main/train/labels/002884.txt           \b\b\b\b 79%\b\b\b\b\b  OK \n",
            "Extracting  /content/YOLO_Dataset_Main/train/labels/002885.txt           \b\b\b\b 79%\b\b\b\b\b  OK \n",
            "Extracting  /content/YOLO_Dataset_Main/train/labels/002887.txt           \b\b\b\b 79%\b\b\b\b\b  OK \n",
            "Extracting  /content/YOLO_Dataset_Main/train/labels/002888.txt           \b\b\b\b 79%\b\b\b\b\b  OK \n",
            "Extracting  /content/YOLO_Dataset_Main/train/labels/002889.txt           \b\b\b\b 79%\b\b\b\b\b  OK \n",
            "Extracting  /content/YOLO_Dataset_Main/train/labels/002890.txt           \b\b\b\b 79%\b\b\b\b\b  OK \n",
            "Extracting  /content/YOLO_Dataset_Main/train/labels/002892.txt           \b\b\b\b 79%\b\b\b\b\b  OK \n",
            "Extracting  /content/YOLO_Dataset_Main/train/labels/002893.txt           \b\b\b\b 79%\b\b\b\b\b  OK \n",
            "Extracting  /content/YOLO_Dataset_Main/train/labels/002895.txt           \b\b\b\b 79%\b\b\b\b\b  OK \n",
            "Extracting  /content/YOLO_Dataset_Main/train/labels/002896.txt           \b\b\b\b 79%\b\b\b\b\b  OK \n",
            "Extracting  /content/YOLO_Dataset_Main/train/labels/002897.txt           \b\b\b\b 79%\b\b\b\b\b  OK \n",
            "Extracting  /content/YOLO_Dataset_Main/train/labels/002898.txt           \b\b\b\b 79%\b\b\b\b\b  OK \n",
            "Extracting  /content/YOLO_Dataset_Main/train/labels/002899.txt           \b\b\b\b 79%\b\b\b\b\b  OK \n",
            "Extracting  /content/YOLO_Dataset_Main/train/labels/002900.txt           \b\b\b\b 79%\b\b\b\b\b  OK \n",
            "Extracting  /content/YOLO_Dataset_Main/train/labels/002901.txt           \b\b\b\b 79%\b\b\b\b\b  OK \n",
            "Extracting  /content/YOLO_Dataset_Main/train/labels/002902.txt           \b\b\b\b 79%\b\b\b\b\b  OK \n",
            "Extracting  /content/YOLO_Dataset_Main/train/labels/002903.txt           \b\b\b\b 79%\b\b\b\b\b  OK \n",
            "Extracting  /content/YOLO_Dataset_Main/train/labels/002905.txt           \b\b\b\b 79%\b\b\b\b\b  OK \n",
            "Extracting  /content/YOLO_Dataset_Main/train/labels/002906.txt           \b\b\b\b 79%\b\b\b\b\b  OK \n",
            "Extracting  /content/YOLO_Dataset_Main/train/labels/002907.txt           \b\b\b\b 79%\b\b\b\b\b  OK \n",
            "Extracting  /content/YOLO_Dataset_Main/train/labels/002908.txt           \b\b\b\b 79%\b\b\b\b\b  OK \n",
            "Extracting  /content/YOLO_Dataset_Main/train/labels/002909.txt           \b\b\b\b 79%\b\b\b\b\b  OK \n",
            "Extracting  /content/YOLO_Dataset_Main/train/labels/002911.txt           \b\b\b\b 79%\b\b\b\b\b  OK \n",
            "Extracting  /content/YOLO_Dataset_Main/train/labels/002912.txt           \b\b\b\b 79%\b\b\b\b\b  OK \n",
            "Extracting  /content/YOLO_Dataset_Main/train/labels/002913.txt           \b\b\b\b 79%\b\b\b\b\b  OK \n",
            "Extracting  /content/YOLO_Dataset_Main/train/labels/002914.txt           \b\b\b\b 79%\b\b\b\b\b  OK \n",
            "Extracting  /content/YOLO_Dataset_Main/train/labels/002915.txt           \b\b\b\b 79%\b\b\b\b\b  OK \n",
            "Extracting  /content/YOLO_Dataset_Main/train/labels/002916.txt           \b\b\b\b 79%\b\b\b\b\b  OK \n",
            "Extracting  /content/YOLO_Dataset_Main/train/labels/002918.txt           \b\b\b\b 79%\b\b\b\b\b  OK \n",
            "Extracting  /content/YOLO_Dataset_Main/train/labels/002919.txt           \b\b\b\b 79%\b\b\b\b\b  OK \n",
            "Extracting  /content/YOLO_Dataset_Main/train/labels/002920.txt           \b\b\b\b 79%\b\b\b\b\b  OK \n",
            "Extracting  /content/YOLO_Dataset_Main/train/labels/002921.txt           \b\b\b\b 79%\b\b\b\b\b  OK \n",
            "Extracting  /content/YOLO_Dataset_Main/train/labels/002922.txt           \b\b\b\b 79%\b\b\b\b\b  OK \n",
            "Extracting  /content/YOLO_Dataset_Main/train/labels/002923.txt           \b\b\b\b 79%\b\b\b\b\b  OK \n",
            "Extracting  /content/YOLO_Dataset_Main/train/labels/002924.txt           \b\b\b\b 79%\b\b\b\b\b  OK \n",
            "Extracting  /content/YOLO_Dataset_Main/train/labels/002925.txt           \b\b\b\b 79%\b\b\b\b\b  OK \n",
            "Extracting  /content/YOLO_Dataset_Main/train/labels/002927.txt           \b\b\b\b 79%\b\b\b\b\b  OK \n",
            "Extracting  /content/YOLO_Dataset_Main/train/labels/002928.txt           \b\b\b\b 79%\b\b\b\b\b  OK \n",
            "Extracting  /content/YOLO_Dataset_Main/train/labels/002930.txt           \b\b\b\b 79%\b\b\b\b\b  OK \n",
            "Extracting  /content/YOLO_Dataset_Main/train/labels/002931.txt           \b\b\b\b 79%\b\b\b\b\b  OK \n",
            "Extracting  /content/YOLO_Dataset_Main/train/labels/002932.txt           \b\b\b\b 79%\b\b\b\b\b  OK \n",
            "Extracting  /content/YOLO_Dataset_Main/train/labels/002933.txt           \b\b\b\b 79%\b\b\b\b\b  OK \n",
            "Extracting  /content/YOLO_Dataset_Main/train/labels/002935.txt           \b\b\b\b 79%\b\b\b\b\b  OK \n",
            "Extracting  /content/YOLO_Dataset_Main/train/labels/002936.txt           \b\b\b\b 79%\b\b\b\b\b  OK \n",
            "Extracting  /content/YOLO_Dataset_Main/train/labels/002937.txt           \b\b\b\b 79%\b\b\b\b\b  OK \n",
            "Extracting  /content/YOLO_Dataset_Main/train/labels/002938.txt           \b\b\b\b 79%\b\b\b\b\b  OK \n",
            "Extracting  /content/YOLO_Dataset_Main/train/labels/002939.txt           \b\b\b\b 79%\b\b\b\b\b  OK \n",
            "Extracting  /content/YOLO_Dataset_Main/train/labels/002940.txt           \b\b\b\b 79%\b\b\b\b\b  OK \n",
            "Extracting  /content/YOLO_Dataset_Main/train/labels/002942.txt           \b\b\b\b 79%\b\b\b\b\b  OK \n",
            "Extracting  /content/YOLO_Dataset_Main/train/labels/002944.txt           \b\b\b\b 79%\b\b\b\b\b  OK \n",
            "Extracting  /content/YOLO_Dataset_Main/train/labels/002946.txt           \b\b\b\b 79%\b\b\b\b\b  OK \n",
            "Extracting  /content/YOLO_Dataset_Main/train/labels/002947.txt           \b\b\b\b 79%\b\b\b\b\b  OK \n",
            "Extracting  /content/YOLO_Dataset_Main/train/labels/002948.txt           \b\b\b\b 79%\b\b\b\b\b  OK \n",
            "Extracting  /content/YOLO_Dataset_Main/train/labels/002949.txt           \b\b\b\b 79%\b\b\b\b\b  OK \n",
            "Extracting  /content/YOLO_Dataset_Main/train/labels/002950.txt           \b\b\b\b 79%\b\b\b\b\b  OK \n",
            "Extracting  /content/YOLO_Dataset_Main/train/labels/002951.txt           \b\b\b\b 79%\b\b\b\b\b  OK \n",
            "Extracting  /content/YOLO_Dataset_Main/train/labels/002953.txt           \b\b\b\b 79%\b\b\b\b\b  OK \n",
            "Extracting  /content/YOLO_Dataset_Main/train/labels/002954.txt           \b\b\b\b 79%\b\b\b\b\b  OK \n",
            "Extracting  /content/YOLO_Dataset_Main/train/labels/002955.txt           \b\b\b\b 79%\b\b\b\b\b  OK \n",
            "Extracting  /content/YOLO_Dataset_Main/train/labels/002956.txt           \b\b\b\b 79%\b\b\b\b\b  OK \n",
            "Extracting  /content/YOLO_Dataset_Main/train/labels/002957.txt           \b\b\b\b 79%\b\b\b\b\b  OK \n",
            "Extracting  /content/YOLO_Dataset_Main/train/labels/002958.txt           \b\b\b\b 79%\b\b\b\b\b  OK \n",
            "Extracting  /content/YOLO_Dataset_Main/train/labels/002959.txt           \b\b\b\b 79%\b\b\b\b\b  OK \n",
            "Extracting  /content/YOLO_Dataset_Main/train/labels/002961.txt           \b\b\b\b 79%\b\b\b\b\b  OK \n",
            "Extracting  /content/YOLO_Dataset_Main/train/labels/002962.txt           \b\b\b\b 79%\b\b\b\b\b  OK \n",
            "Extracting  /content/YOLO_Dataset_Main/train/labels/002963.txt           \b\b\b\b 79%\b\b\b\b\b  OK \n",
            "Extracting  /content/YOLO_Dataset_Main/train/labels/002965.txt           \b\b\b\b 79%\b\b\b\b\b  OK \n",
            "Extracting  /content/YOLO_Dataset_Main/train/labels/002966.txt           \b\b\b\b 79%\b\b\b\b\b  OK \n",
            "Extracting  /content/YOLO_Dataset_Main/train/labels/002967.txt           \b\b\b\b 79%\b\b\b\b\b  OK \n",
            "Extracting  /content/YOLO_Dataset_Main/train/labels/002968.txt           \b\b\b\b 79%\b\b\b\b\b  OK \n",
            "Extracting  /content/YOLO_Dataset_Main/train/labels/002969.txt           \b\b\b\b 79%\b\b\b\b\b  OK \n",
            "Extracting  /content/YOLO_Dataset_Main/train/labels/002971.txt           \b\b\b\b 79%\b\b\b\b\b  OK \n",
            "Extracting  /content/YOLO_Dataset_Main/train/labels/002972.txt           \b\b\b\b 79%\b\b\b\b\b  OK \n",
            "Extracting  /content/YOLO_Dataset_Main/train/labels/002973.txt           \b\b\b\b 79%\b\b\b\b\b  OK \n",
            "Extracting  /content/YOLO_Dataset_Main/train/labels/002974.txt           \b\b\b\b 79%\b\b\b\b\b  OK \n",
            "Extracting  /content/YOLO_Dataset_Main/train/labels/002975.txt           \b\b\b\b 79%\b\b\b\b\b  OK \n",
            "Extracting  /content/YOLO_Dataset_Main/train/labels/002977.txt           \b\b\b\b 79%\b\b\b\b\b  OK \n",
            "Extracting  /content/YOLO_Dataset_Main/train/labels/002978.txt           \b\b\b\b 79%\b\b\b\b\b  OK \n",
            "Extracting  /content/YOLO_Dataset_Main/train/labels/002979.txt           \b\b\b\b 79%\b\b\b\b\b  OK \n",
            "Extracting  /content/YOLO_Dataset_Main/train/labels/002980.txt           \b\b\b\b 79%\b\b\b\b\b  OK \n",
            "Extracting  /content/YOLO_Dataset_Main/train/labels/002981.txt           \b\b\b\b 79%\b\b\b\b\b  OK \n",
            "Extracting  /content/YOLO_Dataset_Main/train/labels/002982.txt           \b\b\b\b 79%\b\b\b\b\b  OK \n",
            "Extracting  /content/YOLO_Dataset_Main/train/labels/002983.txt           \b\b\b\b 79%\b\b\b\b\b  OK \n",
            "Extracting  /content/YOLO_Dataset_Main/train/labels/002984.txt           \b\b\b\b 79%\b\b\b\b\b  OK \n",
            "Extracting  /content/YOLO_Dataset_Main/train/labels/002985.txt           \b\b\b\b 79%\b\b\b\b\b  OK \n",
            "Extracting  /content/YOLO_Dataset_Main/train/labels/002986.txt           \b\b\b\b 79%\b\b\b\b\b  OK \n",
            "Extracting  /content/YOLO_Dataset_Main/train/labels/002988.txt           \b\b\b\b 79%\b\b\b\b\b  OK \n",
            "Extracting  /content/YOLO_Dataset_Main/train/labels/002989.txt           \b\b\b\b 79%\b\b\b\b\b  OK \n",
            "Extracting  /content/YOLO_Dataset_Main/train/labels/002990.txt           \b\b\b\b 79%\b\b\b\b\b  OK \n",
            "Extracting  /content/YOLO_Dataset_Main/train/labels/002991.txt           \b\b\b\b 79%\b\b\b\b\b  OK \n",
            "Extracting  /content/YOLO_Dataset_Main/train/labels/002992.txt           \b\b\b\b 79%\b\b\b\b\b  OK \n",
            "Extracting  /content/YOLO_Dataset_Main/train/labels/002993.txt           \b\b\b\b 79%\b\b\b\b\b  OK \n",
            "Extracting  /content/YOLO_Dataset_Main/train/labels/002994.txt           \b\b\b\b 79%\b\b\b\b\b  OK \n",
            "Extracting  /content/YOLO_Dataset_Main/train/labels/002995.txt           \b\b\b\b 79%\b\b\b\b\b  OK \n",
            "Extracting  /content/YOLO_Dataset_Main/train/labels/002996.txt           \b\b\b\b 79%\b\b\b\b\b  OK \n",
            "Extracting  /content/YOLO_Dataset_Main/train/labels/002997.txt           \b\b\b\b 79%\b\b\b\b\b  OK \n",
            "Extracting  /content/YOLO_Dataset_Main/train/labels/002998.txt           \b\b\b\b 79%\b\b\b\b\b  OK \n",
            "Extracting  /content/YOLO_Dataset_Main/train/labels/002999.txt           \b\b\b\b 79%\b\b\b\b\b  OK \n",
            "Extracting  /content/YOLO_Dataset_Main/train/labels/003000.txt           \b\b\b\b 79%\b\b\b\b\b  OK \n",
            "Extracting  /content/YOLO_Dataset_Main/train/labels/003001.txt           \b\b\b\b 79%\b\b\b\b\b  OK \n",
            "Extracting  /content/YOLO_Dataset_Main/train/labels/003002.txt           \b\b\b\b 79%\b\b\b\b\b  OK \n",
            "Extracting  /content/YOLO_Dataset_Main/train/labels/003003.txt           \b\b\b\b 79%\b\b\b\b\b  OK \n",
            "Extracting  /content/YOLO_Dataset_Main/train/labels/003004.txt           \b\b\b\b 79%\b\b\b\b\b  OK \n",
            "Extracting  /content/YOLO_Dataset_Main/train/labels/003005.txt           \b\b\b\b 79%\b\b\b\b\b  OK \n",
            "Extracting  /content/YOLO_Dataset_Main/train/labels/003006.txt           \b\b\b\b 79%\b\b\b\b\b  OK \n",
            "Extracting  /content/YOLO_Dataset_Main/train/labels/003007.txt           \b\b\b\b 79%\b\b\b\b\b  OK \n",
            "Extracting  /content/YOLO_Dataset_Main/train/labels/003009.txt           \b\b\b\b 79%\b\b\b\b\b  OK \n",
            "Extracting  /content/YOLO_Dataset_Main/train/labels/003010.txt           \b\b\b\b 79%\b\b\b\b\b  OK \n",
            "Extracting  /content/YOLO_Dataset_Main/train/labels/003011.txt           \b\b\b\b 79%\b\b\b\b\b  OK \n",
            "Extracting  /content/YOLO_Dataset_Main/train/labels/003013.txt           \b\b\b\b 79%\b\b\b\b\b  OK \n",
            "Extracting  /content/YOLO_Dataset_Main/train/labels/003014.txt           \b\b\b\b 79%\b\b\b\b\b  OK \n",
            "Extracting  /content/YOLO_Dataset_Main/train/labels/003015.txt           \b\b\b\b 79%\b\b\b\b\b  OK \n",
            "Extracting  /content/YOLO_Dataset_Main/train/labels/003016.txt           \b\b\b\b 79%\b\b\b\b\b  OK \n",
            "Extracting  /content/YOLO_Dataset_Main/train/labels/003017.txt           \b\b\b\b 79%\b\b\b\b\b  OK \n",
            "Extracting  /content/YOLO_Dataset_Main/train/labels/003018.txt           \b\b\b\b 79%\b\b\b\b\b  OK \n",
            "Extracting  /content/YOLO_Dataset_Main/train/labels/003019.txt           \b\b\b\b 79%\b\b\b\b\b  OK \n",
            "Extracting  /content/YOLO_Dataset_Main/train/labels/003020.txt           \b\b\b\b 79%\b\b\b\b\b  OK \n",
            "Extracting  /content/YOLO_Dataset_Main/train/labels/003021.txt           \b\b\b\b 79%\b\b\b\b\b  OK \n",
            "Extracting  /content/YOLO_Dataset_Main/train/labels/003022.txt           \b\b\b\b 79%\b\b\b\b\b  OK \n",
            "Extracting  /content/YOLO_Dataset_Main/train/labels/003024.txt           \b\b\b\b 79%\b\b\b\b\b  OK \n",
            "Extracting  /content/YOLO_Dataset_Main/train/labels/003026.txt           \b\b\b\b 79%\b\b\b\b\b  OK \n",
            "Extracting  /content/YOLO_Dataset_Main/train/labels/003027.txt           \b\b\b\b 79%\b\b\b\b\b  OK \n",
            "Extracting  /content/YOLO_Dataset_Main/train/labels/003028.txt           \b\b\b\b 79%\b\b\b\b\b  OK \n",
            "Extracting  /content/YOLO_Dataset_Main/train/labels/003030.txt           \b\b\b\b 79%\b\b\b\b\b  OK \n",
            "Extracting  /content/YOLO_Dataset_Main/train/labels/003031.txt           \b\b\b\b 79%\b\b\b\b\b  OK \n",
            "Extracting  /content/YOLO_Dataset_Main/train/labels/003032.txt           \b\b\b\b 79%\b\b\b\b\b  OK \n",
            "Extracting  /content/YOLO_Dataset_Main/train/labels/003033.txt           \b\b\b\b 79%\b\b\b\b\b  OK \n",
            "Extracting  /content/YOLO_Dataset_Main/train/labels/003034.txt           \b\b\b\b 79%\b\b\b\b\b  OK \n",
            "Extracting  /content/YOLO_Dataset_Main/train/labels/003035.txt           \b\b\b\b 79%\b\b\b\b\b  OK \n",
            "Extracting  /content/YOLO_Dataset_Main/train/labels/003036.txt           \b\b\b\b 79%\b\b\b\b\b  OK \n",
            "Extracting  /content/YOLO_Dataset_Main/train/labels/003037.txt           \b\b\b\b 79%\b\b\b\b\b  OK \n",
            "Extracting  /content/YOLO_Dataset_Main/train/labels/003038.txt           \b\b\b\b 79%\b\b\b\b\b  OK \n",
            "Extracting  /content/YOLO_Dataset_Main/train/labels/003039.txt           \b\b\b\b 79%\b\b\b\b\b  OK \n",
            "Extracting  /content/YOLO_Dataset_Main/train/labels/003040.txt           \b\b\b\b 79%\b\b\b\b\b  OK \n",
            "Extracting  /content/YOLO_Dataset_Main/train/labels/003041.txt           \b\b\b\b 79%\b\b\b\b\b  OK \n",
            "Extracting  /content/YOLO_Dataset_Main/train/labels/003042.txt           \b\b\b\b 79%\b\b\b\b\b  OK \n",
            "Extracting  /content/YOLO_Dataset_Main/train/labels/003043.txt           \b\b\b\b 79%\b\b\b\b\b  OK \n",
            "Extracting  /content/YOLO_Dataset_Main/train/labels/003044.txt           \b\b\b\b 79%\b\b\b\b\b  OK \n",
            "Extracting  /content/YOLO_Dataset_Main/train/labels/003046.txt           \b\b\b\b 79%\b\b\b\b\b  OK \n",
            "Extracting  /content/YOLO_Dataset_Main/train/labels/003047.txt           \b\b\b\b 79%\b\b\b\b\b  OK \n",
            "Extracting  /content/YOLO_Dataset_Main/train/labels/003048.txt           \b\b\b\b 79%\b\b\b\b\b  OK \n",
            "Extracting  /content/YOLO_Dataset_Main/train/labels/003049.txt           \b\b\b\b 79%\b\b\b\b\b  OK \n",
            "Extracting  /content/YOLO_Dataset_Main/train/labels/003050.txt           \b\b\b\b 79%\b\b\b\b\b  OK \n",
            "Extracting  /content/YOLO_Dataset_Main/train/labels/003051.txt           \b\b\b\b 79%\b\b\b\b\b  OK \n",
            "Extracting  /content/YOLO_Dataset_Main/train/labels/003052.txt           \b\b\b\b 79%\b\b\b\b\b  OK \n",
            "Extracting  /content/YOLO_Dataset_Main/train/labels/003053.txt           \b\b\b\b 79%\b\b\b\b\b  OK \n",
            "Extracting  /content/YOLO_Dataset_Main/train/labels/003054.txt           \b\b\b\b 79%\b\b\b\b\b  OK \n",
            "Extracting  /content/YOLO_Dataset_Main/train/labels/003055.txt           \b\b\b\b 79%\b\b\b\b\b  OK \n",
            "Extracting  /content/YOLO_Dataset_Main/train/labels/003056.txt           \b\b\b\b 79%\b\b\b\b\b  OK \n",
            "Extracting  /content/YOLO_Dataset_Main/train/labels/003057.txt           \b\b\b\b 79%\b\b\b\b\b  OK \n",
            "Extracting  /content/YOLO_Dataset_Main/train/labels/003059.txt           \b\b\b\b 79%\b\b\b\b\b  OK \n",
            "Extracting  /content/YOLO_Dataset_Main/train/labels/003060.txt           \b\b\b\b 79%\b\b\b\b\b  OK \n",
            "Extracting  /content/YOLO_Dataset_Main/train/labels/003062.txt           \b\b\b\b 79%\b\b\b\b\b  OK \n",
            "Extracting  /content/YOLO_Dataset_Main/train/labels/003063.txt           \b\b\b\b 79%\b\b\b\b\b  OK \n",
            "Extracting  /content/YOLO_Dataset_Main/train/labels/003064.txt           \b\b\b\b 79%\b\b\b\b\b  OK \n",
            "Extracting  /content/YOLO_Dataset_Main/train/labels/003065.txt           \b\b\b\b 79%\b\b\b\b\b  OK \n",
            "Extracting  /content/YOLO_Dataset_Main/train/labels/003066.txt           \b\b\b\b 79%\b\b\b\b\b  OK \n",
            "Extracting  /content/YOLO_Dataset_Main/train/labels/003067.txt           \b\b\b\b 79%\b\b\b\b\b  OK \n",
            "Extracting  /content/YOLO_Dataset_Main/train/labels/003068.txt           \b\b\b\b 79%\b\b\b\b\b  OK \n",
            "Extracting  /content/YOLO_Dataset_Main/train/labels/003069.txt           \b\b\b\b 79%\b\b\b\b\b  OK \n",
            "Extracting  /content/YOLO_Dataset_Main/train/labels/003070.txt           \b\b\b\b 79%\b\b\b\b\b  OK \n",
            "Extracting  /content/YOLO_Dataset_Main/train/labels/003071.txt           \b\b\b\b 79%\b\b\b\b\b  OK \n",
            "Extracting  /content/YOLO_Dataset_Main/train/labels/003072.txt           \b\b\b\b 79%\b\b\b\b\b  OK \n",
            "Extracting  /content/YOLO_Dataset_Main/train/labels/003074.txt           \b\b\b\b 79%\b\b\b\b\b  OK \n",
            "Extracting  /content/YOLO_Dataset_Main/train/labels/003075.txt           \b\b\b\b 79%\b\b\b\b\b  OK \n",
            "Extracting  /content/YOLO_Dataset_Main/train/labels/003076.txt           \b\b\b\b 79%\b\b\b\b\b  OK \n",
            "Extracting  /content/YOLO_Dataset_Main/train/labels/003078.txt           \b\b\b\b 79%\b\b\b\b\b  OK \n",
            "Extracting  /content/YOLO_Dataset_Main/train/labels/003079.txt           \b\b\b\b 79%\b\b\b\b\b  OK \n",
            "Extracting  /content/YOLO_Dataset_Main/train/labels/003080.txt           \b\b\b\b 79%\b\b\b\b\b  OK \n",
            "Extracting  /content/YOLO_Dataset_Main/train/labels/003082.txt           \b\b\b\b 79%\b\b\b\b\b  OK \n",
            "Extracting  /content/YOLO_Dataset_Main/train/labels/003084.txt           \b\b\b\b 79%\b\b\b\b\b  OK \n",
            "Extracting  /content/YOLO_Dataset_Main/train/labels/003085.txt           \b\b\b\b 79%\b\b\b\b\b  OK \n",
            "Extracting  /content/YOLO_Dataset_Main/train/labels/003086.txt           \b\b\b\b 79%\b\b\b\b\b  OK \n",
            "Extracting  /content/YOLO_Dataset_Main/train/labels/003087.txt           \b\b\b\b 79%\b\b\b\b\b  OK \n",
            "Extracting  /content/YOLO_Dataset_Main/train/labels/003088.txt           \b\b\b\b 79%\b\b\b\b\b  OK \n",
            "Extracting  /content/YOLO_Dataset_Main/train/labels/003089.txt           \b\b\b\b 79%\b\b\b\b\b  OK \n",
            "Extracting  /content/YOLO_Dataset_Main/train/labels/003091.txt           \b\b\b\b 79%\b\b\b\b\b  OK \n",
            "Extracting  /content/YOLO_Dataset_Main/train/labels/003092.txt           \b\b\b\b 79%\b\b\b\b\b  OK \n",
            "Extracting  /content/YOLO_Dataset_Main/train/labels/003093.txt           \b\b\b\b 79%\b\b\b\b\b  OK \n",
            "Extracting  /content/YOLO_Dataset_Main/train/labels/003095.txt           \b\b\b\b 79%\b\b\b\b\b  OK \n",
            "Extracting  /content/YOLO_Dataset_Main/train/labels/003096.txt           \b\b\b\b 79%\b\b\b\b\b  OK \n",
            "Extracting  /content/YOLO_Dataset_Main/train/labels/003097.txt           \b\b\b\b 79%\b\b\b\b\b  OK \n",
            "Extracting  /content/YOLO_Dataset_Main/train/labels/003099.txt           \b\b\b\b 79%\b\b\b\b\b  OK \n",
            "Extracting  /content/YOLO_Dataset_Main/train/labels/003100.txt           \b\b\b\b 79%\b\b\b\b\b  OK \n",
            "Extracting  /content/YOLO_Dataset_Main/train/labels/003101.txt           \b\b\b\b 79%\b\b\b\b\b  OK \n",
            "Extracting  /content/YOLO_Dataset_Main/train/labels/003102.txt           \b\b\b\b 79%\b\b\b\b\b  OK \n",
            "Extracting  /content/YOLO_Dataset_Main/train/labels/003103.txt           \b\b\b\b 79%\b\b\b\b\b  OK \n",
            "Extracting  /content/YOLO_Dataset_Main/train/labels/003104.txt           \b\b\b\b 79%\b\b\b\b\b  OK \n",
            "Extracting  /content/YOLO_Dataset_Main/train/labels/003105.txt           \b\b\b\b 79%\b\b\b\b\b  OK \n",
            "Extracting  /content/YOLO_Dataset_Main/train/labels/003106.txt           \b\b\b\b 79%\b\b\b\b\b  OK \n",
            "Extracting  /content/YOLO_Dataset_Main/train/labels/003107.txt           \b\b\b\b 79%\b\b\b\b\b  OK \n",
            "Extracting  /content/YOLO_Dataset_Main/train/labels/003108.txt           \b\b\b\b 79%\b\b\b\b\b  OK \n",
            "Extracting  /content/YOLO_Dataset_Main/train/labels/003109.txt           \b\b\b\b 79%\b\b\b\b\b  OK \n",
            "Extracting  /content/YOLO_Dataset_Main/train/labels/003110.txt           \b\b\b\b 79%\b\b\b\b\b  OK \n",
            "Extracting  /content/YOLO_Dataset_Main/train/labels/003112.txt           \b\b\b\b 79%\b\b\b\b\b  OK \n",
            "Extracting  /content/YOLO_Dataset_Main/train/labels/003113.txt           \b\b\b\b 79%\b\b\b\b\b  OK \n",
            "Extracting  /content/YOLO_Dataset_Main/train/labels/003115.txt           \b\b\b\b 79%\b\b\b\b\b  OK \n",
            "Extracting  /content/YOLO_Dataset_Main/train/labels/003116.txt           \b\b\b\b 79%\b\b\b\b\b  OK \n",
            "Extracting  /content/YOLO_Dataset_Main/train/labels/003117.txt           \b\b\b\b 79%\b\b\b\b\b  OK \n",
            "Extracting  /content/YOLO_Dataset_Main/train/labels/003118.txt           \b\b\b\b 79%\b\b\b\b\b  OK \n",
            "Extracting  /content/YOLO_Dataset_Main/train/labels/003120.txt           \b\b\b\b 79%\b\b\b\b\b  OK \n",
            "Extracting  /content/YOLO_Dataset_Main/train/labels/003121.txt           \b\b\b\b 79%\b\b\b\b\b  OK \n",
            "Extracting  /content/YOLO_Dataset_Main/train/labels/003122.txt           \b\b\b\b 79%\b\b\b\b\b  OK \n",
            "Extracting  /content/YOLO_Dataset_Main/train/labels/003123.txt           \b\b\b\b 79%\b\b\b\b\b  OK \n",
            "Extracting  /content/YOLO_Dataset_Main/train/labels/003124.txt           \b\b\b\b 79%\b\b\b\b\b  OK \n",
            "Extracting  /content/YOLO_Dataset_Main/train/labels/003125.txt           \b\b\b\b 79%\b\b\b\b\b  OK \n",
            "Extracting  /content/YOLO_Dataset_Main/train/labels/003126.txt           \b\b\b\b 79%\b\b\b\b\b  OK \n",
            "Extracting  /content/YOLO_Dataset_Main/train/labels/003127.txt           \b\b\b\b 79%\b\b\b\b\b  OK \n",
            "Extracting  /content/YOLO_Dataset_Main/train/labels/003128.txt           \b\b\b\b 79%\b\b\b\b\b  OK \n",
            "Extracting  /content/YOLO_Dataset_Main/train/labels/003129.txt           \b\b\b\b 79%\b\b\b\b\b  OK \n",
            "Extracting  /content/YOLO_Dataset_Main/train/labels/003130.txt           \b\b\b\b 79%\b\b\b\b\b  OK \n",
            "Extracting  /content/YOLO_Dataset_Main/train/labels/003131.txt           \b\b\b\b 79%\b\b\b\b\b  OK \n",
            "Extracting  /content/YOLO_Dataset_Main/train/labels/003132.txt           \b\b\b\b 79%\b\b\b\b\b  OK \n",
            "Extracting  /content/YOLO_Dataset_Main/train/labels/003133.txt           \b\b\b\b 79%\b\b\b\b\b  OK \n",
            "Extracting  /content/YOLO_Dataset_Main/train/labels/003134.txt           \b\b\b\b 79%\b\b\b\b\b  OK \n",
            "Extracting  /content/YOLO_Dataset_Main/train/labels/003135.txt           \b\b\b\b 79%\b\b\b\b\b  OK \n",
            "Extracting  /content/YOLO_Dataset_Main/train/labels/003136.txt           \b\b\b\b 79%\b\b\b\b\b  OK \n",
            "Extracting  /content/YOLO_Dataset_Main/train/labels/003137.txt           \b\b\b\b 79%\b\b\b\b\b  OK \n",
            "Extracting  /content/YOLO_Dataset_Main/train/labels/003139.txt           \b\b\b\b 79%\b\b\b\b\b  OK \n",
            "Extracting  /content/YOLO_Dataset_Main/train/labels/003140.txt           \b\b\b\b 79%\b\b\b\b\b  OK \n",
            "Extracting  /content/YOLO_Dataset_Main/train/labels/003142.txt           \b\b\b\b 79%\b\b\b\b\b  OK \n",
            "Extracting  /content/YOLO_Dataset_Main/train/labels/003145.txt           \b\b\b\b 79%\b\b\b\b\b  OK \n",
            "Extracting  /content/YOLO_Dataset_Main/train/labels/003146.txt           \b\b\b\b 79%\b\b\b\b\b  OK \n",
            "Extracting  /content/YOLO_Dataset_Main/train/labels/003149.txt           \b\b\b\b 79%\b\b\b\b\b  OK \n",
            "Extracting  /content/YOLO_Dataset_Main/train/labels/003150.txt           \b\b\b\b 79%\b\b\b\b\b  OK \n",
            "Extracting  /content/YOLO_Dataset_Main/train/labels/003151.txt           \b\b\b\b 79%\b\b\b\b\b  OK \n",
            "Extracting  /content/YOLO_Dataset_Main/train/labels/003153.txt           \b\b\b\b 79%\b\b\b\b\b  OK \n",
            "Extracting  /content/YOLO_Dataset_Main/train/labels/003154.txt           \b\b\b\b 79%\b\b\b\b\b  OK \n",
            "Extracting  /content/YOLO_Dataset_Main/train/labels/003155.txt           \b\b\b\b 79%\b\b\b\b\b  OK \n",
            "Extracting  /content/YOLO_Dataset_Main/train/labels/003157.txt           \b\b\b\b 79%\b\b\b\b\b  OK \n",
            "Extracting  /content/YOLO_Dataset_Main/train/labels/003158.txt           \b\b\b\b 79%\b\b\b\b\b  OK \n",
            "Extracting  /content/YOLO_Dataset_Main/train/labels/003160.txt           \b\b\b\b 79%\b\b\b\b\b  OK \n",
            "Extracting  /content/YOLO_Dataset_Main/train/labels/003161.txt           \b\b\b\b 79%\b\b\b\b\b  OK \n",
            "Extracting  /content/YOLO_Dataset_Main/train/labels/003162.txt           \b\b\b\b 79%\b\b\b\b\b  OK \n",
            "Extracting  /content/YOLO_Dataset_Main/train/labels/003163.txt           \b\b\b\b 79%\b\b\b\b\b  OK \n",
            "Extracting  /content/YOLO_Dataset_Main/train/labels/003164.txt           \b\b\b\b 79%\b\b\b\b\b  OK \n",
            "Extracting  /content/YOLO_Dataset_Main/train/labels/003165.txt           \b\b\b\b 79%\b\b\b\b\b  OK \n",
            "Extracting  /content/YOLO_Dataset_Main/train/labels/003168.txt           \b\b\b\b 79%\b\b\b\b\b  OK \n",
            "Extracting  /content/YOLO_Dataset_Main/train/labels/003169.txt           \b\b\b\b 79%\b\b\b\b\b  OK \n",
            "Extracting  /content/YOLO_Dataset_Main/train/labels/003171.txt           \b\b\b\b 79%\b\b\b\b\b  OK \n",
            "Extracting  /content/YOLO_Dataset_Main/train/labels/003172.txt           \b\b\b\b 79%\b\b\b\b\b  OK \n",
            "Extracting  /content/YOLO_Dataset_Main/train/labels/003173.txt           \b\b\b\b 79%\b\b\b\b\b  OK \n",
            "Extracting  /content/YOLO_Dataset_Main/train/labels/003174.txt           \b\b\b\b 79%\b\b\b\b\b  OK \n",
            "Extracting  /content/YOLO_Dataset_Main/train/labels/003175.txt           \b\b\b\b 79%\b\b\b\b\b  OK \n",
            "Extracting  /content/YOLO_Dataset_Main/train/labels/003178.txt           \b\b\b\b 79%\b\b\b\b\b  OK \n",
            "Extracting  /content/YOLO_Dataset_Main/train/labels/003179.txt           \b\b\b\b 79%\b\b\b\b\b  OK \n",
            "Extracting  /content/YOLO_Dataset_Main/train/labels/003180.txt           \b\b\b\b 79%\b\b\b\b\b  OK \n",
            "Extracting  /content/YOLO_Dataset_Main/train/labels/003181.txt           \b\b\b\b 79%\b\b\b\b\b  OK \n",
            "Extracting  /content/YOLO_Dataset_Main/train/labels/003182.txt           \b\b\b\b 79%\b\b\b\b\b  OK \n",
            "Extracting  /content/YOLO_Dataset_Main/train/labels/003183.txt           \b\b\b\b 79%\b\b\b\b\b  OK \n",
            "Extracting  /content/YOLO_Dataset_Main/train/labels/003184.txt           \b\b\b\b 79%\b\b\b\b\b  OK \n",
            "Extracting  /content/YOLO_Dataset_Main/train/labels/003185.txt           \b\b\b\b 79%\b\b\b\b\b  OK \n",
            "Extracting  /content/YOLO_Dataset_Main/train/labels/003187.txt           \b\b\b\b 79%\b\b\b\b\b  OK \n",
            "Extracting  /content/YOLO_Dataset_Main/train/labels/003188.txt           \b\b\b\b 79%\b\b\b\b\b  OK \n",
            "Extracting  /content/YOLO_Dataset_Main/train/labels/003189.txt           \b\b\b\b 79%\b\b\b\b\b  OK \n",
            "Extracting  /content/YOLO_Dataset_Main/train/labels/003190.txt           \b\b\b\b 79%\b\b\b\b\b  OK \n",
            "Extracting  /content/YOLO_Dataset_Main/train/labels/003191.txt           \b\b\b\b 79%\b\b\b\b\b  OK \n",
            "Extracting  /content/YOLO_Dataset_Main/train/labels/003192.txt           \b\b\b\b 79%\b\b\b\b\b  OK \n",
            "Extracting  /content/YOLO_Dataset_Main/train/labels/003195.txt           \b\b\b\b 79%\b\b\b\b\b  OK \n",
            "Extracting  /content/YOLO_Dataset_Main/train/labels/003197.txt           \b\b\b\b 79%\b\b\b\b\b  OK \n",
            "Extracting  /content/YOLO_Dataset_Main/train/labels/003199.txt           \b\b\b\b 79%\b\b\b\b\b  OK \n",
            "Extracting  /content/YOLO_Dataset_Main/train/labels/003200.txt           \b\b\b\b 79%\b\b\b\b\b  OK \n",
            "Extracting  /content/YOLO_Dataset_Main/train/labels/003201.txt           \b\b\b\b 79%\b\b\b\b\b  OK \n",
            "Extracting  /content/YOLO_Dataset_Main/train/labels/003203.txt           \b\b\b\b 79%\b\b\b\b\b  OK \n",
            "Extracting  /content/YOLO_Dataset_Main/train/labels/003204.txt           \b\b\b\b 79%\b\b\b\b\b  OK \n",
            "Extracting  /content/YOLO_Dataset_Main/train/labels/003205.txt           \b\b\b\b 79%\b\b\b\b\b  OK \n",
            "Extracting  /content/YOLO_Dataset_Main/train/labels/003206.txt           \b\b\b\b 79%\b\b\b\b\b  OK \n",
            "Extracting  /content/YOLO_Dataset_Main/train/labels/003207.txt           \b\b\b\b 79%\b\b\b\b\b  OK \n",
            "Extracting  /content/YOLO_Dataset_Main/train/labels/003208.txt           \b\b\b\b 79%\b\b\b\b\b  OK \n",
            "Extracting  /content/YOLO_Dataset_Main/train/labels/003210.txt           \b\b\b\b 79%\b\b\b\b\b  OK \n",
            "Extracting  /content/YOLO_Dataset_Main/train/labels/003211.txt           \b\b\b\b 79%\b\b\b\b\b  OK \n",
            "Extracting  /content/YOLO_Dataset_Main/train/labels/003212.txt           \b\b\b\b 79%\b\b\b\b\b  OK \n",
            "Extracting  /content/YOLO_Dataset_Main/train/labels/003213.txt           \b\b\b\b 79%\b\b\b\b\b  OK \n",
            "Extracting  /content/YOLO_Dataset_Main/train/labels/003214.txt           \b\b\b\b 79%\b\b\b\b\b  OK \n",
            "Extracting  /content/YOLO_Dataset_Main/train/labels/003215.txt           \b\b\b\b 79%\b\b\b\b\b  OK \n",
            "Extracting  /content/YOLO_Dataset_Main/train/labels/003216.txt           \b\b\b\b 79%\b\b\b\b\b  OK \n",
            "Extracting  /content/YOLO_Dataset_Main/train/labels/003217.txt           \b\b\b\b 79%\b\b\b\b\b  OK \n",
            "Extracting  /content/YOLO_Dataset_Main/train/labels/003218.txt           \b\b\b\b 79%\b\b\b\b\b  OK \n",
            "Extracting  /content/YOLO_Dataset_Main/train/labels/003219.txt           \b\b\b\b 79%\b\b\b\b\b  OK \n",
            "Extracting  /content/YOLO_Dataset_Main/train/labels/003220.txt           \b\b\b\b 79%\b\b\b\b\b  OK \n",
            "Extracting  /content/YOLO_Dataset_Main/train/labels/003222.txt           \b\b\b\b 79%\b\b\b\b\b  OK \n",
            "Extracting  /content/YOLO_Dataset_Main/train/labels/003223.txt           \b\b\b\b 79%\b\b\b\b\b  OK \n",
            "Extracting  /content/YOLO_Dataset_Main/train/labels/003224.txt           \b\b\b\b 79%\b\b\b\b\b  OK \n",
            "Extracting  /content/YOLO_Dataset_Main/train/labels/003225.txt           \b\b\b\b 79%\b\b\b\b\b  OK \n",
            "Extracting  /content/YOLO_Dataset_Main/train/labels/003226.txt           \b\b\b\b 79%\b\b\b\b\b  OK \n",
            "Extracting  /content/YOLO_Dataset_Main/train/labels/003227.txt           \b\b\b\b 79%\b\b\b\b\b  OK \n",
            "Extracting  /content/YOLO_Dataset_Main/train/labels/003228.txt           \b\b\b\b 79%\b\b\b\b\b  OK \n",
            "Extracting  /content/YOLO_Dataset_Main/train/labels/003229.txt           \b\b\b\b 79%\b\b\b\b\b  OK \n",
            "Extracting  /content/YOLO_Dataset_Main/train/labels/003230.txt           \b\b\b\b 79%\b\b\b\b\b  OK \n",
            "Extracting  /content/YOLO_Dataset_Main/train/labels/003231.txt           \b\b\b\b 79%\b\b\b\b\b  OK \n",
            "Extracting  /content/YOLO_Dataset_Main/train/labels/003232.txt           \b\b\b\b 79%\b\b\b\b\b  OK \n",
            "Extracting  /content/YOLO_Dataset_Main/train/labels/003233.txt           \b\b\b\b 79%\b\b\b\b\b  OK \n",
            "Extracting  /content/YOLO_Dataset_Main/train/labels/003235.txt           \b\b\b\b 79%\b\b\b\b\b  OK \n",
            "Extracting  /content/YOLO_Dataset_Main/train/labels/003237.txt           \b\b\b\b 79%\b\b\b\b\b  OK \n",
            "Extracting  /content/YOLO_Dataset_Main/train/labels/003238.txt           \b\b\b\b 79%\b\b\b\b\b  OK \n",
            "Extracting  /content/YOLO_Dataset_Main/train/labels/003239.txt           \b\b\b\b 79%\b\b\b\b\b  OK \n",
            "Extracting  /content/YOLO_Dataset_Main/train/labels/003240.txt           \b\b\b\b 79%\b\b\b\b\b  OK \n",
            "Extracting  /content/YOLO_Dataset_Main/train/labels/003241.txt           \b\b\b\b 79%\b\b\b\b\b  OK \n",
            "Extracting  /content/YOLO_Dataset_Main/train/labels/003242.txt           \b\b\b\b 79%\b\b\b\b\b  OK \n",
            "Extracting  /content/YOLO_Dataset_Main/train/labels/003243.txt           \b\b\b\b 79%\b\b\b\b\b  OK \n",
            "Extracting  /content/YOLO_Dataset_Main/train/labels/003244.txt           \b\b\b\b 79%\b\b\b\b\b  OK \n",
            "Extracting  /content/YOLO_Dataset_Main/train/labels/003245.txt           \b\b\b\b 79%\b\b\b\b\b  OK \n",
            "Extracting  /content/YOLO_Dataset_Main/train/labels/003246.txt           \b\b\b\b 79%\b\b\b\b\b  OK \n",
            "Extracting  /content/YOLO_Dataset_Main/train/labels/003247.txt           \b\b\b\b 79%\b\b\b\b\b  OK \n",
            "Extracting  /content/YOLO_Dataset_Main/train/labels/003248.txt           \b\b\b\b 79%\b\b\b\b\b  OK \n",
            "Extracting  /content/YOLO_Dataset_Main/train/labels/003249.txt           \b\b\b\b 79%\b\b\b\b\b  OK \n",
            "Extracting  /content/YOLO_Dataset_Main/train/labels/003250.txt           \b\b\b\b 79%\b\b\b\b\b  OK \n",
            "Extracting  /content/YOLO_Dataset_Main/train/labels/003251.txt           \b\b\b\b 79%\b\b\b\b\b  OK \n",
            "Extracting  /content/YOLO_Dataset_Main/train/labels/003252.txt           \b\b\b\b 79%\b\b\b\b\b  OK \n",
            "Extracting  /content/YOLO_Dataset_Main/train/labels/003253.txt           \b\b\b\b 79%\b\b\b\b\b  OK \n",
            "Extracting  /content/YOLO_Dataset_Main/train/labels/003255.txt           \b\b\b\b 79%\b\b\b\b\b  OK \n",
            "Extracting  /content/YOLO_Dataset_Main/train/labels/003257.txt           \b\b\b\b 79%\b\b\b\b\b  OK \n",
            "Extracting  /content/YOLO_Dataset_Main/train/labels/003258.txt           \b\b\b\b 79%\b\b\b\b\b  OK \n",
            "Extracting  /content/YOLO_Dataset_Main/train/labels/003259.txt           \b\b\b\b 79%\b\b\b\b\b  OK \n",
            "Extracting  /content/YOLO_Dataset_Main/train/labels/003261.txt           \b\b\b\b 79%\b\b\b\b\b  OK \n",
            "Extracting  /content/YOLO_Dataset_Main/train/labels/003262.txt           \b\b\b\b 79%\b\b\b\b\b  OK \n",
            "Extracting  /content/YOLO_Dataset_Main/train/labels/003264.txt           \b\b\b\b 79%\b\b\b\b\b  OK \n",
            "Extracting  /content/YOLO_Dataset_Main/train/labels/003265.txt           \b\b\b\b 79%\b\b\b\b\b  OK \n",
            "Extracting  /content/YOLO_Dataset_Main/train/labels/003267.txt           \b\b\b\b 79%\b\b\b\b\b  OK \n",
            "Extracting  /content/YOLO_Dataset_Main/train/labels/003268.txt           \b\b\b\b 79%\b\b\b\b\b  OK \n",
            "Extracting  /content/YOLO_Dataset_Main/train/labels/003269.txt           \b\b\b\b 79%\b\b\b\b\b  OK \n",
            "Extracting  /content/YOLO_Dataset_Main/train/labels/003270.txt           \b\b\b\b 79%\b\b\b\b\b  OK \n",
            "Extracting  /content/YOLO_Dataset_Main/train/labels/003271.txt           \b\b\b\b 79%\b\b\b\b\b  OK \n",
            "Extracting  /content/YOLO_Dataset_Main/train/labels/003272.txt           \b\b\b\b 79%\b\b\b\b\b  OK \n",
            "Extracting  /content/YOLO_Dataset_Main/train/labels/003273.txt           \b\b\b\b 79%\b\b\b\b\b  OK \n",
            "Extracting  /content/YOLO_Dataset_Main/train/labels/003275.txt           \b\b\b\b 79%\b\b\b\b\b  OK \n",
            "Extracting  /content/YOLO_Dataset_Main/train/labels/003276.txt           \b\b\b\b 79%\b\b\b\b\b  OK \n",
            "Extracting  /content/YOLO_Dataset_Main/train/labels/003278.txt           \b\b\b\b 79%\b\b\b\b\b  OK \n",
            "Extracting  /content/YOLO_Dataset_Main/train/labels/003279.txt           \b\b\b\b 79%\b\b\b\b\b  OK \n",
            "Extracting  /content/YOLO_Dataset_Main/train/labels/003280.txt           \b\b\b\b 79%\b\b\b\b\b  OK \n",
            "Extracting  /content/YOLO_Dataset_Main/train/labels/003281.txt           \b\b\b\b 79%\b\b\b\b\b  OK \n",
            "Extracting  /content/YOLO_Dataset_Main/train/labels/003282.txt           \b\b\b\b 79%\b\b\b\b\b  OK \n",
            "Extracting  /content/YOLO_Dataset_Main/train/labels/003284.txt           \b\b\b\b 79%\b\b\b\b\b  OK \n",
            "Extracting  /content/YOLO_Dataset_Main/train/labels/003285.txt           \b\b\b\b 79%\b\b\b\b\b  OK \n",
            "Extracting  /content/YOLO_Dataset_Main/train/labels/003286.txt           \b\b\b\b 79%\b\b\b\b\b  OK \n",
            "Extracting  /content/YOLO_Dataset_Main/train/labels/003288.txt           \b\b\b\b 79%\b\b\b\b\b  OK \n",
            "Extracting  /content/YOLO_Dataset_Main/train/labels/003290.txt           \b\b\b\b 79%\b\b\b\b\b  OK \n",
            "Extracting  /content/YOLO_Dataset_Main/train/labels/003291.txt           \b\b\b\b 79%\b\b\b\b\b  OK \n",
            "Extracting  /content/YOLO_Dataset_Main/train/labels/003292.txt           \b\b\b\b 79%\b\b\b\b\b  OK \n",
            "Extracting  /content/YOLO_Dataset_Main/train/labels/003293.txt           \b\b\b\b 79%\b\b\b\b\b  OK \n",
            "Extracting  /content/YOLO_Dataset_Main/train/labels/003294.txt           \b\b\b\b 79%\b\b\b\b\b  OK \n",
            "Extracting  /content/YOLO_Dataset_Main/train/labels/003298.txt           \b\b\b\b 79%\b\b\b\b\b  OK \n",
            "Extracting  /content/YOLO_Dataset_Main/train/labels/003299.txt           \b\b\b\b 79%\b\b\b\b\b  OK \n",
            "Extracting  /content/YOLO_Dataset_Main/train/labels/003301.txt           \b\b\b\b 79%\b\b\b\b\b  OK \n",
            "Extracting  /content/YOLO_Dataset_Main/train/labels/003302.txt           \b\b\b\b 79%\b\b\b\b\b  OK \n",
            "Extracting  /content/YOLO_Dataset_Main/train/labels/003303.txt           \b\b\b\b 79%\b\b\b\b\b  OK \n",
            "Extracting  /content/YOLO_Dataset_Main/train/labels/003305.txt           \b\b\b\b 79%\b\b\b\b\b  OK \n",
            "Extracting  /content/YOLO_Dataset_Main/train/labels/003306.txt           \b\b\b\b 79%\b\b\b\b\b  OK \n",
            "Extracting  /content/YOLO_Dataset_Main/train/labels/003307.txt           \b\b\b\b 79%\b\b\b\b\b  OK \n",
            "Extracting  /content/YOLO_Dataset_Main/train/labels/003308.txt           \b\b\b\b 79%\b\b\b\b\b  OK \n",
            "Extracting  /content/YOLO_Dataset_Main/train/labels/003309.txt           \b\b\b\b 79%\b\b\b\b\b  OK \n",
            "Extracting  /content/YOLO_Dataset_Main/train/labels/003310.txt           \b\b\b\b 79%\b\b\b\b\b  OK \n",
            "Extracting  /content/YOLO_Dataset_Main/train/labels/003311.txt           \b\b\b\b 79%\b\b\b\b\b  OK \n",
            "Extracting  /content/YOLO_Dataset_Main/train/labels/003312.txt           \b\b\b\b 79%\b\b\b\b\b  OK \n",
            "Extracting  /content/YOLO_Dataset_Main/train/labels/003313.txt           \b\b\b\b 79%\b\b\b\b\b  OK \n",
            "Extracting  /content/YOLO_Dataset_Main/train/labels/003314.txt           \b\b\b\b 79%\b\b\b\b\b  OK \n",
            "Extracting  /content/YOLO_Dataset_Main/train/labels/003316.txt           \b\b\b\b 79%\b\b\b\b\b  OK \n",
            "Extracting  /content/YOLO_Dataset_Main/train/labels/003319.txt           \b\b\b\b 79%\b\b\b\b\b  OK \n",
            "Extracting  /content/YOLO_Dataset_Main/train/labels/003320.txt           \b\b\b\b 79%\b\b\b\b\b  OK \n",
            "Extracting  /content/YOLO_Dataset_Main/train/labels/003322.txt           \b\b\b\b 79%\b\b\b\b\b  OK \n",
            "Extracting  /content/YOLO_Dataset_Main/train/labels/003323.txt           \b\b\b\b 79%\b\b\b\b\b  OK \n",
            "Extracting  /content/YOLO_Dataset_Main/train/labels/003324.txt           \b\b\b\b 79%\b\b\b\b\b  OK \n",
            "Extracting  /content/YOLO_Dataset_Main/train/labels/003325.txt           \b\b\b\b 79%\b\b\b\b\b  OK \n",
            "Extracting  /content/YOLO_Dataset_Main/train/labels/003326.txt           \b\b\b\b 79%\b\b\b\b\b  OK \n",
            "Extracting  /content/YOLO_Dataset_Main/train/labels/003327.txt           \b\b\b\b 79%\b\b\b\b\b  OK \n",
            "Extracting  /content/YOLO_Dataset_Main/train/labels/003329.txt           \b\b\b\b 79%\b\b\b\b\b  OK \n",
            "Extracting  /content/YOLO_Dataset_Main/train/labels/003330.txt           \b\b\b\b 79%\b\b\b\b\b  OK \n",
            "Extracting  /content/YOLO_Dataset_Main/train/labels/003331.txt           \b\b\b\b 79%\b\b\b\b\b  OK \n",
            "Extracting  /content/YOLO_Dataset_Main/train/labels/003332.txt           \b\b\b\b 79%\b\b\b\b\b  OK \n",
            "Extracting  /content/YOLO_Dataset_Main/train/labels/003333.txt           \b\b\b\b 79%\b\b\b\b\b  OK \n",
            "Extracting  /content/YOLO_Dataset_Main/train/labels/003334.txt           \b\b\b\b 79%\b\b\b\b\b  OK \n",
            "Extracting  /content/YOLO_Dataset_Main/train/labels/003336.txt           \b\b\b\b 79%\b\b\b\b\b  OK \n",
            "Extracting  /content/YOLO_Dataset_Main/train/labels/003337.txt           \b\b\b\b 79%\b\b\b\b\b  OK \n",
            "Extracting  /content/YOLO_Dataset_Main/train/labels/003338.txt           \b\b\b\b 79%\b\b\b\b\b  OK \n",
            "Extracting  /content/YOLO_Dataset_Main/train/labels/003339.txt           \b\b\b\b 79%\b\b\b\b\b  OK \n",
            "Extracting  /content/YOLO_Dataset_Main/train/labels/003340.txt           \b\b\b\b 79%\b\b\b\b\b  OK \n",
            "Extracting  /content/YOLO_Dataset_Main/train/labels/003341.txt           \b\b\b\b 79%\b\b\b\b\b  OK \n",
            "Extracting  /content/YOLO_Dataset_Main/train/labels/003342.txt           \b\b\b\b 79%\b\b\b\b\b  OK \n",
            "Extracting  /content/YOLO_Dataset_Main/train/labels/003343.txt           \b\b\b\b 79%\b\b\b\b\b  OK \n",
            "Extracting  /content/YOLO_Dataset_Main/train/labels/003344.txt           \b\b\b\b 79%\b\b\b\b\b  OK \n",
            "Extracting  /content/YOLO_Dataset_Main/train/labels/003345.txt           \b\b\b\b 79%\b\b\b\b\b  OK \n",
            "Extracting  /content/YOLO_Dataset_Main/train/labels/003346.txt           \b\b\b\b 79%\b\b\b\b\b  OK \n",
            "Extracting  /content/YOLO_Dataset_Main/train/labels/003347.txt           \b\b\b\b 79%\b\b\b\b\b  OK \n",
            "Extracting  /content/YOLO_Dataset_Main/train/labels/003348.txt           \b\b\b\b 79%\b\b\b\b\b  OK \n",
            "Extracting  /content/YOLO_Dataset_Main/train/labels/003350.txt           \b\b\b\b 79%\b\b\b\b\b  OK \n",
            "Extracting  /content/YOLO_Dataset_Main/train/labels/003351.txt           \b\b\b\b 79%\b\b\b\b\b  OK \n",
            "Extracting  /content/YOLO_Dataset_Main/train/labels/003352.txt           \b\b\b\b 79%\b\b\b\b\b  OK \n",
            "Extracting  /content/YOLO_Dataset_Main/train/labels/003353.txt           \b\b\b\b 79%\b\b\b\b\b  OK \n",
            "Extracting  /content/YOLO_Dataset_Main/train/labels/003354.txt           \b\b\b\b 79%\b\b\b\b\b  OK \n",
            "Extracting  /content/YOLO_Dataset_Main/train/labels/003355.txt           \b\b\b\b 79%\b\b\b\b\b  OK \n",
            "Extracting  /content/YOLO_Dataset_Main/train/labels/003356.txt           \b\b\b\b 79%\b\b\b\b\b  OK \n",
            "Extracting  /content/YOLO_Dataset_Main/train/labels/003357.txt           \b\b\b\b 79%\b\b\b\b\b  OK \n",
            "Extracting  /content/YOLO_Dataset_Main/train/labels/003358.txt           \b\b\b\b 79%\b\b\b\b\b  OK \n",
            "Extracting  /content/YOLO_Dataset_Main/train/labels/003361.txt           \b\b\b\b 79%\b\b\b\b\b  OK \n",
            "Extracting  /content/YOLO_Dataset_Main/train/labels/003362.txt           \b\b\b\b 79%\b\b\b\b\b  OK \n",
            "Extracting  /content/YOLO_Dataset_Main/train/labels/003364.txt           \b\b\b\b 79%\b\b\b\b\b  OK \n",
            "Extracting  /content/YOLO_Dataset_Main/train/labels/003365.txt           \b\b\b\b 79%\b\b\b\b\b  OK \n",
            "Extracting  /content/YOLO_Dataset_Main/train/labels/003366.txt           \b\b\b\b 79%\b\b\b\b\b  OK \n",
            "Extracting  /content/YOLO_Dataset_Main/train/labels/003367.txt           \b\b\b\b 79%\b\b\b\b\b  OK \n",
            "Extracting  /content/YOLO_Dataset_Main/train/labels/003368.txt           \b\b\b\b 79%\b\b\b\b\b  OK \n",
            "Extracting  /content/YOLO_Dataset_Main/train/labels/003370.txt           \b\b\b\b 79%\b\b\b\b\b  OK \n",
            "Extracting  /content/YOLO_Dataset_Main/train/labels/003372.txt           \b\b\b\b 79%\b\b\b\b\b  OK \n",
            "Extracting  /content/YOLO_Dataset_Main/train/labels/003373.txt           \b\b\b\b 79%\b\b\b\b\b  OK \n",
            "Extracting  /content/YOLO_Dataset_Main/train/labels/003374.txt           \b\b\b\b 79%\b\b\b\b\b  OK \n",
            "Extracting  /content/YOLO_Dataset_Main/train/labels/003375.txt           \b\b\b\b 79%\b\b\b\b\b  OK \n",
            "Extracting  /content/YOLO_Dataset_Main/train/labels/003376.txt           \b\b\b\b 79%\b\b\b\b\b  OK \n",
            "Extracting  /content/YOLO_Dataset_Main/train/labels/003377.txt           \b\b\b\b 79%\b\b\b\b\b  OK \n",
            "Extracting  /content/YOLO_Dataset_Main/train/labels/003378.txt           \b\b\b\b 79%\b\b\b\b\b  OK \n",
            "Extracting  /content/YOLO_Dataset_Main/train/labels/003381.txt           \b\b\b\b 79%\b\b\b\b\b  OK \n",
            "Extracting  /content/YOLO_Dataset_Main/train/labels/003382.txt           \b\b\b\b 79%\b\b\b\b\b  OK \n",
            "Extracting  /content/YOLO_Dataset_Main/train/labels/003383.txt           \b\b\b\b 79%\b\b\b\b\b  OK \n",
            "Extracting  /content/YOLO_Dataset_Main/train/labels/003384.txt           \b\b\b\b 79%\b\b\b\b\b  OK \n",
            "Extracting  /content/YOLO_Dataset_Main/train/labels/003385.txt           \b\b\b\b 79%\b\b\b\b\b  OK \n",
            "Extracting  /content/YOLO_Dataset_Main/train/labels/003386.txt           \b\b\b\b 79%\b\b\b\b\b  OK \n",
            "Extracting  /content/YOLO_Dataset_Main/train/labels/003387.txt           \b\b\b\b 79%\b\b\b\b\b  OK \n",
            "Extracting  /content/YOLO_Dataset_Main/train/labels/003388.txt           \b\b\b\b 79%\b\b\b\b\b  OK \n",
            "Extracting  /content/YOLO_Dataset_Main/train/labels/003390.txt           \b\b\b\b 79%\b\b\b\b\b  OK \n",
            "Extracting  /content/YOLO_Dataset_Main/train/labels/003392.txt           \b\b\b\b 79%\b\b\b\b\b  OK \n",
            "Extracting  /content/YOLO_Dataset_Main/train/labels/003393.txt           \b\b\b\b 79%\b\b\b\b\b  OK \n",
            "Extracting  /content/YOLO_Dataset_Main/train/labels/003394.txt           \b\b\b\b 79%\b\b\b\b\b  OK \n",
            "Extracting  /content/YOLO_Dataset_Main/train/labels/003395.txt           \b\b\b\b 79%\b\b\b\b\b  OK \n",
            "Extracting  /content/YOLO_Dataset_Main/train/labels/003397.txt           \b\b\b\b 79%\b\b\b\b\b  OK \n",
            "Extracting  /content/YOLO_Dataset_Main/train/labels/003399.txt           \b\b\b\b 79%\b\b\b\b\b  OK \n",
            "Extracting  /content/YOLO_Dataset_Main/train/labels/003400.txt           \b\b\b\b 79%\b\b\b\b\b  OK \n",
            "Extracting  /content/YOLO_Dataset_Main/train/labels/003401.txt           \b\b\b\b 79%\b\b\b\b\b  OK \n",
            "Extracting  /content/YOLO_Dataset_Main/train/labels/003402.txt           \b\b\b\b 79%\b\b\b\b\b  OK \n",
            "Extracting  /content/YOLO_Dataset_Main/train/labels/003403.txt           \b\b\b\b 79%\b\b\b\b\b  OK \n",
            "Extracting  /content/YOLO_Dataset_Main/train/labels/003404.txt           \b\b\b\b 79%\b\b\b\b\b  OK \n",
            "Extracting  /content/YOLO_Dataset_Main/train/labels/003405.txt           \b\b\b\b 79%\b\b\b\b\b  OK \n",
            "Extracting  /content/YOLO_Dataset_Main/train/labels/003406.txt           \b\b\b\b 79%\b\b\b\b\b  OK \n",
            "Extracting  /content/YOLO_Dataset_Main/train/labels/003407.txt           \b\b\b\b 79%\b\b\b\b\b  OK \n",
            "Extracting  /content/YOLO_Dataset_Main/train/labels/003408.txt           \b\b\b\b 79%\b\b\b\b\b  OK \n",
            "Extracting  /content/YOLO_Dataset_Main/train/labels/003409.txt           \b\b\b\b 79%\b\b\b\b\b  OK \n",
            "Extracting  /content/YOLO_Dataset_Main/train/labels/003410.txt           \b\b\b\b 79%\b\b\b\b\b  OK \n",
            "Extracting  /content/YOLO_Dataset_Main/train/labels/003411.txt           \b\b\b\b 79%\b\b\b\b\b  OK \n",
            "Extracting  /content/YOLO_Dataset_Main/train/labels/003412.txt           \b\b\b\b 79%\b\b\b\b\b  OK \n",
            "Extracting  /content/YOLO_Dataset_Main/train/labels/003413.txt           \b\b\b\b 79%\b\b\b\b\b  OK \n",
            "Extracting  /content/YOLO_Dataset_Main/train/labels/003414.txt           \b\b\b\b 79%\b\b\b\b\b  OK \n",
            "Extracting  /content/YOLO_Dataset_Main/train/labels/003415.txt           \b\b\b\b 79%\b\b\b\b\b  OK \n",
            "Extracting  /content/YOLO_Dataset_Main/train/labels/003416.txt           \b\b\b\b 79%\b\b\b\b\b  OK \n",
            "Extracting  /content/YOLO_Dataset_Main/train/labels/003418.txt           \b\b\b\b 79%\b\b\b\b\b  OK \n",
            "Extracting  /content/YOLO_Dataset_Main/train/labels/003420.txt           \b\b\b\b 79%\b\b\b\b\b  OK \n",
            "Extracting  /content/YOLO_Dataset_Main/train/labels/003421.txt           \b\b\b\b 79%\b\b\b\b\b  OK \n",
            "Extracting  /content/YOLO_Dataset_Main/train/labels/003422.txt           \b\b\b\b 79%\b\b\b\b\b  OK \n",
            "Extracting  /content/YOLO_Dataset_Main/train/labels/003423.txt           \b\b\b\b 79%\b\b\b\b\b  OK \n",
            "Extracting  /content/YOLO_Dataset_Main/train/labels/003424.txt           \b\b\b\b 79%\b\b\b\b\b  OK \n",
            "Extracting  /content/YOLO_Dataset_Main/train/labels/003425.txt           \b\b\b\b 79%\b\b\b\b\b  OK \n",
            "Extracting  /content/YOLO_Dataset_Main/train/labels/003426.txt           \b\b\b\b 79%\b\b\b\b\b  OK \n",
            "Extracting  /content/YOLO_Dataset_Main/train/labels/003427.txt           \b\b\b\b 79%\b\b\b\b\b  OK \n",
            "Extracting  /content/YOLO_Dataset_Main/train/labels/003428.txt           \b\b\b\b 79%\b\b\b\b\b  OK \n",
            "Extracting  /content/YOLO_Dataset_Main/train/labels/003429.txt           \b\b\b\b 79%\b\b\b\b\b  OK \n",
            "Extracting  /content/YOLO_Dataset_Main/train/labels/003430.txt           \b\b\b\b 79%\b\b\b\b\b  OK \n",
            "Extracting  /content/YOLO_Dataset_Main/train/labels/003431.txt           \b\b\b\b 79%\b\b\b\b\b  OK \n",
            "Extracting  /content/YOLO_Dataset_Main/train/labels/003432.txt           \b\b\b\b 79%\b\b\b\b\b  OK \n",
            "Extracting  /content/YOLO_Dataset_Main/train/labels/003435.txt           \b\b\b\b 79%\b\b\b\b\b  OK \n",
            "Extracting  /content/YOLO_Dataset_Main/train/labels/003436.txt           \b\b\b\b 79%\b\b\b\b\b  OK \n",
            "Extracting  /content/YOLO_Dataset_Main/train/labels/003437.txt           \b\b\b\b 79%\b\b\b\b\b  OK \n",
            "Extracting  /content/YOLO_Dataset_Main/train/labels/003438.txt           \b\b\b\b 79%\b\b\b\b\b  OK \n",
            "Extracting  /content/YOLO_Dataset_Main/train/labels/003439.txt           \b\b\b\b 79%\b\b\b\b\b  OK \n",
            "Extracting  /content/YOLO_Dataset_Main/train/labels/003440.txt           \b\b\b\b 79%\b\b\b\b\b  OK \n",
            "Extracting  /content/YOLO_Dataset_Main/train/labels/003441.txt           \b\b\b\b 79%\b\b\b\b\b  OK \n",
            "Extracting  /content/YOLO_Dataset_Main/train/labels/003443.txt           \b\b\b\b 79%\b\b\b\b\b  OK \n",
            "Extracting  /content/YOLO_Dataset_Main/train/labels/003446.txt           \b\b\b\b 79%\b\b\b\b\b  OK \n",
            "Extracting  /content/YOLO_Dataset_Main/train/labels/003448.txt           \b\b\b\b 79%\b\b\b\b\b  OK \n",
            "Extracting  /content/YOLO_Dataset_Main/train/labels/003449.txt           \b\b\b\b 79%\b\b\b\b\b  OK \n",
            "Extracting  /content/YOLO_Dataset_Main/train/labels/003450.txt           \b\b\b\b 79%\b\b\b\b\b  OK \n",
            "Extracting  /content/YOLO_Dataset_Main/train/labels/003451.txt           \b\b\b\b 79%\b\b\b\b\b  OK \n",
            "Extracting  /content/YOLO_Dataset_Main/train/labels/003452.txt           \b\b\b\b 79%\b\b\b\b\b  OK \n",
            "Extracting  /content/YOLO_Dataset_Main/train/labels/003453.txt           \b\b\b\b 79%\b\b\b\b\b  OK \n",
            "Extracting  /content/YOLO_Dataset_Main/train/labels/003454.txt           \b\b\b\b 79%\b\b\b\b\b  OK \n",
            "Extracting  /content/YOLO_Dataset_Main/train/labels/003455.txt           \b\b\b\b 79%\b\b\b\b\b  OK \n",
            "Extracting  /content/YOLO_Dataset_Main/train/labels/003457.txt           \b\b\b\b 79%\b\b\b\b\b  OK \n",
            "Extracting  /content/YOLO_Dataset_Main/train/labels/003458.txt           \b\b\b\b 79%\b\b\b\b\b  OK \n",
            "Extracting  /content/YOLO_Dataset_Main/train/labels/003459.txt           \b\b\b\b 79%\b\b\b\b\b  OK \n",
            "Extracting  /content/YOLO_Dataset_Main/train/labels/003460.txt           \b\b\b\b 79%\b\b\b\b\b  OK \n",
            "Extracting  /content/YOLO_Dataset_Main/train/labels/003461.txt           \b\b\b\b 79%\b\b\b\b\b  OK \n",
            "Extracting  /content/YOLO_Dataset_Main/train/labels/003462.txt           \b\b\b\b 79%\b\b\b\b\b  OK \n",
            "Extracting  /content/YOLO_Dataset_Main/train/labels/003463.txt           \b\b\b\b 79%\b\b\b\b\b  OK \n",
            "Extracting  /content/YOLO_Dataset_Main/train/labels/003464.txt           \b\b\b\b 79%\b\b\b\b\b  OK \n",
            "Extracting  /content/YOLO_Dataset_Main/train/labels/003465.txt           \b\b\b\b 79%\b\b\b\b\b  OK \n",
            "Extracting  /content/YOLO_Dataset_Main/train/labels/003466.txt           \b\b\b\b 79%\b\b\b\b\b  OK \n",
            "Extracting  /content/YOLO_Dataset_Main/train/labels/003467.txt           \b\b\b\b 79%\b\b\b\b\b  OK \n",
            "Extracting  /content/YOLO_Dataset_Main/train/labels/003468.txt           \b\b\b\b 79%\b\b\b\b\b  OK \n",
            "Extracting  /content/YOLO_Dataset_Main/train/labels/003469.txt           \b\b\b\b 79%\b\b\b\b\b  OK \n",
            "Extracting  /content/YOLO_Dataset_Main/train/labels/003470.txt           \b\b\b\b 79%\b\b\b\b\b  OK \n",
            "Extracting  /content/YOLO_Dataset_Main/train/labels/003471.txt           \b\b\b\b 79%\b\b\b\b\b  OK \n",
            "Extracting  /content/YOLO_Dataset_Main/train/labels/003474.txt           \b\b\b\b 79%\b\b\b\b\b  OK \n",
            "Extracting  /content/YOLO_Dataset_Main/train/labels/003475.txt           \b\b\b\b 79%\b\b\b\b\b  OK \n",
            "Extracting  /content/YOLO_Dataset_Main/train/labels/003476.txt           \b\b\b\b 79%\b\b\b\b\b  OK \n",
            "Extracting  /content/YOLO_Dataset_Main/train/labels/003477.txt           \b\b\b\b 79%\b\b\b\b\b  OK \n",
            "Extracting  /content/YOLO_Dataset_Main/train/labels/003479.txt           \b\b\b\b 79%\b\b\b\b\b  OK \n",
            "Extracting  /content/YOLO_Dataset_Main/train/labels/003481.txt           \b\b\b\b 79%\b\b\b\b\b  OK \n",
            "Extracting  /content/YOLO_Dataset_Main/train/labels/003482.txt           \b\b\b\b 79%\b\b\b\b\b  OK \n",
            "Extracting  /content/YOLO_Dataset_Main/train/labels/003484.txt           \b\b\b\b 79%\b\b\b\b\b  OK \n",
            "Extracting  /content/YOLO_Dataset_Main/train/labels/003485.txt           \b\b\b\b 79%\b\b\b\b\b  OK \n",
            "Extracting  /content/YOLO_Dataset_Main/train/labels/003486.txt           \b\b\b\b 79%\b\b\b\b\b  OK \n",
            "Extracting  /content/YOLO_Dataset_Main/train/labels/003488.txt           \b\b\b\b 79%\b\b\b\b\b  OK \n",
            "Extracting  /content/YOLO_Dataset_Main/train/labels/003489.txt           \b\b\b\b 79%\b\b\b\b\b  OK \n",
            "Extracting  /content/YOLO_Dataset_Main/train/labels/003490.txt           \b\b\b\b 79%\b\b\b\b\b  OK \n",
            "Extracting  /content/YOLO_Dataset_Main/train/labels/003491.txt           \b\b\b\b 79%\b\b\b\b\b  OK \n",
            "Extracting  /content/YOLO_Dataset_Main/train/labels/003492.txt           \b\b\b\b 79%\b\b\b\b\b  OK \n",
            "Extracting  /content/YOLO_Dataset_Main/train/labels/003493.txt           \b\b\b\b 79%\b\b\b\b\b  OK \n",
            "Extracting  /content/YOLO_Dataset_Main/train/labels/003494.txt           \b\b\b\b 79%\b\b\b\b\b  OK \n",
            "Extracting  /content/YOLO_Dataset_Main/train/labels/003495.txt           \b\b\b\b 79%\b\b\b\b\b  OK \n",
            "Extracting  /content/YOLO_Dataset_Main/train/labels/003496.txt           \b\b\b\b 79%\b\b\b\b\b  OK \n",
            "Extracting  /content/YOLO_Dataset_Main/train/labels/003497.txt           \b\b\b\b 79%\b\b\b\b\b  OK \n",
            "Extracting  /content/YOLO_Dataset_Main/train/labels/003498.txt           \b\b\b\b 79%\b\b\b\b\b  OK \n",
            "Extracting  /content/YOLO_Dataset_Main/train/labels/003500.txt           \b\b\b\b 79%\b\b\b\b\b  OK \n",
            "Extracting  /content/YOLO_Dataset_Main/train/labels/003502.txt           \b\b\b\b 79%\b\b\b\b\b  OK \n",
            "Extracting  /content/YOLO_Dataset_Main/train/labels/003503.txt           \b\b\b\b 79%\b\b\b\b\b  OK \n",
            "Extracting  /content/YOLO_Dataset_Main/train/labels/003504.txt           \b\b\b\b 79%\b\b\b\b\b  OK \n",
            "Extracting  /content/YOLO_Dataset_Main/train/labels/003505.txt           \b\b\b\b 79%\b\b\b\b\b  OK \n",
            "Extracting  /content/YOLO_Dataset_Main/train/labels/003506.txt           \b\b\b\b 79%\b\b\b\b\b  OK \n",
            "Extracting  /content/YOLO_Dataset_Main/train/labels/003507.txt           \b\b\b\b 79%\b\b\b\b\b  OK \n",
            "Extracting  /content/YOLO_Dataset_Main/train/labels/003508.txt           \b\b\b\b 79%\b\b\b\b\b  OK \n",
            "Extracting  /content/YOLO_Dataset_Main/train/labels/003509.txt           \b\b\b\b 79%\b\b\b\b\b  OK \n",
            "Extracting  /content/YOLO_Dataset_Main/train/labels/003510.txt           \b\b\b\b 79%\b\b\b\b\b  OK \n",
            "Extracting  /content/YOLO_Dataset_Main/train/labels/003511.txt           \b\b\b\b 79%\b\b\b\b\b  OK \n",
            "Extracting  /content/YOLO_Dataset_Main/train/labels/003512.txt           \b\b\b\b 79%\b\b\b\b\b  OK \n",
            "Extracting  /content/YOLO_Dataset_Main/train/labels/003513.txt           \b\b\b\b 79%\b\b\b\b\b  OK \n",
            "Extracting  /content/YOLO_Dataset_Main/train/labels/003514.txt           \b\b\b\b 79%\b\b\b\b\b  OK \n",
            "Extracting  /content/YOLO_Dataset_Main/train/labels/003515.txt           \b\b\b\b 79%\b\b\b\b\b  OK \n",
            "Extracting  /content/YOLO_Dataset_Main/train/labels/003516.txt           \b\b\b\b 79%\b\b\b\b\b  OK \n",
            "Extracting  /content/YOLO_Dataset_Main/train/labels/003517.txt           \b\b\b\b 79%\b\b\b\b\b  OK \n",
            "Extracting  /content/YOLO_Dataset_Main/train/labels/003518.txt           \b\b\b\b 79%\b\b\b\b\b  OK \n",
            "Extracting  /content/YOLO_Dataset_Main/train/labels/003520.txt           \b\b\b\b 79%\b\b\b\b\b  OK \n",
            "Extracting  /content/YOLO_Dataset_Main/train/labels/003521.txt           \b\b\b\b 79%\b\b\b\b\b  OK \n",
            "Extracting  /content/YOLO_Dataset_Main/train/labels/003524.txt           \b\b\b\b 79%\b\b\b\b\b  OK \n",
            "Extracting  /content/YOLO_Dataset_Main/train/labels/003525.txt           \b\b\b\b 79%\b\b\b\b\b  OK \n",
            "Extracting  /content/YOLO_Dataset_Main/train/labels/003526.txt           \b\b\b\b 79%\b\b\b\b\b  OK \n",
            "Extracting  /content/YOLO_Dataset_Main/train/labels/003527.txt           \b\b\b\b 79%\b\b\b\b\b  OK \n",
            "Extracting  /content/YOLO_Dataset_Main/train/labels/003528.txt           \b\b\b\b 79%\b\b\b\b\b  OK \n",
            "Extracting  /content/YOLO_Dataset_Main/train/labels/003529.txt           \b\b\b\b 79%\b\b\b\b\b  OK \n",
            "Extracting  /content/YOLO_Dataset_Main/train/labels/003530.txt           \b\b\b\b 79%\b\b\b\b\b  OK \n",
            "Extracting  /content/YOLO_Dataset_Main/train/labels/003532.txt           \b\b\b\b 79%\b\b\b\b\b  OK \n",
            "Extracting  /content/YOLO_Dataset_Main/train/labels/003536.txt           \b\b\b\b 79%\b\b\b\b\b  OK \n",
            "Extracting  /content/YOLO_Dataset_Main/train/labels/003537.txt           \b\b\b\b 79%\b\b\b\b\b  OK \n",
            "Extracting  /content/YOLO_Dataset_Main/train/labels/003538.txt           \b\b\b\b 79%\b\b\b\b\b  OK \n",
            "Extracting  /content/YOLO_Dataset_Main/train/labels/003539.txt           \b\b\b\b 79%\b\b\b\b\b  OK \n",
            "Extracting  /content/YOLO_Dataset_Main/train/labels/003541.txt           \b\b\b\b 79%\b\b\b\b\b  OK \n",
            "Extracting  /content/YOLO_Dataset_Main/train/labels/003542.txt           \b\b\b\b 79%\b\b\b\b\b  OK \n",
            "Extracting  /content/YOLO_Dataset_Main/train/labels/003543.txt           \b\b\b\b 79%\b\b\b\b\b  OK \n",
            "Extracting  /content/YOLO_Dataset_Main/train/labels/003544.txt           \b\b\b\b 79%\b\b\b\b\b  OK \n",
            "Extracting  /content/YOLO_Dataset_Main/train/labels/003545.txt           \b\b\b\b 79%\b\b\b\b\b  OK \n",
            "Extracting  /content/YOLO_Dataset_Main/train/labels/003546.txt           \b\b\b\b 79%\b\b\b\b\b  OK \n",
            "Extracting  /content/YOLO_Dataset_Main/train/labels/003547.txt           \b\b\b\b 79%\b\b\b\b\b  OK \n",
            "Extracting  /content/YOLO_Dataset_Main/train/labels/003549.txt           \b\b\b\b 79%\b\b\b\b\b  OK \n",
            "Extracting  /content/YOLO_Dataset_Main/train/labels/003550.txt           \b\b\b\b 79%\b\b\b\b\b  OK \n",
            "Extracting  /content/YOLO_Dataset_Main/train/labels/003551.txt           \b\b\b\b 79%\b\b\b\b\b  OK \n",
            "Extracting  /content/YOLO_Dataset_Main/train/labels/003552.txt           \b\b\b\b 79%\b\b\b\b\b  OK \n",
            "Extracting  /content/YOLO_Dataset_Main/train/labels/003553.txt           \b\b\b\b 79%\b\b\b\b\b  OK \n",
            "Extracting  /content/YOLO_Dataset_Main/train/labels/003554.txt           \b\b\b\b 79%\b\b\b\b\b  OK \n",
            "Extracting  /content/YOLO_Dataset_Main/train/labels/003556.txt           \b\b\b\b 79%\b\b\b\b\b  OK \n",
            "Extracting  /content/YOLO_Dataset_Main/train/labels/003557.txt           \b\b\b\b 79%\b\b\b\b\b  OK \n",
            "Extracting  /content/YOLO_Dataset_Main/train/labels/003558.txt           \b\b\b\b 79%\b\b\b\b\b  OK \n",
            "Extracting  /content/YOLO_Dataset_Main/train/labels/003559.txt           \b\b\b\b 79%\b\b\b\b\b  OK \n",
            "Extracting  /content/YOLO_Dataset_Main/train/labels/003560.txt           \b\b\b\b 79%\b\b\b\b\b  OK \n",
            "Extracting  /content/YOLO_Dataset_Main/train/labels/003561.txt           \b\b\b\b 79%\b\b\b\b\b  OK \n",
            "Extracting  /content/YOLO_Dataset_Main/train/labels/003562.txt           \b\b\b\b 79%\b\b\b\b\b  OK \n",
            "Extracting  /content/YOLO_Dataset_Main/train/labels/003563.txt           \b\b\b\b 79%\b\b\b\b\b  OK \n",
            "Extracting  /content/YOLO_Dataset_Main/train/labels/003564.txt           \b\b\b\b 79%\b\b\b\b\b  OK \n",
            "Extracting  /content/YOLO_Dataset_Main/train/labels/003565.txt           \b\b\b\b 79%\b\b\b\b\b  OK \n",
            "Extracting  /content/YOLO_Dataset_Main/train/labels/003566.txt           \b\b\b\b 79%\b\b\b\b\b  OK \n",
            "Extracting  /content/YOLO_Dataset_Main/train/labels/003567.txt           \b\b\b\b 79%\b\b\b\b\b  OK \n",
            "Extracting  /content/YOLO_Dataset_Main/train/labels/003568.txt           \b\b\b\b 79%\b\b\b\b\b  OK \n",
            "Extracting  /content/YOLO_Dataset_Main/train/labels/003569.txt           \b\b\b\b 79%\b\b\b\b\b  OK \n",
            "Extracting  /content/YOLO_Dataset_Main/train/labels/003570.txt           \b\b\b\b 79%\b\b\b\b\b  OK \n",
            "Extracting  /content/YOLO_Dataset_Main/train/labels/003572.txt           \b\b\b\b 79%\b\b\b\b\b  OK \n",
            "Extracting  /content/YOLO_Dataset_Main/train/labels/003575.txt           \b\b\b\b 79%\b\b\b\b\b  OK \n",
            "Extracting  /content/YOLO_Dataset_Main/train/labels/003577.txt           \b\b\b\b 79%\b\b\b\b\b  OK \n",
            "Extracting  /content/YOLO_Dataset_Main/train/labels/003578.txt           \b\b\b\b 79%\b\b\b\b\b  OK \n",
            "Extracting  /content/YOLO_Dataset_Main/train/labels/003579.txt           \b\b\b\b 79%\b\b\b\b\b  OK \n",
            "Extracting  /content/YOLO_Dataset_Main/train/labels/003580.txt           \b\b\b\b 79%\b\b\b\b\b  OK \n",
            "Extracting  /content/YOLO_Dataset_Main/train/labels/003581.txt           \b\b\b\b 79%\b\b\b\b\b  OK \n",
            "Extracting  /content/YOLO_Dataset_Main/train/labels/003583.txt           \b\b\b\b 79%\b\b\b\b\b  OK \n",
            "Extracting  /content/YOLO_Dataset_Main/train/labels/003584.txt           \b\b\b\b 79%\b\b\b\b\b  OK \n",
            "Extracting  /content/YOLO_Dataset_Main/train/labels/003585.txt           \b\b\b\b 79%\b\b\b\b\b  OK \n",
            "Extracting  /content/YOLO_Dataset_Main/train/labels/003586.txt           \b\b\b\b 79%\b\b\b\b\b  OK \n",
            "Extracting  /content/YOLO_Dataset_Main/train/labels/003592.txt           \b\b\b\b 79%\b\b\b\b\b  OK \n",
            "Extracting  /content/YOLO_Dataset_Main/train/labels/003593.txt           \b\b\b\b 79%\b\b\b\b\b  OK \n",
            "Extracting  /content/YOLO_Dataset_Main/train/labels/003595.txt           \b\b\b\b 79%\b\b\b\b\b  OK \n",
            "Extracting  /content/YOLO_Dataset_Main/train/labels/003596.txt           \b\b\b\b 79%\b\b\b\b\b  OK \n",
            "Extracting  /content/YOLO_Dataset_Main/train/labels/003597.txt           \b\b\b\b 79%\b\b\b\b\b  OK \n",
            "Extracting  /content/YOLO_Dataset_Main/train/labels/003598.txt           \b\b\b\b 79%\b\b\b\b\b  OK \n",
            "Extracting  /content/YOLO_Dataset_Main/train/labels/003599.txt           \b\b\b\b 79%\b\b\b\b\b  OK \n",
            "Extracting  /content/YOLO_Dataset_Main/train/labels/003600.txt           \b\b\b\b 79%\b\b\b\b\b  OK \n",
            "Extracting  /content/YOLO_Dataset_Main/train/labels/003601.txt           \b\b\b\b 79%\b\b\b\b\b  OK \n",
            "Extracting  /content/YOLO_Dataset_Main/train/labels/003602.txt           \b\b\b\b 79%\b\b\b\b\b  OK \n",
            "Extracting  /content/YOLO_Dataset_Main/train/labels/003603.txt           \b\b\b\b 79%\b\b\b\b\b  OK \n",
            "Extracting  /content/YOLO_Dataset_Main/train/labels/003605.txt           \b\b\b\b 79%\b\b\b\b\b  OK \n",
            "Extracting  /content/YOLO_Dataset_Main/train/labels/003607.txt           \b\b\b\b 79%\b\b\b\b\b  OK \n",
            "Extracting  /content/YOLO_Dataset_Main/train/labels/003608.txt           \b\b\b\b 79%\b\b\b\b\b  OK \n",
            "Extracting  /content/YOLO_Dataset_Main/train/labels/003609.txt           \b\b\b\b 79%\b\b\b\b\b  OK \n",
            "Extracting  /content/YOLO_Dataset_Main/train/labels/003610.txt           \b\b\b\b 79%\b\b\b\b\b  OK \n",
            "Extracting  /content/YOLO_Dataset_Main/train/labels/003611.txt           \b\b\b\b 79%\b\b\b\b\b  OK \n",
            "Extracting  /content/YOLO_Dataset_Main/train/labels/003612.txt           \b\b\b\b 79%\b\b\b\b\b  OK \n",
            "Extracting  /content/YOLO_Dataset_Main/train/labels/003613.txt           \b\b\b\b 79%\b\b\b\b\b  OK \n",
            "Extracting  /content/YOLO_Dataset_Main/train/labels/003614.txt           \b\b\b\b 79%\b\b\b\b\b  OK \n",
            "Extracting  /content/YOLO_Dataset_Main/train/labels/003615.txt           \b\b\b\b 79%\b\b\b\b\b  OK \n",
            "Extracting  /content/YOLO_Dataset_Main/train/labels/003617.txt           \b\b\b\b 79%\b\b\b\b\b  OK \n",
            "Extracting  /content/YOLO_Dataset_Main/train/labels/003618.txt           \b\b\b\b 79%\b\b\b\b\b  OK \n",
            "Extracting  /content/YOLO_Dataset_Main/train/labels/003619.txt           \b\b\b\b 79%\b\b\b\b\b  OK \n",
            "Extracting  /content/YOLO_Dataset_Main/train/labels/003620.txt           \b\b\b\b 79%\b\b\b\b\b  OK \n",
            "Extracting  /content/YOLO_Dataset_Main/train/labels/003621.txt           \b\b\b\b 79%\b\b\b\b\b  OK \n",
            "Extracting  /content/YOLO_Dataset_Main/train/labels/003622.txt           \b\b\b\b 79%\b\b\b\b\b  OK \n",
            "Extracting  /content/YOLO_Dataset_Main/train/labels/003623.txt           \b\b\b\b 79%\b\b\b\b\b  OK \n",
            "Extracting  /content/YOLO_Dataset_Main/train/labels/003624.txt           \b\b\b\b 79%\b\b\b\b\b  OK \n",
            "Extracting  /content/YOLO_Dataset_Main/train/labels/003625.txt           \b\b\b\b 79%\b\b\b\b\b  OK \n",
            "Extracting  /content/YOLO_Dataset_Main/train/labels/003626.txt           \b\b\b\b 79%\b\b\b\b\b  OK \n",
            "Extracting  /content/YOLO_Dataset_Main/train/labels/003627.txt           \b\b\b\b 79%\b\b\b\b\b  OK \n",
            "Extracting  /content/YOLO_Dataset_Main/train/labels/003628.txt           \b\b\b\b 79%\b\b\b\b\b  OK \n",
            "Extracting  /content/YOLO_Dataset_Main/train/labels/003629.txt           \b\b\b\b 79%\b\b\b\b\b  OK \n",
            "Extracting  /content/YOLO_Dataset_Main/train/labels/003631.txt           \b\b\b\b 79%\b\b\b\b\b  OK \n",
            "Extracting  /content/YOLO_Dataset_Main/train/labels/003632.txt           \b\b\b\b 79%\b\b\b\b\b  OK \n",
            "Extracting  /content/YOLO_Dataset_Main/train/labels/003633.txt           \b\b\b\b 79%\b\b\b\b\b  OK \n",
            "Extracting  /content/YOLO_Dataset_Main/train/labels/003634.txt           \b\b\b\b 79%\b\b\b\b\b  OK \n",
            "Extracting  /content/YOLO_Dataset_Main/train/labels/003635.txt           \b\b\b\b 79%\b\b\b\b\b  OK \n",
            "Extracting  /content/YOLO_Dataset_Main/train/labels/003636.txt           \b\b\b\b 79%\b\b\b\b\b  OK \n",
            "Extracting  /content/YOLO_Dataset_Main/train/labels/003638.txt           \b\b\b\b 79%\b\b\b\b\b  OK \n",
            "Extracting  /content/YOLO_Dataset_Main/train/labels/003639.txt           \b\b\b\b 79%\b\b\b\b\b  OK \n",
            "Extracting  /content/YOLO_Dataset_Main/train/labels/003640.txt           \b\b\b\b 79%\b\b\b\b\b  OK \n",
            "Extracting  /content/YOLO_Dataset_Main/train/labels/003641.txt           \b\b\b\b 79%\b\b\b\b\b  OK \n",
            "Extracting  /content/YOLO_Dataset_Main/train/labels/003642.txt           \b\b\b\b 79%\b\b\b\b\b  OK \n",
            "Extracting  /content/YOLO_Dataset_Main/train/labels/003643.txt           \b\b\b\b 79%\b\b\b\b\b  OK \n",
            "Extracting  /content/YOLO_Dataset_Main/train/labels/003644.txt           \b\b\b\b 79%\b\b\b\b\b  OK \n",
            "Extracting  /content/YOLO_Dataset_Main/train/labels/003645.txt           \b\b\b\b 79%\b\b\b\b\b  OK \n",
            "Extracting  /content/YOLO_Dataset_Main/train/labels/003646.txt           \b\b\b\b 79%\b\b\b\b\b  OK \n",
            "Extracting  /content/YOLO_Dataset_Main/train/labels/003647.txt           \b\b\b\b 79%\b\b\b\b\b  OK \n",
            "Extracting  /content/YOLO_Dataset_Main/train/labels/003648.txt           \b\b\b\b 79%\b\b\b\b\b  OK \n",
            "Extracting  /content/YOLO_Dataset_Main/train/labels/003650.txt           \b\b\b\b 79%\b\b\b\b\b  OK \n",
            "Extracting  /content/YOLO_Dataset_Main/train/labels/003651.txt           \b\b\b\b 79%\b\b\b\b\b  OK \n",
            "Extracting  /content/YOLO_Dataset_Main/train/labels/003652.txt           \b\b\b\b 79%\b\b\b\b\b  OK \n",
            "Extracting  /content/YOLO_Dataset_Main/train/labels/003653.txt           \b\b\b\b 79%\b\b\b\b\b  OK \n",
            "Extracting  /content/YOLO_Dataset_Main/train/labels/003656.txt           \b\b\b\b 79%\b\b\b\b\b  OK \n",
            "Extracting  /content/YOLO_Dataset_Main/train/labels/003657.txt           \b\b\b\b 79%\b\b\b\b\b  OK \n",
            "Extracting  /content/YOLO_Dataset_Main/train/labels/003659.txt           \b\b\b\b 79%\b\b\b\b\b  OK \n",
            "Extracting  /content/YOLO_Dataset_Main/train/labels/003661.txt           \b\b\b\b 79%\b\b\b\b\b  OK \n",
            "Extracting  /content/YOLO_Dataset_Main/train/labels/003662.txt           \b\b\b\b 79%\b\b\b\b\b  OK \n",
            "Extracting  /content/YOLO_Dataset_Main/train/labels/003663.txt           \b\b\b\b 79%\b\b\b\b\b  OK \n",
            "Extracting  /content/YOLO_Dataset_Main/train/labels/003664.txt           \b\b\b\b 79%\b\b\b\b\b  OK \n",
            "Extracting  /content/YOLO_Dataset_Main/train/labels/003665.txt           \b\b\b\b 79%\b\b\b\b\b  OK \n",
            "Extracting  /content/YOLO_Dataset_Main/train/labels/003666.txt           \b\b\b\b 79%\b\b\b\b\b  OK \n",
            "Extracting  /content/YOLO_Dataset_Main/train/labels/003667.txt           \b\b\b\b 79%\b\b\b\b\b  OK \n",
            "Extracting  /content/YOLO_Dataset_Main/train/labels/003668.txt           \b\b\b\b 79%\b\b\b\b\b  OK \n",
            "Extracting  /content/YOLO_Dataset_Main/train/labels/003669.txt           \b\b\b\b 79%\b\b\b\b\b  OK \n",
            "Extracting  /content/YOLO_Dataset_Main/train/labels/003670.txt           \b\b\b\b 79%\b\b\b\b\b  OK \n",
            "Extracting  /content/YOLO_Dataset_Main/train/labels/003672.txt           \b\b\b\b 79%\b\b\b\b\b  OK \n",
            "Extracting  /content/YOLO_Dataset_Main/train/labels/003676.txt           \b\b\b\b 79%\b\b\b\b\b  OK \n",
            "Extracting  /content/YOLO_Dataset_Main/train/labels/003677.txt           \b\b\b\b 79%\b\b\b\b\b  OK \n",
            "Extracting  /content/YOLO_Dataset_Main/train/labels/003678.txt           \b\b\b\b 79%\b\b\b\b\b  OK \n",
            "Extracting  /content/YOLO_Dataset_Main/train/labels/003679.txt           \b\b\b\b 79%\b\b\b\b\b  OK \n",
            "Extracting  /content/YOLO_Dataset_Main/train/labels/003680.txt           \b\b\b\b 79%\b\b\b\b\b  OK \n",
            "Extracting  /content/YOLO_Dataset_Main/train/labels/003681.txt           \b\b\b\b 79%\b\b\b\b\b  OK \n",
            "Extracting  /content/YOLO_Dataset_Main/train/labels/003683.txt           \b\b\b\b 79%\b\b\b\b\b  OK \n",
            "Extracting  /content/YOLO_Dataset_Main/train/labels/003684.txt           \b\b\b\b 79%\b\b\b\b\b  OK \n",
            "Extracting  /content/YOLO_Dataset_Main/train/labels/003685.txt           \b\b\b\b 79%\b\b\b\b\b  OK \n",
            "Creating    /content/YOLO_Dataset_Main/val                            OK\n",
            "Creating    /content/YOLO_Dataset_Main/val/images                     OK\n",
            "Extracting  /content/YOLO_Dataset_Main/val/images/000006.jpg             \b\b\b\b 79%\b\b\b\b\b  OK \n",
            "Extracting  /content/YOLO_Dataset_Main/val/images/000012.jpg             \b\b\b\b 79%\b\b\b\b\b  OK \n",
            "Extracting  /content/YOLO_Dataset_Main/val/images/000013.jpg             \b\b\b\b 79%\b\b\b\b\b  OK \n",
            "Extracting  /content/YOLO_Dataset_Main/val/images/000022.jpg             \b\b\b\b 79%\b\b\b\b\b  OK \n",
            "Extracting  /content/YOLO_Dataset_Main/val/images/000023.jpg             \b\b\b\b 79%\b\b\b\b\b  OK \n",
            "Extracting  /content/YOLO_Dataset_Main/val/images/000025.jpg             \b\b\b\b 79%\b\b\b\b\b  OK \n",
            "Extracting  /content/YOLO_Dataset_Main/val/images/000039.jpg             \b\b\b\b 79%\b\b\b\b\b  OK \n",
            "Extracting  /content/YOLO_Dataset_Main/val/images/000041.jpg             \b\b\b\b 79%\b\b\b\b\b  OK \n",
            "Extracting  /content/YOLO_Dataset_Main/val/images/000043.jpg             \b\b\b\b 79%\b\b\b\b\b  OK \n",
            "Extracting  /content/YOLO_Dataset_Main/val/images/000067.jpg             \b\b\b\b 80%\b\b\b\b\b  OK \n",
            "Extracting  /content/YOLO_Dataset_Main/val/images/000068.jpg             \b\b\b\b 80%\b\b\b\b\b  OK \n",
            "Extracting  /content/YOLO_Dataset_Main/val/images/000071.jpg             \b\b\b\b 80%\b\b\b\b\b  OK \n",
            "Extracting  /content/YOLO_Dataset_Main/val/images/000073.jpg             \b\b\b\b 80%\b\b\b\b\b  OK \n",
            "Extracting  /content/YOLO_Dataset_Main/val/images/000084.jpg             \b\b\b\b 80%\b\b\b\b\b  OK \n",
            "Extracting  /content/YOLO_Dataset_Main/val/images/000085.jpg             \b\b\b\b 80%\b\b\b\b\b  OK \n",
            "Extracting  /content/YOLO_Dataset_Main/val/images/000089.jpg             \b\b\b\b 80%\b\b\b\b\b  OK \n",
            "Extracting  /content/YOLO_Dataset_Main/val/images/000092.jpg             \b\b\b\b 80%\b\b\b\b\b  OK \n",
            "Extracting  /content/YOLO_Dataset_Main/val/images/000109.jpg             \b\b\b\b 80%\b\b\b\b\b  OK \n",
            "Extracting  /content/YOLO_Dataset_Main/val/images/000110.jpg             \b\b\b\b 80%\b\b\b\b\b  OK \n",
            "Extracting  /content/YOLO_Dataset_Main/val/images/000111.jpg             \b\b\b\b 80%\b\b\b\b\b  OK \n",
            "Extracting  /content/YOLO_Dataset_Main/val/images/000115.jpg             \b\b\b\b 80%\b\b\b\b\b  OK \n",
            "Extracting  /content/YOLO_Dataset_Main/val/images/000120.jpg             \b\b\b\b 80%\b\b\b\b\b  OK \n",
            "Extracting  /content/YOLO_Dataset_Main/val/images/000123.jpg             \b\b\b\b 80%\b\b\b\b\b  OK \n",
            "Extracting  /content/YOLO_Dataset_Main/val/images/000129.jpg             \b\b\b\b 80%\b\b\b\b\b  OK \n",
            "Extracting  /content/YOLO_Dataset_Main/val/images/000134.jpg             \b\b\b\b 80%\b\b\b\b\b  OK \n",
            "Extracting  /content/YOLO_Dataset_Main/val/images/000136.jpg             \b\b\b\b 80%\b\b\b\b\b  OK \n",
            "Extracting  /content/YOLO_Dataset_Main/val/images/000137.jpg             \b\b\b\b 80%\b\b\b\b\b  OK \n",
            "Extracting  /content/YOLO_Dataset_Main/val/images/000141.jpg             \b\b\b\b 80%\b\b\b\b\b  OK \n",
            "Extracting  /content/YOLO_Dataset_Main/val/images/000149.jpg             \b\b\b\b 80%\b\b\b\b\b  OK \n",
            "Extracting  /content/YOLO_Dataset_Main/val/images/000168.jpg             \b\b\b\b 80%\b\b\b\b\b  OK \n",
            "Extracting  /content/YOLO_Dataset_Main/val/images/000170.jpg             \b\b\b\b 80%\b\b\b\b\b  OK \n",
            "Extracting  /content/YOLO_Dataset_Main/val/images/000172.jpg             \b\b\b\b 80%\b\b\b\b\b  OK \n",
            "Extracting  /content/YOLO_Dataset_Main/val/images/000173.jpg             \b\b\b\b 80%\b\b\b\b\b  OK \n",
            "Extracting  /content/YOLO_Dataset_Main/val/images/000182.jpg             \b\b\b\b 80%\b\b\b\b\b  OK \n",
            "Extracting  /content/YOLO_Dataset_Main/val/images/000183.jpg             \b\b\b\b 80%\b\b\b\b\b  OK \n",
            "Extracting  /content/YOLO_Dataset_Main/val/images/000184.jpg             \b\b\b\b 80%\b\b\b\b\b  OK \n",
            "Extracting  /content/YOLO_Dataset_Main/val/images/000192.jpg             \b\b\b\b 80%\b\b\b\b\b  OK \n",
            "Extracting  /content/YOLO_Dataset_Main/val/images/000195.jpg             \b\b\b\b 80%\b\b\b\b\b  OK \n",
            "Extracting  /content/YOLO_Dataset_Main/val/images/000196.jpg             \b\b\b\b 80%\b\b\b\b\b  OK \n",
            "Extracting  /content/YOLO_Dataset_Main/val/images/000198.jpg             \b\b\b\b 80%\b\b\b\b\b  OK \n",
            "Extracting  /content/YOLO_Dataset_Main/val/images/000208.jpg             \b\b\b\b 80%\b\b\b\b\b  OK \n",
            "Extracting  /content/YOLO_Dataset_Main/val/images/000211.jpg             \b\b\b\b 80%\b\b\b\b\b  OK \n",
            "Extracting  /content/YOLO_Dataset_Main/val/images/000215.jpg             \b\b\b\b 80%\b\b\b\b\b  OK \n",
            "Extracting  /content/YOLO_Dataset_Main/val/images/000222.jpg             \b\b\b\b 80%\b\b\b\b\b  OK \n",
            "Extracting  /content/YOLO_Dataset_Main/val/images/000223.jpg             \b\b\b\b 80%\b\b\b\b\b  OK \n",
            "Extracting  /content/YOLO_Dataset_Main/val/images/000228.jpg             \b\b\b\b 80%\b\b\b\b\b  OK \n",
            "Extracting  /content/YOLO_Dataset_Main/val/images/000230.jpg             \b\b\b\b 80%\b\b\b\b\b  OK \n",
            "Extracting  /content/YOLO_Dataset_Main/val/images/000246.jpg             \b\b\b\b 80%\b\b\b\b\b  OK \n",
            "Extracting  /content/YOLO_Dataset_Main/val/images/000249.jpg             \b\b\b\b 80%\b\b\b\b\b  OK \n",
            "Extracting  /content/YOLO_Dataset_Main/val/images/000262.jpg             \b\b\b\b 81%\b\b\b\b\b  OK \n",
            "Extracting  /content/YOLO_Dataset_Main/val/images/000264.jpg             \b\b\b\b 81%\b\b\b\b\b  OK \n",
            "Extracting  /content/YOLO_Dataset_Main/val/images/000269.jpg             \b\b\b\b 81%\b\b\b\b\b  OK \n",
            "Extracting  /content/YOLO_Dataset_Main/val/images/000279.jpg             \b\b\b\b 81%\b\b\b\b\b  OK \n",
            "Extracting  /content/YOLO_Dataset_Main/val/images/000281.jpg             \b\b\b\b 81%\b\b\b\b\b  OK \n",
            "Extracting  /content/YOLO_Dataset_Main/val/images/000286.jpg             \b\b\b\b 81%\b\b\b\b\b  OK \n",
            "Extracting  /content/YOLO_Dataset_Main/val/images/000296.jpg             \b\b\b\b 81%\b\b\b\b\b  OK \n",
            "Extracting  /content/YOLO_Dataset_Main/val/images/000297.jpg             \b\b\b\b 81%\b\b\b\b\b  OK \n",
            "Extracting  /content/YOLO_Dataset_Main/val/images/000314.jpg             \b\b\b\b 81%\b\b\b\b\b  OK \n",
            "Extracting  /content/YOLO_Dataset_Main/val/images/000315.jpg             \b\b\b\b 81%\b\b\b\b\b  OK \n",
            "Extracting  /content/YOLO_Dataset_Main/val/images/000319.jpg             \b\b\b\b 81%\b\b\b\b\b  OK \n",
            "Extracting  /content/YOLO_Dataset_Main/val/images/000320.jpg             \b\b\b\b 81%\b\b\b\b\b  OK \n",
            "Extracting  /content/YOLO_Dataset_Main/val/images/000326.jpg             \b\b\b\b 81%\b\b\b\b\b  OK \n",
            "Extracting  /content/YOLO_Dataset_Main/val/images/000327.jpg             \b\b\b\b 81%\b\b\b\b\b  OK \n",
            "Extracting  /content/YOLO_Dataset_Main/val/images/000328.jpg             \b\b\b\b 81%\b\b\b\b\b  OK \n",
            "Extracting  /content/YOLO_Dataset_Main/val/images/000332.jpg             \b\b\b\b 81%\b\b\b\b\b  OK \n",
            "Extracting  /content/YOLO_Dataset_Main/val/images/000337.jpg             \b\b\b\b 81%\b\b\b\b\b  OK \n",
            "Extracting  /content/YOLO_Dataset_Main/val/images/000341.jpg             \b\b\b\b 81%\b\b\b\b\b  OK \n",
            "Extracting  /content/YOLO_Dataset_Main/val/images/000343.jpg             \b\b\b\b 81%\b\b\b\b\b  OK \n",
            "Extracting  /content/YOLO_Dataset_Main/val/images/000351.jpg             \b\b\b\b 81%\b\b\b\b\b  OK \n",
            "Extracting  /content/YOLO_Dataset_Main/val/images/000355.jpg             \b\b\b\b 81%\b\b\b\b\b  OK \n",
            "Extracting  /content/YOLO_Dataset_Main/val/images/000362.jpg             \b\b\b\b 81%\b\b\b\b\b  OK \n",
            "Extracting  /content/YOLO_Dataset_Main/val/images/000369.jpg             \b\b\b\b 81%\b\b\b\b\b  OK \n",
            "Extracting  /content/YOLO_Dataset_Main/val/images/000372.jpg             \b\b\b\b 81%\b\b\b\b\b  OK \n",
            "Extracting  /content/YOLO_Dataset_Main/val/images/000376.jpg             \b\b\b\b 81%\b\b\b\b\b  OK \n",
            "Extracting  /content/YOLO_Dataset_Main/val/images/000384.jpg             \b\b\b\b 81%\b\b\b\b\b  OK \n",
            "Extracting  /content/YOLO_Dataset_Main/val/images/000387.jpg             \b\b\b\b 81%\b\b\b\b\b  OK \n",
            "Extracting  /content/YOLO_Dataset_Main/val/images/000388.jpg             \b\b\b\b 81%\b\b\b\b\b  OK \n",
            "Extracting  /content/YOLO_Dataset_Main/val/images/000390.jpg             \b\b\b\b 81%\b\b\b\b\b  OK \n",
            "Extracting  /content/YOLO_Dataset_Main/val/images/000394.jpg             \b\b\b\b 82%\b\b\b\b\b  OK \n",
            "Extracting  /content/YOLO_Dataset_Main/val/images/000403.jpg             \b\b\b\b 82%\b\b\b\b\b  OK \n",
            "Extracting  /content/YOLO_Dataset_Main/val/images/000417.jpg             \b\b\b\b 82%\b\b\b\b\b  OK \n",
            "Extracting  /content/YOLO_Dataset_Main/val/images/000423.jpg             \b\b\b\b 82%\b\b\b\b\b  OK \n",
            "Extracting  /content/YOLO_Dataset_Main/val/images/000425.jpg             \b\b\b\b 82%\b\b\b\b\b  OK \n",
            "Extracting  /content/YOLO_Dataset_Main/val/images/000426.jpg             \b\b\b\b 82%\b\b\b\b\b  OK \n",
            "Extracting  /content/YOLO_Dataset_Main/val/images/000438.jpg             \b\b\b\b 82%\b\b\b\b\b  OK \n",
            "Extracting  /content/YOLO_Dataset_Main/val/images/000440.jpg             \b\b\b\b 82%\b\b\b\b\b  OK \n",
            "Extracting  /content/YOLO_Dataset_Main/val/images/000442.jpg             \b\b\b\b 82%\b\b\b\b\b  OK \n",
            "Extracting  /content/YOLO_Dataset_Main/val/images/000444.jpg             \b\b\b\b 82%\b\b\b\b\b  OK \n",
            "Extracting  /content/YOLO_Dataset_Main/val/images/000446.jpg             \b\b\b\b 82%\b\b\b\b\b  OK \n",
            "Extracting  /content/YOLO_Dataset_Main/val/images/000455.jpg             \b\b\b\b 82%\b\b\b\b\b  OK \n",
            "Extracting  /content/YOLO_Dataset_Main/val/images/000469.jpg             \b\b\b\b 82%\b\b\b\b\b  OK \n",
            "Extracting  /content/YOLO_Dataset_Main/val/images/000473.jpg             \b\b\b\b 82%\b\b\b\b\b  OK \n",
            "Extracting  /content/YOLO_Dataset_Main/val/images/000492.jpg             \b\b\b\b 82%\b\b\b\b\b  OK \n",
            "Extracting  /content/YOLO_Dataset_Main/val/images/000495.jpg             \b\b\b\b 82%\b\b\b\b\b  OK \n",
            "Extracting  /content/YOLO_Dataset_Main/val/images/000496.jpg             \b\b\b\b 82%\b\b\b\b\b  OK \n",
            "Extracting  /content/YOLO_Dataset_Main/val/images/000497.jpg             \b\b\b\b 82%\b\b\b\b\b  OK \n",
            "Extracting  /content/YOLO_Dataset_Main/val/images/000502.jpg             \b\b\b\b 82%\b\b\b\b\b  OK \n",
            "Extracting  /content/YOLO_Dataset_Main/val/images/000509.jpg             \b\b\b\b 82%\b\b\b\b\b  OK \n",
            "Extracting  /content/YOLO_Dataset_Main/val/images/000510.jpg             \b\b\b\b 82%\b\b\b\b\b  OK \n",
            "Extracting  /content/YOLO_Dataset_Main/val/images/000511.jpg             \b\b\b\b 82%\b\b\b\b\b  OK \n",
            "Extracting  /content/YOLO_Dataset_Main/val/images/000512.jpg             \b\b\b\b 82%\b\b\b\b\b  OK \n",
            "Extracting  /content/YOLO_Dataset_Main/val/images/000515.jpg             \b\b\b\b 82%\b\b\b\b\b  OK \n",
            "Extracting  /content/YOLO_Dataset_Main/val/images/000522.jpg             \b\b\b\b 82%\b\b\b\b\b  OK \n",
            "Extracting  /content/YOLO_Dataset_Main/val/images/000524.jpg             \b\b\b\b 82%\b\b\b\b\b  OK \n",
            "Extracting  /content/YOLO_Dataset_Main/val/images/000527.jpg             \b\b\b\b 82%\b\b\b\b\b  OK \n",
            "Extracting  /content/YOLO_Dataset_Main/val/images/000533.jpg             \b\b\b\b 82%\b\b\b\b\b  OK \n",
            "Extracting  /content/YOLO_Dataset_Main/val/images/000538.jpg             \b\b\b\b 82%\b\b\b\b\b  OK \n",
            "Extracting  /content/YOLO_Dataset_Main/val/images/000539.jpg             \b\b\b\b 82%\b\b\b\b\b  OK \n",
            "Extracting  /content/YOLO_Dataset_Main/val/images/000542.jpg             \b\b\b\b 82%\b\b\b\b\b  OK \n",
            "Extracting  /content/YOLO_Dataset_Main/val/images/000545.jpg             \b\b\b\b 82%\b\b\b\b\b  OK \n",
            "Extracting  /content/YOLO_Dataset_Main/val/images/000547.jpg             \b\b\b\b 82%\b\b\b\b\b  OK \n",
            "Extracting  /content/YOLO_Dataset_Main/val/images/000549.jpg             \b\b\b\b 82%\b\b\b\b\b  OK \n",
            "Extracting  /content/YOLO_Dataset_Main/val/images/000553.jpg             \b\b\b\b 82%\b\b\b\b\b  OK \n",
            "Extracting  /content/YOLO_Dataset_Main/val/images/000557.jpg             \b\b\b\b 82%\b\b\b\b\b  OK \n",
            "Extracting  /content/YOLO_Dataset_Main/val/images/000558.jpg             \b\b\b\b 82%\b\b\b\b\b  OK \n",
            "Extracting  /content/YOLO_Dataset_Main/val/images/000564.jpg             \b\b\b\b 83%\b\b\b\b\b  OK \n",
            "Extracting  /content/YOLO_Dataset_Main/val/images/000571.jpg             \b\b\b\b 83%\b\b\b\b\b  OK \n",
            "Extracting  /content/YOLO_Dataset_Main/val/images/000573.jpg             \b\b\b\b 83%\b\b\b\b\b  OK \n",
            "Extracting  /content/YOLO_Dataset_Main/val/images/000578.jpg             \b\b\b\b 83%\b\b\b\b\b  OK \n",
            "Extracting  /content/YOLO_Dataset_Main/val/images/000580.jpg             \b\b\b\b 83%\b\b\b\b\b  OK \n",
            "Extracting  /content/YOLO_Dataset_Main/val/images/000584.jpg             \b\b\b\b 83%\b\b\b\b\b  OK \n",
            "Extracting  /content/YOLO_Dataset_Main/val/images/000586.jpg             \b\b\b\b 83%\b\b\b\b\b  OK \n",
            "Extracting  /content/YOLO_Dataset_Main/val/images/000588.jpg             \b\b\b\b 83%\b\b\b\b\b  OK \n",
            "Extracting  /content/YOLO_Dataset_Main/val/images/000589.jpg             \b\b\b\b 83%\b\b\b\b\b  OK \n",
            "Extracting  /content/YOLO_Dataset_Main/val/images/000596.jpg             \b\b\b\b 83%\b\b\b\b\b  OK \n",
            "Extracting  /content/YOLO_Dataset_Main/val/images/000597.jpg             \b\b\b\b 83%\b\b\b\b\b  OK \n",
            "Extracting  /content/YOLO_Dataset_Main/val/images/000603.jpg             \b\b\b\b 83%\b\b\b\b\b  OK \n",
            "Extracting  /content/YOLO_Dataset_Main/val/images/000607.jpg             \b\b\b\b 83%\b\b\b\b\b  OK \n",
            "Extracting  /content/YOLO_Dataset_Main/val/images/000616.jpg             \b\b\b\b 83%\b\b\b\b\b  OK \n",
            "Extracting  /content/YOLO_Dataset_Main/val/images/000619.jpg             \b\b\b\b 83%\b\b\b\b\b  OK \n",
            "Extracting  /content/YOLO_Dataset_Main/val/images/000632.jpg             \b\b\b\b 83%\b\b\b\b\b  OK \n",
            "Extracting  /content/YOLO_Dataset_Main/val/images/000633.jpg             \b\b\b\b 83%\b\b\b\b\b  OK \n",
            "Extracting  /content/YOLO_Dataset_Main/val/images/000640.jpg             \b\b\b\b 83%\b\b\b\b\b  OK \n",
            "Extracting  /content/YOLO_Dataset_Main/val/images/000651.jpg             \b\b\b\b 83%\b\b\b\b\b  OK \n",
            "Extracting  /content/YOLO_Dataset_Main/val/images/000658.jpg             \b\b\b\b 83%\b\b\b\b\b  OK \n",
            "Extracting  /content/YOLO_Dataset_Main/val/images/000659.jpg             \b\b\b\b 83%\b\b\b\b\b  OK \n",
            "Extracting  /content/YOLO_Dataset_Main/val/images/000660.jpg             \b\b\b\b 83%\b\b\b\b\b  OK \n",
            "Extracting  /content/YOLO_Dataset_Main/val/images/000663.jpg             \b\b\b\b 83%\b\b\b\b\b  OK \n",
            "Extracting  /content/YOLO_Dataset_Main/val/images/000665.jpg             \b\b\b\b 83%\b\b\b\b\b  OK \n",
            "Extracting  /content/YOLO_Dataset_Main/val/images/000667.jpg             \b\b\b\b 83%\b\b\b\b\b  OK \n",
            "Extracting  /content/YOLO_Dataset_Main/val/images/000678.jpg             \b\b\b\b 83%\b\b\b\b\b  OK \n",
            "Extracting  /content/YOLO_Dataset_Main/val/images/000682.jpg             \b\b\b\b 83%\b\b\b\b\b  OK \n",
            "Extracting  /content/YOLO_Dataset_Main/val/images/000683.jpg             \b\b\b\b 83%\b\b\b\b\b  OK \n",
            "Extracting  /content/YOLO_Dataset_Main/val/images/000687.jpg             \b\b\b\b 83%\b\b\b\b\b  OK \n",
            "Extracting  /content/YOLO_Dataset_Main/val/images/000706.jpg             \b\b\b\b 83%\b\b\b\b\b  OK \n",
            "Extracting  /content/YOLO_Dataset_Main/val/images/000711.jpg             \b\b\b\b 83%\b\b\b\b\b  OK \n",
            "Extracting  /content/YOLO_Dataset_Main/val/images/000712.jpg             \b\b\b\b 83%\b\b\b\b\b  OK \n",
            "Extracting  /content/YOLO_Dataset_Main/val/images/000718.jpg             \b\b\b\b 83%\b\b\b\b\b  OK \n",
            "Extracting  /content/YOLO_Dataset_Main/val/images/000721.jpg             \b\b\b\b 83%\b\b\b\b\b  OK \n",
            "Extracting  /content/YOLO_Dataset_Main/val/images/000724.jpg             \b\b\b\b 83%\b\b\b\b\b  OK \n",
            "Extracting  /content/YOLO_Dataset_Main/val/images/000729.jpg             \b\b\b\b 83%\b\b\b\b\b  OK \n",
            "Extracting  /content/YOLO_Dataset_Main/val/images/000744.jpg             \b\b\b\b 83%\b\b\b\b\b  OK \n",
            "Extracting  /content/YOLO_Dataset_Main/val/images/000757.jpg             \b\b\b\b 84%\b\b\b\b\b  OK \n",
            "Extracting  /content/YOLO_Dataset_Main/val/images/000758.jpg             \b\b\b\b 84%\b\b\b\b\b  OK \n",
            "Extracting  /content/YOLO_Dataset_Main/val/images/000768.jpg             \b\b\b\b 84%\b\b\b\b\b  OK \n",
            "Extracting  /content/YOLO_Dataset_Main/val/images/000770.jpg             \b\b\b\b 84%\b\b\b\b\b  OK \n",
            "Extracting  /content/YOLO_Dataset_Main/val/images/000785.jpg             \b\b\b\b 84%\b\b\b\b\b  OK \n",
            "Extracting  /content/YOLO_Dataset_Main/val/images/000795.jpg             \b\b\b\b 84%\b\b\b\b\b  OK \n",
            "Extracting  /content/YOLO_Dataset_Main/val/images/000799.jpg             \b\b\b\b 84%\b\b\b\b\b  OK \n",
            "Extracting  /content/YOLO_Dataset_Main/val/images/000800.jpg             \b\b\b\b 84%\b\b\b\b\b  OK \n",
            "Extracting  /content/YOLO_Dataset_Main/val/images/000808.jpg             \b\b\b\b 84%\b\b\b\b\b  OK \n",
            "Extracting  /content/YOLO_Dataset_Main/val/images/000809.jpg             \b\b\b\b 84%\b\b\b\b\b  OK \n",
            "Extracting  /content/YOLO_Dataset_Main/val/images/000817.jpg             \b\b\b\b 84%\b\b\b\b\b  OK \n",
            "Extracting  /content/YOLO_Dataset_Main/val/images/000819.jpg             \b\b\b\b 84%\b\b\b\b\b  OK \n",
            "Extracting  /content/YOLO_Dataset_Main/val/images/000821.jpg             \b\b\b\b 84%\b\b\b\b\b  OK \n",
            "Extracting  /content/YOLO_Dataset_Main/val/images/000826.jpg             \b\b\b\b 84%\b\b\b\b\b  OK \n",
            "Extracting  /content/YOLO_Dataset_Main/val/images/000835.jpg             \b\b\b\b 84%\b\b\b\b\b  OK \n",
            "Extracting  /content/YOLO_Dataset_Main/val/images/000839.jpg             \b\b\b\b 84%\b\b\b\b\b  OK \n",
            "Extracting  /content/YOLO_Dataset_Main/val/images/000842.jpg             \b\b\b\b 84%\b\b\b\b\b  OK \n",
            "Extracting  /content/YOLO_Dataset_Main/val/images/000846.jpg             \b\b\b\b 84%\b\b\b\b\b  OK \n",
            "Extracting  /content/YOLO_Dataset_Main/val/images/000847.jpg             \b\b\b\b 84%\b\b\b\b\b  OK \n",
            "Extracting  /content/YOLO_Dataset_Main/val/images/000852.jpg             \b\b\b\b 84%\b\b\b\b\b  OK \n",
            "Extracting  /content/YOLO_Dataset_Main/val/images/000858.jpg             \b\b\b\b 84%\b\b\b\b\b  OK \n",
            "Extracting  /content/YOLO_Dataset_Main/val/images/000859.jpg             \b\b\b\b 84%\b\b\b\b\b  OK \n",
            "Extracting  /content/YOLO_Dataset_Main/val/images/000863.jpg             \b\b\b\b 84%\b\b\b\b\b  OK \n",
            "Extracting  /content/YOLO_Dataset_Main/val/images/000899.jpg             \b\b\b\b 84%\b\b\b\b\b  OK \n",
            "Extracting  /content/YOLO_Dataset_Main/val/images/000901.jpg             \b\b\b\b 84%\b\b\b\b\b  OK \n",
            "Extracting  /content/YOLO_Dataset_Main/val/images/000908.jpg             \b\b\b\b 84%\b\b\b\b\b  OK \n",
            "Extracting  /content/YOLO_Dataset_Main/val/images/000912.jpg             \b\b\b\b 84%\b\b\b\b\b  OK \n",
            "Extracting  /content/YOLO_Dataset_Main/val/images/000916.jpg             \b\b\b\b 84%\b\b\b\b\b  OK \n",
            "Extracting  /content/YOLO_Dataset_Main/val/images/000926.jpg             \b\b\b\b 84%\b\b\b\b\b  OK \n",
            "Extracting  /content/YOLO_Dataset_Main/val/images/000933.jpg             \b\b\b\b 84%\b\b\b\b\b  OK \n",
            "Extracting  /content/YOLO_Dataset_Main/val/images/000939.jpg             \b\b\b\b 84%\b\b\b\b\b  OK \n",
            "Extracting  /content/YOLO_Dataset_Main/val/images/000944.jpg             \b\b\b\b 84%\b\b\b\b\b  OK \n",
            "Extracting  /content/YOLO_Dataset_Main/val/images/000946.jpg             \b\b\b\b 84%\b\b\b\b\b  OK \n",
            "Extracting  /content/YOLO_Dataset_Main/val/images/000952.jpg             \b\b\b\b 84%\b\b\b\b\b  OK \n",
            "Extracting  /content/YOLO_Dataset_Main/val/images/000956.jpg             \b\b\b\b 84%\b\b\b\b\b  OK \n",
            "Extracting  /content/YOLO_Dataset_Main/val/images/000958.jpg             \b\b\b\b 84%\b\b\b\b\b  OK \n",
            "Extracting  /content/YOLO_Dataset_Main/val/images/000964.jpg             \b\b\b\b 84%\b\b\b\b\b  OK \n",
            "Extracting  /content/YOLO_Dataset_Main/val/images/000977.jpg             \b\b\b\b 85%\b\b\b\b\b  OK \n",
            "Extracting  /content/YOLO_Dataset_Main/val/images/000982.jpg             \b\b\b\b 85%\b\b\b\b\b  OK \n",
            "Extracting  /content/YOLO_Dataset_Main/val/images/000985.jpg             \b\b\b\b 85%\b\b\b\b\b  OK \n",
            "Extracting  /content/YOLO_Dataset_Main/val/images/000986.jpg             \b\b\b\b 85%\b\b\b\b\b  OK \n",
            "Extracting  /content/YOLO_Dataset_Main/val/images/000987.jpg             \b\b\b\b 85%\b\b\b\b\b  OK \n",
            "Extracting  /content/YOLO_Dataset_Main/val/images/000992.jpg             \b\b\b\b 85%\b\b\b\b\b  OK \n",
            "Extracting  /content/YOLO_Dataset_Main/val/images/000993.jpg             \b\b\b\b 85%\b\b\b\b\b  OK \n",
            "Extracting  /content/YOLO_Dataset_Main/val/images/000998.jpg             \b\b\b\b 85%\b\b\b\b\b  OK \n",
            "Extracting  /content/YOLO_Dataset_Main/val/images/001009.jpg             \b\b\b\b 85%\b\b\b\b\b  OK \n",
            "Extracting  /content/YOLO_Dataset_Main/val/images/001015.jpg             \b\b\b\b 85%\b\b\b\b\b  OK \n",
            "Extracting  /content/YOLO_Dataset_Main/val/images/001018.jpg             \b\b\b\b 85%\b\b\b\b\b  OK \n",
            "Extracting  /content/YOLO_Dataset_Main/val/images/001023.jpg             \b\b\b\b 85%\b\b\b\b\b  OK \n",
            "Extracting  /content/YOLO_Dataset_Main/val/images/001024.jpg             \b\b\b\b 85%\b\b\b\b\b  OK \n",
            "Extracting  /content/YOLO_Dataset_Main/val/images/001027.jpg             \b\b\b\b 85%\b\b\b\b\b  OK \n",
            "Extracting  /content/YOLO_Dataset_Main/val/images/001032.jpg             \b\b\b\b 85%\b\b\b\b\b  OK \n",
            "Extracting  /content/YOLO_Dataset_Main/val/images/001033.jpg             \b\b\b\b 85%\b\b\b\b\b  OK \n",
            "Extracting  /content/YOLO_Dataset_Main/val/images/001034.jpg             \b\b\b\b 85%\b\b\b\b\b  OK \n",
            "Extracting  /content/YOLO_Dataset_Main/val/images/001052.jpg             \b\b\b\b 85%\b\b\b\b\b  OK \n",
            "Extracting  /content/YOLO_Dataset_Main/val/images/001055.jpg             \b\b\b\b 85%\b\b\b\b\b  OK \n",
            "Extracting  /content/YOLO_Dataset_Main/val/images/001067.jpg             \b\b\b\b 85%\b\b\b\b\b  OK \n",
            "Extracting  /content/YOLO_Dataset_Main/val/images/001071.jpg             \b\b\b\b 85%\b\b\b\b\b  OK \n",
            "Extracting  /content/YOLO_Dataset_Main/val/images/001074.jpg             \b\b\b\b 85%\b\b\b\b\b  OK \n",
            "Extracting  /content/YOLO_Dataset_Main/val/images/001076.jpg             \b\b\b\b 85%\b\b\b\b\b  OK \n",
            "Extracting  /content/YOLO_Dataset_Main/val/images/001088.jpg             \b\b\b\b 85%\b\b\b\b\b  OK \n",
            "Extracting  /content/YOLO_Dataset_Main/val/images/001097.jpg             \b\b\b\b 85%\b\b\b\b\b  OK \n",
            "Extracting  /content/YOLO_Dataset_Main/val/images/001102.jpg             \b\b\b\b 85%\b\b\b\b\b  OK \n",
            "Extracting  /content/YOLO_Dataset_Main/val/images/001107.jpg             \b\b\b\b 85%\b\b\b\b\b  OK \n",
            "Extracting  /content/YOLO_Dataset_Main/val/images/001110.jpg             \b\b\b\b 85%\b\b\b\b\b  OK \n",
            "Extracting  /content/YOLO_Dataset_Main/val/images/001111.jpg             \b\b\b\b 85%\b\b\b\b\b  OK \n",
            "Extracting  /content/YOLO_Dataset_Main/val/images/001116.jpg             \b\b\b\b 85%\b\b\b\b\b  OK \n",
            "Extracting  /content/YOLO_Dataset_Main/val/images/001122.jpg             \b\b\b\b 85%\b\b\b\b\b  OK \n",
            "Extracting  /content/YOLO_Dataset_Main/val/images/001134.jpg             \b\b\b\b 85%\b\b\b\b\b  OK \n",
            "Extracting  /content/YOLO_Dataset_Main/val/images/001140.jpg             \b\b\b\b 85%\b\b\b\b\b  OK \n",
            "Extracting  /content/YOLO_Dataset_Main/val/images/001143.jpg             \b\b\b\b 85%\b\b\b\b\b  OK \n",
            "Extracting  /content/YOLO_Dataset_Main/val/images/001154.jpg             \b\b\b\b 85%\b\b\b\b\b  OK \n",
            "Extracting  /content/YOLO_Dataset_Main/val/images/001157.jpg             \b\b\b\b 85%\b\b\b\b\b  OK \n",
            "Extracting  /content/YOLO_Dataset_Main/val/images/001158.jpg             \b\b\b\b 86%\b\b\b\b\b  OK \n",
            "Extracting  /content/YOLO_Dataset_Main/val/images/001163.jpg             \b\b\b\b 86%\b\b\b\b\b  OK \n",
            "Extracting  /content/YOLO_Dataset_Main/val/images/001174.jpg             \b\b\b\b 86%\b\b\b\b\b  OK \n",
            "Extracting  /content/YOLO_Dataset_Main/val/images/001175.jpg             \b\b\b\b 86%\b\b\b\b\b  OK \n",
            "Extracting  /content/YOLO_Dataset_Main/val/images/001183.jpg             \b\b\b\b 86%\b\b\b\b\b  OK \n",
            "Extracting  /content/YOLO_Dataset_Main/val/images/001190.jpg             \b\b\b\b 86%\b\b\b\b\b  OK \n",
            "Extracting  /content/YOLO_Dataset_Main/val/images/001194.jpg             \b\b\b\b 86%\b\b\b\b\b  OK \n",
            "Extracting  /content/YOLO_Dataset_Main/val/images/001195.jpg             \b\b\b\b 86%\b\b\b\b\b  OK \n",
            "Extracting  /content/YOLO_Dataset_Main/val/images/001199.jpg             \b\b\b\b 86%\b\b\b\b\b  OK \n",
            "Extracting  /content/YOLO_Dataset_Main/val/images/001202.jpg             \b\b\b\b 86%\b\b\b\b\b  OK \n",
            "Extracting  /content/YOLO_Dataset_Main/val/images/001204.jpg             \b\b\b\b 86%\b\b\b\b\b  OK \n",
            "Extracting  /content/YOLO_Dataset_Main/val/images/001209.jpg             \b\b\b\b 86%\b\b\b\b\b  OK \n",
            "Extracting  /content/YOLO_Dataset_Main/val/images/001213.jpg             \b\b\b\b 86%\b\b\b\b\b  OK \n",
            "Extracting  /content/YOLO_Dataset_Main/val/images/001215.jpg             \b\b\b\b 86%\b\b\b\b\b  OK \n",
            "Extracting  /content/YOLO_Dataset_Main/val/images/001225.jpg             \b\b\b\b 86%\b\b\b\b\b  OK \n",
            "Extracting  /content/YOLO_Dataset_Main/val/images/001238.jpg             \b\b\b\b 86%\b\b\b\b\b  OK \n",
            "Extracting  /content/YOLO_Dataset_Main/val/images/001240.jpg             \b\b\b\b 86%\b\b\b\b\b  OK \n",
            "Extracting  /content/YOLO_Dataset_Main/val/images/001245.jpg             \b\b\b\b 86%\b\b\b\b\b  OK \n",
            "Extracting  /content/YOLO_Dataset_Main/val/images/001247.jpg             \b\b\b\b 86%\b\b\b\b\b  OK \n",
            "Extracting  /content/YOLO_Dataset_Main/val/images/001252.jpg             \b\b\b\b 86%\b\b\b\b\b  OK \n",
            "Extracting  /content/YOLO_Dataset_Main/val/images/001258.jpg             \b\b\b\b 86%\b\b\b\b\b  OK \n",
            "Extracting  /content/YOLO_Dataset_Main/val/images/001263.jpg             \b\b\b\b 86%\b\b\b\b\b  OK \n",
            "Extracting  /content/YOLO_Dataset_Main/val/images/001267.jpg             \b\b\b\b 86%\b\b\b\b\b  OK \n",
            "Extracting  /content/YOLO_Dataset_Main/val/images/001276.jpg             \b\b\b\b 86%\b\b\b\b\b  OK \n",
            "Extracting  /content/YOLO_Dataset_Main/val/images/001280.jpg             \b\b\b\b 86%\b\b\b\b\b  OK \n",
            "Extracting  /content/YOLO_Dataset_Main/val/images/001290.jpg             \b\b\b\b 86%\b\b\b\b\b  OK \n",
            "Extracting  /content/YOLO_Dataset_Main/val/images/001293.jpg             \b\b\b\b 86%\b\b\b\b\b  OK \n",
            "Extracting  /content/YOLO_Dataset_Main/val/images/001298.jpg             \b\b\b\b 86%\b\b\b\b\b  OK \n",
            "Extracting  /content/YOLO_Dataset_Main/val/images/001305.jpg             \b\b\b\b 86%\b\b\b\b\b  OK \n",
            "Extracting  /content/YOLO_Dataset_Main/val/images/001307.jpg             \b\b\b\b 86%\b\b\b\b\b  OK \n",
            "Extracting  /content/YOLO_Dataset_Main/val/images/001309.jpg             \b\b\b\b 86%\b\b\b\b\b  OK \n",
            "Extracting  /content/YOLO_Dataset_Main/val/images/001322.jpg             \b\b\b\b 86%\b\b\b\b\b  OK \n",
            "Extracting  /content/YOLO_Dataset_Main/val/images/001325.jpg             \b\b\b\b 86%\b\b\b\b\b  OK \n",
            "Extracting  /content/YOLO_Dataset_Main/val/images/001329.jpg             \b\b\b\b 86%\b\b\b\b\b  OK \n",
            "Extracting  /content/YOLO_Dataset_Main/val/images/001332.jpg             \b\b\b\b 86%\b\b\b\b\b  OK \n",
            "Extracting  /content/YOLO_Dataset_Main/val/images/001335.jpg             \b\b\b\b 86%\b\b\b\b\b  OK \n",
            "Extracting  /content/YOLO_Dataset_Main/val/images/001339.jpg             \b\b\b\b 86%\b\b\b\b\b  OK \n",
            "Extracting  /content/YOLO_Dataset_Main/val/images/001341.jpg             \b\b\b\b 86%\b\b\b\b\b  OK \n",
            "Extracting  /content/YOLO_Dataset_Main/val/images/001347.jpg             \b\b\b\b 86%\b\b\b\b\b  OK \n",
            "Extracting  /content/YOLO_Dataset_Main/val/images/001350.jpg             \b\b\b\b 86%\b\b\b\b\b  OK \n",
            "Extracting  /content/YOLO_Dataset_Main/val/images/001366.jpg             \b\b\b\b 86%\b\b\b\b\b  OK \n",
            "Extracting  /content/YOLO_Dataset_Main/val/images/001371.jpg             \b\b\b\b 86%\b\b\b\b\b  OK \n",
            "Extracting  /content/YOLO_Dataset_Main/val/images/001372.jpg             \b\b\b\b 86%\b\b\b\b\b  OK \n",
            "Extracting  /content/YOLO_Dataset_Main/val/images/001373.jpg             \b\b\b\b 86%\b\b\b\b\b  OK \n",
            "Extracting  /content/YOLO_Dataset_Main/val/images/001375.jpg             \b\b\b\b 86%\b\b\b\b\b  OK \n",
            "Extracting  /content/YOLO_Dataset_Main/val/images/001377.jpg             \b\b\b\b 87%\b\b\b\b\b  OK \n",
            "Extracting  /content/YOLO_Dataset_Main/val/images/001386.jpg             \b\b\b\b 87%\b\b\b\b\b  OK \n",
            "Extracting  /content/YOLO_Dataset_Main/val/images/001387.jpg             \b\b\b\b 87%\b\b\b\b\b  OK \n",
            "Extracting  /content/YOLO_Dataset_Main/val/images/001392.jpg             \b\b\b\b 87%\b\b\b\b\b  OK \n",
            "Extracting  /content/YOLO_Dataset_Main/val/images/001393.jpg             \b\b\b\b 87%\b\b\b\b\b  OK \n",
            "Extracting  /content/YOLO_Dataset_Main/val/images/001398.jpg             \b\b\b\b 87%\b\b\b\b\b  OK \n",
            "Extracting  /content/YOLO_Dataset_Main/val/images/001402.jpg             \b\b\b\b 87%\b\b\b\b\b  OK \n",
            "Extracting  /content/YOLO_Dataset_Main/val/images/001410.jpg             \b\b\b\b 87%\b\b\b\b\b  OK \n",
            "Extracting  /content/YOLO_Dataset_Main/val/images/001419.jpg             \b\b\b\b 87%\b\b\b\b\b  OK \n",
            "Extracting  /content/YOLO_Dataset_Main/val/images/001420.jpg             \b\b\b\b 87%\b\b\b\b\b  OK \n",
            "Extracting  /content/YOLO_Dataset_Main/val/images/001433.jpg             \b\b\b\b 87%\b\b\b\b\b  OK \n",
            "Extracting  /content/YOLO_Dataset_Main/val/images/001434.jpg             \b\b\b\b 87%\b\b\b\b\b  OK \n",
            "Extracting  /content/YOLO_Dataset_Main/val/images/001437.jpg             \b\b\b\b 87%\b\b\b\b\b  OK \n",
            "Extracting  /content/YOLO_Dataset_Main/val/images/001440.jpg             \b\b\b\b 87%\b\b\b\b\b  OK \n",
            "Extracting  /content/YOLO_Dataset_Main/val/images/001442.jpg             \b\b\b\b 87%\b\b\b\b\b  OK \n",
            "Extracting  /content/YOLO_Dataset_Main/val/images/001444.jpg             \b\b\b\b 87%\b\b\b\b\b  OK \n",
            "Extracting  /content/YOLO_Dataset_Main/val/images/001447.jpg             \b\b\b\b 87%\b\b\b\b\b  OK \n",
            "Extracting  /content/YOLO_Dataset_Main/val/images/001448.jpg             \b\b\b\b 87%\b\b\b\b\b  OK \n",
            "Extracting  /content/YOLO_Dataset_Main/val/images/001456.jpg             \b\b\b\b 87%\b\b\b\b\b  OK \n",
            "Extracting  /content/YOLO_Dataset_Main/val/images/001467.jpg             \b\b\b\b 87%\b\b\b\b\b  OK \n",
            "Extracting  /content/YOLO_Dataset_Main/val/images/001468.jpg             \b\b\b\b 87%\b\b\b\b\b  OK \n",
            "Extracting  /content/YOLO_Dataset_Main/val/images/001480.jpg             \b\b\b\b 87%\b\b\b\b\b  OK \n",
            "Extracting  /content/YOLO_Dataset_Main/val/images/001482.jpg             \b\b\b\b 87%\b\b\b\b\b  OK \n",
            "Extracting  /content/YOLO_Dataset_Main/val/images/001485.jpg             \b\b\b\b 87%\b\b\b\b\b  OK \n",
            "Extracting  /content/YOLO_Dataset_Main/val/images/001486.jpg             \b\b\b\b 87%\b\b\b\b\b  OK \n",
            "Extracting  /content/YOLO_Dataset_Main/val/images/001498.jpg             \b\b\b\b 87%\b\b\b\b\b  OK \n",
            "Extracting  /content/YOLO_Dataset_Main/val/images/001499.jpg             \b\b\b\b 87%\b\b\b\b\b  OK \n",
            "Extracting  /content/YOLO_Dataset_Main/val/images/001501.jpg             \b\b\b\b 87%\b\b\b\b\b  OK \n",
            "Extracting  /content/YOLO_Dataset_Main/val/images/001503.jpg             \b\b\b\b 87%\b\b\b\b\b  OK \n",
            "Extracting  /content/YOLO_Dataset_Main/val/images/001509.jpg             \b\b\b\b 87%\b\b\b\b\b  OK \n",
            "Extracting  /content/YOLO_Dataset_Main/val/images/001512.jpg             \b\b\b\b 87%\b\b\b\b\b  OK \n",
            "Extracting  /content/YOLO_Dataset_Main/val/images/001514.jpg             \b\b\b\b 87%\b\b\b\b\b  OK \n",
            "Extracting  /content/YOLO_Dataset_Main/val/images/001516.jpg             \b\b\b\b 87%\b\b\b\b\b  OK \n",
            "Extracting  /content/YOLO_Dataset_Main/val/images/001518.jpg             \b\b\b\b 87%\b\b\b\b\b  OK \n",
            "Extracting  /content/YOLO_Dataset_Main/val/images/001526.jpg             \b\b\b\b 87%\b\b\b\b\b  OK \n",
            "Extracting  /content/YOLO_Dataset_Main/val/images/001528.jpg             \b\b\b\b 87%\b\b\b\b\b  OK \n",
            "Extracting  /content/YOLO_Dataset_Main/val/images/001539.jpg             \b\b\b\b 87%\b\b\b\b\b  OK \n",
            "Extracting  /content/YOLO_Dataset_Main/val/images/001544.jpg             \b\b\b\b 87%\b\b\b\b\b  OK \n",
            "Extracting  /content/YOLO_Dataset_Main/val/images/001546.jpg             \b\b\b\b 87%\b\b\b\b\b  OK \n",
            "Extracting  /content/YOLO_Dataset_Main/val/images/001578.jpg             \b\b\b\b 87%\b\b\b\b\b  OK \n",
            "Extracting  /content/YOLO_Dataset_Main/val/images/001579.jpg             \b\b\b\b 88%\b\b\b\b\b  OK \n",
            "Extracting  /content/YOLO_Dataset_Main/val/images/001589.jpg             \b\b\b\b 88%\b\b\b\b\b  OK \n",
            "Extracting  /content/YOLO_Dataset_Main/val/images/001591.jpg             \b\b\b\b 88%\b\b\b\b\b  OK \n",
            "Extracting  /content/YOLO_Dataset_Main/val/images/001592.jpg             \b\b\b\b 88%\b\b\b\b\b  OK \n",
            "Extracting  /content/YOLO_Dataset_Main/val/images/001608.jpg             \b\b\b\b 88%\b\b\b\b\b  OK \n",
            "Extracting  /content/YOLO_Dataset_Main/val/images/001616.jpg             \b\b\b\b 88%\b\b\b\b\b  OK \n",
            "Extracting  /content/YOLO_Dataset_Main/val/images/001621.jpg             \b\b\b\b 88%\b\b\b\b\b  OK \n",
            "Extracting  /content/YOLO_Dataset_Main/val/images/001628.jpg             \b\b\b\b 88%\b\b\b\b\b  OK \n",
            "Extracting  /content/YOLO_Dataset_Main/val/images/001631.jpg             \b\b\b\b 88%\b\b\b\b\b  OK \n",
            "Extracting  /content/YOLO_Dataset_Main/val/images/001632.jpg             \b\b\b\b 88%\b\b\b\b\b  OK \n",
            "Extracting  /content/YOLO_Dataset_Main/val/images/001634.jpg             \b\b\b\b 88%\b\b\b\b\b  OK \n",
            "Extracting  /content/YOLO_Dataset_Main/val/images/001635.jpg             \b\b\b\b 88%\b\b\b\b\b  OK \n",
            "Extracting  /content/YOLO_Dataset_Main/val/images/001646.jpg             \b\b\b\b 88%\b\b\b\b\b  OK \n",
            "Extracting  /content/YOLO_Dataset_Main/val/images/001656.jpg             \b\b\b\b 88%\b\b\b\b\b  OK \n",
            "Extracting  /content/YOLO_Dataset_Main/val/images/001663.jpg             \b\b\b\b 88%\b\b\b\b\b  OK \n",
            "Extracting  /content/YOLO_Dataset_Main/val/images/001670.jpg             \b\b\b\b 88%\b\b\b\b\b  OK \n",
            "Extracting  /content/YOLO_Dataset_Main/val/images/001674.jpg             \b\b\b\b 88%\b\b\b\b\b  OK \n",
            "Extracting  /content/YOLO_Dataset_Main/val/images/001675.jpg             \b\b\b\b 88%\b\b\b\b\b  OK \n",
            "Extracting  /content/YOLO_Dataset_Main/val/images/001680.jpg             \b\b\b\b 88%\b\b\b\b\b  OK \n",
            "Extracting  /content/YOLO_Dataset_Main/val/images/001685.jpg             \b\b\b\b 88%\b\b\b\b\b  OK \n",
            "Extracting  /content/YOLO_Dataset_Main/val/images/001686.jpg             \b\b\b\b 88%\b\b\b\b\b  OK \n",
            "Extracting  /content/YOLO_Dataset_Main/val/images/001695.jpg             \b\b\b\b 88%\b\b\b\b\b  OK \n",
            "Extracting  /content/YOLO_Dataset_Main/val/images/001697.jpg             \b\b\b\b 88%\b\b\b\b\b  OK \n",
            "Extracting  /content/YOLO_Dataset_Main/val/images/001700.jpg             \b\b\b\b 88%\b\b\b\b\b  OK \n",
            "Extracting  /content/YOLO_Dataset_Main/val/images/001702.jpg             \b\b\b\b 88%\b\b\b\b\b  OK \n",
            "Extracting  /content/YOLO_Dataset_Main/val/images/001705.jpg             \b\b\b\b 88%\b\b\b\b\b  OK \n",
            "Extracting  /content/YOLO_Dataset_Main/val/images/001710.jpg             \b\b\b\b 88%\b\b\b\b\b  OK \n",
            "Extracting  /content/YOLO_Dataset_Main/val/images/001712.jpg             \b\b\b\b 88%\b\b\b\b\b  OK \n",
            "Extracting  /content/YOLO_Dataset_Main/val/images/001715.jpg             \b\b\b\b 88%\b\b\b\b\b  OK \n",
            "Extracting  /content/YOLO_Dataset_Main/val/images/001716.jpg             \b\b\b\b 88%\b\b\b\b\b  OK \n",
            "Extracting  /content/YOLO_Dataset_Main/val/images/001717.jpg             \b\b\b\b 88%\b\b\b\b\b  OK \n",
            "Extracting  /content/YOLO_Dataset_Main/val/images/001719.jpg             \b\b\b\b 88%\b\b\b\b\b  OK \n",
            "Extracting  /content/YOLO_Dataset_Main/val/images/001721.jpg             \b\b\b\b 88%\b\b\b\b\b  OK \n",
            "Extracting  /content/YOLO_Dataset_Main/val/images/001725.jpg             \b\b\b\b 88%\b\b\b\b\b  OK \n",
            "Extracting  /content/YOLO_Dataset_Main/val/images/001728.jpg             \b\b\b\b 88%\b\b\b\b\b  OK \n",
            "Extracting  /content/YOLO_Dataset_Main/val/images/001733.jpg             \b\b\b\b 88%\b\b\b\b\b  OK \n",
            "Extracting  /content/YOLO_Dataset_Main/val/images/001739.jpg             \b\b\b\b 88%\b\b\b\b\b  OK \n",
            "Extracting  /content/YOLO_Dataset_Main/val/images/001741.jpg             \b\b\b\b 88%\b\b\b\b\b  OK \n",
            "Extracting  /content/YOLO_Dataset_Main/val/images/001751.jpg             \b\b\b\b 88%\b\b\b\b\b  OK \n",
            "Extracting  /content/YOLO_Dataset_Main/val/images/001756.jpg             \b\b\b\b 88%\b\b\b\b\b  OK \n",
            "Extracting  /content/YOLO_Dataset_Main/val/images/001758.jpg             \b\b\b\b 88%\b\b\b\b\b  OK \n",
            "Extracting  /content/YOLO_Dataset_Main/val/images/001762.jpg             \b\b\b\b 88%\b\b\b\b\b  OK \n",
            "Extracting  /content/YOLO_Dataset_Main/val/images/001777.jpg             \b\b\b\b 88%\b\b\b\b\b  OK \n",
            "Extracting  /content/YOLO_Dataset_Main/val/images/001780.jpg             \b\b\b\b 88%\b\b\b\b\b  OK \n",
            "Extracting  /content/YOLO_Dataset_Main/val/images/001783.jpg             \b\b\b\b 89%\b\b\b\b\b  OK \n",
            "Extracting  /content/YOLO_Dataset_Main/val/images/001787.jpg             \b\b\b\b 89%\b\b\b\b\b  OK \n",
            "Extracting  /content/YOLO_Dataset_Main/val/images/001789.jpg             \b\b\b\b 89%\b\b\b\b\b  OK \n",
            "Extracting  /content/YOLO_Dataset_Main/val/images/001790.jpg             \b\b\b\b 89%\b\b\b\b\b  OK \n",
            "Extracting  /content/YOLO_Dataset_Main/val/images/001791.jpg             \b\b\b\b 89%\b\b\b\b\b  OK \n",
            "Extracting  /content/YOLO_Dataset_Main/val/images/001794.jpg             \b\b\b\b 89%\b\b\b\b\b  OK \n",
            "Extracting  /content/YOLO_Dataset_Main/val/images/001798.jpg             \b\b\b\b 89%\b\b\b\b\b  OK \n",
            "Extracting  /content/YOLO_Dataset_Main/val/images/001799.jpg             \b\b\b\b 89%\b\b\b\b\b  OK \n",
            "Extracting  /content/YOLO_Dataset_Main/val/images/001804.jpg             \b\b\b\b 89%\b\b\b\b\b  OK \n",
            "Extracting  /content/YOLO_Dataset_Main/val/images/001812.jpg             \b\b\b\b 89%\b\b\b\b\b  OK \n",
            "Extracting  /content/YOLO_Dataset_Main/val/images/001816.jpg             \b\b\b\b 89%\b\b\b\b\b  OK \n",
            "Extracting  /content/YOLO_Dataset_Main/val/images/001817.jpg             \b\b\b\b 89%\b\b\b\b\b  OK \n",
            "Extracting  /content/YOLO_Dataset_Main/val/images/001828.jpg             \b\b\b\b 89%\b\b\b\b\b  OK \n",
            "Extracting  /content/YOLO_Dataset_Main/val/images/001834.jpg             \b\b\b\b 89%\b\b\b\b\b  OK \n",
            "Extracting  /content/YOLO_Dataset_Main/val/images/001836.jpg             \b\b\b\b 89%\b\b\b\b\b  OK \n",
            "Extracting  /content/YOLO_Dataset_Main/val/images/001840.jpg             \b\b\b\b 89%\b\b\b\b\b  OK \n",
            "Extracting  /content/YOLO_Dataset_Main/val/images/001841.jpg             \b\b\b\b 89%\b\b\b\b\b  OK \n",
            "Extracting  /content/YOLO_Dataset_Main/val/images/001842.jpg             \b\b\b\b 89%\b\b\b\b\b  OK \n",
            "Extracting  /content/YOLO_Dataset_Main/val/images/001848.jpg             \b\b\b\b 89%\b\b\b\b\b  OK \n",
            "Extracting  /content/YOLO_Dataset_Main/val/images/001850.jpg             \b\b\b\b 89%\b\b\b\b\b  OK \n",
            "Extracting  /content/YOLO_Dataset_Main/val/images/001855.jpg             \b\b\b\b 89%\b\b\b\b\b  OK \n",
            "Extracting  /content/YOLO_Dataset_Main/val/images/001864.jpg             \b\b\b\b 89%\b\b\b\b\b  OK \n",
            "Extracting  /content/YOLO_Dataset_Main/val/images/001870.jpg             \b\b\b\b 89%\b\b\b\b\b  OK \n",
            "Extracting  /content/YOLO_Dataset_Main/val/images/001881.jpg             \b\b\b\b 89%\b\b\b\b\b  OK \n",
            "Extracting  /content/YOLO_Dataset_Main/val/images/001883.jpg             \b\b\b\b 89%\b\b\b\b\b  OK \n",
            "Extracting  /content/YOLO_Dataset_Main/val/images/001892.jpg             \b\b\b\b 89%\b\b\b\b\b  OK \n",
            "Extracting  /content/YOLO_Dataset_Main/val/images/001911.jpg             \b\b\b\b 89%\b\b\b\b\b  OK \n",
            "Extracting  /content/YOLO_Dataset_Main/val/images/001912.jpg             \b\b\b\b 89%\b\b\b\b\b  OK \n",
            "Extracting  /content/YOLO_Dataset_Main/val/images/001913.jpg             \b\b\b\b 89%\b\b\b\b\b  OK \n",
            "Extracting  /content/YOLO_Dataset_Main/val/images/001914.jpg             \b\b\b\b 89%\b\b\b\b\b  OK \n",
            "Extracting  /content/YOLO_Dataset_Main/val/images/001917.jpg             \b\b\b\b 89%\b\b\b\b\b  OK \n",
            "Extracting  /content/YOLO_Dataset_Main/val/images/001918.jpg             \b\b\b\b 89%\b\b\b\b\b  OK \n",
            "Extracting  /content/YOLO_Dataset_Main/val/images/001919.jpg             \b\b\b\b 89%\b\b\b\b\b  OK \n",
            "Extracting  /content/YOLO_Dataset_Main/val/images/001926.jpg             \b\b\b\b 89%\b\b\b\b\b  OK \n",
            "Extracting  /content/YOLO_Dataset_Main/val/images/001927.jpg             \b\b\b\b 89%\b\b\b\b\b  OK \n",
            "Extracting  /content/YOLO_Dataset_Main/val/images/001933.jpg             \b\b\b\b 89%\b\b\b\b\b  OK \n",
            "Extracting  /content/YOLO_Dataset_Main/val/images/001934.jpg             \b\b\b\b 89%\b\b\b\b\b  OK \n",
            "Extracting  /content/YOLO_Dataset_Main/val/images/001938.jpg             \b\b\b\b 89%\b\b\b\b\b  OK \n",
            "Extracting  /content/YOLO_Dataset_Main/val/images/001944.jpg             \b\b\b\b 89%\b\b\b\b\b  OK \n",
            "Extracting  /content/YOLO_Dataset_Main/val/images/001945.jpg             \b\b\b\b 89%\b\b\b\b\b  OK \n",
            "Extracting  /content/YOLO_Dataset_Main/val/images/001946.jpg             \b\b\b\b 89%\b\b\b\b\b  OK \n",
            "Extracting  /content/YOLO_Dataset_Main/val/images/001951.jpg             \b\b\b\b 89%\b\b\b\b\b  OK \n",
            "Extracting  /content/YOLO_Dataset_Main/val/images/001953.jpg             \b\b\b\b 89%\b\b\b\b\b  OK \n",
            "Extracting  /content/YOLO_Dataset_Main/val/images/001956.jpg             \b\b\b\b 89%\b\b\b\b\b  OK \n",
            "Extracting  /content/YOLO_Dataset_Main/val/images/001957.jpg             \b\b\b\b 89%\b\b\b\b\b  OK \n",
            "Extracting  /content/YOLO_Dataset_Main/val/images/001969.jpg             \b\b\b\b 89%\b\b\b\b\b  OK \n",
            "Extracting  /content/YOLO_Dataset_Main/val/images/001975.jpg             \b\b\b\b 89%\b\b\b\b\b  OK \n",
            "Extracting  /content/YOLO_Dataset_Main/val/images/001986.jpg             \b\b\b\b 89%\b\b\b\b\b  OK \n",
            "Extracting  /content/YOLO_Dataset_Main/val/images/001994.jpg             \b\b\b\b 89%\b\b\b\b\b  OK \n",
            "Extracting  /content/YOLO_Dataset_Main/val/images/002007.jpg             \b\b\b\b 90%\b\b\b\b\b  OK \n",
            "Extracting  /content/YOLO_Dataset_Main/val/images/002012.jpg             \b\b\b\b 90%\b\b\b\b\b  OK \n",
            "Extracting  /content/YOLO_Dataset_Main/val/images/002014.jpg             \b\b\b\b 90%\b\b\b\b\b  OK \n",
            "Extracting  /content/YOLO_Dataset_Main/val/images/002021.jpg             \b\b\b\b 90%\b\b\b\b\b  OK \n",
            "Extracting  /content/YOLO_Dataset_Main/val/images/002025.jpg             \b\b\b\b 90%\b\b\b\b\b  OK \n",
            "Extracting  /content/YOLO_Dataset_Main/val/images/002035.jpg             \b\b\b\b 90%\b\b\b\b\b  OK \n",
            "Extracting  /content/YOLO_Dataset_Main/val/images/002041.jpg             \b\b\b\b 90%\b\b\b\b\b  OK \n",
            "Extracting  /content/YOLO_Dataset_Main/val/images/002044.jpg             \b\b\b\b 90%\b\b\b\b\b  OK \n",
            "Extracting  /content/YOLO_Dataset_Main/val/images/002046.jpg             \b\b\b\b 90%\b\b\b\b\b  OK \n",
            "Extracting  /content/YOLO_Dataset_Main/val/images/002055.jpg             \b\b\b\b 90%\b\b\b\b\b  OK \n",
            "Extracting  /content/YOLO_Dataset_Main/val/images/002056.jpg             \b\b\b\b 90%\b\b\b\b\b  OK \n",
            "Extracting  /content/YOLO_Dataset_Main/val/images/002064.jpg             \b\b\b\b 90%\b\b\b\b\b  OK \n",
            "Extracting  /content/YOLO_Dataset_Main/val/images/002067.jpg             \b\b\b\b 90%\b\b\b\b\b  OK \n",
            "Extracting  /content/YOLO_Dataset_Main/val/images/002068.jpg             \b\b\b\b 90%\b\b\b\b\b  OK \n",
            "Extracting  /content/YOLO_Dataset_Main/val/images/002075.jpg             \b\b\b\b 90%\b\b\b\b\b  OK \n",
            "Extracting  /content/YOLO_Dataset_Main/val/images/002076.jpg             \b\b\b\b 90%\b\b\b\b\b  OK \n",
            "Extracting  /content/YOLO_Dataset_Main/val/images/002078.jpg             \b\b\b\b 90%\b\b\b\b\b  OK \n",
            "Extracting  /content/YOLO_Dataset_Main/val/images/002079.jpg             \b\b\b\b 90%\b\b\b\b\b  OK \n",
            "Extracting  /content/YOLO_Dataset_Main/val/images/002090.jpg             \b\b\b\b 90%\b\b\b\b\b  OK \n",
            "Extracting  /content/YOLO_Dataset_Main/val/images/002092.jpg             \b\b\b\b 90%\b\b\b\b\b  OK \n",
            "Extracting  /content/YOLO_Dataset_Main/val/images/002093.jpg             \b\b\b\b 90%\b\b\b\b\b  OK \n",
            "Extracting  /content/YOLO_Dataset_Main/val/images/002094.jpg             \b\b\b\b 90%\b\b\b\b\b  OK \n",
            "Extracting  /content/YOLO_Dataset_Main/val/images/002097.jpg             \b\b\b\b 90%\b\b\b\b\b  OK \n",
            "Extracting  /content/YOLO_Dataset_Main/val/images/002099.jpg             \b\b\b\b 90%\b\b\b\b\b  OK \n",
            "Extracting  /content/YOLO_Dataset_Main/val/images/002101.jpg             \b\b\b\b 90%\b\b\b\b\b  OK \n",
            "Extracting  /content/YOLO_Dataset_Main/val/images/002104.jpg             \b\b\b\b 90%\b\b\b\b\b  OK \n",
            "Extracting  /content/YOLO_Dataset_Main/val/images/002106.jpg             \b\b\b\b 90%\b\b\b\b\b  OK \n",
            "Extracting  /content/YOLO_Dataset_Main/val/images/002111.jpg             \b\b\b\b 90%\b\b\b\b\b  OK \n",
            "Extracting  /content/YOLO_Dataset_Main/val/images/002115.jpg             \b\b\b\b 90%\b\b\b\b\b  OK \n",
            "Extracting  /content/YOLO_Dataset_Main/val/images/002118.jpg             \b\b\b\b 90%\b\b\b\b\b  OK \n",
            "Extracting  /content/YOLO_Dataset_Main/val/images/002119.jpg             \b\b\b\b 90%\b\b\b\b\b  OK \n",
            "Extracting  /content/YOLO_Dataset_Main/val/images/002138.jpg             \b\b\b\b 90%\b\b\b\b\b  OK \n",
            "Extracting  /content/YOLO_Dataset_Main/val/images/002139.jpg             \b\b\b\b 90%\b\b\b\b\b  OK \n",
            "Extracting  /content/YOLO_Dataset_Main/val/images/002142.jpg             \b\b\b\b 90%\b\b\b\b\b  OK \n",
            "Extracting  /content/YOLO_Dataset_Main/val/images/002146.jpg             \b\b\b\b 90%\b\b\b\b\b  OK \n",
            "Extracting  /content/YOLO_Dataset_Main/val/images/002152.jpg             \b\b\b\b 90%\b\b\b\b\b  OK \n",
            "Extracting  /content/YOLO_Dataset_Main/val/images/002155.jpg             \b\b\b\b 90%\b\b\b\b\b  OK \n",
            "Extracting  /content/YOLO_Dataset_Main/val/images/002163.jpg             \b\b\b\b 90%\b\b\b\b\b  OK \n",
            "Extracting  /content/YOLO_Dataset_Main/val/images/002171.jpg             \b\b\b\b 90%\b\b\b\b\b  OK \n",
            "Extracting  /content/YOLO_Dataset_Main/val/images/002185.jpg             \b\b\b\b 90%\b\b\b\b\b  OK \n",
            "Extracting  /content/YOLO_Dataset_Main/val/images/002192.jpg             \b\b\b\b 90%\b\b\b\b\b  OK \n",
            "Extracting  /content/YOLO_Dataset_Main/val/images/002199.jpg             \b\b\b\b 90%\b\b\b\b\b  OK \n",
            "Extracting  /content/YOLO_Dataset_Main/val/images/002200.jpg             \b\b\b\b 90%\b\b\b\b\b  OK \n",
            "Extracting  /content/YOLO_Dataset_Main/val/images/002202.jpg             \b\b\b\b 90%\b\b\b\b\b  OK \n",
            "Extracting  /content/YOLO_Dataset_Main/val/images/002205.jpg             \b\b\b\b 90%\b\b\b\b\b  OK \n",
            "Extracting  /content/YOLO_Dataset_Main/val/images/002210.jpg             \b\b\b\b 90%\b\b\b\b\b  OK \n",
            "Extracting  /content/YOLO_Dataset_Main/val/images/002211.jpg             \b\b\b\b 91%\b\b\b\b\b  OK \n",
            "Extracting  /content/YOLO_Dataset_Main/val/images/002212.jpg             \b\b\b\b 91%\b\b\b\b\b  OK \n",
            "Extracting  /content/YOLO_Dataset_Main/val/images/002218.jpg             \b\b\b\b 91%\b\b\b\b\b  OK \n",
            "Extracting  /content/YOLO_Dataset_Main/val/images/002219.jpg             \b\b\b\b 91%\b\b\b\b\b  OK \n",
            "Extracting  /content/YOLO_Dataset_Main/val/images/002221.jpg             \b\b\b\b 91%\b\b\b\b\b  OK \n",
            "Extracting  /content/YOLO_Dataset_Main/val/images/002223.jpg             \b\b\b\b 91%\b\b\b\b\b  OK \n",
            "Extracting  /content/YOLO_Dataset_Main/val/images/002230.jpg             \b\b\b\b 91%\b\b\b\b\b  OK \n",
            "Extracting  /content/YOLO_Dataset_Main/val/images/002234.jpg             \b\b\b\b 91%\b\b\b\b\b  OK \n",
            "Extracting  /content/YOLO_Dataset_Main/val/images/002253.jpg             \b\b\b\b 91%\b\b\b\b\b  OK \n",
            "Extracting  /content/YOLO_Dataset_Main/val/images/002259.jpg             \b\b\b\b 91%\b\b\b\b\b  OK \n",
            "Extracting  /content/YOLO_Dataset_Main/val/images/002260.jpg             \b\b\b\b 91%\b\b\b\b\b  OK \n",
            "Extracting  /content/YOLO_Dataset_Main/val/images/002262.jpg             \b\b\b\b 91%\b\b\b\b\b  OK \n",
            "Extracting  /content/YOLO_Dataset_Main/val/images/002273.jpg             \b\b\b\b 91%\b\b\b\b\b  OK \n",
            "Extracting  /content/YOLO_Dataset_Main/val/images/002275.jpg             \b\b\b\b 91%\b\b\b\b\b  OK \n",
            "Extracting  /content/YOLO_Dataset_Main/val/images/002281.jpg             \b\b\b\b 91%\b\b\b\b\b  OK \n",
            "Extracting  /content/YOLO_Dataset_Main/val/images/002282.jpg             \b\b\b\b 91%\b\b\b\b\b  OK \n",
            "Extracting  /content/YOLO_Dataset_Main/val/images/002285.jpg             \b\b\b\b 91%\b\b\b\b\b  OK \n",
            "Extracting  /content/YOLO_Dataset_Main/val/images/002286.jpg             \b\b\b\b 91%\b\b\b\b\b  OK \n",
            "Extracting  /content/YOLO_Dataset_Main/val/images/002288.jpg             \b\b\b\b 91%\b\b\b\b\b  OK \n",
            "Extracting  /content/YOLO_Dataset_Main/val/images/002294.jpg             \b\b\b\b 91%\b\b\b\b\b  OK \n",
            "Extracting  /content/YOLO_Dataset_Main/val/images/002298.jpg             \b\b\b\b 91%\b\b\b\b\b  OK \n",
            "Extracting  /content/YOLO_Dataset_Main/val/images/002302.jpg             \b\b\b\b 91%\b\b\b\b\b  OK \n",
            "Extracting  /content/YOLO_Dataset_Main/val/images/002309.jpg             \b\b\b\b 91%\b\b\b\b\b  OK \n",
            "Extracting  /content/YOLO_Dataset_Main/val/images/002320.jpg             \b\b\b\b 91%\b\b\b\b\b  OK \n",
            "Extracting  /content/YOLO_Dataset_Main/val/images/002323.jpg             \b\b\b\b 91%\b\b\b\b\b  OK \n",
            "Extracting  /content/YOLO_Dataset_Main/val/images/002331.jpg             \b\b\b\b 91%\b\b\b\b\b  OK \n",
            "Extracting  /content/YOLO_Dataset_Main/val/images/002332.jpg             \b\b\b\b 91%\b\b\b\b\b  OK \n",
            "Extracting  /content/YOLO_Dataset_Main/val/images/002333.jpg             \b\b\b\b 92%\b\b\b\b\b  OK \n",
            "Extracting  /content/YOLO_Dataset_Main/val/images/002347.jpg             \b\b\b\b 92%\b\b\b\b\b  OK \n",
            "Extracting  /content/YOLO_Dataset_Main/val/images/002354.jpg             \b\b\b\b 92%\b\b\b\b\b  OK \n",
            "Extracting  /content/YOLO_Dataset_Main/val/images/002356.jpg             \b\b\b\b 92%\b\b\b\b\b  OK \n",
            "Extracting  /content/YOLO_Dataset_Main/val/images/002361.jpg             \b\b\b\b 92%\b\b\b\b\b  OK \n",
            "Extracting  /content/YOLO_Dataset_Main/val/images/002362.jpg             \b\b\b\b 92%\b\b\b\b\b  OK \n",
            "Extracting  /content/YOLO_Dataset_Main/val/images/002367.jpg             \b\b\b\b 92%\b\b\b\b\b  OK \n",
            "Extracting  /content/YOLO_Dataset_Main/val/images/002370.jpg             \b\b\b\b 92%\b\b\b\b\b  OK \n",
            "Extracting  /content/YOLO_Dataset_Main/val/images/002371.jpg             \b\b\b\b 92%\b\b\b\b\b  OK \n",
            "Extracting  /content/YOLO_Dataset_Main/val/images/002372.jpg             \b\b\b\b 92%\b\b\b\b\b  OK \n",
            "Extracting  /content/YOLO_Dataset_Main/val/images/002373.jpg             \b\b\b\b 92%\b\b\b\b\b  OK \n",
            "Extracting  /content/YOLO_Dataset_Main/val/images/002380.jpg             \b\b\b\b 92%\b\b\b\b\b  OK \n",
            "Extracting  /content/YOLO_Dataset_Main/val/images/002381.jpg             \b\b\b\b 92%\b\b\b\b\b  OK \n",
            "Extracting  /content/YOLO_Dataset_Main/val/images/002387.jpg             \b\b\b\b 92%\b\b\b\b\b  OK \n",
            "Extracting  /content/YOLO_Dataset_Main/val/images/002388.jpg             \b\b\b\b 92%\b\b\b\b\b  OK \n",
            "Extracting  /content/YOLO_Dataset_Main/val/images/002389.jpg             \b\b\b\b 92%\b\b\b\b\b  OK \n",
            "Extracting  /content/YOLO_Dataset_Main/val/images/002391.jpg             \b\b\b\b 92%\b\b\b\b\b  OK \n",
            "Extracting  /content/YOLO_Dataset_Main/val/images/002396.jpg             \b\b\b\b 92%\b\b\b\b\b  OK \n",
            "Extracting  /content/YOLO_Dataset_Main/val/images/002402.jpg             \b\b\b\b 92%\b\b\b\b\b  OK \n",
            "Extracting  /content/YOLO_Dataset_Main/val/images/002417.jpg             \b\b\b\b 92%\b\b\b\b\b  OK \n",
            "Extracting  /content/YOLO_Dataset_Main/val/images/002422.jpg             \b\b\b\b 92%\b\b\b\b\b  OK \n",
            "Extracting  /content/YOLO_Dataset_Main/val/images/002425.jpg             \b\b\b\b 93%\b\b\b\b\b  OK \n",
            "Extracting  /content/YOLO_Dataset_Main/val/images/002431.jpg             \b\b\b\b 93%\b\b\b\b\b  OK \n",
            "Extracting  /content/YOLO_Dataset_Main/val/images/002434.jpg             \b\b\b\b 93%\b\b\b\b\b  OK \n",
            "Extracting  /content/YOLO_Dataset_Main/val/images/002447.jpg             \b\b\b\b 93%\b\b\b\b\b  OK \n",
            "Extracting  /content/YOLO_Dataset_Main/val/images/002449.jpg             \b\b\b\b 93%\b\b\b\b\b  OK \n",
            "Extracting  /content/YOLO_Dataset_Main/val/images/002451.jpg             \b\b\b\b 93%\b\b\b\b\b  OK \n",
            "Extracting  /content/YOLO_Dataset_Main/val/images/002458.jpg             \b\b\b\b 93%\b\b\b\b\b  OK \n",
            "Extracting  /content/YOLO_Dataset_Main/val/images/002465.jpg             \b\b\b\b 93%\b\b\b\b\b  OK \n",
            "Extracting  /content/YOLO_Dataset_Main/val/images/002471.jpg             \b\b\b\b 93%\b\b\b\b\b  OK \n",
            "Extracting  /content/YOLO_Dataset_Main/val/images/002477.jpg             \b\b\b\b 93%\b\b\b\b\b  OK \n",
            "Extracting  /content/YOLO_Dataset_Main/val/images/002479.jpg             \b\b\b\b 93%\b\b\b\b\b  OK \n",
            "Extracting  /content/YOLO_Dataset_Main/val/images/002482.jpg             \b\b\b\b 93%\b\b\b\b\b  OK \n",
            "Extracting  /content/YOLO_Dataset_Main/val/images/002483.jpg             \b\b\b\b 93%\b\b\b\b\b  OK \n",
            "Extracting  /content/YOLO_Dataset_Main/val/images/002490.jpg             \b\b\b\b 93%\b\b\b\b\b  OK \n",
            "Extracting  /content/YOLO_Dataset_Main/val/images/002496.jpg             \b\b\b\b 93%\b\b\b\b\b  OK \n",
            "Extracting  /content/YOLO_Dataset_Main/val/images/002511.jpg             \b\b\b\b 93%\b\b\b\b\b  OK \n",
            "Extracting  /content/YOLO_Dataset_Main/val/images/002518.jpg             \b\b\b\b 93%\b\b\b\b\b  OK \n",
            "Extracting  /content/YOLO_Dataset_Main/val/images/002521.jpg             \b\b\b\b 93%\b\b\b\b\b  OK \n",
            "Extracting  /content/YOLO_Dataset_Main/val/images/002526.jpg             \b\b\b\b 93%\b\b\b\b\b  OK \n",
            "Extracting  /content/YOLO_Dataset_Main/val/images/002546.jpg             \b\b\b\b 93%\b\b\b\b\b  OK \n",
            "Extracting  /content/YOLO_Dataset_Main/val/images/002547.jpg             \b\b\b\b 93%\b\b\b\b\b  OK \n",
            "Extracting  /content/YOLO_Dataset_Main/val/images/002550.jpg             \b\b\b\b 93%\b\b\b\b\b  OK \n",
            "Extracting  /content/YOLO_Dataset_Main/val/images/002552.jpg             \b\b\b\b 93%\b\b\b\b\b  OK \n",
            "Extracting  /content/YOLO_Dataset_Main/val/images/002557.jpg             \b\b\b\b 93%\b\b\b\b\b  OK \n",
            "Extracting  /content/YOLO_Dataset_Main/val/images/002560.jpg             \b\b\b\b 93%\b\b\b\b\b  OK \n",
            "Extracting  /content/YOLO_Dataset_Main/val/images/002562.jpg             \b\b\b\b 93%\b\b\b\b\b  OK \n",
            "Extracting  /content/YOLO_Dataset_Main/val/images/002565.jpg             \b\b\b\b 93%\b\b\b\b\b  OK \n",
            "Extracting  /content/YOLO_Dataset_Main/val/images/002574.jpg             \b\b\b\b 93%\b\b\b\b\b  OK \n",
            "Extracting  /content/YOLO_Dataset_Main/val/images/002578.jpg             \b\b\b\b 93%\b\b\b\b\b  OK \n",
            "Extracting  /content/YOLO_Dataset_Main/val/images/002583.jpg             \b\b\b\b 93%\b\b\b\b\b  OK \n",
            "Extracting  /content/YOLO_Dataset_Main/val/images/002586.jpg             \b\b\b\b 93%\b\b\b\b\b  OK \n",
            "Extracting  /content/YOLO_Dataset_Main/val/images/002587.jpg             \b\b\b\b 93%\b\b\b\b\b  OK \n",
            "Extracting  /content/YOLO_Dataset_Main/val/images/002591.jpg             \b\b\b\b 93%\b\b\b\b\b  OK \n",
            "Extracting  /content/YOLO_Dataset_Main/val/images/002598.jpg             \b\b\b\b 93%\b\b\b\b\b  OK \n",
            "Extracting  /content/YOLO_Dataset_Main/val/images/002601.jpg             \b\b\b\b 93%\b\b\b\b\b  OK \n",
            "Extracting  /content/YOLO_Dataset_Main/val/images/002605.jpg             \b\b\b\b 93%\b\b\b\b\b  OK \n",
            "Extracting  /content/YOLO_Dataset_Main/val/images/002608.jpg             \b\b\b\b 94%\b\b\b\b\b  OK \n",
            "Extracting  /content/YOLO_Dataset_Main/val/images/002610.jpg             \b\b\b\b 94%\b\b\b\b\b  OK \n",
            "Extracting  /content/YOLO_Dataset_Main/val/images/002611.jpg             \b\b\b\b 94%\b\b\b\b\b  OK \n",
            "Extracting  /content/YOLO_Dataset_Main/val/images/002625.jpg             \b\b\b\b 94%\b\b\b\b\b  OK \n",
            "Extracting  /content/YOLO_Dataset_Main/val/images/002627.jpg             \b\b\b\b 94%\b\b\b\b\b  OK \n",
            "Extracting  /content/YOLO_Dataset_Main/val/images/002633.jpg             \b\b\b\b 94%\b\b\b\b\b  OK \n",
            "Extracting  /content/YOLO_Dataset_Main/val/images/002638.jpg             \b\b\b\b 94%\b\b\b\b\b  OK \n",
            "Extracting  /content/YOLO_Dataset_Main/val/images/002659.jpg             \b\b\b\b 94%\b\b\b\b\b  OK \n",
            "Extracting  /content/YOLO_Dataset_Main/val/images/002661.jpg             \b\b\b\b 94%\b\b\b\b\b  OK \n",
            "Extracting  /content/YOLO_Dataset_Main/val/images/002664.jpg             \b\b\b\b 94%\b\b\b\b\b  OK \n",
            "Extracting  /content/YOLO_Dataset_Main/val/images/002665.jpg             \b\b\b\b 94%\b\b\b\b\b  OK \n",
            "Extracting  /content/YOLO_Dataset_Main/val/images/002667.jpg             \b\b\b\b 94%\b\b\b\b\b  OK \n",
            "Extracting  /content/YOLO_Dataset_Main/val/images/002675.jpg             \b\b\b\b 94%\b\b\b\b\b  OK \n",
            "Extracting  /content/YOLO_Dataset_Main/val/images/002681.jpg             \b\b\b\b 94%\b\b\b\b\b  OK \n",
            "Extracting  /content/YOLO_Dataset_Main/val/images/002698.jpg             \b\b\b\b 94%\b\b\b\b\b  OK \n",
            "Extracting  /content/YOLO_Dataset_Main/val/images/002701.jpg             \b\b\b\b 94%\b\b\b\b\b  OK \n",
            "Extracting  /content/YOLO_Dataset_Main/val/images/002704.jpg             \b\b\b\b 94%\b\b\b\b\b  OK \n",
            "Extracting  /content/YOLO_Dataset_Main/val/images/002705.jpg             \b\b\b\b 94%\b\b\b\b\b  OK \n",
            "Extracting  /content/YOLO_Dataset_Main/val/images/002708.jpg             \b\b\b\b 94%\b\b\b\b\b  OK \n",
            "Extracting  /content/YOLO_Dataset_Main/val/images/002710.jpg             \b\b\b\b 94%\b\b\b\b\b  OK \n",
            "Extracting  /content/YOLO_Dataset_Main/val/images/002712.jpg             \b\b\b\b 94%\b\b\b\b\b  OK \n",
            "Extracting  /content/YOLO_Dataset_Main/val/images/002714.jpg             \b\b\b\b 94%\b\b\b\b\b  OK \n",
            "Extracting  /content/YOLO_Dataset_Main/val/images/002716.jpg             \b\b\b\b 94%\b\b\b\b\b  OK \n",
            "Extracting  /content/YOLO_Dataset_Main/val/images/002720.jpg             \b\b\b\b 94%\b\b\b\b\b  OK \n",
            "Extracting  /content/YOLO_Dataset_Main/val/images/002727.jpg             \b\b\b\b 94%\b\b\b\b\b  OK \n",
            "Extracting  /content/YOLO_Dataset_Main/val/images/002728.jpg             \b\b\b\b 94%\b\b\b\b\b  OK \n",
            "Extracting  /content/YOLO_Dataset_Main/val/images/002738.jpg             \b\b\b\b 94%\b\b\b\b\b  OK \n",
            "Extracting  /content/YOLO_Dataset_Main/val/images/002739.jpg             \b\b\b\b 94%\b\b\b\b\b  OK \n",
            "Extracting  /content/YOLO_Dataset_Main/val/images/002742.jpg             \b\b\b\b 94%\b\b\b\b\b  OK \n",
            "Extracting  /content/YOLO_Dataset_Main/val/images/002747.jpg             \b\b\b\b 94%\b\b\b\b\b  OK \n",
            "Extracting  /content/YOLO_Dataset_Main/val/images/002760.jpg             \b\b\b\b 94%\b\b\b\b\b  OK \n",
            "Extracting  /content/YOLO_Dataset_Main/val/images/002761.jpg             \b\b\b\b 94%\b\b\b\b\b  OK \n",
            "Extracting  /content/YOLO_Dataset_Main/val/images/002777.jpg             \b\b\b\b 94%\b\b\b\b\b  OK \n",
            "Extracting  /content/YOLO_Dataset_Main/val/images/002782.jpg             \b\b\b\b 94%\b\b\b\b\b  OK \n",
            "Extracting  /content/YOLO_Dataset_Main/val/images/002784.jpg             \b\b\b\b 94%\b\b\b\b\b  OK \n",
            "Extracting  /content/YOLO_Dataset_Main/val/images/002787.jpg             \b\b\b\b 94%\b\b\b\b\b  OK \n",
            "Extracting  /content/YOLO_Dataset_Main/val/images/002790.jpg             \b\b\b\b 94%\b\b\b\b\b  OK \n",
            "Extracting  /content/YOLO_Dataset_Main/val/images/002793.jpg             \b\b\b\b 94%\b\b\b\b\b  OK \n",
            "Extracting  /content/YOLO_Dataset_Main/val/images/002796.jpg             \b\b\b\b 95%\b\b\b\b\b  OK \n",
            "Extracting  /content/YOLO_Dataset_Main/val/images/002801.jpg             \b\b\b\b 95%\b\b\b\b\b  OK \n",
            "Extracting  /content/YOLO_Dataset_Main/val/images/002802.jpg             \b\b\b\b 95%\b\b\b\b\b  OK \n",
            "Extracting  /content/YOLO_Dataset_Main/val/images/002811.jpg             \b\b\b\b 95%\b\b\b\b\b  OK \n",
            "Extracting  /content/YOLO_Dataset_Main/val/images/002815.jpg             \b\b\b\b 95%\b\b\b\b\b  OK \n",
            "Extracting  /content/YOLO_Dataset_Main/val/images/002817.jpg             \b\b\b\b 95%\b\b\b\b\b  OK \n",
            "Extracting  /content/YOLO_Dataset_Main/val/images/002818.jpg             \b\b\b\b 95%\b\b\b\b\b  OK \n",
            "Extracting  /content/YOLO_Dataset_Main/val/images/002819.jpg             \b\b\b\b 95%\b\b\b\b\b  OK \n",
            "Extracting  /content/YOLO_Dataset_Main/val/images/002824.jpg             \b\b\b\b 95%\b\b\b\b\b  OK \n",
            "Extracting  /content/YOLO_Dataset_Main/val/images/002831.jpg             \b\b\b\b 95%\b\b\b\b\b  OK \n",
            "Extracting  /content/YOLO_Dataset_Main/val/images/002841.jpg             \b\b\b\b 95%\b\b\b\b\b  OK \n",
            "Extracting  /content/YOLO_Dataset_Main/val/images/002849.jpg             \b\b\b\b 95%\b\b\b\b\b  OK \n",
            "Extracting  /content/YOLO_Dataset_Main/val/images/002850.jpg             \b\b\b\b 95%\b\b\b\b\b  OK \n",
            "Extracting  /content/YOLO_Dataset_Main/val/images/002853.jpg             \b\b\b\b 95%\b\b\b\b\b  OK \n",
            "Extracting  /content/YOLO_Dataset_Main/val/images/002856.jpg             \b\b\b\b 95%\b\b\b\b\b  OK \n",
            "Extracting  /content/YOLO_Dataset_Main/val/images/002858.jpg             \b\b\b\b 95%\b\b\b\b\b  OK \n",
            "Extracting  /content/YOLO_Dataset_Main/val/images/002866.jpg             \b\b\b\b 95%\b\b\b\b\b  OK \n",
            "Extracting  /content/YOLO_Dataset_Main/val/images/002874.jpg             \b\b\b\b 95%\b\b\b\b\b  OK \n",
            "Extracting  /content/YOLO_Dataset_Main/val/images/002879.jpg             \b\b\b\b 95%\b\b\b\b\b  OK \n",
            "Extracting  /content/YOLO_Dataset_Main/val/images/002880.jpg             \b\b\b\b 95%\b\b\b\b\b  OK \n",
            "Extracting  /content/YOLO_Dataset_Main/val/images/002886.jpg             \b\b\b\b 95%\b\b\b\b\b  OK \n",
            "Extracting  /content/YOLO_Dataset_Main/val/images/002891.jpg             \b\b\b\b 95%\b\b\b\b\b  OK \n",
            "Extracting  /content/YOLO_Dataset_Main/val/images/002894.jpg             \b\b\b\b 95%\b\b\b\b\b  OK \n",
            "Extracting  /content/YOLO_Dataset_Main/val/images/002904.jpg             \b\b\b\b 95%\b\b\b\b\b  OK \n",
            "Extracting  /content/YOLO_Dataset_Main/val/images/002910.jpg             \b\b\b\b 95%\b\b\b\b\b  OK \n",
            "Extracting  /content/YOLO_Dataset_Main/val/images/002917.jpg             \b\b\b\b 95%\b\b\b\b\b  OK \n",
            "Extracting  /content/YOLO_Dataset_Main/val/images/002926.jpg             \b\b\b\b 95%\b\b\b\b\b  OK \n",
            "Extracting  /content/YOLO_Dataset_Main/val/images/002929.jpg             \b\b\b\b 95%\b\b\b\b\b  OK \n",
            "Extracting  /content/YOLO_Dataset_Main/val/images/002934.jpg             \b\b\b\b 95%\b\b\b\b\b  OK \n",
            "Extracting  /content/YOLO_Dataset_Main/val/images/002941.jpg             \b\b\b\b 95%\b\b\b\b\b  OK \n",
            "Extracting  /content/YOLO_Dataset_Main/val/images/002943.jpg             \b\b\b\b 95%\b\b\b\b\b  OK \n",
            "Extracting  /content/YOLO_Dataset_Main/val/images/002945.jpg             \b\b\b\b 95%\b\b\b\b\b  OK \n",
            "Extracting  /content/YOLO_Dataset_Main/val/images/002952.jpg             \b\b\b\b 95%\b\b\b\b\b  OK \n",
            "Extracting  /content/YOLO_Dataset_Main/val/images/002960.jpg             \b\b\b\b 96%\b\b\b\b\b  OK \n",
            "Extracting  /content/YOLO_Dataset_Main/val/images/002964.jpg             \b\b\b\b 96%\b\b\b\b\b  OK \n",
            "Extracting  /content/YOLO_Dataset_Main/val/images/002970.jpg             \b\b\b\b 96%\b\b\b\b\b  OK \n",
            "Extracting  /content/YOLO_Dataset_Main/val/images/002976.jpg             \b\b\b\b 96%\b\b\b\b\b  OK \n",
            "Extracting  /content/YOLO_Dataset_Main/val/images/002987.jpg             \b\b\b\b 96%\b\b\b\b\b  OK \n",
            "Extracting  /content/YOLO_Dataset_Main/val/images/003008.jpg             \b\b\b\b 96%\b\b\b\b\b  OK \n",
            "Extracting  /content/YOLO_Dataset_Main/val/images/003012.jpg             \b\b\b\b 96%\b\b\b\b\b  OK \n",
            "Extracting  /content/YOLO_Dataset_Main/val/images/003023.jpg             \b\b\b\b 96%\b\b\b\b\b  OK \n",
            "Extracting  /content/YOLO_Dataset_Main/val/images/003025.jpg             \b\b\b\b 96%\b\b\b\b\b  OK \n",
            "Extracting  /content/YOLO_Dataset_Main/val/images/003029.jpg             \b\b\b\b 96%\b\b\b\b\b  OK \n",
            "Extracting  /content/YOLO_Dataset_Main/val/images/003045.jpg             \b\b\b\b 96%\b\b\b\b\b  OK \n",
            "Extracting  /content/YOLO_Dataset_Main/val/images/003058.jpg             \b\b\b\b 96%\b\b\b\b\b  OK \n",
            "Extracting  /content/YOLO_Dataset_Main/val/images/003061.jpg             \b\b\b\b 96%\b\b\b\b\b  OK \n",
            "Extracting  /content/YOLO_Dataset_Main/val/images/003073.jpg             \b\b\b\b 96%\b\b\b\b\b  OK \n",
            "Extracting  /content/YOLO_Dataset_Main/val/images/003077.jpg             \b\b\b\b 96%\b\b\b\b\b  OK \n",
            "Extracting  /content/YOLO_Dataset_Main/val/images/003081.jpg             \b\b\b\b 96%\b\b\b\b\b  OK \n",
            "Extracting  /content/YOLO_Dataset_Main/val/images/003083.jpg             \b\b\b\b 96%\b\b\b\b\b  OK \n",
            "Extracting  /content/YOLO_Dataset_Main/val/images/003090.jpg             \b\b\b\b 96%\b\b\b\b\b  OK \n",
            "Extracting  /content/YOLO_Dataset_Main/val/images/003094.jpg             \b\b\b\b 96%\b\b\b\b\b  OK \n",
            "Extracting  /content/YOLO_Dataset_Main/val/images/003098.jpg             \b\b\b\b 96%\b\b\b\b\b  OK \n",
            "Extracting  /content/YOLO_Dataset_Main/val/images/003111.jpg             \b\b\b\b 96%\b\b\b\b\b  OK \n",
            "Extracting  /content/YOLO_Dataset_Main/val/images/003114.jpg             \b\b\b\b 96%\b\b\b\b\b  OK \n",
            "Extracting  /content/YOLO_Dataset_Main/val/images/003119.jpg             \b\b\b\b 96%\b\b\b\b\b  OK \n",
            "Extracting  /content/YOLO_Dataset_Main/val/images/003138.jpg             \b\b\b\b 96%\b\b\b\b\b  OK \n",
            "Extracting  /content/YOLO_Dataset_Main/val/images/003141.jpg             \b\b\b\b 96%\b\b\b\b\b  OK \n",
            "Extracting  /content/YOLO_Dataset_Main/val/images/003143.jpg             \b\b\b\b 96%\b\b\b\b\b  OK \n",
            "Extracting  /content/YOLO_Dataset_Main/val/images/003144.jpg             \b\b\b\b 96%\b\b\b\b\b  OK \n",
            "Extracting  /content/YOLO_Dataset_Main/val/images/003147.jpg             \b\b\b\b 96%\b\b\b\b\b  OK \n",
            "Extracting  /content/YOLO_Dataset_Main/val/images/003148.jpg             \b\b\b\b 96%\b\b\b\b\b  OK \n",
            "Extracting  /content/YOLO_Dataset_Main/val/images/003152.jpg             \b\b\b\b 97%\b\b\b\b\b  OK \n",
            "Extracting  /content/YOLO_Dataset_Main/val/images/003156.jpg             \b\b\b\b 97%\b\b\b\b\b  OK \n",
            "Extracting  /content/YOLO_Dataset_Main/val/images/003159.jpg             \b\b\b\b 97%\b\b\b\b\b  OK \n",
            "Extracting  /content/YOLO_Dataset_Main/val/images/003166.jpg             \b\b\b\b 97%\b\b\b\b\b  OK \n",
            "Extracting  /content/YOLO_Dataset_Main/val/images/003167.jpg             \b\b\b\b 97%\b\b\b\b\b  OK \n",
            "Extracting  /content/YOLO_Dataset_Main/val/images/003170.jpg             \b\b\b\b 97%\b\b\b\b\b  OK \n",
            "Extracting  /content/YOLO_Dataset_Main/val/images/003176.jpg             \b\b\b\b 97%\b\b\b\b\b  OK \n",
            "Extracting  /content/YOLO_Dataset_Main/val/images/003177.jpg             \b\b\b\b 97%\b\b\b\b\b  OK \n",
            "Extracting  /content/YOLO_Dataset_Main/val/images/003186.jpg             \b\b\b\b 97%\b\b\b\b\b  OK \n",
            "Extracting  /content/YOLO_Dataset_Main/val/images/003193.jpg             \b\b\b\b 97%\b\b\b\b\b  OK \n",
            "Extracting  /content/YOLO_Dataset_Main/val/images/003194.jpg             \b\b\b\b 97%\b\b\b\b\b  OK \n",
            "Extracting  /content/YOLO_Dataset_Main/val/images/003196.jpg             \b\b\b\b 97%\b\b\b\b\b  OK \n",
            "Extracting  /content/YOLO_Dataset_Main/val/images/003198.jpg             \b\b\b\b 97%\b\b\b\b\b  OK \n",
            "Extracting  /content/YOLO_Dataset_Main/val/images/003202.jpg             \b\b\b\b 97%\b\b\b\b\b  OK \n",
            "Extracting  /content/YOLO_Dataset_Main/val/images/003209.jpg             \b\b\b\b 97%\b\b\b\b\b  OK \n",
            "Extracting  /content/YOLO_Dataset_Main/val/images/003221.jpg             \b\b\b\b 97%\b\b\b\b\b  OK \n",
            "Extracting  /content/YOLO_Dataset_Main/val/images/003234.jpg             \b\b\b\b 97%\b\b\b\b\b  OK \n",
            "Extracting  /content/YOLO_Dataset_Main/val/images/003236.jpg             \b\b\b\b 97%\b\b\b\b\b  OK \n",
            "Extracting  /content/YOLO_Dataset_Main/val/images/003254.jpg             \b\b\b\b 97%\b\b\b\b\b  OK \n",
            "Extracting  /content/YOLO_Dataset_Main/val/images/003256.jpg             \b\b\b\b 97%\b\b\b\b\b  OK \n",
            "Extracting  /content/YOLO_Dataset_Main/val/images/003260.jpg             \b\b\b\b 97%\b\b\b\b\b  OK \n",
            "Extracting  /content/YOLO_Dataset_Main/val/images/003263.jpg             \b\b\b\b 97%\b\b\b\b\b  OK \n",
            "Extracting  /content/YOLO_Dataset_Main/val/images/003266.jpg             \b\b\b\b 97%\b\b\b\b\b  OK \n",
            "Extracting  /content/YOLO_Dataset_Main/val/images/003274.jpg             \b\b\b\b 97%\b\b\b\b\b  OK \n",
            "Extracting  /content/YOLO_Dataset_Main/val/images/003277.jpg             \b\b\b\b 97%\b\b\b\b\b  OK \n",
            "Extracting  /content/YOLO_Dataset_Main/val/images/003283.jpg             \b\b\b\b 97%\b\b\b\b\b  OK \n",
            "Extracting  /content/YOLO_Dataset_Main/val/images/003287.jpg             \b\b\b\b 97%\b\b\b\b\b  OK \n",
            "Extracting  /content/YOLO_Dataset_Main/val/images/003289.jpg             \b\b\b\b 97%\b\b\b\b\b  OK \n",
            "Extracting  /content/YOLO_Dataset_Main/val/images/003295.jpg             \b\b\b\b 97%\b\b\b\b\b  OK \n",
            "Extracting  /content/YOLO_Dataset_Main/val/images/003296.jpg             \b\b\b\b 97%\b\b\b\b\b  OK \n",
            "Extracting  /content/YOLO_Dataset_Main/val/images/003297.jpg             \b\b\b\b 97%\b\b\b\b\b  OK \n",
            "Extracting  /content/YOLO_Dataset_Main/val/images/003300.jpg             \b\b\b\b 97%\b\b\b\b\b  OK \n",
            "Extracting  /content/YOLO_Dataset_Main/val/images/003304.jpg             \b\b\b\b 97%\b\b\b\b\b  OK \n",
            "Extracting  /content/YOLO_Dataset_Main/val/images/003315.jpg             \b\b\b\b 97%\b\b\b\b\b  OK \n",
            "Extracting  /content/YOLO_Dataset_Main/val/images/003317.jpg             \b\b\b\b 97%\b\b\b\b\b  OK \n",
            "Extracting  /content/YOLO_Dataset_Main/val/images/003318.jpg             \b\b\b\b 97%\b\b\b\b\b  OK \n",
            "Extracting  /content/YOLO_Dataset_Main/val/images/003321.jpg             \b\b\b\b 97%\b\b\b\b\b  OK \n",
            "Extracting  /content/YOLO_Dataset_Main/val/images/003328.jpg             \b\b\b\b 98%\b\b\b\b\b  OK \n",
            "Extracting  /content/YOLO_Dataset_Main/val/images/003335.jpg             \b\b\b\b 98%\b\b\b\b\b  OK \n",
            "Extracting  /content/YOLO_Dataset_Main/val/images/003349.jpg             \b\b\b\b 98%\b\b\b\b\b  OK \n",
            "Extracting  /content/YOLO_Dataset_Main/val/images/003359.jpg             \b\b\b\b 98%\b\b\b\b\b  OK \n",
            "Extracting  /content/YOLO_Dataset_Main/val/images/003360.jpg             \b\b\b\b 98%\b\b\b\b\b  OK \n",
            "Extracting  /content/YOLO_Dataset_Main/val/images/003363.jpg             \b\b\b\b 98%\b\b\b\b\b  OK \n",
            "Extracting  /content/YOLO_Dataset_Main/val/images/003369.jpg             \b\b\b\b 98%\b\b\b\b\b  OK \n",
            "Extracting  /content/YOLO_Dataset_Main/val/images/003371.jpg             \b\b\b\b 98%\b\b\b\b\b  OK \n",
            "Extracting  /content/YOLO_Dataset_Main/val/images/003379.jpg             \b\b\b\b 98%\b\b\b\b\b  OK \n",
            "Extracting  /content/YOLO_Dataset_Main/val/images/003380.jpg             \b\b\b\b 98%\b\b\b\b\b  OK \n",
            "Extracting  /content/YOLO_Dataset_Main/val/images/003389.jpg             \b\b\b\b 98%\b\b\b\b\b  OK \n",
            "Extracting  /content/YOLO_Dataset_Main/val/images/003391.jpg             \b\b\b\b 98%\b\b\b\b\b  OK \n",
            "Extracting  /content/YOLO_Dataset_Main/val/images/003396.jpg             \b\b\b\b 98%\b\b\b\b\b  OK \n",
            "Extracting  /content/YOLO_Dataset_Main/val/images/003398.jpg             \b\b\b\b 98%\b\b\b\b\b  OK \n",
            "Extracting  /content/YOLO_Dataset_Main/val/images/003417.jpg             \b\b\b\b 98%\b\b\b\b\b  OK \n",
            "Extracting  /content/YOLO_Dataset_Main/val/images/003419.jpg             \b\b\b\b 98%\b\b\b\b\b  OK \n",
            "Extracting  /content/YOLO_Dataset_Main/val/images/003433.jpg             \b\b\b\b 98%\b\b\b\b\b  OK \n",
            "Extracting  /content/YOLO_Dataset_Main/val/images/003434.jpg             \b\b\b\b 98%\b\b\b\b\b  OK \n",
            "Extracting  /content/YOLO_Dataset_Main/val/images/003442.jpg             \b\b\b\b 98%\b\b\b\b\b  OK \n",
            "Extracting  /content/YOLO_Dataset_Main/val/images/003444.jpg             \b\b\b\b 98%\b\b\b\b\b  OK \n",
            "Extracting  /content/YOLO_Dataset_Main/val/images/003445.jpg             \b\b\b\b 98%\b\b\b\b\b  OK \n",
            "Extracting  /content/YOLO_Dataset_Main/val/images/003447.jpg             \b\b\b\b 98%\b\b\b\b\b  OK \n",
            "Extracting  /content/YOLO_Dataset_Main/val/images/003456.jpg             \b\b\b\b 98%\b\b\b\b\b  OK \n",
            "Extracting  /content/YOLO_Dataset_Main/val/images/003472.jpg             \b\b\b\b 98%\b\b\b\b\b  OK \n",
            "Extracting  /content/YOLO_Dataset_Main/val/images/003473.jpg             \b\b\b\b 98%\b\b\b\b\b  OK \n",
            "Extracting  /content/YOLO_Dataset_Main/val/images/003478.jpg             \b\b\b\b 98%\b\b\b\b\b  OK \n",
            "Extracting  /content/YOLO_Dataset_Main/val/images/003480.jpg             \b\b\b\b 98%\b\b\b\b\b  OK \n",
            "Extracting  /content/YOLO_Dataset_Main/val/images/003483.jpg             \b\b\b\b 98%\b\b\b\b\b  OK \n",
            "Extracting  /content/YOLO_Dataset_Main/val/images/003487.jpg             \b\b\b\b 98%\b\b\b\b\b  OK \n",
            "Extracting  /content/YOLO_Dataset_Main/val/images/003499.jpg             \b\b\b\b 98%\b\b\b\b\b  OK \n",
            "Extracting  /content/YOLO_Dataset_Main/val/images/003501.jpg             \b\b\b\b 98%\b\b\b\b\b  OK \n",
            "Extracting  /content/YOLO_Dataset_Main/val/images/003519.jpg             \b\b\b\b 98%\b\b\b\b\b  OK \n",
            "Extracting  /content/YOLO_Dataset_Main/val/images/003522.jpg             \b\b\b\b 98%\b\b\b\b\b  OK \n",
            "Extracting  /content/YOLO_Dataset_Main/val/images/003523.jpg             \b\b\b\b 98%\b\b\b\b\b  OK \n",
            "Extracting  /content/YOLO_Dataset_Main/val/images/003531.jpg             \b\b\b\b 99%\b\b\b\b\b  OK \n",
            "Extracting  /content/YOLO_Dataset_Main/val/images/003533.jpg             \b\b\b\b 99%\b\b\b\b\b  OK \n",
            "Extracting  /content/YOLO_Dataset_Main/val/images/003534.jpg             \b\b\b\b 99%\b\b\b\b\b  OK \n",
            "Extracting  /content/YOLO_Dataset_Main/val/images/003535.jpg             \b\b\b\b 99%\b\b\b\b\b  OK \n",
            "Extracting  /content/YOLO_Dataset_Main/val/images/003540.jpg             \b\b\b\b 99%\b\b\b\b\b  OK \n",
            "Extracting  /content/YOLO_Dataset_Main/val/images/003548.jpg             \b\b\b\b 99%\b\b\b\b\b  OK \n",
            "Extracting  /content/YOLO_Dataset_Main/val/images/003555.jpg             \b\b\b\b 99%\b\b\b\b\b  OK \n",
            "Extracting  /content/YOLO_Dataset_Main/val/images/003571.jpg             \b\b\b\b 99%\b\b\b\b\b  OK \n",
            "Extracting  /content/YOLO_Dataset_Main/val/images/003573.jpg             \b\b\b\b 99%\b\b\b\b\b  OK \n",
            "Extracting  /content/YOLO_Dataset_Main/val/images/003574.jpg             \b\b\b\b 99%\b\b\b\b\b  OK \n",
            "Extracting  /content/YOLO_Dataset_Main/val/images/003576.jpg             \b\b\b\b 99%\b\b\b\b\b  OK \n",
            "Extracting  /content/YOLO_Dataset_Main/val/images/003582.jpg             \b\b\b\b 99%\b\b\b\b\b  OK \n",
            "Extracting  /content/YOLO_Dataset_Main/val/images/003587.jpg             \b\b\b\b 99%\b\b\b\b\b  OK \n",
            "Extracting  /content/YOLO_Dataset_Main/val/images/003588.jpg             \b\b\b\b 99%\b\b\b\b\b  OK \n",
            "Extracting  /content/YOLO_Dataset_Main/val/images/003589.jpg             \b\b\b\b 99%\b\b\b\b\b  OK \n",
            "Extracting  /content/YOLO_Dataset_Main/val/images/003590.jpg             \b\b\b\b 99%\b\b\b\b\b  OK \n",
            "Extracting  /content/YOLO_Dataset_Main/val/images/003591.jpg             \b\b\b\b 99%\b\b\b\b\b  OK \n",
            "Extracting  /content/YOLO_Dataset_Main/val/images/003594.jpg             \b\b\b\b 99%\b\b\b\b\b  OK \n",
            "Extracting  /content/YOLO_Dataset_Main/val/images/003604.jpg             \b\b\b\b 99%\b\b\b\b\b  OK \n",
            "Extracting  /content/YOLO_Dataset_Main/val/images/003606.jpg             \b\b\b\b 99%\b\b\b\b\b  OK \n",
            "Extracting  /content/YOLO_Dataset_Main/val/images/003616.jpg             \b\b\b\b 99%\b\b\b\b\b  OK \n",
            "Extracting  /content/YOLO_Dataset_Main/val/images/003630.jpg             \b\b\b\b 99%\b\b\b\b\b  OK \n",
            "Extracting  /content/YOLO_Dataset_Main/val/images/003637.jpg             \b\b\b\b 99%\b\b\b\b\b  OK \n",
            "Extracting  /content/YOLO_Dataset_Main/val/images/003649.jpg             \b\b\b\b 99%\b\b\b\b\b  OK \n",
            "Extracting  /content/YOLO_Dataset_Main/val/images/003654.jpg             \b\b\b\b 99%\b\b\b\b\b  OK \n",
            "Extracting  /content/YOLO_Dataset_Main/val/images/003655.jpg             \b\b\b\b 99%\b\b\b\b\b  OK \n",
            "Extracting  /content/YOLO_Dataset_Main/val/images/003658.jpg             \b\b\b\b 99%\b\b\b\b\b  OK \n",
            "Extracting  /content/YOLO_Dataset_Main/val/images/003660.jpg             \b\b\b\b 99%\b\b\b\b\b  OK \n",
            "Extracting  /content/YOLO_Dataset_Main/val/images/003671.jpg             \b\b\b\b 99%\b\b\b\b\b  OK \n",
            "Extracting  /content/YOLO_Dataset_Main/val/images/003673.jpg             \b\b\b\b 99%\b\b\b\b\b  OK \n",
            "Extracting  /content/YOLO_Dataset_Main/val/images/003674.jpg             \b\b\b\b 99%\b\b\b\b\b  OK \n",
            "Extracting  /content/YOLO_Dataset_Main/val/images/003675.jpg             \b\b\b\b 99%\b\b\b\b\b  OK \n",
            "Extracting  /content/YOLO_Dataset_Main/val/images/003682.jpg             \b\b\b\b 99%\b\b\b\b\b  OK \n",
            "Extracting  /content/YOLO_Dataset_Main/val/images/003686.jpg             \b\b\b\b 99%\b\b\b\b\b  OK \n",
            "Creating    /content/YOLO_Dataset_Main/val/labels                     OK\n",
            "Extracting  /content/YOLO_Dataset_Main/val/labels/000006.txt             \b\b\b\b 99%\b\b\b\b\b  OK \n",
            "Extracting  /content/YOLO_Dataset_Main/val/labels/000012.txt             \b\b\b\b 99%\b\b\b\b\b  OK \n",
            "Extracting  /content/YOLO_Dataset_Main/val/labels/000013.txt             \b\b\b\b 99%\b\b\b\b\b  OK \n",
            "Extracting  /content/YOLO_Dataset_Main/val/labels/000022.txt             \b\b\b\b 99%\b\b\b\b\b  OK \n",
            "Extracting  /content/YOLO_Dataset_Main/val/labels/000023.txt             \b\b\b\b 99%\b\b\b\b\b  OK \n",
            "Extracting  /content/YOLO_Dataset_Main/val/labels/000025.txt             \b\b\b\b 99%\b\b\b\b\b  OK \n",
            "Extracting  /content/YOLO_Dataset_Main/val/labels/000039.txt             \b\b\b\b 99%\b\b\b\b\b  OK \n",
            "Extracting  /content/YOLO_Dataset_Main/val/labels/000041.txt             \b\b\b\b 99%\b\b\b\b\b  OK \n",
            "Extracting  /content/YOLO_Dataset_Main/val/labels/000043.txt             \b\b\b\b 99%\b\b\b\b\b  OK \n",
            "Extracting  /content/YOLO_Dataset_Main/val/labels/000067.txt             \b\b\b\b 99%\b\b\b\b\b  OK \n",
            "Extracting  /content/YOLO_Dataset_Main/val/labels/000068.txt             \b\b\b\b 99%\b\b\b\b\b  OK \n",
            "Extracting  /content/YOLO_Dataset_Main/val/labels/000071.txt             \b\b\b\b 99%\b\b\b\b\b  OK \n",
            "Extracting  /content/YOLO_Dataset_Main/val/labels/000073.txt             \b\b\b\b 99%\b\b\b\b\b  OK \n",
            "Extracting  /content/YOLO_Dataset_Main/val/labels/000084.txt             \b\b\b\b 99%\b\b\b\b\b  OK \n",
            "Extracting  /content/YOLO_Dataset_Main/val/labels/000085.txt             \b\b\b\b 99%\b\b\b\b\b  OK \n",
            "Extracting  /content/YOLO_Dataset_Main/val/labels/000089.txt             \b\b\b\b 99%\b\b\b\b\b  OK \n",
            "Extracting  /content/YOLO_Dataset_Main/val/labels/000092.txt             \b\b\b\b 99%\b\b\b\b\b  OK \n",
            "Extracting  /content/YOLO_Dataset_Main/val/labels/000109.txt             \b\b\b\b 99%\b\b\b\b\b  OK \n",
            "Extracting  /content/YOLO_Dataset_Main/val/labels/000110.txt             \b\b\b\b 99%\b\b\b\b\b  OK \n",
            "Extracting  /content/YOLO_Dataset_Main/val/labels/000111.txt             \b\b\b\b 99%\b\b\b\b\b  OK \n",
            "Extracting  /content/YOLO_Dataset_Main/val/labels/000115.txt             \b\b\b\b 99%\b\b\b\b\b  OK \n",
            "Extracting  /content/YOLO_Dataset_Main/val/labels/000120.txt             \b\b\b\b 99%\b\b\b\b\b  OK \n",
            "Extracting  /content/YOLO_Dataset_Main/val/labels/000123.txt             \b\b\b\b 99%\b\b\b\b\b  OK \n",
            "Extracting  /content/YOLO_Dataset_Main/val/labels/000129.txt             \b\b\b\b 99%\b\b\b\b\b  OK \n",
            "Extracting  /content/YOLO_Dataset_Main/val/labels/000134.txt             \b\b\b\b 99%\b\b\b\b\b  OK \n",
            "Extracting  /content/YOLO_Dataset_Main/val/labels/000136.txt             \b\b\b\b 99%\b\b\b\b\b  OK \n",
            "Extracting  /content/YOLO_Dataset_Main/val/labels/000137.txt             \b\b\b\b 99%\b\b\b\b\b  OK \n",
            "Extracting  /content/YOLO_Dataset_Main/val/labels/000141.txt             \b\b\b\b 99%\b\b\b\b\b  OK \n",
            "Extracting  /content/YOLO_Dataset_Main/val/labels/000149.txt             \b\b\b\b 99%\b\b\b\b\b  OK \n",
            "Extracting  /content/YOLO_Dataset_Main/val/labels/000168.txt             \b\b\b\b 99%\b\b\b\b\b  OK \n",
            "Extracting  /content/YOLO_Dataset_Main/val/labels/000170.txt             \b\b\b\b 99%\b\b\b\b\b  OK \n",
            "Extracting  /content/YOLO_Dataset_Main/val/labels/000172.txt             \b\b\b\b 99%\b\b\b\b\b  OK \n",
            "Extracting  /content/YOLO_Dataset_Main/val/labels/000173.txt             \b\b\b\b 99%\b\b\b\b\b  OK \n",
            "Extracting  /content/YOLO_Dataset_Main/val/labels/000182.txt             \b\b\b\b 99%\b\b\b\b\b  OK \n",
            "Extracting  /content/YOLO_Dataset_Main/val/labels/000183.txt             \b\b\b\b 99%\b\b\b\b\b  OK \n",
            "Extracting  /content/YOLO_Dataset_Main/val/labels/000184.txt             \b\b\b\b 99%\b\b\b\b\b  OK \n",
            "Extracting  /content/YOLO_Dataset_Main/val/labels/000192.txt             \b\b\b\b 99%\b\b\b\b\b  OK \n",
            "Extracting  /content/YOLO_Dataset_Main/val/labels/000195.txt             \b\b\b\b 99%\b\b\b\b\b  OK \n",
            "Extracting  /content/YOLO_Dataset_Main/val/labels/000196.txt             \b\b\b\b 99%\b\b\b\b\b  OK \n",
            "Extracting  /content/YOLO_Dataset_Main/val/labels/000198.txt             \b\b\b\b 99%\b\b\b\b\b  OK \n",
            "Extracting  /content/YOLO_Dataset_Main/val/labels/000208.txt             \b\b\b\b 99%\b\b\b\b\b  OK \n",
            "Extracting  /content/YOLO_Dataset_Main/val/labels/000211.txt             \b\b\b\b 99%\b\b\b\b\b  OK \n",
            "Extracting  /content/YOLO_Dataset_Main/val/labels/000215.txt             \b\b\b\b 99%\b\b\b\b\b  OK \n",
            "Extracting  /content/YOLO_Dataset_Main/val/labels/000222.txt             \b\b\b\b 99%\b\b\b\b\b  OK \n",
            "Extracting  /content/YOLO_Dataset_Main/val/labels/000223.txt             \b\b\b\b 99%\b\b\b\b\b  OK \n",
            "Extracting  /content/YOLO_Dataset_Main/val/labels/000228.txt             \b\b\b\b 99%\b\b\b\b\b  OK \n",
            "Extracting  /content/YOLO_Dataset_Main/val/labels/000230.txt             \b\b\b\b 99%\b\b\b\b\b  OK \n",
            "Extracting  /content/YOLO_Dataset_Main/val/labels/000246.txt             \b\b\b\b 99%\b\b\b\b\b  OK \n",
            "Extracting  /content/YOLO_Dataset_Main/val/labels/000249.txt             \b\b\b\b 99%\b\b\b\b\b  OK \n",
            "Extracting  /content/YOLO_Dataset_Main/val/labels/000262.txt             \b\b\b\b 99%\b\b\b\b\b  OK \n",
            "Extracting  /content/YOLO_Dataset_Main/val/labels/000264.txt             \b\b\b\b 99%\b\b\b\b\b  OK \n",
            "Extracting  /content/YOLO_Dataset_Main/val/labels/000269.txt             \b\b\b\b 99%\b\b\b\b\b  OK \n",
            "Extracting  /content/YOLO_Dataset_Main/val/labels/000279.txt             \b\b\b\b 99%\b\b\b\b\b  OK \n",
            "Extracting  /content/YOLO_Dataset_Main/val/labels/000281.txt             \b\b\b\b 99%\b\b\b\b\b  OK \n",
            "Extracting  /content/YOLO_Dataset_Main/val/labels/000286.txt             \b\b\b\b 99%\b\b\b\b\b  OK \n",
            "Extracting  /content/YOLO_Dataset_Main/val/labels/000296.txt             \b\b\b\b 99%\b\b\b\b\b  OK \n",
            "Extracting  /content/YOLO_Dataset_Main/val/labels/000297.txt             \b\b\b\b 99%\b\b\b\b\b  OK \n",
            "Extracting  /content/YOLO_Dataset_Main/val/labels/000314.txt             \b\b\b\b 99%\b\b\b\b\b  OK \n",
            "Extracting  /content/YOLO_Dataset_Main/val/labels/000315.txt             \b\b\b\b 99%\b\b\b\b\b  OK \n",
            "Extracting  /content/YOLO_Dataset_Main/val/labels/000319.txt             \b\b\b\b 99%\b\b\b\b\b  OK \n",
            "Extracting  /content/YOLO_Dataset_Main/val/labels/000320.txt             \b\b\b\b 99%\b\b\b\b\b  OK \n",
            "Extracting  /content/YOLO_Dataset_Main/val/labels/000326.txt             \b\b\b\b 99%\b\b\b\b\b  OK \n",
            "Extracting  /content/YOLO_Dataset_Main/val/labels/000327.txt             \b\b\b\b 99%\b\b\b\b\b  OK \n",
            "Extracting  /content/YOLO_Dataset_Main/val/labels/000328.txt             \b\b\b\b 99%\b\b\b\b\b  OK \n",
            "Extracting  /content/YOLO_Dataset_Main/val/labels/000332.txt             \b\b\b\b 99%\b\b\b\b\b  OK \n",
            "Extracting  /content/YOLO_Dataset_Main/val/labels/000337.txt             \b\b\b\b 99%\b\b\b\b\b  OK \n",
            "Extracting  /content/YOLO_Dataset_Main/val/labels/000341.txt             \b\b\b\b 99%\b\b\b\b\b  OK \n",
            "Extracting  /content/YOLO_Dataset_Main/val/labels/000343.txt             \b\b\b\b 99%\b\b\b\b\b  OK \n",
            "Extracting  /content/YOLO_Dataset_Main/val/labels/000351.txt             \b\b\b\b 99%\b\b\b\b\b  OK \n",
            "Extracting  /content/YOLO_Dataset_Main/val/labels/000355.txt             \b\b\b\b 99%\b\b\b\b\b  OK \n",
            "Extracting  /content/YOLO_Dataset_Main/val/labels/000362.txt             \b\b\b\b 99%\b\b\b\b\b  OK \n",
            "Extracting  /content/YOLO_Dataset_Main/val/labels/000369.txt             \b\b\b\b 99%\b\b\b\b\b  OK \n",
            "Extracting  /content/YOLO_Dataset_Main/val/labels/000372.txt             \b\b\b\b 99%\b\b\b\b\b  OK \n",
            "Extracting  /content/YOLO_Dataset_Main/val/labels/000376.txt             \b\b\b\b 99%\b\b\b\b\b  OK \n",
            "Extracting  /content/YOLO_Dataset_Main/val/labels/000384.txt             \b\b\b\b 99%\b\b\b\b\b  OK \n",
            "Extracting  /content/YOLO_Dataset_Main/val/labels/000387.txt             \b\b\b\b 99%\b\b\b\b\b  OK \n",
            "Extracting  /content/YOLO_Dataset_Main/val/labels/000388.txt             \b\b\b\b 99%\b\b\b\b\b  OK \n",
            "Extracting  /content/YOLO_Dataset_Main/val/labels/000390.txt             \b\b\b\b 99%\b\b\b\b\b  OK \n",
            "Extracting  /content/YOLO_Dataset_Main/val/labels/000394.txt             \b\b\b\b 99%\b\b\b\b\b  OK \n",
            "Extracting  /content/YOLO_Dataset_Main/val/labels/000403.txt             \b\b\b\b 99%\b\b\b\b\b  OK \n",
            "Extracting  /content/YOLO_Dataset_Main/val/labels/000417.txt             \b\b\b\b 99%\b\b\b\b\b  OK \n",
            "Extracting  /content/YOLO_Dataset_Main/val/labels/000423.txt             \b\b\b\b 99%\b\b\b\b\b  OK \n",
            "Extracting  /content/YOLO_Dataset_Main/val/labels/000425.txt             \b\b\b\b 99%\b\b\b\b\b  OK \n",
            "Extracting  /content/YOLO_Dataset_Main/val/labels/000426.txt             \b\b\b\b 99%\b\b\b\b\b  OK \n",
            "Extracting  /content/YOLO_Dataset_Main/val/labels/000438.txt             \b\b\b\b 99%\b\b\b\b\b  OK \n",
            "Extracting  /content/YOLO_Dataset_Main/val/labels/000440.txt             \b\b\b\b 99%\b\b\b\b\b  OK \n",
            "Extracting  /content/YOLO_Dataset_Main/val/labels/000442.txt             \b\b\b\b 99%\b\b\b\b\b  OK \n",
            "Extracting  /content/YOLO_Dataset_Main/val/labels/000444.txt             \b\b\b\b 99%\b\b\b\b\b  OK \n",
            "Extracting  /content/YOLO_Dataset_Main/val/labels/000446.txt             \b\b\b\b 99%\b\b\b\b\b  OK \n",
            "Extracting  /content/YOLO_Dataset_Main/val/labels/000455.txt             \b\b\b\b 99%\b\b\b\b\b  OK \n",
            "Extracting  /content/YOLO_Dataset_Main/val/labels/000469.txt             \b\b\b\b 99%\b\b\b\b\b  OK \n",
            "Extracting  /content/YOLO_Dataset_Main/val/labels/000473.txt             \b\b\b\b 99%\b\b\b\b\b  OK \n",
            "Extracting  /content/YOLO_Dataset_Main/val/labels/000492.txt             \b\b\b\b 99%\b\b\b\b\b  OK \n",
            "Extracting  /content/YOLO_Dataset_Main/val/labels/000495.txt             \b\b\b\b 99%\b\b\b\b\b  OK \n",
            "Extracting  /content/YOLO_Dataset_Main/val/labels/000496.txt             \b\b\b\b 99%\b\b\b\b\b  OK \n",
            "Extracting  /content/YOLO_Dataset_Main/val/labels/000497.txt             \b\b\b\b 99%\b\b\b\b\b  OK \n",
            "Extracting  /content/YOLO_Dataset_Main/val/labels/000502.txt             \b\b\b\b 99%\b\b\b\b\b  OK \n",
            "Extracting  /content/YOLO_Dataset_Main/val/labels/000509.txt             \b\b\b\b 99%\b\b\b\b\b  OK \n",
            "Extracting  /content/YOLO_Dataset_Main/val/labels/000510.txt             \b\b\b\b 99%\b\b\b\b\b  OK \n",
            "Extracting  /content/YOLO_Dataset_Main/val/labels/000511.txt             \b\b\b\b 99%\b\b\b\b\b  OK \n",
            "Extracting  /content/YOLO_Dataset_Main/val/labels/000512.txt             \b\b\b\b 99%\b\b\b\b\b  OK \n",
            "Extracting  /content/YOLO_Dataset_Main/val/labels/000515.txt             \b\b\b\b 99%\b\b\b\b\b  OK \n",
            "Extracting  /content/YOLO_Dataset_Main/val/labels/000522.txt             \b\b\b\b 99%\b\b\b\b\b  OK \n",
            "Extracting  /content/YOLO_Dataset_Main/val/labels/000524.txt             \b\b\b\b 99%\b\b\b\b\b  OK \n",
            "Extracting  /content/YOLO_Dataset_Main/val/labels/000527.txt             \b\b\b\b 99%\b\b\b\b\b  OK \n",
            "Extracting  /content/YOLO_Dataset_Main/val/labels/000533.txt             \b\b\b\b 99%\b\b\b\b\b  OK \n",
            "Extracting  /content/YOLO_Dataset_Main/val/labels/000538.txt             \b\b\b\b 99%\b\b\b\b\b  OK \n",
            "Extracting  /content/YOLO_Dataset_Main/val/labels/000539.txt             \b\b\b\b 99%\b\b\b\b\b  OK \n",
            "Extracting  /content/YOLO_Dataset_Main/val/labels/000542.txt             \b\b\b\b 99%\b\b\b\b\b  OK \n",
            "Extracting  /content/YOLO_Dataset_Main/val/labels/000545.txt             \b\b\b\b 99%\b\b\b\b\b  OK \n",
            "Extracting  /content/YOLO_Dataset_Main/val/labels/000547.txt             \b\b\b\b 99%\b\b\b\b\b  OK \n",
            "Extracting  /content/YOLO_Dataset_Main/val/labels/000549.txt             \b\b\b\b 99%\b\b\b\b\b  OK \n",
            "Extracting  /content/YOLO_Dataset_Main/val/labels/000553.txt             \b\b\b\b 99%\b\b\b\b\b  OK \n",
            "Extracting  /content/YOLO_Dataset_Main/val/labels/000557.txt             \b\b\b\b 99%\b\b\b\b\b  OK \n",
            "Extracting  /content/YOLO_Dataset_Main/val/labels/000558.txt             \b\b\b\b 99%\b\b\b\b\b  OK \n",
            "Extracting  /content/YOLO_Dataset_Main/val/labels/000564.txt             \b\b\b\b 99%\b\b\b\b\b  OK \n",
            "Extracting  /content/YOLO_Dataset_Main/val/labels/000571.txt             \b\b\b\b 99%\b\b\b\b\b  OK \n",
            "Extracting  /content/YOLO_Dataset_Main/val/labels/000573.txt             \b\b\b\b 99%\b\b\b\b\b  OK \n",
            "Extracting  /content/YOLO_Dataset_Main/val/labels/000578.txt             \b\b\b\b 99%\b\b\b\b\b  OK \n",
            "Extracting  /content/YOLO_Dataset_Main/val/labels/000580.txt             \b\b\b\b 99%\b\b\b\b\b  OK \n",
            "Extracting  /content/YOLO_Dataset_Main/val/labels/000584.txt             \b\b\b\b 99%\b\b\b\b\b  OK \n",
            "Extracting  /content/YOLO_Dataset_Main/val/labels/000586.txt             \b\b\b\b 99%\b\b\b\b\b  OK \n",
            "Extracting  /content/YOLO_Dataset_Main/val/labels/000588.txt             \b\b\b\b 99%\b\b\b\b\b  OK \n",
            "Extracting  /content/YOLO_Dataset_Main/val/labels/000589.txt             \b\b\b\b 99%\b\b\b\b\b  OK \n",
            "Extracting  /content/YOLO_Dataset_Main/val/labels/000596.txt             \b\b\b\b 99%\b\b\b\b\b  OK \n",
            "Extracting  /content/YOLO_Dataset_Main/val/labels/000597.txt             \b\b\b\b 99%\b\b\b\b\b  OK \n",
            "Extracting  /content/YOLO_Dataset_Main/val/labels/000603.txt             \b\b\b\b 99%\b\b\b\b\b  OK \n",
            "Extracting  /content/YOLO_Dataset_Main/val/labels/000607.txt             \b\b\b\b 99%\b\b\b\b\b  OK \n",
            "Extracting  /content/YOLO_Dataset_Main/val/labels/000616.txt             \b\b\b\b 99%\b\b\b\b\b  OK \n",
            "Extracting  /content/YOLO_Dataset_Main/val/labels/000619.txt             \b\b\b\b 99%\b\b\b\b\b  OK \n",
            "Extracting  /content/YOLO_Dataset_Main/val/labels/000632.txt             \b\b\b\b 99%\b\b\b\b\b  OK \n",
            "Extracting  /content/YOLO_Dataset_Main/val/labels/000633.txt             \b\b\b\b 99%\b\b\b\b\b  OK \n",
            "Extracting  /content/YOLO_Dataset_Main/val/labels/000640.txt             \b\b\b\b 99%\b\b\b\b\b  OK \n",
            "Extracting  /content/YOLO_Dataset_Main/val/labels/000651.txt             \b\b\b\b 99%\b\b\b\b\b  OK \n",
            "Extracting  /content/YOLO_Dataset_Main/val/labels/000658.txt             \b\b\b\b 99%\b\b\b\b\b  OK \n",
            "Extracting  /content/YOLO_Dataset_Main/val/labels/000659.txt             \b\b\b\b 99%\b\b\b\b\b  OK \n",
            "Extracting  /content/YOLO_Dataset_Main/val/labels/000660.txt             \b\b\b\b 99%\b\b\b\b\b  OK \n",
            "Extracting  /content/YOLO_Dataset_Main/val/labels/000663.txt             \b\b\b\b 99%\b\b\b\b\b  OK \n",
            "Extracting  /content/YOLO_Dataset_Main/val/labels/000665.txt             \b\b\b\b 99%\b\b\b\b\b  OK \n",
            "Extracting  /content/YOLO_Dataset_Main/val/labels/000667.txt             \b\b\b\b 99%\b\b\b\b\b  OK \n",
            "Extracting  /content/YOLO_Dataset_Main/val/labels/000678.txt             \b\b\b\b 99%\b\b\b\b\b  OK \n",
            "Extracting  /content/YOLO_Dataset_Main/val/labels/000682.txt             \b\b\b\b 99%\b\b\b\b\b  OK \n",
            "Extracting  /content/YOLO_Dataset_Main/val/labels/000683.txt             \b\b\b\b 99%\b\b\b\b\b  OK \n",
            "Extracting  /content/YOLO_Dataset_Main/val/labels/000687.txt             \b\b\b\b 99%\b\b\b\b\b  OK \n",
            "Extracting  /content/YOLO_Dataset_Main/val/labels/000706.txt             \b\b\b\b 99%\b\b\b\b\b  OK \n",
            "Extracting  /content/YOLO_Dataset_Main/val/labels/000711.txt             \b\b\b\b 99%\b\b\b\b\b  OK \n",
            "Extracting  /content/YOLO_Dataset_Main/val/labels/000712.txt             \b\b\b\b 99%\b\b\b\b\b  OK \n",
            "Extracting  /content/YOLO_Dataset_Main/val/labels/000718.txt             \b\b\b\b 99%\b\b\b\b\b  OK \n",
            "Extracting  /content/YOLO_Dataset_Main/val/labels/000721.txt             \b\b\b\b 99%\b\b\b\b\b  OK \n",
            "Extracting  /content/YOLO_Dataset_Main/val/labels/000724.txt             \b\b\b\b 99%\b\b\b\b\b  OK \n",
            "Extracting  /content/YOLO_Dataset_Main/val/labels/000729.txt             \b\b\b\b 99%\b\b\b\b\b  OK \n",
            "Extracting  /content/YOLO_Dataset_Main/val/labels/000744.txt             \b\b\b\b 99%\b\b\b\b\b  OK \n",
            "Extracting  /content/YOLO_Dataset_Main/val/labels/000757.txt             \b\b\b\b 99%\b\b\b\b\b  OK \n",
            "Extracting  /content/YOLO_Dataset_Main/val/labels/000758.txt             \b\b\b\b 99%\b\b\b\b\b  OK \n",
            "Extracting  /content/YOLO_Dataset_Main/val/labels/000768.txt             \b\b\b\b 99%\b\b\b\b\b  OK \n",
            "Extracting  /content/YOLO_Dataset_Main/val/labels/000770.txt             \b\b\b\b 99%\b\b\b\b\b  OK \n",
            "Extracting  /content/YOLO_Dataset_Main/val/labels/000785.txt             \b\b\b\b 99%\b\b\b\b\b  OK \n",
            "Extracting  /content/YOLO_Dataset_Main/val/labels/000795.txt             \b\b\b\b 99%\b\b\b\b\b  OK \n",
            "Extracting  /content/YOLO_Dataset_Main/val/labels/000799.txt             \b\b\b\b 99%\b\b\b\b\b  OK \n",
            "Extracting  /content/YOLO_Dataset_Main/val/labels/000800.txt             \b\b\b\b 99%\b\b\b\b\b  OK \n",
            "Extracting  /content/YOLO_Dataset_Main/val/labels/000808.txt             \b\b\b\b 99%\b\b\b\b\b  OK \n",
            "Extracting  /content/YOLO_Dataset_Main/val/labels/000809.txt             \b\b\b\b 99%\b\b\b\b\b  OK \n",
            "Extracting  /content/YOLO_Dataset_Main/val/labels/000817.txt             \b\b\b\b 99%\b\b\b\b\b  OK \n",
            "Extracting  /content/YOLO_Dataset_Main/val/labels/000819.txt             \b\b\b\b 99%\b\b\b\b\b  OK \n",
            "Extracting  /content/YOLO_Dataset_Main/val/labels/000821.txt             \b\b\b\b 99%\b\b\b\b\b  OK \n",
            "Extracting  /content/YOLO_Dataset_Main/val/labels/000826.txt             \b\b\b\b 99%\b\b\b\b\b  OK \n",
            "Extracting  /content/YOLO_Dataset_Main/val/labels/000835.txt             \b\b\b\b 99%\b\b\b\b\b  OK \n",
            "Extracting  /content/YOLO_Dataset_Main/val/labels/000839.txt             \b\b\b\b 99%\b\b\b\b\b  OK \n",
            "Extracting  /content/YOLO_Dataset_Main/val/labels/000842.txt             \b\b\b\b 99%\b\b\b\b\b  OK \n",
            "Extracting  /content/YOLO_Dataset_Main/val/labels/000846.txt             \b\b\b\b 99%\b\b\b\b\b  OK \n",
            "Extracting  /content/YOLO_Dataset_Main/val/labels/000847.txt             \b\b\b\b 99%\b\b\b\b\b  OK \n",
            "Extracting  /content/YOLO_Dataset_Main/val/labels/000852.txt             \b\b\b\b 99%\b\b\b\b\b  OK \n",
            "Extracting  /content/YOLO_Dataset_Main/val/labels/000858.txt             \b\b\b\b 99%\b\b\b\b\b  OK \n",
            "Extracting  /content/YOLO_Dataset_Main/val/labels/000859.txt             \b\b\b\b 99%\b\b\b\b\b  OK \n",
            "Extracting  /content/YOLO_Dataset_Main/val/labels/000863.txt             \b\b\b\b 99%\b\b\b\b\b  OK \n",
            "Extracting  /content/YOLO_Dataset_Main/val/labels/000899.txt             \b\b\b\b 99%\b\b\b\b\b  OK \n",
            "Extracting  /content/YOLO_Dataset_Main/val/labels/000901.txt             \b\b\b\b 99%\b\b\b\b\b  OK \n",
            "Extracting  /content/YOLO_Dataset_Main/val/labels/000908.txt             \b\b\b\b 99%\b\b\b\b\b  OK \n",
            "Extracting  /content/YOLO_Dataset_Main/val/labels/000912.txt             \b\b\b\b 99%\b\b\b\b\b  OK \n",
            "Extracting  /content/YOLO_Dataset_Main/val/labels/000916.txt             \b\b\b\b 99%\b\b\b\b\b  OK \n",
            "Extracting  /content/YOLO_Dataset_Main/val/labels/000926.txt             \b\b\b\b 99%\b\b\b\b\b  OK \n",
            "Extracting  /content/YOLO_Dataset_Main/val/labels/000933.txt             \b\b\b\b 99%\b\b\b\b\b  OK \n",
            "Extracting  /content/YOLO_Dataset_Main/val/labels/000939.txt             \b\b\b\b 99%\b\b\b\b\b  OK \n",
            "Extracting  /content/YOLO_Dataset_Main/val/labels/000944.txt             \b\b\b\b 99%\b\b\b\b\b  OK \n",
            "Extracting  /content/YOLO_Dataset_Main/val/labels/000946.txt             \b\b\b\b 99%\b\b\b\b\b  OK \n",
            "Extracting  /content/YOLO_Dataset_Main/val/labels/000952.txt             \b\b\b\b 99%\b\b\b\b\b  OK \n",
            "Extracting  /content/YOLO_Dataset_Main/val/labels/000956.txt             \b\b\b\b 99%\b\b\b\b\b  OK \n",
            "Extracting  /content/YOLO_Dataset_Main/val/labels/000958.txt             \b\b\b\b 99%\b\b\b\b\b  OK \n",
            "Extracting  /content/YOLO_Dataset_Main/val/labels/000964.txt             \b\b\b\b 99%\b\b\b\b\b  OK \n",
            "Extracting  /content/YOLO_Dataset_Main/val/labels/000977.txt             \b\b\b\b 99%\b\b\b\b\b  OK \n",
            "Extracting  /content/YOLO_Dataset_Main/val/labels/000982.txt             \b\b\b\b 99%\b\b\b\b\b  OK \n",
            "Extracting  /content/YOLO_Dataset_Main/val/labels/000985.txt             \b\b\b\b 99%\b\b\b\b\b  OK \n",
            "Extracting  /content/YOLO_Dataset_Main/val/labels/000986.txt             \b\b\b\b 99%\b\b\b\b\b  OK \n",
            "Extracting  /content/YOLO_Dataset_Main/val/labels/000987.txt             \b\b\b\b 99%\b\b\b\b\b  OK \n",
            "Extracting  /content/YOLO_Dataset_Main/val/labels/000992.txt             \b\b\b\b 99%\b\b\b\b\b  OK \n",
            "Extracting  /content/YOLO_Dataset_Main/val/labels/000993.txt             \b\b\b\b 99%\b\b\b\b\b  OK \n",
            "Extracting  /content/YOLO_Dataset_Main/val/labels/000998.txt             \b\b\b\b 99%\b\b\b\b\b  OK \n",
            "Extracting  /content/YOLO_Dataset_Main/val/labels/001009.txt             \b\b\b\b 99%\b\b\b\b\b  OK \n",
            "Extracting  /content/YOLO_Dataset_Main/val/labels/001015.txt             \b\b\b\b 99%\b\b\b\b\b  OK \n",
            "Extracting  /content/YOLO_Dataset_Main/val/labels/001018.txt             \b\b\b\b 99%\b\b\b\b\b  OK \n",
            "Extracting  /content/YOLO_Dataset_Main/val/labels/001023.txt             \b\b\b\b 99%\b\b\b\b\b  OK \n",
            "Extracting  /content/YOLO_Dataset_Main/val/labels/001024.txt             \b\b\b\b 99%\b\b\b\b\b  OK \n",
            "Extracting  /content/YOLO_Dataset_Main/val/labels/001027.txt             \b\b\b\b 99%\b\b\b\b\b  OK \n",
            "Extracting  /content/YOLO_Dataset_Main/val/labels/001032.txt             \b\b\b\b 99%\b\b\b\b\b  OK \n",
            "Extracting  /content/YOLO_Dataset_Main/val/labels/001033.txt             \b\b\b\b 99%\b\b\b\b\b  OK \n",
            "Extracting  /content/YOLO_Dataset_Main/val/labels/001034.txt             \b\b\b\b 99%\b\b\b\b\b  OK \n",
            "Extracting  /content/YOLO_Dataset_Main/val/labels/001052.txt             \b\b\b\b 99%\b\b\b\b\b  OK \n",
            "Extracting  /content/YOLO_Dataset_Main/val/labels/001055.txt             \b\b\b\b 99%\b\b\b\b\b  OK \n",
            "Extracting  /content/YOLO_Dataset_Main/val/labels/001067.txt             \b\b\b\b 99%\b\b\b\b\b  OK \n",
            "Extracting  /content/YOLO_Dataset_Main/val/labels/001071.txt             \b\b\b\b 99%\b\b\b\b\b  OK \n",
            "Extracting  /content/YOLO_Dataset_Main/val/labels/001074.txt             \b\b\b\b 99%\b\b\b\b\b  OK \n",
            "Extracting  /content/YOLO_Dataset_Main/val/labels/001076.txt             \b\b\b\b 99%\b\b\b\b\b  OK \n",
            "Extracting  /content/YOLO_Dataset_Main/val/labels/001088.txt             \b\b\b\b 99%\b\b\b\b\b  OK \n",
            "Extracting  /content/YOLO_Dataset_Main/val/labels/001097.txt             \b\b\b\b 99%\b\b\b\b\b  OK \n",
            "Extracting  /content/YOLO_Dataset_Main/val/labels/001102.txt             \b\b\b\b 99%\b\b\b\b\b  OK \n",
            "Extracting  /content/YOLO_Dataset_Main/val/labels/001107.txt             \b\b\b\b 99%\b\b\b\b\b  OK \n",
            "Extracting  /content/YOLO_Dataset_Main/val/labels/001110.txt             \b\b\b\b 99%\b\b\b\b\b  OK \n",
            "Extracting  /content/YOLO_Dataset_Main/val/labels/001111.txt             \b\b\b\b 99%\b\b\b\b\b  OK \n",
            "Extracting  /content/YOLO_Dataset_Main/val/labels/001116.txt             \b\b\b\b 99%\b\b\b\b\b  OK \n",
            "Extracting  /content/YOLO_Dataset_Main/val/labels/001122.txt             \b\b\b\b 99%\b\b\b\b\b  OK \n",
            "Extracting  /content/YOLO_Dataset_Main/val/labels/001134.txt             \b\b\b\b 99%\b\b\b\b\b  OK \n",
            "Extracting  /content/YOLO_Dataset_Main/val/labels/001140.txt             \b\b\b\b 99%\b\b\b\b\b  OK \n",
            "Extracting  /content/YOLO_Dataset_Main/val/labels/001143.txt             \b\b\b\b 99%\b\b\b\b\b  OK \n",
            "Extracting  /content/YOLO_Dataset_Main/val/labels/001154.txt             \b\b\b\b 99%\b\b\b\b\b  OK \n",
            "Extracting  /content/YOLO_Dataset_Main/val/labels/001157.txt             \b\b\b\b 99%\b\b\b\b\b  OK \n",
            "Extracting  /content/YOLO_Dataset_Main/val/labels/001158.txt             \b\b\b\b 99%\b\b\b\b\b  OK \n",
            "Extracting  /content/YOLO_Dataset_Main/val/labels/001163.txt             \b\b\b\b 99%\b\b\b\b\b  OK \n",
            "Extracting  /content/YOLO_Dataset_Main/val/labels/001174.txt             \b\b\b\b 99%\b\b\b\b\b  OK \n",
            "Extracting  /content/YOLO_Dataset_Main/val/labels/001175.txt             \b\b\b\b 99%\b\b\b\b\b  OK \n",
            "Extracting  /content/YOLO_Dataset_Main/val/labels/001183.txt             \b\b\b\b 99%\b\b\b\b\b  OK \n",
            "Extracting  /content/YOLO_Dataset_Main/val/labels/001190.txt             \b\b\b\b 99%\b\b\b\b\b  OK \n",
            "Extracting  /content/YOLO_Dataset_Main/val/labels/001194.txt             \b\b\b\b 99%\b\b\b\b\b  OK \n",
            "Extracting  /content/YOLO_Dataset_Main/val/labels/001195.txt             \b\b\b\b 99%\b\b\b\b\b  OK \n",
            "Extracting  /content/YOLO_Dataset_Main/val/labels/001199.txt             \b\b\b\b 99%\b\b\b\b\b  OK \n",
            "Extracting  /content/YOLO_Dataset_Main/val/labels/001202.txt             \b\b\b\b 99%\b\b\b\b\b  OK \n",
            "Extracting  /content/YOLO_Dataset_Main/val/labels/001204.txt             \b\b\b\b 99%\b\b\b\b\b  OK \n",
            "Extracting  /content/YOLO_Dataset_Main/val/labels/001209.txt             \b\b\b\b 99%\b\b\b\b\b  OK \n",
            "Extracting  /content/YOLO_Dataset_Main/val/labels/001213.txt             \b\b\b\b 99%\b\b\b\b\b  OK \n",
            "Extracting  /content/YOLO_Dataset_Main/val/labels/001215.txt             \b\b\b\b 99%\b\b\b\b\b  OK \n",
            "Extracting  /content/YOLO_Dataset_Main/val/labels/001225.txt             \b\b\b\b 99%\b\b\b\b\b  OK \n",
            "Extracting  /content/YOLO_Dataset_Main/val/labels/001238.txt             \b\b\b\b 99%\b\b\b\b\b  OK \n",
            "Extracting  /content/YOLO_Dataset_Main/val/labels/001240.txt             \b\b\b\b 99%\b\b\b\b\b  OK \n",
            "Extracting  /content/YOLO_Dataset_Main/val/labels/001245.txt             \b\b\b\b 99%\b\b\b\b\b  OK \n",
            "Extracting  /content/YOLO_Dataset_Main/val/labels/001247.txt             \b\b\b\b 99%\b\b\b\b\b  OK \n",
            "Extracting  /content/YOLO_Dataset_Main/val/labels/001252.txt             \b\b\b\b 99%\b\b\b\b\b  OK \n",
            "Extracting  /content/YOLO_Dataset_Main/val/labels/001258.txt             \b\b\b\b 99%\b\b\b\b\b  OK \n",
            "Extracting  /content/YOLO_Dataset_Main/val/labels/001263.txt             \b\b\b\b 99%\b\b\b\b\b  OK \n",
            "Extracting  /content/YOLO_Dataset_Main/val/labels/001267.txt             \b\b\b\b 99%\b\b\b\b\b  OK \n",
            "Extracting  /content/YOLO_Dataset_Main/val/labels/001276.txt             \b\b\b\b 99%\b\b\b\b\b  OK \n",
            "Extracting  /content/YOLO_Dataset_Main/val/labels/001280.txt             \b\b\b\b 99%\b\b\b\b\b  OK \n",
            "Extracting  /content/YOLO_Dataset_Main/val/labels/001290.txt             \b\b\b\b 99%\b\b\b\b\b  OK \n",
            "Extracting  /content/YOLO_Dataset_Main/val/labels/001293.txt             \b\b\b\b 99%\b\b\b\b\b  OK \n",
            "Extracting  /content/YOLO_Dataset_Main/val/labels/001298.txt             \b\b\b\b 99%\b\b\b\b\b  OK \n",
            "Extracting  /content/YOLO_Dataset_Main/val/labels/001305.txt             \b\b\b\b 99%\b\b\b\b\b  OK \n",
            "Extracting  /content/YOLO_Dataset_Main/val/labels/001307.txt             \b\b\b\b 99%\b\b\b\b\b  OK \n",
            "Extracting  /content/YOLO_Dataset_Main/val/labels/001309.txt             \b\b\b\b 99%\b\b\b\b\b  OK \n",
            "Extracting  /content/YOLO_Dataset_Main/val/labels/001322.txt             \b\b\b\b 99%\b\b\b\b\b  OK \n",
            "Extracting  /content/YOLO_Dataset_Main/val/labels/001325.txt             \b\b\b\b 99%\b\b\b\b\b  OK \n",
            "Extracting  /content/YOLO_Dataset_Main/val/labels/001329.txt             \b\b\b\b 99%\b\b\b\b\b  OK \n",
            "Extracting  /content/YOLO_Dataset_Main/val/labels/001332.txt             \b\b\b\b 99%\b\b\b\b\b  OK \n",
            "Extracting  /content/YOLO_Dataset_Main/val/labels/001335.txt             \b\b\b\b 99%\b\b\b\b\b  OK \n",
            "Extracting  /content/YOLO_Dataset_Main/val/labels/001339.txt             \b\b\b\b 99%\b\b\b\b\b  OK \n",
            "Extracting  /content/YOLO_Dataset_Main/val/labels/001341.txt             \b\b\b\b 99%\b\b\b\b\b  OK \n",
            "Extracting  /content/YOLO_Dataset_Main/val/labels/001347.txt             \b\b\b\b 99%\b\b\b\b\b  OK \n",
            "Extracting  /content/YOLO_Dataset_Main/val/labels/001350.txt             \b\b\b\b 99%\b\b\b\b\b  OK \n",
            "Extracting  /content/YOLO_Dataset_Main/val/labels/001366.txt             \b\b\b\b 99%\b\b\b\b\b  OK \n",
            "Extracting  /content/YOLO_Dataset_Main/val/labels/001371.txt             \b\b\b\b 99%\b\b\b\b\b  OK \n",
            "Extracting  /content/YOLO_Dataset_Main/val/labels/001372.txt             \b\b\b\b 99%\b\b\b\b\b  OK \n",
            "Extracting  /content/YOLO_Dataset_Main/val/labels/001373.txt             \b\b\b\b 99%\b\b\b\b\b  OK \n",
            "Extracting  /content/YOLO_Dataset_Main/val/labels/001375.txt             \b\b\b\b 99%\b\b\b\b\b  OK \n",
            "Extracting  /content/YOLO_Dataset_Main/val/labels/001377.txt             \b\b\b\b 99%\b\b\b\b\b  OK \n",
            "Extracting  /content/YOLO_Dataset_Main/val/labels/001386.txt             \b\b\b\b 99%\b\b\b\b\b  OK \n",
            "Extracting  /content/YOLO_Dataset_Main/val/labels/001387.txt             \b\b\b\b 99%\b\b\b\b\b  OK \n",
            "Extracting  /content/YOLO_Dataset_Main/val/labels/001392.txt             \b\b\b\b 99%\b\b\b\b\b  OK \n",
            "Extracting  /content/YOLO_Dataset_Main/val/labels/001393.txt             \b\b\b\b 99%\b\b\b\b\b  OK \n",
            "Extracting  /content/YOLO_Dataset_Main/val/labels/001398.txt             \b\b\b\b 99%\b\b\b\b\b  OK \n",
            "Extracting  /content/YOLO_Dataset_Main/val/labels/001402.txt             \b\b\b\b 99%\b\b\b\b\b  OK \n",
            "Extracting  /content/YOLO_Dataset_Main/val/labels/001410.txt             \b\b\b\b 99%\b\b\b\b\b  OK \n",
            "Extracting  /content/YOLO_Dataset_Main/val/labels/001419.txt             \b\b\b\b 99%\b\b\b\b\b  OK \n",
            "Extracting  /content/YOLO_Dataset_Main/val/labels/001420.txt             \b\b\b\b 99%\b\b\b\b\b  OK \n",
            "Extracting  /content/YOLO_Dataset_Main/val/labels/001433.txt             \b\b\b\b 99%\b\b\b\b\b  OK \n",
            "Extracting  /content/YOLO_Dataset_Main/val/labels/001434.txt             \b\b\b\b 99%\b\b\b\b\b  OK \n",
            "Extracting  /content/YOLO_Dataset_Main/val/labels/001437.txt             \b\b\b\b 99%\b\b\b\b\b  OK \n",
            "Extracting  /content/YOLO_Dataset_Main/val/labels/001440.txt             \b\b\b\b 99%\b\b\b\b\b  OK \n",
            "Extracting  /content/YOLO_Dataset_Main/val/labels/001442.txt             \b\b\b\b 99%\b\b\b\b\b  OK \n",
            "Extracting  /content/YOLO_Dataset_Main/val/labels/001444.txt             \b\b\b\b 99%\b\b\b\b\b  OK \n",
            "Extracting  /content/YOLO_Dataset_Main/val/labels/001447.txt             \b\b\b\b 99%\b\b\b\b\b  OK \n",
            "Extracting  /content/YOLO_Dataset_Main/val/labels/001448.txt             \b\b\b\b 99%\b\b\b\b\b  OK \n",
            "Extracting  /content/YOLO_Dataset_Main/val/labels/001456.txt             \b\b\b\b 99%\b\b\b\b\b  OK \n",
            "Extracting  /content/YOLO_Dataset_Main/val/labels/001467.txt             \b\b\b\b 99%\b\b\b\b\b  OK \n",
            "Extracting  /content/YOLO_Dataset_Main/val/labels/001468.txt             \b\b\b\b 99%\b\b\b\b\b  OK \n",
            "Extracting  /content/YOLO_Dataset_Main/val/labels/001480.txt             \b\b\b\b 99%\b\b\b\b\b  OK \n",
            "Extracting  /content/YOLO_Dataset_Main/val/labels/001482.txt             \b\b\b\b 99%\b\b\b\b\b  OK \n",
            "Extracting  /content/YOLO_Dataset_Main/val/labels/001485.txt             \b\b\b\b 99%\b\b\b\b\b  OK \n",
            "Extracting  /content/YOLO_Dataset_Main/val/labels/001486.txt             \b\b\b\b 99%\b\b\b\b\b  OK \n",
            "Extracting  /content/YOLO_Dataset_Main/val/labels/001498.txt             \b\b\b\b 99%\b\b\b\b\b  OK \n",
            "Extracting  /content/YOLO_Dataset_Main/val/labels/001499.txt             \b\b\b\b 99%\b\b\b\b\b  OK \n",
            "Extracting  /content/YOLO_Dataset_Main/val/labels/001501.txt             \b\b\b\b 99%\b\b\b\b\b  OK \n",
            "Extracting  /content/YOLO_Dataset_Main/val/labels/001503.txt             \b\b\b\b 99%\b\b\b\b\b  OK \n",
            "Extracting  /content/YOLO_Dataset_Main/val/labels/001509.txt             \b\b\b\b 99%\b\b\b\b\b  OK \n",
            "Extracting  /content/YOLO_Dataset_Main/val/labels/001512.txt             \b\b\b\b 99%\b\b\b\b\b  OK \n",
            "Extracting  /content/YOLO_Dataset_Main/val/labels/001514.txt             \b\b\b\b 99%\b\b\b\b\b  OK \n",
            "Extracting  /content/YOLO_Dataset_Main/val/labels/001516.txt             \b\b\b\b 99%\b\b\b\b\b  OK \n",
            "Extracting  /content/YOLO_Dataset_Main/val/labels/001518.txt             \b\b\b\b 99%\b\b\b\b\b  OK \n",
            "Extracting  /content/YOLO_Dataset_Main/val/labels/001526.txt             \b\b\b\b 99%\b\b\b\b\b  OK \n",
            "Extracting  /content/YOLO_Dataset_Main/val/labels/001528.txt             \b\b\b\b 99%\b\b\b\b\b  OK \n",
            "Extracting  /content/YOLO_Dataset_Main/val/labels/001539.txt             \b\b\b\b 99%\b\b\b\b\b  OK \n",
            "Extracting  /content/YOLO_Dataset_Main/val/labels/001544.txt             \b\b\b\b 99%\b\b\b\b\b  OK \n",
            "Extracting  /content/YOLO_Dataset_Main/val/labels/001546.txt             \b\b\b\b 99%\b\b\b\b\b  OK \n",
            "Extracting  /content/YOLO_Dataset_Main/val/labels/001578.txt             \b\b\b\b 99%\b\b\b\b\b  OK \n",
            "Extracting  /content/YOLO_Dataset_Main/val/labels/001579.txt             \b\b\b\b 99%\b\b\b\b\b  OK \n",
            "Extracting  /content/YOLO_Dataset_Main/val/labels/001589.txt             \b\b\b\b 99%\b\b\b\b\b  OK \n",
            "Extracting  /content/YOLO_Dataset_Main/val/labels/001591.txt             \b\b\b\b 99%\b\b\b\b\b  OK \n",
            "Extracting  /content/YOLO_Dataset_Main/val/labels/001592.txt             \b\b\b\b 99%\b\b\b\b\b  OK \n",
            "Extracting  /content/YOLO_Dataset_Main/val/labels/001608.txt             \b\b\b\b 99%\b\b\b\b\b  OK \n",
            "Extracting  /content/YOLO_Dataset_Main/val/labels/001616.txt             \b\b\b\b 99%\b\b\b\b\b  OK \n",
            "Extracting  /content/YOLO_Dataset_Main/val/labels/001621.txt             \b\b\b\b 99%\b\b\b\b\b  OK \n",
            "Extracting  /content/YOLO_Dataset_Main/val/labels/001628.txt             \b\b\b\b 99%\b\b\b\b\b  OK \n",
            "Extracting  /content/YOLO_Dataset_Main/val/labels/001631.txt             \b\b\b\b 99%\b\b\b\b\b  OK \n",
            "Extracting  /content/YOLO_Dataset_Main/val/labels/001632.txt             \b\b\b\b 99%\b\b\b\b\b  OK \n",
            "Extracting  /content/YOLO_Dataset_Main/val/labels/001634.txt             \b\b\b\b 99%\b\b\b\b\b  OK \n",
            "Extracting  /content/YOLO_Dataset_Main/val/labels/001635.txt             \b\b\b\b 99%\b\b\b\b\b  OK \n",
            "Extracting  /content/YOLO_Dataset_Main/val/labels/001646.txt             \b\b\b\b 99%\b\b\b\b\b  OK \n",
            "Extracting  /content/YOLO_Dataset_Main/val/labels/001656.txt             \b\b\b\b 99%\b\b\b\b\b  OK \n",
            "Extracting  /content/YOLO_Dataset_Main/val/labels/001663.txt             \b\b\b\b 99%\b\b\b\b\b  OK \n",
            "Extracting  /content/YOLO_Dataset_Main/val/labels/001670.txt             \b\b\b\b 99%\b\b\b\b\b  OK \n",
            "Extracting  /content/YOLO_Dataset_Main/val/labels/001674.txt             \b\b\b\b 99%\b\b\b\b\b  OK \n",
            "Extracting  /content/YOLO_Dataset_Main/val/labels/001675.txt             \b\b\b\b 99%\b\b\b\b\b  OK \n",
            "Extracting  /content/YOLO_Dataset_Main/val/labels/001680.txt             \b\b\b\b 99%\b\b\b\b\b  OK \n",
            "Extracting  /content/YOLO_Dataset_Main/val/labels/001685.txt             \b\b\b\b 99%\b\b\b\b\b  OK \n",
            "Extracting  /content/YOLO_Dataset_Main/val/labels/001686.txt             \b\b\b\b 99%\b\b\b\b\b  OK \n",
            "Extracting  /content/YOLO_Dataset_Main/val/labels/001695.txt             \b\b\b\b 99%\b\b\b\b\b  OK \n",
            "Extracting  /content/YOLO_Dataset_Main/val/labels/001697.txt             \b\b\b\b 99%\b\b\b\b\b  OK \n",
            "Extracting  /content/YOLO_Dataset_Main/val/labels/001700.txt             \b\b\b\b 99%\b\b\b\b\b  OK \n",
            "Extracting  /content/YOLO_Dataset_Main/val/labels/001702.txt             \b\b\b\b 99%\b\b\b\b\b  OK \n",
            "Extracting  /content/YOLO_Dataset_Main/val/labels/001705.txt             \b\b\b\b 99%\b\b\b\b\b  OK \n",
            "Extracting  /content/YOLO_Dataset_Main/val/labels/001710.txt             \b\b\b\b 99%\b\b\b\b\b  OK \n",
            "Extracting  /content/YOLO_Dataset_Main/val/labels/001712.txt             \b\b\b\b 99%\b\b\b\b\b  OK \n",
            "Extracting  /content/YOLO_Dataset_Main/val/labels/001715.txt             \b\b\b\b 99%\b\b\b\b\b  OK \n",
            "Extracting  /content/YOLO_Dataset_Main/val/labels/001716.txt             \b\b\b\b 99%\b\b\b\b\b  OK \n",
            "Extracting  /content/YOLO_Dataset_Main/val/labels/001717.txt             \b\b\b\b 99%\b\b\b\b\b  OK \n",
            "Extracting  /content/YOLO_Dataset_Main/val/labels/001719.txt             \b\b\b\b 99%\b\b\b\b\b  OK \n",
            "Extracting  /content/YOLO_Dataset_Main/val/labels/001721.txt             \b\b\b\b 99%\b\b\b\b\b  OK \n",
            "Extracting  /content/YOLO_Dataset_Main/val/labels/001725.txt             \b\b\b\b 99%\b\b\b\b\b  OK \n",
            "Extracting  /content/YOLO_Dataset_Main/val/labels/001728.txt             \b\b\b\b 99%\b\b\b\b\b  OK \n",
            "Extracting  /content/YOLO_Dataset_Main/val/labels/001733.txt             \b\b\b\b 99%\b\b\b\b\b  OK \n",
            "Extracting  /content/YOLO_Dataset_Main/val/labels/001739.txt             \b\b\b\b 99%\b\b\b\b\b  OK \n",
            "Extracting  /content/YOLO_Dataset_Main/val/labels/001741.txt             \b\b\b\b 99%\b\b\b\b\b  OK \n",
            "Extracting  /content/YOLO_Dataset_Main/val/labels/001751.txt             \b\b\b\b 99%\b\b\b\b\b  OK \n",
            "Extracting  /content/YOLO_Dataset_Main/val/labels/001756.txt             \b\b\b\b 99%\b\b\b\b\b  OK \n",
            "Extracting  /content/YOLO_Dataset_Main/val/labels/001758.txt             \b\b\b\b 99%\b\b\b\b\b  OK \n",
            "Extracting  /content/YOLO_Dataset_Main/val/labels/001762.txt             \b\b\b\b 99%\b\b\b\b\b  OK \n",
            "Extracting  /content/YOLO_Dataset_Main/val/labels/001777.txt             \b\b\b\b 99%\b\b\b\b\b  OK \n",
            "Extracting  /content/YOLO_Dataset_Main/val/labels/001780.txt             \b\b\b\b 99%\b\b\b\b\b  OK \n",
            "Extracting  /content/YOLO_Dataset_Main/val/labels/001783.txt             \b\b\b\b 99%\b\b\b\b\b  OK \n",
            "Extracting  /content/YOLO_Dataset_Main/val/labels/001787.txt             \b\b\b\b 99%\b\b\b\b\b  OK \n",
            "Extracting  /content/YOLO_Dataset_Main/val/labels/001789.txt             \b\b\b\b 99%\b\b\b\b\b  OK \n",
            "Extracting  /content/YOLO_Dataset_Main/val/labels/001790.txt             \b\b\b\b 99%\b\b\b\b\b  OK \n",
            "Extracting  /content/YOLO_Dataset_Main/val/labels/001791.txt             \b\b\b\b 99%\b\b\b\b\b  OK \n",
            "Extracting  /content/YOLO_Dataset_Main/val/labels/001794.txt             \b\b\b\b 99%\b\b\b\b\b  OK \n",
            "Extracting  /content/YOLO_Dataset_Main/val/labels/001798.txt             \b\b\b\b 99%\b\b\b\b\b  OK \n",
            "Extracting  /content/YOLO_Dataset_Main/val/labels/001799.txt             \b\b\b\b 99%\b\b\b\b\b  OK \n",
            "Extracting  /content/YOLO_Dataset_Main/val/labels/001804.txt             \b\b\b\b 99%\b\b\b\b\b  OK \n",
            "Extracting  /content/YOLO_Dataset_Main/val/labels/001812.txt             \b\b\b\b 99%\b\b\b\b\b  OK \n",
            "Extracting  /content/YOLO_Dataset_Main/val/labels/001816.txt             \b\b\b\b 99%\b\b\b\b\b  OK \n",
            "Extracting  /content/YOLO_Dataset_Main/val/labels/001817.txt             \b\b\b\b 99%\b\b\b\b\b  OK \n",
            "Extracting  /content/YOLO_Dataset_Main/val/labels/001828.txt             \b\b\b\b 99%\b\b\b\b\b  OK \n",
            "Extracting  /content/YOLO_Dataset_Main/val/labels/001834.txt             \b\b\b\b 99%\b\b\b\b\b  OK \n",
            "Extracting  /content/YOLO_Dataset_Main/val/labels/001836.txt             \b\b\b\b 99%\b\b\b\b\b  OK \n",
            "Extracting  /content/YOLO_Dataset_Main/val/labels/001840.txt             \b\b\b\b 99%\b\b\b\b\b  OK \n",
            "Extracting  /content/YOLO_Dataset_Main/val/labels/001841.txt             \b\b\b\b 99%\b\b\b\b\b  OK \n",
            "Extracting  /content/YOLO_Dataset_Main/val/labels/001842.txt             \b\b\b\b 99%\b\b\b\b\b  OK \n",
            "Extracting  /content/YOLO_Dataset_Main/val/labels/001848.txt             \b\b\b\b 99%\b\b\b\b\b  OK \n",
            "Extracting  /content/YOLO_Dataset_Main/val/labels/001850.txt             \b\b\b\b 99%\b\b\b\b\b  OK \n",
            "Extracting  /content/YOLO_Dataset_Main/val/labels/001855.txt             \b\b\b\b 99%\b\b\b\b\b  OK \n",
            "Extracting  /content/YOLO_Dataset_Main/val/labels/001864.txt             \b\b\b\b 99%\b\b\b\b\b  OK \n",
            "Extracting  /content/YOLO_Dataset_Main/val/labels/001870.txt             \b\b\b\b 99%\b\b\b\b\b  OK \n",
            "Extracting  /content/YOLO_Dataset_Main/val/labels/001881.txt             \b\b\b\b 99%\b\b\b\b\b  OK \n",
            "Extracting  /content/YOLO_Dataset_Main/val/labels/001883.txt             \b\b\b\b 99%\b\b\b\b\b  OK \n",
            "Extracting  /content/YOLO_Dataset_Main/val/labels/001892.txt             \b\b\b\b 99%\b\b\b\b\b  OK \n",
            "Extracting  /content/YOLO_Dataset_Main/val/labels/001911.txt             \b\b\b\b 99%\b\b\b\b\b  OK \n",
            "Extracting  /content/YOLO_Dataset_Main/val/labels/001912.txt             \b\b\b\b 99%\b\b\b\b\b  OK \n",
            "Extracting  /content/YOLO_Dataset_Main/val/labels/001913.txt             \b\b\b\b 99%\b\b\b\b\b  OK \n",
            "Extracting  /content/YOLO_Dataset_Main/val/labels/001914.txt             \b\b\b\b 99%\b\b\b\b\b  OK \n",
            "Extracting  /content/YOLO_Dataset_Main/val/labels/001917.txt             \b\b\b\b 99%\b\b\b\b\b  OK \n",
            "Extracting  /content/YOLO_Dataset_Main/val/labels/001918.txt             \b\b\b\b 99%\b\b\b\b\b  OK \n",
            "Extracting  /content/YOLO_Dataset_Main/val/labels/001919.txt             \b\b\b\b 99%\b\b\b\b\b  OK \n",
            "Extracting  /content/YOLO_Dataset_Main/val/labels/001926.txt             \b\b\b\b 99%\b\b\b\b\b  OK \n",
            "Extracting  /content/YOLO_Dataset_Main/val/labels/001927.txt             \b\b\b\b 99%\b\b\b\b\b  OK \n",
            "Extracting  /content/YOLO_Dataset_Main/val/labels/001933.txt             \b\b\b\b 99%\b\b\b\b\b  OK \n",
            "Extracting  /content/YOLO_Dataset_Main/val/labels/001934.txt             \b\b\b\b 99%\b\b\b\b\b  OK \n",
            "Extracting  /content/YOLO_Dataset_Main/val/labels/001938.txt             \b\b\b\b 99%\b\b\b\b\b  OK \n",
            "Extracting  /content/YOLO_Dataset_Main/val/labels/001944.txt             \b\b\b\b 99%\b\b\b\b\b  OK \n",
            "Extracting  /content/YOLO_Dataset_Main/val/labels/001945.txt             \b\b\b\b 99%\b\b\b\b\b  OK \n",
            "Extracting  /content/YOLO_Dataset_Main/val/labels/001946.txt             \b\b\b\b 99%\b\b\b\b\b  OK \n",
            "Extracting  /content/YOLO_Dataset_Main/val/labels/001951.txt             \b\b\b\b 99%\b\b\b\b\b  OK \n",
            "Extracting  /content/YOLO_Dataset_Main/val/labels/001953.txt             \b\b\b\b 99%\b\b\b\b\b  OK \n",
            "Extracting  /content/YOLO_Dataset_Main/val/labels/001956.txt             \b\b\b\b 99%\b\b\b\b\b  OK \n",
            "Extracting  /content/YOLO_Dataset_Main/val/labels/001957.txt             \b\b\b\b 99%\b\b\b\b\b  OK \n",
            "Extracting  /content/YOLO_Dataset_Main/val/labels/001969.txt             \b\b\b\b 99%\b\b\b\b\b  OK \n",
            "Extracting  /content/YOLO_Dataset_Main/val/labels/001975.txt             \b\b\b\b 99%\b\b\b\b\b  OK \n",
            "Extracting  /content/YOLO_Dataset_Main/val/labels/001986.txt             \b\b\b\b 99%\b\b\b\b\b  OK \n",
            "Extracting  /content/YOLO_Dataset_Main/val/labels/001994.txt             \b\b\b\b 99%\b\b\b\b\b  OK \n",
            "Extracting  /content/YOLO_Dataset_Main/val/labels/002007.txt             \b\b\b\b 99%\b\b\b\b\b  OK \n",
            "Extracting  /content/YOLO_Dataset_Main/val/labels/002012.txt             \b\b\b\b 99%\b\b\b\b\b  OK \n",
            "Extracting  /content/YOLO_Dataset_Main/val/labels/002014.txt             \b\b\b\b 99%\b\b\b\b\b  OK \n",
            "Extracting  /content/YOLO_Dataset_Main/val/labels/002021.txt             \b\b\b\b 99%\b\b\b\b\b  OK \n",
            "Extracting  /content/YOLO_Dataset_Main/val/labels/002025.txt             \b\b\b\b 99%\b\b\b\b\b  OK \n",
            "Extracting  /content/YOLO_Dataset_Main/val/labels/002035.txt             \b\b\b\b 99%\b\b\b\b\b  OK \n",
            "Extracting  /content/YOLO_Dataset_Main/val/labels/002041.txt             \b\b\b\b 99%\b\b\b\b\b  OK \n",
            "Extracting  /content/YOLO_Dataset_Main/val/labels/002044.txt             \b\b\b\b 99%\b\b\b\b\b  OK \n",
            "Extracting  /content/YOLO_Dataset_Main/val/labels/002046.txt             \b\b\b\b 99%\b\b\b\b\b  OK \n",
            "Extracting  /content/YOLO_Dataset_Main/val/labels/002055.txt             \b\b\b\b 99%\b\b\b\b\b  OK \n",
            "Extracting  /content/YOLO_Dataset_Main/val/labels/002056.txt             \b\b\b\b 99%\b\b\b\b\b  OK \n",
            "Extracting  /content/YOLO_Dataset_Main/val/labels/002064.txt             \b\b\b\b 99%\b\b\b\b\b  OK \n",
            "Extracting  /content/YOLO_Dataset_Main/val/labels/002067.txt             \b\b\b\b 99%\b\b\b\b\b  OK \n",
            "Extracting  /content/YOLO_Dataset_Main/val/labels/002068.txt             \b\b\b\b 99%\b\b\b\b\b  OK \n",
            "Extracting  /content/YOLO_Dataset_Main/val/labels/002075.txt             \b\b\b\b 99%\b\b\b\b\b  OK \n",
            "Extracting  /content/YOLO_Dataset_Main/val/labels/002076.txt             \b\b\b\b 99%\b\b\b\b\b  OK \n",
            "Extracting  /content/YOLO_Dataset_Main/val/labels/002078.txt             \b\b\b\b 99%\b\b\b\b\b  OK \n",
            "Extracting  /content/YOLO_Dataset_Main/val/labels/002079.txt             \b\b\b\b 99%\b\b\b\b\b  OK \n",
            "Extracting  /content/YOLO_Dataset_Main/val/labels/002090.txt             \b\b\b\b 99%\b\b\b\b\b  OK \n",
            "Extracting  /content/YOLO_Dataset_Main/val/labels/002092.txt             \b\b\b\b 99%\b\b\b\b\b  OK \n",
            "Extracting  /content/YOLO_Dataset_Main/val/labels/002093.txt             \b\b\b\b 99%\b\b\b\b\b  OK \n",
            "Extracting  /content/YOLO_Dataset_Main/val/labels/002094.txt             \b\b\b\b 99%\b\b\b\b\b  OK \n",
            "Extracting  /content/YOLO_Dataset_Main/val/labels/002097.txt             \b\b\b\b 99%\b\b\b\b\b  OK \n",
            "Extracting  /content/YOLO_Dataset_Main/val/labels/002099.txt             \b\b\b\b 99%\b\b\b\b\b  OK \n",
            "Extracting  /content/YOLO_Dataset_Main/val/labels/002101.txt             \b\b\b\b 99%\b\b\b\b\b  OK \n",
            "Extracting  /content/YOLO_Dataset_Main/val/labels/002104.txt             \b\b\b\b 99%\b\b\b\b\b  OK \n",
            "Extracting  /content/YOLO_Dataset_Main/val/labels/002106.txt             \b\b\b\b 99%\b\b\b\b\b  OK \n",
            "Extracting  /content/YOLO_Dataset_Main/val/labels/002111.txt             \b\b\b\b 99%\b\b\b\b\b  OK \n",
            "Extracting  /content/YOLO_Dataset_Main/val/labels/002115.txt             \b\b\b\b 99%\b\b\b\b\b  OK \n",
            "Extracting  /content/YOLO_Dataset_Main/val/labels/002118.txt             \b\b\b\b 99%\b\b\b\b\b  OK \n",
            "Extracting  /content/YOLO_Dataset_Main/val/labels/002119.txt             \b\b\b\b 99%\b\b\b\b\b  OK \n",
            "Extracting  /content/YOLO_Dataset_Main/val/labels/002138.txt             \b\b\b\b 99%\b\b\b\b\b  OK \n",
            "Extracting  /content/YOLO_Dataset_Main/val/labels/002139.txt             \b\b\b\b 99%\b\b\b\b\b  OK \n",
            "Extracting  /content/YOLO_Dataset_Main/val/labels/002142.txt             \b\b\b\b 99%\b\b\b\b\b  OK \n",
            "Extracting  /content/YOLO_Dataset_Main/val/labels/002146.txt             \b\b\b\b 99%\b\b\b\b\b  OK \n",
            "Extracting  /content/YOLO_Dataset_Main/val/labels/002152.txt             \b\b\b\b 99%\b\b\b\b\b  OK \n",
            "Extracting  /content/YOLO_Dataset_Main/val/labels/002155.txt             \b\b\b\b 99%\b\b\b\b\b  OK \n",
            "Extracting  /content/YOLO_Dataset_Main/val/labels/002163.txt             \b\b\b\b 99%\b\b\b\b\b  OK \n",
            "Extracting  /content/YOLO_Dataset_Main/val/labels/002171.txt             \b\b\b\b 99%\b\b\b\b\b  OK \n",
            "Extracting  /content/YOLO_Dataset_Main/val/labels/002185.txt             \b\b\b\b 99%\b\b\b\b\b  OK \n",
            "Extracting  /content/YOLO_Dataset_Main/val/labels/002192.txt             \b\b\b\b 99%\b\b\b\b\b  OK \n",
            "Extracting  /content/YOLO_Dataset_Main/val/labels/002199.txt             \b\b\b\b 99%\b\b\b\b\b  OK \n",
            "Extracting  /content/YOLO_Dataset_Main/val/labels/002200.txt             \b\b\b\b 99%\b\b\b\b\b  OK \n",
            "Extracting  /content/YOLO_Dataset_Main/val/labels/002202.txt             \b\b\b\b 99%\b\b\b\b\b  OK \n",
            "Extracting  /content/YOLO_Dataset_Main/val/labels/002205.txt             \b\b\b\b 99%\b\b\b\b\b  OK \n",
            "Extracting  /content/YOLO_Dataset_Main/val/labels/002210.txt             \b\b\b\b 99%\b\b\b\b\b  OK \n",
            "Extracting  /content/YOLO_Dataset_Main/val/labels/002211.txt             \b\b\b\b 99%\b\b\b\b\b  OK \n",
            "Extracting  /content/YOLO_Dataset_Main/val/labels/002212.txt             \b\b\b\b 99%\b\b\b\b\b  OK \n",
            "Extracting  /content/YOLO_Dataset_Main/val/labels/002218.txt             \b\b\b\b 99%\b\b\b\b\b  OK \n",
            "Extracting  /content/YOLO_Dataset_Main/val/labels/002219.txt             \b\b\b\b 99%\b\b\b\b\b  OK \n",
            "Extracting  /content/YOLO_Dataset_Main/val/labels/002221.txt             \b\b\b\b 99%\b\b\b\b\b  OK \n",
            "Extracting  /content/YOLO_Dataset_Main/val/labels/002223.txt             \b\b\b\b 99%\b\b\b\b\b  OK \n",
            "Extracting  /content/YOLO_Dataset_Main/val/labels/002230.txt             \b\b\b\b 99%\b\b\b\b\b  OK \n",
            "Extracting  /content/YOLO_Dataset_Main/val/labels/002234.txt             \b\b\b\b 99%\b\b\b\b\b  OK \n",
            "Extracting  /content/YOLO_Dataset_Main/val/labels/002253.txt             \b\b\b\b 99%\b\b\b\b\b  OK \n",
            "Extracting  /content/YOLO_Dataset_Main/val/labels/002259.txt             \b\b\b\b 99%\b\b\b\b\b  OK \n",
            "Extracting  /content/YOLO_Dataset_Main/val/labels/002260.txt             \b\b\b\b 99%\b\b\b\b\b  OK \n",
            "Extracting  /content/YOLO_Dataset_Main/val/labels/002262.txt             \b\b\b\b 99%\b\b\b\b\b  OK \n",
            "Extracting  /content/YOLO_Dataset_Main/val/labels/002273.txt             \b\b\b\b 99%\b\b\b\b\b  OK \n",
            "Extracting  /content/YOLO_Dataset_Main/val/labels/002275.txt             \b\b\b\b 99%\b\b\b\b\b  OK \n",
            "Extracting  /content/YOLO_Dataset_Main/val/labels/002281.txt             \b\b\b\b 99%\b\b\b\b\b  OK \n",
            "Extracting  /content/YOLO_Dataset_Main/val/labels/002282.txt             \b\b\b\b 99%\b\b\b\b\b  OK \n",
            "Extracting  /content/YOLO_Dataset_Main/val/labels/002285.txt             \b\b\b\b 99%\b\b\b\b\b  OK \n",
            "Extracting  /content/YOLO_Dataset_Main/val/labels/002286.txt             \b\b\b\b 99%\b\b\b\b\b  OK \n",
            "Extracting  /content/YOLO_Dataset_Main/val/labels/002288.txt             \b\b\b\b 99%\b\b\b\b\b  OK \n",
            "Extracting  /content/YOLO_Dataset_Main/val/labels/002294.txt             \b\b\b\b 99%\b\b\b\b\b  OK \n",
            "Extracting  /content/YOLO_Dataset_Main/val/labels/002298.txt             \b\b\b\b 99%\b\b\b\b\b  OK \n",
            "Extracting  /content/YOLO_Dataset_Main/val/labels/002302.txt             \b\b\b\b 99%\b\b\b\b\b  OK \n",
            "Extracting  /content/YOLO_Dataset_Main/val/labels/002309.txt             \b\b\b\b 99%\b\b\b\b\b  OK \n",
            "Extracting  /content/YOLO_Dataset_Main/val/labels/002320.txt             \b\b\b\b 99%\b\b\b\b\b  OK \n",
            "Extracting  /content/YOLO_Dataset_Main/val/labels/002323.txt             \b\b\b\b 99%\b\b\b\b\b  OK \n",
            "Extracting  /content/YOLO_Dataset_Main/val/labels/002331.txt             \b\b\b\b 99%\b\b\b\b\b  OK \n",
            "Extracting  /content/YOLO_Dataset_Main/val/labels/002332.txt             \b\b\b\b 99%\b\b\b\b\b  OK \n",
            "Extracting  /content/YOLO_Dataset_Main/val/labels/002333.txt             \b\b\b\b 99%\b\b\b\b\b  OK \n",
            "Extracting  /content/YOLO_Dataset_Main/val/labels/002347.txt             \b\b\b\b 99%\b\b\b\b\b  OK \n",
            "Extracting  /content/YOLO_Dataset_Main/val/labels/002354.txt             \b\b\b\b 99%\b\b\b\b\b  OK \n",
            "Extracting  /content/YOLO_Dataset_Main/val/labels/002356.txt             \b\b\b\b 99%\b\b\b\b\b  OK \n",
            "Extracting  /content/YOLO_Dataset_Main/val/labels/002361.txt             \b\b\b\b 99%\b\b\b\b\b  OK \n",
            "Extracting  /content/YOLO_Dataset_Main/val/labels/002362.txt             \b\b\b\b 99%\b\b\b\b\b  OK \n",
            "Extracting  /content/YOLO_Dataset_Main/val/labels/002367.txt             \b\b\b\b 99%\b\b\b\b\b  OK \n",
            "Extracting  /content/YOLO_Dataset_Main/val/labels/002370.txt             \b\b\b\b 99%\b\b\b\b\b  OK \n",
            "Extracting  /content/YOLO_Dataset_Main/val/labels/002371.txt             \b\b\b\b 99%\b\b\b\b\b  OK \n",
            "Extracting  /content/YOLO_Dataset_Main/val/labels/002372.txt             \b\b\b\b 99%\b\b\b\b\b  OK \n",
            "Extracting  /content/YOLO_Dataset_Main/val/labels/002373.txt             \b\b\b\b 99%\b\b\b\b\b  OK \n",
            "Extracting  /content/YOLO_Dataset_Main/val/labels/002380.txt             \b\b\b\b 99%\b\b\b\b\b  OK \n",
            "Extracting  /content/YOLO_Dataset_Main/val/labels/002381.txt             \b\b\b\b 99%\b\b\b\b\b  OK \n",
            "Extracting  /content/YOLO_Dataset_Main/val/labels/002387.txt             \b\b\b\b 99%\b\b\b\b\b  OK \n",
            "Extracting  /content/YOLO_Dataset_Main/val/labels/002388.txt             \b\b\b\b 99%\b\b\b\b\b  OK \n",
            "Extracting  /content/YOLO_Dataset_Main/val/labels/002389.txt             \b\b\b\b 99%\b\b\b\b\b  OK \n",
            "Extracting  /content/YOLO_Dataset_Main/val/labels/002391.txt             \b\b\b\b 99%\b\b\b\b\b  OK \n",
            "Extracting  /content/YOLO_Dataset_Main/val/labels/002396.txt             \b\b\b\b 99%\b\b\b\b\b  OK \n",
            "Extracting  /content/YOLO_Dataset_Main/val/labels/002402.txt             \b\b\b\b 99%\b\b\b\b\b  OK \n",
            "Extracting  /content/YOLO_Dataset_Main/val/labels/002417.txt             \b\b\b\b 99%\b\b\b\b\b  OK \n",
            "Extracting  /content/YOLO_Dataset_Main/val/labels/002422.txt             \b\b\b\b 99%\b\b\b\b\b  OK \n",
            "Extracting  /content/YOLO_Dataset_Main/val/labels/002425.txt             \b\b\b\b 99%\b\b\b\b\b  OK \n",
            "Extracting  /content/YOLO_Dataset_Main/val/labels/002431.txt             \b\b\b\b 99%\b\b\b\b\b  OK \n",
            "Extracting  /content/YOLO_Dataset_Main/val/labels/002434.txt             \b\b\b\b 99%\b\b\b\b\b  OK \n",
            "Extracting  /content/YOLO_Dataset_Main/val/labels/002447.txt             \b\b\b\b 99%\b\b\b\b\b  OK \n",
            "Extracting  /content/YOLO_Dataset_Main/val/labels/002449.txt             \b\b\b\b 99%\b\b\b\b\b  OK \n",
            "Extracting  /content/YOLO_Dataset_Main/val/labels/002451.txt             \b\b\b\b 99%\b\b\b\b\b  OK \n",
            "Extracting  /content/YOLO_Dataset_Main/val/labels/002458.txt             \b\b\b\b 99%\b\b\b\b\b  OK \n",
            "Extracting  /content/YOLO_Dataset_Main/val/labels/002465.txt             \b\b\b\b 99%\b\b\b\b\b  OK \n",
            "Extracting  /content/YOLO_Dataset_Main/val/labels/002471.txt             \b\b\b\b 99%\b\b\b\b\b  OK \n",
            "Extracting  /content/YOLO_Dataset_Main/val/labels/002477.txt             \b\b\b\b 99%\b\b\b\b\b  OK \n",
            "Extracting  /content/YOLO_Dataset_Main/val/labels/002479.txt             \b\b\b\b 99%\b\b\b\b\b  OK \n",
            "Extracting  /content/YOLO_Dataset_Main/val/labels/002482.txt             \b\b\b\b 99%\b\b\b\b\b  OK \n",
            "Extracting  /content/YOLO_Dataset_Main/val/labels/002483.txt             \b\b\b\b 99%\b\b\b\b\b  OK \n",
            "Extracting  /content/YOLO_Dataset_Main/val/labels/002490.txt             \b\b\b\b 99%\b\b\b\b\b  OK \n",
            "Extracting  /content/YOLO_Dataset_Main/val/labels/002496.txt             \b\b\b\b 99%\b\b\b\b\b  OK \n",
            "Extracting  /content/YOLO_Dataset_Main/val/labels/002511.txt             \b\b\b\b 99%\b\b\b\b\b  OK \n",
            "Extracting  /content/YOLO_Dataset_Main/val/labels/002518.txt             \b\b\b\b 99%\b\b\b\b\b  OK \n",
            "Extracting  /content/YOLO_Dataset_Main/val/labels/002521.txt             \b\b\b\b 99%\b\b\b\b\b  OK \n",
            "Extracting  /content/YOLO_Dataset_Main/val/labels/002526.txt             \b\b\b\b 99%\b\b\b\b\b  OK \n",
            "Extracting  /content/YOLO_Dataset_Main/val/labels/002546.txt             \b\b\b\b 99%\b\b\b\b\b  OK \n",
            "Extracting  /content/YOLO_Dataset_Main/val/labels/002547.txt             \b\b\b\b 99%\b\b\b\b\b  OK \n",
            "Extracting  /content/YOLO_Dataset_Main/val/labels/002550.txt             \b\b\b\b 99%\b\b\b\b\b  OK \n",
            "Extracting  /content/YOLO_Dataset_Main/val/labels/002552.txt             \b\b\b\b 99%\b\b\b\b\b  OK \n",
            "Extracting  /content/YOLO_Dataset_Main/val/labels/002557.txt             \b\b\b\b 99%\b\b\b\b\b  OK \n",
            "Extracting  /content/YOLO_Dataset_Main/val/labels/002560.txt             \b\b\b\b 99%\b\b\b\b\b  OK \n",
            "Extracting  /content/YOLO_Dataset_Main/val/labels/002562.txt             \b\b\b\b 99%\b\b\b\b\b  OK \n",
            "Extracting  /content/YOLO_Dataset_Main/val/labels/002565.txt             \b\b\b\b 99%\b\b\b\b\b  OK \n",
            "Extracting  /content/YOLO_Dataset_Main/val/labels/002574.txt             \b\b\b\b 99%\b\b\b\b\b  OK \n",
            "Extracting  /content/YOLO_Dataset_Main/val/labels/002578.txt             \b\b\b\b 99%\b\b\b\b\b  OK \n",
            "Extracting  /content/YOLO_Dataset_Main/val/labels/002583.txt             \b\b\b\b 99%\b\b\b\b\b  OK \n",
            "Extracting  /content/YOLO_Dataset_Main/val/labels/002586.txt             \b\b\b\b 99%\b\b\b\b\b  OK \n",
            "Extracting  /content/YOLO_Dataset_Main/val/labels/002587.txt             \b\b\b\b 99%\b\b\b\b\b  OK \n",
            "Extracting  /content/YOLO_Dataset_Main/val/labels/002591.txt             \b\b\b\b 99%\b\b\b\b\b  OK \n",
            "Extracting  /content/YOLO_Dataset_Main/val/labels/002598.txt             \b\b\b\b 99%\b\b\b\b\b  OK \n",
            "Extracting  /content/YOLO_Dataset_Main/val/labels/002601.txt             \b\b\b\b 99%\b\b\b\b\b  OK \n",
            "Extracting  /content/YOLO_Dataset_Main/val/labels/002605.txt             \b\b\b\b 99%\b\b\b\b\b  OK \n",
            "Extracting  /content/YOLO_Dataset_Main/val/labels/002608.txt             \b\b\b\b 99%\b\b\b\b\b  OK \n",
            "Extracting  /content/YOLO_Dataset_Main/val/labels/002610.txt             \b\b\b\b 99%\b\b\b\b\b  OK \n",
            "Extracting  /content/YOLO_Dataset_Main/val/labels/002611.txt             \b\b\b\b 99%\b\b\b\b\b  OK \n",
            "Extracting  /content/YOLO_Dataset_Main/val/labels/002625.txt             \b\b\b\b 99%\b\b\b\b\b  OK \n",
            "Extracting  /content/YOLO_Dataset_Main/val/labels/002627.txt             \b\b\b\b 99%\b\b\b\b\b  OK \n",
            "Extracting  /content/YOLO_Dataset_Main/val/labels/002633.txt             \b\b\b\b 99%\b\b\b\b\b  OK \n",
            "Extracting  /content/YOLO_Dataset_Main/val/labels/002638.txt             \b\b\b\b 99%\b\b\b\b\b  OK \n",
            "Extracting  /content/YOLO_Dataset_Main/val/labels/002659.txt             \b\b\b\b 99%\b\b\b\b\b  OK \n",
            "Extracting  /content/YOLO_Dataset_Main/val/labels/002661.txt             \b\b\b\b 99%\b\b\b\b\b  OK \n",
            "Extracting  /content/YOLO_Dataset_Main/val/labels/002664.txt             \b\b\b\b 99%\b\b\b\b\b  OK \n",
            "Extracting  /content/YOLO_Dataset_Main/val/labels/002665.txt             \b\b\b\b 99%\b\b\b\b\b  OK \n",
            "Extracting  /content/YOLO_Dataset_Main/val/labels/002667.txt             \b\b\b\b 99%\b\b\b\b\b  OK \n",
            "Extracting  /content/YOLO_Dataset_Main/val/labels/002675.txt             \b\b\b\b 99%\b\b\b\b\b  OK \n",
            "Extracting  /content/YOLO_Dataset_Main/val/labels/002681.txt             \b\b\b\b 99%\b\b\b\b\b  OK \n",
            "Extracting  /content/YOLO_Dataset_Main/val/labels/002698.txt             \b\b\b\b 99%\b\b\b\b\b  OK \n",
            "Extracting  /content/YOLO_Dataset_Main/val/labels/002701.txt             \b\b\b\b 99%\b\b\b\b\b  OK \n",
            "Extracting  /content/YOLO_Dataset_Main/val/labels/002704.txt             \b\b\b\b 99%\b\b\b\b\b  OK \n",
            "Extracting  /content/YOLO_Dataset_Main/val/labels/002705.txt             \b\b\b\b 99%\b\b\b\b\b  OK \n",
            "Extracting  /content/YOLO_Dataset_Main/val/labels/002708.txt             \b\b\b\b 99%\b\b\b\b\b  OK \n",
            "Extracting  /content/YOLO_Dataset_Main/val/labels/002710.txt             \b\b\b\b 99%\b\b\b\b\b  OK \n",
            "Extracting  /content/YOLO_Dataset_Main/val/labels/002712.txt             \b\b\b\b 99%\b\b\b\b\b  OK \n",
            "Extracting  /content/YOLO_Dataset_Main/val/labels/002714.txt             \b\b\b\b 99%\b\b\b\b\b  OK \n",
            "Extracting  /content/YOLO_Dataset_Main/val/labels/002716.txt             \b\b\b\b 99%\b\b\b\b\b  OK \n",
            "Extracting  /content/YOLO_Dataset_Main/val/labels/002720.txt             \b\b\b\b 99%\b\b\b\b\b  OK \n",
            "Extracting  /content/YOLO_Dataset_Main/val/labels/002727.txt             \b\b\b\b 99%\b\b\b\b\b  OK \n",
            "Extracting  /content/YOLO_Dataset_Main/val/labels/002728.txt             \b\b\b\b 99%\b\b\b\b\b  OK \n",
            "Extracting  /content/YOLO_Dataset_Main/val/labels/002738.txt             \b\b\b\b 99%\b\b\b\b\b  OK \n",
            "Extracting  /content/YOLO_Dataset_Main/val/labels/002739.txt             \b\b\b\b 99%\b\b\b\b\b  OK \n",
            "Extracting  /content/YOLO_Dataset_Main/val/labels/002742.txt             \b\b\b\b 99%\b\b\b\b\b  OK \n",
            "Extracting  /content/YOLO_Dataset_Main/val/labels/002747.txt             \b\b\b\b 99%\b\b\b\b\b  OK \n",
            "Extracting  /content/YOLO_Dataset_Main/val/labels/002760.txt             \b\b\b\b 99%\b\b\b\b\b  OK \n",
            "Extracting  /content/YOLO_Dataset_Main/val/labels/002761.txt             \b\b\b\b 99%\b\b\b\b\b  OK \n",
            "Extracting  /content/YOLO_Dataset_Main/val/labels/002777.txt             \b\b\b\b 99%\b\b\b\b\b  OK \n",
            "Extracting  /content/YOLO_Dataset_Main/val/labels/002782.txt             \b\b\b\b 99%\b\b\b\b\b  OK \n",
            "Extracting  /content/YOLO_Dataset_Main/val/labels/002784.txt             \b\b\b\b 99%\b\b\b\b\b  OK \n",
            "Extracting  /content/YOLO_Dataset_Main/val/labels/002787.txt             \b\b\b\b 99%\b\b\b\b\b  OK \n",
            "Extracting  /content/YOLO_Dataset_Main/val/labels/002790.txt             \b\b\b\b 99%\b\b\b\b\b  OK \n",
            "Extracting  /content/YOLO_Dataset_Main/val/labels/002793.txt             \b\b\b\b 99%\b\b\b\b\b  OK \n",
            "Extracting  /content/YOLO_Dataset_Main/val/labels/002796.txt             \b\b\b\b 99%\b\b\b\b\b  OK \n",
            "Extracting  /content/YOLO_Dataset_Main/val/labels/002801.txt             \b\b\b\b 99%\b\b\b\b\b  OK \n",
            "Extracting  /content/YOLO_Dataset_Main/val/labels/002802.txt             \b\b\b\b 99%\b\b\b\b\b  OK \n",
            "Extracting  /content/YOLO_Dataset_Main/val/labels/002811.txt             \b\b\b\b 99%\b\b\b\b\b  OK \n",
            "Extracting  /content/YOLO_Dataset_Main/val/labels/002815.txt             \b\b\b\b 99%\b\b\b\b\b  OK \n",
            "Extracting  /content/YOLO_Dataset_Main/val/labels/002817.txt             \b\b\b\b 99%\b\b\b\b\b  OK \n",
            "Extracting  /content/YOLO_Dataset_Main/val/labels/002818.txt             \b\b\b\b 99%\b\b\b\b\b  OK \n",
            "Extracting  /content/YOLO_Dataset_Main/val/labels/002819.txt             \b\b\b\b 99%\b\b\b\b\b  OK \n",
            "Extracting  /content/YOLO_Dataset_Main/val/labels/002824.txt             \b\b\b\b 99%\b\b\b\b\b  OK \n",
            "Extracting  /content/YOLO_Dataset_Main/val/labels/002831.txt             \b\b\b\b 99%\b\b\b\b\b  OK \n",
            "Extracting  /content/YOLO_Dataset_Main/val/labels/002841.txt             \b\b\b\b 99%\b\b\b\b\b  OK \n",
            "Extracting  /content/YOLO_Dataset_Main/val/labels/002849.txt             \b\b\b\b 99%\b\b\b\b\b  OK \n",
            "Extracting  /content/YOLO_Dataset_Main/val/labels/002850.txt             \b\b\b\b 99%\b\b\b\b\b  OK \n",
            "Extracting  /content/YOLO_Dataset_Main/val/labels/002853.txt             \b\b\b\b 99%\b\b\b\b\b  OK \n",
            "Extracting  /content/YOLO_Dataset_Main/val/labels/002856.txt             \b\b\b\b 99%\b\b\b\b\b  OK \n",
            "Extracting  /content/YOLO_Dataset_Main/val/labels/002858.txt             \b\b\b\b 99%\b\b\b\b\b  OK \n",
            "Extracting  /content/YOLO_Dataset_Main/val/labels/002866.txt             \b\b\b\b 99%\b\b\b\b\b  OK \n",
            "Extracting  /content/YOLO_Dataset_Main/val/labels/002874.txt             \b\b\b\b 99%\b\b\b\b\b  OK \n",
            "Extracting  /content/YOLO_Dataset_Main/val/labels/002879.txt             \b\b\b\b 99%\b\b\b\b\b  OK \n",
            "Extracting  /content/YOLO_Dataset_Main/val/labels/002880.txt             \b\b\b\b 99%\b\b\b\b\b  OK \n",
            "Extracting  /content/YOLO_Dataset_Main/val/labels/002886.txt             \b\b\b\b 99%\b\b\b\b\b  OK \n",
            "Extracting  /content/YOLO_Dataset_Main/val/labels/002891.txt             \b\b\b\b 99%\b\b\b\b\b  OK \n",
            "Extracting  /content/YOLO_Dataset_Main/val/labels/002894.txt             \b\b\b\b 99%\b\b\b\b\b  OK \n",
            "Extracting  /content/YOLO_Dataset_Main/val/labels/002904.txt             \b\b\b\b 99%\b\b\b\b\b  OK \n",
            "Extracting  /content/YOLO_Dataset_Main/val/labels/002910.txt             \b\b\b\b 99%\b\b\b\b\b  OK \n",
            "Extracting  /content/YOLO_Dataset_Main/val/labels/002917.txt             \b\b\b\b 99%\b\b\b\b\b  OK \n",
            "Extracting  /content/YOLO_Dataset_Main/val/labels/002926.txt             \b\b\b\b 99%\b\b\b\b\b  OK \n",
            "Extracting  /content/YOLO_Dataset_Main/val/labels/002929.txt             \b\b\b\b 99%\b\b\b\b\b  OK \n",
            "Extracting  /content/YOLO_Dataset_Main/val/labels/002934.txt             \b\b\b\b 99%\b\b\b\b\b  OK \n",
            "Extracting  /content/YOLO_Dataset_Main/val/labels/002941.txt             \b\b\b\b 99%\b\b\b\b\b  OK \n",
            "Extracting  /content/YOLO_Dataset_Main/val/labels/002943.txt             \b\b\b\b 99%\b\b\b\b\b  OK \n",
            "Extracting  /content/YOLO_Dataset_Main/val/labels/002945.txt             \b\b\b\b 99%\b\b\b\b\b  OK \n",
            "Extracting  /content/YOLO_Dataset_Main/val/labels/002952.txt             \b\b\b\b 99%\b\b\b\b\b  OK \n",
            "Extracting  /content/YOLO_Dataset_Main/val/labels/002960.txt             \b\b\b\b 99%\b\b\b\b\b  OK \n",
            "Extracting  /content/YOLO_Dataset_Main/val/labels/002964.txt             \b\b\b\b 99%\b\b\b\b\b  OK \n",
            "Extracting  /content/YOLO_Dataset_Main/val/labels/002970.txt             \b\b\b\b 99%\b\b\b\b\b  OK \n",
            "Extracting  /content/YOLO_Dataset_Main/val/labels/002976.txt             \b\b\b\b 99%\b\b\b\b\b  OK \n",
            "Extracting  /content/YOLO_Dataset_Main/val/labels/002987.txt             \b\b\b\b 99%\b\b\b\b\b  OK \n",
            "Extracting  /content/YOLO_Dataset_Main/val/labels/003008.txt             \b\b\b\b 99%\b\b\b\b\b  OK \n",
            "Extracting  /content/YOLO_Dataset_Main/val/labels/003012.txt             \b\b\b\b 99%\b\b\b\b\b  OK \n",
            "Extracting  /content/YOLO_Dataset_Main/val/labels/003023.txt             \b\b\b\b 99%\b\b\b\b\b  OK \n",
            "Extracting  /content/YOLO_Dataset_Main/val/labels/003025.txt             \b\b\b\b 99%\b\b\b\b\b  OK \n",
            "Extracting  /content/YOLO_Dataset_Main/val/labels/003029.txt             \b\b\b\b 99%\b\b\b\b\b  OK \n",
            "Extracting  /content/YOLO_Dataset_Main/val/labels/003045.txt             \b\b\b\b 99%\b\b\b\b\b  OK \n",
            "Extracting  /content/YOLO_Dataset_Main/val/labels/003058.txt             \b\b\b\b 99%\b\b\b\b\b  OK \n",
            "Extracting  /content/YOLO_Dataset_Main/val/labels/003061.txt             \b\b\b\b 99%\b\b\b\b\b  OK \n",
            "Extracting  /content/YOLO_Dataset_Main/val/labels/003073.txt             \b\b\b\b 99%\b\b\b\b\b  OK \n",
            "Extracting  /content/YOLO_Dataset_Main/val/labels/003077.txt             \b\b\b\b 99%\b\b\b\b\b  OK \n",
            "Extracting  /content/YOLO_Dataset_Main/val/labels/003081.txt             \b\b\b\b 99%\b\b\b\b\b  OK \n",
            "Extracting  /content/YOLO_Dataset_Main/val/labels/003083.txt             \b\b\b\b 99%\b\b\b\b\b  OK \n",
            "Extracting  /content/YOLO_Dataset_Main/val/labels/003090.txt             \b\b\b\b 99%\b\b\b\b\b  OK \n",
            "Extracting  /content/YOLO_Dataset_Main/val/labels/003094.txt             \b\b\b\b 99%\b\b\b\b\b  OK \n",
            "Extracting  /content/YOLO_Dataset_Main/val/labels/003098.txt             \b\b\b\b 99%\b\b\b\b\b  OK \n",
            "Extracting  /content/YOLO_Dataset_Main/val/labels/003111.txt             \b\b\b\b 99%\b\b\b\b\b  OK \n",
            "Extracting  /content/YOLO_Dataset_Main/val/labels/003114.txt             \b\b\b\b 99%\b\b\b\b\b  OK \n",
            "Extracting  /content/YOLO_Dataset_Main/val/labels/003119.txt             \b\b\b\b 99%\b\b\b\b\b  OK \n",
            "Extracting  /content/YOLO_Dataset_Main/val/labels/003138.txt             \b\b\b\b 99%\b\b\b\b\b  OK \n",
            "Extracting  /content/YOLO_Dataset_Main/val/labels/003141.txt             \b\b\b\b 99%\b\b\b\b\b  OK \n",
            "Extracting  /content/YOLO_Dataset_Main/val/labels/003143.txt             \b\b\b\b 99%\b\b\b\b\b  OK \n",
            "Extracting  /content/YOLO_Dataset_Main/val/labels/003144.txt             \b\b\b\b 99%\b\b\b\b\b  OK \n",
            "Extracting  /content/YOLO_Dataset_Main/val/labels/003147.txt             \b\b\b\b 99%\b\b\b\b\b  OK \n",
            "Extracting  /content/YOLO_Dataset_Main/val/labels/003148.txt             \b\b\b\b 99%\b\b\b\b\b  OK \n",
            "Extracting  /content/YOLO_Dataset_Main/val/labels/003152.txt             \b\b\b\b 99%\b\b\b\b\b  OK \n",
            "Extracting  /content/YOLO_Dataset_Main/val/labels/003156.txt             \b\b\b\b 99%\b\b\b\b\b  OK \n",
            "Extracting  /content/YOLO_Dataset_Main/val/labels/003159.txt             \b\b\b\b 99%\b\b\b\b\b  OK \n",
            "Extracting  /content/YOLO_Dataset_Main/val/labels/003166.txt             \b\b\b\b 99%\b\b\b\b\b  OK \n",
            "Extracting  /content/YOLO_Dataset_Main/val/labels/003167.txt             \b\b\b\b 99%\b\b\b\b\b  OK \n",
            "Extracting  /content/YOLO_Dataset_Main/val/labels/003170.txt             \b\b\b\b 99%\b\b\b\b\b  OK \n",
            "Extracting  /content/YOLO_Dataset_Main/val/labels/003176.txt             \b\b\b\b 99%\b\b\b\b\b  OK \n",
            "Extracting  /content/YOLO_Dataset_Main/val/labels/003177.txt             \b\b\b\b 99%\b\b\b\b\b  OK \n",
            "Extracting  /content/YOLO_Dataset_Main/val/labels/003186.txt             \b\b\b\b 99%\b\b\b\b\b  OK \n",
            "Extracting  /content/YOLO_Dataset_Main/val/labels/003193.txt             \b\b\b\b 99%\b\b\b\b\b  OK \n",
            "Extracting  /content/YOLO_Dataset_Main/val/labels/003194.txt             \b\b\b\b 99%\b\b\b\b\b  OK \n",
            "Extracting  /content/YOLO_Dataset_Main/val/labels/003196.txt             \b\b\b\b 99%\b\b\b\b\b  OK \n",
            "Extracting  /content/YOLO_Dataset_Main/val/labels/003198.txt             \b\b\b\b 99%\b\b\b\b\b  OK \n",
            "Extracting  /content/YOLO_Dataset_Main/val/labels/003202.txt             \b\b\b\b 99%\b\b\b\b\b  OK \n",
            "Extracting  /content/YOLO_Dataset_Main/val/labels/003209.txt             \b\b\b\b 99%\b\b\b\b\b  OK \n",
            "Extracting  /content/YOLO_Dataset_Main/val/labels/003221.txt             \b\b\b\b 99%\b\b\b\b\b  OK \n",
            "Extracting  /content/YOLO_Dataset_Main/val/labels/003234.txt             \b\b\b\b 99%\b\b\b\b\b  OK \n",
            "Extracting  /content/YOLO_Dataset_Main/val/labels/003236.txt             \b\b\b\b 99%\b\b\b\b\b  OK \n",
            "Extracting  /content/YOLO_Dataset_Main/val/labels/003254.txt             \b\b\b\b 99%\b\b\b\b\b  OK \n",
            "Extracting  /content/YOLO_Dataset_Main/val/labels/003256.txt             \b\b\b\b 99%\b\b\b\b\b  OK \n",
            "Extracting  /content/YOLO_Dataset_Main/val/labels/003260.txt             \b\b\b\b 99%\b\b\b\b\b  OK \n",
            "Extracting  /content/YOLO_Dataset_Main/val/labels/003263.txt             \b\b\b\b 99%\b\b\b\b\b  OK \n",
            "Extracting  /content/YOLO_Dataset_Main/val/labels/003266.txt             \b\b\b\b 99%\b\b\b\b\b  OK \n",
            "Extracting  /content/YOLO_Dataset_Main/val/labels/003274.txt             \b\b\b\b 99%\b\b\b\b\b  OK \n",
            "Extracting  /content/YOLO_Dataset_Main/val/labels/003277.txt             \b\b\b\b 99%\b\b\b\b\b  OK \n",
            "Extracting  /content/YOLO_Dataset_Main/val/labels/003283.txt             \b\b\b\b 99%\b\b\b\b\b  OK \n",
            "Extracting  /content/YOLO_Dataset_Main/val/labels/003287.txt             \b\b\b\b 99%\b\b\b\b\b  OK \n",
            "Extracting  /content/YOLO_Dataset_Main/val/labels/003289.txt             \b\b\b\b 99%\b\b\b\b\b  OK \n",
            "Extracting  /content/YOLO_Dataset_Main/val/labels/003295.txt             \b\b\b\b 99%\b\b\b\b\b  OK \n",
            "Extracting  /content/YOLO_Dataset_Main/val/labels/003296.txt             \b\b\b\b 99%\b\b\b\b\b  OK \n",
            "Extracting  /content/YOLO_Dataset_Main/val/labels/003297.txt             \b\b\b\b 99%\b\b\b\b\b  OK \n",
            "Extracting  /content/YOLO_Dataset_Main/val/labels/003300.txt             \b\b\b\b 99%\b\b\b\b\b  OK \n",
            "Extracting  /content/YOLO_Dataset_Main/val/labels/003304.txt             \b\b\b\b 99%\b\b\b\b\b  OK \n",
            "Extracting  /content/YOLO_Dataset_Main/val/labels/003315.txt             \b\b\b\b 99%\b\b\b\b\b  OK \n",
            "Extracting  /content/YOLO_Dataset_Main/val/labels/003317.txt             \b\b\b\b 99%\b\b\b\b\b  OK \n",
            "Extracting  /content/YOLO_Dataset_Main/val/labels/003318.txt             \b\b\b\b 99%\b\b\b\b\b  OK \n",
            "Extracting  /content/YOLO_Dataset_Main/val/labels/003321.txt             \b\b\b\b 99%\b\b\b\b\b  OK \n",
            "Extracting  /content/YOLO_Dataset_Main/val/labels/003328.txt             \b\b\b\b 99%\b\b\b\b\b  OK \n",
            "Extracting  /content/YOLO_Dataset_Main/val/labels/003335.txt             \b\b\b\b 99%\b\b\b\b\b  OK \n",
            "Extracting  /content/YOLO_Dataset_Main/val/labels/003349.txt             \b\b\b\b 99%\b\b\b\b\b  OK \n",
            "Extracting  /content/YOLO_Dataset_Main/val/labels/003359.txt             \b\b\b\b 99%\b\b\b\b\b  OK \n",
            "Extracting  /content/YOLO_Dataset_Main/val/labels/003360.txt             \b\b\b\b 99%\b\b\b\b\b  OK \n",
            "Extracting  /content/YOLO_Dataset_Main/val/labels/003363.txt             \b\b\b\b 99%\b\b\b\b\b  OK \n",
            "Extracting  /content/YOLO_Dataset_Main/val/labels/003369.txt             \b\b\b\b 99%\b\b\b\b\b  OK \n",
            "Extracting  /content/YOLO_Dataset_Main/val/labels/003371.txt             \b\b\b\b 99%\b\b\b\b\b  OK \n",
            "Extracting  /content/YOLO_Dataset_Main/val/labels/003379.txt             \b\b\b\b 99%\b\b\b\b\b  OK \n",
            "Extracting  /content/YOLO_Dataset_Main/val/labels/003380.txt             \b\b\b\b 99%\b\b\b\b\b  OK \n",
            "Extracting  /content/YOLO_Dataset_Main/val/labels/003389.txt             \b\b\b\b 99%\b\b\b\b\b  OK \n",
            "Extracting  /content/YOLO_Dataset_Main/val/labels/003391.txt             \b\b\b\b 99%\b\b\b\b\b  OK \n",
            "Extracting  /content/YOLO_Dataset_Main/val/labels/003396.txt             \b\b\b\b 99%\b\b\b\b\b  OK \n",
            "Extracting  /content/YOLO_Dataset_Main/val/labels/003398.txt             \b\b\b\b 99%\b\b\b\b\b  OK \n",
            "Extracting  /content/YOLO_Dataset_Main/val/labels/003417.txt             \b\b\b\b 99%\b\b\b\b\b  OK \n",
            "Extracting  /content/YOLO_Dataset_Main/val/labels/003419.txt             \b\b\b\b 99%\b\b\b\b\b  OK \n",
            "Extracting  /content/YOLO_Dataset_Main/val/labels/003433.txt             \b\b\b\b 99%\b\b\b\b\b  OK \n",
            "Extracting  /content/YOLO_Dataset_Main/val/labels/003434.txt             \b\b\b\b 99%\b\b\b\b\b  OK \n",
            "Extracting  /content/YOLO_Dataset_Main/val/labels/003442.txt             \b\b\b\b 99%\b\b\b\b\b  OK \n",
            "Extracting  /content/YOLO_Dataset_Main/val/labels/003444.txt             \b\b\b\b 99%\b\b\b\b\b  OK \n",
            "Extracting  /content/YOLO_Dataset_Main/val/labels/003445.txt             \b\b\b\b 99%\b\b\b\b\b  OK \n",
            "Extracting  /content/YOLO_Dataset_Main/val/labels/003447.txt             \b\b\b\b 99%\b\b\b\b\b  OK \n",
            "Extracting  /content/YOLO_Dataset_Main/val/labels/003456.txt             \b\b\b\b 99%\b\b\b\b\b  OK \n",
            "Extracting  /content/YOLO_Dataset_Main/val/labels/003472.txt             \b\b\b\b 99%\b\b\b\b\b  OK \n",
            "Extracting  /content/YOLO_Dataset_Main/val/labels/003473.txt             \b\b\b\b 99%\b\b\b\b\b  OK \n",
            "Extracting  /content/YOLO_Dataset_Main/val/labels/003478.txt             \b\b\b\b 99%\b\b\b\b\b  OK \n",
            "Extracting  /content/YOLO_Dataset_Main/val/labels/003480.txt             \b\b\b\b 99%\b\b\b\b\b  OK \n",
            "Extracting  /content/YOLO_Dataset_Main/val/labels/003483.txt             \b\b\b\b 99%\b\b\b\b\b  OK \n",
            "Extracting  /content/YOLO_Dataset_Main/val/labels/003487.txt             \b\b\b\b 99%\b\b\b\b\b  OK \n",
            "Extracting  /content/YOLO_Dataset_Main/val/labels/003499.txt             \b\b\b\b 99%\b\b\b\b\b  OK \n",
            "Extracting  /content/YOLO_Dataset_Main/val/labels/003501.txt             \b\b\b\b 99%\b\b\b\b\b  OK \n",
            "Extracting  /content/YOLO_Dataset_Main/val/labels/003519.txt             \b\b\b\b 99%\b\b\b\b\b  OK \n",
            "Extracting  /content/YOLO_Dataset_Main/val/labels/003522.txt             \b\b\b\b 99%\b\b\b\b\b  OK \n",
            "Extracting  /content/YOLO_Dataset_Main/val/labels/003523.txt             \b\b\b\b 99%\b\b\b\b\b  OK \n",
            "Extracting  /content/YOLO_Dataset_Main/val/labels/003531.txt             \b\b\b\b 99%\b\b\b\b\b  OK \n",
            "Extracting  /content/YOLO_Dataset_Main/val/labels/003533.txt             \b\b\b\b 99%\b\b\b\b\b  OK \n",
            "Extracting  /content/YOLO_Dataset_Main/val/labels/003534.txt             \b\b\b\b 99%\b\b\b\b\b  OK \n",
            "Extracting  /content/YOLO_Dataset_Main/val/labels/003535.txt             \b\b\b\b 99%\b\b\b\b\b  OK \n",
            "Extracting  /content/YOLO_Dataset_Main/val/labels/003540.txt             \b\b\b\b 99%\b\b\b\b\b  OK \n",
            "Extracting  /content/YOLO_Dataset_Main/val/labels/003548.txt             \b\b\b\b 99%\b\b\b\b\b  OK \n",
            "Extracting  /content/YOLO_Dataset_Main/val/labels/003555.txt             \b\b\b\b 99%\b\b\b\b\b  OK \n",
            "Extracting  /content/YOLO_Dataset_Main/val/labels/003571.txt             \b\b\b\b 99%\b\b\b\b\b  OK \n",
            "Extracting  /content/YOLO_Dataset_Main/val/labels/003573.txt             \b\b\b\b 99%\b\b\b\b\b  OK \n",
            "Extracting  /content/YOLO_Dataset_Main/val/labels/003574.txt             \b\b\b\b 99%\b\b\b\b\b  OK \n",
            "Extracting  /content/YOLO_Dataset_Main/val/labels/003576.txt             \b\b\b\b 99%\b\b\b\b\b  OK \n",
            "Extracting  /content/YOLO_Dataset_Main/val/labels/003582.txt             \b\b\b\b 99%\b\b\b\b\b  OK \n",
            "Extracting  /content/YOLO_Dataset_Main/val/labels/003587.txt             \b\b\b\b 99%\b\b\b\b\b  OK \n",
            "Extracting  /content/YOLO_Dataset_Main/val/labels/003588.txt             \b\b\b\b 99%\b\b\b\b\b  OK \n",
            "Extracting  /content/YOLO_Dataset_Main/val/labels/003589.txt             \b\b\b\b 99%\b\b\b\b\b  OK \n",
            "Extracting  /content/YOLO_Dataset_Main/val/labels/003590.txt             \b\b\b\b 99%\b\b\b\b\b  OK \n",
            "Extracting  /content/YOLO_Dataset_Main/val/labels/003591.txt             \b\b\b\b 99%\b\b\b\b\b  OK \n",
            "Extracting  /content/YOLO_Dataset_Main/val/labels/003594.txt             \b\b\b\b 99%\b\b\b\b\b  OK \n",
            "Extracting  /content/YOLO_Dataset_Main/val/labels/003604.txt             \b\b\b\b 99%\b\b\b\b\b  OK \n",
            "Extracting  /content/YOLO_Dataset_Main/val/labels/003606.txt             \b\b\b\b 99%\b\b\b\b\b  OK \n",
            "Extracting  /content/YOLO_Dataset_Main/val/labels/003616.txt             \b\b\b\b 99%\b\b\b\b\b  OK \n",
            "Extracting  /content/YOLO_Dataset_Main/val/labels/003630.txt             \b\b\b\b 99%\b\b\b\b\b  OK \n",
            "Extracting  /content/YOLO_Dataset_Main/val/labels/003637.txt             \b\b\b\b 99%\b\b\b\b\b  OK \n",
            "Extracting  /content/YOLO_Dataset_Main/val/labels/003649.txt             \b\b\b\b 99%\b\b\b\b\b  OK \n",
            "Extracting  /content/YOLO_Dataset_Main/val/labels/003654.txt             \b\b\b\b 99%\b\b\b\b\b  OK \n",
            "Extracting  /content/YOLO_Dataset_Main/val/labels/003655.txt             \b\b\b\b 99%\b\b\b\b\b  OK \n",
            "Extracting  /content/YOLO_Dataset_Main/val/labels/003658.txt             \b\b\b\b 99%\b\b\b\b\b  OK \n",
            "Extracting  /content/YOLO_Dataset_Main/val/labels/003660.txt             \b\b\b\b 99%\b\b\b\b\b  OK \n",
            "Extracting  /content/YOLO_Dataset_Main/val/labels/003671.txt             \b\b\b\b 99%\b\b\b\b\b  OK \n",
            "Extracting  /content/YOLO_Dataset_Main/val/labels/003673.txt             \b\b\b\b 99%\b\b\b\b\b  OK \n",
            "Extracting  /content/YOLO_Dataset_Main/val/labels/003674.txt             \b\b\b\b 99%\b\b\b\b\b  OK \n",
            "Extracting  /content/YOLO_Dataset_Main/val/labels/003675.txt             \b\b\b\b 99%\b\b\b\b\b  OK \n",
            "Extracting  /content/YOLO_Dataset_Main/val/labels/003682.txt             \b\b\b\b 99%\b\b\b\b\b  OK \n",
            "Extracting  /content/YOLO_Dataset_Main/val/labels/003686.txt             \b\b\b\b 99%\b\b\b\b\b  OK \n",
            "All OK\n"
          ]
        }
      ]
    },
    {
      "cell_type": "code",
      "source": [
        "!pip install ultralytics --upgrade"
      ],
      "metadata": {
        "colab": {
          "base_uri": "https://localhost:8080/"
        },
        "id": "Ut2t_l8mbtsi",
        "outputId": "8314d9d5-79c3-4d2e-8b79-bb990fa2c882"
      },
      "execution_count": 4,
      "outputs": [
        {
          "output_type": "stream",
          "name": "stdout",
          "text": [
            "Collecting ultralytics\n",
            "  Downloading ultralytics-8.3.152-py3-none-any.whl.metadata (37 kB)\n",
            "Requirement already satisfied: numpy>=1.23.0 in /usr/local/lib/python3.11/dist-packages (from ultralytics) (2.0.2)\n",
            "Requirement already satisfied: matplotlib>=3.3.0 in /usr/local/lib/python3.11/dist-packages (from ultralytics) (3.10.0)\n",
            "Requirement already satisfied: opencv-python>=4.6.0 in /usr/local/lib/python3.11/dist-packages (from ultralytics) (4.11.0.86)\n",
            "Requirement already satisfied: pillow>=7.1.2 in /usr/local/lib/python3.11/dist-packages (from ultralytics) (11.2.1)\n",
            "Requirement already satisfied: pyyaml>=5.3.1 in /usr/local/lib/python3.11/dist-packages (from ultralytics) (6.0.2)\n",
            "Requirement already satisfied: requests>=2.23.0 in /usr/local/lib/python3.11/dist-packages (from ultralytics) (2.32.3)\n",
            "Requirement already satisfied: scipy>=1.4.1 in /usr/local/lib/python3.11/dist-packages (from ultralytics) (1.15.3)\n",
            "Requirement already satisfied: torch>=1.8.0 in /usr/local/lib/python3.11/dist-packages (from ultralytics) (2.6.0+cu124)\n",
            "Requirement already satisfied: torchvision>=0.9.0 in /usr/local/lib/python3.11/dist-packages (from ultralytics) (0.21.0+cu124)\n",
            "Requirement already satisfied: tqdm>=4.64.0 in /usr/local/lib/python3.11/dist-packages (from ultralytics) (4.67.1)\n",
            "Requirement already satisfied: psutil in /usr/local/lib/python3.11/dist-packages (from ultralytics) (5.9.5)\n",
            "Requirement already satisfied: py-cpuinfo in /usr/local/lib/python3.11/dist-packages (from ultralytics) (9.0.0)\n",
            "Requirement already satisfied: pandas>=1.1.4 in /usr/local/lib/python3.11/dist-packages (from ultralytics) (2.2.2)\n",
            "Collecting ultralytics-thop>=2.0.0 (from ultralytics)\n",
            "  Downloading ultralytics_thop-2.0.14-py3-none-any.whl.metadata (9.4 kB)\n",
            "Requirement already satisfied: contourpy>=1.0.1 in /usr/local/lib/python3.11/dist-packages (from matplotlib>=3.3.0->ultralytics) (1.3.2)\n",
            "Requirement already satisfied: cycler>=0.10 in /usr/local/lib/python3.11/dist-packages (from matplotlib>=3.3.0->ultralytics) (0.12.1)\n",
            "Requirement already satisfied: fonttools>=4.22.0 in /usr/local/lib/python3.11/dist-packages (from matplotlib>=3.3.0->ultralytics) (4.58.1)\n",
            "Requirement already satisfied: kiwisolver>=1.3.1 in /usr/local/lib/python3.11/dist-packages (from matplotlib>=3.3.0->ultralytics) (1.4.8)\n",
            "Requirement already satisfied: packaging>=20.0 in /usr/local/lib/python3.11/dist-packages (from matplotlib>=3.3.0->ultralytics) (24.2)\n",
            "Requirement already satisfied: pyparsing>=2.3.1 in /usr/local/lib/python3.11/dist-packages (from matplotlib>=3.3.0->ultralytics) (3.2.3)\n",
            "Requirement already satisfied: python-dateutil>=2.7 in /usr/local/lib/python3.11/dist-packages (from matplotlib>=3.3.0->ultralytics) (2.9.0.post0)\n",
            "Requirement already satisfied: pytz>=2020.1 in /usr/local/lib/python3.11/dist-packages (from pandas>=1.1.4->ultralytics) (2025.2)\n",
            "Requirement already satisfied: tzdata>=2022.7 in /usr/local/lib/python3.11/dist-packages (from pandas>=1.1.4->ultralytics) (2025.2)\n",
            "Requirement already satisfied: charset-normalizer<4,>=2 in /usr/local/lib/python3.11/dist-packages (from requests>=2.23.0->ultralytics) (3.4.2)\n",
            "Requirement already satisfied: idna<4,>=2.5 in /usr/local/lib/python3.11/dist-packages (from requests>=2.23.0->ultralytics) (3.10)\n",
            "Requirement already satisfied: urllib3<3,>=1.21.1 in /usr/local/lib/python3.11/dist-packages (from requests>=2.23.0->ultralytics) (2.4.0)\n",
            "Requirement already satisfied: certifi>=2017.4.17 in /usr/local/lib/python3.11/dist-packages (from requests>=2.23.0->ultralytics) (2025.4.26)\n",
            "Requirement already satisfied: filelock in /usr/local/lib/python3.11/dist-packages (from torch>=1.8.0->ultralytics) (3.18.0)\n",
            "Requirement already satisfied: typing-extensions>=4.10.0 in /usr/local/lib/python3.11/dist-packages (from torch>=1.8.0->ultralytics) (4.14.0)\n",
            "Requirement already satisfied: networkx in /usr/local/lib/python3.11/dist-packages (from torch>=1.8.0->ultralytics) (3.5)\n",
            "Requirement already satisfied: jinja2 in /usr/local/lib/python3.11/dist-packages (from torch>=1.8.0->ultralytics) (3.1.6)\n",
            "Requirement already satisfied: fsspec in /usr/local/lib/python3.11/dist-packages (from torch>=1.8.0->ultralytics) (2025.3.2)\n",
            "Collecting nvidia-cuda-nvrtc-cu12==12.4.127 (from torch>=1.8.0->ultralytics)\n",
            "  Downloading nvidia_cuda_nvrtc_cu12-12.4.127-py3-none-manylinux2014_x86_64.whl.metadata (1.5 kB)\n",
            "Collecting nvidia-cuda-runtime-cu12==12.4.127 (from torch>=1.8.0->ultralytics)\n",
            "  Downloading nvidia_cuda_runtime_cu12-12.4.127-py3-none-manylinux2014_x86_64.whl.metadata (1.5 kB)\n",
            "Collecting nvidia-cuda-cupti-cu12==12.4.127 (from torch>=1.8.0->ultralytics)\n",
            "  Downloading nvidia_cuda_cupti_cu12-12.4.127-py3-none-manylinux2014_x86_64.whl.metadata (1.6 kB)\n",
            "Collecting nvidia-cudnn-cu12==9.1.0.70 (from torch>=1.8.0->ultralytics)\n",
            "  Downloading nvidia_cudnn_cu12-9.1.0.70-py3-none-manylinux2014_x86_64.whl.metadata (1.6 kB)\n",
            "Collecting nvidia-cublas-cu12==12.4.5.8 (from torch>=1.8.0->ultralytics)\n",
            "  Downloading nvidia_cublas_cu12-12.4.5.8-py3-none-manylinux2014_x86_64.whl.metadata (1.5 kB)\n",
            "Collecting nvidia-cufft-cu12==11.2.1.3 (from torch>=1.8.0->ultralytics)\n",
            "  Downloading nvidia_cufft_cu12-11.2.1.3-py3-none-manylinux2014_x86_64.whl.metadata (1.5 kB)\n",
            "Collecting nvidia-curand-cu12==10.3.5.147 (from torch>=1.8.0->ultralytics)\n",
            "  Downloading nvidia_curand_cu12-10.3.5.147-py3-none-manylinux2014_x86_64.whl.metadata (1.5 kB)\n",
            "Collecting nvidia-cusolver-cu12==11.6.1.9 (from torch>=1.8.0->ultralytics)\n",
            "  Downloading nvidia_cusolver_cu12-11.6.1.9-py3-none-manylinux2014_x86_64.whl.metadata (1.6 kB)\n",
            "Collecting nvidia-cusparse-cu12==12.3.1.170 (from torch>=1.8.0->ultralytics)\n",
            "  Downloading nvidia_cusparse_cu12-12.3.1.170-py3-none-manylinux2014_x86_64.whl.metadata (1.6 kB)\n",
            "Requirement already satisfied: nvidia-cusparselt-cu12==0.6.2 in /usr/local/lib/python3.11/dist-packages (from torch>=1.8.0->ultralytics) (0.6.2)\n",
            "Requirement already satisfied: nvidia-nccl-cu12==2.21.5 in /usr/local/lib/python3.11/dist-packages (from torch>=1.8.0->ultralytics) (2.21.5)\n",
            "Requirement already satisfied: nvidia-nvtx-cu12==12.4.127 in /usr/local/lib/python3.11/dist-packages (from torch>=1.8.0->ultralytics) (12.4.127)\n",
            "Collecting nvidia-nvjitlink-cu12==12.4.127 (from torch>=1.8.0->ultralytics)\n",
            "  Downloading nvidia_nvjitlink_cu12-12.4.127-py3-none-manylinux2014_x86_64.whl.metadata (1.5 kB)\n",
            "Requirement already satisfied: triton==3.2.0 in /usr/local/lib/python3.11/dist-packages (from torch>=1.8.0->ultralytics) (3.2.0)\n",
            "Requirement already satisfied: sympy==1.13.1 in /usr/local/lib/python3.11/dist-packages (from torch>=1.8.0->ultralytics) (1.13.1)\n",
            "Requirement already satisfied: mpmath<1.4,>=1.1.0 in /usr/local/lib/python3.11/dist-packages (from sympy==1.13.1->torch>=1.8.0->ultralytics) (1.3.0)\n",
            "Requirement already satisfied: six>=1.5 in /usr/local/lib/python3.11/dist-packages (from python-dateutil>=2.7->matplotlib>=3.3.0->ultralytics) (1.17.0)\n",
            "Requirement already satisfied: MarkupSafe>=2.0 in /usr/local/lib/python3.11/dist-packages (from jinja2->torch>=1.8.0->ultralytics) (3.0.2)\n",
            "Downloading ultralytics-8.3.152-py3-none-any.whl (1.0 MB)\n",
            "\u001b[2K   \u001b[90m━━━━━━━━━━━━━━━━━━━━━━━━━━━━━━━━━━━━━━━━\u001b[0m \u001b[32m1.0/1.0 MB\u001b[0m \u001b[31m33.6 MB/s\u001b[0m eta \u001b[36m0:00:00\u001b[0m\n",
            "\u001b[?25hDownloading nvidia_cublas_cu12-12.4.5.8-py3-none-manylinux2014_x86_64.whl (363.4 MB)\n",
            "\u001b[2K   \u001b[90m━━━━━━━━━━━━━━━━━━━━━━━━━━━━━━━━━━━━━━━━\u001b[0m \u001b[32m363.4/363.4 MB\u001b[0m \u001b[31m1.3 MB/s\u001b[0m eta \u001b[36m0:00:00\u001b[0m\n",
            "\u001b[?25hDownloading nvidia_cuda_cupti_cu12-12.4.127-py3-none-manylinux2014_x86_64.whl (13.8 MB)\n",
            "\u001b[2K   \u001b[90m━━━━━━━━━━━━━━━━━━━━━━━━━━━━━━━━━━━━━━━━\u001b[0m \u001b[32m13.8/13.8 MB\u001b[0m \u001b[31m127.6 MB/s\u001b[0m eta \u001b[36m0:00:00\u001b[0m\n",
            "\u001b[?25hDownloading nvidia_cuda_nvrtc_cu12-12.4.127-py3-none-manylinux2014_x86_64.whl (24.6 MB)\n",
            "\u001b[2K   \u001b[90m━━━━━━━━━━━━━━━━━━━━━━━━━━━━━━━━━━━━━━━━\u001b[0m \u001b[32m24.6/24.6 MB\u001b[0m \u001b[31m94.1 MB/s\u001b[0m eta \u001b[36m0:00:00\u001b[0m\n",
            "\u001b[?25hDownloading nvidia_cuda_runtime_cu12-12.4.127-py3-none-manylinux2014_x86_64.whl (883 kB)\n",
            "\u001b[2K   \u001b[90m━━━━━━━━━━━━━━━━━━━━━━━━━━━━━━━━━━━━━━━━\u001b[0m \u001b[32m883.7/883.7 kB\u001b[0m \u001b[31m66.8 MB/s\u001b[0m eta \u001b[36m0:00:00\u001b[0m\n",
            "\u001b[?25hDownloading nvidia_cudnn_cu12-9.1.0.70-py3-none-manylinux2014_x86_64.whl (664.8 MB)\n",
            "\u001b[2K   \u001b[90m━━━━━━━━━━━━━━━━━━━━━━━━━━━━━━━━━━━━━━━━\u001b[0m \u001b[32m664.8/664.8 MB\u001b[0m \u001b[31m3.0 MB/s\u001b[0m eta \u001b[36m0:00:00\u001b[0m\n",
            "\u001b[?25hDownloading nvidia_cufft_cu12-11.2.1.3-py3-none-manylinux2014_x86_64.whl (211.5 MB)\n",
            "\u001b[2K   \u001b[90m━━━━━━━━━━━━━━━━━━━━━━━━━━━━━━━━━━━━━━━━\u001b[0m \u001b[32m211.5/211.5 MB\u001b[0m \u001b[31m5.3 MB/s\u001b[0m eta \u001b[36m0:00:00\u001b[0m\n",
            "\u001b[?25hDownloading nvidia_curand_cu12-10.3.5.147-py3-none-manylinux2014_x86_64.whl (56.3 MB)\n",
            "\u001b[2K   \u001b[90m━━━━━━━━━━━━━━━━━━━━━━━━━━━━━━━━━━━━━━━━\u001b[0m \u001b[32m56.3/56.3 MB\u001b[0m \u001b[31m20.6 MB/s\u001b[0m eta \u001b[36m0:00:00\u001b[0m\n",
            "\u001b[?25hDownloading nvidia_cusolver_cu12-11.6.1.9-py3-none-manylinux2014_x86_64.whl (127.9 MB)\n",
            "\u001b[2K   \u001b[90m━━━━━━━━━━━━━━━━━━━━━━━━━━━━━━━━━━━━━━━━\u001b[0m \u001b[32m127.9/127.9 MB\u001b[0m \u001b[31m7.2 MB/s\u001b[0m eta \u001b[36m0:00:00\u001b[0m\n",
            "\u001b[?25hDownloading nvidia_cusparse_cu12-12.3.1.170-py3-none-manylinux2014_x86_64.whl (207.5 MB)\n",
            "\u001b[2K   \u001b[90m━━━━━━━━━━━━━━━━━━━━━━━━━━━━━━━━━━━━━━━━\u001b[0m \u001b[32m207.5/207.5 MB\u001b[0m \u001b[31m5.2 MB/s\u001b[0m eta \u001b[36m0:00:00\u001b[0m\n",
            "\u001b[?25hDownloading nvidia_nvjitlink_cu12-12.4.127-py3-none-manylinux2014_x86_64.whl (21.1 MB)\n",
            "\u001b[2K   \u001b[90m━━━━━━━━━━━━━━━━━━━━━━━━━━━━━━━━━━━━━━━━\u001b[0m \u001b[32m21.1/21.1 MB\u001b[0m \u001b[31m81.5 MB/s\u001b[0m eta \u001b[36m0:00:00\u001b[0m\n",
            "\u001b[?25hDownloading ultralytics_thop-2.0.14-py3-none-any.whl (26 kB)\n",
            "Installing collected packages: nvidia-nvjitlink-cu12, nvidia-curand-cu12, nvidia-cufft-cu12, nvidia-cuda-runtime-cu12, nvidia-cuda-nvrtc-cu12, nvidia-cuda-cupti-cu12, nvidia-cublas-cu12, nvidia-cusparse-cu12, nvidia-cudnn-cu12, nvidia-cusolver-cu12, ultralytics-thop, ultralytics\n",
            "  Attempting uninstall: nvidia-nvjitlink-cu12\n",
            "    Found existing installation: nvidia-nvjitlink-cu12 12.5.82\n",
            "    Uninstalling nvidia-nvjitlink-cu12-12.5.82:\n",
            "      Successfully uninstalled nvidia-nvjitlink-cu12-12.5.82\n",
            "  Attempting uninstall: nvidia-curand-cu12\n",
            "    Found existing installation: nvidia-curand-cu12 10.3.6.82\n",
            "    Uninstalling nvidia-curand-cu12-10.3.6.82:\n",
            "      Successfully uninstalled nvidia-curand-cu12-10.3.6.82\n",
            "  Attempting uninstall: nvidia-cufft-cu12\n",
            "    Found existing installation: nvidia-cufft-cu12 11.2.3.61\n",
            "    Uninstalling nvidia-cufft-cu12-11.2.3.61:\n",
            "      Successfully uninstalled nvidia-cufft-cu12-11.2.3.61\n",
            "  Attempting uninstall: nvidia-cuda-runtime-cu12\n",
            "    Found existing installation: nvidia-cuda-runtime-cu12 12.5.82\n",
            "    Uninstalling nvidia-cuda-runtime-cu12-12.5.82:\n",
            "      Successfully uninstalled nvidia-cuda-runtime-cu12-12.5.82\n",
            "  Attempting uninstall: nvidia-cuda-nvrtc-cu12\n",
            "    Found existing installation: nvidia-cuda-nvrtc-cu12 12.5.82\n",
            "    Uninstalling nvidia-cuda-nvrtc-cu12-12.5.82:\n",
            "      Successfully uninstalled nvidia-cuda-nvrtc-cu12-12.5.82\n",
            "  Attempting uninstall: nvidia-cuda-cupti-cu12\n",
            "    Found existing installation: nvidia-cuda-cupti-cu12 12.5.82\n",
            "    Uninstalling nvidia-cuda-cupti-cu12-12.5.82:\n",
            "      Successfully uninstalled nvidia-cuda-cupti-cu12-12.5.82\n",
            "  Attempting uninstall: nvidia-cublas-cu12\n",
            "    Found existing installation: nvidia-cublas-cu12 12.5.3.2\n",
            "    Uninstalling nvidia-cublas-cu12-12.5.3.2:\n",
            "      Successfully uninstalled nvidia-cublas-cu12-12.5.3.2\n",
            "  Attempting uninstall: nvidia-cusparse-cu12\n",
            "    Found existing installation: nvidia-cusparse-cu12 12.5.1.3\n",
            "    Uninstalling nvidia-cusparse-cu12-12.5.1.3:\n",
            "      Successfully uninstalled nvidia-cusparse-cu12-12.5.1.3\n",
            "  Attempting uninstall: nvidia-cudnn-cu12\n",
            "    Found existing installation: nvidia-cudnn-cu12 9.3.0.75\n",
            "    Uninstalling nvidia-cudnn-cu12-9.3.0.75:\n",
            "      Successfully uninstalled nvidia-cudnn-cu12-9.3.0.75\n",
            "  Attempting uninstall: nvidia-cusolver-cu12\n",
            "    Found existing installation: nvidia-cusolver-cu12 11.6.3.83\n",
            "    Uninstalling nvidia-cusolver-cu12-11.6.3.83:\n",
            "      Successfully uninstalled nvidia-cusolver-cu12-11.6.3.83\n",
            "Successfully installed nvidia-cublas-cu12-12.4.5.8 nvidia-cuda-cupti-cu12-12.4.127 nvidia-cuda-nvrtc-cu12-12.4.127 nvidia-cuda-runtime-cu12-12.4.127 nvidia-cudnn-cu12-9.1.0.70 nvidia-cufft-cu12-11.2.1.3 nvidia-curand-cu12-10.3.5.147 nvidia-cusolver-cu12-11.6.1.9 nvidia-cusparse-cu12-12.3.1.170 nvidia-nvjitlink-cu12-12.4.127 ultralytics-8.3.152 ultralytics-thop-2.0.14\n"
          ]
        }
      ]
    },
    {
      "cell_type": "code",
      "source": [
        "import os\n",
        "import yaml\n",
        "\n",
        "# Define dataset structure\n",
        "dataset_dir = \"/content/YOLO_Dataset_Main\"\n",
        "yaml_path = os.path.join(dataset_dir, \"dataset.yaml\")\n",
        "\n",
        "data = {\n",
        "    'train': os.path.join(dataset_dir, \"train/images\").replace(\"\\\\\", \"/\"),\n",
        "    'val': os.path.join(dataset_dir, \"valid/images\").replace(\"\\\\\", \"/\"),\n",
        "    'names': {\n",
        "        0: \"Casual_Jeans\",\n",
        "        1: \"Casual_Sneakers\",\n",
        "        2: \"Casual_Top\",\n",
        "        3: \"Corporate_Gown\",\n",
        "        4: \"Corporate_Shoe\",\n",
        "        5: \"Corporate_Skirt\",\n",
        "        6: \"Corporate_Top\",\n",
        "        7: \"Corporate_Trouser\",\n",
        "        8: \"Native\",\n",
        "        9: \"Shorts\",\n",
        "        10: \"Suits\",\n",
        "        11: \"Tie\"\n",
        "    },\n",
        "    'nc': 12\n",
        "}\n",
        "\n",
        "# Save YAML file\n",
        "with open(yaml_path, 'w') as f:\n",
        "    yaml.dump(data, f, default_flow_style=False)\n",
        "\n",
        "print(f\"YAML file created at: {yaml_path}\")\n"
      ],
      "metadata": {
        "colab": {
          "base_uri": "https://localhost:8080/"
        },
        "id": "DvDbVgyLb9bi",
        "outputId": "83ab6800-d499-4d04-e84b-63284bf98498"
      },
      "execution_count": 5,
      "outputs": [
        {
          "output_type": "stream",
          "name": "stdout",
          "text": [
            "YAML file created at: /content/YOLO_Dataset_Main/dataset.yaml\n"
          ]
        }
      ]
    },
    {
      "cell_type": "code",
      "source": [
        "from ultralytics import YOLO\n",
        "\n",
        "# Load a pretrained YOLOv8 model (nano, small, medium, large, or xlarge)\n",
        "model = YOLO('yolov8n.pt')  # yolov8n.pt = nano model, faster but less accurate\n",
        "\n",
        "# Start training\n",
        "results = model.train(\n",
        "    data='/content/YOLO_Dataset_Main/dataset.yaml',\n",
        "    epochs=100,\n",
        "    imgsz=640,\n",
        "    batch=16,\n",
        "    device='0'  # '0' for GPU, or 'cpu' for CPU training\n",
        ")\n"
      ],
      "metadata": {
        "colab": {
          "base_uri": "https://localhost:8080/"
        },
        "id": "sumdNcReclga",
        "outputId": "8005f525-728b-407d-a8b9-fcb55e646396"
      },
      "execution_count": 7,
      "outputs": [
        {
          "output_type": "stream",
          "name": "stdout",
          "text": [
            "Ultralytics 8.3.152 🚀 Python-3.11.13 torch-2.6.0+cu124 CUDA:0 (Tesla T4, 15095MiB)\n",
            "\u001b[34m\u001b[1mengine/trainer: \u001b[0magnostic_nms=False, amp=True, augment=False, auto_augment=randaugment, batch=16, bgr=0.0, box=7.5, cache=False, cfg=None, classes=None, close_mosaic=10, cls=0.5, conf=None, copy_paste=0.0, copy_paste_mode=flip, cos_lr=False, cutmix=0.0, data=/content/YOLO_Dataset_Main/dataset.yaml, degrees=0.0, deterministic=True, device=0, dfl=1.5, dnn=False, dropout=0.0, dynamic=False, embed=None, epochs=100, erasing=0.4, exist_ok=False, fliplr=0.5, flipud=0.0, format=torchscript, fraction=1.0, freeze=None, half=False, hsv_h=0.015, hsv_s=0.7, hsv_v=0.4, imgsz=640, int8=False, iou=0.7, keras=False, kobj=1.0, line_width=None, lr0=0.01, lrf=0.01, mask_ratio=4, max_det=300, mixup=0.0, mode=train, model=yolov8n.pt, momentum=0.937, mosaic=1.0, multi_scale=False, name=train2, nbs=64, nms=False, opset=None, optimize=False, optimizer=auto, overlap_mask=True, patience=100, perspective=0.0, plots=True, pose=12.0, pretrained=True, profile=False, project=None, rect=False, resume=False, retina_masks=False, save=True, save_conf=False, save_crop=False, save_dir=runs/detect/train2, save_frames=False, save_json=False, save_period=-1, save_txt=False, scale=0.5, seed=0, shear=0.0, show=False, show_boxes=True, show_conf=True, show_labels=True, simplify=True, single_cls=False, source=None, split=val, stream_buffer=False, task=detect, time=None, tracker=botsort.yaml, translate=0.1, val=True, verbose=True, vid_stride=1, visualize=False, warmup_bias_lr=0.1, warmup_epochs=3.0, warmup_momentum=0.8, weight_decay=0.0005, workers=8, workspace=None\n",
            "Downloading https://ultralytics.com/assets/Arial.ttf to '/root/.config/Ultralytics/Arial.ttf'...\n"
          ]
        },
        {
          "output_type": "stream",
          "name": "stderr",
          "text": [
            "100%|██████████| 755k/755k [00:00<00:00, 25.7MB/s]"
          ]
        },
        {
          "output_type": "stream",
          "name": "stdout",
          "text": [
            "Overriding model.yaml nc=80 with nc=12\n",
            "\n",
            "                   from  n    params  module                                       arguments                     \n",
            "  0                  -1  1       464  ultralytics.nn.modules.conv.Conv             [3, 16, 3, 2]                 \n",
            "  1                  -1  1      4672  ultralytics.nn.modules.conv.Conv             [16, 32, 3, 2]                \n",
            "  2                  -1  1      7360  ultralytics.nn.modules.block.C2f             [32, 32, 1, True]             \n",
            "  3                  -1  1     18560  ultralytics.nn.modules.conv.Conv             [32, 64, 3, 2]                \n",
            "  4                  -1  2     49664  ultralytics.nn.modules.block.C2f             [64, 64, 2, True]             \n",
            "  5                  -1  1     73984  ultralytics.nn.modules.conv.Conv             [64, 128, 3, 2]               \n",
            "  6                  -1  2    197632  ultralytics.nn.modules.block.C2f             [128, 128, 2, True]           \n",
            "  7                  -1  1    295424  ultralytics.nn.modules.conv.Conv             [128, 256, 3, 2]              \n",
            "  8                  -1  1    460288  ultralytics.nn.modules.block.C2f             [256, 256, 1, True]           \n",
            "  9                  -1  1    164608  ultralytics.nn.modules.block.SPPF            [256, 256, 5]                 \n",
            " 10                  -1  1         0  torch.nn.modules.upsampling.Upsample         [None, 2, 'nearest']          \n",
            " 11             [-1, 6]  1         0  ultralytics.nn.modules.conv.Concat           [1]                           \n",
            " 12                  -1  1    148224  ultralytics.nn.modules.block.C2f             [384, 128, 1]                 \n",
            " 13                  -1  1         0  torch.nn.modules.upsampling.Upsample         [None, 2, 'nearest']          \n",
            " 14             [-1, 4]  1         0  ultralytics.nn.modules.conv.Concat           [1]                           \n",
            " 15                  -1  1     37248  ultralytics.nn.modules.block.C2f             [192, 64, 1]                  \n",
            " 16                  -1  1     36992  ultralytics.nn.modules.conv.Conv             [64, 64, 3, 2]                \n",
            " 17            [-1, 12]  1         0  ultralytics.nn.modules.conv.Concat           [1]                           \n",
            " 18                  -1  1    123648  ultralytics.nn.modules.block.C2f             [192, 128, 1]                 \n",
            " 19                  -1  1    147712  ultralytics.nn.modules.conv.Conv             [128, 128, 3, 2]              \n",
            " 20             [-1, 9]  1         0  ultralytics.nn.modules.conv.Concat           [1]                           \n",
            " 21                  -1  1    493056  ultralytics.nn.modules.block.C2f             [384, 256, 1]                 \n"
          ]
        },
        {
          "output_type": "stream",
          "name": "stderr",
          "text": [
            "\n"
          ]
        },
        {
          "output_type": "stream",
          "name": "stdout",
          "text": [
            " 22        [15, 18, 21]  1    753652  ultralytics.nn.modules.head.Detect           [12, [64, 128, 256]]          \n",
            "Model summary: 129 layers, 3,013,188 parameters, 3,013,172 gradients, 8.2 GFLOPs\n",
            "\n",
            "Transferred 319/355 items from pretrained weights\n",
            "Freezing layer 'model.22.dfl.conv.weight'\n",
            "\u001b[34m\u001b[1mAMP: \u001b[0mrunning Automatic Mixed Precision (AMP) checks...\n",
            "Downloading https://github.com/ultralytics/assets/releases/download/v8.3.0/yolo11n.pt to 'yolo11n.pt'...\n"
          ]
        },
        {
          "output_type": "stream",
          "name": "stderr",
          "text": [
            "100%|██████████| 5.35M/5.35M [00:00<00:00, 97.5MB/s]\n"
          ]
        },
        {
          "output_type": "stream",
          "name": "stdout",
          "text": [
            "\u001b[34m\u001b[1mAMP: \u001b[0mchecks passed ✅\n",
            "\u001b[34m\u001b[1mtrain: \u001b[0mFast image access ✅ (ping: 0.0±0.0 ms, read: 24.9±7.5 MB/s, size: 53.0 KB)\n"
          ]
        },
        {
          "output_type": "stream",
          "name": "stderr",
          "text": [
            "\u001b[34m\u001b[1mtrain: \u001b[0mScanning /content/YOLO_Dataset_Main/train/labels... 2948 images, 41 backgrounds, 0 corrupt: 100%|██████████| 2948/2948 [00:04<00:00, 662.81it/s]"
          ]
        },
        {
          "output_type": "stream",
          "name": "stdout",
          "text": [
            "\u001b[34m\u001b[1mtrain: \u001b[0mNew cache created: /content/YOLO_Dataset_Main/train/labels.cache\n"
          ]
        },
        {
          "output_type": "stream",
          "name": "stderr",
          "text": [
            "\n"
          ]
        },
        {
          "output_type": "stream",
          "name": "stdout",
          "text": [
            "\u001b[34m\u001b[1malbumentations: \u001b[0mBlur(p=0.01, blur_limit=(3, 7)), MedianBlur(p=0.01, blur_limit=(3, 7)), ToGray(p=0.01, method='weighted_average', num_output_channels=3), CLAHE(p=0.01, clip_limit=(1.0, 4.0), tile_grid_size=(8, 8))\n",
            "\u001b[34m\u001b[1mval: \u001b[0mFast image access ✅ (ping: 0.0±0.0 ms, read: 27.4±13.2 MB/s, size: 100.1 KB)\n"
          ]
        },
        {
          "output_type": "stream",
          "name": "stderr",
          "text": [
            "\u001b[34m\u001b[1mval: \u001b[0mScanning /content/YOLO_Dataset_Main/val/labels... 738 images, 10 backgrounds, 0 corrupt: 100%|██████████| 738/738 [00:01<00:00, 502.39it/s]\n"
          ]
        },
        {
          "output_type": "stream",
          "name": "stdout",
          "text": [
            "\u001b[34m\u001b[1mval: \u001b[0mNew cache created: /content/YOLO_Dataset_Main/val/labels.cache\n",
            "Plotting labels to runs/detect/train2/labels.jpg... \n",
            "\u001b[34m\u001b[1moptimizer:\u001b[0m 'optimizer=auto' found, ignoring 'lr0=0.01' and 'momentum=0.937' and determining best 'optimizer', 'lr0' and 'momentum' automatically... \n",
            "\u001b[34m\u001b[1moptimizer:\u001b[0m AdamW(lr=0.000625, momentum=0.9) with parameter groups 57 weight(decay=0.0), 64 weight(decay=0.0005), 63 bias(decay=0.0)\n",
            "Image sizes 640 train, 640 val\n",
            "Using 2 dataloader workers\n",
            "Logging results to \u001b[1mruns/detect/train2\u001b[0m\n",
            "Starting training for 100 epochs...\n",
            "\n",
            "      Epoch    GPU_mem   box_loss   cls_loss   dfl_loss  Instances       Size\n"
          ]
        },
        {
          "output_type": "stream",
          "name": "stderr",
          "text": [
            "      1/100      2.08G       1.26      3.349      1.622         14        640: 100%|██████████| 185/185 [00:59<00:00,  3.11it/s]\n",
            "                 Class     Images  Instances      Box(P          R      mAP50  mAP50-95): 100%|██████████| 24/24 [00:07<00:00,  3.35it/s]\n"
          ]
        },
        {
          "output_type": "stream",
          "name": "stdout",
          "text": [
            "                   all        738       1001      0.304      0.533      0.365      0.221\n",
            "\n",
            "      Epoch    GPU_mem   box_loss   cls_loss   dfl_loss  Instances       Size\n"
          ]
        },
        {
          "output_type": "stream",
          "name": "stderr",
          "text": [
            "      2/100      2.57G      1.233      2.459      1.563         10        640: 100%|██████████| 185/185 [00:55<00:00,  3.34it/s]\n",
            "                 Class     Images  Instances      Box(P          R      mAP50  mAP50-95): 100%|██████████| 24/24 [00:07<00:00,  3.18it/s]\n"
          ]
        },
        {
          "output_type": "stream",
          "name": "stdout",
          "text": [
            "                   all        738       1001      0.426      0.561      0.498      0.309\n",
            "\n",
            "      Epoch    GPU_mem   box_loss   cls_loss   dfl_loss  Instances       Size\n"
          ]
        },
        {
          "output_type": "stream",
          "name": "stderr",
          "text": [
            "      3/100      2.59G      1.236      2.221      1.551         17        640: 100%|██████████| 185/185 [00:53<00:00,  3.47it/s]\n",
            "                 Class     Images  Instances      Box(P          R      mAP50  mAP50-95): 100%|██████████| 24/24 [00:07<00:00,  3.26it/s]\n"
          ]
        },
        {
          "output_type": "stream",
          "name": "stdout",
          "text": [
            "                   all        738       1001      0.556       0.56      0.577      0.351\n",
            "\n",
            "      Epoch    GPU_mem   box_loss   cls_loss   dfl_loss  Instances       Size\n"
          ]
        },
        {
          "output_type": "stream",
          "name": "stderr",
          "text": [
            "      4/100      2.59G      1.202      1.974      1.512          9        640: 100%|██████████| 185/185 [00:54<00:00,  3.37it/s]\n",
            "                 Class     Images  Instances      Box(P          R      mAP50  mAP50-95): 100%|██████████| 24/24 [00:06<00:00,  3.92it/s]\n"
          ]
        },
        {
          "output_type": "stream",
          "name": "stdout",
          "text": [
            "                   all        738       1001      0.567      0.581      0.603      0.371\n",
            "\n",
            "      Epoch    GPU_mem   box_loss   cls_loss   dfl_loss  Instances       Size\n"
          ]
        },
        {
          "output_type": "stream",
          "name": "stderr",
          "text": [
            "      5/100      2.62G      1.183       1.88      1.491          8        640: 100%|██████████| 185/185 [00:54<00:00,  3.39it/s]\n",
            "                 Class     Images  Instances      Box(P          R      mAP50  mAP50-95): 100%|██████████| 24/24 [00:07<00:00,  3.20it/s]\n"
          ]
        },
        {
          "output_type": "stream",
          "name": "stdout",
          "text": [
            "                   all        738       1001      0.621      0.608      0.659      0.431\n",
            "\n",
            "      Epoch    GPU_mem   box_loss   cls_loss   dfl_loss  Instances       Size\n"
          ]
        },
        {
          "output_type": "stream",
          "name": "stderr",
          "text": [
            "      6/100      2.63G      1.156      1.726       1.46         14        640: 100%|██████████| 185/185 [00:53<00:00,  3.45it/s]\n",
            "                 Class     Images  Instances      Box(P          R      mAP50  mAP50-95): 100%|██████████| 24/24 [00:07<00:00,  3.19it/s]"
          ]
        },
        {
          "output_type": "stream",
          "name": "stdout",
          "text": [
            "                   all        738       1001      0.704      0.619      0.726      0.485\n"
          ]
        },
        {
          "output_type": "stream",
          "name": "stderr",
          "text": [
            "\n"
          ]
        },
        {
          "output_type": "stream",
          "name": "stdout",
          "text": [
            "\n",
            "      Epoch    GPU_mem   box_loss   cls_loss   dfl_loss  Instances       Size\n"
          ]
        },
        {
          "output_type": "stream",
          "name": "stderr",
          "text": [
            "      7/100      2.65G      1.147      1.646      1.453         15        640: 100%|██████████| 185/185 [00:55<00:00,  3.36it/s]\n",
            "                 Class     Images  Instances      Box(P          R      mAP50  mAP50-95): 100%|██████████| 24/24 [00:06<00:00,  3.92it/s]"
          ]
        },
        {
          "output_type": "stream",
          "name": "stdout",
          "text": [
            "                   all        738       1001      0.722      0.659      0.752        0.5\n"
          ]
        },
        {
          "output_type": "stream",
          "name": "stderr",
          "text": [
            "\n"
          ]
        },
        {
          "output_type": "stream",
          "name": "stdout",
          "text": [
            "\n",
            "      Epoch    GPU_mem   box_loss   cls_loss   dfl_loss  Instances       Size\n"
          ]
        },
        {
          "output_type": "stream",
          "name": "stderr",
          "text": [
            "      8/100      2.66G      1.115      1.547      1.424         15        640: 100%|██████████| 185/185 [00:54<00:00,  3.37it/s]\n",
            "                 Class     Images  Instances      Box(P          R      mAP50  mAP50-95): 100%|██████████| 24/24 [00:06<00:00,  3.55it/s]\n"
          ]
        },
        {
          "output_type": "stream",
          "name": "stdout",
          "text": [
            "                   all        738       1001      0.824      0.722      0.813      0.562\n",
            "\n",
            "      Epoch    GPU_mem   box_loss   cls_loss   dfl_loss  Instances       Size\n"
          ]
        },
        {
          "output_type": "stream",
          "name": "stderr",
          "text": [
            "      9/100      2.69G      1.099      1.483      1.415         18        640: 100%|██████████| 185/185 [00:53<00:00,  3.48it/s]\n",
            "                 Class     Images  Instances      Box(P          R      mAP50  mAP50-95): 100%|██████████| 24/24 [00:07<00:00,  3.26it/s]"
          ]
        },
        {
          "output_type": "stream",
          "name": "stdout",
          "text": [
            "                   all        738       1001      0.794       0.73      0.823      0.568\n"
          ]
        },
        {
          "output_type": "stream",
          "name": "stderr",
          "text": [
            "\n"
          ]
        },
        {
          "output_type": "stream",
          "name": "stdout",
          "text": [
            "\n",
            "      Epoch    GPU_mem   box_loss   cls_loss   dfl_loss  Instances       Size\n"
          ]
        },
        {
          "output_type": "stream",
          "name": "stderr",
          "text": [
            "     10/100       2.7G      1.084      1.399      1.402         16        640: 100%|██████████| 185/185 [00:54<00:00,  3.38it/s]\n",
            "                 Class     Images  Instances      Box(P          R      mAP50  mAP50-95): 100%|██████████| 24/24 [00:06<00:00,  3.95it/s]"
          ]
        },
        {
          "output_type": "stream",
          "name": "stdout",
          "text": [
            "                   all        738       1001      0.782      0.726      0.804      0.558\n"
          ]
        },
        {
          "output_type": "stream",
          "name": "stderr",
          "text": [
            "\n"
          ]
        },
        {
          "output_type": "stream",
          "name": "stdout",
          "text": [
            "\n",
            "      Epoch    GPU_mem   box_loss   cls_loss   dfl_loss  Instances       Size\n"
          ]
        },
        {
          "output_type": "stream",
          "name": "stderr",
          "text": [
            "     11/100      2.72G      1.081      1.395      1.402         12        640: 100%|██████████| 185/185 [00:54<00:00,  3.40it/s]\n",
            "                 Class     Images  Instances      Box(P          R      mAP50  mAP50-95): 100%|██████████| 24/24 [00:06<00:00,  3.87it/s]"
          ]
        },
        {
          "output_type": "stream",
          "name": "stdout",
          "text": [
            "                   all        738       1001      0.797      0.757      0.822      0.563\n"
          ]
        },
        {
          "output_type": "stream",
          "name": "stderr",
          "text": [
            "\n"
          ]
        },
        {
          "output_type": "stream",
          "name": "stdout",
          "text": [
            "\n",
            "      Epoch    GPU_mem   box_loss   cls_loss   dfl_loss  Instances       Size\n"
          ]
        },
        {
          "output_type": "stream",
          "name": "stderr",
          "text": [
            "     12/100      2.72G       1.05      1.316      1.372          8        640: 100%|██████████| 185/185 [00:54<00:00,  3.41it/s]\n",
            "                 Class     Images  Instances      Box(P          R      mAP50  mAP50-95): 100%|██████████| 24/24 [00:07<00:00,  3.21it/s]"
          ]
        },
        {
          "output_type": "stream",
          "name": "stdout",
          "text": [
            "                   all        738       1001      0.818      0.778      0.856      0.606\n"
          ]
        },
        {
          "output_type": "stream",
          "name": "stderr",
          "text": [
            "\n"
          ]
        },
        {
          "output_type": "stream",
          "name": "stdout",
          "text": [
            "\n",
            "      Epoch    GPU_mem   box_loss   cls_loss   dfl_loss  Instances       Size\n"
          ]
        },
        {
          "output_type": "stream",
          "name": "stderr",
          "text": [
            "     13/100      2.75G      1.056      1.286      1.373         15        640: 100%|██████████| 185/185 [00:54<00:00,  3.42it/s]\n",
            "                 Class     Images  Instances      Box(P          R      mAP50  mAP50-95): 100%|██████████| 24/24 [00:06<00:00,  3.77it/s]"
          ]
        },
        {
          "output_type": "stream",
          "name": "stdout",
          "text": [
            "                   all        738       1001      0.814      0.818      0.861      0.627\n"
          ]
        },
        {
          "output_type": "stream",
          "name": "stderr",
          "text": [
            "\n"
          ]
        },
        {
          "output_type": "stream",
          "name": "stdout",
          "text": [
            "\n",
            "      Epoch    GPU_mem   box_loss   cls_loss   dfl_loss  Instances       Size\n"
          ]
        },
        {
          "output_type": "stream",
          "name": "stderr",
          "text": [
            "     14/100      2.77G      1.036      1.246      1.366         12        640: 100%|██████████| 185/185 [00:54<00:00,  3.42it/s]\n",
            "                 Class     Images  Instances      Box(P          R      mAP50  mAP50-95): 100%|██████████| 24/24 [00:06<00:00,  3.74it/s]"
          ]
        },
        {
          "output_type": "stream",
          "name": "stdout",
          "text": [
            "                   all        738       1001      0.818      0.779      0.852      0.617\n"
          ]
        },
        {
          "output_type": "stream",
          "name": "stderr",
          "text": [
            "\n"
          ]
        },
        {
          "output_type": "stream",
          "name": "stdout",
          "text": [
            "\n",
            "      Epoch    GPU_mem   box_loss   cls_loss   dfl_loss  Instances       Size\n"
          ]
        },
        {
          "output_type": "stream",
          "name": "stderr",
          "text": [
            "     15/100      2.79G      1.027      1.227       1.36         19        640: 100%|██████████| 185/185 [00:54<00:00,  3.41it/s]\n",
            "                 Class     Images  Instances      Box(P          R      mAP50  mAP50-95): 100%|██████████| 24/24 [00:07<00:00,  3.06it/s]"
          ]
        },
        {
          "output_type": "stream",
          "name": "stdout",
          "text": [
            "                   all        738       1001      0.833      0.798      0.877      0.639\n"
          ]
        },
        {
          "output_type": "stream",
          "name": "stderr",
          "text": [
            "\n"
          ]
        },
        {
          "output_type": "stream",
          "name": "stdout",
          "text": [
            "\n",
            "      Epoch    GPU_mem   box_loss   cls_loss   dfl_loss  Instances       Size\n"
          ]
        },
        {
          "output_type": "stream",
          "name": "stderr",
          "text": [
            "     16/100      2.79G       1.01      1.209      1.346         18        640: 100%|██████████| 185/185 [00:53<00:00,  3.49it/s]\n",
            "                 Class     Images  Instances      Box(P          R      mAP50  mAP50-95): 100%|██████████| 24/24 [00:07<00:00,  3.33it/s]"
          ]
        },
        {
          "output_type": "stream",
          "name": "stdout",
          "text": [
            "                   all        738       1001      0.813      0.838      0.889      0.653\n"
          ]
        },
        {
          "output_type": "stream",
          "name": "stderr",
          "text": [
            "\n"
          ]
        },
        {
          "output_type": "stream",
          "name": "stdout",
          "text": [
            "\n",
            "      Epoch    GPU_mem   box_loss   cls_loss   dfl_loss  Instances       Size\n"
          ]
        },
        {
          "output_type": "stream",
          "name": "stderr",
          "text": [
            "     17/100      2.82G     0.9887      1.166      1.331         10        640: 100%|██████████| 185/185 [00:53<00:00,  3.43it/s]\n",
            "                 Class     Images  Instances      Box(P          R      mAP50  mAP50-95): 100%|██████████| 24/24 [00:06<00:00,  3.95it/s]"
          ]
        },
        {
          "output_type": "stream",
          "name": "stdout",
          "text": [
            "                   all        738       1001      0.858      0.842      0.907      0.671\n"
          ]
        },
        {
          "output_type": "stream",
          "name": "stderr",
          "text": [
            "\n"
          ]
        },
        {
          "output_type": "stream",
          "name": "stdout",
          "text": [
            "\n",
            "      Epoch    GPU_mem   box_loss   cls_loss   dfl_loss  Instances       Size\n"
          ]
        },
        {
          "output_type": "stream",
          "name": "stderr",
          "text": [
            "     18/100      2.84G     0.9854      1.148      1.323         21        640: 100%|██████████| 185/185 [00:53<00:00,  3.43it/s]\n",
            "                 Class     Images  Instances      Box(P          R      mAP50  mAP50-95): 100%|██████████| 24/24 [00:07<00:00,  3.18it/s]"
          ]
        },
        {
          "output_type": "stream",
          "name": "stdout",
          "text": [
            "                   all        738       1001      0.864      0.799      0.889      0.658\n"
          ]
        },
        {
          "output_type": "stream",
          "name": "stderr",
          "text": [
            "\n"
          ]
        },
        {
          "output_type": "stream",
          "name": "stdout",
          "text": [
            "\n",
            "      Epoch    GPU_mem   box_loss   cls_loss   dfl_loss  Instances       Size\n"
          ]
        },
        {
          "output_type": "stream",
          "name": "stderr",
          "text": [
            "     19/100      2.85G     0.9812      1.113      1.316         10        640: 100%|██████████| 185/185 [00:52<00:00,  3.52it/s]\n",
            "                 Class     Images  Instances      Box(P          R      mAP50  mAP50-95): 100%|██████████| 24/24 [00:07<00:00,  3.20it/s]"
          ]
        },
        {
          "output_type": "stream",
          "name": "stdout",
          "text": [
            "                   all        738       1001      0.839      0.882      0.912      0.684\n"
          ]
        },
        {
          "output_type": "stream",
          "name": "stderr",
          "text": [
            "\n"
          ]
        },
        {
          "output_type": "stream",
          "name": "stdout",
          "text": [
            "\n",
            "      Epoch    GPU_mem   box_loss   cls_loss   dfl_loss  Instances       Size\n"
          ]
        },
        {
          "output_type": "stream",
          "name": "stderr",
          "text": [
            "     20/100      2.86G     0.9668      1.089      1.307         12        640: 100%|██████████| 185/185 [00:55<00:00,  3.33it/s]\n",
            "                 Class     Images  Instances      Box(P          R      mAP50  mAP50-95): 100%|██████████| 24/24 [00:06<00:00,  3.96it/s]"
          ]
        },
        {
          "output_type": "stream",
          "name": "stdout",
          "text": [
            "                   all        738       1001      0.904      0.833       0.91      0.681\n"
          ]
        },
        {
          "output_type": "stream",
          "name": "stderr",
          "text": [
            "\n"
          ]
        },
        {
          "output_type": "stream",
          "name": "stdout",
          "text": [
            "\n",
            "      Epoch    GPU_mem   box_loss   cls_loss   dfl_loss  Instances       Size\n"
          ]
        },
        {
          "output_type": "stream",
          "name": "stderr",
          "text": [
            "     21/100      2.89G     0.9512      1.069      1.304          8        640: 100%|██████████| 185/185 [00:55<00:00,  3.31it/s]\n",
            "                 Class     Images  Instances      Box(P          R      mAP50  mAP50-95): 100%|██████████| 24/24 [00:07<00:00,  3.09it/s]"
          ]
        },
        {
          "output_type": "stream",
          "name": "stdout",
          "text": [
            "                   all        738       1001      0.877      0.864      0.909      0.684\n"
          ]
        },
        {
          "output_type": "stream",
          "name": "stderr",
          "text": [
            "\n"
          ]
        },
        {
          "output_type": "stream",
          "name": "stdout",
          "text": [
            "\n",
            "      Epoch    GPU_mem   box_loss   cls_loss   dfl_loss  Instances       Size\n"
          ]
        },
        {
          "output_type": "stream",
          "name": "stderr",
          "text": [
            "     22/100       2.9G     0.9505      1.045      1.303         13        640: 100%|██████████| 185/185 [00:55<00:00,  3.33it/s]\n",
            "                 Class     Images  Instances      Box(P          R      mAP50  mAP50-95): 100%|██████████| 24/24 [00:06<00:00,  3.81it/s]"
          ]
        },
        {
          "output_type": "stream",
          "name": "stdout",
          "text": [
            "                   all        738       1001      0.881       0.87       0.92      0.688\n"
          ]
        },
        {
          "output_type": "stream",
          "name": "stderr",
          "text": [
            "\n"
          ]
        },
        {
          "output_type": "stream",
          "name": "stdout",
          "text": [
            "\n",
            "      Epoch    GPU_mem   box_loss   cls_loss   dfl_loss  Instances       Size\n"
          ]
        },
        {
          "output_type": "stream",
          "name": "stderr",
          "text": [
            "     23/100      2.92G     0.9359      1.018      1.293         13        640: 100%|██████████| 185/185 [00:55<00:00,  3.31it/s]\n",
            "                 Class     Images  Instances      Box(P          R      mAP50  mAP50-95): 100%|██████████| 24/24 [00:06<00:00,  3.53it/s]"
          ]
        },
        {
          "output_type": "stream",
          "name": "stdout",
          "text": [
            "                   all        738       1001      0.873      0.891      0.933        0.7\n"
          ]
        },
        {
          "output_type": "stream",
          "name": "stderr",
          "text": [
            "\n"
          ]
        },
        {
          "output_type": "stream",
          "name": "stdout",
          "text": [
            "\n",
            "      Epoch    GPU_mem   box_loss   cls_loss   dfl_loss  Instances       Size\n"
          ]
        },
        {
          "output_type": "stream",
          "name": "stderr",
          "text": [
            "     24/100      2.93G     0.9278      1.011       1.29          8        640: 100%|██████████| 185/185 [00:54<00:00,  3.42it/s]\n",
            "                 Class     Images  Instances      Box(P          R      mAP50  mAP50-95): 100%|██████████| 24/24 [00:07<00:00,  3.18it/s]"
          ]
        },
        {
          "output_type": "stream",
          "name": "stdout",
          "text": [
            "                   all        738       1001      0.905       0.87      0.929      0.707\n"
          ]
        },
        {
          "output_type": "stream",
          "name": "stderr",
          "text": [
            "\n"
          ]
        },
        {
          "output_type": "stream",
          "name": "stdout",
          "text": [
            "\n",
            "      Epoch    GPU_mem   box_loss   cls_loss   dfl_loss  Instances       Size\n"
          ]
        },
        {
          "output_type": "stream",
          "name": "stderr",
          "text": [
            "     25/100      2.96G     0.9008     0.9571      1.265         16        640: 100%|██████████| 185/185 [00:55<00:00,  3.35it/s]\n",
            "                 Class     Images  Instances      Box(P          R      mAP50  mAP50-95): 100%|██████████| 24/24 [00:05<00:00,  4.03it/s]"
          ]
        },
        {
          "output_type": "stream",
          "name": "stdout",
          "text": [
            "                   all        738       1001      0.887      0.877      0.933      0.714\n"
          ]
        },
        {
          "output_type": "stream",
          "name": "stderr",
          "text": [
            "\n"
          ]
        },
        {
          "output_type": "stream",
          "name": "stdout",
          "text": [
            "\n",
            "      Epoch    GPU_mem   box_loss   cls_loss   dfl_loss  Instances       Size\n"
          ]
        },
        {
          "output_type": "stream",
          "name": "stderr",
          "text": [
            "     26/100      2.97G     0.9113     0.9594      1.274         17        640: 100%|██████████| 185/185 [00:55<00:00,  3.34it/s]\n",
            "                 Class     Images  Instances      Box(P          R      mAP50  mAP50-95): 100%|██████████| 24/24 [00:07<00:00,  3.23it/s]"
          ]
        },
        {
          "output_type": "stream",
          "name": "stdout",
          "text": [
            "                   all        738       1001        0.9      0.889      0.931      0.725\n"
          ]
        },
        {
          "output_type": "stream",
          "name": "stderr",
          "text": [
            "\n"
          ]
        },
        {
          "output_type": "stream",
          "name": "stdout",
          "text": [
            "\n",
            "      Epoch    GPU_mem   box_loss   cls_loss   dfl_loss  Instances       Size\n"
          ]
        },
        {
          "output_type": "stream",
          "name": "stderr",
          "text": [
            "     27/100      2.99G     0.8901     0.9478       1.26         16        640: 100%|██████████| 185/185 [00:53<00:00,  3.43it/s]\n",
            "                 Class     Images  Instances      Box(P          R      mAP50  mAP50-95): 100%|██████████| 24/24 [00:06<00:00,  3.48it/s]"
          ]
        },
        {
          "output_type": "stream",
          "name": "stdout",
          "text": [
            "                   all        738       1001      0.909      0.876      0.933      0.728\n"
          ]
        },
        {
          "output_type": "stream",
          "name": "stderr",
          "text": [
            "\n"
          ]
        },
        {
          "output_type": "stream",
          "name": "stdout",
          "text": [
            "\n",
            "      Epoch    GPU_mem   box_loss   cls_loss   dfl_loss  Instances       Size\n"
          ]
        },
        {
          "output_type": "stream",
          "name": "stderr",
          "text": [
            "     28/100         3G     0.8803     0.9296      1.257         11        640: 100%|██████████| 185/185 [00:56<00:00,  3.27it/s]\n",
            "                 Class     Images  Instances      Box(P          R      mAP50  mAP50-95): 100%|██████████| 24/24 [00:05<00:00,  4.08it/s]"
          ]
        },
        {
          "output_type": "stream",
          "name": "stdout",
          "text": [
            "                   all        738       1001      0.913      0.885      0.938      0.724\n"
          ]
        },
        {
          "output_type": "stream",
          "name": "stderr",
          "text": [
            "\n"
          ]
        },
        {
          "output_type": "stream",
          "name": "stdout",
          "text": [
            "\n",
            "      Epoch    GPU_mem   box_loss   cls_loss   dfl_loss  Instances       Size\n"
          ]
        },
        {
          "output_type": "stream",
          "name": "stderr",
          "text": [
            "     29/100      3.02G     0.8812     0.9115      1.249         11        640: 100%|██████████| 185/185 [00:54<00:00,  3.36it/s]\n",
            "                 Class     Images  Instances      Box(P          R      mAP50  mAP50-95): 100%|██████████| 24/24 [00:07<00:00,  3.18it/s]"
          ]
        },
        {
          "output_type": "stream",
          "name": "stdout",
          "text": [
            "                   all        738       1001      0.891      0.891       0.93      0.722\n"
          ]
        },
        {
          "output_type": "stream",
          "name": "stderr",
          "text": [
            "\n"
          ]
        },
        {
          "output_type": "stream",
          "name": "stdout",
          "text": [
            "\n",
            "      Epoch    GPU_mem   box_loss   cls_loss   dfl_loss  Instances       Size\n"
          ]
        },
        {
          "output_type": "stream",
          "name": "stderr",
          "text": [
            "     30/100      3.04G     0.8783     0.9038      1.247         12        640: 100%|██████████| 185/185 [00:56<00:00,  3.28it/s]\n",
            "                 Class     Images  Instances      Box(P          R      mAP50  mAP50-95): 100%|██████████| 24/24 [00:06<00:00,  3.80it/s]"
          ]
        },
        {
          "output_type": "stream",
          "name": "stdout",
          "text": [
            "                   all        738       1001      0.926      0.895      0.941      0.739\n"
          ]
        },
        {
          "output_type": "stream",
          "name": "stderr",
          "text": [
            "\n"
          ]
        },
        {
          "output_type": "stream",
          "name": "stdout",
          "text": [
            "\n",
            "      Epoch    GPU_mem   box_loss   cls_loss   dfl_loss  Instances       Size\n"
          ]
        },
        {
          "output_type": "stream",
          "name": "stderr",
          "text": [
            "     31/100      3.06G     0.8707     0.9029      1.247         14        640: 100%|██████████| 185/185 [00:58<00:00,  3.16it/s]\n",
            "                 Class     Images  Instances      Box(P          R      mAP50  mAP50-95): 100%|██████████| 24/24 [00:07<00:00,  3.01it/s]"
          ]
        },
        {
          "output_type": "stream",
          "name": "stdout",
          "text": [
            "                   all        738       1001      0.901      0.917       0.95      0.749\n"
          ]
        },
        {
          "output_type": "stream",
          "name": "stderr",
          "text": [
            "\n"
          ]
        },
        {
          "output_type": "stream",
          "name": "stdout",
          "text": [
            "\n",
            "      Epoch    GPU_mem   box_loss   cls_loss   dfl_loss  Instances       Size\n"
          ]
        },
        {
          "output_type": "stream",
          "name": "stderr",
          "text": [
            "     32/100      3.07G     0.8652     0.8933      1.245         17        640: 100%|██████████| 185/185 [00:56<00:00,  3.27it/s]\n",
            "                 Class     Images  Instances      Box(P          R      mAP50  mAP50-95): 100%|██████████| 24/24 [00:06<00:00,  3.81it/s]"
          ]
        },
        {
          "output_type": "stream",
          "name": "stdout",
          "text": [
            "                   all        738       1001      0.905      0.908      0.947      0.751\n"
          ]
        },
        {
          "output_type": "stream",
          "name": "stderr",
          "text": [
            "\n"
          ]
        },
        {
          "output_type": "stream",
          "name": "stdout",
          "text": [
            "\n",
            "      Epoch    GPU_mem   box_loss   cls_loss   dfl_loss  Instances       Size\n"
          ]
        },
        {
          "output_type": "stream",
          "name": "stderr",
          "text": [
            "     33/100      3.09G     0.8511     0.8747      1.233         12        640: 100%|██████████| 185/185 [00:57<00:00,  3.24it/s]\n",
            "                 Class     Images  Instances      Box(P          R      mAP50  mAP50-95): 100%|██████████| 24/24 [00:07<00:00,  3.18it/s]"
          ]
        },
        {
          "output_type": "stream",
          "name": "stdout",
          "text": [
            "                   all        738       1001      0.906      0.915      0.951       0.75\n"
          ]
        },
        {
          "output_type": "stream",
          "name": "stderr",
          "text": [
            "\n"
          ]
        },
        {
          "output_type": "stream",
          "name": "stdout",
          "text": [
            "\n",
            "      Epoch    GPU_mem   box_loss   cls_loss   dfl_loss  Instances       Size\n"
          ]
        },
        {
          "output_type": "stream",
          "name": "stderr",
          "text": [
            "     34/100      3.11G     0.8469     0.8828      1.238          9        640: 100%|██████████| 185/185 [00:56<00:00,  3.26it/s]\n",
            "                 Class     Images  Instances      Box(P          R      mAP50  mAP50-95): 100%|██████████| 24/24 [00:06<00:00,  3.89it/s]"
          ]
        },
        {
          "output_type": "stream",
          "name": "stdout",
          "text": [
            "                   all        738       1001      0.933      0.893      0.943      0.758\n"
          ]
        },
        {
          "output_type": "stream",
          "name": "stderr",
          "text": [
            "\n"
          ]
        },
        {
          "output_type": "stream",
          "name": "stdout",
          "text": [
            "\n",
            "      Epoch    GPU_mem   box_loss   cls_loss   dfl_loss  Instances       Size\n"
          ]
        },
        {
          "output_type": "stream",
          "name": "stderr",
          "text": [
            "     35/100      3.13G     0.8447       0.85      1.219          9        640: 100%|██████████| 185/185 [00:56<00:00,  3.28it/s]\n",
            "                 Class     Images  Instances      Box(P          R      mAP50  mAP50-95): 100%|██████████| 24/24 [00:06<00:00,  3.67it/s]\n"
          ]
        },
        {
          "output_type": "stream",
          "name": "stdout",
          "text": [
            "                   all        738       1001      0.934      0.913      0.957      0.776\n",
            "\n",
            "      Epoch    GPU_mem   box_loss   cls_loss   dfl_loss  Instances       Size\n"
          ]
        },
        {
          "output_type": "stream",
          "name": "stderr",
          "text": [
            "     36/100      3.13G     0.8164      0.833      1.214         14        640: 100%|██████████| 185/185 [00:54<00:00,  3.40it/s]\n",
            "                 Class     Images  Instances      Box(P          R      mAP50  mAP50-95): 100%|██████████| 24/24 [00:07<00:00,  3.11it/s]"
          ]
        },
        {
          "output_type": "stream",
          "name": "stdout",
          "text": [
            "                   all        738       1001      0.933       0.93      0.964      0.784\n"
          ]
        },
        {
          "output_type": "stream",
          "name": "stderr",
          "text": [
            "\n"
          ]
        },
        {
          "output_type": "stream",
          "name": "stdout",
          "text": [
            "\n",
            "      Epoch    GPU_mem   box_loss   cls_loss   dfl_loss  Instances       Size\n"
          ]
        },
        {
          "output_type": "stream",
          "name": "stderr",
          "text": [
            "     37/100      3.16G     0.8247     0.8251      1.213         20        640: 100%|██████████| 185/185 [00:54<00:00,  3.36it/s]\n",
            "                 Class     Images  Instances      Box(P          R      mAP50  mAP50-95): 100%|██████████| 24/24 [00:06<00:00,  3.96it/s]"
          ]
        },
        {
          "output_type": "stream",
          "name": "stdout",
          "text": [
            "                   all        738       1001      0.932      0.915      0.961      0.785\n"
          ]
        },
        {
          "output_type": "stream",
          "name": "stderr",
          "text": [
            "\n"
          ]
        },
        {
          "output_type": "stream",
          "name": "stdout",
          "text": [
            "\n",
            "      Epoch    GPU_mem   box_loss   cls_loss   dfl_loss  Instances       Size\n"
          ]
        },
        {
          "output_type": "stream",
          "name": "stderr",
          "text": [
            "     38/100      3.18G      0.811     0.8182      1.204         18        640: 100%|██████████| 185/185 [00:55<00:00,  3.35it/s]\n",
            "                 Class     Images  Instances      Box(P          R      mAP50  mAP50-95): 100%|██████████| 24/24 [00:07<00:00,  3.19it/s]"
          ]
        },
        {
          "output_type": "stream",
          "name": "stdout",
          "text": [
            "                   all        738       1001      0.907      0.925      0.955      0.772\n"
          ]
        },
        {
          "output_type": "stream",
          "name": "stderr",
          "text": [
            "\n"
          ]
        },
        {
          "output_type": "stream",
          "name": "stdout",
          "text": [
            "\n",
            "      Epoch    GPU_mem   box_loss   cls_loss   dfl_loss  Instances       Size\n"
          ]
        },
        {
          "output_type": "stream",
          "name": "stderr",
          "text": [
            "     39/100       3.2G     0.8094     0.8194      1.205         12        640: 100%|██████████| 185/185 [00:54<00:00,  3.42it/s]\n",
            "                 Class     Images  Instances      Box(P          R      mAP50  mAP50-95): 100%|██████████| 24/24 [00:07<00:00,  3.33it/s]"
          ]
        },
        {
          "output_type": "stream",
          "name": "stdout",
          "text": [
            "                   all        738       1001      0.942      0.913      0.966      0.784\n"
          ]
        },
        {
          "output_type": "stream",
          "name": "stderr",
          "text": [
            "\n"
          ]
        },
        {
          "output_type": "stream",
          "name": "stdout",
          "text": [
            "\n",
            "      Epoch    GPU_mem   box_loss   cls_loss   dfl_loss  Instances       Size\n"
          ]
        },
        {
          "output_type": "stream",
          "name": "stderr",
          "text": [
            "     40/100       3.2G     0.8028     0.8157      1.202         12        640: 100%|██████████| 185/185 [00:54<00:00,  3.37it/s]\n",
            "                 Class     Images  Instances      Box(P          R      mAP50  mAP50-95): 100%|██████████| 24/24 [00:06<00:00,  3.88it/s]"
          ]
        },
        {
          "output_type": "stream",
          "name": "stdout",
          "text": [
            "                   all        738       1001      0.939      0.933      0.962      0.791\n"
          ]
        },
        {
          "output_type": "stream",
          "name": "stderr",
          "text": [
            "\n"
          ]
        },
        {
          "output_type": "stream",
          "name": "stdout",
          "text": [
            "\n",
            "      Epoch    GPU_mem   box_loss   cls_loss   dfl_loss  Instances       Size\n"
          ]
        },
        {
          "output_type": "stream",
          "name": "stderr",
          "text": [
            "     41/100      3.23G     0.8002     0.7935      1.195         11        640: 100%|██████████| 185/185 [00:54<00:00,  3.38it/s]\n",
            "                 Class     Images  Instances      Box(P          R      mAP50  mAP50-95): 100%|██████████| 24/24 [00:07<00:00,  3.21it/s]"
          ]
        },
        {
          "output_type": "stream",
          "name": "stdout",
          "text": [
            "                   all        738       1001      0.949      0.926      0.969      0.791\n"
          ]
        },
        {
          "output_type": "stream",
          "name": "stderr",
          "text": [
            "\n"
          ]
        },
        {
          "output_type": "stream",
          "name": "stdout",
          "text": [
            "\n",
            "      Epoch    GPU_mem   box_loss   cls_loss   dfl_loss  Instances       Size\n"
          ]
        },
        {
          "output_type": "stream",
          "name": "stderr",
          "text": [
            "     42/100      3.24G     0.7936     0.7817      1.193          9        640: 100%|██████████| 185/185 [00:52<00:00,  3.49it/s]\n",
            "                 Class     Images  Instances      Box(P          R      mAP50  mAP50-95): 100%|██████████| 24/24 [00:07<00:00,  3.35it/s]"
          ]
        },
        {
          "output_type": "stream",
          "name": "stdout",
          "text": [
            "                   all        738       1001      0.948      0.937      0.968      0.797\n"
          ]
        },
        {
          "output_type": "stream",
          "name": "stderr",
          "text": [
            "\n"
          ]
        },
        {
          "output_type": "stream",
          "name": "stdout",
          "text": [
            "\n",
            "      Epoch    GPU_mem   box_loss   cls_loss   dfl_loss  Instances       Size\n"
          ]
        },
        {
          "output_type": "stream",
          "name": "stderr",
          "text": [
            "     43/100      3.26G      0.774     0.7693       1.18         17        640: 100%|██████████| 185/185 [00:54<00:00,  3.40it/s]\n",
            "                 Class     Images  Instances      Box(P          R      mAP50  mAP50-95): 100%|██████████| 24/24 [00:05<00:00,  4.00it/s]"
          ]
        },
        {
          "output_type": "stream",
          "name": "stdout",
          "text": [
            "                   all        738       1001      0.951      0.945      0.972      0.797\n"
          ]
        },
        {
          "output_type": "stream",
          "name": "stderr",
          "text": [
            "\n"
          ]
        },
        {
          "output_type": "stream",
          "name": "stdout",
          "text": [
            "\n",
            "      Epoch    GPU_mem   box_loss   cls_loss   dfl_loss  Instances       Size\n"
          ]
        },
        {
          "output_type": "stream",
          "name": "stderr",
          "text": [
            "     44/100      3.27G     0.7752     0.7525      1.178         13        640: 100%|██████████| 185/185 [00:54<00:00,  3.42it/s]\n",
            "                 Class     Images  Instances      Box(P          R      mAP50  mAP50-95): 100%|██████████| 24/24 [00:06<00:00,  3.48it/s]\n"
          ]
        },
        {
          "output_type": "stream",
          "name": "stdout",
          "text": [
            "                   all        738       1001      0.953      0.935      0.973      0.804\n",
            "\n",
            "      Epoch    GPU_mem   box_loss   cls_loss   dfl_loss  Instances       Size\n"
          ]
        },
        {
          "output_type": "stream",
          "name": "stderr",
          "text": [
            "     45/100       3.3G      0.768     0.7572      1.177          9        640: 100%|██████████| 185/185 [00:53<00:00,  3.49it/s]\n",
            "                 Class     Images  Instances      Box(P          R      mAP50  mAP50-95): 100%|██████████| 24/24 [00:07<00:00,  3.13it/s]"
          ]
        },
        {
          "output_type": "stream",
          "name": "stdout",
          "text": [
            "                   all        738       1001      0.967      0.934       0.98      0.809\n"
          ]
        },
        {
          "output_type": "stream",
          "name": "stderr",
          "text": [
            "\n"
          ]
        },
        {
          "output_type": "stream",
          "name": "stdout",
          "text": [
            "\n",
            "      Epoch    GPU_mem   box_loss   cls_loss   dfl_loss  Instances       Size\n"
          ]
        },
        {
          "output_type": "stream",
          "name": "stderr",
          "text": [
            "     46/100      3.31G     0.7654     0.7589      1.172         15        640: 100%|██████████| 185/185 [00:54<00:00,  3.42it/s]\n",
            "                 Class     Images  Instances      Box(P          R      mAP50  mAP50-95): 100%|██████████| 24/24 [00:06<00:00,  3.93it/s]"
          ]
        },
        {
          "output_type": "stream",
          "name": "stdout",
          "text": [
            "                   all        738       1001      0.941      0.956       0.98      0.816\n"
          ]
        },
        {
          "output_type": "stream",
          "name": "stderr",
          "text": [
            "\n"
          ]
        },
        {
          "output_type": "stream",
          "name": "stdout",
          "text": [
            "\n",
            "      Epoch    GPU_mem   box_loss   cls_loss   dfl_loss  Instances       Size\n"
          ]
        },
        {
          "output_type": "stream",
          "name": "stderr",
          "text": [
            "     47/100      3.33G      0.752     0.7406      1.166         16        640: 100%|██████████| 185/185 [00:54<00:00,  3.41it/s]\n",
            "                 Class     Images  Instances      Box(P          R      mAP50  mAP50-95): 100%|██████████| 24/24 [00:06<00:00,  3.89it/s]"
          ]
        },
        {
          "output_type": "stream",
          "name": "stdout",
          "text": [
            "                   all        738       1001      0.948      0.941      0.976      0.817\n"
          ]
        },
        {
          "output_type": "stream",
          "name": "stderr",
          "text": [
            "\n"
          ]
        },
        {
          "output_type": "stream",
          "name": "stdout",
          "text": [
            "\n",
            "      Epoch    GPU_mem   box_loss   cls_loss   dfl_loss  Instances       Size\n"
          ]
        },
        {
          "output_type": "stream",
          "name": "stderr",
          "text": [
            "     48/100      3.34G     0.7572     0.7543      1.165          9        640: 100%|██████████| 185/185 [00:54<00:00,  3.39it/s]\n",
            "                 Class     Images  Instances      Box(P          R      mAP50  mAP50-95): 100%|██████████| 24/24 [00:07<00:00,  3.22it/s]"
          ]
        },
        {
          "output_type": "stream",
          "name": "stdout",
          "text": [
            "                   all        738       1001      0.968      0.941      0.979      0.818\n"
          ]
        },
        {
          "output_type": "stream",
          "name": "stderr",
          "text": [
            "\n"
          ]
        },
        {
          "output_type": "stream",
          "name": "stdout",
          "text": [
            "\n",
            "      Epoch    GPU_mem   box_loss   cls_loss   dfl_loss  Instances       Size\n"
          ]
        },
        {
          "output_type": "stream",
          "name": "stderr",
          "text": [
            "     49/100      3.37G     0.7529     0.7317      1.167         11        640: 100%|██████████| 185/185 [00:54<00:00,  3.37it/s]\n",
            "                 Class     Images  Instances      Box(P          R      mAP50  mAP50-95): 100%|██████████| 24/24 [00:06<00:00,  3.94it/s]"
          ]
        },
        {
          "output_type": "stream",
          "name": "stdout",
          "text": [
            "                   all        738       1001      0.958      0.931      0.975      0.815\n"
          ]
        },
        {
          "output_type": "stream",
          "name": "stderr",
          "text": [
            "\n"
          ]
        },
        {
          "output_type": "stream",
          "name": "stdout",
          "text": [
            "\n",
            "      Epoch    GPU_mem   box_loss   cls_loss   dfl_loss  Instances       Size\n"
          ]
        },
        {
          "output_type": "stream",
          "name": "stderr",
          "text": [
            "     50/100      3.38G     0.7465     0.7323      1.164          9        640: 100%|██████████| 185/185 [00:55<00:00,  3.35it/s]\n",
            "                 Class     Images  Instances      Box(P          R      mAP50  mAP50-95): 100%|██████████| 24/24 [00:06<00:00,  3.83it/s]"
          ]
        },
        {
          "output_type": "stream",
          "name": "stdout",
          "text": [
            "                   all        738       1001      0.957      0.932      0.971      0.814\n"
          ]
        },
        {
          "output_type": "stream",
          "name": "stderr",
          "text": [
            "\n"
          ]
        },
        {
          "output_type": "stream",
          "name": "stdout",
          "text": [
            "\n",
            "      Epoch    GPU_mem   box_loss   cls_loss   dfl_loss  Instances       Size\n"
          ]
        },
        {
          "output_type": "stream",
          "name": "stderr",
          "text": [
            "     51/100       3.4G     0.7355     0.7117      1.156         12        640: 100%|██████████| 185/185 [00:54<00:00,  3.41it/s]\n",
            "                 Class     Images  Instances      Box(P          R      mAP50  mAP50-95): 100%|██████████| 24/24 [00:07<00:00,  3.27it/s]"
          ]
        },
        {
          "output_type": "stream",
          "name": "stdout",
          "text": [
            "                   all        738       1001      0.966      0.944      0.974      0.807\n"
          ]
        },
        {
          "output_type": "stream",
          "name": "stderr",
          "text": [
            "\n"
          ]
        },
        {
          "output_type": "stream",
          "name": "stdout",
          "text": [
            "\n",
            "      Epoch    GPU_mem   box_loss   cls_loss   dfl_loss  Instances       Size\n"
          ]
        },
        {
          "output_type": "stream",
          "name": "stderr",
          "text": [
            "     52/100       3.4G     0.7378     0.7143       1.16          7        640: 100%|██████████| 185/185 [00:53<00:00,  3.43it/s]\n",
            "                 Class     Images  Instances      Box(P          R      mAP50  mAP50-95): 100%|██████████| 24/24 [00:06<00:00,  3.79it/s]"
          ]
        },
        {
          "output_type": "stream",
          "name": "stdout",
          "text": [
            "                   all        738       1001      0.971      0.948      0.978      0.823\n"
          ]
        },
        {
          "output_type": "stream",
          "name": "stderr",
          "text": [
            "\n"
          ]
        },
        {
          "output_type": "stream",
          "name": "stdout",
          "text": [
            "\n",
            "      Epoch    GPU_mem   box_loss   cls_loss   dfl_loss  Instances       Size\n"
          ]
        },
        {
          "output_type": "stream",
          "name": "stderr",
          "text": [
            "     53/100      3.43G     0.7286     0.7101      1.151         12        640: 100%|██████████| 185/185 [00:54<00:00,  3.40it/s]\n",
            "                 Class     Images  Instances      Box(P          R      mAP50  mAP50-95): 100%|██████████| 24/24 [00:05<00:00,  4.04it/s]"
          ]
        },
        {
          "output_type": "stream",
          "name": "stdout",
          "text": [
            "                   all        738       1001      0.971      0.957      0.978       0.83\n"
          ]
        },
        {
          "output_type": "stream",
          "name": "stderr",
          "text": [
            "\n"
          ]
        },
        {
          "output_type": "stream",
          "name": "stdout",
          "text": [
            "\n",
            "      Epoch    GPU_mem   box_loss   cls_loss   dfl_loss  Instances       Size\n"
          ]
        },
        {
          "output_type": "stream",
          "name": "stderr",
          "text": [
            "     54/100      3.45G     0.7198     0.6902      1.145         18        640: 100%|██████████| 185/185 [00:54<00:00,  3.39it/s]\n",
            "                 Class     Images  Instances      Box(P          R      mAP50  mAP50-95): 100%|██████████| 24/24 [00:07<00:00,  3.28it/s]"
          ]
        },
        {
          "output_type": "stream",
          "name": "stdout",
          "text": [
            "                   all        738       1001      0.958      0.956      0.976      0.828\n"
          ]
        },
        {
          "output_type": "stream",
          "name": "stderr",
          "text": [
            "\n"
          ]
        },
        {
          "output_type": "stream",
          "name": "stdout",
          "text": [
            "\n",
            "      Epoch    GPU_mem   box_loss   cls_loss   dfl_loss  Instances       Size\n"
          ]
        },
        {
          "output_type": "stream",
          "name": "stderr",
          "text": [
            "     55/100      3.47G      0.709     0.6835      1.141         16        640: 100%|██████████| 185/185 [00:53<00:00,  3.48it/s]\n",
            "                 Class     Images  Instances      Box(P          R      mAP50  mAP50-95): 100%|██████████| 24/24 [00:07<00:00,  3.33it/s]"
          ]
        },
        {
          "output_type": "stream",
          "name": "stdout",
          "text": [
            "                   all        738       1001      0.973      0.942      0.979      0.835\n"
          ]
        },
        {
          "output_type": "stream",
          "name": "stderr",
          "text": [
            "\n"
          ]
        },
        {
          "output_type": "stream",
          "name": "stdout",
          "text": [
            "\n",
            "      Epoch    GPU_mem   box_loss   cls_loss   dfl_loss  Instances       Size\n"
          ]
        },
        {
          "output_type": "stream",
          "name": "stderr",
          "text": [
            "     56/100      3.47G     0.7139     0.6725      1.138         19        640: 100%|██████████| 185/185 [00:55<00:00,  3.35it/s]\n",
            "                 Class     Images  Instances      Box(P          R      mAP50  mAP50-95): 100%|██████████| 24/24 [00:05<00:00,  4.12it/s]"
          ]
        },
        {
          "output_type": "stream",
          "name": "stdout",
          "text": [
            "                   all        738       1001      0.973      0.949      0.978      0.836\n"
          ]
        },
        {
          "output_type": "stream",
          "name": "stderr",
          "text": [
            "\n"
          ]
        },
        {
          "output_type": "stream",
          "name": "stdout",
          "text": [
            "\n",
            "      Epoch    GPU_mem   box_loss   cls_loss   dfl_loss  Instances       Size\n"
          ]
        },
        {
          "output_type": "stream",
          "name": "stderr",
          "text": [
            "     57/100       3.5G     0.7023     0.6776      1.135         12        640: 100%|██████████| 185/185 [00:55<00:00,  3.33it/s]\n",
            "                 Class     Images  Instances      Box(P          R      mAP50  mAP50-95): 100%|██████████| 24/24 [00:07<00:00,  3.20it/s]"
          ]
        },
        {
          "output_type": "stream",
          "name": "stdout",
          "text": [
            "                   all        738       1001      0.967      0.966      0.984      0.837\n"
          ]
        },
        {
          "output_type": "stream",
          "name": "stderr",
          "text": [
            "\n"
          ]
        },
        {
          "output_type": "stream",
          "name": "stdout",
          "text": [
            "\n",
            "      Epoch    GPU_mem   box_loss   cls_loss   dfl_loss  Instances       Size\n"
          ]
        },
        {
          "output_type": "stream",
          "name": "stderr",
          "text": [
            "     58/100      3.52G     0.6999     0.6638      1.133         14        640: 100%|██████████| 185/185 [00:52<00:00,  3.51it/s]\n",
            "                 Class     Images  Instances      Box(P          R      mAP50  mAP50-95): 100%|██████████| 24/24 [00:07<00:00,  3.24it/s]"
          ]
        },
        {
          "output_type": "stream",
          "name": "stdout",
          "text": [
            "                   all        738       1001       0.98      0.948      0.984      0.847\n"
          ]
        },
        {
          "output_type": "stream",
          "name": "stderr",
          "text": [
            "\n"
          ]
        },
        {
          "output_type": "stream",
          "name": "stdout",
          "text": [
            "\n",
            "      Epoch    GPU_mem   box_loss   cls_loss   dfl_loss  Instances       Size\n"
          ]
        },
        {
          "output_type": "stream",
          "name": "stderr",
          "text": [
            "     59/100      3.54G     0.7039     0.6746      1.138          8        640: 100%|██████████| 185/185 [00:54<00:00,  3.40it/s]\n",
            "                 Class     Images  Instances      Box(P          R      mAP50  mAP50-95): 100%|██████████| 24/24 [00:05<00:00,  4.02it/s]"
          ]
        },
        {
          "output_type": "stream",
          "name": "stdout",
          "text": [
            "                   all        738       1001      0.976      0.951      0.977      0.843\n"
          ]
        },
        {
          "output_type": "stream",
          "name": "stderr",
          "text": [
            "\n"
          ]
        },
        {
          "output_type": "stream",
          "name": "stdout",
          "text": [
            "\n",
            "      Epoch    GPU_mem   box_loss   cls_loss   dfl_loss  Instances       Size\n"
          ]
        },
        {
          "output_type": "stream",
          "name": "stderr",
          "text": [
            "     60/100      3.54G     0.6906     0.6548      1.126         12        640: 100%|██████████| 185/185 [00:54<00:00,  3.40it/s]\n",
            "                 Class     Images  Instances      Box(P          R      mAP50  mAP50-95): 100%|██████████| 24/24 [00:07<00:00,  3.27it/s]"
          ]
        },
        {
          "output_type": "stream",
          "name": "stdout",
          "text": [
            "                   all        738       1001      0.972      0.957       0.98      0.843\n"
          ]
        },
        {
          "output_type": "stream",
          "name": "stderr",
          "text": [
            "\n"
          ]
        },
        {
          "output_type": "stream",
          "name": "stdout",
          "text": [
            "\n",
            "      Epoch    GPU_mem   box_loss   cls_loss   dfl_loss  Instances       Size\n"
          ]
        },
        {
          "output_type": "stream",
          "name": "stderr",
          "text": [
            "     61/100      3.57G     0.6788     0.6607      1.118         17        640: 100%|██████████| 185/185 [00:52<00:00,  3.52it/s]\n",
            "                 Class     Images  Instances      Box(P          R      mAP50  mAP50-95): 100%|██████████| 24/24 [00:07<00:00,  3.15it/s]"
          ]
        },
        {
          "output_type": "stream",
          "name": "stdout",
          "text": [
            "                   all        738       1001      0.972      0.964      0.982       0.85\n"
          ]
        },
        {
          "output_type": "stream",
          "name": "stderr",
          "text": [
            "\n"
          ]
        },
        {
          "output_type": "stream",
          "name": "stdout",
          "text": [
            "\n",
            "      Epoch    GPU_mem   box_loss   cls_loss   dfl_loss  Instances       Size\n"
          ]
        },
        {
          "output_type": "stream",
          "name": "stderr",
          "text": [
            "     62/100      3.59G     0.6823     0.6352      1.118         15        640: 100%|██████████| 185/185 [00:54<00:00,  3.41it/s]\n",
            "                 Class     Images  Instances      Box(P          R      mAP50  mAP50-95): 100%|██████████| 24/24 [00:06<00:00,  3.93it/s]"
          ]
        },
        {
          "output_type": "stream",
          "name": "stdout",
          "text": [
            "                   all        738       1001      0.972      0.967      0.982      0.852\n"
          ]
        },
        {
          "output_type": "stream",
          "name": "stderr",
          "text": [
            "\n"
          ]
        },
        {
          "output_type": "stream",
          "name": "stdout",
          "text": [
            "\n",
            "      Epoch    GPU_mem   box_loss   cls_loss   dfl_loss  Instances       Size\n"
          ]
        },
        {
          "output_type": "stream",
          "name": "stderr",
          "text": [
            "     63/100      3.61G     0.6758     0.6312      1.116         11        640: 100%|██████████| 185/185 [00:54<00:00,  3.42it/s]\n",
            "                 Class     Images  Instances      Box(P          R      mAP50  mAP50-95): 100%|██████████| 24/24 [00:06<00:00,  3.82it/s]"
          ]
        },
        {
          "output_type": "stream",
          "name": "stdout",
          "text": [
            "                   all        738       1001      0.981      0.964      0.981      0.857\n"
          ]
        },
        {
          "output_type": "stream",
          "name": "stderr",
          "text": [
            "\n"
          ]
        },
        {
          "output_type": "stream",
          "name": "stdout",
          "text": [
            "\n",
            "      Epoch    GPU_mem   box_loss   cls_loss   dfl_loss  Instances       Size\n"
          ]
        },
        {
          "output_type": "stream",
          "name": "stderr",
          "text": [
            "     64/100      3.61G     0.6697     0.6359      1.115         11        640: 100%|██████████| 185/185 [00:53<00:00,  3.44it/s]\n",
            "                 Class     Images  Instances      Box(P          R      mAP50  mAP50-95): 100%|██████████| 24/24 [00:07<00:00,  3.25it/s]"
          ]
        },
        {
          "output_type": "stream",
          "name": "stdout",
          "text": [
            "                   all        738       1001      0.975      0.964      0.979      0.851\n"
          ]
        },
        {
          "output_type": "stream",
          "name": "stderr",
          "text": [
            "\n"
          ]
        },
        {
          "output_type": "stream",
          "name": "stdout",
          "text": [
            "\n",
            "      Epoch    GPU_mem   box_loss   cls_loss   dfl_loss  Instances       Size\n"
          ]
        },
        {
          "output_type": "stream",
          "name": "stderr",
          "text": [
            "     65/100      3.64G     0.6656     0.6244      1.112         12        640: 100%|██████████| 185/185 [00:53<00:00,  3.44it/s]\n",
            "                 Class     Images  Instances      Box(P          R      mAP50  mAP50-95): 100%|██████████| 24/24 [00:06<00:00,  3.47it/s]"
          ]
        },
        {
          "output_type": "stream",
          "name": "stdout",
          "text": [
            "                   all        738       1001      0.976      0.967      0.981      0.857\n"
          ]
        },
        {
          "output_type": "stream",
          "name": "stderr",
          "text": [
            "\n"
          ]
        },
        {
          "output_type": "stream",
          "name": "stdout",
          "text": [
            "\n",
            "      Epoch    GPU_mem   box_loss   cls_loss   dfl_loss  Instances       Size\n"
          ]
        },
        {
          "output_type": "stream",
          "name": "stderr",
          "text": [
            "     66/100      3.65G     0.6465     0.6136      1.102         14        640: 100%|██████████| 185/185 [00:54<00:00,  3.42it/s]\n",
            "                 Class     Images  Instances      Box(P          R      mAP50  mAP50-95): 100%|██████████| 24/24 [00:05<00:00,  4.03it/s]"
          ]
        },
        {
          "output_type": "stream",
          "name": "stdout",
          "text": [
            "                   all        738       1001      0.974       0.97      0.982       0.86\n"
          ]
        },
        {
          "output_type": "stream",
          "name": "stderr",
          "text": [
            "\n"
          ]
        },
        {
          "output_type": "stream",
          "name": "stdout",
          "text": [
            "\n",
            "      Epoch    GPU_mem   box_loss   cls_loss   dfl_loss  Instances       Size\n"
          ]
        },
        {
          "output_type": "stream",
          "name": "stderr",
          "text": [
            "     67/100      3.67G     0.6477     0.5989      1.101         14        640: 100%|██████████| 185/185 [00:54<00:00,  3.39it/s]\n",
            "                 Class     Images  Instances      Box(P          R      mAP50  mAP50-95): 100%|██████████| 24/24 [00:06<00:00,  3.47it/s]"
          ]
        },
        {
          "output_type": "stream",
          "name": "stdout",
          "text": [
            "                   all        738       1001      0.974       0.97      0.982      0.862\n"
          ]
        },
        {
          "output_type": "stream",
          "name": "stderr",
          "text": [
            "\n"
          ]
        },
        {
          "output_type": "stream",
          "name": "stdout",
          "text": [
            "\n",
            "      Epoch    GPU_mem   box_loss   cls_loss   dfl_loss  Instances       Size\n"
          ]
        },
        {
          "output_type": "stream",
          "name": "stderr",
          "text": [
            "     68/100      3.68G     0.6592     0.6173      1.104         11        640: 100%|██████████| 185/185 [00:53<00:00,  3.44it/s]\n",
            "                 Class     Images  Instances      Box(P          R      mAP50  mAP50-95): 100%|██████████| 24/24 [00:07<00:00,  3.22it/s]"
          ]
        },
        {
          "output_type": "stream",
          "name": "stdout",
          "text": [
            "                   all        738       1001      0.972      0.972      0.979       0.86\n"
          ]
        },
        {
          "output_type": "stream",
          "name": "stderr",
          "text": [
            "\n"
          ]
        },
        {
          "output_type": "stream",
          "name": "stdout",
          "text": [
            "\n",
            "      Epoch    GPU_mem   box_loss   cls_loss   dfl_loss  Instances       Size\n"
          ]
        },
        {
          "output_type": "stream",
          "name": "stderr",
          "text": [
            "     69/100      3.71G     0.6428     0.6013      1.102          8        640: 100%|██████████| 185/185 [00:54<00:00,  3.37it/s]\n",
            "                 Class     Images  Instances      Box(P          R      mAP50  mAP50-95): 100%|██████████| 24/24 [00:06<00:00,  3.81it/s]"
          ]
        },
        {
          "output_type": "stream",
          "name": "stdout",
          "text": [
            "                   all        738       1001      0.982      0.961      0.981      0.866\n"
          ]
        },
        {
          "output_type": "stream",
          "name": "stderr",
          "text": [
            "\n"
          ]
        },
        {
          "output_type": "stream",
          "name": "stdout",
          "text": [
            "\n",
            "      Epoch    GPU_mem   box_loss   cls_loss   dfl_loss  Instances       Size\n"
          ]
        },
        {
          "output_type": "stream",
          "name": "stderr",
          "text": [
            "     70/100      3.73G     0.6504      0.601      1.104         15        640: 100%|██████████| 185/185 [00:54<00:00,  3.39it/s]\n",
            "                 Class     Images  Instances      Box(P          R      mAP50  mAP50-95): 100%|██████████| 24/24 [00:06<00:00,  3.50it/s]"
          ]
        },
        {
          "output_type": "stream",
          "name": "stdout",
          "text": [
            "                   all        738       1001      0.968      0.969      0.978      0.868\n"
          ]
        },
        {
          "output_type": "stream",
          "name": "stderr",
          "text": [
            "\n"
          ]
        },
        {
          "output_type": "stream",
          "name": "stdout",
          "text": [
            "\n",
            "      Epoch    GPU_mem   box_loss   cls_loss   dfl_loss  Instances       Size\n"
          ]
        },
        {
          "output_type": "stream",
          "name": "stderr",
          "text": [
            "     71/100      3.74G     0.6333     0.5759      1.092         17        640: 100%|██████████| 185/185 [00:53<00:00,  3.44it/s]\n",
            "                 Class     Images  Instances      Box(P          R      mAP50  mAP50-95): 100%|██████████| 24/24 [00:07<00:00,  3.21it/s]"
          ]
        },
        {
          "output_type": "stream",
          "name": "stdout",
          "text": [
            "                   all        738       1001       0.98      0.971      0.982       0.87\n"
          ]
        },
        {
          "output_type": "stream",
          "name": "stderr",
          "text": [
            "\n"
          ]
        },
        {
          "output_type": "stream",
          "name": "stdout",
          "text": [
            "\n",
            "      Epoch    GPU_mem   box_loss   cls_loss   dfl_loss  Instances       Size\n"
          ]
        },
        {
          "output_type": "stream",
          "name": "stderr",
          "text": [
            "     72/100      3.75G     0.6422     0.6012      1.096         12        640: 100%|██████████| 185/185 [00:54<00:00,  3.39it/s]\n",
            "                 Class     Images  Instances      Box(P          R      mAP50  mAP50-95): 100%|██████████| 24/24 [00:06<00:00,  3.92it/s]"
          ]
        },
        {
          "output_type": "stream",
          "name": "stdout",
          "text": [
            "                   all        738       1001      0.977      0.977      0.986      0.875\n"
          ]
        },
        {
          "output_type": "stream",
          "name": "stderr",
          "text": [
            "\n"
          ]
        },
        {
          "output_type": "stream",
          "name": "stdout",
          "text": [
            "\n",
            "      Epoch    GPU_mem   box_loss   cls_loss   dfl_loss  Instances       Size\n"
          ]
        },
        {
          "output_type": "stream",
          "name": "stderr",
          "text": [
            "     73/100      3.78G     0.6291     0.5845      1.091         12        640: 100%|██████████| 185/185 [00:54<00:00,  3.41it/s]\n",
            "                 Class     Images  Instances      Box(P          R      mAP50  mAP50-95): 100%|██████████| 24/24 [00:06<00:00,  3.95it/s]"
          ]
        },
        {
          "output_type": "stream",
          "name": "stdout",
          "text": [
            "                   all        738       1001      0.977      0.974      0.983      0.876\n"
          ]
        },
        {
          "output_type": "stream",
          "name": "stderr",
          "text": [
            "\n"
          ]
        },
        {
          "output_type": "stream",
          "name": "stdout",
          "text": [
            "\n",
            "      Epoch    GPU_mem   box_loss   cls_loss   dfl_loss  Instances       Size\n"
          ]
        },
        {
          "output_type": "stream",
          "name": "stderr",
          "text": [
            "     74/100      3.79G      0.622     0.5824      1.089         18        640: 100%|██████████| 185/185 [00:54<00:00,  3.41it/s]\n",
            "                 Class     Images  Instances      Box(P          R      mAP50  mAP50-95): 100%|██████████| 24/24 [00:07<00:00,  3.23it/s]"
          ]
        },
        {
          "output_type": "stream",
          "name": "stdout",
          "text": [
            "                   all        738       1001      0.983      0.966      0.986      0.877\n"
          ]
        },
        {
          "output_type": "stream",
          "name": "stderr",
          "text": [
            "\n"
          ]
        },
        {
          "output_type": "stream",
          "name": "stdout",
          "text": [
            "\n",
            "      Epoch    GPU_mem   box_loss   cls_loss   dfl_loss  Instances       Size\n"
          ]
        },
        {
          "output_type": "stream",
          "name": "stderr",
          "text": [
            "     75/100      3.81G     0.6229     0.5809      1.085         18        640: 100%|██████████| 185/185 [00:53<00:00,  3.47it/s]\n",
            "                 Class     Images  Instances      Box(P          R      mAP50  mAP50-95): 100%|██████████| 24/24 [00:06<00:00,  3.47it/s]"
          ]
        },
        {
          "output_type": "stream",
          "name": "stdout",
          "text": [
            "                   all        738       1001      0.983      0.968      0.981      0.872\n"
          ]
        },
        {
          "output_type": "stream",
          "name": "stderr",
          "text": [
            "\n"
          ]
        },
        {
          "output_type": "stream",
          "name": "stdout",
          "text": [
            "\n",
            "      Epoch    GPU_mem   box_loss   cls_loss   dfl_loss  Instances       Size\n"
          ]
        },
        {
          "output_type": "stream",
          "name": "stderr",
          "text": [
            "     76/100      3.82G     0.6088     0.5606      1.078         14        640: 100%|██████████| 185/185 [00:53<00:00,  3.43it/s]\n",
            "                 Class     Images  Instances      Box(P          R      mAP50  mAP50-95): 100%|██████████| 24/24 [00:06<00:00,  3.99it/s]"
          ]
        },
        {
          "output_type": "stream",
          "name": "stdout",
          "text": [
            "                   all        738       1001      0.974      0.966      0.982      0.876\n"
          ]
        },
        {
          "output_type": "stream",
          "name": "stderr",
          "text": [
            "\n"
          ]
        },
        {
          "output_type": "stream",
          "name": "stdout",
          "text": [
            "\n",
            "      Epoch    GPU_mem   box_loss   cls_loss   dfl_loss  Instances       Size\n"
          ]
        },
        {
          "output_type": "stream",
          "name": "stderr",
          "text": [
            "     77/100      3.84G     0.6135     0.5586      1.082          9        640: 100%|██████████| 185/185 [00:54<00:00,  3.41it/s]\n",
            "                 Class     Images  Instances      Box(P          R      mAP50  mAP50-95): 100%|██████████| 24/24 [00:06<00:00,  3.73it/s]"
          ]
        },
        {
          "output_type": "stream",
          "name": "stdout",
          "text": [
            "                   all        738       1001      0.981      0.972      0.983      0.879\n"
          ]
        },
        {
          "output_type": "stream",
          "name": "stderr",
          "text": [
            "\n"
          ]
        },
        {
          "output_type": "stream",
          "name": "stdout",
          "text": [
            "\n",
            "      Epoch    GPU_mem   box_loss   cls_loss   dfl_loss  Instances       Size\n"
          ]
        },
        {
          "output_type": "stream",
          "name": "stderr",
          "text": [
            "     78/100      3.86G     0.6182     0.5816      1.085         12        640: 100%|██████████| 185/185 [00:53<00:00,  3.48it/s]\n",
            "                 Class     Images  Instances      Box(P          R      mAP50  mAP50-95): 100%|██████████| 24/24 [00:07<00:00,  3.21it/s]"
          ]
        },
        {
          "output_type": "stream",
          "name": "stdout",
          "text": [
            "                   all        738       1001       0.98      0.972      0.983      0.872\n"
          ]
        },
        {
          "output_type": "stream",
          "name": "stderr",
          "text": [
            "\n"
          ]
        },
        {
          "output_type": "stream",
          "name": "stdout",
          "text": [
            "\n",
            "      Epoch    GPU_mem   box_loss   cls_loss   dfl_loss  Instances       Size\n"
          ]
        },
        {
          "output_type": "stream",
          "name": "stderr",
          "text": [
            "     79/100      3.88G     0.6166     0.5699      1.082         11        640: 100%|██████████| 185/185 [00:54<00:00,  3.40it/s]\n",
            "                 Class     Images  Instances      Box(P          R      mAP50  mAP50-95): 100%|██████████| 24/24 [00:06<00:00,  3.98it/s]"
          ]
        },
        {
          "output_type": "stream",
          "name": "stdout",
          "text": [
            "                   all        738       1001      0.975       0.97      0.982      0.883\n"
          ]
        },
        {
          "output_type": "stream",
          "name": "stderr",
          "text": [
            "\n"
          ]
        },
        {
          "output_type": "stream",
          "name": "stdout",
          "text": [
            "\n",
            "      Epoch    GPU_mem   box_loss   cls_loss   dfl_loss  Instances       Size\n"
          ]
        },
        {
          "output_type": "stream",
          "name": "stderr",
          "text": [
            "     80/100      3.88G     0.6153     0.5736      1.083          9        640: 100%|██████████| 185/185 [00:55<00:00,  3.35it/s]\n",
            "                 Class     Images  Instances      Box(P          R      mAP50  mAP50-95): 100%|██████████| 24/24 [00:06<00:00,  3.97it/s]"
          ]
        },
        {
          "output_type": "stream",
          "name": "stdout",
          "text": [
            "                   all        738       1001      0.983      0.971      0.982      0.882\n"
          ]
        },
        {
          "output_type": "stream",
          "name": "stderr",
          "text": [
            "\n"
          ]
        },
        {
          "output_type": "stream",
          "name": "stdout",
          "text": [
            "\n",
            "      Epoch    GPU_mem   box_loss   cls_loss   dfl_loss  Instances       Size\n"
          ]
        },
        {
          "output_type": "stream",
          "name": "stderr",
          "text": [
            "     81/100      3.91G     0.6078     0.5578      1.081         12        640: 100%|██████████| 185/185 [00:53<00:00,  3.43it/s]\n",
            "                 Class     Images  Instances      Box(P          R      mAP50  mAP50-95): 100%|██████████| 24/24 [00:07<00:00,  3.19it/s]"
          ]
        },
        {
          "output_type": "stream",
          "name": "stdout",
          "text": [
            "                   all        738       1001      0.981      0.974      0.985      0.883\n"
          ]
        },
        {
          "output_type": "stream",
          "name": "stderr",
          "text": [
            "\n"
          ]
        },
        {
          "output_type": "stream",
          "name": "stdout",
          "text": [
            "\n",
            "      Epoch    GPU_mem   box_loss   cls_loss   dfl_loss  Instances       Size\n"
          ]
        },
        {
          "output_type": "stream",
          "name": "stderr",
          "text": [
            "     82/100      3.93G      0.605     0.5575       1.08         13        640: 100%|██████████| 185/185 [00:54<00:00,  3.42it/s]\n",
            "                 Class     Images  Instances      Box(P          R      mAP50  mAP50-95): 100%|██████████| 24/24 [00:06<00:00,  3.72it/s]"
          ]
        },
        {
          "output_type": "stream",
          "name": "stdout",
          "text": [
            "                   all        738       1001      0.983      0.975      0.983      0.888\n"
          ]
        },
        {
          "output_type": "stream",
          "name": "stderr",
          "text": [
            "\n"
          ]
        },
        {
          "output_type": "stream",
          "name": "stdout",
          "text": [
            "\n",
            "      Epoch    GPU_mem   box_loss   cls_loss   dfl_loss  Instances       Size\n"
          ]
        },
        {
          "output_type": "stream",
          "name": "stderr",
          "text": [
            "     83/100      3.95G     0.5999     0.5607      1.076         11        640: 100%|██████████| 185/185 [00:54<00:00,  3.40it/s]\n",
            "                 Class     Images  Instances      Box(P          R      mAP50  mAP50-95): 100%|██████████| 24/24 [00:05<00:00,  4.02it/s]"
          ]
        },
        {
          "output_type": "stream",
          "name": "stdout",
          "text": [
            "                   all        738       1001      0.983      0.976      0.985      0.886\n"
          ]
        },
        {
          "output_type": "stream",
          "name": "stderr",
          "text": [
            "\n"
          ]
        },
        {
          "output_type": "stream",
          "name": "stdout",
          "text": [
            "\n",
            "      Epoch    GPU_mem   box_loss   cls_loss   dfl_loss  Instances       Size\n"
          ]
        },
        {
          "output_type": "stream",
          "name": "stderr",
          "text": [
            "     84/100      3.95G     0.5969     0.5531      1.072         12        640: 100%|██████████| 185/185 [00:54<00:00,  3.42it/s]\n",
            "                 Class     Images  Instances      Box(P          R      mAP50  mAP50-95): 100%|██████████| 24/24 [00:07<00:00,  3.29it/s]"
          ]
        },
        {
          "output_type": "stream",
          "name": "stdout",
          "text": [
            "                   all        738       1001      0.984      0.977      0.983      0.884\n"
          ]
        },
        {
          "output_type": "stream",
          "name": "stderr",
          "text": [
            "\n"
          ]
        },
        {
          "output_type": "stream",
          "name": "stdout",
          "text": [
            "\n",
            "      Epoch    GPU_mem   box_loss   cls_loss   dfl_loss  Instances       Size\n"
          ]
        },
        {
          "output_type": "stream",
          "name": "stderr",
          "text": [
            "     85/100      3.98G     0.5902     0.5431      1.067         15        640: 100%|██████████| 185/185 [00:53<00:00,  3.47it/s]\n",
            "                 Class     Images  Instances      Box(P          R      mAP50  mAP50-95): 100%|██████████| 24/24 [00:07<00:00,  3.26it/s]"
          ]
        },
        {
          "output_type": "stream",
          "name": "stdout",
          "text": [
            "                   all        738       1001      0.985      0.973      0.986       0.89\n"
          ]
        },
        {
          "output_type": "stream",
          "name": "stderr",
          "text": [
            "\n"
          ]
        },
        {
          "output_type": "stream",
          "name": "stdout",
          "text": [
            "\n",
            "      Epoch    GPU_mem   box_loss   cls_loss   dfl_loss  Instances       Size\n"
          ]
        },
        {
          "output_type": "stream",
          "name": "stderr",
          "text": [
            "     86/100         4G     0.5885     0.5385      1.064         20        640: 100%|██████████| 185/185 [00:55<00:00,  3.31it/s]\n",
            "                 Class     Images  Instances      Box(P          R      mAP50  mAP50-95): 100%|██████████| 24/24 [00:06<00:00,  3.95it/s]"
          ]
        },
        {
          "output_type": "stream",
          "name": "stdout",
          "text": [
            "                   all        738       1001      0.989      0.972      0.986      0.893\n"
          ]
        },
        {
          "output_type": "stream",
          "name": "stderr",
          "text": [
            "\n"
          ]
        },
        {
          "output_type": "stream",
          "name": "stdout",
          "text": [
            "\n",
            "      Epoch    GPU_mem   box_loss   cls_loss   dfl_loss  Instances       Size\n"
          ]
        },
        {
          "output_type": "stream",
          "name": "stderr",
          "text": [
            "     87/100      4.02G     0.5782     0.5284      1.066          9        640: 100%|██████████| 185/185 [00:54<00:00,  3.40it/s]\n",
            "                 Class     Images  Instances      Box(P          R      mAP50  mAP50-95): 100%|██████████| 24/24 [00:07<00:00,  3.28it/s]"
          ]
        },
        {
          "output_type": "stream",
          "name": "stdout",
          "text": [
            "                   all        738       1001       0.99      0.974      0.985      0.898\n"
          ]
        },
        {
          "output_type": "stream",
          "name": "stderr",
          "text": [
            "\n"
          ]
        },
        {
          "output_type": "stream",
          "name": "stdout",
          "text": [
            "\n",
            "      Epoch    GPU_mem   box_loss   cls_loss   dfl_loss  Instances       Size\n"
          ]
        },
        {
          "output_type": "stream",
          "name": "stderr",
          "text": [
            "     88/100      4.02G     0.5878     0.5412      1.064          9        640: 100%|██████████| 185/185 [00:53<00:00,  3.49it/s]\n",
            "                 Class     Images  Instances      Box(P          R      mAP50  mAP50-95): 100%|██████████| 24/24 [00:07<00:00,  3.27it/s]"
          ]
        },
        {
          "output_type": "stream",
          "name": "stdout",
          "text": [
            "                   all        738       1001      0.989      0.976      0.984      0.894\n"
          ]
        },
        {
          "output_type": "stream",
          "name": "stderr",
          "text": [
            "\n"
          ]
        },
        {
          "output_type": "stream",
          "name": "stdout",
          "text": [
            "\n",
            "      Epoch    GPU_mem   box_loss   cls_loss   dfl_loss  Instances       Size\n"
          ]
        },
        {
          "output_type": "stream",
          "name": "stderr",
          "text": [
            "     89/100      4.05G     0.5705     0.5259      1.059         12        640: 100%|██████████| 185/185 [00:54<00:00,  3.39it/s]\n",
            "                 Class     Images  Instances      Box(P          R      mAP50  mAP50-95): 100%|██████████| 24/24 [00:06<00:00,  3.97it/s]"
          ]
        },
        {
          "output_type": "stream",
          "name": "stdout",
          "text": [
            "                   all        738       1001      0.991      0.973      0.983      0.901\n"
          ]
        },
        {
          "output_type": "stream",
          "name": "stderr",
          "text": [
            "\n"
          ]
        },
        {
          "output_type": "stream",
          "name": "stdout",
          "text": [
            "\n",
            "      Epoch    GPU_mem   box_loss   cls_loss   dfl_loss  Instances       Size\n"
          ]
        },
        {
          "output_type": "stream",
          "name": "stderr",
          "text": [
            "     90/100      4.07G     0.5683     0.5285      1.059         12        640: 100%|██████████| 185/185 [00:54<00:00,  3.42it/s]\n",
            "                 Class     Images  Instances      Box(P          R      mAP50  mAP50-95): 100%|██████████| 24/24 [00:06<00:00,  3.65it/s]"
          ]
        },
        {
          "output_type": "stream",
          "name": "stdout",
          "text": [
            "                   all        738       1001       0.99      0.974      0.984      0.896\n"
          ]
        },
        {
          "output_type": "stream",
          "name": "stderr",
          "text": [
            "\n"
          ]
        },
        {
          "output_type": "stream",
          "name": "stdout",
          "text": [
            "Closing dataloader mosaic\n",
            "\u001b[34m\u001b[1malbumentations: \u001b[0mBlur(p=0.01, blur_limit=(3, 7)), MedianBlur(p=0.01, blur_limit=(3, 7)), ToGray(p=0.01, method='weighted_average', num_output_channels=3), CLAHE(p=0.01, clip_limit=(1.0, 4.0), tile_grid_size=(8, 8))\n",
            "\n",
            "      Epoch    GPU_mem   box_loss   cls_loss   dfl_loss  Instances       Size\n"
          ]
        },
        {
          "output_type": "stream",
          "name": "stderr",
          "text": [
            "     91/100      4.08G     0.3979     0.3226     0.9887          9        640: 100%|██████████| 185/185 [00:52<00:00,  3.53it/s]\n",
            "                 Class     Images  Instances      Box(P          R      mAP50  mAP50-95): 100%|██████████| 24/24 [00:07<00:00,  3.18it/s]"
          ]
        },
        {
          "output_type": "stream",
          "name": "stdout",
          "text": [
            "                   all        738       1001       0.99      0.977      0.984      0.892\n"
          ]
        },
        {
          "output_type": "stream",
          "name": "stderr",
          "text": [
            "\n"
          ]
        },
        {
          "output_type": "stream",
          "name": "stdout",
          "text": [
            "\n",
            "      Epoch    GPU_mem   box_loss   cls_loss   dfl_loss  Instances       Size\n"
          ]
        },
        {
          "output_type": "stream",
          "name": "stderr",
          "text": [
            "     92/100      4.09G     0.3758     0.2931     0.9795          3        640: 100%|██████████| 185/185 [00:49<00:00,  3.75it/s]\n",
            "                 Class     Images  Instances      Box(P          R      mAP50  mAP50-95): 100%|██████████| 24/24 [00:07<00:00,  3.28it/s]"
          ]
        },
        {
          "output_type": "stream",
          "name": "stdout",
          "text": [
            "                   all        738       1001      0.989      0.973      0.982      0.894\n"
          ]
        },
        {
          "output_type": "stream",
          "name": "stderr",
          "text": [
            "\n"
          ]
        },
        {
          "output_type": "stream",
          "name": "stdout",
          "text": [
            "\n",
            "      Epoch    GPU_mem   box_loss   cls_loss   dfl_loss  Instances       Size\n"
          ]
        },
        {
          "output_type": "stream",
          "name": "stderr",
          "text": [
            "     93/100      4.12G     0.3632     0.2792     0.9646          4        640: 100%|██████████| 185/185 [00:48<00:00,  3.78it/s]\n",
            "                 Class     Images  Instances      Box(P          R      mAP50  mAP50-95): 100%|██████████| 24/24 [00:07<00:00,  3.25it/s]"
          ]
        },
        {
          "output_type": "stream",
          "name": "stdout",
          "text": [
            "                   all        738       1001      0.992      0.975      0.984      0.902\n"
          ]
        },
        {
          "output_type": "stream",
          "name": "stderr",
          "text": [
            "\n"
          ]
        },
        {
          "output_type": "stream",
          "name": "stdout",
          "text": [
            "\n",
            "      Epoch    GPU_mem   box_loss   cls_loss   dfl_loss  Instances       Size\n"
          ]
        },
        {
          "output_type": "stream",
          "name": "stderr",
          "text": [
            "     94/100      4.13G     0.3596     0.2773     0.9584          6        640: 100%|██████████| 185/185 [00:48<00:00,  3.79it/s]\n",
            "                 Class     Images  Instances      Box(P          R      mAP50  mAP50-95): 100%|██████████| 24/24 [00:06<00:00,  3.51it/s]"
          ]
        },
        {
          "output_type": "stream",
          "name": "stdout",
          "text": [
            "                   all        738       1001      0.986      0.974      0.984      0.903\n"
          ]
        },
        {
          "output_type": "stream",
          "name": "stderr",
          "text": [
            "\n"
          ]
        },
        {
          "output_type": "stream",
          "name": "stdout",
          "text": [
            "\n",
            "      Epoch    GPU_mem   box_loss   cls_loss   dfl_loss  Instances       Size\n"
          ]
        },
        {
          "output_type": "stream",
          "name": "stderr",
          "text": [
            "     95/100      4.15G     0.3576     0.2712     0.9598          4        640: 100%|██████████| 185/185 [00:49<00:00,  3.76it/s]\n",
            "                 Class     Images  Instances      Box(P          R      mAP50  mAP50-95): 100%|██████████| 24/24 [00:06<00:00,  3.67it/s]"
          ]
        },
        {
          "output_type": "stream",
          "name": "stdout",
          "text": [
            "                   all        738       1001      0.989      0.979      0.986      0.905\n"
          ]
        },
        {
          "output_type": "stream",
          "name": "stderr",
          "text": [
            "\n"
          ]
        },
        {
          "output_type": "stream",
          "name": "stdout",
          "text": [
            "\n",
            "      Epoch    GPU_mem   box_loss   cls_loss   dfl_loss  Instances       Size\n"
          ]
        },
        {
          "output_type": "stream",
          "name": "stderr",
          "text": [
            "     96/100      4.16G      0.348     0.2698      0.957          6        640: 100%|██████████| 185/185 [00:49<00:00,  3.75it/s]\n",
            "                 Class     Images  Instances      Box(P          R      mAP50  mAP50-95): 100%|██████████| 24/24 [00:06<00:00,  3.87it/s]"
          ]
        },
        {
          "output_type": "stream",
          "name": "stdout",
          "text": [
            "                   all        738       1001      0.991      0.974      0.983      0.904\n"
          ]
        },
        {
          "output_type": "stream",
          "name": "stderr",
          "text": [
            "\n"
          ]
        },
        {
          "output_type": "stream",
          "name": "stdout",
          "text": [
            "\n",
            "      Epoch    GPU_mem   box_loss   cls_loss   dfl_loss  Instances       Size\n"
          ]
        },
        {
          "output_type": "stream",
          "name": "stderr",
          "text": [
            "     97/100      4.18G     0.3465     0.2584     0.9529          4        640: 100%|██████████| 185/185 [00:50<00:00,  3.66it/s]\n",
            "                 Class     Images  Instances      Box(P          R      mAP50  mAP50-95): 100%|██████████| 24/24 [00:06<00:00,  3.85it/s]"
          ]
        },
        {
          "output_type": "stream",
          "name": "stdout",
          "text": [
            "                   all        738       1001       0.99       0.98      0.984      0.911\n"
          ]
        },
        {
          "output_type": "stream",
          "name": "stderr",
          "text": [
            "\n"
          ]
        },
        {
          "output_type": "stream",
          "name": "stdout",
          "text": [
            "\n",
            "      Epoch    GPU_mem   box_loss   cls_loss   dfl_loss  Instances       Size\n"
          ]
        },
        {
          "output_type": "stream",
          "name": "stderr",
          "text": [
            "     98/100       4.2G     0.3405     0.2595     0.9485          4        640: 100%|██████████| 185/185 [00:50<00:00,  3.68it/s]\n",
            "                 Class     Images  Instances      Box(P          R      mAP50  mAP50-95): 100%|██████████| 24/24 [00:06<00:00,  3.99it/s]"
          ]
        },
        {
          "output_type": "stream",
          "name": "stdout",
          "text": [
            "                   all        738       1001       0.99      0.978      0.984      0.913\n"
          ]
        },
        {
          "output_type": "stream",
          "name": "stderr",
          "text": [
            "\n"
          ]
        },
        {
          "output_type": "stream",
          "name": "stdout",
          "text": [
            "\n",
            "      Epoch    GPU_mem   box_loss   cls_loss   dfl_loss  Instances       Size\n"
          ]
        },
        {
          "output_type": "stream",
          "name": "stderr",
          "text": [
            "     99/100      4.22G     0.3387     0.2557     0.9505          5        640: 100%|██████████| 185/185 [00:50<00:00,  3.66it/s]\n",
            "                 Class     Images  Instances      Box(P          R      mAP50  mAP50-95): 100%|██████████| 24/24 [00:05<00:00,  4.13it/s]"
          ]
        },
        {
          "output_type": "stream",
          "name": "stdout",
          "text": [
            "                   all        738       1001      0.991       0.98      0.985      0.913\n"
          ]
        },
        {
          "output_type": "stream",
          "name": "stderr",
          "text": [
            "\n"
          ]
        },
        {
          "output_type": "stream",
          "name": "stdout",
          "text": [
            "\n",
            "      Epoch    GPU_mem   box_loss   cls_loss   dfl_loss  Instances       Size\n"
          ]
        },
        {
          "output_type": "stream",
          "name": "stderr",
          "text": [
            "    100/100      4.22G     0.3335       0.25     0.9438          4        640: 100%|██████████| 185/185 [00:50<00:00,  3.63it/s]\n",
            "                 Class     Images  Instances      Box(P          R      mAP50  mAP50-95): 100%|██████████| 24/24 [00:06<00:00,  4.00it/s]"
          ]
        },
        {
          "output_type": "stream",
          "name": "stdout",
          "text": [
            "                   all        738       1001       0.99      0.979      0.985      0.916\n"
          ]
        },
        {
          "output_type": "stream",
          "name": "stderr",
          "text": [
            "\n"
          ]
        },
        {
          "output_type": "stream",
          "name": "stdout",
          "text": [
            "\n",
            "100 epochs completed in 1.705 hours.\n",
            "Optimizer stripped from runs/detect/train2/weights/last.pt, 6.3MB\n",
            "Optimizer stripped from runs/detect/train2/weights/best.pt, 6.3MB\n",
            "\n",
            "Validating runs/detect/train2/weights/best.pt...\n",
            "Ultralytics 8.3.152 🚀 Python-3.11.13 torch-2.6.0+cu124 CUDA:0 (Tesla T4, 15095MiB)\n",
            "Model summary (fused): 72 layers, 3,007,988 parameters, 0 gradients, 8.1 GFLOPs\n"
          ]
        },
        {
          "output_type": "stream",
          "name": "stderr",
          "text": [
            "                 Class     Images  Instances      Box(P          R      mAP50  mAP50-95): 100%|██████████| 24/24 [00:09<00:00,  2.62it/s]\n"
          ]
        },
        {
          "output_type": "stream",
          "name": "stdout",
          "text": [
            "                   all        738       1001       0.99      0.979      0.985      0.915\n",
            "          Casual_Jeans         65         65      0.995          1      0.995      0.963\n",
            "       Casual_Sneakers         48         83      0.965      0.916      0.975       0.85\n",
            "            Casual_Top         87         90          1      0.944      0.971      0.883\n",
            "        Corporate_Gown         67         70          1      0.986      0.987      0.936\n",
            "        Corporate_Shoe         78         99          1      0.966      0.987      0.863\n",
            "       Corporate_Skirt        100        107      0.994      0.972       0.98      0.933\n",
            "         Corporate_Top        113        116          1          1      0.995      0.937\n",
            "     Corporate_Trouser        108        116          1      0.996      0.995      0.913\n",
            "                Native         33         33      0.994          1      0.995      0.934\n",
            "                Shorts         62         79      0.996          1      0.995      0.961\n",
            "                 Suits         66         71      0.957          1       0.96      0.914\n",
            "                   Tie         47         72      0.982      0.972      0.978      0.896\n",
            "Speed: 0.3ms preprocess, 2.5ms inference, 0.0ms loss, 3.5ms postprocess per image\n",
            "Results saved to \u001b[1mruns/detect/train2\u001b[0m\n"
          ]
        }
      ]
    },
    {
      "cell_type": "code",
      "source": [
        "# Zip the entire train2 folder\n",
        "!zip -r train2.zip /content/runs/detect/train2\n",
        "\n",
        "# Download the zipped folder\n",
        "from google.colab import files\n",
        "files.download(\"train2.zip\")\n"
      ],
      "metadata": {
        "colab": {
          "base_uri": "https://localhost:8080/",
          "height": 485
        },
        "id": "E62IbYed1YmV",
        "outputId": "2745bb4f-ef92-4f98-e2ce-4e0fe76b25b2"
      },
      "execution_count": 8,
      "outputs": [
        {
          "output_type": "stream",
          "name": "stdout",
          "text": [
            "  adding: content/runs/detect/train2/ (stored 0%)\n",
            "  adding: content/runs/detect/train2/val_batch2_pred.jpg (deflated 6%)\n",
            "  adding: content/runs/detect/train2/val_batch2_labels.jpg (deflated 7%)\n",
            "  adding: content/runs/detect/train2/val_batch0_pred.jpg (deflated 5%)\n",
            "  adding: content/runs/detect/train2/args.yaml (deflated 52%)\n",
            "  adding: content/runs/detect/train2/val_batch1_labels.jpg (deflated 11%)\n",
            "  adding: content/runs/detect/train2/train_batch16650.jpg (deflated 8%)\n",
            "  adding: content/runs/detect/train2/P_curve.png (deflated 13%)\n",
            "  adding: content/runs/detect/train2/train_batch2.jpg (deflated 3%)\n",
            "  adding: content/runs/detect/train2/train_batch16651.jpg (deflated 10%)\n",
            "  adding: content/runs/detect/train2/confusion_matrix.png (deflated 20%)\n",
            "  adding: content/runs/detect/train2/PR_curve.png (deflated 16%)\n",
            "  adding: content/runs/detect/train2/results.csv (deflated 62%)\n",
            "  adding: content/runs/detect/train2/F1_curve.png (deflated 9%)\n",
            "  adding: content/runs/detect/train2/val_batch0_labels.jpg (deflated 5%)\n",
            "  adding: content/runs/detect/train2/weights/ (stored 0%)\n",
            "  adding: content/runs/detect/train2/weights/best.pt (deflated 9%)\n",
            "  adding: content/runs/detect/train2/weights/last.pt (deflated 9%)\n",
            "  adding: content/runs/detect/train2/val_batch1_pred.jpg (deflated 11%)\n",
            "  adding: content/runs/detect/train2/results.png (deflated 8%)\n",
            "  adding: content/runs/detect/train2/labels.jpg (deflated 27%)\n",
            "  adding: content/runs/detect/train2/R_curve.png (deflated 10%)\n",
            "  adding: content/runs/detect/train2/train_batch1.jpg (deflated 4%)\n",
            "  adding: content/runs/detect/train2/train_batch16652.jpg (deflated 9%)\n",
            "  adding: content/runs/detect/train2/confusion_matrix_normalized.png (deflated 18%)\n",
            "  adding: content/runs/detect/train2/train_batch0.jpg (deflated 2%)\n",
            "  adding: content/runs/detect/train2/labels_correlogram.jpg (deflated 32%)\n"
          ]
        },
        {
          "output_type": "display_data",
          "data": {
            "text/plain": [
              "<IPython.core.display.Javascript object>"
            ],
            "application/javascript": [
              "\n",
              "    async function download(id, filename, size) {\n",
              "      if (!google.colab.kernel.accessAllowed) {\n",
              "        return;\n",
              "      }\n",
              "      const div = document.createElement('div');\n",
              "      const label = document.createElement('label');\n",
              "      label.textContent = `Downloading \"${filename}\": `;\n",
              "      div.appendChild(label);\n",
              "      const progress = document.createElement('progress');\n",
              "      progress.max = size;\n",
              "      div.appendChild(progress);\n",
              "      document.body.appendChild(div);\n",
              "\n",
              "      const buffers = [];\n",
              "      let downloaded = 0;\n",
              "\n",
              "      const channel = await google.colab.kernel.comms.open(id);\n",
              "      // Send a message to notify the kernel that we're ready.\n",
              "      channel.send({})\n",
              "\n",
              "      for await (const message of channel.messages) {\n",
              "        // Send a message to notify the kernel that we're ready.\n",
              "        channel.send({})\n",
              "        if (message.buffers) {\n",
              "          for (const buffer of message.buffers) {\n",
              "            buffers.push(buffer);\n",
              "            downloaded += buffer.byteLength;\n",
              "            progress.value = downloaded;\n",
              "          }\n",
              "        }\n",
              "      }\n",
              "      const blob = new Blob(buffers, {type: 'application/binary'});\n",
              "      const a = document.createElement('a');\n",
              "      a.href = window.URL.createObjectURL(blob);\n",
              "      a.download = filename;\n",
              "      div.appendChild(a);\n",
              "      a.click();\n",
              "      div.remove();\n",
              "    }\n",
              "  "
            ]
          },
          "metadata": {}
        },
        {
          "output_type": "display_data",
          "data": {
            "text/plain": [
              "<IPython.core.display.Javascript object>"
            ],
            "application/javascript": [
              "download(\"download_323d0b49-601b-4c53-9245-d5007961748b\", \"train2.zip\", 20800087)"
            ]
          },
          "metadata": {}
        }
      ]
    }
  ]
}